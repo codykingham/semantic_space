{
 "cells": [
  {
   "cell_type": "markdown",
   "metadata": {},
   "source": [
    "# Phase 2, Initial Experiments\n",
    "\n",
    "In this notebook, I will use the experiment and semspace classes developed out of phase 1 of this project. The principal goals of phase 2, in this notebook, are as follow:\n",
    "\n",
    "* Create a semantic space for verbs based on their inner-clause arguments.\n",
    "* If all goes well with the verb space, use the verb space to enhance the noun space created during phase 1. See whether or not the addition of the verb space improves the results. \n",
    "\n",
    "All of the spaces in this notebook are generated using a variety of Experiment classes defined in [project_code/experiments](project_code/experiments.py). These classes allow target word and basis selection to be fine tuned and modified while preserving previous versions of the experiment parameters. A target word is a word that is included in the space. A basis is the context element that occurs with the given target word, be it a prepositional phrase with a function of 'adjunct' or a noun phrase with a function of 'object'. Bases can be lexemes contained in the context element; but they can also be combinations of lexemes combined with their phrase function, part of speech, or coordinate nouns within the phrase.\n",
    "\n",
    "There are two versions of classes used in this notebook to produce the results:\n",
    "\n",
    "* Experiment - Experiment and its daughter classes load and deliver results from the ETCBC BHSA database.\n",
    "* SemSpace - Semspace converts experiment data into a semantic space that can be plotted and examined."
   ]
  },
  {
   "cell_type": "code",
   "execution_count": null,
   "metadata": {},
   "outputs": [],
   "source": []
  }
 ],
 "metadata": {
  "kernelspec": {
   "display_name": "Python 3",
   "language": "python",
   "name": "python3"
  },
  "language_info": {
   "codemirror_mode": {
    "name": "ipython",
    "version": 3
   },
   "file_extension": ".py",
   "mimetype": "text/x-python",
   "name": "python",
   "nbconvert_exporter": "python",
   "pygments_lexer": "ipython3",
   "version": "3.6.3"
  }
 },
 "nbformat": 4,
 "nbformat_minor": 2
}
