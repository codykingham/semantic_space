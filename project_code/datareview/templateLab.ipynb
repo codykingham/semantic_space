{
 "cells": [
  {
   "cell_type": "markdown",
   "metadata": {},
   "source": [
    "# Template Lab\n",
    "\n",
    "Evaluating and constructing TF search templates"
   ]
  },
  {
   "cell_type": "code",
   "execution_count": 1,
   "metadata": {},
   "outputs": [
    {
     "name": "stdout",
     "output_type": "stream",
     "text": [
      "This is Text-Fabric 4.3.4\n",
      "Api reference : https://dans-labs.github.io/text-fabric/Api/General/\n",
      "Tutorial      : https://github.com/Dans-labs/text-fabric/blob/master/docs/tutorial.ipynb\n",
      "Example data  : https://github.com/Dans-labs/text-fabric-data\n",
      "\n",
      "118 features found and 0 ignored\n"
     ]
    },
    {
     "data": {
      "text/markdown": [
       "**Documentation:** <a target=\"_blank\" href=\"https://etcbc.github.io/bhsa\" title=\"{provenance of this corpus}\">BHSA</a> <a target=\"_blank\" href=\"https://etcbc.github.io/bhsa/features/hebrew/c/0_home.html\" title=\"{CORPUS} feature documentation\">Feature docs</a> <a target=\"_blank\" href=\"https://dans-labs.github.io/text-fabric/Api/Bhsa/\" title=\"BHSA API documentation\">BHSA API</a> <a target=\"_blank\" href=\"https://dans-labs.github.io/text-fabric/Api/General/\" title=\"text-fabric-api\">Text-Fabric API 4.3.4</a> <a target=\"_blank\" href=\"https://dans-labs.github.io/text-fabric/Api/General/#search-templates\" title=\"Search Templates Introduction and Reference\">Search Reference</a>"
      ],
      "text/plain": [
       "<IPython.core.display.Markdown object>"
      ]
     },
     "metadata": {},
     "output_type": "display_data"
    },
    {
     "data": {
      "text/markdown": [
       "\n",
       "This notebook online:\n",
       "<a target=\"_blank\" href=\"http://nbviewer.jupyter.org/github/verb_semantics/project_code/blob/master/datareview/.ipynb\">NBViewer</a>\n",
       "<a target=\"_blank\" href=\"https://github.com/verb_semantics/project_code/blob/master/datareview/.ipynb\">GitHub</a>\n"
      ],
      "text/plain": [
       "<IPython.core.display.Markdown object>"
      ]
     },
     "metadata": {},
     "output_type": "display_data"
    },
    {
     "data": {
      "text/html": [
       "\n",
       "<style>\n",
       ".verse {\n",
       "    display: flex;\n",
       "    flex-flow: row wrap;\n",
       "    direction: rtl;\n",
       "}\n",
       ".vl {\n",
       "    display: flex;\n",
       "    flex-flow: column nowrap;\n",
       "    direction: ltr;\n",
       "}\n",
       ".sentence,.clause,.phrase {\n",
       "    margin-top: -1.2em;\n",
       "    margin-left: 1em;\n",
       "    background: #ffffff none repeat scroll 0 0;\n",
       "    padding: 0 0.3em;\n",
       "    border-style: solid;\n",
       "    border-radius: 0.2em;\n",
       "    font-size: small;\n",
       "    display: block;\n",
       "    width: fit-content;\n",
       "    max-width: fit-content;\n",
       "    direction: ltr;\n",
       "}\n",
       ".atoms {\n",
       "    display: flex;\n",
       "    flex-flow: row wrap;\n",
       "    margin: 0.3em;\n",
       "    padding: 0.3em;\n",
       "    direction: rtl;\n",
       "    background-color: #ffffff;\n",
       "}\n",
       ".satom,.catom,.patom {\n",
       "    margin: 0.3em;\n",
       "    padding: 0.3em;\n",
       "    border-radius: 0.3em;\n",
       "    border-style: solid;\n",
       "    display: flex;\n",
       "    flex-flow: column nowrap;\n",
       "    direction: rtl;\n",
       "    background-color: #ffffff;\n",
       "}\n",
       ".sentence {\n",
       "    border-color: #aa3333;\n",
       "    border-width: 1px;\n",
       "}\n",
       ".clause {\n",
       "    border-color: #aaaa33;\n",
       "    border-width: 1px;\n",
       "}\n",
       ".phrase {\n",
       "    border-color: #33aaaa;\n",
       "    border-width: 1px;\n",
       "}\n",
       ".satom {\n",
       "    border-color: #aa3333;\n",
       "    border-width: 4px;\n",
       "}\n",
       ".catom {\n",
       "    border-color: #aaaa33;\n",
       "    border-width: 3px;\n",
       "}\n",
       ".patom {\n",
       "    border-color: #33aaaa;\n",
       "    border-width: 3px;\n",
       "}\n",
       ".word {\n",
       "    padding: 0.1em;\n",
       "    margin: 0.1em;\n",
       "    border-radius: 0.1em;\n",
       "    border: 1px solid #cccccc;\n",
       "    display: flex;\n",
       "    flex-flow: column nowrap;\n",
       "    direction: rtl;\n",
       "    background-color: #ffffff;\n",
       "}\n",
       ".lex {\n",
       "    padding: 0.1em;\n",
       "    margin: 0.1em;\n",
       "    border-radius: 0.1em;\n",
       "    border: 2px solid #888888;\n",
       "    width: fit-content;\n",
       "    display: flex;\n",
       "    flex-flow: column nowrap;\n",
       "    direction: rtl;\n",
       "    background-color: #ffffff;\n",
       "}\n",
       ".satom.l,.catom.l,.patom.l {\n",
       "    border-left-style: dotted\n",
       "}\n",
       ".satom.r,.catom.r,.patom.r {\n",
       "    border-right-style: dotted\n",
       "}\n",
       ".satom.L,.catom.L,.patom.L {\n",
       "    border-left-style: none\n",
       "}\n",
       ".satom.R,.catom.R,.patom.R {\n",
       "    border-right-style: none\n",
       "}\n",
       ".h,.h :visited,.h :link {\n",
       "    font-family: \"Ezra SIL\", \"SBL Hebrew\", sans-serif;\n",
       "    font-size: large;\n",
       "    color: #000044;\n",
       "    direction: rtl;\n",
       "    text-decoration: none;\n",
       "}\n",
       ".rela,.function,.typ {\n",
       "    font-family: monospace;\n",
       "    font-size: small;\n",
       "    color: #0000bb;\n",
       "}\n",
       ".sp,.sp :visited,.sp :link {\n",
       "    font-family: monospace;\n",
       "    font-size: medium;\n",
       "    color: #0000bb;\n",
       "    text-decoration: none;\n",
       "}\n",
       ".vl {\n",
       "    font-family: monospace;\n",
       "    font-size: medium;\n",
       "    color: #0000bb;\n",
       "}\n",
       ".vvs {\n",
       "    font-family: monospace;\n",
       "    font-size: medium;\n",
       "    font-weight: bold;\n",
       "    color: #0000bb;\n",
       "}\n",
       ".vvt {\n",
       "    font-family: monospace;\n",
       "    font-size: medium;\n",
       "    color: #0000bb;\n",
       "}\n",
       ".gl {\n",
       "    font-family: sans-serif;\n",
       "    font-size: small;\n",
       "    color: #aaaaaa;\n",
       "}\n",
       ".vs {\n",
       "    font-family: sans-serif;\n",
       "    font-size: small;\n",
       "    font-weight: bold;\n",
       "    color: #444444;\n",
       "}\n",
       ".nd {\n",
       "    font-family: monospace;\n",
       "    font-size: x-small;\n",
       "    color: #999999;\n",
       "}\n",
       ".feat {\n",
       "    font-family: monospace;\n",
       "    font-size: medium;\n",
       "    font-weight: bold;\n",
       "    color: #0a6611;\n",
       "}\n",
       ".feat .f {\n",
       "    font-family: sans-serif;\n",
       "    font-size: x-small;\n",
       "    color: #5555bb;\n",
       "}\n",
       ".hl {\n",
       "    background-color: #ffee66;\n",
       "}\n",
       "</style>\n"
      ],
      "text/plain": [
       "<IPython.core.display.HTML object>"
      ]
     },
     "metadata": {},
     "output_type": "display_data"
    }
   ],
   "source": [
    "import collections, os, sys, random, re\n",
    "from tf.fabric import Fabric\n",
    "from tf.extra.bhsa import Bhsa\n",
    "os.sys.path.append('..')\n",
    "from experiments2 import Experiment\n",
    "from semspace import SemSpace\n",
    "\n",
    "bhsa_data_paths=['~/github/etcbc/bhsa/tf/c',\n",
    "                 '~/github/verb_semantics/project_code/lingo/heads/tf/c',\n",
    "                 '~/github/verb_semantics/project_code/sdbh']\n",
    "\n",
    "TF = Fabric(bhsa_data_paths)\n",
    "tf_api = TF.load('''\n",
    "                function lex vs language\n",
    "                pdp freq_lex gloss domain ls\n",
    "                mother rela typ sp st code txt\n",
    "                heads prep_obj\n",
    "                prs prs_gn prs_nu prs_ps\n",
    "                sem_domain sem_domain_code\n",
    "              ''', silent=True)\n",
    "\n",
    "tf_api.makeAvailableIn(globals())\n",
    "B = Bhsa(api=tf_api, name='', version='c')"
   ]
  },
  {
   "cell_type": "code",
   "execution_count": 4,
   "metadata": {},
   "outputs": [
    {
     "name": "stdout",
     "output_type": "stream",
     "text": [
      "57070 results\n"
     ]
    }
   ],
   "source": [
    "test = B.search('''\n",
    "\n",
    "#here is a test note\n",
    "\n",
    "clause\n",
    "    phrase function=Pred\n",
    "\n",
    "''')"
   ]
  },
  {
   "cell_type": "code",
   "execution_count": 6,
   "metadata": {},
   "outputs": [],
   "source": [
    "# standard predicate target template\n",
    "pred_target = '''\n",
    "c1:clause\n",
    "    phrase function={pred_funct}\n",
    "        target:word pdp=verb language=Hebrew\n",
    "\n",
    "{basis}\n",
    "\n",
    "lex freq_lex>9\n",
    "   lexword:word \n",
    "   lexword = target\n",
    "'''\n",
    "\n",
    "\n",
    "vf_allarg_clRela_CmpAdju_prep = pred_target.format(basis='''\n",
    "\n",
    "c2:clause rela=Cmpl|Adju kind=VC\n",
    "    p1:phrase typ=VP\n",
    "        w1:word pdp=prep\n",
    "        w2:word pdp=verb\n",
    "    \n",
    "c2 -mother> c1\n",
    "c2 =: p1\n",
    "p1 -heads> w2\n",
    "w1 <: w2\n",
    "''', pred_funct='Pred|PreS')\n",
    "\n",
    "vf_allarg_clRela_CmpAdju_verb = pred_target.format(basis='''\n",
    "\n",
    "c2:clause rela=Cmpl|Adju kind=VC\n",
    "    p1:phrase typ=VP\n",
    "        w1:word pdp=verb\n",
    "    \n",
    "c2 -mother> c1\n",
    "p1 -heads> w1\n",
    "p1 =: w1\n",
    "p1 =: c2\n",
    "''', pred_funct='Pred|PreS')\n",
    "\n",
    "vf_allarg_clRela_CmpAdju_conj = pred_target.format(basis='''\n",
    "\n",
    "c2:clause rela=Cmpl|Adju kind=VC\n",
    "    phrase typ=CP\n",
    "    < phrase typ=VP\n",
    "        -heads> word pdp=verb\n",
    "    \n",
    "c2 -mother> c1\n",
    "''', pred_funct='Pred|PreS')\n",
    "\n",
    "vf_allarg_clRela_Objc_prep = pred_target.format(basis='''\n",
    "\n",
    "c2:clause rela=Objc kind=VC\n",
    "    p1:phrase typ=VP\n",
    "        w1:word pdp=prep\n",
    "        w2:word pdp=verb\n",
    "    \n",
    "c2 -mother> c1\n",
    "c2 =: p1\n",
    "p1 -heads> w2\n",
    "w1 <: w2\n",
    "''', pred_funct='Pred|PreS')\n",
    "\n",
    "vf_allarg_clRela_Objc_verb = pred_target.format(basis='''\n",
    "\n",
    "c2:clause rela=Objc kind=VC\n",
    "    p1:phrase typ=VP\n",
    "        w1:word pdp=verb\n",
    "    \n",
    "c2 -mother> c1\n",
    "c2 =: p1\n",
    "p1 -heads> w1\n",
    "p1 =: w1\n",
    "''', pred_funct='Pred|PreS')\n",
    "\n",
    "vf_allarg_clRela_Objc_VC_conj = pred_target.format(basis='''\n",
    "\n",
    "c2:clause rela=Objc kind=VC\n",
    "    phrase typ=CP\n",
    "    < phrase typ=VP\n",
    "        -heads> word pdp=verb\n",
    "\n",
    "c2 -mother> c1\n",
    "''', pred_funct='Pred|PreS')\n",
    "\n",
    "vf_allarg_clRela_Objc_NC_conj = pred_target.format(basis='''\n",
    "\n",
    "c2:clause rela=Objc kind~^(?!VC)\n",
    "    phrase typ=CP\n",
    "    < phrase function=PreC\n",
    "        -heads> word\n",
    "\n",
    "c2 -mother> c1\n",
    "''', pred_funct='Pred|PreS')"
   ]
  },
  {
   "cell_type": "code",
   "execution_count": 4,
   "metadata": {},
   "outputs": [
    {
     "name": "stdout",
     "output_type": "stream",
     "text": [
      "4744 adjcmpl clauses selected...\n",
      "985 obj clauses selected...\n"
     ]
    }
   ],
   "source": [
    "adjcmpl_patterns=\\\n",
    "(vf_allarg_clRela_CmpAdju_prep,\n",
    "vf_allarg_clRela_CmpAdju_verb,\n",
    "vf_allarg_clRela_CmpAdju_conj)\n",
    "\n",
    "obj_patterns=\\\n",
    "(vf_allarg_clRela_Objc_prep,\n",
    "vf_allarg_clRela_Objc_verb,\n",
    "vf_allarg_clRela_Objc_VC_conj,\n",
    "vf_allarg_clRela_Objc_NC_conj)\n",
    "\n",
    "adjcmpl_clauses = set()\n",
    "obj_clauses = set()\n",
    "\n",
    "\n",
    "for pattern in adjcmpl_patterns:\n",
    "    results = S.search(pattern)\n",
    "    results = [r[0] for r in results]\n",
    "    adjcmpl_clauses |= set(results)\n",
    "    \n",
    "for pattern in obj_patterns:\n",
    "    results = S.search(pattern)\n",
    "    results = [r[0] for r in results]\n",
    "    obj_clauses |= set(results)\n",
    "    \n",
    "print(f'{len(adjcmpl_clauses)} adjcmpl clauses selected...')\n",
    "print(f'{len(obj_clauses)} obj clauses selected...')"
   ]
  },
  {
   "cell_type": "code",
   "execution_count": 5,
   "metadata": {},
   "outputs": [
    {
     "name": "stdout",
     "output_type": "stream",
     "text": [
      "All 5071 adjcmpl clauses selected...\n",
      "All 1168 obj clauses selected...\n"
     ]
    }
   ],
   "source": [
    "all_adjcmpl = set(r[0] for r in S.search(pred_target.format(basis='''\n",
    "\n",
    "c2:clause rela=Cmpl|Adju\n",
    "\n",
    "c1 <mother- c2\n",
    "''', pred_funct='Pred|PreS')))\n",
    "\n",
    "all_obj = set(r[0] for r in S.search(pred_target.format(basis='''\n",
    "\n",
    "c2:clause rela=Objc\n",
    "\n",
    "c1 <mother- c2\n",
    "''', pred_funct='Pred|PreS')))\n",
    "\n",
    "print(f'All {len(all_adjcmpl)} adjcmpl clauses selected...')\n",
    "print(f'All {len(all_obj)} obj clauses selected...')"
   ]
  },
  {
   "cell_type": "code",
   "execution_count": 6,
   "metadata": {},
   "outputs": [
    {
     "name": "stdout",
     "output_type": "stream",
     "text": [
      "327 non matched adjunct clauses\n",
      "183 non matched object clauses\n"
     ]
    }
   ],
   "source": [
    "no_ac = all_adjcmpl - adjcmpl_clauses\n",
    "no_obj = all_obj - obj_clauses\n",
    "\n",
    "print(len(no_ac), 'non matched adjunct clauses')\n",
    "print(len(no_obj), 'non matched object clauses')"
   ]
  },
  {
   "cell_type": "code",
   "execution_count": 16,
   "metadata": {},
   "outputs": [],
   "source": [
    "# make counts of all the clause types\n",
    "\n",
    "no_ac_kinds = collections.Counter()\n",
    "no_obj_kinds = collections.Counter()\n",
    "ac_kinds = collections.Counter()\n",
    "obj_kinds = collections.Counter()\n",
    "\n",
    "for group, clauses, relas in ((no_ac_kinds, no_ac, {'Adju', 'Cmpl'}), \n",
    "                              (no_obj_kinds, no_obj, {'Objc'}),\n",
    "                              (ac_kinds, adjcmpl_clauses, {'Adju', 'Cmpl'}),\n",
    "                              (obj_kinds, obj_clauses, {'Objc'})\n",
    "                             ):\n",
    "    for mo_clause in clauses:\n",
    "        for clause in [d for d in E.mother.t(mo_clause) if F.rela.v(d) in relas]:      \n",
    "            phrases = '|'.join(F.function.v(ph) for ph in L.d(clause, 'phrase'))\n",
    "            clause_type = F.typ.v(clause)\n",
    "            name = f'{clause_type}\\t{phrases}'\n",
    "            group[name] += 1"
   ]
  },
  {
   "cell_type": "markdown",
   "metadata": {},
   "source": [
    "## New Tests"
   ]
  },
  {
   "cell_type": "code",
   "execution_count": 67,
   "metadata": {},
   "outputs": [
    {
     "name": "stdout",
     "output_type": "stream",
     "text": [
      "14 results\n"
     ]
    }
   ],
   "source": [
    "not_exist_CP = set(cl for cl in F.otype.s('clause') if 'CP' not in set(F.typ.v(ph) for ph in L.d(cl, 'phrase')))\n",
    "not_exist_PreC = set(cl for cl in F.otype.s('clause') if not {'PreC', 'Subj'} & set(F.function.v(ph) for ph in L.d(cl, 'phrase')))\n",
    "\n",
    "verbless = '''\n",
    "\n",
    "c1:clause\n",
    "    phrase function=Pred|PreS|PreO|PtcO\n",
    "\n",
    "c2:clauseNoPreC typ~^(?!Ellp|CPen|Reop) kind~^(?!VC) rela=Adju|Cmpl|Objc\n",
    "\n",
    "c1 <mother- c2\n",
    "'''\n",
    "\n",
    "verbless = B.search(verbless, sets={'clauseNoCP': not_exist_CP, 'clauseNoPreC': not_exist_PreC})"
   ]
  },
  {
   "cell_type": "code",
   "execution_count": 36,
   "metadata": {},
   "outputs": [
    {
     "name": "stdout",
     "output_type": "stream",
     "text": [
      "6 results\n"
     ]
    }
   ],
   "source": [
    "VP_no_prep = set(ph for ph in F.otype.s('phrase') if F.typ.v(ph) == 'VP' and 'prep' not in set(F.pdp.v(w) for w in L.d(ph, 'word')))\n",
    "\n",
    "adj_verb_noCP = '''\n",
    "\n",
    "c1:clause\n",
    "    phrase function=Pred|PreS|PreO|PtcO\n",
    "\n",
    "c2:clauseNoCP kind=VC rela=Cmpl\n",
    "    VP_prepless\n",
    "\n",
    "c1 <mother- c2\n",
    "'''\n",
    "\n",
    "bare_verb = B.search(adj_verb_noCP, sets={'clauseNoCP': not_exist_CP, 'VP_prepless': VP_no_prep})"
   ]
  },
  {
   "cell_type": "code",
   "execution_count": 93,
   "metadata": {},
   "outputs": [
    {
     "name": "stdout",
     "output_type": "stream",
     "text": [
      "94 results\n"
     ]
    }
   ],
   "source": [
    "search = '''\n",
    "\n",
    "c1:clause\n",
    "    phrase function=Pred|PreS|PreO|PtcO\n",
    "\n",
    "c2:clauseNoCP kind=NC rela=Cmpl|Adju|Objc\n",
    "    phrase function=PreC\n",
    "\n",
    "c1 <mother- c2\n",
    "'''\n",
    "\n",
    "\n",
    "search = B.search(search, sets={'clauseNoCP': not_exist_CP})"
   ]
  },
  {
   "cell_type": "markdown",
   "metadata": {},
   "source": [
    "# New Patterns\n",
    "\n",
    "Here are some new patterns that handle all clause relation types."
   ]
  },
  {
   "cell_type": "code",
   "execution_count": 258,
   "metadata": {},
   "outputs": [],
   "source": [
    "def filterPreC(results):\n",
    "    '''\n",
    "    Filters results with predicate complement basis\n",
    "    from clause types that are not participial.\n",
    "    '''\n",
    "    new_results = [r for r in results\n",
    "                       if not all([re.search('^(?!Ptcp)', F.typ.v(r[3])), F.function.v(r[5]) == 'PreC'])]\n",
    "    return new_results\n",
    "    \n",
    "    \n",
    "sets = {'clauseNoCP' : set(cl for cl in F.otype.s('clause') if 'CP' not in set(F.typ.v(ph) for ph in L.d(cl, 'phrase'))),\n",
    "        'phraseNoPrep': set(ph for ph in F.otype.s('phrase') if 'prep' not in set(F.pdp.v(w) for w in L.d(ph, 'word')))}\n",
    "    \n",
    "clR_vc_CP = pred_target.format(basis='''\n",
    "\n",
    "c2:clause kind=VC rela=Objc|Cmpl|Adju\n",
    "    phrase typ=CP\n",
    "    < phrase function=Pred|PreS|PreO|PtcO|PreC\n",
    "        word pdp=verb\n",
    "\n",
    "c1 <mother- c2\n",
    "''', pred_funct='Pred|PreS')\n",
    "\n",
    "clR_vc_prep = pred_target.format(basis='''\n",
    "\n",
    "c2:clauseNoCP kind=VC rela=Objc|Cmpl|Adju\n",
    "    phrase function=Pred|PreS|PreO|PtcO|PreC\n",
    "        word pdp=prep\n",
    "        word pdp=verb\n",
    "\n",
    "c1 <mother- c2\n",
    "\n",
    "''', pred_funct='Pred|PreS')\n",
    "\n",
    "clR_vc_verb = pred_target.format(basis='''\n",
    "\n",
    "c2:clauseNoCP kind=VC rela=Objc|Cmpl|Adju\n",
    "    phraseNoPrep function=Pred|PreS|PreO|PtcO|PreC\n",
    "        word pdp=verb\n",
    "\n",
    "c1 <mother- c2\n",
    "\n",
    "''', pred_funct='Pred|PreS')\n",
    "\n",
    "clR_nc_CP = pred_target.format(basis='''\n",
    "\n",
    "c2:clause kind=NC rela=Objc|Cmpl|Adju\n",
    "    phrase typ=CP\n",
    "    < phrase function=PreC\n",
    "        -heads> word\n",
    "\n",
    "c1 <mother- c2\n",
    "\n",
    "''', pred_funct='Pred|PreS')\n",
    "\n",
    "clR_nc_CP = pred_target.format(basis='''\n",
    "\n",
    "c2:clause kind=NC rela=Objc|Cmpl|Adju\n",
    "    phrase typ=CP\n",
    "    < phrase function=PreC\n",
    "        -heads> word\n",
    "\n",
    "c1 <mother- c2\n",
    "\n",
    "''', pred_funct='Pred|PreS')\n",
    "\n",
    "# ADJU/CMPL ONLY FROM THIS POINT ON\n",
    "clR_nc_PreC_adv = pred_target.format(basis='''\n",
    "\n",
    "c2:clauseNoCP kind=NC rela=Adju|Cmpl\n",
    "    phrase function=PreC typ=AdvP\n",
    "        -heads> word\n",
    "\n",
    "c1 <mother- c2\n",
    "\n",
    "''', pred_funct='Pred|PreS')\n",
    "\n",
    "clR_nc_PreC_prep = pred_target.format(basis='''\n",
    "\n",
    "c2:clauseNoCP kind=NC rela=Adju|Cmpl\n",
    "    phrase function=PreC typ=PP\n",
    "        -heads> word pdp=prep\n",
    "        -prep_obj> word\n",
    "\n",
    "c1 <mother- c2\n",
    "\n",
    "''', pred_funct='Pred|PreS')"
   ]
  },
  {
   "cell_type": "code",
   "execution_count": 252,
   "metadata": {},
   "outputs": [
    {
     "data": {
      "text/plain": [
       "5899"
      ]
     },
     "execution_count": 252,
     "metadata": {},
     "output_type": "execute_result"
    }
   ],
   "source": [
    "patterns = ((clR_vc_CP, filterPreC),\n",
    "            (clR_vc_prep, filterPreC),\n",
    "            (clR_vc_verb, filterPreC),\n",
    "            (clR_nc_CP, None),\n",
    "            (clR_nc_PreC_adv, None),\n",
    "            (clR_nc_PreC_prep, None))\n",
    "\n",
    "covered_clauses = set()\n",
    "\n",
    "for pattern, filt in patterns:\n",
    "    results = [r for r in S.search(pattern, sets=sets)]\n",
    "    results = results if not filt else filt(results)\n",
    "    covered_clauses |= set(r[0] for r in results)\n",
    "    \n",
    "len(covered_clauses)"
   ]
  },
  {
   "cell_type": "code",
   "execution_count": 253,
   "metadata": {},
   "outputs": [
    {
     "data": {
      "text/plain": [
       "92"
      ]
     },
     "execution_count": 253,
     "metadata": {},
     "output_type": "execute_result"
    }
   ],
   "source": [
    "all_others = pred_target.format(basis='''\n",
    "\n",
    "c2:clause rela=Objc|Adju|Cmpl typ~^(?!Ellp|CPen)\n",
    "\n",
    "c1 <mother- c2\n",
    "''', pred_funct='Pred|PreS')\n",
    "\n",
    "all_others = list(r for r in S.search(all_others)\n",
    "                    if r[0] not in covered_clauses)\n",
    "\n",
    "len(all_others)"
   ]
  },
  {
   "cell_type": "markdown",
   "metadata": {},
   "source": [
    "There are only 92 cases not covered by the new parameters, when instances of ellipses and causus pendens are excluded."
   ]
  },
  {
   "cell_type": "code",
   "execution_count": 257,
   "metadata": {},
   "outputs": [
    {
     "data": {
      "text/plain": [
       "41"
      ]
     },
     "execution_count": 257,
     "metadata": {},
     "output_type": "execute_result"
    }
   ],
   "source": [
    "len([r for r in all_others if {'prin', 'inrg'} & set(F.sp.v(w) for w in L.d(r[3], 'word'))])"
   ]
  },
  {
   "cell_type": "markdown",
   "metadata": {},
   "source": [
    "41 of these 92 cases are instances of interrogatives. Many others are object clauses that are complete sentences and are thus not conducive for simplifying."
   ]
  },
  {
   "cell_type": "markdown",
   "metadata": {},
   "source": [
    "### Check for Clauses with Two Relas in the Dataset"
   ]
  },
  {
   "cell_type": "code",
   "execution_count": 5,
   "metadata": {},
   "outputs": [
    {
     "name": "stdout",
     "output_type": "stream",
     "text": [
      "288 results\n"
     ]
    }
   ],
   "source": [
    "two_rela = pred_target.format(basis='''\n",
    "\n",
    "c2:clause rela=Adju\n",
    "c3:clause rela=Adju\n",
    "\n",
    "c1 <mother- c2\n",
    "c1 <mother- c3\n",
    "c2 # c3\n",
    "''', pred_funct='Pred|PreS')\n",
    "\n",
    "two_rela = B.search(two_rela)"
   ]
  },
  {
   "cell_type": "code",
   "execution_count": 266,
   "metadata": {},
   "outputs": [
    {
     "data": {
      "text/plain": [
       "5899"
      ]
     },
     "execution_count": 266,
     "metadata": {},
     "output_type": "execute_result"
    }
   ],
   "source": [
    "len(covered_clauses)"
   ]
  },
  {
   "cell_type": "code",
   "execution_count": 267,
   "metadata": {},
   "outputs": [
    {
     "data": {
      "text/plain": [
       "[True, True, True, True, False, False, False, False, False]"
      ]
     },
     "execution_count": 267,
     "metadata": {},
     "output_type": "execute_result"
    }
   ],
   "source": [
    "test = (1, 2, 3, 4)\n",
    "\n",
    "[i in test for i in range(1, 10)]"
   ]
  },
  {
   "cell_type": "code",
   "execution_count": 8,
   "metadata": {},
   "outputs": [],
   "source": [
    "code_priorities = (('1\\.001001[0-9]*',  # ANIMATE\n",
    "                   '1\\.00300100[3,6]', \n",
    "                   '1\\.00300101[0,3]',\n",
    "                   '2\\.075[0-9]*'),\n",
    "\n",
    "                  ('1\\.00100[2-6][0-9]*',  # INANIMATE\n",
    "                   '1\\.00300100[1-2, 4, 7-9]',\n",
    "                   '1\\.00300101[1-2]',\n",
    "                   '1\\.00[1,3]$',\n",
    "                   '1\\.003001', \n",
    "                   '1\\.003001005', # names of groups (!)\n",
    "                   '2\\.[0-9]*'), # frames\n",
    "    \n",
    "                  ('1\\.002[1-9]*', # EVENTS\n",
    "                   '1\\.003002[1-9]*',\n",
    "                   '1\\.002$'))\n",
    "\n",
    "import re"
   ]
  },
  {
   "cell_type": "code",
   "execution_count": 27,
   "metadata": {},
   "outputs": [],
   "source": [
    "code = '1.001001009|3.0010001'\n",
    "\n",
    "match = re.findall('|'.join(code_priorities[0]), code)[0]\n",
    "\n",
    "code_index = code.split('|').index(match)"
   ]
  },
  {
   "cell_type": "code",
   "execution_count": 28,
   "metadata": {},
   "outputs": [
    {
     "data": {
      "text/plain": [
       "0"
      ]
     },
     "execution_count": 28,
     "metadata": {},
     "output_type": "execute_result"
    }
   ],
   "source": [
    "code_index"
   ]
  },
  {
   "cell_type": "markdown",
   "metadata": {},
   "source": [
    "## Quantifier Experiments\n",
    "\n",
    "Exclude clauses with a phrase typ CP"
   ]
  },
  {
   "cell_type": "code",
   "execution_count": 4,
   "metadata": {},
   "outputs": [
    {
     "name": "stdout",
     "output_type": "stream",
     "text": [
      "36249 results\n"
     ]
    }
   ],
   "source": [
    "test = '''\n",
    "\n",
    "clause\n",
    "no:\n",
    "    ^ phrase typ=CP\n",
    "end:\n",
    "\n",
    "'''\n",
    "\n",
    "test = B.search(test)"
   ]
  },
  {
   "cell_type": "markdown",
   "metadata": {},
   "source": [
    "Compared with hand coded result..."
   ]
  },
  {
   "cell_type": "code",
   "execution_count": 5,
   "metadata": {},
   "outputs": [
    {
     "data": {
      "text/plain": [
       "36249"
      ]
     },
     "execution_count": 5,
     "metadata": {},
     "output_type": "execute_result"
    }
   ],
   "source": [
    "len(list(cl for cl in F.otype.s('clause') if 'CP' not in set(F.typ.v(ph) for ph in L.d(cl, 'phrase'))))"
   ]
  },
  {
   "cell_type": "markdown",
   "metadata": {},
   "source": [
    "Great!\n",
    "\n",
    "Now with the default target template."
   ]
  },
  {
   "cell_type": "code",
   "execution_count": 10,
   "metadata": {},
   "outputs": [
    {
     "name": "stdout",
     "output_type": "stream",
     "text": [
      "4353 results\n"
     ]
    }
   ],
   "source": [
    "test = pred_target.format(basis='''\n",
    "\n",
    "c2:clause kind=VC rela=Adju|Cmpl|Objc\n",
    "no:\n",
    "   ^ phrase typ=CP\n",
    "end:\n",
    "    phrase function=Pred|PreS|PreO|PtcO|PreC\n",
    "        word pdp=prep\n",
    "        basis:word pdp=verb\n",
    "\n",
    "c1 <mother- c2\n",
    "''', pred_funct='Pred|PreS')\n",
    "\n",
    "test = B.search(test)"
   ]
  },
  {
   "cell_type": "markdown",
   "metadata": {},
   "source": [
    "Compare with the old template..."
   ]
  },
  {
   "cell_type": "code",
   "execution_count": 86,
   "metadata": {},
   "outputs": [],
   "source": [
    "RelaSets = {'clauseNoCP' : set(cl for cl in F.otype.s('clause') if 'CP' not in set(F.typ.v(ph) for ph in L.d(cl, 'phrase'))),\n",
    "            'phraseNoPrep': set(ph for ph in F.otype.s('phrase') if 'prep' not in set(F.pdp.v(w) for w in L.d(ph, 'word')))}"
   ]
  },
  {
   "cell_type": "code",
   "execution_count": 14,
   "metadata": {},
   "outputs": [
    {
     "name": "stdout",
     "output_type": "stream",
     "text": [
      "4353 results\n"
     ]
    }
   ],
   "source": [
    "test2 = pred_target.format(basis='''\n",
    "\n",
    "c2:clauseNoCP kind=VC rela=Adju|Cmpl|Objc\n",
    "    phrase function=Pred|PreS|PreO|PtcO|PreC\n",
    "        word pdp=prep\n",
    "        basis:word pdp=verb\n",
    "\n",
    "c1 <mother- c2''', pred_funct='Pred|PreS')\n",
    "\n",
    "test2 = B.search(test2, sets=RelaSets)"
   ]
  },
  {
   "cell_type": "markdown",
   "metadata": {},
   "source": [
    "It works! Excellent!"
   ]
  },
  {
   "cell_type": "markdown",
   "metadata": {},
   "source": [
    "Can it solve my old PreC problem? A PreC phrase should only be selected in the case of participial clauses. How to code this with quantifiers? "
   ]
  },
  {
   "cell_type": "code",
   "execution_count": 105,
   "metadata": {},
   "outputs": [
    {
     "name": "stdout",
     "output_type": "stream",
     "text": [
      "5868 results\n"
     ]
    }
   ],
   "source": [
    "test = '''\n",
    "\n",
    "s1:sentence\n",
    "    c1:clause\n",
    "    c2:clause \n",
    "    no:\n",
    "       ^ phrase typ=CP\n",
    "    end:\n",
    "    p2:phrase\n",
    "    \n",
    "    either:\n",
    "        clause kind=VC rela=Adju|Cmpl|Objc typ#Ptcp\n",
    "            p3:phrase function=Pred|PreS|PreO\n",
    "            p3 = p2\n",
    "    or:\n",
    "        clause kind=VC rela=Adju|Cmpl|Objc typ=Ptcp\n",
    "            p3:phrase function=PreC|PtcO\n",
    "            p3 = p2\n",
    "    end:\n",
    "    \n",
    "        -heads> word pdp=verb\n",
    "\n",
    "c1 <mother- c2\n",
    "c2 [[ p2\n",
    "'''\n",
    "\n",
    "test = B.search(test)"
   ]
  },
  {
   "cell_type": "code",
   "execution_count": 98,
   "metadata": {},
   "outputs": [],
   "source": [
    "#B.show(test[:6])"
   ]
  },
  {
   "cell_type": "code",
   "execution_count": 99,
   "metadata": {},
   "outputs": [],
   "source": [
    "#B.show([r for r in test if F.function.v(r[3]) == 'PreC'][:5])"
   ]
  },
  {
   "cell_type": "markdown",
   "metadata": {},
   "source": [
    "Let's compare the results to the old solution..."
   ]
  },
  {
   "cell_type": "code",
   "execution_count": 100,
   "metadata": {},
   "outputs": [
    {
     "data": {
      "text/plain": [
       "5868"
      ]
     },
     "execution_count": 100,
     "metadata": {},
     "output_type": "execute_result"
    }
   ],
   "source": [
    "def filterPreC(results):\n",
    "    '''\n",
    "    Filters results with predicate complement basis\n",
    "    from clause types that are not participial.\n",
    "    '''\n",
    "    new_results = [r for r in results\n",
    "                       if not all([re.search('^(?!Ptcp)', F.typ.v(r[1])), F.function.v(r[2]) == 'PreC'])]\n",
    "    return new_results\n",
    "\n",
    "test_old = '''\n",
    "\n",
    "c1:clause\n",
    "c2:clauseNoCP kind=VC rela=Adju|Cmpl|Objc\n",
    "    phrase function=Pred|PreS|PreO|PtcO|PreC\n",
    "        -heads> basis:word \n",
    "\n",
    "c1 <mother- c2\n",
    "\n",
    "'''\n",
    "\n",
    "test_old = S.search(test_old, sets=RelaSets)\n",
    "test_old = filterPreC(test_old)\n",
    "\n",
    "len(test_old)"
   ]
  },
  {
   "cell_type": "code",
   "execution_count": 104,
   "metadata": {},
   "outputs": [
    {
     "data": {
      "text/plain": [
       "True"
      ]
     },
     "execution_count": 104,
     "metadata": {},
     "output_type": "execute_result"
    }
   ],
   "source": [
    "set(r[1] for r in test_old) == set(r[2] for r in test)"
   ]
  },
  {
   "cell_type": "markdown",
   "metadata": {},
   "source": [
    "The results are equivalent! While the first template is longer and more complicated, it avoids the ambiguity and unclarity of requiring sets and post-processing functions defined elsewhere. It allows the experiment to be completely operationalized in one statement.\n",
    "\n",
    "### Further Tests"
   ]
  },
  {
   "cell_type": "code",
   "execution_count": 88,
   "metadata": {},
   "outputs": [
    {
     "name": "stdout",
     "output_type": "stream",
     "text": [
      "65323 results\n"
     ]
    }
   ],
   "source": [
    "time = timeit.time\n",
    "\n",
    "pred_target = '''\n",
    "\n",
    "c1:clause\n",
    "    p1:phrase\n",
    "\n",
    "    /with/\n",
    "    clause typ#Ptcp\n",
    "        p:phrase function={pred_funct}\n",
    "            -heads> word pdp=verb language=Hebrew\n",
    "        p = p1\n",
    "    /or/\n",
    "    clause typ=Ptcp\n",
    "        p:phrase function=PreC|{pred_funct}\n",
    "            -heads> word pdp=verb language=Hebrew\n",
    "        p = p1\n",
    "    /-/\n",
    "\n",
    "        target:word pdp=verb\n",
    "    \n",
    "{basis}\n",
    "\n",
    "lex freq_lex>9\n",
    "   lexword:word \n",
    "   lexword = target\n",
    "'''\n",
    "all_preds = 'Pred|PreS|PreO|PtcO'\n",
    "\n",
    "\n",
    "\n",
    "vf_allarg_pa = pred_target.format(basis='''\n",
    "\n",
    "c2:clause\n",
    "/without/\n",
    "    phrase function=Rela\n",
    "/-/\n",
    "    \n",
    "    phrase function=Objc|Cmpl|Adju|Time|Loca|PrAd\n",
    "    \n",
    "c1 = c2\n",
    "''', pred_funct=all_preds)\n",
    "\n",
    "vf_allarg_pa_clRela = pred_target.format(basis='''\n",
    "\n",
    "c2:clause rela=Objc|Cmpl|Adju|PrAd\n",
    "\n",
    "c1 <mother- c2\n",
    "''', pred_funct=all_preds)\n",
    "\n",
    "vf_allarg_pa_null = pred_target.format(basis='''\n",
    "\n",
    "c2:clause\n",
    "/without/\n",
    "<mother- clause rela=Objc|Cmpl|Adju|PrAd\n",
    "/-/\n",
    "\n",
    "/without/\n",
    "    phrase function=Objc|Cmpl|Adju|Time|Loca|PrAd|Rela\n",
    "/-/\n",
    "\n",
    "/without/\n",
    "    ca:clause_atom\n",
    "speech:clause_atom code=999\n",
    "ca <mother- speech\n",
    "/-/\n",
    "\n",
    "c1 = c2\n",
    "''', pred_funct='Pred|PreS')\n",
    "\n",
    "\n",
    "vf_allarg_pa_suffix = pred_target.format(basis='', pred_funct='PreO|PtcO')\n",
    "\n",
    "\n",
    "test = B.search(pred_target.format(basis='', pred_funct=all_preds))"
   ]
  },
  {
   "cell_type": "markdown",
   "metadata": {},
   "source": [
    "## Testing Template Validator"
   ]
  },
  {
   "cell_type": "code",
   "execution_count": 89,
   "metadata": {},
   "outputs": [],
   "source": [
    "cust_set = {'tClause': set(r[0] for r in test)}"
   ]
  },
  {
   "cell_type": "code",
   "execution_count": 91,
   "metadata": {},
   "outputs": [
    {
     "name": "stdout",
     "output_type": "stream",
     "text": [
      "21168 results\n"
     ]
    }
   ],
   "source": [
    "test2 = B.search('''\n",
    "\n",
    "tClause\n",
    "    phrase function=Subj\n",
    "\n",
    "''', sets=cust_set)"
   ]
  },
  {
   "cell_type": "code",
   "execution_count": null,
   "metadata": {},
   "outputs": [],
   "source": [
    "test2 = B.search(pred_target.format(basis='''\n",
    "\n",
    "    phrase function=Subj\n",
    "\n",
    "''', sets=cust_set)"
   ]
  }
 ],
 "metadata": {
  "kernelspec": {
   "display_name": "Python 3",
   "language": "python",
   "name": "python3"
  },
  "language_info": {
   "codemirror_mode": {
    "name": "ipython",
    "version": 3
   },
   "file_extension": ".py",
   "mimetype": "text/x-python",
   "name": "python",
   "nbconvert_exporter": "python",
   "pygments_lexer": "ipython3",
   "version": "3.6.3"
  }
 },
 "nbformat": 4,
 "nbformat_minor": 2
}
