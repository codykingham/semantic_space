{
 "cells": [
  {
   "cell_type": "markdown",
   "metadata": {},
   "source": [
    "# Clustering, Most Informative Binary Cluster\n",
    "\n",
    "In this notebook, we seek the most informative feature selection for grouping words into one or another cluster. This builds on the principles of the initial experiments notebook wherein we saw that the selection of certain basis elements (e.g. subject, object, adjunct, etc.) resulted in different kinds of clusters. \n",
    "\n",
    "In this notebook, we test individual bases at the exclusion of all others. The idea here is that collocatability with different basis elements operates on various different levels. In order to find the information most useful for verbal class, we cluster subject-, object-, and complement- only verbal spaces into two clusters and measure the average size of the two clusters. The goal is to find the cooccurring feature which reveals the most basic and polarizing division between the verb classes.\n",
    "\n",
    "As a thought experiment, an example might be living versus non-living entities. Hypothetically, subject-only verbal space could show a strong division between verbs that require living subjects (e.g. קרא or הלך) versus those that do not. Though, as we have seen in the experiment notebook, verbs such as הלך show remarkable flexibility and extensibility in this area. Thus, it remains to be seen whether the hypothesis will stand. This notebook intends to test and develop that thesis."
   ]
  },
  {
   "cell_type": "code",
   "execution_count": 1,
   "metadata": {},
   "outputs": [],
   "source": [
    "import numpy as np\n",
    "import pandas as pd\n",
    "import matplotlib.pyplot as plt\n",
    "from sklearn.cluster import KMeans\n",
    "from tf.fabric import Fabric\n",
    "from tf.extra.bhsa import Bhsa\n",
    "from project_code.experiments import VerbSubjOnly, VerbObjOnly, VerbCmplOnly\n",
    "from project_code.semspace import SemSpace, get_lex\n",
    "from project_code.kmedoids.kmedoids import kMedoids"
   ]
  },
  {
   "cell_type": "code",
   "execution_count": 2,
   "metadata": {},
   "outputs": [
    {
     "name": "stdout",
     "output_type": "stream",
     "text": [
      "This is Text-Fabric 3.4.6\n",
      "Api reference : https://github.com/Dans-labs/text-fabric/wiki/Api\n",
      "Tutorial      : https://github.com/Dans-labs/text-fabric/blob/master/docs/tutorial.ipynb\n",
      "Example data  : https://github.com/Dans-labs/text-fabric-data\n",
      "\n",
      "116 features found and 0 ignored\n"
     ]
    },
    {
     "data": {
      "text/markdown": [
       "**Documentation:** <a target=\"_blank\" href=\"https://etcbc.github.io/bhsa\" title=\"{provenance of this corpus}\">BHSA</a> <a target=\"_blank\" href=\"https://etcbc.github.io/bhsa/features/hebrew/c/0_home.html\" title=\"{CORPUS} feature documentation\">Feature docs</a> <a target=\"_blank\" href=\"https://github.com/Dans-labs/text-fabric/wiki/Bhsa\" title=\"BHSA API documentation\">BHSA API</a> <a target=\"_blank\" href=\"https://github.com/Dans-labs/text-fabric/wiki/api\" title=\"text-fabric-api\">Text-Fabric API</a> <a target=\"_blank\" href=\"https://github.com/Dans-labs/text-fabric/wiki/api#search-template-introduction\" title=\"Search Templates Introduction and Reference\">Search Reference</a>"
      ],
      "text/plain": [
       "<IPython.core.display.Markdown object>"
      ]
     },
     "metadata": {},
     "output_type": "display_data"
    },
    {
     "data": {
      "text/html": [
       "\n",
       "<style>\n",
       ".verse {\n",
       "    display: flex;\n",
       "    flex-flow: row wrap;\n",
       "    direction: rtl;\n",
       "}\n",
       ".vl {\n",
       "    display: flex;\n",
       "    flex-flow: column nowrap;\n",
       "    direction: ltr;\n",
       "}\n",
       ".sentence,.clause,.phrase {\n",
       "    margin-top: -1.2em;\n",
       "    margin-left: 1em;\n",
       "    background: #ffffff none repeat scroll 0 0;\n",
       "    padding: 0 0.3em;\n",
       "    border-style: solid;\n",
       "    border-radius: 0.2em;\n",
       "    font-size: small;\n",
       "    display: block;\n",
       "    width: fit-content;\n",
       "    max-width: fit-content;\n",
       "    direction: ltr;\n",
       "}\n",
       ".atoms {\n",
       "    display: flex;\n",
       "    flex-flow: row wrap;\n",
       "    margin: 0.3em;\n",
       "    padding: 0.3em;\n",
       "    direction: rtl;\n",
       "    background-color: #ffffff;\n",
       "}\n",
       ".satom,.catom,.patom {\n",
       "    margin: 0.3em;\n",
       "    padding: 0.3em;\n",
       "    border-radius: 0.3em;\n",
       "    border-style: solid;\n",
       "    display: flex;\n",
       "    flex-flow: column nowrap;\n",
       "    direction: rtl;\n",
       "    background-color: #ffffff;\n",
       "}\n",
       ".sentence {\n",
       "    border-color: #aa3333;\n",
       "    border-width: 1px;\n",
       "}\n",
       ".clause {\n",
       "    border-color: #aaaa33;\n",
       "    border-width: 1px;\n",
       "}\n",
       ".phrase {\n",
       "    border-color: #33aaaa;\n",
       "    border-width: 1px;\n",
       "}\n",
       ".satom {\n",
       "    border-color: #aa3333;\n",
       "    border-width: 4px;\n",
       "}\n",
       ".catom {\n",
       "    border-color: #aaaa33;\n",
       "    border-width: 3px;\n",
       "}\n",
       ".patom {\n",
       "    border-color: #33aaaa;\n",
       "    border-width: 3px;\n",
       "}\n",
       ".word {\n",
       "    padding: 0.1em;\n",
       "    margin: 0.1em;\n",
       "    border-radius: 0.1em;\n",
       "    border: 1px solid #cccccc;\n",
       "    display: flex;\n",
       "    flex-flow: column nowrap;\n",
       "    direction: rtl;\n",
       "    background-color: #ffffff;\n",
       "}\n",
       ".lex {\n",
       "    padding: 0.1em;\n",
       "    margin: 0.1em;\n",
       "    border-radius: 0.1em;\n",
       "    border: 2px solid #888888;\n",
       "    width: fit-content;\n",
       "    display: flex;\n",
       "    flex-flow: column nowrap;\n",
       "    direction: rtl;\n",
       "    background-color: #ffffff;\n",
       "}\n",
       ".satom.l,.catom.l,.patom.l {\n",
       "    border-left-style: dotted\n",
       "}\n",
       ".satom.r,.catom.r,.patom.r {\n",
       "    border-right-style: dotted\n",
       "}\n",
       ".satom.L,.catom.L,.patom.L {\n",
       "    border-left-style: none\n",
       "}\n",
       ".satom.R,.catom.R,.patom.R {\n",
       "    border-right-style: none\n",
       "}\n",
       ".h {\n",
       "    font-family: \"Ezra SIL\", \"SBL Hebrew\", sans-serif;\n",
       "    font-size: large;\n",
       "    direction: rtl;\n",
       "}\n",
       ".rela,.function,.typ {\n",
       "    font-family: monospace;\n",
       "    font-size: small;\n",
       "    color: #0000bb;\n",
       "}\n",
       ".sp {\n",
       "    font-family: monospace;\n",
       "    font-size: medium;\n",
       "    color: #0000bb;\n",
       "}\n",
       ".vl {\n",
       "    font-family: monospace;\n",
       "    font-size: medium;\n",
       "    color: #0000bb;\n",
       "}\n",
       ".vvs {\n",
       "    font-family: monospace;\n",
       "    font-size: medium;\n",
       "    font-weight: bold;\n",
       "    color: #0000bb;\n",
       "}\n",
       ".vvt {\n",
       "    font-family: monospace;\n",
       "    font-size: medium;\n",
       "    color: #0000bb;\n",
       "}\n",
       ".gl {\n",
       "    font-family: sans-serif;\n",
       "    font-size: small;\n",
       "    color: #aaaaaa;\n",
       "}\n",
       ".vs {\n",
       "    font-family: sans-serif;\n",
       "    font-size: small;\n",
       "    font-weight: bold;\n",
       "    color: #444444;\n",
       "}\n",
       ".nd {\n",
       "    font-family: monospace;\n",
       "    font-size: x-small;\n",
       "    color: #999999;\n",
       "}\n",
       ".hl {\n",
       "    background-color: #ffee66;\n",
       "}\n",
       "</style>\n"
      ],
      "text/plain": [
       "<IPython.core.display.HTML object>"
      ]
     },
     "metadata": {},
     "output_type": "display_data"
    }
   ],
   "source": [
    "bhsa_data_paths=['~/github/etcbc/bhsa/tf/c',\n",
    "                 '~/github/semantics/project_code/lingo/heads/tf/c']\n",
    "TF = Fabric(bhsa_data_paths)\n",
    "tf_api = TF.load('''\n",
    "                function lex vs language\n",
    "                pdp freq_lex gloss domain ls\n",
    "                heads prep_obj mother rela\n",
    "                typ sp st\n",
    "              ''', silent=True)\n",
    "\n",
    "tf_api.makeAvailableIn(globals())\n",
    "B = Bhsa(api=tf_api, name='phase2_initial_experiments', version='c')"
   ]
  },
  {
   "cell_type": "markdown",
   "metadata": {},
   "source": [
    "## Initial Go\n",
    "\n",
    "Set up the spaces and cluster with KMeans, where n_cluster = 2."
   ]
  },
  {
   "cell_type": "code",
   "execution_count": 4,
   "metadata": {},
   "outputs": [
    {
     "name": "stdout",
     "output_type": "stream",
     "text": [
      "subj experiment is ready with a size of (1053, 513)\n",
      "obj experiment is ready with a size of (2033, 465)\n",
      "cmpl experiment is ready with a size of (3462, 601)\n",
      "\n",
      "building subject-only space...\n",
      "  0.00s Beginning all calculations...\n",
      "  0.00s beginning Loglikelihood calculations...\n",
      "   |     3.17s at iteration 200000\n",
      "   |     5.83s at iteration 400000\n",
      "  7.36s FINISHED loglikelihood at iteration 540189\n",
      "  7.36s beginning PMI calculations...\n",
      "  9.48s FINISHED PMI...\n",
      "  9.99s data gathering complete!\n",
      "\n",
      "building object-only space...\n",
      "  0.00s Beginning all calculations...\n",
      "  0.00s beginning Loglikelihood calculations...\n",
      "   |     3.78s at iteration 300000\n",
      "   |     7.77s at iteration 600000\n",
      "   |       11s at iteration 900000\n",
      "    12s FINISHED loglikelihood at iteration 945345\n",
      "    12s beginning PMI calculations...\n",
      "    14s FINISHED PMI...\n",
      "    15s data gathering complete!\n",
      "\n",
      "building complement-only space...\n",
      "  0.00s Beginning all calculations...\n",
      "  0.01s beginning Loglikelihood calculations...\n",
      "   |     3.24s at iteration 200000\n",
      "   |     6.22s at iteration 400000\n",
      "   |     8.67s at iteration 600000\n",
      "   |       11s at iteration 800000\n",
      "   |       14s at iteration 1000000\n",
      "   |       16s at iteration 1200000\n",
      "   |       19s at iteration 1400000\n",
      "   |       21s at iteration 1600000\n",
      "   |       23s at iteration 1800000\n",
      "   |       25s at iteration 2000000\n",
      "    26s FINISHED loglikelihood at iteration 2080662\n",
      "    26s beginning PMI calculations...\n",
      "    35s FINISHED PMI...\n",
      "    37s data gathering complete!\n"
     ]
    }
   ],
   "source": [
    "subj_only = VerbSubjOnly(tf_api=tf_api)\n",
    "obj_only = VerbObjOnly(tf_api=tf_api)\n",
    "cmpl_only = VerbCmplOnly(tf_api=tf_api)\n",
    "for name, exp in (('subj', subj_only), ('obj', obj_only), ('cmpl', cmpl_only)):\n",
    "    print(f'{name} experiment is ready with a size of {exp.data.shape}')\n",
    "    \n",
    "print('\\nbuilding subject-only space...')\n",
    "s_space = SemSpace(subj_only, info=200000)\n",
    "print('\\nbuilding object-only space...')\n",
    "o_space = SemSpace(obj_only, info=300000)\n",
    "print('\\nbuilding complement-only space...')\n",
    "c_space = SemSpace(cmpl_only, info=200000)"
   ]
  },
  {
   "cell_type": "code",
   "execution_count": 10,
   "metadata": {},
   "outputs": [
    {
     "name": "stdout",
     "output_type": "stream",
     "text": [
      "subj space sizes:\n",
      "\tcluster_1 size: 20 (0.039)\n",
      "\tcluster_2 size: 493 (0.961)\n",
      "\n",
      "obj space sizes:\n",
      "\tcluster_1 size: 447 (0.961)\n",
      "\tcluster_2 size: 18 (0.039)\n",
      "\n",
      "cmpl space sizes:\n",
      "\tcluster_1 size: 586 (0.975)\n",
      "\tcluster_2 size: 15 (0.025)\n",
      "\n"
     ]
    }
   ],
   "source": [
    "for name, space in (('subj', s_space), ('obj', o_space), ('cmpl', c_space)):\n",
    "    \n",
    "    kmeans = KMeans(n_clusters=2, random_state=0).fit(np.nan_to_num(space.pairwise_pmi, 0))\n",
    "    cluster_1_count = kmeans.labels_[kmeans.labels_ == 0].shape[0]\n",
    "    cluster_2_count = kmeans.labels_[kmeans.labels_ == 1].shape[0]\n",
    "    \n",
    "    print(f'{name} space sizes:')\n",
    "    print(f'\\tcluster_1 size: {cluster_1_count} ({round(cluster_1_count / kmeans.labels_.shape[0], 3)})')\n",
    "    print(f'\\tcluster_2 size: {cluster_2_count} ({round(cluster_2_count / kmeans.labels_.shape[0], 3)})\\n')"
   ]
  },
  {
   "cell_type": "markdown",
   "metadata": {},
   "source": [
    "Based on these basic categories, there is hardly any major separation amongst the verb groups for subject-, object-, and complement- only verb spaces. Below we try the same with jaccardian distance."
   ]
  },
  {
   "cell_type": "code",
   "execution_count": 18,
   "metadata": {},
   "outputs": [
    {
     "name": "stdout",
     "output_type": "stream",
     "text": [
      "subj space sizes:\n",
      "\tcluster_1 size: 37 (0.072)\n",
      "\tcluster_2 size: 476 (0.928)\n",
      "\n",
      "obj space sizes:\n",
      "\tcluster_1 size: 411 (0.884)\n",
      "\tcluster_2 size: 54 (0.116)\n",
      "\n",
      "cmpl space sizes:\n",
      "\tcluster_1 size: 30 (0.05)\n",
      "\tcluster_2 size: 571 (0.95)\n",
      "\n"
     ]
    }
   ],
   "source": [
    "for name, space in (('subj', s_space), ('obj', o_space), ('cmpl', c_space)):\n",
    "    \n",
    "    kmeans = KMeans(n_clusters=2, random_state=0).fit(np.nan_to_num(space.pairwise_jaccard, 0))\n",
    "    cluster_1_count = kmeans.labels_[kmeans.labels_ == 0].shape[0]\n",
    "    cluster_2_count = kmeans.labels_[kmeans.labels_ == 1].shape[0]\n",
    "    \n",
    "    print(f'{name} space sizes:')\n",
    "    print(f'\\tcluster_1 size: {cluster_1_count} ({round(cluster_1_count / kmeans.labels_.shape[0], 3)})')\n",
    "    print(f'\\tcluster_2 size: {cluster_2_count} ({round(cluster_2_count / kmeans.labels_.shape[0], 3)})\\n')"
   ]
  },
  {
   "cell_type": "markdown",
   "metadata": {},
   "source": [
    "The model creates quiet a bit more separation with jaccardian distance. The object-only space has 89% and 11% proportions in the respective clusters. The Subject space performs second best and the complement performs the worst. "
   ]
  }
 ],
 "metadata": {
  "kernelspec": {
   "display_name": "Python 3",
   "language": "python",
   "name": "python3"
  },
  "language_info": {
   "codemirror_mode": {
    "name": "ipython",
    "version": 3
   },
   "file_extension": ".py",
   "mimetype": "text/x-python",
   "name": "python",
   "nbconvert_exporter": "python",
   "pygments_lexer": "ipython3",
   "version": "3.6.3"
  }
 },
 "nbformat": 4,
 "nbformat_minor": 2
}
