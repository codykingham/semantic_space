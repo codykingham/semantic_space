{
 "cells": [
  {
   "cell_type": "markdown",
   "metadata": {},
   "source": [
    "# Phase 2, Composite Space (verb + noun)\n",
    "\n",
    "In this experiment, we use the results of a noun vector space to enhance a verb space. This is done by adding the similarity value of all similar terms of a given basis word. The similarity values are normalized so that the total value is no greater than 1. This distributes the meaning of the co-occurring word across all of its similar terms. "
   ]
  },
  {
   "cell_type": "markdown",
   "metadata": {},
   "source": [
    "### Load Data"
   ]
  },
  {
   "cell_type": "code",
   "execution_count": 1,
   "metadata": {},
   "outputs": [
    {
     "name": "stdout",
     "output_type": "stream",
     "text": [
      "This is Text-Fabric 3.4.12\n",
      "Api reference : https://github.com/Dans-labs/text-fabric/wiki/Api\n",
      "Tutorial      : https://github.com/Dans-labs/text-fabric/blob/master/docs/tutorial.ipynb\n",
      "Example data  : https://github.com/Dans-labs/text-fabric-data\n",
      "\n",
      "116 features found and 0 ignored\n"
     ]
    },
    {
     "data": {
      "text/markdown": [
       "**Documentation:** <a target=\"_blank\" href=\"https://etcbc.github.io/bhsa\" title=\"{provenance of this corpus}\">BHSA</a> <a target=\"_blank\" href=\"https://etcbc.github.io/bhsa/features/hebrew/c/0_home.html\" title=\"{CORPUS} feature documentation\">Feature docs</a> <a target=\"_blank\" href=\"https://github.com/Dans-labs/text-fabric/wiki/Bhsa\" title=\"BHSA API documentation\">BHSA API</a> <a target=\"_blank\" href=\"https://github.com/Dans-labs/text-fabric/wiki/api\" title=\"text-fabric-api\">Text-Fabric API 3.4.12</a> <a target=\"_blank\" href=\"https://github.com/Dans-labs/text-fabric/wiki/api#search-template-introduction\" title=\"Search Templates Introduction and Reference\">Search Reference</a>"
      ],
      "text/plain": [
       "<IPython.core.display.Markdown object>"
      ]
     },
     "metadata": {},
     "output_type": "display_data"
    },
    {
     "data": {
      "text/html": [
       "\n",
       "<style>\n",
       ".verse {\n",
       "    display: flex;\n",
       "    flex-flow: row wrap;\n",
       "    direction: rtl;\n",
       "}\n",
       ".vl {\n",
       "    display: flex;\n",
       "    flex-flow: column nowrap;\n",
       "    direction: ltr;\n",
       "}\n",
       ".sentence,.clause,.phrase {\n",
       "    margin-top: -1.2em;\n",
       "    margin-left: 1em;\n",
       "    background: #ffffff none repeat scroll 0 0;\n",
       "    padding: 0 0.3em;\n",
       "    border-style: solid;\n",
       "    border-radius: 0.2em;\n",
       "    font-size: small;\n",
       "    display: block;\n",
       "    width: fit-content;\n",
       "    max-width: fit-content;\n",
       "    direction: ltr;\n",
       "}\n",
       ".atoms {\n",
       "    display: flex;\n",
       "    flex-flow: row wrap;\n",
       "    margin: 0.3em;\n",
       "    padding: 0.3em;\n",
       "    direction: rtl;\n",
       "    background-color: #ffffff;\n",
       "}\n",
       ".satom,.catom,.patom {\n",
       "    margin: 0.3em;\n",
       "    padding: 0.3em;\n",
       "    border-radius: 0.3em;\n",
       "    border-style: solid;\n",
       "    display: flex;\n",
       "    flex-flow: column nowrap;\n",
       "    direction: rtl;\n",
       "    background-color: #ffffff;\n",
       "}\n",
       ".sentence {\n",
       "    border-color: #aa3333;\n",
       "    border-width: 1px;\n",
       "}\n",
       ".clause {\n",
       "    border-color: #aaaa33;\n",
       "    border-width: 1px;\n",
       "}\n",
       ".phrase {\n",
       "    border-color: #33aaaa;\n",
       "    border-width: 1px;\n",
       "}\n",
       ".satom {\n",
       "    border-color: #aa3333;\n",
       "    border-width: 4px;\n",
       "}\n",
       ".catom {\n",
       "    border-color: #aaaa33;\n",
       "    border-width: 3px;\n",
       "}\n",
       ".patom {\n",
       "    border-color: #33aaaa;\n",
       "    border-width: 3px;\n",
       "}\n",
       ".word {\n",
       "    padding: 0.1em;\n",
       "    margin: 0.1em;\n",
       "    border-radius: 0.1em;\n",
       "    border: 1px solid #cccccc;\n",
       "    display: flex;\n",
       "    flex-flow: column nowrap;\n",
       "    direction: rtl;\n",
       "    background-color: #ffffff;\n",
       "}\n",
       ".lex {\n",
       "    padding: 0.1em;\n",
       "    margin: 0.1em;\n",
       "    border-radius: 0.1em;\n",
       "    border: 2px solid #888888;\n",
       "    width: fit-content;\n",
       "    display: flex;\n",
       "    flex-flow: column nowrap;\n",
       "    direction: rtl;\n",
       "    background-color: #ffffff;\n",
       "}\n",
       ".satom.l,.catom.l,.patom.l {\n",
       "    border-left-style: dotted\n",
       "}\n",
       ".satom.r,.catom.r,.patom.r {\n",
       "    border-right-style: dotted\n",
       "}\n",
       ".satom.L,.catom.L,.patom.L {\n",
       "    border-left-style: none\n",
       "}\n",
       ".satom.R,.catom.R,.patom.R {\n",
       "    border-right-style: none\n",
       "}\n",
       ".h,.h :visited,.h :link {\n",
       "    font-family: \"Ezra SIL\", \"SBL Hebrew\", sans-serif;\n",
       "    font-size: large;\n",
       "    color: #000044;\n",
       "    direction: rtl;\n",
       "    text-decoration: none;\n",
       "}\n",
       ".rela,.function,.typ {\n",
       "    font-family: monospace;\n",
       "    font-size: small;\n",
       "    color: #0000bb;\n",
       "}\n",
       ".sp,.sp :visited,.sp :link {\n",
       "    font-family: monospace;\n",
       "    font-size: medium;\n",
       "    color: #0000bb;\n",
       "    text-decoration: none;\n",
       "}\n",
       ".vl {\n",
       "    font-family: monospace;\n",
       "    font-size: medium;\n",
       "    color: #0000bb;\n",
       "}\n",
       ".vvs {\n",
       "    font-family: monospace;\n",
       "    font-size: medium;\n",
       "    font-weight: bold;\n",
       "    color: #0000bb;\n",
       "}\n",
       ".vvt {\n",
       "    font-family: monospace;\n",
       "    font-size: medium;\n",
       "    color: #0000bb;\n",
       "}\n",
       ".gl {\n",
       "    font-family: sans-serif;\n",
       "    font-size: small;\n",
       "    color: #aaaaaa;\n",
       "}\n",
       ".vs {\n",
       "    font-family: sans-serif;\n",
       "    font-size: small;\n",
       "    font-weight: bold;\n",
       "    color: #444444;\n",
       "}\n",
       ".nd {\n",
       "    font-family: monospace;\n",
       "    font-size: x-small;\n",
       "    color: #999999;\n",
       "}\n",
       ".hl {\n",
       "    background-color: #ffee66;\n",
       "}\n",
       "</style>\n"
      ],
      "text/plain": [
       "<IPython.core.display.HTML object>"
      ]
     },
     "metadata": {},
     "output_type": "display_data"
    }
   ],
   "source": [
    "import numpy as np\n",
    "import pandas as pd\n",
    "import collections, os, sys\n",
    "import matplotlib.pyplot as plt\n",
    "from sklearn.cluster import KMeans\n",
    "from tf.fabric import Fabric\n",
    "from tf.extra.bhsa import Bhsa\n",
    "from project_code.experiments import CompositeVerb\n",
    "from project_code.noun_experiments import NounExperiment1\n",
    "from project_code.semspace import SemSpace\n",
    "\n",
    "bhsa_data_paths=['~/github/etcbc/bhsa/tf/c',\n",
    "                 '~/github/semantics/project_code/lingo/heads/tf/c']\n",
    "TF = Fabric(bhsa_data_paths)\n",
    "tf_api = TF.load('''\n",
    "                function lex vs language\n",
    "                pdp freq_lex gloss domain ls\n",
    "                heads prep_obj mother rela\n",
    "                typ sp st\n",
    "              ''', silent=True)\n",
    "\n",
    "tf_api.makeAvailableIn(globals())\n",
    "B = Bhsa(api=tf_api, name='phase2_composite_space', version='c')"
   ]
  },
  {
   "cell_type": "markdown",
   "metadata": {},
   "source": [
    "#### Load the Noun Space"
   ]
  },
  {
   "cell_type": "code",
   "execution_count": 2,
   "metadata": {},
   "outputs": [
    {
     "name": "stdout",
     "output_type": "stream",
     "text": [
      "noun experiment with dim (6357, 2744) ready...\n",
      "  0.00s Applying association measure(s)...\n",
      "   |     0.00s Applying PPMI...\n",
      "   |     1.52s Finished PPMI...\n",
      "  1.52s Building pairwise matrices...\n",
      "    34s space is ready!\n"
     ]
    }
   ],
   "source": [
    "ne1 = NounExperiment1(tf_api=tf_api)\n",
    "print(f'noun experiment with dim {ne1.data.shape} ready...')\n",
    "ns1 = SemSpace(ne1, info=True)"
   ]
  },
  {
   "cell_type": "markdown",
   "metadata": {},
   "source": [
    "#### Build Composite Experiment"
   ]
  },
  {
   "cell_type": "code",
   "execution_count": 3,
   "metadata": {},
   "outputs": [
    {
     "name": "stdout",
     "output_type": "stream",
     "text": [
      "  0.00s building composite experiment...\n",
      " 1m 00s composite experiment with dim (348488, 794) ready...\n"
     ]
    }
   ],
   "source": [
    "indent(reset=True)\n",
    "info('building composite experiment...')\n",
    "ce1 = CompositeVerb(ns1.sim_pmi_normalized, tf_api=tf_api) \n",
    "info(f'composite experiment with dim {ce1.data.shape} ready...')"
   ]
  },
  {
   "cell_type": "markdown",
   "metadata": {},
   "source": [
    "### Build Composite Space\n",
    "This may take some time."
   ]
  },
  {
   "cell_type": "code",
   "execution_count": 4,
   "metadata": {},
   "outputs": [
    {
     "name": "stdout",
     "output_type": "stream",
     "text": [
      "  0.00s Applying association measure(s)...\n",
      "   |     0.00s Applying PPMI...\n",
      "   |       32s Finished PPMI...\n",
      "    32s Building pairwise matrices...\n",
      " 3m 44s space is ready!\n"
     ]
    }
   ],
   "source": [
    "cs1 = SemSpace(ce1, info=True)"
   ]
  },
  {
   "cell_type": "markdown",
   "metadata": {},
   "source": [
    "## Visualize Space"
   ]
  },
  {
   "cell_type": "code",
   "execution_count": 5,
   "metadata": {},
   "outputs": [
    {
     "data": {
      "image/png": "[encoded data removed]",
      "text/plain": [
       "<Figure size 720x432 with 1 Axes>"
      ]
     },
     "metadata": {},
     "output_type": "display_data"
    }
   ],
   "source": [
    "cs1.pmi_plot.show(annotate=False)"
   ]
  },
  {
   "cell_type": "markdown",
   "metadata": {},
   "source": [
    "Inspections of the PPMI plots and results show that the count adjustments create strange results. The raw data performs better. This perhaps makes sense, since the raw data is not really raw data, but has already been pre-processed and is normalized ratios."
   ]
  },
  {
   "cell_type": "code",
   "execution_count": 52,
   "metadata": {},
   "outputs": [
    {
     "data": {
      "image/png": "[encoded data removed]",
      "text/plain": [
       "<Figure size 720x432 with 1 Axes>"
      ]
     },
     "metadata": {},
     "output_type": "display_data"
    }
   ],
   "source": [
    "cs1.raw_plot.show(annotate=False)"
   ]
  },
  {
   "cell_type": "code",
   "execution_count": 53,
   "metadata": {},
   "outputs": [
    {
     "data": {
      "image/png": "[encoded data removed]",
      "text/plain": [
       "<Figure size 720x432 with 1 Axes>"
      ]
     },
     "metadata": {},
     "output_type": "display_data"
    }
   ],
   "source": [
    "cs1.raw_plot.show()"
   ]
  },
  {
   "cell_type": "code",
   "execution_count": 63,
   "metadata": {},
   "outputs": [
    {
     "data": {
      "image/png": "[encoded data removed]",
      "text/plain": [
       "<Figure size 720x432 with 1 Axes>"
      ]
     },
     "metadata": {},
     "output_type": "display_data"
    }
   ],
   "source": [
    "cs1.raw_plot.show(axis=[-0.1, 0.3, -0.2, 0.8])"
   ]
  },
  {
   "cell_type": "code",
   "execution_count": 71,
   "metadata": {},
   "outputs": [
    {
     "data": {
      "image/png": "[encoded data removed]",
      "text/plain": [
       "<Figure size 720x432 with 1 Axes>"
      ]
     },
     "metadata": {},
     "output_type": "display_data"
    }
   ],
   "source": [
    "cs1.raw_plot.show(axis=[-0.092, 0.03, -0.2, 0.2])"
   ]
  },
  {
   "cell_type": "code",
   "execution_count": 68,
   "metadata": {},
   "outputs": [
    {
     "data": {
      "image/png": "[encoded data removed]",
      "text/plain": [
       "<Figure size 720x432 with 1 Axes>"
      ]
     },
     "metadata": {},
     "output_type": "display_data"
    }
   ],
   "source": [
    "cs1.raw_plot.show(axis=[-0.025, -0.012, -0.14, -0.05])"
   ]
  },
  {
   "cell_type": "code",
   "execution_count": null,
   "metadata": {},
   "outputs": [],
   "source": [
    "cs1.raw_plot.show(axis=[-0.1, 0.03, -0.2, 0.2])"
   ]
  },
  {
   "cell_type": "code",
   "execution_count": 47,
   "metadata": {},
   "outputs": [
    {
     "data": {
      "text/plain": [
       ">MR[.qal (say)         1.000000\n",
       "DBR[.piel (speak)      0.824788\n",
       "NGC[.qal (approach)    0.709331\n",
       "JD<[.hit (know)        0.649160\n",
       "HSH[.hif (be still)    0.634489\n",
       ">SP[.nif (gather)      0.618801\n",
       "PLL[.hit (pray)        0.592026\n",
       "BW>[.qal (come)        0.591835\n",
       "CLX[.qal (send)        0.585538\n",
       "QRH[.nif (meet)        0.571270\n",
       "Name: >MR[.qal (say), dtype: float64"
      ]
     },
     "execution_count": 47,
     "metadata": {},
     "output_type": "execute_result"
    }
   ],
   "source": [
    "cs1.similarity_raw['>MR[.qal (say)'].sort_values(ascending=False).head(10)"
   ]
  },
  {
   "cell_type": "code",
   "execution_count": 48,
   "metadata": {},
   "outputs": [
    {
     "data": {
      "text/plain": [
       "<FH[.qal (make)          1.000000\n",
       "XBR[.piel (be united)    0.388899\n",
       "PCV[.hif (strip off)     0.370926\n",
       "KBH[.piel (go out)       0.341888\n",
       "NTN[.qal (give)          0.334878\n",
       "CMR[.qal (keep)          0.331861\n",
       "NGD[.hif (report)        0.327086\n",
       "CBR[.piel (break)        0.327044\n",
       "XDC[.piel (be new)       0.316867\n",
       "BW>[.hif (come)          0.316827\n",
       "Name: <FH[.qal (make), dtype: float64"
      ]
     },
     "execution_count": 48,
     "metadata": {},
     "output_type": "execute_result"
    }
   ],
   "source": [
    "cs1.similarity_raw['<FH[.qal (make)'].sort_values(ascending=False).head(10)"
   ]
  },
  {
   "cell_type": "code",
   "execution_count": 72,
   "metadata": {},
   "outputs": [
    {
     "data": {
      "text/plain": [
       ">KL[.qal (eat)           1.000000\n",
       "CXT[.hif (destroy)       0.402189\n",
       "CBT[.qal (cease)         0.395644\n",
       "KWL[.hif (comprehend)    0.366032\n",
       "PCV[.hif (strip off)     0.347868\n",
       "MNH[.qal (count)         0.344686\n",
       "NGF[.qal (drive)         0.330993\n",
       "LWN[.nif (murmur)        0.311017\n",
       "NTK[.hif (pour)          0.304349\n",
       "LQX[.qal (take)          0.284618\n",
       "Name: >KL[.qal (eat), dtype: float64"
      ]
     },
     "execution_count": 72,
     "metadata": {},
     "output_type": "execute_result"
    }
   ],
   "source": [
    "cs1.similarity_raw['>KL[.qal (eat)'].sort_values(ascending=False).head(10)"
   ]
  },
  {
   "cell_type": "code",
   "execution_count": 104,
   "metadata": {},
   "outputs": [
    {
     "data": {
      "text/plain": [
       "NTN[.qal (give)            1.000000\n",
       "NGD[.hif (report)          0.466319\n",
       "NGF[.qal (drive)           0.444959\n",
       "MNH[.qal (count)           0.433092\n",
       "NTK[.hif (pour)            0.413529\n",
       "NGD[.hof (report)          0.389489\n",
       "BW>[.hif (come)            0.389440\n",
       "LQX[.qal (take)            0.386166\n",
       "CBH[.qal (take captive)    0.377061\n",
       "PCV[.hif (strip off)       0.372476\n",
       "Name: NTN[.qal (give), dtype: float64"
      ]
     },
     "execution_count": 104,
     "metadata": {},
     "output_type": "execute_result"
    }
   ],
   "source": [
    "cs1.similarity_raw['NTN[.qal (give)'].sort_values(ascending=False).head(10)"
   ]
  },
  {
   "cell_type": "code",
   "execution_count": 76,
   "metadata": {},
   "outputs": [
    {
     "data": {
      "text/plain": [
       "R>H[.qal (see)                 1.000000\n",
       "NCK[.qal (bite)                0.510237\n",
       "NGF[.qal (drive)               0.493429\n",
       "RP>[.qal (heal)                0.486377\n",
       "GLH[.piel (uncover)            0.484053\n",
       "KBD[.piel (be heavy)           0.481522\n",
       "MNH[.qal (count)               0.479782\n",
       "N>P[.piel (commit adultery)    0.479139\n",
       "SWT[.hif (incite)              0.477065\n",
       "YWH[.piel (command)            0.454138\n",
       "Name: R>H[.qal (see), dtype: float64"
      ]
     },
     "execution_count": 76,
     "metadata": {},
     "output_type": "execute_result"
    }
   ],
   "source": [
    "cs1.similarity_raw['R>H[.qal (see)'].sort_values(ascending=False).head(10)"
   ]
  },
  {
   "cell_type": "code",
   "execution_count": 77,
   "metadata": {},
   "outputs": [
    {
     "data": {
      "text/plain": [
       "JD<[.qal (know)                1.000000\n",
       "ZKR[.qal (remember)            0.532129\n",
       "SPR[.piel (count)              0.511359\n",
       "N>P[.piel (commit adultery)    0.424056\n",
       ">HB[.qal (love)                0.398357\n",
       "NCK[.qal (bite)                0.386761\n",
       "DRC[.qal (inquire)             0.377828\n",
       "YWH[.piel (command)            0.366453\n",
       "SWT[.hif (incite)              0.347849\n",
       "XZH[.qal (see)                 0.346937\n",
       "Name: JD<[.qal (know), dtype: float64"
      ]
     },
     "execution_count": 77,
     "metadata": {},
     "output_type": "execute_result"
    }
   ],
   "source": [
    "cs1.similarity_raw['JD<[.qal (know)'].sort_values(ascending=False).head(10)"
   ]
  },
  {
   "cell_type": "code",
   "execution_count": 78,
   "metadata": {},
   "outputs": [
    {
     "data": {
      "text/plain": [
       "MWT[.qal (die)         1.000000\n",
       "XTR[.qal (dig)         0.263269\n",
       "LKD[.nif (seize)       0.236703\n",
       "XL>[.qal (fall ill)    0.215137\n",
       "QCR[.hit (tie)         0.208755\n",
       "BQ<[.nif (split)       0.203686\n",
       "<FH[.nif (make)        0.196736\n",
       "QWM[.hof (arise)       0.190749\n",
       "LQX[.nif (take)        0.184732\n",
       "XRB[.qal (be dry)      0.174422\n",
       "Name: MWT[.qal (die), dtype: float64"
      ]
     },
     "execution_count": 78,
     "metadata": {},
     "output_type": "execute_result"
    }
   ],
   "source": [
    "cs1.similarity_raw['MWT[.qal (die)'].sort_values(ascending=False).head(10)"
   ]
  },
  {
   "cell_type": "markdown",
   "metadata": {},
   "source": [
    "There are too many quirky results in here. I need to limit the similar terms to those that occur in an identical pattern elsewhere."
   ]
  },
  {
   "cell_type": "code",
   "execution_count": 83,
   "metadata": {},
   "outputs": [
    {
     "data": {
      "text/plain": [
       "KRT[.qal (cut)           1.000000\n",
       "PRF[.qal (spread out)    0.372056\n",
       "GD<[.piel (cut off)      0.371576\n",
       "ZKR[.qal (remember)      0.337374\n",
       "CB<[.hif (swear)         0.273131\n",
       "QVP[.qal (pluck off)     0.268760\n",
       "CMR[.qal (keep)          0.267974\n",
       "<FH[.qal (make)          0.245824\n",
       "NF>[.qal (lift)          0.193060\n",
       "BW>[.hif (come)          0.189887\n",
       "Name: KRT[.qal (cut), dtype: float64"
      ]
     },
     "execution_count": 83,
     "metadata": {},
     "output_type": "execute_result"
    }
   ],
   "source": [
    "cs1.similarity_raw['KRT[.qal (cut)'].sort_values(ascending=False).head(10)"
   ]
  },
  {
   "cell_type": "code",
   "execution_count": 90,
   "metadata": {},
   "outputs": [
    {
     "data": {
      "text/plain": [
       "YWH[.piel (command)        1.000000\n",
       "CPV[.qal (judge)           0.724894\n",
       "SWT[.hif (incite)          0.698412\n",
       "RP>[.qal (heal)            0.685492\n",
       "T<B[.nif (be abhorrent)    0.675891\n",
       "NCK[.qal (bite)            0.669158\n",
       "XNV[.qal (embalm)          0.663910\n",
       "KBD[.piel (be heavy)       0.645257\n",
       "XV>[.hif (miss)            0.610137\n",
       "JC<[.hif (help)            0.601411\n",
       "Name: YWH[.piel (command), dtype: float64"
      ]
     },
     "execution_count": 90,
     "metadata": {},
     "output_type": "execute_result"
    }
   ],
   "source": [
    "cs1.similarity_raw['YWH[.piel (command)'].sort_values(ascending=False).head(10)"
   ]
  },
  {
   "cell_type": "code",
   "execution_count": 91,
   "metadata": {},
   "outputs": [
    {
     "data": {
      "text/plain": [
       "KBD[.piel (be heavy)           1.000000\n",
       "KL>[.qal (restrain)            0.700839\n",
       "NCK[.qal (bite)                0.682570\n",
       "YWH[.piel (command)            0.645257\n",
       "SWT[.hif (incite)              0.642663\n",
       "RP>[.qal (heal)                0.641519\n",
       "XNV[.qal (embalm)              0.630041\n",
       "JNQ[.hif (suck)                0.628082\n",
       "N>P[.piel (commit adultery)    0.598650\n",
       "XV>[.hif (miss)                0.588358\n",
       "Name: KBD[.piel (be heavy), dtype: float64"
      ]
     },
     "execution_count": 91,
     "metadata": {},
     "output_type": "execute_result"
    }
   ],
   "source": [
    "cs1.similarity_raw['KBD[.piel (be heavy)'].sort_values(ascending=False).head(10)"
   ]
  },
  {
   "cell_type": "code",
   "execution_count": 96,
   "metadata": {},
   "outputs": [
    {
     "data": {
      "text/plain": [
       "NGD[.hif (report)            1.000000\n",
       "NGD[.hof (report)            0.798224\n",
       "NCQ[.piel (kiss)             0.671892\n",
       "SPR[.piel (count)            0.577326\n",
       "XWH[.hsht (bow down)         0.569876\n",
       "NDR[.qal (vow)               0.534630\n",
       "NSK[.piel (pour)             0.534630\n",
       "JDH[.hif (praise)            0.529548\n",
       "KHN[.piel (act as priest)    0.492801\n",
       "NCQ[.qal (kiss)              0.487705\n",
       "Name: NGD[.hif (report), dtype: float64"
      ]
     },
     "execution_count": 96,
     "metadata": {},
     "output_type": "execute_result"
    }
   ],
   "source": [
    "cs1.similarity_raw['NGD[.hif (report)'].sort_values(ascending=False).head(10)"
   ]
  },
  {
   "cell_type": "code",
   "execution_count": 103,
   "metadata": {},
   "outputs": [
    {
     "data": {
      "text/plain": [
       "Pred.Objc.>T_DBR/      0.618012\n",
       "Pred.Time.<D_KN        0.456521\n",
       "Pred.Time.MN_>Z        0.444299\n",
       "Pred.Cmpl.L_DWD==/     0.434617\n",
       "Pred.Cmpl.L_MLK/       0.338053\n",
       "Pred.Cmpl.L_C>WL=/     0.312279\n",
       "Pred.Cmpl.L_MCH=/      0.287575\n",
       "Pred.Cmpl.<L_BGTN/     0.287457\n",
       "Pred.Cmpl.L_>B/        0.280291\n",
       "Pred.Cmpl.<L_>WDWT/    0.278491\n",
       "Name: NGD[.hif, dtype: float64"
      ]
     },
     "execution_count": 103,
     "metadata": {},
     "output_type": "execute_result"
    }
   ],
   "source": [
    "cs1.raw['NGD[.hif'].sort_values(ascending=False).head(10)"
   ]
  },
  {
   "cell_type": "code",
   "execution_count": 101,
   "metadata": {},
   "outputs": [
    {
     "data": {
      "text/plain": [
       "Pred.Cmpl.L_>X/      0.025696\n",
       "Pred.Cmpl.L_BN/      0.024718\n",
       "Pred.Cmpl.L_MCH=/    0.006462\n",
       "Pred.Cmpl.L_<M/      0.006125\n",
       "Pred.Cmpl.L_>JC/     0.005972\n",
       "Pred.Cmpl.L_>CH/     0.005733\n",
       "Pred.Cmpl.L_>B/      0.005728\n",
       "Pred.Cmpl.L_MLK/     0.005578\n",
       "Pred.Cmpl.L_FR/      0.005450\n",
       "Pred.Cmpl.L_BT/      0.005347\n",
       "Name: NCQ[.piel, dtype: float64"
      ]
     },
     "execution_count": 101,
     "metadata": {},
     "output_type": "execute_result"
    }
   ],
   "source": [
    "cs1.raw['NCQ[.piel'].sort_values(ascending=False).head(10)"
   ]
  },
  {
   "cell_type": "markdown",
   "metadata": {},
   "source": [
    "Note that נשק \"kiss\" and נגד \"report\" are rated similarly due to the `Pred.Cmpl.L_OBJ` construction. They share this attribute."
   ]
  },
  {
   "cell_type": "code",
   "execution_count": null,
   "metadata": {},
   "outputs": [],
   "source": []
  },
  {
   "cell_type": "markdown",
   "metadata": {},
   "source": [
    "## Attempt Clustering"
   ]
  },
  {
   "cell_type": "code",
   "execution_count": 87,
   "metadata": {},
   "outputs": [
    {
     "name": "stdout",
     "output_type": "stream",
     "text": [
      "cluster_1 size: 174 (0.219)\n",
      "cluster_2 size: 620 (0.781)\n"
     ]
    }
   ],
   "source": [
    "kmeans = KMeans(n_clusters=2, random_state=0).fit(np.nan_to_num(cs1.pairwise_raw, 0))\n",
    "cluster_1_count = kmeans.labels_[kmeans.labels_ == 0].shape[0]\n",
    "cluster_2_count = kmeans.labels_[kmeans.labels_ == 1].shape[0]\n",
    "\n",
    "print(f'cluster_1 size: {cluster_1_count} ({round(cluster_1_count / kmeans.labels_.shape[0], 3)})')\n",
    "print(f'cluster_2 size: {cluster_2_count} ({round(cluster_2_count / kmeans.labels_.shape[0], 3)})')"
   ]
  },
  {
   "cell_type": "code",
   "execution_count": 88,
   "metadata": {},
   "outputs": [
    {
     "data": {
      "text/html": [
       "<div>\n",
       "<style scoped>\n",
       "    .dataframe tbody tr th:only-of-type {\n",
       "        vertical-align: middle;\n",
       "    }\n",
       "\n",
       "    .dataframe tbody tr th {\n",
       "        vertical-align: top;\n",
       "    }\n",
       "\n",
       "    .dataframe thead th {\n",
       "        text-align: right;\n",
       "    }\n",
       "</style>\n",
       "<table border=\"1\" class=\"dataframe\">\n",
       "  <thead>\n",
       "    <tr style=\"text-align: right;\">\n",
       "      <th></th>\n",
       "      <th>cluster</th>\n",
       "    </tr>\n",
       "  </thead>\n",
       "  <tbody>\n",
       "    <tr>\n",
       "      <th>&lt;BD[.qal -- work, serve</th>\n",
       "      <td>0</td>\n",
       "    </tr>\n",
       "    <tr>\n",
       "      <th>&lt;FH[.qal -- make</th>\n",
       "      <td>0</td>\n",
       "    </tr>\n",
       "    <tr>\n",
       "      <th>&lt;LH[.hif -- ascend</th>\n",
       "      <td>0</td>\n",
       "    </tr>\n",
       "    <tr>\n",
       "      <th>&lt;NH[.qal -- answer</th>\n",
       "      <td>0</td>\n",
       "    </tr>\n",
       "    <tr>\n",
       "      <th>&lt;QD[.qal -- bind</th>\n",
       "      <td>0</td>\n",
       "    </tr>\n",
       "    <tr>\n",
       "      <th>&lt;QR[.piel -- root up</th>\n",
       "      <td>0</td>\n",
       "    </tr>\n",
       "    <tr>\n",
       "      <th>&lt;WR=[.piel -- be blind</th>\n",
       "      <td>0</td>\n",
       "    </tr>\n",
       "    <tr>\n",
       "      <th>&lt;WR[.hif -- be awake</th>\n",
       "      <td>0</td>\n",
       "    </tr>\n",
       "    <tr>\n",
       "      <th>&lt;WR[.piel -- be awake</th>\n",
       "      <td>0</td>\n",
       "    </tr>\n",
       "    <tr>\n",
       "      <th>&lt;YB[.piel -- hurt</th>\n",
       "      <td>0</td>\n",
       "    </tr>\n",
       "    <tr>\n",
       "      <th>&lt;ZB[.qal -- leave</th>\n",
       "      <td>0</td>\n",
       "    </tr>\n",
       "    <tr>\n",
       "      <th>&gt;BD[.hif -- perish</th>\n",
       "      <td>0</td>\n",
       "    </tr>\n",
       "    <tr>\n",
       "      <th>&gt;BD[.piel -- perish</th>\n",
       "      <td>0</td>\n",
       "    </tr>\n",
       "    <tr>\n",
       "      <th>&gt;HB[.qal -- love</th>\n",
       "      <td>0</td>\n",
       "    </tr>\n",
       "    <tr>\n",
       "      <th>&gt;KL[.qal -- eat</th>\n",
       "      <td>0</td>\n",
       "    </tr>\n",
       "    <tr>\n",
       "      <th>&gt;PH[.qal -- bake</th>\n",
       "      <td>0</td>\n",
       "    </tr>\n",
       "    <tr>\n",
       "      <th>&gt;SP[.qal -- gather</th>\n",
       "      <td>0</td>\n",
       "    </tr>\n",
       "    <tr>\n",
       "      <th>BCL[.piel -- boil</th>\n",
       "      <td>0</td>\n",
       "    </tr>\n",
       "    <tr>\n",
       "      <th>BFR[.piel -- announce</th>\n",
       "      <td>0</td>\n",
       "    </tr>\n",
       "    <tr>\n",
       "      <th>BNH[.qal -- build</th>\n",
       "      <td>0</td>\n",
       "    </tr>\n",
       "    <tr>\n",
       "      <th>BQC[.piel -- seek</th>\n",
       "      <td>0</td>\n",
       "    </tr>\n",
       "    <tr>\n",
       "      <th>BRK[.piel -- bless</th>\n",
       "      <td>0</td>\n",
       "    </tr>\n",
       "    <tr>\n",
       "      <th>BW&gt;[.hif -- come</th>\n",
       "      <td>0</td>\n",
       "    </tr>\n",
       "    <tr>\n",
       "      <th>BZZ[.qal -- spoil</th>\n",
       "      <td>0</td>\n",
       "    </tr>\n",
       "    <tr>\n",
       "      <th>CB&lt;[.hif -- swear</th>\n",
       "      <td>0</td>\n",
       "    </tr>\n",
       "    <tr>\n",
       "      <th>CBH[.qal -- take captive</th>\n",
       "      <td>0</td>\n",
       "    </tr>\n",
       "    <tr>\n",
       "      <th>CBR[.piel -- break</th>\n",
       "      <td>0</td>\n",
       "    </tr>\n",
       "    <tr>\n",
       "      <th>CBR[.qal -- break</th>\n",
       "      <td>0</td>\n",
       "    </tr>\n",
       "    <tr>\n",
       "      <th>CKN[.hif -- dwell</th>\n",
       "      <td>0</td>\n",
       "    </tr>\n",
       "    <tr>\n",
       "      <th>CKX[.qal -- forget</th>\n",
       "      <td>0</td>\n",
       "    </tr>\n",
       "    <tr>\n",
       "      <th>...</th>\n",
       "      <td>...</td>\n",
       "    </tr>\n",
       "    <tr>\n",
       "      <th>SWT[.hif -- incite</th>\n",
       "      <td>0</td>\n",
       "    </tr>\n",
       "    <tr>\n",
       "      <th>T&lt;B[.nif -- be abhorrent</th>\n",
       "      <td>0</td>\n",
       "    </tr>\n",
       "    <tr>\n",
       "      <th>TLH[.qal -- hang</th>\n",
       "      <td>0</td>\n",
       "    </tr>\n",
       "    <tr>\n",
       "      <th>TPF[.qal -- seize</th>\n",
       "      <td>0</td>\n",
       "    </tr>\n",
       "    <tr>\n",
       "      <th>TWR[.qal -- spy</th>\n",
       "      <td>0</td>\n",
       "    </tr>\n",
       "    <tr>\n",
       "      <th>VM&gt;[.piel -- be unclean</th>\n",
       "      <td>0</td>\n",
       "    </tr>\n",
       "    <tr>\n",
       "      <th>VWL[.hif -- cast</th>\n",
       "      <td>0</td>\n",
       "    </tr>\n",
       "    <tr>\n",
       "      <th>XBC[.qal -- saddle</th>\n",
       "      <td>0</td>\n",
       "    </tr>\n",
       "    <tr>\n",
       "      <th>XBR[.piel -- be united</th>\n",
       "      <td>0</td>\n",
       "    </tr>\n",
       "    <tr>\n",
       "      <th>XDC[.piel -- be new</th>\n",
       "      <td>0</td>\n",
       "    </tr>\n",
       "    <tr>\n",
       "      <th>XJH[.piel -- be alive</th>\n",
       "      <td>0</td>\n",
       "    </tr>\n",
       "    <tr>\n",
       "      <th>XKH[.piel -- wait</th>\n",
       "      <td>0</td>\n",
       "    </tr>\n",
       "    <tr>\n",
       "      <th>XLH[.piel -- become weak</th>\n",
       "      <td>0</td>\n",
       "    </tr>\n",
       "    <tr>\n",
       "      <th>XLQ[.piel -- divide</th>\n",
       "      <td>0</td>\n",
       "    </tr>\n",
       "    <tr>\n",
       "      <th>XNK[.qal -- dedicate</th>\n",
       "      <td>0</td>\n",
       "    </tr>\n",
       "    <tr>\n",
       "      <th>XNP[.qal -- alienate</th>\n",
       "      <td>0</td>\n",
       "    </tr>\n",
       "    <tr>\n",
       "      <th>XNV[.qal -- embalm</th>\n",
       "      <td>0</td>\n",
       "    </tr>\n",
       "    <tr>\n",
       "      <th>XPH[.piel -- cover</th>\n",
       "      <td>0</td>\n",
       "    </tr>\n",
       "    <tr>\n",
       "      <th>XRM[.hif -- consecrate</th>\n",
       "      <td>0</td>\n",
       "    </tr>\n",
       "    <tr>\n",
       "      <th>XRP[.piel -- reproach</th>\n",
       "      <td>0</td>\n",
       "    </tr>\n",
       "    <tr>\n",
       "      <th>XRY[.qal -- cut off</th>\n",
       "      <td>0</td>\n",
       "    </tr>\n",
       "    <tr>\n",
       "      <th>XV&gt;[.hif -- miss</th>\n",
       "      <td>0</td>\n",
       "    </tr>\n",
       "    <tr>\n",
       "      <th>XV&gt;[.piel -- miss</th>\n",
       "      <td>0</td>\n",
       "    </tr>\n",
       "    <tr>\n",
       "      <th>XYH[.qal -- divide</th>\n",
       "      <td>0</td>\n",
       "    </tr>\n",
       "    <tr>\n",
       "      <th>XZH[.qal -- see</th>\n",
       "      <td>0</td>\n",
       "    </tr>\n",
       "    <tr>\n",
       "      <th>XZQ[.piel -- be strong</th>\n",
       "      <td>0</td>\n",
       "    </tr>\n",
       "    <tr>\n",
       "      <th>Y&lt;Q[.hif -- cry</th>\n",
       "      <td>0</td>\n",
       "    </tr>\n",
       "    <tr>\n",
       "      <th>YWH[.piel -- command</th>\n",
       "      <td>0</td>\n",
       "    </tr>\n",
       "    <tr>\n",
       "      <th>ZKR[.qal -- remember</th>\n",
       "      <td>0</td>\n",
       "    </tr>\n",
       "    <tr>\n",
       "      <th>ZNH[.hif -- fornicate</th>\n",
       "      <td>0</td>\n",
       "    </tr>\n",
       "  </tbody>\n",
       "</table>\n",
       "<p>174 rows × 1 columns</p>\n",
       "</div>"
      ],
      "text/plain": [
       "                          cluster\n",
       "<BD[.qal -- work, serve         0\n",
       "<FH[.qal -- make                0\n",
       "<LH[.hif -- ascend              0\n",
       "<NH[.qal -- answer              0\n",
       "<QD[.qal -- bind                0\n",
       "<QR[.piel -- root up            0\n",
       "<WR=[.piel -- be blind          0\n",
       "<WR[.hif -- be awake            0\n",
       "<WR[.piel -- be awake           0\n",
       "<YB[.piel -- hurt               0\n",
       "<ZB[.qal -- leave               0\n",
       ">BD[.hif -- perish              0\n",
       ">BD[.piel -- perish             0\n",
       ">HB[.qal -- love                0\n",
       ">KL[.qal -- eat                 0\n",
       ">PH[.qal -- bake                0\n",
       ">SP[.qal -- gather              0\n",
       "BCL[.piel -- boil               0\n",
       "BFR[.piel -- announce           0\n",
       "BNH[.qal -- build               0\n",
       "BQC[.piel -- seek               0\n",
       "BRK[.piel -- bless              0\n",
       "BW>[.hif -- come                0\n",
       "BZZ[.qal -- spoil               0\n",
       "CB<[.hif -- swear               0\n",
       "CBH[.qal -- take captive        0\n",
       "CBR[.piel -- break              0\n",
       "CBR[.qal -- break               0\n",
       "CKN[.hif -- dwell               0\n",
       "CKX[.qal -- forget              0\n",
       "...                           ...\n",
       "SWT[.hif -- incite              0\n",
       "T<B[.nif -- be abhorrent        0\n",
       "TLH[.qal -- hang                0\n",
       "TPF[.qal -- seize               0\n",
       "TWR[.qal -- spy                 0\n",
       "VM>[.piel -- be unclean         0\n",
       "VWL[.hif -- cast                0\n",
       "XBC[.qal -- saddle              0\n",
       "XBR[.piel -- be united          0\n",
       "XDC[.piel -- be new             0\n",
       "XJH[.piel -- be alive           0\n",
       "XKH[.piel -- wait               0\n",
       "XLH[.piel -- become weak        0\n",
       "XLQ[.piel -- divide             0\n",
       "XNK[.qal -- dedicate            0\n",
       "XNP[.qal -- alienate            0\n",
       "XNV[.qal -- embalm              0\n",
       "XPH[.piel -- cover              0\n",
       "XRM[.hif -- consecrate          0\n",
       "XRP[.piel -- reproach           0\n",
       "XRY[.qal -- cut off             0\n",
       "XV>[.hif -- miss                0\n",
       "XV>[.piel -- miss               0\n",
       "XYH[.qal -- divide              0\n",
       "XZH[.qal -- see                 0\n",
       "XZQ[.piel -- be strong          0\n",
       "Y<Q[.hif -- cry                 0\n",
       "YWH[.piel -- command            0\n",
       "ZKR[.qal -- remember            0\n",
       "ZNH[.hif -- fornicate           0\n",
       "\n",
       "[174 rows x 1 columns]"
      ]
     },
     "execution_count": 88,
     "metadata": {},
     "output_type": "execute_result"
    }
   ],
   "source": [
    "cglossedmin = pd.DataFrame(kmeans.labels_, \n",
    "                           index=[f'{F.lex.v(ce1.target2lex[w])}.{F.vs.v(ce1.target2node[w])} -- {ce1.target2gloss[w]}' for w in cs1.raw.columns], \n",
    "                           columns=['cluster']).fillna(0)\n",
    "\n",
    "clustmin = pd.DataFrame(kmeans.labels_, \n",
    "                        index=cs1.raw.columns, \n",
    "                        columns=['cluster']).fillna(0)\n",
    "\n",
    "cglossedmin[cglossedmin.cluster == 0]"
   ]
  },
  {
   "cell_type": "code",
   "execution_count": 89,
   "metadata": {},
   "outputs": [
    {
     "data": {
      "text/html": [
       "<div>\n",
       "<style scoped>\n",
       "    .dataframe tbody tr th:only-of-type {\n",
       "        vertical-align: middle;\n",
       "    }\n",
       "\n",
       "    .dataframe tbody tr th {\n",
       "        vertical-align: top;\n",
       "    }\n",
       "\n",
       "    .dataframe thead th {\n",
       "        text-align: right;\n",
       "    }\n",
       "</style>\n",
       "<table border=\"1\" class=\"dataframe\">\n",
       "  <thead>\n",
       "    <tr style=\"text-align: right;\">\n",
       "      <th></th>\n",
       "      <th>cluster</th>\n",
       "    </tr>\n",
       "  </thead>\n",
       "  <tbody>\n",
       "    <tr>\n",
       "      <th>&lt;BD[.hif -- work, serve</th>\n",
       "      <td>1</td>\n",
       "    </tr>\n",
       "    <tr>\n",
       "      <th>&lt;BR=[.hit -- be angry</th>\n",
       "      <td>1</td>\n",
       "    </tr>\n",
       "    <tr>\n",
       "      <th>&lt;BR[.hif -- pass</th>\n",
       "      <td>1</td>\n",
       "    </tr>\n",
       "    <tr>\n",
       "      <th>&lt;BR[.piel -- pass</th>\n",
       "      <td>1</td>\n",
       "    </tr>\n",
       "    <tr>\n",
       "      <th>&lt;BR[.qal -- pass</th>\n",
       "      <td>1</td>\n",
       "    </tr>\n",
       "    <tr>\n",
       "      <th>&lt;DR[.nif -- be missing</th>\n",
       "      <td>1</td>\n",
       "    </tr>\n",
       "    <tr>\n",
       "      <th>&lt;FH[.nif -- make</th>\n",
       "      <td>1</td>\n",
       "    </tr>\n",
       "    <tr>\n",
       "      <th>&lt;GB[.qal -- desire</th>\n",
       "      <td>1</td>\n",
       "    </tr>\n",
       "    <tr>\n",
       "      <th>&lt;JV[.qal -- rebuke</th>\n",
       "      <td>1</td>\n",
       "    </tr>\n",
       "    <tr>\n",
       "      <th>&lt;LH[.hof -- ascend</th>\n",
       "      <td>1</td>\n",
       "    </tr>\n",
       "    <tr>\n",
       "      <th>&lt;LH[.nif -- ascend</th>\n",
       "      <td>1</td>\n",
       "    </tr>\n",
       "    <tr>\n",
       "      <th>&lt;LH[.qal -- ascend</th>\n",
       "      <td>1</td>\n",
       "    </tr>\n",
       "    <tr>\n",
       "      <th>&lt;LL[.piel -- deal with</th>\n",
       "      <td>1</td>\n",
       "    </tr>\n",
       "    <tr>\n",
       "      <th>&lt;MD[.hif -- stand</th>\n",
       "      <td>1</td>\n",
       "    </tr>\n",
       "    <tr>\n",
       "      <th>&lt;MD[.qal -- stand</th>\n",
       "      <td>1</td>\n",
       "    </tr>\n",
       "    <tr>\n",
       "      <th>&lt;NH=[.hit -- be lowly</th>\n",
       "      <td>1</td>\n",
       "    </tr>\n",
       "    <tr>\n",
       "      <th>&lt;NH=[.piel -- be lowly</th>\n",
       "      <td>1</td>\n",
       "    </tr>\n",
       "    <tr>\n",
       "      <th>&lt;RH[.piel -- pour out</th>\n",
       "      <td>1</td>\n",
       "    </tr>\n",
       "    <tr>\n",
       "      <th>&lt;RK[.qal -- arrange</th>\n",
       "      <td>1</td>\n",
       "    </tr>\n",
       "    <tr>\n",
       "      <th>&lt;TD[.hit -- prepare</th>\n",
       "      <td>1</td>\n",
       "    </tr>\n",
       "    <tr>\n",
       "      <th>&lt;TQ[.hif -- advance</th>\n",
       "      <td>1</td>\n",
       "    </tr>\n",
       "    <tr>\n",
       "      <th>&lt;TR[.nif -- entreat</th>\n",
       "      <td>1</td>\n",
       "    </tr>\n",
       "    <tr>\n",
       "      <th>&lt;TR[.qal -- entreat</th>\n",
       "      <td>1</td>\n",
       "    </tr>\n",
       "    <tr>\n",
       "      <th>&lt;VH[.qal -- cover</th>\n",
       "      <td>1</td>\n",
       "    </tr>\n",
       "    <tr>\n",
       "      <th>&lt;WD[.hif -- warn, to witness</th>\n",
       "      <td>1</td>\n",
       "    </tr>\n",
       "    <tr>\n",
       "      <th>&lt;YB[.hit -- hurt</th>\n",
       "      <td>1</td>\n",
       "    </tr>\n",
       "    <tr>\n",
       "      <th>&lt;YM[.hif -- be mighty</th>\n",
       "      <td>1</td>\n",
       "    </tr>\n",
       "    <tr>\n",
       "      <th>&lt;YM[.qal -- be mighty</th>\n",
       "      <td>1</td>\n",
       "    </tr>\n",
       "    <tr>\n",
       "      <th>&lt;YR[.nif -- restrain</th>\n",
       "      <td>1</td>\n",
       "    </tr>\n",
       "    <tr>\n",
       "      <th>&lt;YR[.qal -- restrain</th>\n",
       "      <td>1</td>\n",
       "    </tr>\n",
       "    <tr>\n",
       "      <th>...</th>\n",
       "      <td>...</td>\n",
       "    </tr>\n",
       "    <tr>\n",
       "      <th>YDQ[.piel -- be just</th>\n",
       "      <td>1</td>\n",
       "    </tr>\n",
       "    <tr>\n",
       "      <th>YLL==[.qal -- grow dark</th>\n",
       "      <td>1</td>\n",
       "    </tr>\n",
       "    <tr>\n",
       "      <th>YLX[.hif -- be strong</th>\n",
       "      <td>1</td>\n",
       "    </tr>\n",
       "    <tr>\n",
       "      <th>YLX[.qal -- be strong</th>\n",
       "      <td>1</td>\n",
       "    </tr>\n",
       "    <tr>\n",
       "      <th>YM&gt;[.qal -- be thirsty</th>\n",
       "      <td>1</td>\n",
       "    </tr>\n",
       "    <tr>\n",
       "      <th>YMD[.nif -- attach</th>\n",
       "      <td>1</td>\n",
       "    </tr>\n",
       "    <tr>\n",
       "      <th>YMX[.hif -- sprout</th>\n",
       "      <td>1</td>\n",
       "    </tr>\n",
       "    <tr>\n",
       "      <th>YNX[.qal -- clap one's hand</th>\n",
       "      <td>1</td>\n",
       "    </tr>\n",
       "    <tr>\n",
       "      <th>YPD[.qal -- shrivel</th>\n",
       "      <td>1</td>\n",
       "    </tr>\n",
       "    <tr>\n",
       "      <th>YPH=[.piel -- arrange</th>\n",
       "      <td>1</td>\n",
       "    </tr>\n",
       "    <tr>\n",
       "      <th>YRR[.qal -- wrap, be narrow</th>\n",
       "      <td>1</td>\n",
       "    </tr>\n",
       "    <tr>\n",
       "      <th>YWM[.qal -- fast</th>\n",
       "      <td>1</td>\n",
       "    </tr>\n",
       "    <tr>\n",
       "      <th>YWR==[.qal -- shape</th>\n",
       "      <td>1</td>\n",
       "    </tr>\n",
       "    <tr>\n",
       "      <th>YWR[.qal -- bind</th>\n",
       "      <td>1</td>\n",
       "    </tr>\n",
       "    <tr>\n",
       "      <th>YXH[.qal -- be white</th>\n",
       "      <td>1</td>\n",
       "    </tr>\n",
       "    <tr>\n",
       "      <th>YXQ[.piel -- laugh</th>\n",
       "      <td>1</td>\n",
       "    </tr>\n",
       "    <tr>\n",
       "      <th>YXQ[.qal -- laugh</th>\n",
       "      <td>1</td>\n",
       "    </tr>\n",
       "    <tr>\n",
       "      <th>Z&lt;P[.qal -- be embittered</th>\n",
       "      <td>1</td>\n",
       "    </tr>\n",
       "    <tr>\n",
       "      <th>Z&lt;Q[.hif -- cry</th>\n",
       "      <td>1</td>\n",
       "    </tr>\n",
       "    <tr>\n",
       "      <th>Z&lt;Q[.qal -- cry</th>\n",
       "      <td>1</td>\n",
       "    </tr>\n",
       "    <tr>\n",
       "      <th>ZBX[.piel -- slaughter</th>\n",
       "      <td>1</td>\n",
       "    </tr>\n",
       "    <tr>\n",
       "      <th>ZBX[.qal -- slaughter</th>\n",
       "      <td>1</td>\n",
       "    </tr>\n",
       "    <tr>\n",
       "      <th>ZKK[.qal -- be clean</th>\n",
       "      <td>1</td>\n",
       "    </tr>\n",
       "    <tr>\n",
       "      <th>ZNH[.qal -- fornicate</th>\n",
       "      <td>1</td>\n",
       "    </tr>\n",
       "    <tr>\n",
       "      <th>ZRH[.piel -- scatter</th>\n",
       "      <td>1</td>\n",
       "    </tr>\n",
       "    <tr>\n",
       "      <th>ZRH[.qal -- scatter</th>\n",
       "      <td>1</td>\n",
       "    </tr>\n",
       "    <tr>\n",
       "      <th>ZRQ[.qal -- toss</th>\n",
       "      <td>1</td>\n",
       "    </tr>\n",
       "    <tr>\n",
       "      <th>ZRR[.piel -- squeeze</th>\n",
       "      <td>1</td>\n",
       "    </tr>\n",
       "    <tr>\n",
       "      <th>ZRX[.qal -- flash up</th>\n",
       "      <td>1</td>\n",
       "    </tr>\n",
       "    <tr>\n",
       "      <th>ZWR=[.qal -- press</th>\n",
       "      <td>1</td>\n",
       "    </tr>\n",
       "  </tbody>\n",
       "</table>\n",
       "<p>620 rows × 1 columns</p>\n",
       "</div>"
      ],
      "text/plain": [
       "                              cluster\n",
       "<BD[.hif -- work, serve             1\n",
       "<BR=[.hit -- be angry               1\n",
       "<BR[.hif -- pass                    1\n",
       "<BR[.piel -- pass                   1\n",
       "<BR[.qal -- pass                    1\n",
       "<DR[.nif -- be missing              1\n",
       "<FH[.nif -- make                    1\n",
       "<GB[.qal -- desire                  1\n",
       "<JV[.qal -- rebuke                  1\n",
       "<LH[.hof -- ascend                  1\n",
       "<LH[.nif -- ascend                  1\n",
       "<LH[.qal -- ascend                  1\n",
       "<LL[.piel -- deal with              1\n",
       "<MD[.hif -- stand                   1\n",
       "<MD[.qal -- stand                   1\n",
       "<NH=[.hit -- be lowly               1\n",
       "<NH=[.piel -- be lowly              1\n",
       "<RH[.piel -- pour out               1\n",
       "<RK[.qal -- arrange                 1\n",
       "<TD[.hit -- prepare                 1\n",
       "<TQ[.hif -- advance                 1\n",
       "<TR[.nif -- entreat                 1\n",
       "<TR[.qal -- entreat                 1\n",
       "<VH[.qal -- cover                   1\n",
       "<WD[.hif -- warn, to witness        1\n",
       "<YB[.hit -- hurt                    1\n",
       "<YM[.hif -- be mighty               1\n",
       "<YM[.qal -- be mighty               1\n",
       "<YR[.nif -- restrain                1\n",
       "<YR[.qal -- restrain                1\n",
       "...                               ...\n",
       "YDQ[.piel -- be just                1\n",
       "YLL==[.qal -- grow dark             1\n",
       "YLX[.hif -- be strong               1\n",
       "YLX[.qal -- be strong               1\n",
       "YM>[.qal -- be thirsty              1\n",
       "YMD[.nif -- attach                  1\n",
       "YMX[.hif -- sprout                  1\n",
       "YNX[.qal -- clap one's hand         1\n",
       "YPD[.qal -- shrivel                 1\n",
       "YPH=[.piel -- arrange               1\n",
       "YRR[.qal -- wrap, be narrow         1\n",
       "YWM[.qal -- fast                    1\n",
       "YWR==[.qal -- shape                 1\n",
       "YWR[.qal -- bind                    1\n",
       "YXH[.qal -- be white                1\n",
       "YXQ[.piel -- laugh                  1\n",
       "YXQ[.qal -- laugh                   1\n",
       "Z<P[.qal -- be embittered           1\n",
       "Z<Q[.hif -- cry                     1\n",
       "Z<Q[.qal -- cry                     1\n",
       "ZBX[.piel -- slaughter              1\n",
       "ZBX[.qal -- slaughter               1\n",
       "ZKK[.qal -- be clean                1\n",
       "ZNH[.qal -- fornicate               1\n",
       "ZRH[.piel -- scatter                1\n",
       "ZRH[.qal -- scatter                 1\n",
       "ZRQ[.qal -- toss                    1\n",
       "ZRR[.piel -- squeeze                1\n",
       "ZRX[.qal -- flash up                1\n",
       "ZWR=[.qal -- press                  1\n",
       "\n",
       "[620 rows x 1 columns]"
      ]
     },
     "execution_count": 89,
     "metadata": {},
     "output_type": "execute_result"
    }
   ],
   "source": [
    "cglossedmin[cglossedmin.cluster == 1]"
   ]
  },
  {
   "cell_type": "markdown",
   "metadata": {},
   "source": [
    "## Subject Only Space"
   ]
  },
  {
   "cell_type": "code",
   "execution_count": null,
   "metadata": {},
   "outputs": [],
   "source": []
  }
 ],
 "metadata": {
  "kernelspec": {
   "display_name": "Python 3",
   "language": "python",
   "name": "python3"
  },
  "language_info": {
   "codemirror_mode": {
    "name": "ipython",
    "version": 3
   },
   "file_extension": ".py",
   "mimetype": "text/x-python",
   "name": "python",
   "nbconvert_exporter": "python",
   "pygments_lexer": "ipython3",
   "version": "3.6.3"
  }
 },
 "nbformat": 4,
 "nbformat_minor": 2
}
