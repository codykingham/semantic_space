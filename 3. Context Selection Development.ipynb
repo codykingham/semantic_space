{
 "cells": [
  {
   "cell_type": "markdown",
   "metadata": {},
   "source": [
    "# Context Selection Development"
   ]
  },
  {
   "cell_type": "code",
   "execution_count": 1,
   "metadata": {},
   "outputs": [
    {
     "name": "stdout",
     "output_type": "stream",
     "text": [
      "This is Text-Fabric 3.2.2\n",
      "Api reference : https://github.com/Dans-labs/text-fabric/wiki/Api\n",
      "Tutorial      : https://github.com/Dans-labs/text-fabric/blob/master/docs/tutorial.ipynb\n",
      "Example data  : https://github.com/Dans-labs/text-fabric-data\n",
      "\n",
      "116 features found and 0 ignored\n",
      "  0.00s loading features ...\n",
      "   |     0.01s B book                 from /Users/cody/github/etcbc/bhsa/tf/c\n",
      "   |     0.00s B chapter              from /Users/cody/github/etcbc/bhsa/tf/c\n",
      "   |     0.00s B verse                from /Users/cody/github/etcbc/bhsa/tf/c\n",
      "   |     0.06s B function             from /Users/cody/github/etcbc/bhsa/tf/c\n",
      "   |     0.12s B sp                   from /Users/cody/github/etcbc/bhsa/tf/c\n",
      "   |     0.11s B pdp                  from /Users/cody/github/etcbc/bhsa/tf/c\n",
      "   |     0.19s B mother               from /Users/cody/github/etcbc/bhsa/tf/c\n",
      "   |     0.19s B rela                 from /Users/cody/github/etcbc/bhsa/tf/c\n",
      "   |     0.19s B typ                  from /Users/cody/github/etcbc/bhsa/tf/c\n",
      "   |     0.11s B lex                  from /Users/cody/github/etcbc/bhsa/tf/c\n",
      "   |     0.11s B ls                   from /Users/cody/github/etcbc/bhsa/tf/c\n",
      "   |     0.00s Feature overview: 109 for nodes; 6 for edges; 1 configs; 7 computed\n",
      "  5.25s All features loaded/computed - for details use loadLog()\n"
     ]
    }
   ],
   "source": [
    "# First, I load the necesssary modules, data, and helper functions.\n",
    "import collections, random\n",
    "from tf.fabric import Fabric\n",
    "from functions.helpers import show_results, filter_results\n",
    "\n",
    "# load BHSA data into TF\n",
    "TF = Fabric(locations=['~/github/etcbc/bhsa/tf', '~/github/semantics'], modules=['c', 'tf'])\n",
    "api = TF.load('''\n",
    "                book chapter verse\n",
    "                function sp pdp mother\n",
    "                rela typ lex ls \n",
    "              ''')\n",
    "api.makeAvailableIn(globals()) # globalize TF methods"
   ]
  },
  {
   "cell_type": "markdown",
   "metadata": {},
   "source": [
    "# Head Noun Extraction"
   ]
  },
  {
   "cell_type": "code",
   "execution_count": 2,
   "metadata": {},
   "outputs": [],
   "source": [
    "def good_phrs_type(phrase_atom, subphrases, diagnose=False):\n",
    "    '''\n",
    "    Return boolean on whether a phrase atom is an acceptable type.\n",
    "    Acceptable is either a noun phrase (NP) or\n",
    "    a prepositional phrase (PP) that is governed only by את.\n",
    "    '''\n",
    "\n",
    "    if F.typ.v(phrase_atom) == 'NP': # noun phrase\n",
    "        return True\n",
    "    \n",
    "    # for logic on this selection criteria, see [?]\n",
    "    prep_sp = sorted(sp for sp in subphrases # sorted sp with prepositions\n",
    "                         if 'prep' in set(F.pdp.v(w) for w in L.d(sp, 'word')))\n",
    "    phrase_type = prep_sp or (phrase_atom,)\n",
    "    preps = [w for w in L.d(phrase_type[0], 'word') \n",
    "                    if F.pdp.v(w) == 'prep']\n",
    "    \n",
    "    if F.typ.v(phrase_atom) == 'PP' and preps: # check for את\n",
    "        prep = preps[0]\n",
    "        if F.lex.v(prep) == '>T':\n",
    "            return True\n",
    "        else:\n",
    "            if diagnose:\n",
    "                print('>T not found...')\n",
    "            return False\n",
    "    else:\n",
    "        if diagnose:\n",
    "            print('neither NP or PP...')\n",
    "            print('phrase_type: ', phrase_type)\n",
    "        return False\n",
    "\n",
    "def get_genitive(abs_wnode, good_pdp, good_sp, diagnose=False):\n",
    "    '''\n",
    "    Extract the head noun in a כֹל construct chain.\n",
    "    The function simply returns the first substantive in the chain.\n",
    "    '''\n",
    "    \n",
    "    rectum = E.mother.t(abs_wnode) # get rectum subphrase\n",
    "    abs_phrase = L.d(L.u(abs_wnode, 'phrase')[0], 'word') # for phrase boundary\n",
    "    \n",
    "    if not rectum:\n",
    "        if diagnose:\n",
    "            print('no rectum found at word', abs_wnode)\n",
    "        return None  # abs not in norm. construct (e.g. w/ verbs)\n",
    "    \n",
    "    # get words and nouns in the rectum subphrase\n",
    "    r_words = L.d(rectum[0], 'word')\n",
    "    r_nouns = [w for w in r_words \n",
    "                   if F.sp.v(w) in good_sp\n",
    "                   and F.pdp.v(w) in good_pdp\n",
    "                   and w in abs_phrase]\n",
    "    if r_nouns:\n",
    "        return r_nouns[0] # return the first noun\n",
    "    else:\n",
    "        if diagnose:\n",
    "            print('no noun found for word', abs_wnode)\n",
    "        return None # no noun found, return nothing\n",
    "    \n",
    "    \n",
    "def get_heads(phrase, diagnose=False):\n",
    "    '''\n",
    "    Returns substantive head nouns, if there are any, from a phrase node.\n",
    "    \"substantive\" does not include prounouns.\n",
    "    \n",
    "    Based on a supplied phrase get phrase atom and subphrase features \n",
    "    and compare them against a group of sets.\n",
    "    Define those sets first. Then make the comparison.\n",
    "    \n",
    "    *Caution* \n",
    "    This function works reasonably well,\n",
    "    but there are a number of edge cases that it does not catch.\n",
    "    Fine-tuning this function would make a nice notebook in itself.\n",
    "    See Gen 20:5 for a good edge case example, in which both היא pronouns\n",
    "    are registered as subjects, but only one should be.\n",
    "    '''\n",
    "    \n",
    "    good_sp = {'subs', 'nmpr', 'adjv'}\n",
    "    good_pdp = {'subs', 'nmpr'}\n",
    "\n",
    "    # exclude words in phrase_atoms with these relation features\n",
    "    omit_pa_rela = {'Appo', # apposition\n",
    "                    'Spec'} # specification\n",
    "    \n",
    "    # exclude words in subphrases with these relation features\n",
    "    omit_sp_rela = {'rec', # nomen rectum\n",
    "                    'adj', # adjunct \n",
    "                    'atr', # attributive\n",
    "                    'mod', # modifier\n",
    "                    'dem'} # demontrative\n",
    "        \n",
    "    heads = [] # nouns go here\n",
    "    phrase_words = L.d(phrase, 'word')\n",
    "        \n",
    "    for word in phrase_words:\n",
    "        \n",
    "        # get phrases's phrase atoms, subphrases, and subphrase relations\n",
    "        phrase_atom = L.u(word, 'phrase_atom')[0]\n",
    "        subphrases = L.u(word, 'subphrase') \n",
    "        sp_relas = set(F.rela.v(sp) for sp in subphrases)\n",
    "        \n",
    "        test_good = [F.pdp.v(word) in good_pdp, # is noun\n",
    "                     F.sp.v(word) in good_sp, # is noun\n",
    "                     good_phrs_type(phrase_atom, subphrases, diagnose), # is NP or PP with את\n",
    "                     F.rela.v(phrase_atom) not in omit_pa_rela, # is valid phrase_atom rela.\n",
    "                     not sp_relas & omit_sp_rela] # is valid subphrase rela.\n",
    "        \n",
    "        # compare word/phrase features\n",
    "        if all(test_good):\n",
    "        \n",
    "            # handle quantifiers\n",
    "            if F.lex.v(word) == 'KL/' or F.ls.v(word) == 'card':\n",
    "                genitive_head = get_genitive(word, good_pdp, good_sp, diagnose) # returns word node or None\n",
    "                if genitive_head:\n",
    "                    heads.append(genitive_head) # valid quantified noun found\n",
    "                else:\n",
    "                    continue # no noun found, skip it\n",
    "            else:\n",
    "                heads.append(word) # word is a head\n",
    "    \n",
    "        else:\n",
    "            if diagnose: \n",
    "                print(T.text([word]), word)\n",
    "                print('test_good', tuple(zip(test_good, ('pdp', 'sp', 'phr_typ', 'pAt_rela', 'sp_rela'))))\n",
    "                print('subphrases', subphrases)\n",
    "                print('phrase_atom', phrase_atom)\n",
    "                print()\n",
    "            continue\n",
    "            \n",
    "    return heads"
   ]
  },
  {
   "cell_type": "markdown",
   "metadata": {},
   "source": [
    "## Subject and Object Omissions\n",
    "\n",
    "A previous version of the valid preposition function only identified nouns from prepositional phrase atoms that spanned the entire functional phrase. That omits cases such as Josh 24:18 with constructs:\n",
    "> ('Joshua', 24, 18) <br>\n",
    "> 722643 אֶת־כָּל־הָעַמִּ֗ים וְאֶת־הָאֱמֹרִ֛י <br>\n",
    "\n",
    "The search below identifies phrases that begin with a preposition besides את and function as an object or subject (N.B. the prep. את can mark subjects in passive constructions). These are the cases which will be excluded by the new version of the function. A survey of these cases confirms that none of them contain nouns that are of interest: that is, none of these prepositions appear to grammaticaly mark a subject or object, but appear to be specifiers. \n",
    "\n",
    "For the old function, see `is_preposition_subj` in the [old version](https://github.com/codykingham/tfNotebooks/blob/master/4Q246_Participants/participant_functions/subjects.py)."
   ]
  },
  {
   "cell_type": "code",
   "execution_count": 3,
   "metadata": {},
   "outputs": [
    {
     "name": "stdout",
     "output_type": "stream",
     "text": [
      "93 results\n",
      "\n"
     ]
    },
    {
     "data": {
      "text/html": [
       "<span style=\"font-family: Times New Roman; font-size: 18px; line-height: 1\">1. Genesis 40:17</span>"
      ],
      "text/plain": [
       "<IPython.core.display.HTML object>"
      ]
     },
     "metadata": {},
     "output_type": "display_data"
    },
    {
     "data": {
      "text/html": [
       "<span style=\"font-family: Times New Roman; font-size: 24px; line-height: 1\">וּבַסַּ֣ל הָֽעֶלְיֹו֔ן <span style=\"color: blue\">מִ</span><span style=\"color: blue\">כֹּ֛ל </span><span style=\"color: blue\">מַאֲכַ֥ל </span><span style=\"color: blue\">פַּרְעֹ֖ה </span><span style=\"color: blue\">מַעֲשֵׂ֣ה </span><span style=\"color: blue\">אֹפֶ֑ה </span></span>"
      ],
      "text/plain": [
       "<IPython.core.display.HTML object>"
      ]
     },
     "metadata": {},
     "output_type": "display_data"
    },
    {
     "name": "stdout",
     "output_type": "stream",
     "text": [
      "-------------------- \n",
      "\n"
     ]
    },
    {
     "data": {
      "text/html": [
       "<span style=\"font-family: Times New Roman; font-size: 18px; line-height: 1\">2. Genesis 44:18</span>"
      ],
      "text/plain": [
       "<IPython.core.display.HTML object>"
      ]
     },
     "metadata": {},
     "output_type": "display_data"
    },
    {
     "data": {
      "text/html": [
       "<span style=\"font-family: Times New Roman; font-size: 24px; line-height: 1\">כִּ֥י <span style=\"color: green\">כָמֹ֖וךָ </span>כְּפַרְעֹֽה׃ </span>"
      ],
      "text/plain": [
       "<IPython.core.display.HTML object>"
      ]
     },
     "metadata": {},
     "output_type": "display_data"
    },
    {
     "name": "stdout",
     "output_type": "stream",
     "text": [
      "-------------------- \n",
      "\n"
     ]
    },
    {
     "data": {
      "text/html": [
       "<span style=\"font-family: Times New Roman; font-size: 18px; line-height: 1\">3. Genesis 47:26</span>"
      ],
      "text/plain": [
       "<IPython.core.display.HTML object>"
      ]
     },
     "metadata": {},
     "output_type": "display_data"
    },
    {
     "data": {
      "text/html": [
       "<span style=\"font-family: Times New Roman; font-size: 24px; line-height: 1\">לְפַרְעֹ֖ה <span style=\"color: blue\">לַ</span><span style=\"color: blue\"></span><span style=\"color: blue\">חֹ֑מֶשׁ </span></span>"
      ],
      "text/plain": [
       "<IPython.core.display.HTML object>"
      ]
     },
     "metadata": {},
     "output_type": "display_data"
    },
    {
     "name": "stdout",
     "output_type": "stream",
     "text": [
      "-------------------- \n",
      "\n"
     ]
    },
    {
     "data": {
      "text/html": [
       "<span style=\"font-family: Times New Roman; font-size: 18px; line-height: 1\">4. Exodus 4:9</span>"
      ],
      "text/plain": [
       "<IPython.core.display.HTML object>"
      ]
     },
     "metadata": {},
     "output_type": "display_data"
    },
    {
     "data": {
      "text/html": [
       "<span style=\"font-family: Times New Roman; font-size: 24px; line-height: 1\">וְלָקַחְתָּ֙ <span style=\"color: green\">מִ</span><span style=\"color: green\">מֵּימֵ֣י </span><span style=\"color: green\">הַ</span><span style=\"color: green\">יְאֹ֔ר </span></span>"
      ],
      "text/plain": [
       "<IPython.core.display.HTML object>"
      ]
     },
     "metadata": {},
     "output_type": "display_data"
    },
    {
     "name": "stdout",
     "output_type": "stream",
     "text": [
      "-------------------- \n",
      "\n"
     ]
    },
    {
     "data": {
      "text/html": [
       "<span style=\"font-family: Times New Roman; font-size: 18px; line-height: 1\">5. Exodus 17:5</span>"
      ],
      "text/plain": [
       "<IPython.core.display.HTML object>"
      ]
     },
     "metadata": {},
     "output_type": "display_data"
    },
    {
     "data": {
      "text/html": [
       "<span style=\"font-family: Times New Roman; font-size: 24px; line-height: 1\">וְקַ֥ח אִתְּךָ֖ <span style=\"color: blue\">מִ</span><span style=\"color: blue\">זִּקְנֵ֣י </span><span style=\"color: blue\">יִשְׂרָאֵ֑ל </span></span>"
      ],
      "text/plain": [
       "<IPython.core.display.HTML object>"
      ]
     },
     "metadata": {},
     "output_type": "display_data"
    },
    {
     "name": "stdout",
     "output_type": "stream",
     "text": [
      "-------------------- \n",
      "\n",
      "results cut off at 5\n"
     ]
    }
   ],
   "source": [
    "targets = []\n",
    "\n",
    "for phrase in F.otype.s('phrase'):\n",
    "    \n",
    "    if F.function.v(phrase) not in {'Subj', 'Objc'}:\n",
    "        continue\n",
    "    \n",
    "    phrase_atoms = L.d(phrase, 'phrase_atom')\n",
    "    pa_lex = set(F.lex.v(w) for w in L.d(phrase_atoms[0], 'word'))\n",
    "        \n",
    "    if F.typ.v(phrase_atoms[0]) == 'PP' and '>T' not in pa_lex:\n",
    "        \n",
    "        targets.append((L.u(phrase, 'clause')[0], phrase, phrase_atoms[0]))\n",
    "        \n",
    "show_results(targets, limit=5, highlight=[1])"
   ]
  },
  {
   "cell_type": "markdown",
   "metadata": {},
   "source": [
    "Further inspection of subject or object phrases that do not begin with את but contain את later on in the phrase shows that most of these are cases of adjectival specification, with a few parallel relationships reflected. In particular, it was important to be sure that את in the adjectival sense, especially where it has the sense of \"with\" rather than a grammatical one, would be excluded from the noun selector. Many of the finds by this search were more appositional than used in this \"with sense\". But a handful were found. 1 Chronicles 20:5, broken down below this search, confirms that את phrases in this adjectival sense are marked as `Spec` for specification. Thus, it is completely safe in the preposition parser function to take any את prepositional phrase. The acceptable subphrase relation set will then eliminate any match that is a specifier."
   ]
  },
  {
   "cell_type": "code",
   "execution_count": 4,
   "metadata": {},
   "outputs": [
    {
     "name": "stdout",
     "output_type": "stream",
     "text": [
      "54 results\n",
      "\n"
     ]
    },
    {
     "data": {
      "text/html": [
       "<span style=\"font-family: Times New Roman; font-size: 18px; line-height: 1\">1. Genesis 6:10</span>"
      ],
      "text/plain": [
       "<IPython.core.display.HTML object>"
      ]
     },
     "metadata": {},
     "output_type": "display_data"
    },
    {
     "data": {
      "text/html": [
       "<span style=\"font-family: Times New Roman; font-size: 24px; line-height: 1\">וַיֹּ֥ולֶד נֹ֖חַ <span style=\"color: blue\">שְׁלֹשָׁ֣ה </span><span style=\"color: blue\">בָנִ֑ים </span><span style=\"color: green\">אֶת־</span><span style=\"color: green\">שֵׁ֖ם </span><span style=\"color: green\">אֶת־</span><span style=\"color: green\">חָ֥ם </span><span style=\"color: green\">וְ</span><span style=\"color: green\">אֶת־</span><span style=\"color: green\">יָֽפֶת׃ </span></span>"
      ],
      "text/plain": [
       "<IPython.core.display.HTML object>"
      ]
     },
     "metadata": {},
     "output_type": "display_data"
    },
    {
     "name": "stdout",
     "output_type": "stream",
     "text": [
      "-------------------- \n",
      "\n"
     ]
    },
    {
     "data": {
      "text/html": [
       "<span style=\"font-family: Times New Roman; font-size: 18px; line-height: 1\">2. Genesis 40:8</span>"
      ],
      "text/plain": [
       "<IPython.core.display.HTML object>"
      ]
     },
     "metadata": {},
     "output_type": "display_data"
    },
    {
     "data": {
      "text/html": [
       "<span style=\"font-family: Times New Roman; font-size: 24px; line-height: 1\">וּ<span style=\"color: blue\">פֹתֵ֖ר </span>אֵ֣ין <span style=\"color: green\">אֹתֹ֑ו </span></span>"
      ],
      "text/plain": [
       "<IPython.core.display.HTML object>"
      ]
     },
     "metadata": {},
     "output_type": "display_data"
    },
    {
     "name": "stdout",
     "output_type": "stream",
     "text": [
      "-------------------- \n",
      "\n"
     ]
    },
    {
     "data": {
      "text/html": [
       "<span style=\"font-family: Times New Roman; font-size: 18px; line-height: 1\">3. Genesis 41:15</span>"
      ],
      "text/plain": [
       "<IPython.core.display.HTML object>"
      ]
     },
     "metadata": {},
     "output_type": "display_data"
    },
    {
     "data": {
      "text/html": [
       "<span style=\"font-family: Times New Roman; font-size: 24px; line-height: 1\">וּ<span style=\"color: blue\">פֹתֵ֖ר </span>אֵ֣ין <span style=\"color: green\">אֹתֹ֑ו </span></span>"
      ],
      "text/plain": [
       "<IPython.core.display.HTML object>"
      ]
     },
     "metadata": {},
     "output_type": "display_data"
    },
    {
     "name": "stdout",
     "output_type": "stream",
     "text": [
      "-------------------- \n",
      "\n"
     ]
    },
    {
     "data": {
      "text/html": [
       "<span style=\"font-family: Times New Roman; font-size: 18px; line-height: 1\">4. Exodus 1:11</span>"
      ],
      "text/plain": [
       "<IPython.core.display.HTML object>"
      ]
     },
     "metadata": {},
     "output_type": "display_data"
    },
    {
     "data": {
      "text/html": [
       "<span style=\"font-family: Times New Roman; font-size: 24px; line-height: 1\">וַיִּ֜בֶן <span style=\"color: blue\">עָרֵ֤י </span><span style=\"color: blue\">מִסְכְּנֹות֙ </span>לְפַרְעֹ֔ה <span style=\"color: green\">אֶת־</span><span style=\"color: green\">פִּתֹ֖ם </span><span style=\"color: green\">וְ</span><span style=\"color: green\">אֶת־</span><span style=\"color: green\">רַעַמְסֵֽס׃ </span></span>"
      ],
      "text/plain": [
       "<IPython.core.display.HTML object>"
      ]
     },
     "metadata": {},
     "output_type": "display_data"
    },
    {
     "name": "stdout",
     "output_type": "stream",
     "text": [
      "-------------------- \n",
      "\n"
     ]
    },
    {
     "data": {
      "text/html": [
       "<span style=\"font-family: Times New Roman; font-size: 18px; line-height: 1\">5. Exodus 35:25</span>"
      ],
      "text/plain": [
       "<IPython.core.display.HTML object>"
      ]
     },
     "metadata": {},
     "output_type": "display_data"
    },
    {
     "data": {
      "text/html": [
       "<span style=\"font-family: Times New Roman; font-size: 24px; line-height: 1\">וַיָּבִ֣יאוּ <span style=\"color: blue\">מַטְוֶ֗ה </span><span style=\"color: green\">אֶֽת־</span><span style=\"color: green\">הַ</span><span style=\"color: green\">תְּכֵ֨לֶת֙ </span><span style=\"color: green\">וְ</span><span style=\"color: green\">אֶת־</span><span style=\"color: green\">הָֽ</span><span style=\"color: green\">אַרְגָּמָ֔ן </span><span style=\"color: green\">אֶת־</span><span style=\"color: green\">תֹּולַ֥עַת </span><span style=\"color: green\">הַ</span><span style=\"color: green\">שָּׁנִ֖י </span><span style=\"color: green\">וְ</span><span style=\"color: green\">אֶת־</span><span style=\"color: green\">הַ</span><span style=\"color: green\">שֵּֽׁשׁ׃ </span></span>"
      ],
      "text/plain": [
       "<IPython.core.display.HTML object>"
      ]
     },
     "metadata": {},
     "output_type": "display_data"
    },
    {
     "name": "stdout",
     "output_type": "stream",
     "text": [
      "-------------------- \n",
      "\n",
      "results cut off at 5\n"
     ]
    }
   ],
   "source": [
    "targets = []\n",
    "\n",
    "for phrase in F.otype.s('phrase'):\n",
    "    \n",
    "    if F.function.v(phrase) not in {'Subj', 'Objc'}:\n",
    "        continue\n",
    "    \n",
    "    phrase_atoms = L.d(phrase, 'phrase_atom')\n",
    "    first_pa = phrase_atoms[0]\n",
    "    f_pa_lex = set(F.lex.v(w) for w in L.d(first_pa, 'word'))\n",
    "    \n",
    "    if '>T' in f_pa_lex:\n",
    "        continue\n",
    "    \n",
    "    for i in range(1, len(phrase_atoms)):\n",
    "        \n",
    "        other_pa = phrase_atoms[i]\n",
    "        pa_lex = set(F.lex.v(w) for w in L.d(other_pa, 'word'))\n",
    "        \n",
    "        if F.typ.v(other_pa) == 'PP' and '>T' in pa_lex:\n",
    "\n",
    "            targets.append((L.u(phrase, 'clause')[0], phrase, other_pa))\n",
    "            break\n",
    "        \n",
    "show_results(targets, limit=5, highlight=[1, 2])"
   ]
  },
  {
   "cell_type": "markdown",
   "metadata": {},
   "source": [
    "As seen below, \"war *with Philistines*\" is marked as `Spec`. "
   ]
  },
  {
   "cell_type": "code",
   "execution_count": 5,
   "metadata": {},
   "outputs": [
    {
     "name": "stdout",
     "output_type": "stream",
     "text": [
      "1158377\n",
      "מִלְחָמָ֖ה \n",
      "NA\n",
      "\n",
      "1158378\n",
      "אֶת־פְּלִשְׁתִּ֑ים \n",
      "Spec\n",
      "\n"
     ]
    }
   ],
   "source": [
    "# (\"1_Chronicles\", 20, 5)\n",
    "for sp in (L.d(892236, 'phrase_atom')):\n",
    "    print(sp)\n",
    "    print(T.text(L.d(sp, 'word')))\n",
    "    print(F.rela.v(sp))\n",
    "    print()"
   ]
  },
  {
   "cell_type": "markdown",
   "metadata": {},
   "source": [
    "### Ordering of Subphrases on a L.u call from Word Node\n",
    "\n",
    "This search demonstrates that subphrase nodes are indeed ordered by size when called from a word node, i.e. subphrases that contain less words receive smaller node numbers. If they are equal in size, either one might have the lower node number.\n",
    "\n",
    "It is indeed acceptable to select the first subphrase on a `L.u` call from a word for preposition testing. That is the subphrase which will be closest to the word level."
   ]
  },
  {
   "cell_type": "code",
   "execution_count": 6,
   "metadata": {},
   "outputs": [
    {
     "data": {
      "text/plain": [
       "0"
      ]
     },
     "execution_count": 6,
     "metadata": {},
     "output_type": "execute_result"
    }
   ],
   "source": [
    "not_true = []\n",
    "true = 0\n",
    "no_sp = 0\n",
    "\n",
    "for word in F.otype.s('word'):\n",
    "    \n",
    "    subphrases = sorted(L.u(word, 'subphrase'))\n",
    "    \n",
    "    if not subphrases:\n",
    "        no_sp += 1\n",
    "        continue\n",
    "        \n",
    "    sp_len = sorted((len(L.d(sp, 'word')), sp) for sp in subphrases) # sort by word length\n",
    "    sp_check = [sp[1] for sp in sp_len] # iterate over sorted list and grab subphrase nodes\n",
    "    \n",
    "    if sp_check == subphrases: # check them\n",
    "        true += 1\n",
    "        \n",
    "    else:\n",
    "        not_true.append(word)\n",
    "\n",
    "len(not_true)"
   ]
  },
  {
   "cell_type": "markdown",
   "metadata": {},
   "source": [
    "## Testing the Function"
   ]
  },
  {
   "cell_type": "code",
   "execution_count": 7,
   "metadata": {},
   "outputs": [],
   "source": [
    "# # test the function\n",
    "\n",
    "# results = []\n",
    "# ct = 0\n",
    "\n",
    "# object_phrases = list(F.function.s('Objc'))\n",
    "\n",
    "# random.shuffle(object_phrases)\n",
    "\n",
    "# for phrase in object_phrases:\n",
    "    \n",
    "#     heads = get_heads(phrase)\n",
    "    \n",
    "#     if heads and len(heads) < len(L.d(phrase, 'word')):\n",
    "        \n",
    "#         print(T.sectionFromNode(phrase))\n",
    "#         print(T.text(L.d(L.u(phrase, 'clause')[0], 'word')))\n",
    "#         print(phrase)\n",
    "#         print(T.text(L.d(phrase, 'word')))\n",
    "#         heads = [T.text([head]) for head in heads]\n",
    "#         print(' | '.join(heads))\n",
    "#         print()\n",
    "        \n",
    "#         ct += 1\n",
    "        \n",
    "#         if ct == 100:\n",
    "#             break"
   ]
  },
  {
   "cell_type": "markdown",
   "metadata": {},
   "source": [
    "### How Many Phrases Does it Validate?"
   ]
  },
  {
   "cell_type": "code",
   "execution_count": 8,
   "metadata": {},
   "outputs": [
    {
     "data": {
      "text/plain": [
       "Counter({'heads_found': 36608,\n",
       "         'pronoun_excluded': 5722,\n",
       "         'total': 54599,\n",
       "         'unknown': 12268})"
      ]
     },
     "execution_count": 8,
     "metadata": {},
     "output_type": "execute_result"
    }
   ],
   "source": [
    "phrase_counts = collections.Counter()\n",
    "\n",
    "for phrase in F.otype.s('phrase'):\n",
    "    \n",
    "    if F.function.v(phrase) not in {'Subj', 'Objc'}:\n",
    "        continue\n",
    "        \n",
    "    heads = get_heads(phrase)\n",
    "    pdps = set(F.pdp.v(w) for w in L.d(phrase))\n",
    "    \n",
    "    phrase_counts['total'] += 1\n",
    "    \n",
    "    if heads:\n",
    "        phrase_counts['heads_found'] += 1\n",
    "        \n",
    "    elif pdps & {'prps', 'prde', 'prin'}:\n",
    "        phrase_counts['pronoun_excluded'] += 1\n",
    "    \n",
    "    elif pdps & {'intj'}:\n",
    "        phrase_counts['interjection_excluded']\n",
    "    \n",
    "    else:\n",
    "        phrase_counts['unknown'] += 1     \n",
    "        \n",
    "phrase_counts"
   ]
  },
  {
   "cell_type": "markdown",
   "metadata": {},
   "source": [
    "### Push to TF as Edges\n",
    "\n",
    "Apply the function phrase atoms and phrases that serve as subjects or objects in the BHSA. The relationships will be pushed out to TF as an edge relation from a phrase to its head noun word nodes."
   ]
  },
  {
   "cell_type": "code",
   "execution_count": 9,
   "metadata": {},
   "outputs": [
    {
     "name": "stdout",
     "output_type": "stream",
     "text": [
      "This is Text-Fabric 3.2.2\n",
      "Api reference : https://github.com/Dans-labs/text-fabric/wiki/Api\n",
      "Tutorial      : https://github.com/Dans-labs/text-fabric/blob/master/docs/tutorial.ipynb\n",
      "Example data  : https://github.com/Dans-labs/text-fabric-data\n",
      "\n",
      "0 features found and 0 ignored\n"
     ]
    },
    {
     "name": "stderr",
     "output_type": "stream",
     "text": [
      "  0.00s Warp feature \"otype\" not found in\n",
      "\n",
      "  0.00s Warp feature \"oslots\" not found in\n",
      "\n"
     ]
    },
    {
     "name": "stdout",
     "output_type": "stream",
     "text": [
      "  0.00s Warp feature \"otext\" not found. Working without Text-API\n",
      "\n",
      "  0.00s Exporting 0 node and 1 edge and 0 config features to tf:\n",
      "   |     0.20s T heads                to tf\n",
      "  0.20s Exported 0 node features and 1 edge features and 0 config features to tf\n"
     ]
    }
   ],
   "source": [
    "meta = {'': {'created_by': 'Cody Kingham',\n",
    "             'coreData': 'BHSA',\n",
    "             'coreVersion': 'c'\n",
    "            },\n",
    "        'heads' : {'source': 'see the notebooks at https://github.com/codykingham/semantics',\n",
    "                  'valueType': 'int',\n",
    "                  'edgeValues': False}\n",
    "       }\n",
    "\n",
    "heads = {}\n",
    "\n",
    "for phrase in F.otype.s('phrase'):\n",
    "    \n",
    "    # only push features for these two types for now\n",
    "    if F.function.v(phrase) not in {'Subj', 'Objc'}:\n",
    "        continue\n",
    "    \n",
    "    phrase_heads = get_heads(phrase)\n",
    "    \n",
    "    if phrase_heads:\n",
    "        heads[phrase] = set(phrase_heads)\n",
    "    \n",
    "    for phrase_atom in L.d(phrase, 'phrase_atom'):\n",
    "        phraseAt_heads = get_heads(phrase_atom)\n",
    "        if phraseAt_heads:\n",
    "            heads[phrase_atom] = set(phraseAt_heads)\n",
    "        \n",
    "new_edges = {'heads': heads}\n",
    "\n",
    "saveTF = Fabric('tf')\n",
    "saveTF.save(nodeFeatures={}, edgeFeatures=new_edges, metaData=meta)"
   ]
  },
  {
   "cell_type": "markdown",
   "metadata": {},
   "source": [
    "### Test Heads Feature"
   ]
  },
  {
   "cell_type": "code",
   "execution_count": 10,
   "metadata": {},
   "outputs": [
    {
     "name": "stdout",
     "output_type": "stream",
     "text": [
      "  0.00s loading features ...\n",
      "   |     0.31s T heads                from /Users/cody/github/semantics/tf\n",
      "  0.37s All additional features loaded - for details use loadLog()\n"
     ]
    }
   ],
   "source": [
    "TF.load('heads', add=True)"
   ]
  },
  {
   "cell_type": "code",
   "execution_count": 28,
   "metadata": {},
   "outputs": [
    {
     "name": "stdout",
     "output_type": "stream",
     "text": [
      "('Genesis', 1, 1)\n",
      "בְּרֵאשִׁ֖ית בָּרָ֣א אֱלֹהִ֑ים אֵ֥ת הַשָּׁמַ֖יִם וְאֵ֥ת הָאָֽרֶץ׃ \n",
      "אֱלֹהִ֑ים \n",
      "(4,)\n",
      "אֱלֹהִ֑ים \n",
      "\n",
      "('Genesis', 1, 1)\n",
      "בְּרֵאשִׁ֖ית בָּרָ֣א אֱלֹהִ֑ים אֵ֥ת הַשָּׁמַ֖יִם וְאֵ֥ת הָאָֽרֶץ׃ \n",
      "אֵ֥ת הַשָּׁמַ֖יִם וְאֵ֥ת הָאָֽרֶץ׃ \n",
      "(7, 11)\n",
      "שָּׁמַ֖יִם אָֽרֶץ׃ \n",
      "\n",
      "('Genesis', 1, 2)\n",
      "וְהָאָ֗רֶץ הָיְתָ֥ה תֹ֨הוּ֙ וָבֹ֔הוּ \n",
      "הָאָ֗רֶץ \n",
      "(14,)\n",
      "אָ֗רֶץ \n",
      "\n",
      "('Genesis', 1, 2)\n",
      "וְחֹ֖שֶׁךְ עַל־פְּנֵ֣י תְהֹ֑ום \n",
      "חֹ֖שֶׁךְ \n",
      "(20,)\n",
      "חֹ֖שֶׁךְ \n",
      "\n",
      "('Genesis', 1, 2)\n",
      "וְר֣וּחַ אֱלֹהִ֔ים מְרַחֶ֖פֶת עַל־פְּנֵ֥י הַמָּֽיִם׃ \n",
      "ר֣וּחַ אֱלֹהִ֔ים \n",
      "(25,)\n",
      "ר֣וּחַ \n",
      "\n",
      "('Genesis', 1, 3)\n",
      "וַיֹּ֥אמֶר אֱלֹהִ֖ים \n",
      "אֱלֹהִ֖ים \n",
      "(34,)\n",
      "אֱלֹהִ֖ים \n",
      "\n",
      "('Genesis', 1, 3)\n",
      "יְהִ֣י אֹ֑ור \n",
      "אֹ֑ור \n",
      "(36,)\n",
      "אֹ֑ור \n",
      "\n",
      "('Genesis', 1, 3)\n",
      "וַֽיְהִי־אֹֽור׃ \n",
      "אֹֽור׃ \n",
      "(39,)\n",
      "אֹֽור׃ \n",
      "\n",
      "('Genesis', 1, 4)\n",
      "וַיַּ֧רְא אֱלֹהִ֛ים אֶת־הָאֹ֖ור \n",
      "אֱלֹהִ֛ים \n",
      "(42,)\n",
      "אֱלֹהִ֛ים \n",
      "\n",
      "('Genesis', 1, 4)\n",
      "וַיַּ֧רְא אֱלֹהִ֛ים אֶת־הָאֹ֖ור \n",
      "אֶת־הָאֹ֖ור \n",
      "(45,)\n",
      "אֹ֖ור \n",
      "\n",
      "('Genesis', 1, 4)\n",
      "וַיַּבְדֵּ֣ל אֱלֹהִ֔ים בֵּ֥ין הָאֹ֖ור וּבֵ֥ין הַחֹֽשֶׁךְ׃ \n",
      "אֱלֹהִ֔ים \n",
      "(50,)\n",
      "אֱלֹהִ֔ים \n",
      "\n",
      "('Genesis', 1, 5)\n",
      "וַיִּקְרָ֨א אֱלֹהִ֤ים׀ לָאֹור֙ יֹ֔ום \n",
      "אֱלֹהִ֤ים׀ \n",
      "(60,)\n",
      "אֱלֹהִ֤ים׀ \n",
      "\n",
      "('Genesis', 1, 5)\n",
      "וַיִּקְרָ֨א אֱלֹהִ֤ים׀ לָאֹור֙ יֹ֔ום \n",
      "יֹ֔ום \n",
      "(64,)\n",
      "יֹ֔ום \n",
      "\n",
      "('Genesis', 1, 5)\n",
      "וְלַחֹ֖שֶׁךְ קָ֣רָא לָ֑יְלָה \n",
      "לָ֑יְלָה \n",
      "(70,)\n",
      "לָ֑יְלָה \n",
      "\n",
      "('Genesis', 1, 5)\n",
      "וַֽיְהִי־עֶ֥רֶב \n",
      "עֶ֥רֶב \n",
      "(73,)\n",
      "עֶ֥רֶב \n",
      "\n",
      "('Genesis', 1, 5)\n",
      "וַֽיְהִי־בֹ֖קֶר \n",
      "בֹ֖קֶר \n",
      "(76,)\n",
      "בֹ֖קֶר \n",
      "\n",
      "('Genesis', 1, 6)\n",
      "וַיֹּ֣אמֶר אֱלֹהִ֔ים \n",
      "אֱלֹהִ֔ים \n",
      "(81,)\n",
      "אֱלֹהִ֔ים \n",
      "\n",
      "('Genesis', 1, 6)\n",
      "יְהִ֥י רָקִ֖יעַ בְּתֹ֣וךְ הַמָּ֑יִם \n",
      "רָקִ֖יעַ \n",
      "(83,)\n",
      "רָקִ֖יעַ \n",
      "\n",
      "('Genesis', 1, 7)\n",
      "וַיַּ֣עַשׂ אֱלֹהִים֮ אֶת־הָרָקִיעַ֒ \n",
      "אֱלֹהִים֮ \n",
      "(97,)\n",
      "אֱלֹהִים֮ \n",
      "\n",
      "('Genesis', 1, 7)\n",
      "וַיַּ֣עַשׂ אֱלֹהִים֮ אֶת־הָרָקִיעַ֒ \n",
      "אֶת־הָרָקִיעַ֒ \n",
      "(100,)\n",
      "רָקִיעַ֒ \n",
      "\n",
      "('Genesis', 1, 8)\n",
      "וַיִּקְרָ֧א אֱלֹהִ֛ים לָֽרָקִ֖יעַ שָׁמָ֑יִם \n",
      "אֱלֹהִ֛ים \n",
      "(127,)\n",
      "אֱלֹהִ֛ים \n",
      "\n",
      "('Genesis', 1, 8)\n",
      "וַיִּקְרָ֧א אֱלֹהִ֛ים לָֽרָקִ֖יעַ שָׁמָ֑יִם \n",
      "שָׁמָ֑יִם \n",
      "(131,)\n",
      "שָׁמָ֑יִם \n",
      "\n",
      "('Genesis', 1, 8)\n",
      "וַֽיְהִי־עֶ֥רֶב \n",
      "עֶ֥רֶב \n",
      "(134,)\n",
      "עֶ֥רֶב \n",
      "\n",
      "('Genesis', 1, 8)\n",
      "וַֽיְהִי־בֹ֖קֶר \n",
      "בֹ֖קֶר \n",
      "(137,)\n",
      "בֹ֖קֶר \n",
      "\n",
      "('Genesis', 1, 9)\n",
      "וַיֹּ֣אמֶר אֱלֹהִ֗ים \n",
      "אֱלֹהִ֗ים \n",
      "(142,)\n",
      "אֱלֹהִ֗ים \n",
      "\n",
      "('Genesis', 1, 9)\n",
      "יִקָּו֨וּ הַמַּ֜יִם מִתַּ֤חַת הַשָּׁמַ֨יִם֙ אֶל־מָקֹ֣ום אֶחָ֔ד \n",
      "הַמַּ֜יִם מִתַּ֤חַת הַשָּׁמַ֨יִם֙ \n",
      "(145,)\n",
      "מַּ֜יִם \n",
      "\n",
      "('Genesis', 1, 9)\n",
      "וְתֵרָאֶ֖ה הַיַּבָּשָׁ֑ה \n",
      "הַיַּבָּשָׁ֑ה \n",
      "(156,)\n",
      "יַּבָּשָׁ֑ה \n",
      "\n",
      "('Genesis', 1, 10)\n",
      "וַיִּקְרָ֨א אֱלֹהִ֤ים׀ לַיַּבָּשָׁה֙ אֶ֔רֶץ \n",
      "אֱלֹהִ֤ים׀ \n",
      "(162,)\n",
      "אֱלֹהִ֤ים׀ \n",
      "\n",
      "('Genesis', 1, 10)\n",
      "וַיִּקְרָ֨א אֱלֹהִ֤ים׀ לַיַּבָּשָׁה֙ אֶ֔רֶץ \n",
      "אֶ֔רֶץ \n",
      "(166,)\n",
      "אֶ֔רֶץ \n",
      "\n",
      "('Genesis', 1, 10)\n",
      "וּלְמִקְוֵ֥ה הַמַּ֖יִם קָרָ֣א יַמִּ֑ים \n",
      "יַמִּ֑ים \n",
      "(173,)\n",
      "יַמִּ֑ים \n",
      "\n",
      "('Genesis', 1, 10)\n",
      "וַיַּ֥רְא אֱלֹהִ֖ים \n",
      "אֱלֹהִ֖ים \n",
      "(176,)\n",
      "אֱלֹהִ֖ים \n",
      "\n",
      "('Genesis', 1, 11)\n",
      "וַיֹּ֣אמֶר אֱלֹהִ֗ים \n",
      "אֱלֹהִ֗ים \n",
      "(181,)\n",
      "אֱלֹהִ֗ים \n",
      "\n",
      "('Genesis', 1, 11)\n",
      "תַּֽדְשֵׁ֤א הָאָ֨רֶץ֙ דֶּ֔שֶׁא עֵ֚שֶׂב עֵ֣ץ פְּרִ֞י \n",
      "הָאָ֨רֶץ֙ \n",
      "(184,)\n",
      "אָ֨רֶץ֙ \n",
      "\n",
      "('Genesis', 1, 11)\n",
      "תַּֽדְשֵׁ֤א הָאָ֨רֶץ֙ דֶּ֔שֶׁא עֵ֚שֶׂב עֵ֣ץ פְּרִ֞י \n",
      "דֶּ֔שֶׁא עֵ֚שֶׂב עֵ֣ץ פְּרִ֞י \n",
      "(185, 186, 189)\n",
      "דֶּ֔שֶׁא עֵ֚שֶׂב עֵ֣ץ \n",
      "\n",
      "('Genesis', 1, 11)\n",
      "מַזְרִ֣יעַ זֶ֔רַע \n",
      "זֶ֔רַע \n",
      "(188,)\n",
      "זֶ֔רַע \n",
      "\n",
      "('Genesis', 1, 11)\n",
      "עֹ֤שֶׂה פְּרִי֙ לְמִינֹ֔ו עַל־הָאָ֑רֶץ \n",
      "פְּרִי֙ \n",
      "(192,)\n",
      "פְּרִי֙ \n",
      "\n",
      "('Genesis', 1, 11)\n",
      "אֲשֶׁ֥ר זַרְעֹו־בֹ֖ו \n",
      "זַרְעֹו־\n",
      "(196,)\n",
      "זַרְעֹו־\n",
      "\n",
      "('Genesis', 1, 12)\n",
      "וַתֹּוצֵ֨א הָאָ֜רֶץ דֶּ֠שֶׁא עֵ֣שֶׂב וְעֵ֧ץ \n",
      "הָאָ֜רֶץ \n",
      "(207,)\n",
      "אָ֜רֶץ \n",
      "\n",
      "('Genesis', 1, 12)\n",
      "וַתֹּוצֵ֨א הָאָ֜רֶץ דֶּ֠שֶׁא עֵ֣שֶׂב וְעֵ֧ץ \n",
      "דֶּ֠שֶׁא עֵ֣שֶׂב וְעֵ֧ץ \n",
      "(208, 209, 215)\n",
      "דֶּ֠שֶׁא עֵ֣שֶׂב עֵ֧ץ \n",
      "\n",
      "('Genesis', 1, 12)\n",
      "מַזְרִ֤יעַ זֶ֨רַע֙ לְמִינֵ֔הוּ \n",
      "זֶ֨רַע֙ \n",
      "(211,)\n",
      "זֶ֨רַע֙ \n",
      "\n",
      "('Genesis', 1, 12)\n",
      "עֹ֥שֶׂה פְּרִ֛י לְמִינֵ֑הוּ \n",
      "פְּרִ֛י \n",
      "(217,)\n",
      "פְּרִ֛י \n",
      "\n",
      "('Genesis', 1, 12)\n",
      "אֲשֶׁ֥ר זַרְעֹו־בֹ֖ו \n",
      "זַרְעֹו־\n",
      "(219,)\n",
      "זַרְעֹו־\n",
      "\n",
      "('Genesis', 1, 12)\n",
      "וַיַּ֥רְא אֱלֹהִ֖ים \n",
      "אֱלֹהִ֖ים \n",
      "(225,)\n",
      "אֱלֹהִ֖ים \n",
      "\n",
      "('Genesis', 1, 13)\n",
      "וַֽיְהִי־עֶ֥רֶב \n",
      "עֶ֥רֶב \n",
      "(230,)\n",
      "עֶ֥רֶב \n",
      "\n",
      "('Genesis', 1, 13)\n",
      "וַֽיְהִי־בֹ֖קֶר \n",
      "בֹ֖קֶר \n",
      "(233,)\n",
      "בֹ֖קֶר \n",
      "\n",
      "('Genesis', 1, 14)\n",
      "וַיֹּ֣אמֶר אֱלֹהִ֗ים \n",
      "אֱלֹהִ֗ים \n",
      "(238,)\n",
      "אֱלֹהִ֗ים \n",
      "\n",
      "('Genesis', 1, 14)\n",
      "יְהִ֤י מְאֹרֹת֙ בִּרְקִ֣יעַ הַשָּׁמַ֔יִם \n",
      "מְאֹרֹת֙ \n",
      "(240,)\n",
      "מְאֹרֹת֙ \n",
      "\n",
      "('Genesis', 1, 16)\n",
      "וַיַּ֣עַשׂ אֱלֹהִ֔ים אֶת־שְׁנֵ֥י הַמְּאֹרֹ֖ת הַגְּדֹלִ֑ים אֶת־הַמָּאֹ֤ור הַגָּדֹל֙ לְמֶמְשֶׁ֣לֶת הַיֹּ֔ום וְאֶת־הַמָּאֹ֤ור הַקָּטֹן֙ לְמֶמְשֶׁ֣לֶת הַלַּ֔יְלָה וְאֵ֖ת הַכֹּוכָבִֽים׃ \n",
      "אֱלֹהִ֔ים \n",
      "(284,)\n",
      "אֱלֹהִ֔ים \n",
      "\n",
      "('Genesis', 1, 16)\n",
      "וַיַּ֣עַשׂ אֱלֹהִ֔ים אֶת־שְׁנֵ֥י הַמְּאֹרֹ֖ת הַגְּדֹלִ֑ים אֶת־הַמָּאֹ֤ור הַגָּדֹל֙ לְמֶמְשֶׁ֣לֶת הַיֹּ֔ום וְאֶת־הַמָּאֹ֤ור הַקָּטֹן֙ לְמֶמְשֶׁ֣לֶת הַלַּ֔יְלָה וְאֵ֖ת הַכֹּוכָבִֽים׃ \n",
      "אֶת־שְׁנֵ֥י הַמְּאֹרֹ֖ת הַגְּדֹלִ֑ים אֶת־הַמָּאֹ֤ור הַגָּדֹל֙ לְמֶמְשֶׁ֣לֶת הַיֹּ֔ום וְאֶת־הַמָּאֹ֤ור הַקָּטֹן֙ לְמֶמְשֶׁ֣לֶת הַלַּ֔יְלָה וְאֵ֖ת הַכֹּוכָבִֽים׃ \n",
      "(288, 303, 313)\n",
      "מְּאֹרֹ֖ת מָּאֹ֤ור כֹּוכָבִֽים׃ \n",
      "\n",
      "('Genesis', 1, 17)\n",
      "וַיִּתֵּ֥ן אֹתָ֛ם אֱלֹהִ֖ים בִּרְקִ֣יעַ הַשָּׁמָ֑יִם \n",
      "אֱלֹהִ֖ים \n",
      "(317,)\n",
      "אֱלֹהִ֖ים \n",
      "\n",
      "('Genesis', 1, 18)\n",
      "וַיַּ֥רְא אֱלֹהִ֖ים \n",
      "אֱלֹהִ֖ים \n",
      "(349,)\n",
      "אֱלֹהִ֖ים \n",
      "\n",
      "('Genesis', 1, 19)\n",
      "וַֽיְהִי־עֶ֥רֶב \n",
      "עֶ֥רֶב \n",
      "(354,)\n",
      "עֶ֥רֶב \n",
      "\n",
      "('Genesis', 1, 19)\n",
      "וַֽיְהִי־בֹ֖קֶר \n",
      "בֹ֖קֶר \n",
      "(357,)\n",
      "בֹ֖קֶר \n",
      "\n",
      "('Genesis', 1, 20)\n",
      "וַיֹּ֣אמֶר אֱלֹהִ֔ים \n",
      "אֱלֹהִ֔ים \n",
      "(362,)\n",
      "אֱלֹהִ֔ים \n",
      "\n",
      "('Genesis', 1, 20)\n",
      "יִשְׁרְצ֣וּ הַמַּ֔יִם שֶׁ֖רֶץ נֶ֣פֶשׁ חַיָּ֑ה \n",
      "הַמַּ֔יִם \n",
      "(365,)\n",
      "מַּ֔יִם \n",
      "\n",
      "('Genesis', 1, 20)\n",
      "יִשְׁרְצ֣וּ הַמַּ֔יִם שֶׁ֖רֶץ נֶ֣פֶשׁ חַיָּ֑ה \n",
      "שֶׁ֖רֶץ נֶ֣פֶשׁ חַיָּ֑ה \n",
      "(366,)\n",
      "שֶׁ֖רֶץ \n",
      "\n",
      "('Genesis', 1, 20)\n",
      "וְעֹוף֙ יְעֹופֵ֣ף עַל־הָאָ֔רֶץ עַל־פְּנֵ֖י רְקִ֥יעַ הַשָּׁמָֽיִם׃ \n",
      "עֹוף֙ \n",
      "(370,)\n",
      "עֹוף֙ \n",
      "\n",
      "('Genesis', 1, 21)\n",
      "וַיִּבְרָ֣א אֱלֹהִ֔ים אֶת־הַתַּנִּינִ֖ם הַגְּדֹלִ֑ים וְאֵ֣ת כָּל־נֶ֣פֶשׁ לְמִֽינֵהֶ֗ם \n",
      "אֱלֹהִ֔ים \n",
      "(382,)\n",
      "אֱלֹהִ֔ים \n",
      "\n",
      "('Genesis', 1, 21)\n",
      "וַיִּבְרָ֣א אֱלֹהִ֔ים אֶת־הַתַּנִּינִ֖ם הַגְּדֹלִ֑ים וְאֵ֣ת כָּל־נֶ֣פֶשׁ לְמִֽינֵהֶ֗ם \n",
      "אֶת־הַתַּנִּינִ֖ם הַגְּדֹלִ֑ים וְאֵ֣ת כָּל־נֶ֣פֶשׁ \n",
      "(385, 391)\n",
      "תַּנִּינִ֖ם נֶ֣פֶשׁ \n",
      "\n",
      "('Genesis', 1, 21)\n",
      "אֲשֶׁר֩ שָׁרְצ֨וּ הַמַּ֜יִם \n",
      "הַמַּ֜יִם \n",
      "(399,)\n",
      "מַּ֜יִם \n",
      "\n",
      "('Genesis', 1, 21)\n",
      "וְאֵ֨ת כָּל־עֹ֤וף כָּנָף֙ לְמִינֵ֔הוּ \n",
      "אֵ֨ת כָּל־עֹ֤וף כָּנָף֙ \n",
      "(405,)\n",
      "עֹ֤וף \n",
      "\n",
      "('Genesis', 1, 21)\n",
      "וַיַּ֥רְא אֱלֹהִ֖ים \n",
      "אֱלֹהִ֖ים \n",
      "(411,)\n",
      "אֱלֹהִ֖ים \n",
      "\n",
      "('Genesis', 1, 22)\n",
      "וַיְבָ֧רֶךְ אֹתָ֛ם אֱלֹהִ֖ים \n",
      "אֱלֹהִ֖ים \n",
      "(417,)\n",
      "אֱלֹהִ֖ים \n",
      "\n",
      "('Genesis', 1, 22)\n",
      "וּמִלְא֤וּ אֶת־הַמַּ֨יִם֙ בַּיַּמִּ֔ים \n",
      "אֶת־הַמַּ֨יִם֙ בַּיַּמִּ֔ים \n",
      "(427,)\n",
      "מַּ֨יִם֙ \n",
      "\n",
      "('Genesis', 1, 22)\n",
      "וְהָעֹ֖וף יִ֥רֶב בָּאָֽרֶץ׃ \n",
      "הָעֹ֖וף \n",
      "(433,)\n",
      "עֹ֖וף \n",
      "\n",
      "('Genesis', 1, 23)\n",
      "וַֽיְהִי־עֶ֥רֶב \n",
      "עֶ֥רֶב \n",
      "(440,)\n",
      "עֶ֥רֶב \n",
      "\n",
      "('Genesis', 1, 23)\n",
      "וַֽיְהִי־בֹ֖קֶר \n",
      "בֹ֖קֶר \n",
      "(443,)\n",
      "בֹ֖קֶר \n",
      "\n",
      "('Genesis', 1, 24)\n",
      "וַיֹּ֣אמֶר אֱלֹהִ֗ים \n",
      "אֱלֹהִ֗ים \n",
      "(448,)\n",
      "אֱלֹהִ֗ים \n",
      "\n",
      "('Genesis', 1, 24)\n",
      "תֹּוצֵ֨א הָאָ֜רֶץ נֶ֤פֶשׁ חַיָּה֙ לְמִינָ֔הּ \n",
      "הָאָ֜רֶץ \n",
      "(451,)\n",
      "אָ֜רֶץ \n",
      "\n",
      "('Genesis', 1, 24)\n",
      "תֹּוצֵ֨א הָאָ֜רֶץ נֶ֤פֶשׁ חַיָּה֙ לְמִינָ֔הּ \n",
      "נֶ֤פֶשׁ חַיָּה֙ \n",
      "(452,)\n",
      "נֶ֤פֶשׁ \n",
      "\n",
      "('Genesis', 1, 24)\n",
      "בְּהֵמָ֥ה וָרֶ֛מֶשׂ וְחַֽיְתֹו־אֶ֖רֶץ לְמִינָ֑הּ \n",
      "בְּהֵמָ֥ה וָרֶ֛מֶשׂ וְחַֽיְתֹו־אֶ֖רֶץ \n",
      "(456, 458, 460)\n",
      "בְּהֵמָ֥ה רֶ֛מֶשׂ חַֽיְתֹו־\n",
      "\n",
      "('Genesis', 1, 25)\n",
      "וַיַּ֣עַשׂ אֱלֹהִים֩ אֶת־חַיַּ֨ת הָאָ֜רֶץ לְמִינָ֗הּ \n",
      "אֱלֹהִים֩ \n",
      "(469,)\n",
      "אֱלֹהִים֩ \n",
      "\n",
      "('Genesis', 1, 25)\n",
      "וַיַּ֣עַשׂ אֱלֹהִים֩ אֶת־חַיַּ֨ת הָאָ֜רֶץ לְמִינָ֗הּ \n",
      "אֶת־חַיַּ֨ת הָאָ֜רֶץ \n",
      "(471,)\n",
      "חַיַּ֨ת \n",
      "\n",
      "('Genesis', 1, 25)\n",
      "וְאֶת־הַבְּהֵמָה֙ לְמִינָ֔הּ \n",
      "אֶת־הַבְּהֵמָה֙ \n",
      "(479,)\n",
      "בְּהֵמָה֙ \n",
      "\n",
      "('Genesis', 1, 25)\n",
      "וְאֵ֛ת כָּל־רֶ֥מֶשׂ הָֽאֲדָמָ֖ה לְמִינֵ֑הוּ \n",
      "אֵ֛ת כָּל־רֶ֥מֶשׂ הָֽאֲדָמָ֖ה \n",
      "(485,)\n",
      "רֶ֥מֶשׂ \n",
      "\n",
      "('Genesis', 1, 25)\n",
      "וַיַּ֥רְא אֱלֹהִ֖ים \n",
      "אֱלֹהִ֖ים \n",
      "(492,)\n",
      "אֱלֹהִ֖ים \n",
      "\n",
      "('Genesis', 1, 26)\n",
      "וַיֹּ֣אמֶר אֱלֹהִ֔ים \n",
      "אֱלֹהִ֔ים \n",
      "(497,)\n",
      "אֱלֹהִ֔ים \n",
      "\n",
      "('Genesis', 1, 26)\n",
      "נַֽעֲשֶׂ֥ה אָדָ֛ם בְּצַלְמֵ֖נוּ כִּדְמוּתֵ֑נוּ \n",
      "אָדָ֛ם \n",
      "(499,)\n",
      "אָדָ֛ם \n",
      "\n",
      "('Genesis', 1, 27)\n",
      "וַיִּבְרָ֨א אֱלֹהִ֤ים׀ אֶת־הָֽאָדָם֙ בְּצַלְמֹ֔ו \n",
      "אֱלֹהִ֤ים׀ \n",
      "(536,)\n",
      "אֱלֹהִ֤ים׀ \n",
      "\n",
      "('Genesis', 1, 27)\n",
      "וַיִּבְרָ֨א אֱלֹהִ֤ים׀ אֶת־הָֽאָדָם֙ בְּצַלְמֹ֔ו \n",
      "אֶת־הָֽאָדָם֙ \n",
      "(539,)\n",
      "אָדָם֙ \n",
      "\n",
      "('Genesis', 1, 28)\n",
      "וַיְבָ֣רֶךְ אֹתָם֮ אֱלֹהִים֒ \n",
      "אֱלֹהִים֒ \n",
      "(555,)\n",
      "אֱלֹהִים֒ \n",
      "\n",
      "('Genesis', 1, 28)\n",
      "וַיֹּ֨אמֶר לָהֶ֜ם אֱלֹהִ֗ים \n",
      "אֱלֹהִ֗ים \n",
      "(559,)\n",
      "אֱלֹהִ֗ים \n",
      "\n",
      "('Genesis', 1, 28)\n",
      "וּמִלְא֥וּ אֶת־הָאָ֖רֶץ \n",
      "אֶת־הָאָ֖רֶץ \n",
      "(567,)\n",
      "אָ֖רֶץ \n",
      "\n",
      "('Genesis', 1, 29)\n",
      "וַיֹּ֣אמֶר אֱלֹהִ֗ים \n",
      "אֱלֹהִ֗ים \n",
      "(592,)\n",
      "אֱלֹהִ֗ים \n",
      "\n",
      "('Genesis', 1, 29)\n",
      "הִנֵּה֩ נָתַ֨תִּי לָכֶ֜ם אֶת־כָּל־עֵ֣שֶׂב׀ וְאֶת־כָּל־הָעֵ֛ץ \n",
      "אֶת־כָּל־עֵ֣שֶׂב׀ וְאֶת־כָּל־הָעֵ֛ץ \n",
      "(598, 611)\n",
      "עֵ֣שֶׂב׀ עֵ֛ץ \n",
      "\n",
      "('Genesis', 1, 29)\n",
      "זֹרֵ֣עַ זֶ֗רַע \n",
      "זֶ֗רַע \n",
      "(600,)\n",
      "זֶ֗רַע \n",
      "\n",
      "('Genesis', 1, 29)\n",
      "אֲשֶׁר־בֹּ֥ו פְרִי־עֵ֖ץ \n",
      "פְרִי־עֵ֖ץ \n",
      "(614,)\n",
      "פְרִי־\n",
      "\n",
      "('Genesis', 1, 29)\n",
      "זֹרֵ֣עַ זָ֑רַע \n",
      "זָ֑רַע \n",
      "(617,)\n",
      "זָ֑רַע \n",
      "\n",
      "('Genesis', 1, 30)\n",
      "אֲשֶׁר־בֹּו֙ נֶ֣פֶשׁ חַיָּ֔ה \n",
      "נֶ֣פֶשׁ חַיָּ֔ה \n",
      "(643,)\n",
      "נֶ֣פֶשׁ \n",
      "\n",
      "('Genesis', 1, 30)\n",
      "וּֽלְכָל־חַיַּ֣ת הָ֠אָרֶץ וּלְכָל־עֹ֨וף הַשָּׁמַ֜יִם וּלְכֹ֣ל׀ רֹומֵ֣שׂ עַל־הָאָ֗רֶץ אֶת־כָּל־יֶ֥רֶק עֵ֖שֶׂב לְאָכְלָ֑ה \n",
      "אֶת־כָּל־יֶ֥רֶק עֵ֖שֶׂב \n",
      "(647,)\n",
      "יֶ֥רֶק \n",
      "\n",
      "('Genesis', 1, 31)\n",
      "וַיַּ֤רְא אֱלֹהִים֙ אֶת־כָּל־\n",
      "אֱלֹהִים֙ \n",
      "(656,)\n",
      "אֱלֹהִים֙ \n",
      "\n",
      "('Genesis', 1, 31)\n",
      "וַֽיְהִי־עֶ֥רֶב \n",
      "עֶ֥רֶב \n",
      "(667,)\n",
      "עֶ֥רֶב \n",
      "\n",
      "('Genesis', 1, 31)\n",
      "וַֽיְהִי־בֹ֖קֶר \n",
      "בֹ֖קֶר \n",
      "(670,)\n",
      "בֹ֖קֶר \n",
      "\n",
      "('Genesis', 2, 1)\n",
      "וַיְכֻלּ֛וּ הַשָּׁמַ֥יִם וְהָאָ֖רֶץ וְכָל־צְבָאָֽם׃ \n",
      "הַשָּׁמַ֥יִם וְהָאָ֖רֶץ וְכָל־צְבָאָֽם׃ \n",
      "(677, 680, 683)\n",
      "שָּׁמַ֥יִם אָ֖רֶץ צְבָאָֽם׃ \n",
      "\n",
      "('Genesis', 2, 2)\n",
      "וַיְכַ֤ל אֱלֹהִים֙ בַּיֹּ֣ום הַשְּׁבִיעִ֔י מְלַאכְתֹּ֖ו \n",
      "אֱלֹהִים֙ \n",
      "(686,)\n",
      "אֱלֹהִים֙ \n",
      "\n",
      "('Genesis', 2, 2)\n",
      "וַיְכַ֤ל אֱלֹהִים֙ בַּיֹּ֣ום הַשְּׁבִיעִ֔י מְלַאכְתֹּ֖ו \n",
      "מְלַאכְתֹּ֖ו \n",
      "(692,)\n",
      "מְלַאכְתֹּ֖ו \n",
      "\n"
     ]
    }
   ],
   "source": [
    "ct = 0 \n",
    "\n",
    "for phrase in F.otype.s('phrase'):\n",
    "    \n",
    "    if F.function.v(phrase) not in {'Subj', 'Objc'}:\n",
    "        continue\n",
    "        \n",
    "    if E.heads.f(phrase):\n",
    "        \n",
    "        clause = L.u(phrase, 'clause')[0]\n",
    "        \n",
    "        print(T.sectionFromNode(phrase))\n",
    "        print(T.text(L.d(clause, 'word')))\n",
    "        print(T.text(L.d(phrase, 'word')))\n",
    "        print(E.heads.f(phrase))\n",
    "        print(T.text(E.heads.f(phrase)))\n",
    "        print()\n",
    "    \n",
    "    if ct > 100:\n",
    "        break\n",
    "        \n",
    "    ct += 1"
   ]
  },
  {
   "cell_type": "code",
   "execution_count": null,
   "metadata": {},
   "outputs": [],
   "source": []
  }
 ],
 "metadata": {
  "kernelspec": {
   "display_name": "Python 3",
   "language": "python",
   "name": "python3"
  },
  "language_info": {
   "codemirror_mode": {
    "name": "ipython",
    "version": 3
   },
   "file_extension": ".py",
   "mimetype": "text/x-python",
   "name": "python",
   "nbconvert_exporter": "python",
   "pygments_lexer": "ipython3",
   "version": "3.6.3"
  }
 },
 "nbformat": 4,
 "nbformat_minor": 2
}
