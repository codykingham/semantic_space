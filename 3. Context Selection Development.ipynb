{
 "cells": [
  {
   "cell_type": "markdown",
   "metadata": {},
   "source": [
    "# Context Selection Development\n",
    "\n",
    "**TODO 12.03.18**\n",
    "\n",
    "Current the phrase type function only checks at subphrase, since I wrongly assumed every phrase atom has a subphrase (they don't). \n",
    "\n",
    "Thus, the phrase type function should first look for a phrase atom and then isolate the prepositional phrase.\n",
    "\n",
    "To be determined:\n",
    "    * if a phrase atom has no subphrase, does that also mean there will not be more than one preposition? That assumption SHOULD be true, since an additional preposition would introduce a relation and hence require a subphrase.\n",
    "    * if the above is true, then selecting the prepositino from a phrase atom is very simple:\n",
    "\n",
    "> `w for w in L.d(phrase_atom, 'word') if F.pdp.v(w) == 'prep'`\n",
    "\n"
   ]
  },
  {
   "cell_type": "code",
   "execution_count": 1,
   "metadata": {},
   "outputs": [],
   "source": [
    "# First, I load the necesssary modules, data, and helper functions.\n",
    "import collections\n",
    "from tf.fabric import Fabric\n",
    "from functions.helpers import show_results, filter_results\n",
    "\n",
    "# load BHSA data into TF\n",
    "TF = Fabric(locations='~/github/etcbc/bhsa/tf', modules='c', silent=True)\n",
    "api = TF.load('''\n",
    "                book chapter verse\n",
    "                function sp pdp mother\n",
    "                rela typ lex\n",
    "              ''', silent=True)\n",
    "api.makeAvailableIn(globals()) # globalize TF methods"
   ]
  },
  {
   "cell_type": "code",
   "execution_count": 234,
   "metadata": {},
   "outputs": [],
   "source": [
    "def good_phrs_type(phrase_atom, subphrases):\n",
    "    '''\n",
    "    Return boolean on whether a phrase atom is an acceptable type.\n",
    "    Acceptable is either a noun phrase (NP) or\n",
    "    a prepositional phrase (PP) that is governed only by את.\n",
    "    '''\n",
    "\n",
    "    if F.typ.v(phrase_atom) == 'NP': # noun phrase\n",
    "        return True\n",
    "    \n",
    "    # check for subphrase with preposition\n",
    "    # necessary since this function is called at word level\n",
    "    # i.e. some words are in phrase atom that is PP but not in sp with prep.\n",
    "    sp = [sp for sp in subphrases\n",
    "             if 'prep' in set(F.pdp.v(w) for w in L.d(sp, 'word'))]\n",
    "    \n",
    "    if F.typ.v(phrase_atom) == 'PP' and sp: # check for את\n",
    "        \n",
    "        # !! TO FIX: NOT ALL PHRASE ATOMS HAVE A SUBPHRASE\n",
    "        # IN THESE CASES, THE ONLY WAY TO CHECK FOR >T \n",
    "        # IS WITH THE PHRASE ATOM ALONE\n",
    "        \n",
    "        subphrase = sp[0]\n",
    "        \n",
    "        preps = [w for w in L.d(subphrase, 'word') \n",
    "                     if F.pdp.v(w) == 'prep']\n",
    "        \n",
    "#         if len(preps) > 1: # sanity check\n",
    "#             raise Exception(f'Check multiple preps at subphrase {subphrase}')\n",
    "        \n",
    "        if F.lex.v(preps[0]) == '>T':\n",
    "            return True\n",
    "        else:\n",
    "            return False\n",
    "    else:\n",
    "        return False\n",
    "\n",
    "def get_KL_head(KL_wordnode, good_pdp, good_sp):\n",
    "    '''\n",
    "    Extract the head noun in a כֹל construct chain.\n",
    "    The function simply returns the first substantive in the chain.\n",
    "    '''\n",
    "    \n",
    "    rectum = E.mother.t(KL_wordnode) # get rectum subphrase\n",
    "    KL_phrase = L.d(L.u(KL_wordnode, 'phrase')[0], 'word') # for phrase boundary\n",
    "    \n",
    "    if not rectum:\n",
    "        return False  # KL not in norm. construct (e.g. w/ verbs)\n",
    "    \n",
    "    # get words and nouns in the rectum subphrase\n",
    "    r_words = L.d(rectum[0], 'word')\n",
    "    r_nouns = [w for w in r_words \n",
    "               if F.sp.v(w) in good_sp\n",
    "               and F.pdp.v(w) in good_pdp\n",
    "               and w in KL_phrase\n",
    "              ]\n",
    "    \n",
    "    if r_nouns:\n",
    "        return r_nouns[0] # return the first noun\n",
    "    else:\n",
    "        return None # no noun found, return nothing\n",
    "    \n",
    "    \n",
    "def get_heads(phrase):\n",
    "    '''\n",
    "    Returns substantive head nouns, if there are any, from a phrase node.\n",
    "    \"substantive\" does not include prounouns.\n",
    "    \n",
    "    Based on a supplied phrase get phrase atom and subphrase features \n",
    "    and compare them against a group of sets.\n",
    "    Define those sets first. Then make the comparison.\n",
    "    \n",
    "    *Caution* \n",
    "    This function works reasonably well,\n",
    "    but there are a number of edge cases that it does not catch.\n",
    "    Fine-tuning this function would make a nice notebook in itself.\n",
    "    See Gen 20:5 for a good edge case example, in which both היא pronouns\n",
    "    are registered as subjects, but only one should be.\n",
    "    '''\n",
    "    \n",
    "    good_sp = {'subs', 'nmpr', 'adjv'}\n",
    "    good_pdp = {'subs', 'nmpr'}\n",
    "\n",
    "    # exclude words in phrase_atoms with these relation features\n",
    "    omit_pa_rela = {'Appo', # apposition\n",
    "                    'Spec'} # specification\n",
    "    \n",
    "    # exclude words in subphrases with these relation features\n",
    "    omit_sp_rela = {'rec', # nomen rectum\n",
    "                    'adj', # adjunct \n",
    "                    'atr', # attributive\n",
    "                    'mod', # modifier\n",
    "                    'dem'} # demontrative\n",
    "        \n",
    "    heads = [] # nouns go here\n",
    "    phrase_words = L.d(phrase, 'word')\n",
    "        \n",
    "    for word in phrase_words:\n",
    "        \n",
    "        # get phrases's phrase atoms, subphrases, and subphrase relations\n",
    "        phrase_atom = L.u(word, 'phrase_atom')[0]\n",
    "        subphrases = L.u(word, 'subphrase') \n",
    "        sp_relas = set(F.rela.v(sp) for sp in subphrases)\n",
    "\n",
    "        # compare word/phrase features\n",
    "        if all([\n",
    "                F.pdp.v(word) in good_pdp, # is noun\n",
    "                F.sp.v(word) in good_sp, # is noun\n",
    "                good_phrs_type(phrase_atom, subphrases), # is NP or PP with את\n",
    "                F.rela.v(phrase_atom) not in omit_pa_rela, # is valid hrase_atom rela.\n",
    "                not sp_relas & omit_sp_rela, # is valid subphrase rela.\n",
    "               ]):\n",
    "        \n",
    "            # handle כֹל constructs by retrieving their noun:\n",
    "            if F.lex.v(word) == 'KL/':\n",
    "                KL_head = get_KL_head(word, good_pdp, good_sp) # returns word node or None\n",
    "                if KL_head:\n",
    "                    heads.append(KL_head) # כֹל + noun found\n",
    "                else:\n",
    "                    continue # no noun found, skip it\n",
    "            else:\n",
    "                heads.append(word) # word is a head\n",
    "    \n",
    "        else:\n",
    "            continue\n",
    "            \n",
    "    return heads"
   ]
  },
  {
   "cell_type": "markdown",
   "metadata": {},
   "source": [
    "## Subject and Object Omissions\n",
    "\n",
    "A previous version of the valid preposition function only identified nouns from prepositional phrase atoms that spanned the entire functional phrase. That omits cases such as Josh 24:18 with constructs:\n",
    "> ('Joshua', 24, 18) <br>\n",
    "> 722643 אֶת־כָּל־הָעַמִּ֗ים וְאֶת־הָאֱמֹרִ֛י <br>\n",
    "\n",
    "The search below identifies phrases that begin with a preposition besides את and function as an object or subject (N.B. the prep. את can mark subjects in passive constructions). These are the cases which will be excluded by the new version of the function. A survey of these cases confirms that none of them contain nouns that are of interest: that is, none of these prepositions appear to grammaticaly mark a subject or object, but appear to be specifiers. \n",
    "\n",
    "For the old function, see `is_preposition_subj` in the [old version](https://github.com/codykingham/tfNotebooks/blob/master/4Q246_Participants/participant_functions/subjects.py)."
   ]
  },
  {
   "cell_type": "code",
   "execution_count": 190,
   "metadata": {},
   "outputs": [
    {
     "name": "stdout",
     "output_type": "stream",
     "text": [
      "93 results\n",
      "\n"
     ]
    },
    {
     "data": {
      "text/html": [
       "<span style=\"font-family: Times New Roman; font-size: 18px; line-height: 1\">1. Genesis 40:17</span>"
      ],
      "text/plain": [
       "<IPython.core.display.HTML object>"
      ]
     },
     "metadata": {},
     "output_type": "display_data"
    },
    {
     "data": {
      "text/html": [
       "<span style=\"font-family: Times New Roman; font-size: 24px; line-height: 1\">וּבַסַּ֣ל הָֽעֶלְיֹו֔ן <span style=\"color: blue\">מִ</span><span style=\"color: blue\">כֹּ֛ל </span><span style=\"color: blue\">מַאֲכַ֥ל </span><span style=\"color: blue\">פַּרְעֹ֖ה </span><span style=\"color: blue\">מַעֲשֵׂ֣ה </span><span style=\"color: blue\">אֹפֶ֑ה </span></span>"
      ],
      "text/plain": [
       "<IPython.core.display.HTML object>"
      ]
     },
     "metadata": {},
     "output_type": "display_data"
    },
    {
     "name": "stdout",
     "output_type": "stream",
     "text": [
      "-------------------- \n",
      "\n"
     ]
    },
    {
     "data": {
      "text/html": [
       "<span style=\"font-family: Times New Roman; font-size: 18px; line-height: 1\">2. Genesis 44:18</span>"
      ],
      "text/plain": [
       "<IPython.core.display.HTML object>"
      ]
     },
     "metadata": {},
     "output_type": "display_data"
    },
    {
     "data": {
      "text/html": [
       "<span style=\"font-family: Times New Roman; font-size: 24px; line-height: 1\">כִּ֥י <span style=\"color: green\">כָמֹ֖וךָ </span>כְּפַרְעֹֽה׃ </span>"
      ],
      "text/plain": [
       "<IPython.core.display.HTML object>"
      ]
     },
     "metadata": {},
     "output_type": "display_data"
    },
    {
     "name": "stdout",
     "output_type": "stream",
     "text": [
      "-------------------- \n",
      "\n"
     ]
    },
    {
     "data": {
      "text/html": [
       "<span style=\"font-family: Times New Roman; font-size: 18px; line-height: 1\">3. Genesis 47:26</span>"
      ],
      "text/plain": [
       "<IPython.core.display.HTML object>"
      ]
     },
     "metadata": {},
     "output_type": "display_data"
    },
    {
     "data": {
      "text/html": [
       "<span style=\"font-family: Times New Roman; font-size: 24px; line-height: 1\">לְפַרְעֹ֖ה <span style=\"color: blue\">לַ</span><span style=\"color: blue\"></span><span style=\"color: blue\">חֹ֑מֶשׁ </span></span>"
      ],
      "text/plain": [
       "<IPython.core.display.HTML object>"
      ]
     },
     "metadata": {},
     "output_type": "display_data"
    },
    {
     "name": "stdout",
     "output_type": "stream",
     "text": [
      "-------------------- \n",
      "\n"
     ]
    },
    {
     "data": {
      "text/html": [
       "<span style=\"font-family: Times New Roman; font-size: 18px; line-height: 1\">4. Exodus 4:9</span>"
      ],
      "text/plain": [
       "<IPython.core.display.HTML object>"
      ]
     },
     "metadata": {},
     "output_type": "display_data"
    },
    {
     "data": {
      "text/html": [
       "<span style=\"font-family: Times New Roman; font-size: 24px; line-height: 1\">וְלָקַחְתָּ֙ <span style=\"color: green\">מִ</span><span style=\"color: green\">מֵּימֵ֣י </span><span style=\"color: green\">הַ</span><span style=\"color: green\">יְאֹ֔ר </span></span>"
      ],
      "text/plain": [
       "<IPython.core.display.HTML object>"
      ]
     },
     "metadata": {},
     "output_type": "display_data"
    },
    {
     "name": "stdout",
     "output_type": "stream",
     "text": [
      "-------------------- \n",
      "\n"
     ]
    },
    {
     "data": {
      "text/html": [
       "<span style=\"font-family: Times New Roman; font-size: 18px; line-height: 1\">5. Exodus 17:5</span>"
      ],
      "text/plain": [
       "<IPython.core.display.HTML object>"
      ]
     },
     "metadata": {},
     "output_type": "display_data"
    },
    {
     "data": {
      "text/html": [
       "<span style=\"font-family: Times New Roman; font-size: 24px; line-height: 1\">וְקַ֥ח אִתְּךָ֖ <span style=\"color: blue\">מִ</span><span style=\"color: blue\">זִּקְנֵ֣י </span><span style=\"color: blue\">יִשְׂרָאֵ֑ל </span></span>"
      ],
      "text/plain": [
       "<IPython.core.display.HTML object>"
      ]
     },
     "metadata": {},
     "output_type": "display_data"
    },
    {
     "name": "stdout",
     "output_type": "stream",
     "text": [
      "-------------------- \n",
      "\n",
      "results cut off at 5\n"
     ]
    }
   ],
   "source": [
    "targets = []\n",
    "\n",
    "for phrase in F.otype.s('phrase'):\n",
    "    \n",
    "    if F.function.v(phrase) not in {'Subj', 'Objc'}:\n",
    "        continue\n",
    "    \n",
    "    phrase_atoms = L.d(phrase, 'phrase_atom')\n",
    "    pa_lex = set(F.lex.v(w) for w in L.d(phrase_atoms[0], 'word'))\n",
    "        \n",
    "    if F.typ.v(phrase_atoms[0]) == 'PP' and '>T' not in pa_lex:\n",
    "        \n",
    "        targets.append((L.u(phrase, 'clause')[0], phrase, phrase_atoms[0]))\n",
    "        \n",
    "show_results(targets, limit=5, highlight=[1])"
   ]
  },
  {
   "cell_type": "markdown",
   "metadata": {},
   "source": [
    "Further inspection of subject or object phrases that do not begin with את but contain את later on in the phrase shows that most of these are cases of adjectival specification, with a few parallel relationships reflected. In particular, it was important to be sure that את in the adjectival sense, especially where it has the sense of \"with\" rather than a grammatical one, would be excluded from the noun selector. Many of the finds by this search were more appositional than used in this \"with sense\". But a handful were found. 1 Chronicles 20:5, broken down below this search, confirms that את phrases in this adjectival sense are marked as `Spec` for specification. Thus, it is completely safe in the preposition parser function to take any את prepositional phrase. The acceptable subphrase relation set will then eliminate any match that is a specifier."
   ]
  },
  {
   "cell_type": "code",
   "execution_count": 191,
   "metadata": {},
   "outputs": [
    {
     "name": "stdout",
     "output_type": "stream",
     "text": [
      "54 results\n",
      "\n"
     ]
    },
    {
     "data": {
      "text/html": [
       "<span style=\"font-family: Times New Roman; font-size: 18px; line-height: 1\">1. Genesis 6:10</span>"
      ],
      "text/plain": [
       "<IPython.core.display.HTML object>"
      ]
     },
     "metadata": {},
     "output_type": "display_data"
    },
    {
     "data": {
      "text/html": [
       "<span style=\"font-family: Times New Roman; font-size: 24px; line-height: 1\">וַיֹּ֥ולֶד נֹ֖חַ <span style=\"color: blue\">שְׁלֹשָׁ֣ה </span><span style=\"color: blue\">בָנִ֑ים </span><span style=\"color: green\">אֶת־</span><span style=\"color: green\">שֵׁ֖ם </span><span style=\"color: green\">אֶת־</span><span style=\"color: green\">חָ֥ם </span><span style=\"color: green\">וְ</span><span style=\"color: green\">אֶת־</span><span style=\"color: green\">יָֽפֶת׃ </span></span>"
      ],
      "text/plain": [
       "<IPython.core.display.HTML object>"
      ]
     },
     "metadata": {},
     "output_type": "display_data"
    },
    {
     "name": "stdout",
     "output_type": "stream",
     "text": [
      "-------------------- \n",
      "\n"
     ]
    },
    {
     "data": {
      "text/html": [
       "<span style=\"font-family: Times New Roman; font-size: 18px; line-height: 1\">2. Genesis 40:8</span>"
      ],
      "text/plain": [
       "<IPython.core.display.HTML object>"
      ]
     },
     "metadata": {},
     "output_type": "display_data"
    },
    {
     "data": {
      "text/html": [
       "<span style=\"font-family: Times New Roman; font-size: 24px; line-height: 1\">וּ<span style=\"color: blue\">פֹתֵ֖ר </span>אֵ֣ין <span style=\"color: green\">אֹתֹ֑ו </span></span>"
      ],
      "text/plain": [
       "<IPython.core.display.HTML object>"
      ]
     },
     "metadata": {},
     "output_type": "display_data"
    },
    {
     "name": "stdout",
     "output_type": "stream",
     "text": [
      "-------------------- \n",
      "\n"
     ]
    },
    {
     "data": {
      "text/html": [
       "<span style=\"font-family: Times New Roman; font-size: 18px; line-height: 1\">3. Genesis 41:15</span>"
      ],
      "text/plain": [
       "<IPython.core.display.HTML object>"
      ]
     },
     "metadata": {},
     "output_type": "display_data"
    },
    {
     "data": {
      "text/html": [
       "<span style=\"font-family: Times New Roman; font-size: 24px; line-height: 1\">וּ<span style=\"color: blue\">פֹתֵ֖ר </span>אֵ֣ין <span style=\"color: green\">אֹתֹ֑ו </span></span>"
      ],
      "text/plain": [
       "<IPython.core.display.HTML object>"
      ]
     },
     "metadata": {},
     "output_type": "display_data"
    },
    {
     "name": "stdout",
     "output_type": "stream",
     "text": [
      "-------------------- \n",
      "\n"
     ]
    },
    {
     "data": {
      "text/html": [
       "<span style=\"font-family: Times New Roman; font-size: 18px; line-height: 1\">4. Exodus 1:11</span>"
      ],
      "text/plain": [
       "<IPython.core.display.HTML object>"
      ]
     },
     "metadata": {},
     "output_type": "display_data"
    },
    {
     "data": {
      "text/html": [
       "<span style=\"font-family: Times New Roman; font-size: 24px; line-height: 1\">וַיִּ֜בֶן <span style=\"color: blue\">עָרֵ֤י </span><span style=\"color: blue\">מִסְכְּנֹות֙ </span>לְפַרְעֹ֔ה <span style=\"color: green\">אֶת־</span><span style=\"color: green\">פִּתֹ֖ם </span><span style=\"color: green\">וְ</span><span style=\"color: green\">אֶת־</span><span style=\"color: green\">רַעַמְסֵֽס׃ </span></span>"
      ],
      "text/plain": [
       "<IPython.core.display.HTML object>"
      ]
     },
     "metadata": {},
     "output_type": "display_data"
    },
    {
     "name": "stdout",
     "output_type": "stream",
     "text": [
      "-------------------- \n",
      "\n"
     ]
    },
    {
     "data": {
      "text/html": [
       "<span style=\"font-family: Times New Roman; font-size: 18px; line-height: 1\">5. Exodus 35:25</span>"
      ],
      "text/plain": [
       "<IPython.core.display.HTML object>"
      ]
     },
     "metadata": {},
     "output_type": "display_data"
    },
    {
     "data": {
      "text/html": [
       "<span style=\"font-family: Times New Roman; font-size: 24px; line-height: 1\">וַיָּבִ֣יאוּ <span style=\"color: blue\">מַטְוֶ֗ה </span><span style=\"color: green\">אֶֽת־</span><span style=\"color: green\">הַ</span><span style=\"color: green\">תְּכֵ֨לֶת֙ </span><span style=\"color: green\">וְ</span><span style=\"color: green\">אֶת־</span><span style=\"color: green\">הָֽ</span><span style=\"color: green\">אַרְגָּמָ֔ן </span><span style=\"color: green\">אֶת־</span><span style=\"color: green\">תֹּולַ֥עַת </span><span style=\"color: green\">הַ</span><span style=\"color: green\">שָּׁנִ֖י </span><span style=\"color: green\">וְ</span><span style=\"color: green\">אֶת־</span><span style=\"color: green\">הַ</span><span style=\"color: green\">שֵּֽׁשׁ׃ </span></span>"
      ],
      "text/plain": [
       "<IPython.core.display.HTML object>"
      ]
     },
     "metadata": {},
     "output_type": "display_data"
    },
    {
     "name": "stdout",
     "output_type": "stream",
     "text": [
      "-------------------- \n",
      "\n",
      "results cut off at 5\n"
     ]
    }
   ],
   "source": [
    "targets = []\n",
    "\n",
    "for phrase in F.otype.s('phrase'):\n",
    "    \n",
    "    if F.function.v(phrase) not in {'Subj', 'Objc'}:\n",
    "        continue\n",
    "    \n",
    "    phrase_atoms = L.d(phrase, 'phrase_atom')\n",
    "    first_pa = phrase_atoms[0]\n",
    "    f_pa_lex = set(F.lex.v(w) for w in L.d(first_pa, 'word'))\n",
    "    \n",
    "    if '>T' in f_pa_lex:\n",
    "        continue\n",
    "    \n",
    "    for i in range(1, len(phrase_atoms)):\n",
    "        \n",
    "        other_pa = phrase_atoms[i]\n",
    "        pa_lex = set(F.lex.v(w) for w in L.d(other_pa, 'word'))\n",
    "        \n",
    "        if F.typ.v(other_pa) == 'PP' and '>T' in pa_lex:\n",
    "\n",
    "            targets.append((L.u(phrase, 'clause')[0], phrase, other_pa))\n",
    "            break\n",
    "        \n",
    "show_results(targets, limit=5, highlight=[1, 2])"
   ]
  },
  {
   "cell_type": "markdown",
   "metadata": {},
   "source": [
    "As seen below, \"war *with Philistines*\" is marked as `Spec`. "
   ]
  },
  {
   "cell_type": "code",
   "execution_count": 192,
   "metadata": {},
   "outputs": [
    {
     "name": "stdout",
     "output_type": "stream",
     "text": [
      "1158377\n",
      "מִלְחָמָ֖ה \n",
      "NA\n",
      "\n",
      "1158378\n",
      "אֶת־פְּלִשְׁתִּ֑ים \n",
      "Spec\n",
      "\n"
     ]
    }
   ],
   "source": [
    "# (\"1_Chronicles\", 20, 5)\n",
    "for sp in (L.d(892236, 'phrase_atom')):\n",
    "    print(sp)\n",
    "    print(T.text(L.d(sp, 'word')))\n",
    "    print(F.rela.v(sp))\n",
    "    print()"
   ]
  },
  {
   "cell_type": "markdown",
   "metadata": {},
   "source": [
    "### Ordering of Subphrases on a L.u call from Word Node\n",
    "\n",
    "This search demonstrates that subphrase nodes are indeed ordered by size when called from a word node, i.e. subphrases that contain less words receive smaller node numbers. If they are equal in size, either one might have the lower node number.\n",
    "\n",
    "It is indeed acceptable to select the first subphrase on a `L.u` call from a word for preposition testing. That is the subphrase which will be closest to the word level."
   ]
  },
  {
   "cell_type": "code",
   "execution_count": 300,
   "metadata": {},
   "outputs": [
    {
     "data": {
      "text/plain": [
       "0"
      ]
     },
     "execution_count": 300,
     "metadata": {},
     "output_type": "execute_result"
    }
   ],
   "source": [
    "not_true = []\n",
    "true = 0\n",
    "no_sp = 0\n",
    "\n",
    "for word in F.otype.s('word'):\n",
    "    \n",
    "    subphrases = sorted(L.u(word, 'subphrase'))\n",
    "    \n",
    "    if not subphrases:\n",
    "        no_sp += 1\n",
    "        continue\n",
    "        \n",
    "    sp_len = sorted((len(L.d(sp, 'word')), sp) for sp in subphrases) # sort by word length\n",
    "    sp_check = [sp[1] for sp in sp_len] # iterate over sorted list and grab subphrase nodes\n",
    "    \n",
    "    if sp_check == subphrases: # check them\n",
    "        true += 1\n",
    "        \n",
    "    else:\n",
    "        not_true.append(word)\n",
    "\n",
    "len(not_true)"
   ]
  },
  {
   "cell_type": "markdown",
   "metadata": {},
   "source": [
    "## Testing the Function"
   ]
  },
  {
   "cell_type": "code",
   "execution_count": 193,
   "metadata": {},
   "outputs": [
    {
     "name": "stdout",
     "output_type": "stream",
     "text": [
      "('Genesis', 1, 1)\n",
      "בְּרֵאשִׁ֖ית בָּרָ֣א אֱלֹהִ֑ים אֵ֥ת הַשָּׁמַ֖יִם וְאֵ֥ת הָאָֽרֶץ׃ \n",
      "651506\n",
      "אֵ֥ת הַשָּׁמַ֖יִם וְאֵ֥ת הָאָֽרֶץ׃ \n",
      "שָּׁמַ֖יִם  | אָֽרֶץ׃ \n",
      "\n",
      "('Genesis', 1, 11)\n",
      "תַּֽדְשֵׁ֤א הָאָ֨רֶץ֙ דֶּ֔שֶׁא עֵ֚שֶׂב עֵ֣ץ פְּרִ֞י \n",
      "651619\n",
      "דֶּ֔שֶׁא עֵ֚שֶׂב עֵ֣ץ פְּרִ֞י \n",
      "דֶּ֔שֶׁא  | עֵ֚שֶׂב  | עֵ֣ץ \n",
      "\n",
      "('Genesis', 1, 12)\n",
      "וַתֹּוצֵ֨א הָאָ֜רֶץ דֶּ֠שֶׁא עֵ֣שֶׂב וְעֵ֧ץ \n",
      "651635\n",
      "דֶּ֠שֶׁא עֵ֣שֶׂב וְעֵ֧ץ \n",
      "דֶּ֠שֶׁא  | עֵ֣שֶׂב  | עֵ֧ץ \n",
      "\n",
      "('Genesis', 1, 20)\n",
      "יִשְׁרְצ֣וּ הַמַּ֔יִם שֶׁ֖רֶץ נֶ֣פֶשׁ חַיָּ֑ה \n",
      "651711\n",
      "שֶׁ֖רֶץ נֶ֣פֶשׁ חַיָּ֑ה \n",
      "שֶׁ֖רֶץ \n",
      "\n",
      "('Genesis', 1, 21)\n",
      "וַיִּבְרָ֣א אֱלֹהִ֔ים אֶת־הַתַּנִּינִ֖ם הַגְּדֹלִ֑ים וְאֵ֣ת כָּל־נֶ֣פֶשׁ לְמִֽינֵהֶ֗ם \n",
      "651719\n",
      "אֶת־הַתַּנִּינִ֖ם הַגְּדֹלִ֑ים וְאֵ֣ת כָּל־נֶ֣פֶשׁ \n",
      "תַּנִּינִ֖ם  | נֶ֣פֶשׁ \n",
      "\n",
      "('Genesis', 1, 24)\n",
      "תֹּוצֵ֨א הָאָ֜רֶץ נֶ֤פֶשׁ חַיָּה֙ לְמִינָ֔הּ \n",
      "651763\n",
      "נֶ֤פֶשׁ חַיָּה֙ \n",
      "נֶ֤פֶשׁ \n",
      "\n",
      "('Genesis', 1, 24)\n",
      "בְּהֵמָ֥ה וָרֶ֛מֶשׂ וְחַֽיְתֹו־אֶ֖רֶץ לְמִינָ֑הּ \n",
      "651765\n",
      "בְּהֵמָ֥ה וָרֶ֛מֶשׂ וְחַֽיְתֹו־אֶ֖רֶץ \n",
      "בְּהֵמָ֥ה  | רֶ֛מֶשׂ  | חַֽיְתֹו־\n",
      "\n",
      "('Genesis', 2, 4)\n",
      "עֲשֹׂ֛ות יְהוָ֥ה אֱלֹהִ֖ים אֶ֥רֶץ וְשָׁמָֽיִם׃ \n",
      "651915\n",
      "אֶ֥רֶץ וְשָׁמָֽיִם׃ \n",
      "אֶ֥רֶץ  | שָׁמָֽיִם׃ \n",
      "\n",
      "('Genesis', 2, 7)\n",
      "וַיִּפַּ֥ח בְּאַפָּ֖יו נִשְׁמַ֣ת חַיִּ֑ים \n",
      "651950\n",
      "נִשְׁמַ֣ת חַיִּ֑ים \n",
      "נִשְׁמַ֣ת \n",
      "\n",
      "('Genesis', 2, 9)\n",
      "וַיַּצְמַ֞ח יְהוָ֤ה אֱלֹהִים֙ מִן־הָ֣אֲדָמָ֔ה כָּל־עֵ֛ץ \n",
      "651971\n",
      "כָּל־עֵ֛ץ \n",
      "עֵ֛ץ \n",
      "\n",
      "('Genesis', 2, 9)\n",
      "וְעֵ֤ץ הַֽחַיִּים֙ בְּתֹ֣וךְ הַגָּ֔ן \n",
      "651978\n",
      "עֵ֤ץ הַֽחַיִּים֙ \n",
      "עֵ֤ץ \n",
      "\n",
      "('Genesis', 2, 9)\n",
      "וְעֵ֕ץ הַדַּ֖עַת טֹ֥וב וָרָֽע׃ \n",
      "651981\n",
      "עֵ֕ץ הַדַּ֖עַת טֹ֥וב וָרָֽע׃ \n",
      "עֵ֕ץ \n",
      "\n",
      "('Genesis', 2, 18)\n",
      "אֶֽעֱשֶׂהּ־לֹּ֥ו עֵ֖זֶר כְּנֶגְדֹּֽו׃ \n",
      "652065\n",
      "עֵ֖זֶר כְּנֶגְדֹּֽו׃ \n",
      "עֵ֖זֶר \n",
      "\n",
      "('Genesis', 2, 19)\n",
      "וַיִּצֶר֩ יְהוָ֨ה אֱלֹהִ֜ים מִן־הָֽאֲדָמָ֗ה כָּל־חַיַּ֤ת הַשָּׂדֶה֙ וְאֵת֙ כָּל־עֹ֣וף הַשָּׁמַ֔יִם \n",
      "652070\n",
      "כָּל־חַיַּ֤ת הַשָּׂדֶה֙ וְאֵת֙ כָּל־עֹ֣וף הַשָּׁמַ֔יִם \n",
      "חַיַּ֤ת  | עֹ֣וף \n",
      "\n",
      "('Genesis', 2, 19)\n",
      "אֲשֶׁ֨ר יִקְרָא־לֹ֧ו הָֽאָדָ֛ם נֶ֥פֶשׁ חַיָּ֖ה \n",
      "652084\n",
      "נֶ֥פֶשׁ חַיָּ֖ה \n",
      "נֶ֥פֶשׁ \n",
      "\n",
      "('Genesis', 2, 20)\n",
      "וּלְאָדָ֕ם לֹֽא־מָצָ֥א עֵ֖זֶר כְּנֶגְדֹּֽו׃ \n",
      "652096\n",
      "עֵ֖זֶר כְּנֶגְדֹּֽו׃ \n",
      "עֵ֖זֶר \n",
      "\n",
      "('Genesis', 2, 21)\n",
      "וַיִּקַּ֗ח אַחַת֙ מִצַּלְעֹתָ֔יו \n",
      "652106\n",
      "אַחַת֙ מִצַּלְעֹתָ֔יו \n",
      "אַחַת֙ \n",
      "\n",
      "('Genesis', 2, 24)\n",
      "עַל־כֵּן֙ יַֽעֲזָב־אִ֔ישׁ אֶת־אָבִ֖יו וְאֶת־אִמֹּ֑ו \n",
      "652138\n",
      "אֶת־אָבִ֖יו וְאֶת־אִמֹּ֑ו \n",
      "אָבִ֖יו  | אִמֹּ֑ו \n",
      "\n",
      "('Genesis', 3, 7)\n",
      "וַֽיִּתְפְּרוּ֙ עֲלֵ֣ה תְאֵנָ֔ה \n",
      "652249\n",
      "עֲלֵ֣ה תְאֵנָ֔ה \n",
      "עֲלֵ֣ה \n",
      "\n",
      "('Genesis', 3, 16)\n",
      "הַרְבָּ֤ה אַרְבֶּה֙ עִצְּבֹונֵ֣ךְ וְהֵֽרֹנֵ֔ךְ \n",
      "652357\n",
      "עִצְּבֹונֵ֣ךְ וְהֵֽרֹנֵ֔ךְ \n",
      "עִצְּבֹונֵ֣ךְ  | הֵֽרֹנֵ֔ךְ \n",
      "\n",
      "('Genesis', 3, 18)\n",
      "וְקֹ֥וץ וְדַרְדַּ֖ר תַּצְמִ֣יחַֽ לָ֑ךְ \n",
      "652390\n",
      "קֹ֥וץ וְדַרְדַּ֖ר \n",
      "קֹ֥וץ  | דַרְדַּ֖ר \n",
      "\n",
      "('Genesis', 3, 20)\n",
      "וַיִּקְרָ֧א הָֽאָדָ֛ם שֵׁ֥ם אִשְׁתֹּ֖ו חַוָּ֑ה \n",
      "652413\n",
      "שֵׁ֥ם אִשְׁתֹּ֖ו \n",
      "שֵׁ֥ם \n",
      "\n",
      "('Genesis', 3, 21)\n",
      "וַיַּעַשׂ֩ יְהוָ֨ה אֱלֹהִ֜ים לְאָדָ֧ם וּלְאִשְׁתֹּ֛ו כָּתְנֹ֥ות עֹ֖ור \n",
      "652423\n",
      "כָּתְנֹ֥ות עֹ֖ור \n",
      "כָּתְנֹ֥ות \n",
      "\n",
      "('Genesis', 3, 22)\n",
      "לָדַ֖עַת טֹ֣וב וָרָ֑ע \n",
      "652434\n",
      "טֹ֣וב וָרָ֑ע \n",
      "טֹ֣וב  | רָ֑ע \n",
      "\n",
      "('Genesis', 3, 24)\n",
      "וַיַּשְׁכֵּן֩ מִקֶּ֨דֶם לְגַן־עֵ֜דֶן אֶת־הַכְּרֻבִ֗ים וְאֵ֨ת לַ֤הַט הַחֶ֨רֶב֙ \n",
      "652463\n",
      "אֶת־הַכְּרֻבִ֗ים וְאֵ֨ת לַ֤הַט הַחֶ֨רֶב֙ \n",
      "כְּרֻבִ֗ים  | לַ֤הַט \n",
      "\n",
      "('Genesis', 4, 17)\n",
      "וַיִּקְרָא֙ שֵׁ֣ם הָעִ֔יר כְּשֵׁ֖ם בְּנֹ֥ו חֲנֹֽוךְ׃ \n",
      "652674\n",
      "שֵׁ֣ם הָעִ֔יר \n",
      "שֵׁ֣ם \n",
      "\n",
      "('Genesis', 4, 19)\n",
      "וַיִּֽקַּֽח־לֹ֥ו לֶ֖מֶךְ שְׁתֵּ֣י נָשִׁ֑ים \n",
      "652696\n",
      "שְׁתֵּ֣י נָשִׁ֑ים \n",
      "שְׁתֵּ֣י \n",
      "\n",
      "('Genesis', 4, 25)\n",
      "כִּ֣י שָֽׁת־לִ֤י אֱלֹהִים֙ זֶ֣רַע אַחֵ֔ר תַּ֣חַת הֶ֔בֶל \n",
      "652762\n",
      "זֶ֣רַע אַחֵ֔ר \n",
      "זֶ֣רַע \n",
      "\n",
      "('Genesis', 5, 4)\n",
      "וַיֹּ֥ולֶד בָּנִ֖ים וּבָנֹֽות׃ \n",
      "652819\n",
      "בָּנִ֖ים וּבָנֹֽות׃ \n",
      "בָּנִ֖ים  | בָנֹֽות׃ \n",
      "\n",
      "('Genesis', 5, 7)\n",
      "וַיֹּ֥ולֶד בָּנִ֖ים וּבָנֹֽות׃ \n",
      "652843\n",
      "בָּנִ֖ים וּבָנֹֽות׃ \n",
      "בָּנִ֖ים  | בָנֹֽות׃ \n",
      "\n",
      "('Genesis', 5, 10)\n",
      "וַיֹּ֥ולֶד בָּנִ֖ים וּבָנֹֽות׃ \n",
      "652865\n",
      "בָּנִ֖ים וּבָנֹֽות׃ \n",
      "בָּנִ֖ים  | בָנֹֽות׃ \n",
      "\n",
      "('Genesis', 5, 13)\n",
      "וַיֹּ֥ולֶד בָּנִ֖ים וּבָנֹֽות׃ \n",
      "652887\n",
      "בָּנִ֖ים וּבָנֹֽות׃ \n",
      "בָּנִ֖ים  | בָנֹֽות׃ \n",
      "\n",
      "('Genesis', 5, 16)\n",
      "וַיֹּ֥ולֶד בָּנִ֖ים וּבָנֹֽות׃ \n",
      "652909\n",
      "בָּנִ֖ים וּבָנֹֽות׃ \n",
      "בָּנִ֖ים  | בָנֹֽות׃ \n",
      "\n",
      "('Genesis', 5, 19)\n",
      "וַיֹּ֥ולֶד בָּנִ֖ים וּבָנֹֽות׃ \n",
      "652931\n",
      "בָּנִ֖ים וּבָנֹֽות׃ \n",
      "בָּנִ֖ים  | בָנֹֽות׃ \n",
      "\n",
      "('Genesis', 5, 22)\n",
      "וַיֹּ֥ולֶד בָּנִ֖ים וּבָנֹֽות׃ \n",
      "652954\n",
      "בָּנִ֖ים וּבָנֹֽות׃ \n",
      "בָּנִ֖ים  | בָנֹֽות׃ \n",
      "\n",
      "('Genesis', 5, 26)\n",
      "וַיֹּ֥ולֶד בָּנִ֖ים וּבָנֹֽות׃ \n",
      "652984\n",
      "בָּנִ֖ים וּבָנֹֽות׃ \n",
      "בָּנִ֖ים  | בָנֹֽות׃ \n",
      "\n",
      "('Genesis', 5, 30)\n",
      "וַיֹּ֥ולֶד בָּנִ֖ים וּבָנֹֽות׃ \n",
      "653018\n",
      "בָּנִ֖ים וּבָנֹֽות׃ \n",
      "בָּנִ֖ים  | בָנֹֽות׃ \n",
      "\n",
      "('Genesis', 5, 32)\n",
      "וַיֹּ֣ולֶד נֹ֔חַ אֶת־שֵׁ֖ם אֶת־חָ֥ם וְאֶת־יָֽפֶת׃ \n",
      "653032\n",
      "אֶת־שֵׁ֖ם אֶת־חָ֥ם וְאֶת־יָֽפֶת׃ \n",
      "שֵׁ֖ם  | חָ֥ם  | יָֽפֶת׃ \n",
      "\n",
      "('Genesis', 6, 10)\n",
      "וַיֹּ֥ולֶד נֹ֖חַ שְׁלֹשָׁ֣ה בָנִ֑ים אֶת־שֵׁ֖ם אֶת־חָ֥ם וְאֶת־יָֽפֶת׃ \n",
      "653144\n",
      "שְׁלֹשָׁ֣ה בָנִ֑ים אֶת־שֵׁ֖ם אֶת־חָ֥ם וְאֶת־יָֽפֶת׃ \n",
      "שְׁלֹשָׁ֣ה \n",
      "\n",
      "('Genesis', 6, 14)\n",
      "עֲשֵׂ֤ה לְךָ֙ תֵּבַ֣ת עֲצֵי־גֹ֔פֶר \n",
      "653183\n",
      "תֵּבַ֣ת עֲצֵי־גֹ֔פֶר \n",
      "תֵּבַ֣ת \n",
      "\n",
      "('Genesis', 6, 16)\n",
      "וּפֶ֥תַח הַתֵּבָ֖ה בְּצִדָּ֣הּ תָּשִׂ֑ים \n",
      "653212\n",
      "פֶ֥תַח הַתֵּבָ֖ה \n",
      "פֶ֥תַח \n",
      "\n",
      "('Genesis', 6, 16)\n",
      "תַּחְתִּיִּ֛ם שְׁנִיִּ֥ם וּשְׁלִשִׁ֖ים תַּֽעֲשֶֽׂהָ׃ \n",
      "653215\n",
      "תַּחְתִּיִּ֛ם שְׁנִיִּ֥ם וּשְׁלִשִׁ֖ים \n",
      "תַּחְתִּיִּ֛ם  | שְׁנִיִּ֥ם  | שְׁלִשִׁ֖ים \n",
      "\n",
      "('Genesis', 6, 17)\n",
      "לְשַׁחֵ֣ת כָּל־בָּשָׂ֗ר מִתַּ֖חַת הַשָּׁמָ֑יִם \n",
      "653224\n",
      "כָּל־בָּשָׂ֗ר \n",
      "בָּשָׂ֗ר \n",
      "\n",
      "('Genesis', 6, 19)\n",
      "שְׁנַ֧יִם מִכֹּ֛ל תָּבִ֥יא אֶל־הַתֵּבָ֖ה \n",
      "653243\n",
      "שְׁנַ֧יִם מִכֹּ֛ל \n",
      "שְׁנַ֧יִם \n",
      "\n",
      "('Genesis', 7, 2)\n",
      "מִכֹּ֣ל׀ הַבְּהֵמָ֣ה הַטְּהֹורָ֗ה תִּֽקַּח־לְךָ֛ שִׁבְעָ֥ה שִׁבְעָ֖ה אִ֣ישׁ וְאִשְׁתֹּ֑ו \n",
      "653294\n",
      "שִׁבְעָ֥ה שִׁבְעָ֖ה אִ֣ישׁ וְאִשְׁתֹּ֑ו \n",
      "שִׁבְעָ֥ה  | שִׁבְעָ֖ה \n",
      "\n",
      "('Genesis', 7, 2)\n",
      "וּמִן־הַבְּהֵמָ֡ה שְׁנַ֖יִם אִ֥ישׁ וְאִשְׁתֹּֽו׃ \n",
      "653301\n",
      "שְׁנַ֖יִם אִ֥ישׁ וְאִשְׁתֹּֽו׃ \n",
      "שְׁנַ֖יִם \n",
      "\n",
      "('Genesis', 7, 3)\n",
      "גַּ֣ם מֵעֹ֧וף הַשָּׁמַ֛יִם שִׁבְעָ֥ה שִׁבְעָ֖ה זָכָ֣ר וּנְקֵבָ֑ה \n",
      "653303\n",
      "שִׁבְעָ֥ה שִׁבְעָ֖ה זָכָ֣ר וּנְקֵבָ֑ה \n",
      "שִׁבְעָ֥ה \n",
      "\n"
     ]
    },
    {
     "ename": "Exception",
     "evalue": "Check multiple preps at subphrase 1301482",
     "output_type": "error",
     "traceback": [
      "\u001b[0;31m---------------------------------------------------------------------------\u001b[0m",
      "\u001b[0;31mException\u001b[0m                                 Traceback (most recent call last)",
      "\u001b[0;32m<ipython-input-193-8ec6ec7d9a09>\u001b[0m in \u001b[0;36m<module>\u001b[0;34m()\u001b[0m\n\u001b[1;32m      6\u001b[0m \u001b[0;32mfor\u001b[0m \u001b[0mphrase\u001b[0m \u001b[0;32min\u001b[0m \u001b[0mF\u001b[0m\u001b[0;34m.\u001b[0m\u001b[0mfunction\u001b[0m\u001b[0;34m.\u001b[0m\u001b[0ms\u001b[0m\u001b[0;34m(\u001b[0m\u001b[0;34m'Objc'\u001b[0m\u001b[0;34m)\u001b[0m\u001b[0;34m:\u001b[0m\u001b[0;34m\u001b[0m\u001b[0m\n\u001b[1;32m      7\u001b[0m \u001b[0;34m\u001b[0m\u001b[0m\n\u001b[0;32m----> 8\u001b[0;31m     \u001b[0mheads\u001b[0m \u001b[0;34m=\u001b[0m \u001b[0mget_heads\u001b[0m\u001b[0;34m(\u001b[0m\u001b[0mphrase\u001b[0m\u001b[0;34m)\u001b[0m\u001b[0;34m\u001b[0m\u001b[0m\n\u001b[0m\u001b[1;32m      9\u001b[0m \u001b[0;34m\u001b[0m\u001b[0m\n\u001b[1;32m     10\u001b[0m     \u001b[0;32mif\u001b[0m \u001b[0mheads\u001b[0m \u001b[0;32mand\u001b[0m \u001b[0mlen\u001b[0m\u001b[0;34m(\u001b[0m\u001b[0mheads\u001b[0m\u001b[0;34m)\u001b[0m \u001b[0;34m<\u001b[0m \u001b[0mlen\u001b[0m\u001b[0;34m(\u001b[0m\u001b[0mL\u001b[0m\u001b[0;34m.\u001b[0m\u001b[0md\u001b[0m\u001b[0;34m(\u001b[0m\u001b[0mphrase\u001b[0m\u001b[0;34m,\u001b[0m \u001b[0;34m'word'\u001b[0m\u001b[0;34m)\u001b[0m\u001b[0;34m)\u001b[0m\u001b[0;34m:\u001b[0m\u001b[0;34m\u001b[0m\u001b[0m\n",
      "\u001b[0;32m<ipython-input-189-bbae7eaab0f7>\u001b[0m in \u001b[0;36mget_heads\u001b[0;34m(phrase)\u001b[0m\n\u001b[1;32m    104\u001b[0m                 \u001b[0mF\u001b[0m\u001b[0;34m.\u001b[0m\u001b[0mpdp\u001b[0m\u001b[0;34m.\u001b[0m\u001b[0mv\u001b[0m\u001b[0;34m(\u001b[0m\u001b[0mword\u001b[0m\u001b[0;34m)\u001b[0m \u001b[0;32min\u001b[0m \u001b[0mgood_pdp\u001b[0m\u001b[0;34m,\u001b[0m \u001b[0;31m# is noun\u001b[0m\u001b[0;34m\u001b[0m\u001b[0m\n\u001b[1;32m    105\u001b[0m                 \u001b[0mF\u001b[0m\u001b[0;34m.\u001b[0m\u001b[0msp\u001b[0m\u001b[0;34m.\u001b[0m\u001b[0mv\u001b[0m\u001b[0;34m(\u001b[0m\u001b[0mword\u001b[0m\u001b[0;34m)\u001b[0m \u001b[0;32min\u001b[0m \u001b[0mgood_sp\u001b[0m\u001b[0;34m,\u001b[0m \u001b[0;31m# is noun\u001b[0m\u001b[0;34m\u001b[0m\u001b[0m\n\u001b[0;32m--> 106\u001b[0;31m                 \u001b[0mgood_phrs_type\u001b[0m\u001b[0;34m(\u001b[0m\u001b[0mphrase_atom\u001b[0m\u001b[0;34m,\u001b[0m \u001b[0msubphrases\u001b[0m\u001b[0;34m)\u001b[0m\u001b[0;34m,\u001b[0m \u001b[0;31m# is NP or PP with את\u001b[0m\u001b[0;34m\u001b[0m\u001b[0m\n\u001b[0m\u001b[1;32m    107\u001b[0m                 \u001b[0mF\u001b[0m\u001b[0;34m.\u001b[0m\u001b[0mrela\u001b[0m\u001b[0;34m.\u001b[0m\u001b[0mv\u001b[0m\u001b[0;34m(\u001b[0m\u001b[0mphrase_atom\u001b[0m\u001b[0;34m)\u001b[0m \u001b[0;32mnot\u001b[0m \u001b[0;32min\u001b[0m \u001b[0momit_pa_rela\u001b[0m\u001b[0;34m,\u001b[0m \u001b[0;31m# is valid hrase_atom rela.\u001b[0m\u001b[0;34m\u001b[0m\u001b[0m\n\u001b[1;32m    108\u001b[0m                 \u001b[0;32mnot\u001b[0m \u001b[0msp_relas\u001b[0m \u001b[0;34m&\u001b[0m \u001b[0momit_sp_rela\u001b[0m\u001b[0;34m,\u001b[0m \u001b[0;31m# is valid subphrase rela.\u001b[0m\u001b[0;34m\u001b[0m\u001b[0m\n",
      "\u001b[0;32m<ipython-input-189-bbae7eaab0f7>\u001b[0m in \u001b[0;36mgood_phrs_type\u001b[0;34m(phrase_atom, subphrases)\u001b[0m\n\u001b[1;32m     24\u001b[0m \u001b[0;34m\u001b[0m\u001b[0m\n\u001b[1;32m     25\u001b[0m         \u001b[0;32mif\u001b[0m \u001b[0mlen\u001b[0m\u001b[0;34m(\u001b[0m\u001b[0mpreps\u001b[0m\u001b[0;34m)\u001b[0m \u001b[0;34m>\u001b[0m \u001b[0;36m1\u001b[0m\u001b[0;34m:\u001b[0m \u001b[0;31m# sanity check\u001b[0m\u001b[0;34m\u001b[0m\u001b[0m\n\u001b[0;32m---> 26\u001b[0;31m             \u001b[0;32mraise\u001b[0m \u001b[0mException\u001b[0m\u001b[0;34m(\u001b[0m\u001b[0;34mf'Check multiple preps at subphrase {subphrase}'\u001b[0m\u001b[0;34m)\u001b[0m\u001b[0;34m\u001b[0m\u001b[0m\n\u001b[0m\u001b[1;32m     27\u001b[0m \u001b[0;34m\u001b[0m\u001b[0m\n\u001b[1;32m     28\u001b[0m         \u001b[0;32mif\u001b[0m \u001b[0mF\u001b[0m\u001b[0;34m.\u001b[0m\u001b[0mlex\u001b[0m\u001b[0;34m.\u001b[0m\u001b[0mv\u001b[0m\u001b[0;34m(\u001b[0m\u001b[0mpreps\u001b[0m\u001b[0;34m[\u001b[0m\u001b[0;36m0\u001b[0m\u001b[0;34m]\u001b[0m\u001b[0;34m)\u001b[0m \u001b[0;34m==\u001b[0m \u001b[0;34m'>T'\u001b[0m\u001b[0;34m:\u001b[0m\u001b[0;34m\u001b[0m\u001b[0m\n",
      "\u001b[0;31mException\u001b[0m: Check multiple preps at subphrase 1301482"
     ]
    }
   ],
   "source": [
    "# test the function\n",
    "\n",
    "results = []\n",
    "ct = 0\n",
    "\n",
    "for phrase in F.function.s('Objc'):\n",
    "    \n",
    "    heads = get_heads(phrase)\n",
    "    \n",
    "    if heads and len(heads) < len(L.d(phrase, 'word')):\n",
    "        \n",
    "        print(T.sectionFromNode(phrase))\n",
    "        print(T.text(L.d(L.u(phrase, 'clause')[0], 'word')))\n",
    "        print(phrase)\n",
    "        print(T.text(L.d(phrase, 'word')))\n",
    "        heads = [T.text([head]) for head in heads]\n",
    "        print(' | '.join(heads))\n",
    "        print()\n",
    "        \n",
    "        ct += 1\n",
    "        \n",
    "        if ct == 100:\n",
    "            break"
   ]
  },
  {
   "cell_type": "code",
   "execution_count": 28,
   "metadata": {},
   "outputs": [],
   "source": [
    "# for i, word in enumerate(F.lex.s('KL/')):\n",
    "        \n",
    "#     daughter = E.mother.t(word)\n",
    "    \n",
    "#     if F.otype.v(word) == 'lex':\n",
    "#         continue\n",
    "    \n",
    "#     phrase = L.u(word, 'phrase')[0]\n",
    "    \n",
    "#     if F.function.v(phrase) not in {'Subj', 'Objc'}:\n",
    "#         continue\n",
    "    \n",
    "#     heads = get_heads(phrase)\n",
    "#     lemmas = list(F.lex.v(w) for w in L.d(phrase, 'word'))\n",
    "    \n",
    "#     if heads and len(heads) > 1 and lemmas.count('KL/') == 1:\n",
    "                \n",
    "#         print(T.sectionFromNode(word))\n",
    "#         print(T.text(L.d(phrase, 'word')), phrase)\n",
    "#         print(T.text(L.d(daughter[0], 'word')))\n",
    "#         print('|'.join(T.text([n]) for n in heads))\n",
    "#         print()\n",
    "        \n",
    "#     if i > 200:\n",
    "#         break"
   ]
  },
  {
   "cell_type": "code",
   "execution_count": 142,
   "metadata": {},
   "outputs": [],
   "source": [
    "# tests = list()\n",
    "\n",
    "# for i, word in enumerate(F.lex.s('KL/')):\n",
    "            \n",
    "#     if F.otype.v(word) == 'lex':\n",
    "#         continue\n",
    "    \n",
    "#     phrase = L.u(word, 'phrase')[0]\n",
    "    \n",
    "#     if F.function.v(phrase) not in {'Subj', 'Objc'}:\n",
    "#         continue\n",
    "    \n",
    "#     subphrases = L.u(word, 'subphrase')\n",
    "    \n",
    "#     for sp in subphrases:\n",
    "        \n",
    "#         daughter = E.mother.t(sp)[0] if E.mother.t(sp) else None\n",
    "        \n",
    "#         if not daughter:\n",
    "#             continue\n",
    "        \n",
    "#         d_words = set(F.lex.v(w) for w in L.d(daughter, 'word'))\n",
    "        \n",
    "#         if F.rela.v(daughter) == 'par' and not d_words & {'KL/'}:\n",
    "            \n",
    "#             heads = get_heads(phrase)\n",
    "            \n",
    "#             print(T.sectionFromNode(word))\n",
    "#             print(phrase, T.text(L.d(phrase, 'word')))\n",
    "#             print('sp: ', T.text(L.d(sp, 'word')))\n",
    "#             print('par: ', T.text(L.d(daughter, 'word')))\n",
    "#             print('|'.join(T.text([n]) for n in heads))\n",
    "#             print()\n",
    "            "
   ]
  },
  {
   "cell_type": "code",
   "execution_count": 296,
   "metadata": {},
   "outputs": [],
   "source": [
    "# for phrase in F.typ.s('PP'):\n",
    "    \n",
    "#     words = L.d(phrase, 'word')\n",
    "    \n",
    "#     if F.function.v(phrase) not in ('Subj', 'Objc'):\n",
    "#         continue\n",
    "    \n",
    "#     if F.pdp.v(words[0]) != 'prep':\n",
    "        \n",
    "#         clause = L.u(phrase, 'clause')[0]\n",
    "        \n",
    "#         print(T.sectionFromNode(phrase))\n",
    "#         print(T.text(L.d(clause, 'word')))\n",
    "#         print(phrase)\n",
    "#         print(T.text(L.d(phrase, 'word')))\n",
    "#         print([T.text([w]) for w in words if F.pdp.v(w) == 'prep'])\n",
    "        \n",
    "#         print()"
   ]
  }
 ],
 "metadata": {
  "kernelspec": {
   "display_name": "Python 3",
   "language": "python",
   "name": "python3"
  },
  "language_info": {
   "codemirror_mode": {
    "name": "ipython",
    "version": 3
   },
   "file_extension": ".py",
   "mimetype": "text/x-python",
   "name": "python",
   "nbconvert_exporter": "python",
   "pygments_lexer": "ipython3",
   "version": "3.6.3"
  }
 },
 "nbformat": 4,
 "nbformat_minor": 2
}
