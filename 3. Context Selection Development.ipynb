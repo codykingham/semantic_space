{
 "cells": [
  {
   "cell_type": "markdown",
   "metadata": {},
   "source": [
    "# Context Selection Development"
   ]
  },
  {
   "cell_type": "code",
   "execution_count": 1,
   "metadata": {},
   "outputs": [
    {
     "name": "stdout",
     "output_type": "stream",
     "text": [
      "This is Text-Fabric 3.2.2\n",
      "Api reference : https://github.com/Dans-labs/text-fabric/wiki/Api\n",
      "Tutorial      : https://github.com/Dans-labs/text-fabric/blob/master/docs/tutorial.ipynb\n",
      "Example data  : https://github.com/Dans-labs/text-fabric-data\n",
      "\n",
      "116 features found and 0 ignored\n",
      "  0.00s loading features ...\n",
      "   |     0.01s B book                 from /Users/cody/github/etcbc/bhsa/tf/c\n",
      "   |     0.00s B chapter              from /Users/cody/github/etcbc/bhsa/tf/c\n",
      "   |     0.00s B verse                from /Users/cody/github/etcbc/bhsa/tf/c\n",
      "   |     0.06s B function             from /Users/cody/github/etcbc/bhsa/tf/c\n",
      "   |     0.11s B sp                   from /Users/cody/github/etcbc/bhsa/tf/c\n",
      "   |     0.11s B pdp                  from /Users/cody/github/etcbc/bhsa/tf/c\n",
      "   |     0.18s B mother               from /Users/cody/github/etcbc/bhsa/tf/c\n",
      "   |     0.19s B rela                 from /Users/cody/github/etcbc/bhsa/tf/c\n",
      "   |     0.19s B typ                  from /Users/cody/github/etcbc/bhsa/tf/c\n",
      "   |     0.11s B lex                  from /Users/cody/github/etcbc/bhsa/tf/c\n",
      "   |     0.11s B ls                   from /Users/cody/github/etcbc/bhsa/tf/c\n",
      "   |     0.00s Feature overview: 109 for nodes; 6 for edges; 1 configs; 7 computed\n",
      "  5.44s All features loaded/computed - for details use loadLog()\n"
     ]
    }
   ],
   "source": [
    "# First, I load the necesssary modules, data, and helper functions.\n",
    "import collections, random\n",
    "from tf.fabric import Fabric\n",
    "from functions.helpers import show_results, filter_results\n",
    "\n",
    "# load BHSA data into TF\n",
    "TF = Fabric(locations=['~/github/etcbc/bhsa/tf', '~/github/semantics/tf'], modules='c')\n",
    "api = TF.load('''\n",
    "                book chapter verse\n",
    "                function sp pdp mother\n",
    "                rela typ lex ls \n",
    "              ''')\n",
    "api.makeAvailableIn(globals()) # globalize TF methods"
   ]
  },
  {
   "cell_type": "markdown",
   "metadata": {},
   "source": [
    "# Head Noun Extraction"
   ]
  },
  {
   "cell_type": "code",
   "execution_count": 2,
   "metadata": {},
   "outputs": [],
   "source": [
    "def good_phrs_type(phrase_atom, subphrases, diagnose=False):\n",
    "    '''\n",
    "    Return boolean on whether a phrase atom is an acceptable type.\n",
    "    Acceptable is either a noun phrase (NP) or\n",
    "    a prepositional phrase (PP) that is governed only by את.\n",
    "    '''\n",
    "\n",
    "    if F.typ.v(phrase_atom) == 'NP': # noun phrase\n",
    "        return True\n",
    "    \n",
    "    # for logic on this selection criteria, see [?]\n",
    "    prep_sp = sorted(sp for sp in subphrases # sorted sp with prepositions\n",
    "                         if 'prep' in set(F.pdp.v(w) for w in L.d(sp, 'word')))\n",
    "    phrase_type = prep_sp or (phrase_atom,)\n",
    "    preps = [w for w in L.d(phrase_type[0], 'word') \n",
    "                    if F.pdp.v(w) == 'prep']\n",
    "    \n",
    "    if F.typ.v(phrase_atom) == 'PP' and preps: # check for את\n",
    "        prep = preps[0]\n",
    "        if F.lex.v(prep) == '>T':\n",
    "            return True\n",
    "        else:\n",
    "            if diagnose:\n",
    "                print('>T not found...')\n",
    "            return False\n",
    "    else:\n",
    "        if diagnose:\n",
    "            print('neither NP or PP...')\n",
    "            print('phrase_type: ', phrase_type)\n",
    "        return False\n",
    "\n",
    "def get_quantified(abs_wnode, good_pdp, good_sp, diagnose=False):\n",
    "    '''\n",
    "    Extract the genitive noun in a construct chain with a quantifier.\n",
    "    The function simply returns the first substantive in the chain.\n",
    "    '''\n",
    "    \n",
    "    rectum = E.mother.t(abs_wnode) # get rectum subphrase\n",
    "    abs_phrase = L.d(L.u(abs_wnode, 'phrase')[0], 'word') # for phrase boundary\n",
    "    \n",
    "    if not rectum:\n",
    "        if diagnose:\n",
    "            print('no rectum found at word', abs_wnode)\n",
    "        return None  # abs not in norm. construct (e.g. w/ verbs)\n",
    "    \n",
    "    # get words and nouns in the rectum subphrase\n",
    "    r_words = L.d(rectum[0], 'word')\n",
    "    r_nouns = [w for w in r_words \n",
    "                   if F.sp.v(w) in good_sp\n",
    "                   and F.pdp.v(w) in good_pdp\n",
    "                   and w in abs_phrase]\n",
    "    if r_nouns:\n",
    "        return r_nouns[0] # return the first noun\n",
    "    else:\n",
    "        if diagnose:\n",
    "            print('no noun found for word', abs_wnode)\n",
    "        return None # no noun found, return nothing\n",
    "    \n",
    "def independent(phrase_atom, subphrases, heads_list, diagnose=False):\n",
    "    \n",
    "    '''\n",
    "    Checks phrase and subphrase relations for dependency relations.\n",
    "    Requires a list of previously analyzed head nouns.\n",
    "    This list is required to double check parallel (coordinate) relations. \n",
    "    '''\n",
    "    # exclude words in phrase_atoms with these relation features\n",
    "    omit_pa_rela = {'Appo', # apposition\n",
    "                    'Spec'} # specification\n",
    "    \n",
    "    # exclude words in subphrases with these relation features\n",
    "    omit_sp_rela = {'rec', # nomen rectum\n",
    "                    'adj', # adjunct \n",
    "                    'atr', # attributive\n",
    "                    'mod', # modifier\n",
    "                    'dem'} # demontrative\n",
    "    \n",
    "    parallels = {'par', 'Para'} # parallel i.e. coordination specification\n",
    "    omit_relas = omit_pa_rela | omit_sp_rela\n",
    "    phrase_units = list(subphrases) + [phrase_atom] # phrase atom & subphrase \n",
    "    relas = set(F.rela.v(obj) for obj in phrase_units) # phrase atom & subphrase relas\n",
    "    \n",
    "    if not relas & omit_relas and not parallels & relas: # good relas\n",
    "        return True\n",
    "    \n",
    "    elif not relas & omit_relas and parallels & relas: # check parallel relations\n",
    "        \n",
    "        # assemble acceptable phrase mothers from the already accepted head nouns\n",
    "        head_mothers = set(L.u(w, 'phrase_atom')[0] for w in heads_list)\n",
    "        head_mothers |= set(sp for w in heads_list\n",
    "                               for sp in L.u(w, 'subphrase'))\n",
    "        \n",
    "        for pu in phrase_units:\n",
    "            if F.rela.v(pu) in parallels:\n",
    "                mother = E.mother.f(pu)[0]\n",
    "                if mother in head_mothers:\n",
    "                    return True\n",
    "                else:\n",
    "                    if diagnose:\n",
    "                        print('False independence: ')\n",
    "                        print('phrase units', phrase_units)\n",
    "                        print('mothers', head_mothers)\n",
    "                        print('head mothers', head_mothers)\n",
    "                        print()\n",
    "                        \n",
    "                    return False\n",
    "                \n",
    "    else: # noun is not independent\n",
    "        if diagnose:\n",
    "            print('not an acceptable rela...')\n",
    "        return False  \n",
    "        \n",
    "    \n",
    "def get_heads(phrase, diagnose=False):\n",
    "    '''\n",
    "    Returns substantive head nouns, if there are any, from a phrase node.\n",
    "    \"substantive\" does not include prounouns.\n",
    "    \n",
    "    Based on a supplied phrase get phrase atom and subphrase features \n",
    "    and compare them against a group of sets.\n",
    "    Define those sets first. Then make the comparison.\n",
    "    \n",
    "    *Caution* \n",
    "    This function works reasonably well,\n",
    "    but there are a number of edge cases that it does not catch.\n",
    "    Fine-tuning this function would make a nice notebook in itself.\n",
    "    See Gen 20:5 for a good edge case example, in which both היא pronouns\n",
    "    are registered as subjects, but only one should be.\n",
    "    '''\n",
    "    \n",
    "    good_sp = {'subs', 'nmpr', 'adjv'}\n",
    "    good_pdp = {'subs', 'nmpr'}\n",
    "        \n",
    "    heads = [] # nouns go here\n",
    "    phrase_words = L.d(phrase, 'word')\n",
    "        \n",
    "    for word in phrase_words:\n",
    "        \n",
    "        # get phrases's phrase atoms, subphrases, and subphrase relations\n",
    "        phrase_atom = L.u(word, 'phrase_atom')[0]\n",
    "        subphrases = L.u(word, 'subphrase') \n",
    "        sp_relas = set(F.rela.v(sp) for sp in subphrases)\n",
    "        \n",
    "        test_good = [F.pdp.v(word) in good_pdp, # is noun\n",
    "                     F.sp.v(word) in good_sp, # is noun\n",
    "                     good_phrs_type(phrase_atom, subphrases, diagnose), # is NP or PP with את\n",
    "                     independent(phrase_atom, subphrases, heads, diagnose) \n",
    "                    ] # is valid subphrase rela.\n",
    "        \n",
    "        # compare word/phrase features\n",
    "        if all(test_good):\n",
    "        \n",
    "            # handle quantifiers\n",
    "            quants = {'KL/', 'M<V/'}\n",
    "            if F.lex.v(word) in quants or F.ls.v(word) == 'card':\n",
    "                genitive_head = get_quantified(word, good_pdp, good_sp) # returns word node or None\n",
    "                if genitive_head:\n",
    "                    heads.append(genitive_head) # valid quantified noun found\n",
    "                else:\n",
    "                    continue # no noun found, skip it\n",
    "            else:\n",
    "                heads.append(word) # word is a head\n",
    "    \n",
    "        else:\n",
    "            if diagnose: \n",
    "                print(T.text([word]), word)\n",
    "                print('test_good', tuple(zip(test_good, ('pdp', 'sp', 'phr_typ', 'indep.'))))\n",
    "                print('subphrases', subphrases)\n",
    "                print('phrase_atom', phrase_atom)\n",
    "                print()\n",
    "            continue\n",
    "            \n",
    "    return heads"
   ]
  },
  {
   "cell_type": "markdown",
   "metadata": {},
   "source": [
    "## Subject and Object Omissions\n",
    "\n",
    "A previous version of the valid preposition function only identified nouns from prepositional phrase atoms that spanned the entire functional phrase. That omits cases such as Josh 24:18 with constructs:\n",
    "> ('Joshua', 24, 18) <br>\n",
    "> 722643 אֶת־כָּל־הָעַמִּ֗ים וְאֶת־הָאֱמֹרִ֛י <br>\n",
    "\n",
    "The search below identifies phrases that begin with a preposition besides את and function as an object or subject (N.B. the prep. את can mark subjects in passive constructions). These are the cases which will be excluded by the new version of the function. A survey of these cases confirms that none of them contain nouns that are of interest: that is, none of these prepositions appear to grammaticaly mark a subject or object, but appear to be specifiers. \n",
    "\n",
    "For the old function, see `is_preposition_subj` in the [old version](https://github.com/codykingham/tfNotebooks/blob/master/4Q246_Participants/participant_functions/subjects.py)."
   ]
  },
  {
   "cell_type": "code",
   "execution_count": 3,
   "metadata": {},
   "outputs": [
    {
     "name": "stdout",
     "output_type": "stream",
     "text": [
      "93 results\n",
      "\n"
     ]
    },
    {
     "data": {
      "text/html": [
       "<span style=\"font-family: Times New Roman; font-size: 18px; line-height: 1\">1. Genesis 40:17</span>"
      ],
      "text/plain": [
       "<IPython.core.display.HTML object>"
      ]
     },
     "metadata": {},
     "output_type": "display_data"
    },
    {
     "data": {
      "text/html": [
       "<span style=\"font-family: Times New Roman; font-size: 24px; line-height: 1\">וּבַסַּ֣ל הָֽעֶלְיֹו֔ן <span style=\"color: blue\">מִ</span><span style=\"color: blue\">כֹּ֛ל </span><span style=\"color: blue\">מַאֲכַ֥ל </span><span style=\"color: blue\">פַּרְעֹ֖ה </span><span style=\"color: blue\">מַעֲשֵׂ֣ה </span><span style=\"color: blue\">אֹפֶ֑ה </span></span>"
      ],
      "text/plain": [
       "<IPython.core.display.HTML object>"
      ]
     },
     "metadata": {},
     "output_type": "display_data"
    },
    {
     "name": "stdout",
     "output_type": "stream",
     "text": [
      "-------------------- \n",
      "\n"
     ]
    },
    {
     "data": {
      "text/html": [
       "<span style=\"font-family: Times New Roman; font-size: 18px; line-height: 1\">2. Genesis 44:18</span>"
      ],
      "text/plain": [
       "<IPython.core.display.HTML object>"
      ]
     },
     "metadata": {},
     "output_type": "display_data"
    },
    {
     "data": {
      "text/html": [
       "<span style=\"font-family: Times New Roman; font-size: 24px; line-height: 1\">כִּ֥י <span style=\"color: green\">כָמֹ֖וךָ </span>כְּפַרְעֹֽה׃ </span>"
      ],
      "text/plain": [
       "<IPython.core.display.HTML object>"
      ]
     },
     "metadata": {},
     "output_type": "display_data"
    },
    {
     "name": "stdout",
     "output_type": "stream",
     "text": [
      "-------------------- \n",
      "\n"
     ]
    },
    {
     "data": {
      "text/html": [
       "<span style=\"font-family: Times New Roman; font-size: 18px; line-height: 1\">3. Genesis 47:26</span>"
      ],
      "text/plain": [
       "<IPython.core.display.HTML object>"
      ]
     },
     "metadata": {},
     "output_type": "display_data"
    },
    {
     "data": {
      "text/html": [
       "<span style=\"font-family: Times New Roman; font-size: 24px; line-height: 1\">לְפַרְעֹ֖ה <span style=\"color: blue\">לַ</span><span style=\"color: blue\"></span><span style=\"color: blue\">חֹ֑מֶשׁ </span></span>"
      ],
      "text/plain": [
       "<IPython.core.display.HTML object>"
      ]
     },
     "metadata": {},
     "output_type": "display_data"
    },
    {
     "name": "stdout",
     "output_type": "stream",
     "text": [
      "-------------------- \n",
      "\n"
     ]
    },
    {
     "data": {
      "text/html": [
       "<span style=\"font-family: Times New Roman; font-size: 18px; line-height: 1\">4. Exodus 4:9</span>"
      ],
      "text/plain": [
       "<IPython.core.display.HTML object>"
      ]
     },
     "metadata": {},
     "output_type": "display_data"
    },
    {
     "data": {
      "text/html": [
       "<span style=\"font-family: Times New Roman; font-size: 24px; line-height: 1\">וְלָקַחְתָּ֙ <span style=\"color: green\">מִ</span><span style=\"color: green\">מֵּימֵ֣י </span><span style=\"color: green\">הַ</span><span style=\"color: green\">יְאֹ֔ר </span></span>"
      ],
      "text/plain": [
       "<IPython.core.display.HTML object>"
      ]
     },
     "metadata": {},
     "output_type": "display_data"
    },
    {
     "name": "stdout",
     "output_type": "stream",
     "text": [
      "-------------------- \n",
      "\n"
     ]
    },
    {
     "data": {
      "text/html": [
       "<span style=\"font-family: Times New Roman; font-size: 18px; line-height: 1\">5. Exodus 17:5</span>"
      ],
      "text/plain": [
       "<IPython.core.display.HTML object>"
      ]
     },
     "metadata": {},
     "output_type": "display_data"
    },
    {
     "data": {
      "text/html": [
       "<span style=\"font-family: Times New Roman; font-size: 24px; line-height: 1\">וְקַ֥ח אִתְּךָ֖ <span style=\"color: blue\">מִ</span><span style=\"color: blue\">זִּקְנֵ֣י </span><span style=\"color: blue\">יִשְׂרָאֵ֑ל </span></span>"
      ],
      "text/plain": [
       "<IPython.core.display.HTML object>"
      ]
     },
     "metadata": {},
     "output_type": "display_data"
    },
    {
     "name": "stdout",
     "output_type": "stream",
     "text": [
      "-------------------- \n",
      "\n",
      "results cut off at 5\n"
     ]
    }
   ],
   "source": [
    "targets = []\n",
    "\n",
    "for phrase in F.otype.s('phrase'):\n",
    "    \n",
    "    if F.function.v(phrase) not in {'Subj', 'Objc'}:\n",
    "        continue\n",
    "    \n",
    "    phrase_atoms = L.d(phrase, 'phrase_atom')\n",
    "    pa_lex = set(F.lex.v(w) for w in L.d(phrase_atoms[0], 'word'))\n",
    "        \n",
    "    if F.typ.v(phrase_atoms[0]) == 'PP' and '>T' not in pa_lex:\n",
    "        \n",
    "        targets.append((L.u(phrase, 'clause')[0], phrase, phrase_atoms[0]))\n",
    "        \n",
    "show_results(targets, limit=5, highlight=[1])"
   ]
  },
  {
   "cell_type": "markdown",
   "metadata": {},
   "source": [
    "Further inspection of subject or object phrases that do not begin with את but contain את later on in the phrase shows that most of these are cases of adjectival specification, with a few parallel relationships reflected. In particular, it was important to be sure that את in the adjectival sense, especially where it has the sense of \"with\" rather than a grammatical one, would be excluded from the noun selector. Many of the finds by this search were more appositional than used in this \"with sense\". But a handful were found. 1 Chronicles 20:5, broken down below this search, confirms that את phrases in this adjectival sense are marked as `Spec` for specification. Thus, it is completely safe in the preposition parser function to take any את prepositional phrase. The acceptable subphrase relation set will then eliminate any match that is a specifier."
   ]
  },
  {
   "cell_type": "code",
   "execution_count": 4,
   "metadata": {},
   "outputs": [
    {
     "name": "stdout",
     "output_type": "stream",
     "text": [
      "54 results\n",
      "\n"
     ]
    },
    {
     "data": {
      "text/html": [
       "<span style=\"font-family: Times New Roman; font-size: 18px; line-height: 1\">1. Genesis 6:10</span>"
      ],
      "text/plain": [
       "<IPython.core.display.HTML object>"
      ]
     },
     "metadata": {},
     "output_type": "display_data"
    },
    {
     "data": {
      "text/html": [
       "<span style=\"font-family: Times New Roman; font-size: 24px; line-height: 1\">וַיֹּ֥ולֶד נֹ֖חַ <span style=\"color: blue\">שְׁלֹשָׁ֣ה </span><span style=\"color: blue\">בָנִ֑ים </span><span style=\"color: green\">אֶת־</span><span style=\"color: green\">שֵׁ֖ם </span><span style=\"color: green\">אֶת־</span><span style=\"color: green\">חָ֥ם </span><span style=\"color: green\">וְ</span><span style=\"color: green\">אֶת־</span><span style=\"color: green\">יָֽפֶת׃ </span></span>"
      ],
      "text/plain": [
       "<IPython.core.display.HTML object>"
      ]
     },
     "metadata": {},
     "output_type": "display_data"
    },
    {
     "name": "stdout",
     "output_type": "stream",
     "text": [
      "-------------------- \n",
      "\n"
     ]
    },
    {
     "data": {
      "text/html": [
       "<span style=\"font-family: Times New Roman; font-size: 18px; line-height: 1\">2. Genesis 40:8</span>"
      ],
      "text/plain": [
       "<IPython.core.display.HTML object>"
      ]
     },
     "metadata": {},
     "output_type": "display_data"
    },
    {
     "data": {
      "text/html": [
       "<span style=\"font-family: Times New Roman; font-size: 24px; line-height: 1\">וּ<span style=\"color: blue\">פֹתֵ֖ר </span>אֵ֣ין <span style=\"color: green\">אֹתֹ֑ו </span></span>"
      ],
      "text/plain": [
       "<IPython.core.display.HTML object>"
      ]
     },
     "metadata": {},
     "output_type": "display_data"
    },
    {
     "name": "stdout",
     "output_type": "stream",
     "text": [
      "-------------------- \n",
      "\n"
     ]
    },
    {
     "data": {
      "text/html": [
       "<span style=\"font-family: Times New Roman; font-size: 18px; line-height: 1\">3. Genesis 41:15</span>"
      ],
      "text/plain": [
       "<IPython.core.display.HTML object>"
      ]
     },
     "metadata": {},
     "output_type": "display_data"
    },
    {
     "data": {
      "text/html": [
       "<span style=\"font-family: Times New Roman; font-size: 24px; line-height: 1\">וּ<span style=\"color: blue\">פֹתֵ֖ר </span>אֵ֣ין <span style=\"color: green\">אֹתֹ֑ו </span></span>"
      ],
      "text/plain": [
       "<IPython.core.display.HTML object>"
      ]
     },
     "metadata": {},
     "output_type": "display_data"
    },
    {
     "name": "stdout",
     "output_type": "stream",
     "text": [
      "-------------------- \n",
      "\n"
     ]
    },
    {
     "data": {
      "text/html": [
       "<span style=\"font-family: Times New Roman; font-size: 18px; line-height: 1\">4. Exodus 1:11</span>"
      ],
      "text/plain": [
       "<IPython.core.display.HTML object>"
      ]
     },
     "metadata": {},
     "output_type": "display_data"
    },
    {
     "data": {
      "text/html": [
       "<span style=\"font-family: Times New Roman; font-size: 24px; line-height: 1\">וַיִּ֜בֶן <span style=\"color: blue\">עָרֵ֤י </span><span style=\"color: blue\">מִסְכְּנֹות֙ </span>לְפַרְעֹ֔ה <span style=\"color: green\">אֶת־</span><span style=\"color: green\">פִּתֹ֖ם </span><span style=\"color: green\">וְ</span><span style=\"color: green\">אֶת־</span><span style=\"color: green\">רַעַמְסֵֽס׃ </span></span>"
      ],
      "text/plain": [
       "<IPython.core.display.HTML object>"
      ]
     },
     "metadata": {},
     "output_type": "display_data"
    },
    {
     "name": "stdout",
     "output_type": "stream",
     "text": [
      "-------------------- \n",
      "\n"
     ]
    },
    {
     "data": {
      "text/html": [
       "<span style=\"font-family: Times New Roman; font-size: 18px; line-height: 1\">5. Exodus 35:25</span>"
      ],
      "text/plain": [
       "<IPython.core.display.HTML object>"
      ]
     },
     "metadata": {},
     "output_type": "display_data"
    },
    {
     "data": {
      "text/html": [
       "<span style=\"font-family: Times New Roman; font-size: 24px; line-height: 1\">וַיָּבִ֣יאוּ <span style=\"color: blue\">מַטְוֶ֗ה </span><span style=\"color: green\">אֶֽת־</span><span style=\"color: green\">הַ</span><span style=\"color: green\">תְּכֵ֨לֶת֙ </span><span style=\"color: green\">וְ</span><span style=\"color: green\">אֶת־</span><span style=\"color: green\">הָֽ</span><span style=\"color: green\">אַרְגָּמָ֔ן </span><span style=\"color: green\">אֶת־</span><span style=\"color: green\">תֹּולַ֥עַת </span><span style=\"color: green\">הַ</span><span style=\"color: green\">שָּׁנִ֖י </span><span style=\"color: green\">וְ</span><span style=\"color: green\">אֶת־</span><span style=\"color: green\">הַ</span><span style=\"color: green\">שֵּֽׁשׁ׃ </span></span>"
      ],
      "text/plain": [
       "<IPython.core.display.HTML object>"
      ]
     },
     "metadata": {},
     "output_type": "display_data"
    },
    {
     "name": "stdout",
     "output_type": "stream",
     "text": [
      "-------------------- \n",
      "\n",
      "results cut off at 5\n"
     ]
    }
   ],
   "source": [
    "targets = []\n",
    "\n",
    "for phrase in F.otype.s('phrase'):\n",
    "    \n",
    "    if F.function.v(phrase) not in {'Subj', 'Objc'}:\n",
    "        continue\n",
    "    \n",
    "    phrase_atoms = L.d(phrase, 'phrase_atom')\n",
    "    first_pa = phrase_atoms[0]\n",
    "    f_pa_lex = set(F.lex.v(w) for w in L.d(first_pa, 'word'))\n",
    "    \n",
    "    if '>T' in f_pa_lex:\n",
    "        continue\n",
    "    \n",
    "    for i in range(1, len(phrase_atoms)):\n",
    "        \n",
    "        other_pa = phrase_atoms[i]\n",
    "        pa_lex = set(F.lex.v(w) for w in L.d(other_pa, 'word'))\n",
    "        \n",
    "        if F.typ.v(other_pa) == 'PP' and '>T' in pa_lex:\n",
    "\n",
    "            targets.append((L.u(phrase, 'clause')[0], phrase, other_pa))\n",
    "            break\n",
    "        \n",
    "show_results(targets, limit=5, highlight=[1, 2])"
   ]
  },
  {
   "cell_type": "markdown",
   "metadata": {},
   "source": [
    "As seen below, \"war *with Philistines*\" is marked as `Spec`. "
   ]
  },
  {
   "cell_type": "code",
   "execution_count": 5,
   "metadata": {},
   "outputs": [
    {
     "name": "stdout",
     "output_type": "stream",
     "text": [
      "1158377\n",
      "מִלְחָמָ֖ה \n",
      "NA\n",
      "\n",
      "1158378\n",
      "אֶת־פְּלִשְׁתִּ֑ים \n",
      "Spec\n",
      "\n"
     ]
    }
   ],
   "source": [
    "# (\"1_Chronicles\", 20, 5)\n",
    "for sp in (L.d(892236, 'phrase_atom')):\n",
    "    print(sp)\n",
    "    print(T.text(L.d(sp, 'word')))\n",
    "    print(F.rela.v(sp))\n",
    "    print()"
   ]
  },
  {
   "cell_type": "markdown",
   "metadata": {},
   "source": [
    "### Ordering of Subphrases on a L.u call from Word Node\n",
    "\n",
    "This search demonstrates that subphrase nodes are indeed ordered by size when called from a word node, i.e. subphrases that contain less words receive smaller node numbers. If they are equal in size, either one might have the lower node number.\n",
    "\n",
    "It is indeed acceptable to select the first subphrase on a `L.u` call from a word for preposition testing. That is the subphrase which will be closest to the word level."
   ]
  },
  {
   "cell_type": "code",
   "execution_count": 6,
   "metadata": {},
   "outputs": [
    {
     "data": {
      "text/plain": [
       "0"
      ]
     },
     "execution_count": 6,
     "metadata": {},
     "output_type": "execute_result"
    }
   ],
   "source": [
    "not_true = []\n",
    "true = 0\n",
    "no_sp = 0\n",
    "\n",
    "for word in F.otype.s('word'):\n",
    "    \n",
    "    subphrases = sorted(L.u(word, 'subphrase'))\n",
    "    \n",
    "    if not subphrases:\n",
    "        no_sp += 1\n",
    "        continue\n",
    "        \n",
    "    sp_len = sorted((len(L.d(sp, 'word')), sp) for sp in subphrases) # sort by word length\n",
    "    sp_check = [sp[1] for sp in sp_len] # iterate over sorted list and grab subphrase nodes\n",
    "    \n",
    "    if sp_check == subphrases: # check them\n",
    "        true += 1\n",
    "        \n",
    "    else:\n",
    "        not_true.append(word)\n",
    "\n",
    "len(not_true)"
   ]
  },
  {
   "cell_type": "markdown",
   "metadata": {},
   "source": [
    "## Testing the Function"
   ]
  },
  {
   "cell_type": "code",
   "execution_count": 7,
   "metadata": {},
   "outputs": [],
   "source": [
    "# # test the function\n",
    "\n",
    "# results = []\n",
    "# ct = 0\n",
    "\n",
    "# object_phrases = list(F.function.s('Objc'))\n",
    "\n",
    "# random.shuffle(object_phrases)\n",
    "\n",
    "# for phrase in object_phrases:\n",
    "    \n",
    "#     heads = get_heads(phrase)\n",
    "    \n",
    "#     if heads and len(heads) < len(L.d(phrase, 'word')):\n",
    "        \n",
    "#         print(T.sectionFromNode(phrase))\n",
    "#         print(T.text(L.d(L.u(phrase, 'clause')[0], 'word')))\n",
    "#         print(phrase)\n",
    "#         print(T.text(L.d(phrase, 'word')))\n",
    "#         heads = [T.text([head]) for head in heads]\n",
    "#         print(' | '.join(heads))\n",
    "#         print()\n",
    "        \n",
    "#         ct += 1\n",
    "        \n",
    "#         if ct == 100:\n",
    "#             break"
   ]
  },
  {
   "cell_type": "markdown",
   "metadata": {},
   "source": [
    "### How Many Phrases Does it Validate?"
   ]
  },
  {
   "cell_type": "code",
   "execution_count": 8,
   "metadata": {},
   "outputs": [
    {
     "data": {
      "text/plain": [
       "Counter({'heads_found': 36406,\n",
       "         'pronoun_excluded': 5740,\n",
       "         'total': 54599,\n",
       "         'unknown': 12452})"
      ]
     },
     "execution_count": 8,
     "metadata": {},
     "output_type": "execute_result"
    }
   ],
   "source": [
    "phrase_counts = collections.Counter()\n",
    "\n",
    "for phrase in F.otype.s('phrase'):\n",
    "    \n",
    "    if F.function.v(phrase) not in {'Subj', 'Objc'}:\n",
    "        continue\n",
    "        \n",
    "    heads = get_heads(phrase)\n",
    "    pdps = set(F.pdp.v(w) for w in L.d(phrase))\n",
    "    \n",
    "    phrase_counts['total'] += 1\n",
    "    \n",
    "    if heads:\n",
    "        phrase_counts['heads_found'] += 1\n",
    "        \n",
    "    elif pdps & {'prps', 'prde', 'prin'}:\n",
    "        phrase_counts['pronoun_excluded'] += 1\n",
    "    \n",
    "    elif pdps & {'intj'}:\n",
    "        phrase_counts['interjection_excluded']\n",
    "    \n",
    "    else:\n",
    "        phrase_counts['unknown'] += 1     \n",
    "        \n",
    "phrase_counts"
   ]
  },
  {
   "cell_type": "markdown",
   "metadata": {},
   "source": [
    "### Push to TF as Edges\n",
    "\n",
    "Apply the function phrase atoms and phrases that serve as subjects or objects in the BHSA. The relationships will be pushed out to TF as an edge relation from a phrase to its head noun word nodes."
   ]
  },
  {
   "cell_type": "code",
   "execution_count": 9,
   "metadata": {},
   "outputs": [
    {
     "name": "stdout",
     "output_type": "stream",
     "text": [
      "This is Text-Fabric 3.2.2\n",
      "Api reference : https://github.com/Dans-labs/text-fabric/wiki/Api\n",
      "Tutorial      : https://github.com/Dans-labs/text-fabric/blob/master/docs/tutorial.ipynb\n",
      "Example data  : https://github.com/Dans-labs/text-fabric-data\n",
      "\n",
      "0 features found and 0 ignored\n"
     ]
    },
    {
     "name": "stderr",
     "output_type": "stream",
     "text": [
      "  0.00s Warp feature \"otype\" not found in\n",
      "\n",
      "  0.00s Warp feature \"oslots\" not found in\n",
      "\n"
     ]
    },
    {
     "name": "stdout",
     "output_type": "stream",
     "text": [
      "  0.00s Warp feature \"otext\" not found. Working without Text-API\n",
      "\n",
      "  0.00s Exporting 0 node and 1 edge and 0 config features to tf/c:\n",
      "   |     0.19s T heads                to tf/c\n",
      "  0.19s Exported 0 node features and 1 edge features and 0 config features to tf/c\n"
     ]
    }
   ],
   "source": [
    "push_new = False\n",
    "\n",
    "if push_new:\n",
    "\n",
    "    meta = {'': {'created_by': 'Cody Kingham',\n",
    "                 'coreData': 'BHSA',\n",
    "                 'coreVersion': 'c'\n",
    "                },\n",
    "            'heads' : {'source': 'see the notebooks at https://github.com/codykingham/semantics',\n",
    "                      'valueType': 'int',\n",
    "                      'edgeValues': False}\n",
    "           }\n",
    "\n",
    "    heads = {}\n",
    "\n",
    "    for phrase in F.otype.s('phrase'):\n",
    "\n",
    "        # only push features for these two types for now\n",
    "        if F.function.v(phrase) not in {'Subj', 'Objc'}:\n",
    "            continue\n",
    "\n",
    "        phrase_heads = get_heads(phrase)\n",
    "\n",
    "        if phrase_heads:\n",
    "            heads[phrase] = set(phrase_heads)\n",
    "\n",
    "        for phrase_atom in L.d(phrase, 'phrase_atom'):\n",
    "            phraseAt_heads = get_heads(phrase_atom)\n",
    "            if phraseAt_heads:\n",
    "                heads[phrase_atom] = set(phraseAt_heads)\n",
    "\n",
    "    new_edges = {'heads': heads}\n",
    "\n",
    "    saveTF = Fabric('tf/c')\n",
    "    saveTF.save(nodeFeatures={}, edgeFeatures=new_edges, metaData=meta)"
   ]
  },
  {
   "cell_type": "markdown",
   "metadata": {},
   "source": [
    "### Test Heads Feature"
   ]
  },
  {
   "cell_type": "code",
   "execution_count": 10,
   "metadata": {},
   "outputs": [
    {
     "name": "stdout",
     "output_type": "stream",
     "text": [
      "  0.00s loading features ...\n",
      "   |     0.30s T heads                from /Users/cody/github/semantics/tf/c\n",
      "  0.35s All additional features loaded - for details use loadLog()\n"
     ]
    }
   ],
   "source": [
    "TF.load('heads', add=True)"
   ]
  },
  {
   "cell_type": "code",
   "execution_count": 11,
   "metadata": {},
   "outputs": [
    {
     "name": "stdout",
     "output_type": "stream",
     "text": [
      "781 samples found\n",
      "\n",
      "('Micah', 3, 8)\n",
      "וְאוּלָ֗ם אָנֹכִ֞י מָלֵ֤אתִי כֹ֨חַ֙ אֶת־ר֣וּחַ יְהוָ֔ה וּמִשְׁפָּ֖ט וּגְבוּרָ֑ה \n",
      "כֹ֨חַ֙ וּמִשְׁפָּ֖ט וּגְבוּרָ֑ה \n",
      "(300200, 300205, 300207)\n",
      "כֹ֨חַ֙ מִשְׁפָּ֖ט גְבוּרָ֑ה \n",
      "\n",
      "('Joshua', 21, 37)\n",
      "אֶת־קְדֵמֹות֙ וְאֶת־מִגְרָשֶׁ֔הָ וְאֶת־מֵיפָ֖עַת וְאֶת־מִגְרָשֶׁ֑הָ עָרִ֖ים אַרְבַּֽע׃ ס \n",
      "אֶת־קְדֵמֹות֙ וְאֶת־מִגְרָשֶׁ֔הָ וְאֶת־מֵיפָ֖עַת וְאֶת־מִגְרָשֶׁ֑הָ \n",
      "(125068, 125071, 125074, 125077)\n",
      "קְדֵמֹות֙ מִגְרָשֶׁ֔הָ מֵיפָ֖עַת מִגְרָשֶׁ֑הָ \n",
      "\n",
      "('Joshua', 20, 7)\n",
      "וַיַּקְדִּ֜שׁוּ אֶת־קֶ֤דֶשׁ בַּגָּלִיל֙ בְּהַ֣ר נַפְתָּלִ֔י וְאֶת־שְׁכֶ֖ם בְּהַ֣ר אֶפְרָ֑יִם וְאֶת־קִרְיַ֥ת אַרְבַּ֛ע בְּהַ֥ר יְהוּדָֽה׃ \n",
      "אֶת־קֶ֤דֶשׁ בַּגָּלִיל֙ בְּהַ֣ר נַפְתָּלִ֔י וְאֶת־שְׁכֶ֖ם בְּהַ֣ר אֶפְרָ֑יִם וְאֶת־קִרְיַ֥ת אַרְבַּ֛ע בְּהַ֥ר יְהוּדָֽה׃ \n",
      "(124297, 124306, 124312)\n",
      "קֶ֤דֶשׁ שְׁכֶ֖ם קִרְיַ֥ת אַרְבַּ֛ע \n",
      "\n",
      "('Ruth', 2, 11)\n",
      "וַתַּֽעַזְבִ֞י אָבִ֣יךְ וְאִמֵּ֗ךְ וְאֶ֨רֶץ֙ מֹֽולַדְתֵּ֔ךְ \n",
      "אָבִ֣יךְ וְאִמֵּ֗ךְ וְאֶ֨רֶץ֙ מֹֽולַדְתֵּ֔ךְ \n",
      "(356475, 356477, 356479)\n",
      "אָבִ֣יךְ אִמֵּ֗ךְ אֶ֨רֶץ֙ \n",
      "\n",
      "('Joshua', 4, 12)\n",
      "וַ֠יַּעַבְרוּ בְּנֵי־רְאוּבֵ֨ן וּבְנֵי־גָ֜ד וַחֲצִ֨י שֵׁ֤בֶט הַֽמְנַשֶּׁה֙ חֲמֻשִׁ֔ים לִפְנֵ֖י בְּנֵ֣י יִשְׂרָאֵ֑ל \n",
      "בְּנֵי־רְאוּבֵ֨ן וּבְנֵי־גָ֜ד וַחֲצִ֨י שֵׁ֤בֶט הַֽמְנַשֶּׁה֙ \n",
      "(114683, 114686, 114689)\n",
      "בְּנֵי־בְנֵי־חֲצִ֨י \n",
      "\n",
      "('1_Chronicles', 7, 32)\n",
      "וְחֶ֨בֶר֙ הֹולִ֣יד אֶת־יַפְלֵ֔ט וְאֶת־שֹׁומֵ֖ר וְאֶת־חֹותָ֑ם וְאֵ֖ת שׁוּעָ֥א אֲחֹותָֽם׃ \n",
      "אֶת־יַפְלֵ֔ט וְאֶת־שֹׁומֵ֖ר וְאֶת־חֹותָ֑ם וְאֵ֖ת שׁוּעָ֥א אֲחֹותָֽם׃ \n",
      "(395456, 395459, 395462, 395465)\n",
      "יַפְלֵ֔ט שֹׁומֵ֖ר חֹותָ֑ם שׁוּעָ֥א \n",
      "\n",
      "('Jeremiah', 49, 10)\n",
      "שֻׁדַּ֥ד זַרְעֹ֛ו וְאֶחָ֥יו וּשְׁכֵנָ֖יו \n",
      "זַרְעֹ֛ו וְאֶחָ֥יו וּשְׁכֵנָ֖יו \n",
      "(261311, 261313, 261315)\n",
      "זַרְעֹ֛ו אֶחָ֥יו שְׁכֵנָ֖יו \n",
      "\n",
      "('Jeremiah', 40, 7)\n",
      "וְכִ֣י׀ הִפְקִ֣יד אִתֹּ֗ו אֲנָשִׁ֤ים וְנָשִׁים֙ וָטָ֔ף וּמִדַּלַּ֣ת הָאָ֔רֶץ \n",
      "אֲנָשִׁ֤ים וְנָשִׁים֙ וָטָ֔ף וּמִדַּלַּ֣ת הָאָ֔רֶץ \n",
      "(257012, 257014, 257016)\n",
      "אֲנָשִׁ֤ים נָשִׁים֙ טָ֔ף \n",
      "\n",
      "('2_Chronicles', 28, 7)\n",
      "וַֽיַּהֲרֹ֞ג זִכְרִ֣י׀ גִּבֹּ֣ור אֶפְרַ֗יִם אֶת־מַעֲשֵׂיָ֨הוּ֙ בֶּן־הַמֶּ֔לֶךְ וְאֶת־עַזְרִיקָ֖ם נְגִ֣יד הַבָּ֑יִת וְאֶת־אֶלְקָנָ֖ה מִשְׁנֵ֥ה הַמֶּֽלֶךְ׃ ס \n",
      "אֶת־מַעֲשֵׂיָ֨הוּ֙ בֶּן־הַמֶּ֔לֶךְ וְאֶת־עַזְרִיקָ֖ם נְגִ֣יד הַבָּ֑יִת וְאֶת־אֶלְקָנָ֖ה מִשְׁנֵ֥ה הַמֶּֽלֶךְ׃ ס \n",
      "(420464, 420470, 420476)\n",
      "מַעֲשֵׂיָ֨הוּ֙ עַזְרִיקָ֖ם אֶלְקָנָ֖ה \n",
      "\n",
      "('Deuteronomy', 1, 15)\n",
      "שָׂרֵ֨י אֲלָפִ֜ים וְשָׂרֵ֣י מֵאֹ֗ות וְשָׂרֵ֤י חֲמִשִּׁים֙ וְשָׂרֵ֣י עֲשָׂרֹ֔ת וְשֹׁטְרִ֖ים לְשִׁבְטֵיכֶֽם׃ \n",
      "שָׂרֵ֨י אֲלָפִ֜ים וְשָׂרֵ֣י מֵאֹ֗ות וְשָׂרֵ֤י חֲמִשִּׁים֙ וְשָׂרֵ֣י עֲשָׂרֹ֔ת וְשֹׁטְרִ֖ים \n",
      "(93094, 93097, 93100, 93103)\n",
      "שָׂרֵ֨י שָׂרֵ֣י שָׂרֵ֤י שָׂרֵ֣י \n",
      "\n",
      "('1_Chronicles', 1, 20)\n",
      "וְיָקְטָ֣ן יָלַ֔ד אֶת־אַלְמֹודָ֖ד וְאֶת־שָׁ֑לֶף וְאֶת־חֲצַרְמָ֖וֶת וְאֶת־יָֽרַח׃ \n",
      "אֶת־אַלְמֹודָ֖ד וְאֶת־שָׁ֑לֶף וְאֶת־חֲצַרְמָ֖וֶת וְאֶת־יָֽרַח׃ \n",
      "(391468, 391471, 391474, 391477)\n",
      "אַלְמֹודָ֖ד שָׁ֑לֶף חֲצַרְמָ֖וֶת יָֽרַח׃ \n",
      "\n",
      "('Jeremiah', 25, 19)\n",
      "אֶת־פַּרְעֹ֧ה מֶֽלֶךְ־מִצְרַ֛יִם וְאֶת־עֲבָדָ֥יו וְאֶת־שָׂרָ֖יו וְאֶת־כָּל־עַמֹּֽו׃ \n",
      "אֶת־פַּרְעֹ֧ה מֶֽלֶךְ־מִצְרַ֛יִם וְאֶת־עֲבָדָ֥יו וְאֶת־שָׂרָ֖יו וְאֶת־כָּל־עַמֹּֽו׃ \n",
      "(247430, 247435, 247438, 247442)\n",
      "פַּרְעֹ֧ה עֲבָדָ֥יו שָׂרָ֖יו עַמֹּֽו׃ \n",
      "\n",
      "('1_Chronicles', 6, 60)\n",
      "וְאֶת־חוּקֹק֙ וְאֶת־מִגְרָשֶׁ֔יהָ וְאֶת־רְחֹ֖ב וְאֶת־מִגְרָשֶֽׁיהָ׃ \n",
      "אֶת־חוּקֹק֙ וְאֶת־מִגְרָשֶׁ֔יהָ וְאֶת־רְחֹ֖ב וְאֶת־מִגְרָשֶֽׁיהָ׃ \n",
      "(394831, 394834, 394837, 394840)\n",
      "חוּקֹק֙ מִגְרָשֶׁ֔יהָ רְחֹ֖ב מִגְרָשֶֽׁיהָ׃ \n",
      "\n",
      "('Jeremiah', 22, 3)\n",
      "וְגֵר֩ יָתֹ֨ום וְאַלְמָנָ֤ה אַל־תֹּנוּ֙ \n",
      "גֵר֩ יָתֹ֨ום וְאַלְמָנָ֤ה \n",
      "(245349, 245350, 245352)\n",
      "גֵר֩ יָתֹ֨ום אַלְמָנָ֤ה \n",
      "\n",
      "('Ezra', 7, 24)\n",
      "מִנְדָּ֤ה בְלֹו֙ וַהֲלָ֔ךְ \n",
      "מִנְדָּ֤ה בְלֹו֙ וַהֲלָ֔ךְ \n",
      "(381406, 381407, 381409)\n",
      "מִנְדָּ֤ה בְלֹו֙ הֲלָ֔ךְ \n",
      "\n",
      "('Numbers', 32, 28)\n",
      "וַיְצַ֤ו לָהֶם֙ מֹשֶׁ֔ה אֵ֚ת אֶלְעָזָ֣ר הַכֹּהֵ֔ן וְאֵ֖ת יְהֹושֻׁ֣עַ בִּן־נ֑וּן וְאֶת־רָאשֵׁ֛י אֲבֹ֥ות הַמַּטֹּ֖ות לִבְנֵ֥י יִשְׂרָאֵֽל׃ \n",
      "אֵ֚ת אֶלְעָזָ֣ר הַכֹּהֵ֔ן וְאֵ֖ת יְהֹושֻׁ֣עַ בִּן־נ֑וּן וְאֶת־רָאשֵׁ֛י אֲבֹ֥ות הַמַּטֹּ֖ות לִבְנֵ֥י יִשְׂרָאֵֽל׃ \n",
      "(90403, 90408, 90413)\n",
      "אֶלְעָזָ֣ר יְהֹושֻׁ֣עַ רָאשֵׁ֛י \n",
      "\n",
      "('Hosea', 4, 11)\n",
      "זְנ֛וּת וְיַ֥יִן וְתִירֹ֖ושׁ יִֽקַּֽח־לֵֽב׃ \n",
      "זְנ֛וּת וְיַ֥יִן וְתִירֹ֖ושׁ \n",
      "(291853, 291855, 291857)\n",
      "זְנ֛וּת יַ֥יִן תִירֹ֖ושׁ \n",
      "\n",
      "('1_Samuel', 27, 9)\n",
      "וְלָקַח֩ צֹ֨אן וּבָקָ֜ר וַחֲמֹרִ֤ים וּגְמַלִּים֙ וּבְגָדִ֔ים \n",
      "צֹ֨אן וּבָקָ֜ר וַחֲמֹרִ֤ים וּגְמַלִּים֙ וּבְגָדִ֔ים \n",
      "(158409, 158411, 158413, 158415, 158417)\n",
      "צֹ֨אן בָקָ֜ר חֲמֹרִ֤ים גְמַלִּים֙ בְגָדִ֔ים \n",
      "\n",
      "('2_Kings', 10, 2)\n",
      "וְאִתְּכֶם֙ הָרֶ֣כֶב וְהַסּוּסִ֔ים וְעִ֥יר מִבְצָ֖ר וְהַנָּֽשֶׁק׃ \n",
      "הָרֶ֣כֶב וְהַסּוּסִ֔ים וְעִ֥יר מִבְצָ֖ר וְהַנָּֽשֶׁק׃ \n",
      "(201158, 201161, 201163, 201167)\n",
      "רֶ֣כֶב סּוּסִ֔ים עִ֥יר נָּֽשֶׁק׃ \n",
      "\n",
      "('1_Samuel', 31, 2)\n",
      "וַיַּכּ֣וּ פְלִשְׁתִּ֗ים אֶת־יְהֹונָתָ֧ן וְאֶת־אֲבִינָדָ֛ב וְאֶת־מַלְכִּי־שׁ֖וּעַ בְּנֵ֥י שָׁאֽוּל׃ \n",
      "אֶת־יְהֹונָתָ֧ן וְאֶת־אֲבִינָדָ֛ב וְאֶת־מַלְכִּי־שׁ֖וּעַ בְּנֵ֥י שָׁאֽוּל׃ \n",
      "(160210, 160213, 160216)\n",
      "יְהֹונָתָ֧ן אֲבִינָדָ֛ב מַלְכִּי־שׁ֖וּעַ \n",
      "\n",
      "('Leviticus', 9, 22)\n",
      "מֵעֲשֹׂ֧ת הַֽחַטָּ֛את וְהָעֹלָ֖ה וְהַשְּׁלָמִֽים׃ \n",
      "הַֽחַטָּ֛את וְהָעֹלָ֖ה וְהַשְּׁלָמִֽים׃ \n",
      "(57324, 57327, 57330)\n",
      "חַטָּ֛את עֹלָ֖ה שְּׁלָמִֽים׃ \n",
      "\n",
      "('Exodus', 35, 13)\n",
      "אֶת־הַשֻּׁלְחָ֥ן וְאֶת־בַּדָּ֖יו וְאֶת־כָּל־כֵּלָ֑יו וְאֵ֖ת לֶ֥חֶם הַפָּנִֽים׃ \n",
      "אֶת־הַשֻּׁלְחָ֥ן וְאֶת־בַּדָּ֖יו וְאֶת־כָּל־כֵּלָ֑יו וְאֵ֖ת לֶ֥חֶם הַפָּנִֽים׃ \n",
      "(48689, 48692, 48696, 48699)\n",
      "שֻּׁלְחָ֥ן בַּדָּ֖יו כֵּלָ֑יו לֶ֥חֶם \n",
      "\n",
      "('Genesis', 50, 8)\n",
      "וְכֹל֙ בֵּ֣ית יֹוסֵ֔ף וְאֶחָ֖יו וּבֵ֣ית אָבִ֑יו \n",
      "כֹל֙ בֵּ֣ית יֹוסֵ֔ף וְאֶחָ֖יו וּבֵ֣ית אָבִ֑יו \n",
      "(28391, 28394, 28396)\n",
      "בֵּ֣ית אֶחָ֖יו בֵ֣ית \n",
      "\n",
      "('Joshua', 21, 34)\n",
      "וּלְמִשְׁפְּחֹ֣ות בְּנֵֽי־מְרָרִי֮ הַלְוִיִּ֣ם הַנֹּותָרִים֒ מֵאֵת֙ מַטֵּ֣ה זְבוּלֻ֔ן אֶֽת־יָקְנְעָ֖ם וְאֶת־מִגְרָשֶׁ֑הָ אֶת־קַרְתָּ֖ה וְאֶת־מִגְרָשֶֽׁהָ׃ \n",
      "אֶֽת־יָקְנְעָ֖ם וְאֶת־מִגְרָשֶׁ֑הָ אֶת־קַרְתָּ֖ה וְאֶת־מִגְרָשֶֽׁהָ׃ \n",
      "(125031, 125034, 125036, 125039)\n",
      "יָקְנְעָ֖ם מִגְרָשֶׁ֑הָ קַרְתָּ֖ה מִגְרָשֶֽׁהָ׃ \n",
      "\n",
      "('Deuteronomy', 11, 1)\n",
      "וְשָׁמַרְתָּ֣ מִשְׁמַרְתֹּ֗ו וְחֻקֹּתָ֧יו וּמִשְׁפָּטָ֛יו וּמִצְוֹתָ֖יו כָּל־הַיָּמִֽים׃ \n",
      "מִשְׁמַרְתֹּ֗ו וְחֻקֹּתָ֧יו וּמִשְׁפָּטָ֛יו וּמִצְוֹתָ֖יו \n",
      "(99597, 99599, 99601, 99603)\n",
      "מִשְׁמַרְתֹּ֗ו חֻקֹּתָ֧יו מִשְׁפָּטָ֛יו מִצְוֹתָ֖יו \n",
      "\n",
      "('Leviticus', 11, 19)\n",
      "וְאֵת֙ הַחֲסִידָ֔ה הָאֲנָפָ֖ה לְמִינָ֑הּ וְאֶת־הַדּוּכִיפַ֖ת וְאֶת־הָעֲטַלֵּֽף׃ \n",
      "אֵת֙ הַחֲסִידָ֔ה הָאֲנָפָ֖ה לְמִינָ֑הּ וְאֶת־הַדּוּכִיפַ֖ת וְאֶת־הָעֲטַלֵּֽף׃ \n",
      "(58146, 58148, 58154, 58158)\n",
      "חֲסִידָ֔ה אֲנָפָ֖ה דּוּכִיפַ֖ת עֲטַלֵּֽף׃ \n",
      "\n",
      "('Nehemiah', 11, 20)\n",
      "וּשְׁאָ֨ר יִשְׂרָאֵ֜ל הַכֹּהֲנִ֤ים הַלְוִיִּם֙ בְּכָל־עָרֵ֣י יְהוּדָ֔ה \n",
      "שְׁאָ֨ר יִשְׂרָאֵ֜ל הַכֹּהֲנִ֤ים הַלְוִיִּם֙ \n",
      "(389572, 389575, 389577)\n",
      "שְׁאָ֨ר כֹּהֲנִ֤ים לְוִיִּם֙ \n",
      "\n",
      "('1_Chronicles', 28, 1)\n",
      "וַיַּקְהֵ֣ל דָּוִ֣יד אֶת־כָּל־שָׂרֵ֣י יִשְׂרָאֵ֡ל שָׂרֵ֣י הַשְּׁבָטִ֣ים וְשָׂרֵ֣י הַמַּחְלְקֹ֣ות וְשָׂרֵ֣י הָאֲלָפִ֣ים וְשָׂרֵ֣י הַמֵּאֹ֡ות וְשָׂרֵ֣י כָל־רְכוּשׁ־וּמִקְנֶה֩׀ לַמֶּ֨לֶךְ וּלְבָנָ֜יו עִם־הַסָּרִיסִ֧ים וְהַגִּבֹּורִ֛ים וּֽלְכָל־גִּבֹּ֥ור חָ֖יִל אֶל־יְרוּשָׁלִָֽם׃ \n",
      "אֶת־כָּל־שָׂרֵ֣י יִשְׂרָאֵ֡ל שָׂרֵ֣י הַשְּׁבָטִ֣ים וְשָׂרֵ֣י הַמַּחְלְקֹ֣ות וְשָׂרֵ֣י הָאֲלָפִ֣ים וְשָׂרֵ֣י הַמֵּאֹ֡ות וְשָׂרֵ֣י כָל־רְכוּשׁ־וּמִקְנֶה֩׀ לַמֶּ֨לֶךְ וּלְבָנָ֜יו \n",
      "(405492, 405507, 405511, 405515)\n",
      "שָׂרֵ֣י שָׂרֵ֣י שָׂרֵ֣י שָׂרֵ֣י \n",
      "\n",
      "('Leviticus', 8, 20)\n",
      "וַיַּקְטֵ֤ר מֹשֶׁה֙ אֶת־הָרֹ֔אשׁ וְאֶת־הַנְּתָחִ֖ים וְאֶת־הַפָּֽדֶר׃ \n",
      "אֶת־הָרֹ֔אשׁ וְאֶת־הַנְּתָחִ֖ים וְאֶת־הַפָּֽדֶר׃ \n",
      "(56445, 56449, 56453)\n",
      "רֹ֔אשׁ נְּתָחִ֖ים פָּֽדֶר׃ \n",
      "\n",
      "('1_Chronicles', 29, 7)\n",
      "וַֽיִּתְּנ֞וּ לַעֲבֹודַ֣ת בֵּית־הָאֱלֹהִ֗ים זָהָ֞ב כִּכָּרִ֣ים חֲמֵֽשֶׁת־אֲלָפִים֮ וַאֲדַרְכֹנִ֣ים רִבֹּו֒ וְכֶ֗סֶף כִּכָּרִים֙ עֲשֶׂ֣רֶת אֲלָפִ֔ים וּנְחֹ֕שֶׁת רִבֹּ֛ו וּשְׁמֹונַ֥ת אֲלָפִ֖ים כִּכָּרִ֑ים וּבַרְזֶ֖ל מֵֽאָה־אֶ֥לֶף כִּכָּרִֽים׃ \n",
      "זָהָ֞ב כִּכָּרִ֣ים חֲמֵֽשֶׁת־אֲלָפִים֮ וַאֲדַרְכֹנִ֣ים רִבֹּו֒ וְכֶ֗סֶף כִּכָּרִים֙ עֲשֶׂ֣רֶת אֲלָפִ֔ים וּנְחֹ֕שֶׁת רִבֹּ֛ו וּשְׁמֹונַ֥ת אֲלָפִ֖ים כִּכָּרִ֑ים וּבַרְזֶ֖ל מֵֽאָה־אֶ֥לֶף כִּכָּרִֽים׃ \n",
      "(406266, 406271, 406274, 406279, 406286)\n",
      "זָהָ֞ב אֲדַרְכֹנִ֣ים כֶ֗סֶף נְחֹ֕שֶׁת בַרְזֶ֖ל \n",
      "\n",
      "('Deuteronomy', 34, 2)\n",
      "וְאֵת֙ כָּל־נַפְתָּלִ֔י וְאֶת־אֶ֥רֶץ אֶפְרַ֖יִם וּמְנַשֶּׁ֑ה וְאֵת֙ כָּל־אֶ֣רֶץ יְהוּדָ֔ה עַ֖ד הַיָּ֥ם הָאַחֲרֹֽון׃ \n",
      "אֵת֙ כָּל־נַפְתָּלִ֔י וְאֶת־אֶ֥רֶץ אֶפְרַ֖יִם וּמְנַשֶּׁ֑ה וְאֵת֙ כָּל־אֶ֣רֶץ יְהוּדָ֔ה עַ֖ד הַיָּ֥ם הָאַחֲרֹֽון׃ \n",
      "(112712, 112715, 112722)\n",
      "נַפְתָּלִ֔י אֶ֥רֶץ אֶ֣רֶץ \n",
      "\n",
      "('1_Chronicles', 6, 59)\n",
      "וּמִמַּטֵּ֣ה אָשֵׁ֔ר אֶת־מָשָׁ֖ל וְאֶת־מִגְרָשֶׁ֑יהָ וְאֶת־עַבְדֹּ֖ון וְאֶת־מִגְרָשֶֽׁיהָ׃ \n",
      "אֶת־מָשָׁ֖ל וְאֶת־מִגְרָשֶׁ֑יהָ וְאֶת־עַבְדֹּ֖ון וְאֶת־מִגְרָשֶֽׁיהָ׃ \n",
      "(394819, 394822, 394825, 394828)\n",
      "מָשָׁ֖ל מִגְרָשֶׁ֑יהָ עַבְדֹּ֖ון מִגְרָשֶֽׁיהָ׃ \n",
      "\n",
      "('Ezra', 4, 13)\n",
      "דִּ֠י מִנְדָּֽה־בְלֹ֤ו וַהֲלָךְ֙ לָ֣א יִנְתְּנ֔וּן \n",
      "מִנְדָּֽה־בְלֹ֤ו וַהֲלָךְ֙ \n",
      "(379774, 379775, 379777)\n",
      "מִנְדָּֽה־בְלֹ֤ו הֲלָךְ֙ \n",
      "\n",
      "('Nehemiah', 9, 6)\n",
      "אַתָּ֣ה עָשִׂ֡יתָ אֶֽת־הַשָּׁמַיִם֩ שְׁמֵ֨י הַשָּׁמַ֜יִם וְכָל־צְבָאָ֗ם \n",
      "אֶֽת־הַשָּׁמַיִם֩ שְׁמֵ֨י הַשָּׁמַ֜יִם וְכָל־צְבָאָ֗ם \n",
      "(387856, 387857, 387862)\n",
      "שָּׁמַיִם֩ שְׁמֵ֨י צְבָאָ֗ם \n",
      "\n",
      "('Psalms', 31, 10)\n",
      "עָשְׁשָׁ֖ה בְכַ֥עַס עֵינִ֗י נַפְשִׁ֥י וּבִטְנִֽי׃ \n",
      "עֵינִ֗י נַפְשִׁ֥י וּבִטְנִֽי׃ \n",
      "(315042, 315043, 315045)\n",
      "עֵינִ֗י נַפְשִׁ֥י בִטְנִֽי׃ \n",
      "\n",
      "('2_Chronicles', 19, 7)\n",
      "כִּֽי־אֵ֞ין עִם־יְהוָ֣ה אֱלֹהֵ֗ינוּ עַוְלָ֛ה וּמַשֹּׂ֥א פָנִ֖ים וּמִקַּח־שֹֽׁחַד׃ \n",
      "עַוְלָ֛ה וּמַשֹּׂ֥א פָנִ֖ים וּמִקַּח־שֹֽׁחַד׃ \n",
      "(415839, 415841, 415844)\n",
      "עַוְלָ֛ה מַשֹּׂ֥א מִקַּח־\n",
      "\n",
      "('1_Kings', 10, 2)\n",
      "גְּ֠מַלִּים נֹשְׂאִ֨ים בְּשָׂמִ֧ים וְזָהָ֛ב רַב־מְאֹ֖ד וְאֶ֣בֶן יְקָרָ֑ה \n",
      "בְּשָׂמִ֧ים וְזָהָ֛ב רַב־מְאֹ֖ד וְאֶ֣בֶן יְקָרָ֑ה \n",
      "(184370, 184372, 184376)\n",
      "בְּשָׂמִ֧ים זָהָ֛ב אֶ֣בֶן \n",
      "\n",
      "('1_Chronicles', 6, 65)\n",
      "וּמִ֨מַּטֵּה־גָ֔ד אֶת־רָאמֹ֥ות בַּגִּלְעָ֖ד וְאֶת־מִגְרָשֶׁ֑יהָ וְאֶֽת־מַחֲנַ֖יִם וְאֶת־מִגְרָשֶֽׁיהָ׃ \n",
      "אֶת־רָאמֹ֥ות בַּגִּלְעָ֖ד וְאֶת־מִגְרָשֶׁ֑יהָ וְאֶֽת־מַחֲנַ֖יִם וְאֶת־מִגְרָשֶֽׁיהָ׃ \n",
      "(394927, 394933, 394936, 394939)\n",
      "רָאמֹ֥ות מִגְרָשֶׁ֑יהָ מַחֲנַ֖יִם מִגְרָשֶֽׁיהָ׃ \n",
      "\n",
      "('Genesis', 1, 12)\n",
      "וַתֹּוצֵ֨א הָאָ֜רֶץ דֶּ֠שֶׁא עֵ֣שֶׂב וְעֵ֧ץ \n",
      "דֶּ֠שֶׁא עֵ֣שֶׂב וְעֵ֧ץ \n",
      "(208, 209, 215)\n",
      "דֶּ֠שֶׁא עֵ֣שֶׂב עֵ֧ץ \n",
      "\n",
      "('Ezekiel', 16, 49)\n",
      "גָּאֹ֨ון שִׂבְעַת־לֶ֜חֶם וְשַׁלְוַ֣ת הַשְׁקֵ֗ט הָ֤יָה לָהּ֙ וְלִבְנֹותֶ֔יהָ \n",
      "גָּאֹ֨ון שִׂבְעַת־לֶ֜חֶם וְשַׁלְוַ֣ת הַשְׁקֵ֗ט \n",
      "(271911, 271912, 271915)\n",
      "גָּאֹ֨ון שִׂבְעַת־שַׁלְוַ֣ת \n",
      "\n",
      "('Leviticus', 3, 14)\n",
      "אֶת־הַחֵ֨לֶב֙ וְאֵת֙ כָּל־הַחֵ֔לֶב וְאֵת֙ שְׁתֵּ֣י הַכְּלָיֹ֔ת וְאֶת־הַחֵ֨לֶב֙ \n",
      "אֶת־הַחֵ֨לֶב֙ וְאֵת֙ כָּל־הַחֵ֔לֶב וְאֵת֙ שְׁתֵּ֣י הַכְּלָיֹ֔ת וְאֶת־הַחֵ֨לֶב֙ \n",
      "(53442, 53452, 53461, 53465)\n",
      "חֵ֨לֶב֙ חֵ֔לֶב כְּלָיֹ֔ת חֵ֨לֶב֙ \n",
      "\n",
      "('Numbers', 4, 9)\n",
      "וְכִסּ֞וּ אֶת־מְנֹרַ֤ת הַמָּאֹור֙ וְאֶת־נֵ֣רֹתֶ֔יהָ וְאֶת־מַלְקָחֶ֖יהָ וְאֶת־מַחְתֹּתֶ֑יהָ וְאֵת֙ כָּל־כְּלֵ֣י שַׁמְנָ֔הּ \n",
      "אֶת־מְנֹרַ֤ת הַמָּאֹור֙ וְאֶת־נֵ֣רֹתֶ֔יהָ וְאֶת־מַלְקָחֶ֖יהָ וְאֶת־מַחְתֹּתֶ֑יהָ וְאֵת֙ כָּל־כְּלֵ֣י שַׁמְנָ֔הּ \n",
      "(71924, 71929, 71932, 71935, 71939)\n",
      "מְנֹרַ֤ת נֵ֣רֹתֶ֔יהָ מַלְקָחֶ֖יהָ מַחְתֹּתֶ֑יהָ כְּלֵ֣י \n",
      "\n",
      "('Numbers', 4, 7)\n",
      "וְנָתְנ֣וּ עָ֠לָיו אֶת־הַקְּעָרֹ֤ת וְאֶת־הַכַּפֹּת֙ וְאֶת־הַמְּנַקִּיֹּ֔ת וְאֵ֖ת קְשֹׂ֣ות הַנָּ֑סֶךְ \n",
      "אֶת־הַקְּעָרֹ֤ת וְאֶת־הַכַּפֹּת֙ וְאֶת־הַמְּנַקִּיֹּ֔ת וְאֵ֖ת קְשֹׂ֣ות הַנָּ֑סֶךְ \n",
      "(71880, 71884, 71888, 71891)\n",
      "קְּעָרֹ֤ת כַּפֹּת֙ מְּנַקִּיֹּ֔ת קְשֹׂ֣ות \n",
      "\n",
      "('Jeremiah', 9, 23)\n",
      "עֹ֥שֶׂה חֶ֛סֶד מִשְׁפָּ֥ט וּצְדָקָ֖ה בָּאָ֑רֶץ \n",
      "חֶ֛סֶד מִשְׁפָּ֥ט וּצְדָקָ֖ה \n",
      "(239841, 239842, 239844)\n",
      "חֶ֛סֶד מִשְׁפָּ֥ט צְדָקָ֖ה \n",
      "\n",
      "('Deuteronomy', 6, 17)\n",
      "שָׁמֹ֣ור תִּשְׁמְר֔וּן אֶת־מִצְוֹ֖ת יְהוָ֣ה אֱלֹהֵיכֶ֑ם וְעֵדֹתָ֥יו וְחֻקָּ֖יו \n",
      "אֶת־מִצְוֹ֖ת יְהוָ֣ה אֱלֹהֵיכֶ֑ם וְעֵדֹתָ֥יו וְחֻקָּ֖יו \n",
      "(97246, 97250, 97252)\n",
      "מִצְוֹ֖ת עֵדֹתָ֥יו חֻקָּ֖יו \n",
      "\n",
      "('2_Samuel', 20, 7)\n",
      "וַיֵּצְא֤וּ אַֽחֲרָיו֙ אַנְשֵׁ֣י יֹואָ֔ב וְהַכְּרֵתִ֥י וְהַפְּלֵתִ֖י וְכָל־הַגִּבֹּרִ֑ים \n",
      "אַנְשֵׁ֣י יֹואָ֔ב וְהַכְּרֵתִ֥י וְהַפְּלֵתִ֖י וְכָל־הַגִּבֹּרִ֑ים \n",
      "(173244, 173248, 173251, 173255)\n",
      "אַנְשֵׁ֣י כְּרֵתִ֥י פְּלֵתִ֖י גִּבֹּרִ֑ים \n",
      "\n",
      "('Ezra', 8, 26)\n",
      "וָאֶשְׁקֲלָ֨ה עַל־יָדָ֜ם כֶּ֗סֶף כִּכָּרִים֙ שֵֽׁשׁ־מֵאֹ֣ות וַחֲמִשִּׁ֔ים וּכְלֵי־כֶ֥סֶף מֵאָ֖ה לְכִכָּרִ֑ים זָהָ֖ב מֵאָ֥ה כִכָּֽר׃ \n",
      "כֶּ֗סֶף כִּכָּרִים֙ שֵֽׁשׁ־מֵאֹ֣ות וַחֲמִשִּׁ֔ים וּכְלֵי־כֶ֥סֶף מֵאָ֖ה לְכִכָּרִ֑ים זָהָ֖ב מֵאָ֥ה כִכָּֽר׃ \n",
      "(382003, 382010, 382015)\n",
      "כֶּ֗סֶף כְלֵי־זָהָ֖ב \n",
      "\n",
      "('Exodus', 39, 40)\n",
      "אֵת֩ קַלְעֵ֨י הֶחָצֵ֜ר אֶת־עַמֻּדֶ֣יהָ וְאֶת־אֲדָנֶ֗יהָ וְאֶת־הַמָּסָךְ֙ לְשַׁ֣עַר הֶֽחָצֵ֔ר אֶת־מֵיתָרָ֖יו וִיתֵדֹתֶ֑יהָ וְאֵ֗ת כָּל־כְּלֵ֛י עֲבֹדַ֥ת הַמִּשְׁכָּ֖ן לְאֹ֥הֶל מֹועֵֽד׃ \n",
      "אֵת֩ קַלְעֵ֨י הֶחָצֵ֜ר אֶת־עַמֻּדֶ֣יהָ וְאֶת־אֲדָנֶ֗יהָ וְאֶת־הַמָּסָךְ֙ לְשַׁ֣עַר הֶֽחָצֵ֔ר אֶת־מֵיתָרָ֖יו וִיתֵדֹתֶ֑יהָ וְאֵ֗ת כָּל־כְּלֵ֛י עֲבֹדַ֥ת הַמִּשְׁכָּ֖ן לְאֹ֥הֶל מֹועֵֽד׃ \n",
      "(51773, 51777, 51780, 51784)\n",
      "קַלְעֵ֨י עַמֻּדֶ֣יהָ אֲדָנֶ֗יהָ מָּסָךְ֙ \n",
      "\n",
      "('Jeremiah', 8, 7)\n",
      "וְתֹ֤ר וְסִיס֙ וְעָג֗וּר שָׁמְר֖וּ אֶת־עֵ֣ת \n",
      "תֹ֤ר וְסִיס֙ וְעָג֗וּר \n",
      "(239118, 239120, 239122)\n",
      "תֹ֤ר סִיס֙ עָג֗וּר \n",
      "\n",
      "('Exodus', 12, 35)\n",
      "וַֽיִּשְׁאֲלוּ֙ מִמִּצְרַ֔יִם כְּלֵי־כֶ֛סֶף וּכְלֵ֥י זָהָ֖ב וּשְׂמָלֹֽת׃ \n",
      "כְּלֵי־כֶ֛סֶף וּכְלֵ֥י זָהָ֖ב וּשְׂמָלֹֽת׃ \n",
      "(35479, 35482, 35485)\n",
      "כְּלֵי־כְלֵ֥י שְׂמָלֹֽת׃ \n",
      "\n",
      "('1_Samuel', 8, 16)\n",
      "וְאֶת־עַבְדֵיכֶם֩ וְֽאֶת־שִׁפְחֹ֨ותֵיכֶ֜ם וְאֶת־בַּחוּרֵיכֶ֧ם הַטֹּובִ֛ים וְאֶת־חֲמֹורֵיכֶ֖ם יִקָּ֑ח \n",
      "אֶת־עַבְדֵיכֶם֩ וְֽאֶת־שִׁפְחֹ֨ותֵיכֶ֜ם וְאֶת־בַּחוּרֵיכֶ֧ם הַטֹּובִ֛ים וְאֶת־חֲמֹורֵיכֶ֖ם \n",
      "(145365, 145368, 145371, 145376)\n",
      "עַבְדֵיכֶם֩ שִׁפְחֹ֨ותֵיכֶ֜ם בַּחוּרֵיכֶ֧ם חֲמֹורֵיכֶ֖ם \n",
      "\n",
      "('Genesis', 26, 5)\n",
      "וַיִּשְׁמֹר֙ מִשְׁמַרְתִּ֔י מִצְוֹתַ֖י חֻקֹּותַ֥י וְתֹורֹתָֽי׃ \n",
      "מִשְׁמַרְתִּ֔י מִצְוֹתַ֖י חֻקֹּותַ֥י וְתֹורֹתָֽי׃ \n",
      "(13086, 13087, 13088, 13090)\n",
      "מִשְׁמַרְתִּ֔י מִצְוֹתַ֖י חֻקֹּותַ֥י תֹורֹתָֽי׃ \n",
      "\n",
      "('2_Kings', 24, 14)\n",
      "וְהִגְלָ֣ה אֶת־כָּל־יְ֠רוּשָׁלִַם וְֽאֶת־כָּל־הַשָּׂרִ֞ים וְאֵ֣ת׀ כָּל־גִּבֹּורֵ֣י הַחַ֗יִל עֲשֶׂ֤רֶת אֲלָפִים֙ גֹּולֶ֔ה וְכָל־הֶחָרָ֖שׁ וְהַמַּסְגֵּ֑ר \n",
      "אֶת־כָּל־יְ֠רוּשָׁלִַם וְֽאֶת־כָּל־הַשָּׂרִ֞ים וְאֵ֣ת׀ כָּל־גִּבֹּורֵ֣י הַחַ֗יִל וְכָל־הֶחָרָ֖שׁ וְהַמַּסְגֵּ֑ר \n",
      "(211166, 211171, 211175, 211184, 211187)\n",
      "יְ֠רוּשָׁלִַם שָּׂרִ֞ים גִּבֹּורֵ֣י חָרָ֖שׁ מַּסְגֵּ֑ר \n",
      "\n",
      "('Genesis', 50, 8)\n",
      "רַ֗ק טַפָּם֙ וְצֹאנָ֣ם וּבְקָרָ֔ם עָזְב֖וּ בְּאֶ֥רֶץ גֹּֽשֶׁן׃ \n",
      "רַ֗ק טַפָּם֙ וְצֹאנָ֣ם וּבְקָרָ֔ם \n",
      "(28399, 28401, 28403)\n",
      "טַפָּם֙ צֹאנָ֣ם בְקָרָ֔ם \n",
      "\n",
      "('Ezekiel', 42, 13)\n",
      "שָׁ֞ם יַנִּ֣יחוּ׀ קָדְשֵׁ֣י הַקֳּדָשִׁ֗ים וְהַמִּנְחָה֙ וְהַחַטָּ֣את וְהָאָשָׁ֔ם \n",
      "קָדְשֵׁ֣י הַקֳּדָשִׁ֗ים וְהַמִּנְחָה֙ וְהַחַטָּ֣את וְהָאָשָׁ֔ם \n",
      "(286975, 286980, 286983, 286986)\n",
      "קָדְשֵׁ֣י מִּנְחָה֙ חַטָּ֣את אָשָׁ֔ם \n",
      "\n",
      "('Exodus', 4, 11)\n",
      "אֹ֚ו מִֽי־יָשׂ֣וּם אִלֵּ֔ם אֹ֣ו חֵרֵ֔שׁ אֹ֥ו פִקֵּ֖חַ אֹ֣ו עִוֵּ֑ר \n",
      "אִלֵּ֔ם אֹ֣ו חֵרֵ֔שׁ אֹ֥ו פִקֵּ֖חַ אֹ֣ו עִוֵּ֑ר \n",
      "(30407, 30409, 30411, 30413)\n",
      "אִלֵּ֔ם חֵרֵ֔שׁ פִקֵּ֖חַ עִוֵּ֑ר \n",
      "\n",
      "('2_Chronicles', 11, 19)\n",
      "וַתֵּ֥לֶד לֹ֖ו בָּנִ֑ים אֶת־יְע֥וּשׁ וְאֶת־שְׁמַרְיָ֖ה וְאֶת־זָֽהַם׃ \n",
      "אֶת־יְע֥וּשׁ וְאֶת־שְׁמַרְיָ֖ה וְאֶת־זָֽהַם׃ \n",
      "(412512, 412515, 412518)\n",
      "יְע֥וּשׁ שְׁמַרְיָ֖ה זָֽהַם׃ \n",
      "\n",
      "('Joshua', 21, 28)\n",
      "וּמִמַּטֵּ֣ה יִשָּׂשכָ֔ר אֶת־קִשְׁיֹ֖ון וְאֶת־מִגְרָשֶׁ֑הָ אֶת־דָּֽבְרַ֖ת וְאֶת־מִגְרָשֶֽׁהָ׃ \n",
      "אֶת־קִשְׁיֹ֖ון וְאֶת־מִגְרָשֶׁ֑הָ אֶת־דָּֽבְרַ֖ת וְאֶת־מִגְרָשֶֽׁהָ׃ \n",
      "(124927, 124930, 124932, 124935)\n",
      "קִשְׁיֹ֖ון מִגְרָשֶׁ֑הָ דָּֽבְרַ֖ת מִגְרָשֶֽׁהָ׃ \n",
      "\n",
      "('Ecclesiastes', 9, 6)\n",
      "גַּ֣ם אַהֲבָתָ֧ם גַּם־שִׂנְאָתָ֛ם גַּם־קִנְאָתָ֖ם כְּבָ֣ר אָבָ֑דָה \n",
      "גַּ֣ם אַהֲבָתָ֧ם גַּם־שִׂנְאָתָ֛ם גַּם־קִנְאָתָ֖ם \n",
      "(362463, 362465, 362467)\n",
      "אַהֲבָתָ֧ם שִׂנְאָתָ֛ם קִנְאָתָ֖ם \n",
      "\n",
      "('Exodus', 36, 37)\n",
      "וַיַּ֤עַשׂ מָסָךְ֙ לְפֶ֣תַח הָאֹ֔הֶל תְּכֵ֧לֶת וְאַרְגָּמָ֛ן וְתֹולַ֥עַת שָׁנִ֖י וְשֵׁ֣שׁ מָשְׁזָ֑ר וְאֶת־עַמּוּדָ֤יו חֲמִשָּׁה֙ וְאֶת־וָ֣וֵיהֶ֔ם \n",
      "תְּכֵ֧לֶת וְאַרְגָּמָ֛ן וְתֹולַ֥עַת שָׁנִ֖י וְשֵׁ֣שׁ מָשְׁזָ֑ר \n",
      "(49901, 49903, 49905, 49908)\n",
      "תְּכֵ֧לֶת אַרְגָּמָ֛ן תֹולַ֥עַת שֵׁ֣שׁ \n",
      "\n",
      "('1_Samuel', 8, 14)\n",
      "וְאֶת־שְׂ֠דֹֽותֵיכֶם וְאֶת־כַּרְמֵיכֶ֧ם וְזֵיתֵיכֶ֛ם הַטֹּובִ֖ים יִקָּ֑ח \n",
      "אֶת־שְׂ֠דֹֽותֵיכֶם וְאֶת־כַּרְמֵיכֶ֧ם וְזֵיתֵיכֶ֛ם הַטֹּובִ֖ים \n",
      "(145338, 145341, 145343)\n",
      "שְׂ֠דֹֽותֵיכֶם כַּרְמֵיכֶ֧ם זֵיתֵיכֶ֛ם \n",
      "\n",
      "('Ezra', 2, 69)\n",
      "כְּכֹחָ֗ם נָתְנוּ֮ לְאֹוצַ֣ר הַמְּלָאכָה֒ זָהָ֗ב דַּרְכְּמֹונִים֙ שֵׁשׁ־רִבֹּ֣אות וָאֶ֔לֶף ס וְכֶ֕סֶף מָנִ֖ים חֲמֵ֣שֶׁת אֲלָפִ֑ים וְכָתְנֹ֥ת כֹּהֲנִ֖ים מֵאָֽה׃ ס \n",
      "זָהָ֗ב דַּרְכְּמֹונִים֙ שֵׁשׁ־רִבֹּ֣אות וָאֶ֔לֶף ס וְכֶ֕סֶף מָנִ֖ים חֲמֵ֣שֶׁת אֲלָפִ֑ים וְכָתְנֹ֥ת כֹּהֲנִ֖ים מֵאָֽה׃ ס \n",
      "(379057, 379064, 379069)\n",
      "זָהָ֗ב כֶ֕סֶף כָתְנֹ֥ת \n",
      "\n",
      "('2_Chronicles', 4, 16)\n",
      "וְאֶת־הַ֠סִּירֹות וְאֶת־הַיָּעִ֤ים וְאֶת־הַמִּזְלָגֹות֙ וְאֶת־כָּל־כְּלֵיהֶ֔ם עָשָׂ֞ה חוּרָ֥ם אָבִ֛יו לַמֶּ֥לֶךְ שְׁלֹמֹ֖ה לְבֵ֣ית יְהוָ֑ה נְחֹ֖שֶׁת מָרֽוּק׃ \n",
      "אֶת־הַ֠סִּירֹות וְאֶת־הַיָּעִ֤ים וְאֶת־הַמִּזְלָגֹות֙ וְאֶת־כָּל־כְּלֵיהֶ֔ם \n",
      "(408441, 408445, 408449, 408453)\n",
      "סִּירֹות יָּעִ֤ים מִּזְלָגֹות֙ כְּלֵיהֶ֔ם \n",
      "\n",
      "('Genesis', 30, 43)\n",
      "וַֽיְהִי־לֹו֙ צֹ֣אן רַבֹּ֔ות וּשְׁפָחֹות֙ וַעֲבָדִ֔ים וּגְמַלִּ֖ים וַחֲמֹרִֽים׃ \n",
      "צֹ֣אן רַבֹּ֔ות וּשְׁפָחֹות֙ וַעֲבָדִ֔ים וּגְמַלִּ֖ים וַחֲמֹרִֽים׃ \n",
      "(16370, 16373, 16375, 16377, 16379)\n",
      "צֹ֣אן שְׁפָחֹות֙ עֲבָדִ֔ים גְמַלִּ֖ים חֲמֹרִֽים׃ \n",
      "\n",
      "('2_Samuel', 8, 10)\n",
      "וּבְיָדֹ֗ו הָי֛וּ כְּלֵֽי־כֶ֥סֶף וּכְלֵֽי־זָהָ֖ב וּכְלֵ֥י נְחֹֽשֶׁת׃ \n",
      "כְּלֵֽי־כֶ֥סֶף וּכְלֵֽי־זָהָ֖ב וּכְלֵ֥י נְחֹֽשֶׁת׃ \n",
      "(164810, 164813, 164816)\n",
      "כְּלֵֽי־כְלֵֽי־כְלֵ֥י \n",
      "\n",
      "('1_Chronicles', 6, 56)\n",
      "לִבְנֵי֮ גֵּרְשֹׁום֒ מִמִּשְׁפַּ֗חַת חֲצִי֙ מַטֵּ֣ה מְנַשֶּׁ֔ה אֶת־גֹּולָ֥ן בַּבָּשָׁ֖ן וְאֶת־מִגְרָשֶׁ֑יהָ וְאֶת־עַשְׁתָּרֹ֖ות וְאֶת־מִגְרָשֶֽׁיהָ׃ ס \n",
      "אֶת־גֹּולָ֥ן בַּבָּשָׁ֖ן וְאֶת־מִגְרָשֶׁ֑יהָ וְאֶת־עַשְׁתָּרֹ֖ות וְאֶת־מִגְרָשֶֽׁיהָ׃ ס \n",
      "(394775, 394781, 394784, 394787)\n",
      "גֹּולָ֥ן מִגְרָשֶׁ֑יהָ עַשְׁתָּרֹ֖ות מִגְרָשֶֽׁיהָ׃ ס \n",
      "\n",
      "('Judges', 6, 33)\n",
      "וְכָל־מִדְיָ֧ן וַעֲמָלֵ֛ק וּבְנֵי־קֶ֖דֶם נֶאֶסְפ֣וּ יַחְדָּ֑ו \n",
      "כָל־מִדְיָ֧ן וַעֲמָלֵ֛ק וּבְנֵי־קֶ֖דֶם \n",
      "(131207, 131209, 131211)\n",
      "מִדְיָ֧ן עֲמָלֵ֛ק בְנֵי־\n",
      "\n",
      "('Ezra', 8, 25)\n",
      "וָאֶשְׁקֳלָ֣ה לָהֶ֔ם אֶת־הַכֶּ֥סֶף וְאֶת־הַזָּהָ֖ב וְאֶת־הַכֵּלִ֑ים תְּרוּמַ֣ת בֵּית־אֱלֹהֵ֗ינוּ \n",
      "אֶת־הַכֶּ֥סֶף וְאֶת־הַזָּהָ֖ב וְאֶת־הַכֵּלִ֑ים תְּרוּמַ֣ת בֵּית־אֱלֹהֵ֗ינוּ \n",
      "(381974, 381978, 381982)\n",
      "כֶּ֥סֶף זָּהָ֖ב כֵּלִ֑ים \n",
      "\n",
      "('2_Chronicles', 9, 4)\n",
      "וּמַאֲכַ֣ל שֻׁלְחָנֹ֡ו וּמֹושַׁ֣ב עֲבָדָיו֩ וּמַעֲמַ֨ד מְשָׁרְתָ֜יו וּמַלְבּֽוּשֵׁיהֶ֗ם וּמַשְׁקָיו֙ וּמַלְבּ֣וּשֵׁיהֶ֔ם וַעֲלִיָּתֹ֔ו \n",
      "מַאֲכַ֣ל שֻׁלְחָנֹ֡ו וּמֹושַׁ֣ב עֲבָדָיו֩ וּמַעֲמַ֨ד מְשָׁרְתָ֜יו וּמַלְבּֽוּשֵׁיהֶ֗ם וּמַשְׁקָיו֙ וּמַלְבּ֣וּשֵׁיהֶ֔ם וַעֲלִיָּתֹ֔ו \n",
      "(411110, 411113, 411116, 411119, 411121, 411123, 411125)\n",
      "מַאֲכַ֣ל מֹושַׁ֣ב מַעֲמַ֨ד מַלְבּֽוּשֵׁיהֶ֗ם מַשְׁקָיו֙ מַלְבּ֣וּשֵׁיהֶ֔ם עֲלִיָּתֹ֔ו \n",
      "\n",
      "('1_Chronicles', 6, 53)\n",
      "וְאֶֽת־יָקְמְעָם֙ וְאֶת־מִגְרָשֶׁ֔יהָ וְאֶת־בֵּ֥ית חֹורֹ֖ון וְאֶת־מִגְרָשֶֽׁיהָ׃ \n",
      "אֶֽת־יָקְמְעָם֙ וְאֶת־מִגְרָשֶׁ֔יהָ וְאֶת־בֵּ֥ית חֹורֹ֖ון וְאֶת־מִגְרָשֶֽׁיהָ׃ \n",
      "(394721, 394724, 394727, 394730)\n",
      "יָקְמְעָם֙ מִגְרָשֶׁ֔יהָ בֵּ֥ית חֹורֹ֖ון מִגְרָשֶֽׁיהָ׃ \n",
      "\n",
      "('Deuteronomy', 26, 17)\n",
      "וְלִשְׁמֹ֨ר חֻקָּ֧יו וּמִצְוֹתָ֛יו וּמִשְׁפָּטָ֖יו \n",
      "חֻקָּ֧יו וּמִצְוֹתָ֛יו וּמִשְׁפָּטָ֖יו \n",
      "(107596, 107598, 107600)\n",
      "חֻקָּ֧יו מִצְוֹתָ֛יו מִשְׁפָּטָ֖יו \n",
      "\n",
      "('Ezra', 4, 20)\n",
      "וּמִדָּ֥ה בְלֹ֛ו וַהֲלָ֖ךְ מִתְיְהֵ֥ב לְהֹֽון׃ \n",
      "מִדָּ֥ה בְלֹ֛ו וַהֲלָ֖ךְ \n",
      "(379933, 379934, 379936)\n",
      "מִדָּ֥ה בְלֹ֛ו הֲלָ֖ךְ \n",
      "\n",
      "('Ecclesiastes', 9, 1)\n",
      "אֲשֶׁ֨ר הַצַּדִּיקִ֧ים וְהַחֲכָמִ֛ים וַעֲבָדֵיהֶ֖ם בְּיַ֣ד הָאֱלֹהִ֑ים \n",
      "הַצַּדִּיקִ֧ים וְהַחֲכָמִ֛ים וַעֲבָדֵיהֶ֖ם \n",
      "(362317, 362320, 362322)\n",
      "צַּדִּיקִ֧ים חֲכָמִ֛ים עֲבָדֵיהֶ֖ם \n",
      "\n",
      "('Deuteronomy', 28, 51)\n",
      "אֲשֶׁ֨ר לֹֽא־יַשְׁאִ֜יר לְךָ֗ דָּגָן֙ תִּירֹ֣ושׁ וְיִצְהָ֔ר שְׁגַ֥ר אֲלָפֶ֖יךָ וְעַשְׁתְּרֹ֣ת צֹאנֶ֑ךָ \n",
      "דָּגָן֙ תִּירֹ֣ושׁ וְיִצְהָ֔ר שְׁגַ֥ר אֲלָפֶ֖יךָ וְעַשְׁתְּרֹ֣ת צֹאנֶ֑ךָ \n",
      "(109049, 109050, 109052, 109053, 109056)\n",
      "דָּגָן֙ תִּירֹ֣ושׁ יִצְהָ֔ר שְׁגַ֥ר עַשְׁתְּרֹ֣ת \n",
      "\n",
      "('Genesis', 46, 7)\n",
      "בָּנָ֞יו וּבְנֵ֤י בָנָיו֙ אִתֹּ֔ו בְּנֹתָ֛יו וּבְנֹ֥ות בָּנָ֖יו וְכָל־זַרְעֹ֑ו הֵבִ֥יא אִתֹּ֖ו מִצְרָֽיְמָה׃ ס \n",
      "בָּנָ֞יו וּבְנֵ֤י בָנָיו֙ אִתֹּ֔ו בְּנֹתָ֛יו וּבְנֹ֥ות בָּנָ֖יו וְכָל־זַרְעֹ֑ו \n",
      "(26108, 26110, 26113, 26115, 26119)\n",
      "בָּנָ֞יו בְנֵ֤י בְּנֹתָ֛יו בְנֹ֥ות זַרְעֹ֑ו \n",
      "\n",
      "('2_Chronicles', 30, 2)\n",
      "וַיִּוָּעַ֨ץ הַמֶּ֧לֶךְ וְשָׂרָ֛יו וְכָל־הַקָּהָ֖ל בִּירוּשָׁלִָ֑ם \n",
      "הַמֶּ֧לֶךְ וְשָׂרָ֛יו וְכָל־הַקָּהָ֖ל בִּירוּשָׁלִָ֑ם \n",
      "(421856, 421858, 421862)\n",
      "מֶּ֧לֶךְ שָׂרָ֛יו קָּהָ֖ל \n",
      "\n",
      "('Exodus', 35, 12)\n",
      "אֶת־הָאָרֹ֥ן וְאֶת־בַּדָּ֖יו אֶת־הַכַּפֹּ֑רֶת וְאֵ֖ת פָּרֹ֥כֶת הַמָּסָֽךְ׃ \n",
      "אֶת־הָאָרֹ֥ן וְאֶת־בַּדָּ֖יו אֶת־הַכַּפֹּ֑רֶת וְאֵ֖ת פָּרֹ֥כֶת הַמָּסָֽךְ׃ \n",
      "(48675, 48678, 48681, 48684)\n",
      "אָרֹ֥ן בַּדָּ֖יו כַּפֹּ֑רֶת פָּרֹ֥כֶת \n",
      "\n",
      "('Leviticus', 21, 20)\n",
      "אֹֽו־גִבֵּ֣ן אֹו־דַ֔ק אֹ֖ו תְּבַלֻּ֣ל בְּעֵינֹ֑ו אֹ֤ו גָרָב֙ אֹ֣ו יַלֶּ֔פֶת אֹ֖ו מְרֹ֥וחַ אָֽשֶׁךְ׃ \n",
      "גִבֵּ֣ן אֹו־דַ֔ק אֹ֖ו תְּבַלֻּ֣ל בְּעֵינֹ֑ו אֹ֤ו גָרָב֙ אֹ֣ו יַלֶּ֔פֶת אֹ֖ו מְרֹ֥וחַ אָֽשֶׁךְ׃ \n",
      "(65268, 65270, 65272, 65276, 65278)\n",
      "גִבֵּ֣ן דַ֔ק תְּבַלֻּ֣ל גָרָב֙ יַלֶּ֔פֶת \n",
      "\n",
      "('Ezekiel', 41, 16)\n",
      "הַסִּפִּ֡ים וְהַחַלֹּונִ֣ים הָ֠אֲטֻמֹות וְהָאַתִּיקִ֤ים׀ סָבִיב֙ לִשְׁלָשְׁתָּ֔ם \n",
      "הַסִּפִּ֡ים וְהַחַלֹּונִ֣ים הָ֠אֲטֻמֹות וְהָאַתִּיקִ֤ים׀ \n",
      "(286448, 286451, 286456)\n",
      "סִּפִּ֡ים חַלֹּונִ֣ים אַתִּיקִ֤ים׀ \n",
      "\n",
      "('2_Chronicles', 34, 20)\n",
      "וַיְצַ֣ו הַמֶּ֡לֶךְ אֶת־חִלְקִיָּ֡הוּ וְאֶת־אֲחִיקָ֣ם בֶּן־שָׁ֠פָן וְאֶת־עַבְדֹּ֨ון בֶּן־מִיכָ֜ה וְאֵ֣ת׀ שָׁפָ֣ן הַסֹּופֵ֗ר וְאֵ֛ת עֲשָׂיָ֥ה עֶֽבֶד־הַמֶּ֖לֶךְ \n",
      "אֶת־חִלְקִיָּ֡הוּ וְאֶת־אֲחִיקָ֣ם בֶּן־שָׁ֠פָן וְאֶת־עַבְדֹּ֨ון בֶּן־מִיכָ֜ה וְאֵ֣ת׀ שָׁפָ֣ן הַסֹּופֵ֗ר וְאֵ֛ת עֲשָׂיָ֥ה עֶֽבֶד־הַמֶּ֖לֶךְ \n",
      "(424946, 424949, 424954, 424959, 424964)\n",
      "חִלְקִיָּ֡הוּ אֲחִיקָ֣ם עַבְדֹּ֨ון שָׁפָ֣ן עֲשָׂיָ֥ה \n",
      "\n",
      "('Daniel', 7, 27)\n",
      "וּמַלְכוּתָ֨ה וְשָׁלְטָנָ֜א וּרְבוּתָ֗א דִּ֚י מַלְכְוָת֙ תְּחֹ֣ות כָּל־שְׁמַיָּ֔א יְהִיבַ֕ת לְעַ֖ם קַדִּישֵׁ֣י עֶלְיֹונִ֑ין \n",
      "מַלְכוּתָ֨ה וְשָׁלְטָנָ֜א וּרְבוּתָ֗א דִּ֚י מַלְכְוָת֙ תְּחֹ֣ות כָּל־שְׁמַיָּ֔א \n",
      "(375122, 375124, 375126)\n",
      "מַלְכוּתָ֨ה שָׁלְטָנָ֜א רְבוּתָ֗א \n",
      "\n",
      "('1_Kings', 7, 14)\n",
      "וַ֠יִּמָּלֵא אֶת־הַחָכְמָ֤ה וְאֶת־הַתְּבוּנָה֙ וְאֶת־הַדַּ֔עַת \n",
      "אֶת־הַחָכְמָ֤ה וְאֶת־הַתְּבוּנָה֙ וְאֶת־הַדַּ֔עַת \n",
      "(181117, 181121, 181125)\n",
      "חָכְמָ֤ה תְּבוּנָה֙ דַּ֔עַת \n",
      "\n",
      "('1_Chronicles', 23, 2)\n",
      "וַיֶּאֱסֹף֙ אֶת־כָּל־שָׂרֵ֣י יִשְׂרָאֵ֔ל וְהַכֹּהֲנִ֖ים וְהַלְוִיִּֽם׃ \n",
      "אֶת־כָּל־שָׂרֵ֣י יִשְׂרָאֵ֔ל וְהַכֹּהֲנִ֖ים וְהַלְוִיִּֽם׃ \n",
      "(402968, 402972, 402975)\n",
      "שָׂרֵ֣י כֹּהֲנִ֖ים לְוִיִּֽם׃ \n",
      "\n",
      "('Ezekiel', 31, 16)\n",
      "וַיִּנָּ֨חֲמ֜וּ בְּאֶ֤רֶץ תַּחְתִּית֙ כָּל־עֲצֵי־עֵ֔דֶן מִבְחַ֥ר וְטֹוב־לְבָנֹ֖ון כָּל־שֹׁ֥תֵי מָֽיִם׃ \n",
      "כָּל־עֲצֵי־עֵ֔דֶן מִבְחַ֥ר וְטֹוב־לְבָנֹ֖ון כָּל־שֹׁ֥תֵי מָֽיִם׃ \n",
      "(280117, 280119, 280121)\n",
      "עֲצֵי־מִבְחַ֥ר טֹוב־\n",
      "\n",
      "('Genesis', 22, 24)\n",
      "וַתֵּ֤לֶד גַּם־הִוא֙ אֶת־טֶ֣בַח וְאֶת־גַּ֔חַם וְאֶת־תַּ֖חַשׁ וְאֶֽת־מַעֲכָֽה׃ ס \n",
      "אֶת־טֶ֣בַח וְאֶת־גַּ֔חַם וְאֶת־תַּ֖חַשׁ וְאֶֽת־מַעֲכָֽה׃ ס \n",
      "(10725, 10728, 10731, 10734)\n",
      "טֶ֣בַח גַּ֔חַם תַּ֖חַשׁ מַעֲכָֽה׃ ס \n",
      "\n",
      "('2_Chronicles', 1, 12)\n",
      "וְעֹ֨שֶׁר וּנְכָסִ֤ים וְכָבֹוד֙ אֶתֶּן־לָ֔ךְ \n",
      "עֹ֨שֶׁר וּנְכָסִ֤ים וְכָבֹוד֙ \n",
      "(407076, 407078, 407080)\n",
      "עֹ֨שֶׁר נְכָסִ֤ים כָבֹוד֙ \n",
      "\n",
      "('Exodus', 26, 31)\n",
      "וְעָשִׂ֣יתָ פָרֹ֗כֶת תְּכֵ֧לֶת וְאַרְגָּמָ֛ן וְתֹולַ֥עַת שָׁנִ֖י וְשֵׁ֣שׁ מָשְׁזָ֑ר \n",
      "תְּכֵ֧לֶת וְאַרְגָּמָ֛ן וְתֹולַ֥עַת שָׁנִ֖י וְשֵׁ֣שׁ מָשְׁזָ֑ר \n",
      "(43203, 43205, 43207, 43210)\n",
      "תְּכֵ֧לֶת אַרְגָּמָ֛ן תֹולַ֥עַת שֵׁ֣שׁ \n",
      "\n",
      "('2_Kings', 16, 15)\n",
      "עַ֣ל הַמִּזְבֵּ֣חַ הַגָּדֹ֡ול הַקְטֵ֣ר אֶת־עֹֽלַת־הַבֹּקֶר֩ וְאֶת־מִנְחַ֨ת הָעֶ֜רֶב וְֽאֶת־עֹלַ֧ת הַמֶּ֣לֶךְ וְאֶת־מִנְחָתֹ֗ו וְ֠אֵת עֹלַ֞ת כָּל־עַ֤ם הָאָ֨רֶץ֙ וּמִנְחָתָ֣ם וְנִסְכֵּיהֶ֔ם \n",
      "אֶת־עֹֽלַת־הַבֹּקֶר֩ וְאֶת־מִנְחַ֨ת הָעֶ֜רֶב וְֽאֶת־עֹלַ֧ת הַמֶּ֣לֶךְ וְאֶת־מִנְחָתֹ֗ו וְ֠אֵת עֹלַ֞ת כָּל־עַ֤ם הָאָ֨רֶץ֙ וּמִנְחָתָ֣ם וְנִסְכֵּיהֶ֔ם \n",
      "(205419, 205424, 205429, 205434, 205437, 205443, 205445)\n",
      "עֹֽלַת־מִנְחַ֨ת עֹלַ֧ת מִנְחָתֹ֗ו עֹלַ֞ת מִנְחָתָ֣ם נִסְכֵּיהֶ֔ם \n",
      "\n",
      "('2_Chronicles', 20, 13)\n",
      "גַּם־טַפָּ֖ם נְשֵׁיהֶ֥ם וּבְנֵיהֶֽם׃ פ \n",
      "גַּם־טַפָּ֖ם נְשֵׁיהֶ֥ם וּבְנֵיהֶֽם׃ פ \n",
      "(416256, 416257, 416259)\n",
      "טַפָּ֖ם נְשֵׁיהֶ֥ם בְנֵיהֶֽם׃ פ \n",
      "\n",
      "('1_Chronicles', 6, 43)\n",
      "וְאֶת־חִילֵז֙ וְאֶת־מִגְרָשֶׁ֔יהָ אֶת־דְּבִ֖יר וְאֶת־מִגְרָשֶֽׁיהָ׃ \n",
      "אֶת־חִילֵז֙ וְאֶת־מִגְרָשֶׁ֔יהָ אֶת־דְּבִ֖יר וְאֶת־מִגְרָשֶֽׁיהָ׃ \n",
      "(394526, 394529, 394531, 394534)\n",
      "חִילֵז֙ מִגְרָשֶׁ֔יהָ דְּבִ֖יר מִגְרָשֶֽׁיהָ׃ \n",
      "\n",
      "('Genesis', 10, 29)\n",
      "וְאֶת־אֹופִ֥ר וְאֶת־חֲוִילָ֖ה וְאֶת־יֹובָ֑ב \n",
      "אֶת־אֹופִ֥ר וְאֶת־חֲוִילָ֖ה וְאֶת־יֹובָ֑ב \n",
      "(4914, 4917, 4920)\n",
      "אֹופִ֥ר חֲוִילָ֖ה יֹובָ֑ב \n",
      "\n",
      "('2_Chronicles', 4, 21)\n",
      "וְהַפֶּ֧רַח וְהַנֵּרֹ֛ות וְהַמֶּלְקַחַ֖יִם זָהָ֑ב \n",
      "הַפֶּ֧רַח וְהַנֵּרֹ֛ות וְהַמֶּלְקַחַ֖יִם \n",
      "(408543, 408546, 408549)\n",
      "פֶּ֧רַח נֵּרֹ֛ות מֶּלְקַחַ֖יִם \n",
      "\n",
      "('2_Chronicles', 9, 1)\n",
      "נֹשְׂאִ֨ים בְּשָׂמִ֧ים וְזָהָ֛ב לָרֹ֖ב וְאֶ֣בֶן יְקָרָ֑ה \n",
      "בְּשָׂמִ֧ים וְזָהָ֛ב לָרֹ֖ב וְאֶ֣בֶן יְקָרָ֑ה \n",
      "(411059, 411061, 411065)\n",
      "בְּשָׂמִ֧ים זָהָ֛ב אֶ֣בֶן \n",
      "\n",
      "('Jeremiah', 25, 20)\n",
      "וְאֵת֙ כָּל־הָעֶ֔רֶב וְאֵ֕ת כָּל־מַלְכֵ֖י אֶ֣רֶץ הָע֑וּץ וְאֵ֗ת כָּל־מַלְכֵי֙ אֶ֣רֶץ פְּלִשְׁתִּ֔ים וְאֶת־אַשְׁקְלֹ֤ון וְאֶת־עַזָּה֙ וְאֶת־עֶקְרֹ֔ון וְאֵ֖ת שְׁאֵרִ֥ית אַשְׁדֹּֽוד׃ \n",
      "אֵת֙ כָּל־הָעֶ֔רֶב וְאֵ֕ת כָּל־מַלְכֵ֖י אֶ֣רֶץ הָע֑וּץ וְאֵ֗ת כָּל־מַלְכֵי֙ אֶ֣רֶץ פְּלִשְׁתִּ֔ים וְאֶת־אַשְׁקְלֹ֤ון וְאֶת־עַזָּה֙ וְאֶת־עֶקְרֹ֔ון וְאֵ֖ת שְׁאֵרִ֥ית אַשְׁדֹּֽוד׃ \n",
      "(247447, 247451, 247458, 247463, 247466, 247469, 247472)\n",
      "עֶ֔רֶב מַלְכֵ֖י מַלְכֵי֙ אַשְׁקְלֹ֤ון עַזָּה֙ עֶקְרֹ֔ון שְׁאֵרִ֥ית \n",
      "\n",
      "('Exodus', 25, 31)\n",
      "גְּבִיעֶ֛יהָ כַּפְתֹּרֶ֥יהָ וּפְרָחֶ֖יהָ מִמֶּ֥נָּה יִהְיֽוּ׃ \n",
      "גְּבִיעֶ֛יהָ כַּפְתֹּרֶ֥יהָ וּפְרָחֶ֖יהָ \n",
      "(42453, 42454, 42456)\n",
      "גְּבִיעֶ֛יהָ כַּפְתֹּרֶ֥יהָ פְרָחֶ֖יהָ \n",
      "\n",
      "('Proverbs', 7, 17)\n",
      "נַ֥פְתִּי מִשְׁכָּבִ֑י מֹ֥ר אֲ֝הָלִ֗ים וְקִנָּמֹֽון׃ \n",
      "מֹ֥ר אֲ֝הָלִ֗ים וְקִנָּמֹֽון׃ \n",
      "(348737, 348738, 348740)\n",
      "מֹ֥ר אֲ֝הָלִ֗ים קִנָּמֹֽון׃ \n",
      "\n",
      "('Nehemiah', 7, 59)\n",
      "בְּנֵ֧י שְׁפַטְיָ֣ה בְנֵֽי־חַטִּ֗יל בְּנֵ֛י פֹּכֶ֥רֶת הַצְּבָיִ֖ים בְּנֵ֥י אָמֹֽון׃ \n",
      "בְּנֵ֧י שְׁפַטְיָ֣ה בְנֵֽי־חַטִּ֗יל בְּנֵ֛י פֹּכֶ֥רֶת הַצְּבָיִ֖ים בְּנֵ֥י אָמֹֽון׃ \n",
      "(386894, 386896, 386898, 386900)\n",
      "בְּנֵ֧י בְנֵֽי־בְּנֵ֛י בְּנֵ֥י \n",
      "\n",
      "('Nehemiah', 5, 3)\n",
      "שְׂדֹתֵ֛ינוּ וּכְרָמֵ֥ינוּ וּבָתֵּ֖ינוּ אֲנַ֣חְנוּ עֹרְבִ֑ים \n",
      "שְׂדֹתֵ֛ינוּ וּכְרָמֵ֥ינוּ וּבָתֵּ֖ינוּ \n",
      "(385445, 385447, 385449)\n",
      "שְׂדֹתֵ֛ינוּ כְרָמֵ֥ינוּ בָתֵּ֖ינוּ \n",
      "\n",
      "('Exodus', 10, 6)\n",
      "וּמָלְא֨וּ בָתֶּ֜יךָ וּבָתֵּ֣י כָל־עֲבָדֶיךָ֮ וּבָתֵּ֣י כָל־מִצְרַיִם֒ \n",
      "בָתֶּ֜יךָ וּבָתֵּ֣י כָל־עֲבָדֶיךָ֮ וּבָתֵּ֣י כָל־מִצְרַיִם֒ \n",
      "(33913, 33915, 33919)\n",
      "בָתֶּ֜יךָ בָתֵּ֣י בָתֵּ֣י \n",
      "\n",
      "('1_Chronicles', 7, 24)\n",
      "וַתִּ֧בֶן אֶת־בֵּית־חֹורֹ֛ון הַתַּחְתֹּ֖ון וְאֶת־הָעֶלְיֹ֑ון וְאֵ֖ת אֻזֵּ֥ן שֶׁאֱרָֽה׃ \n",
      "אֶת־בֵּית־חֹורֹ֛ון הַתַּחְתֹּ֖ון וְאֶת־הָעֶלְיֹ֑ון וְאֵ֖ת אֻזֵּ֥ן שֶׁאֱרָֽה׃ \n",
      "(395349, 395355, 395358)\n",
      "בֵּית־חֹורֹ֛ון עֶלְיֹ֑ון אֻזֵּ֥ן שֶׁאֱרָֽה׃ \n",
      "\n",
      "('Esther', 9, 5)\n",
      "וַיַּכּ֤וּ הַיְּהוּדִים֙ בְּכָל־אֹ֣יְבֵיהֶ֔ם מַכַּת־חֶ֥רֶב וְהֶ֖רֶג וְאַבְדָ֑ן \n",
      "מַכַּת־חֶ֥רֶב וְהֶ֖רֶג וְאַבְדָ֑ן \n",
      "(369307, 369310, 369312)\n",
      "מַכַּת־הֶ֖רֶג אַבְדָ֑ן \n",
      "\n",
      "('1_Chronicles', 27, 1)\n",
      "וּבְנֵ֣י יִשְׂרָאֵ֣ל׀ לְֽמִסְפָּרָ֡ם רָאשֵׁ֣י הָאָבֹ֣ות וְשָׂרֵ֣י הָֽאֲלָפִ֣ים׀ וְהַמֵּאֹ֡ות וְשֹׁטְרֵיהֶם֩ \n",
      "בְנֵ֣י יִשְׂרָאֵ֣ל׀ לְֽמִסְפָּרָ֡ם רָאשֵׁ֣י הָאָבֹ֣ות וְשָׂרֵ֣י הָֽאֲלָפִ֣ים׀ וְהַמֵּאֹ֡ות וְשֹׁטְרֵיהֶם֩ \n",
      "(404850, 404854, 404858)\n",
      "בְנֵ֣י רָאשֵׁ֣י שָׂרֵ֣י \n",
      "\n"
     ]
    }
   ],
   "source": [
    "ct = 0 \n",
    "sample = []\n",
    "\n",
    "# build a sample of interesting cases\n",
    "for phrase in F.otype.s('phrase'):\n",
    "    if E.heads.f(phrase) and len(L.d(phrase, 'word')) > len(E.heads.f(phrase)):\n",
    "        \n",
    "        if len(E.heads.f(phrase)) > 2:\n",
    "            sample.append(phrase)\n",
    "\n",
    "print(len(sample), 'samples found\\n')    \n",
    "    \n",
    "random.shuffle(sample)\n",
    "        \n",
    "for phrase in sample:\n",
    "            \n",
    "    clause = L.u(phrase, 'clause')[0]\n",
    "\n",
    "    print(T.sectionFromNode(phrase))\n",
    "    print(T.text(L.d(clause, 'word')))\n",
    "    print(T.text(L.d(phrase, 'word')))\n",
    "    print(E.heads.f(phrase))\n",
    "    print(T.text(E.heads.f(phrase)))\n",
    "    print()\n",
    "    \n",
    "    if ct > 100:\n",
    "        break\n",
    "        \n",
    "    ct += 1"
   ]
  },
  {
   "cell_type": "code",
   "execution_count": null,
   "metadata": {},
   "outputs": [],
   "source": []
  }
 ],
 "metadata": {
  "kernelspec": {
   "display_name": "Python 3",
   "language": "python",
   "name": "python3"
  },
  "language_info": {
   "codemirror_mode": {
    "name": "ipython",
    "version": 3
   },
   "file_extension": ".py",
   "mimetype": "text/x-python",
   "name": "python",
   "nbconvert_exporter": "python",
   "pygments_lexer": "ipython3",
   "version": "3.6.3"
  }
 },
 "nbformat": 4,
 "nbformat_minor": 2
}
