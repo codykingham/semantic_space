{
 "cells": [
  {
   "cell_type": "markdown",
   "metadata": {},
   "source": [
    "# Context Selection Discovery\n",
    "\n",
    "In this notebook, I will explore the relevancy of various contexts for semantic information. I begin with a few assumptions:\n",
    "\n",
    "1. Semantic meaning is inextricably linked with syntactic structure and vice versa. Here I depend on construction grammar theory similar to Goldberg [(1995)](https://books.google.nl/books/about/Constructions.html?id=HzmGM0qCKtIC&redir_esc=y), but also informed by Talstra's theory on syntax and semantics [(1982)](/bibliography.txt)."
   ]
  },
  {
   "cell_type": "code",
   "execution_count": null,
   "metadata": {
    "collapsed": true
   },
   "outputs": [],
   "source": []
  }
 ],
 "metadata": {
  "kernelspec": {
   "display_name": "Python 3",
   "language": "python",
   "name": "python3"
  },
  "language_info": {
   "codemirror_mode": {
    "name": "ipython",
    "version": 3
   },
   "file_extension": ".py",
   "mimetype": "text/x-python",
   "name": "python",
   "nbconvert_exporter": "python",
   "pygments_lexer": "ipython3",
   "version": "3.6.3"
  }
 },
 "nbformat": 4,
 "nbformat_minor": 2
}
