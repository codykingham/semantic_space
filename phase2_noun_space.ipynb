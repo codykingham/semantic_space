{
 "cells": [
  {
   "cell_type": "markdown",
   "metadata": {},
   "source": [
    "# Phase 2 Noun Space\n",
    "\n",
    "The motivation for this notebook can be found in the updates of the [readme](readme.md):\n",
    "\n",
    "> Based on the output of the verb experiments in this phase, I see that it is not possible to simply build a space for only verbs or only nouns. Rather, these two spaces really need each other if there is any hope to obtain more defined word clusters. A fine example of the problem can be seen in the [phase2_clustering](http://nbviewer.jupyter.org/github/codykingham/semantics/blob/master/phase2_clustering.ipynb) notebook, where the noun יהוה and אלהים occur disproportionately as the subject with verbs like אנף \"be angry,\" מטר \"cause rain,\" and others. In reality, יהוה and אלהים both possess attributes which are common to other nouns, such as the collocability with action verbs. But because the space does not see these similarities, the lexemes are treated as completely separate entities. This is where the noun space can enter in and offer observations about the similarity of nouns with each other. By adding similar words to the space, based on a pre-calculated noun space, it is hoped that the knowledge gap can be bridged and lexemes with similar attributes considered together. This will allow, for instance, the noun אלהים, which also takes verbs like אמר, to be identified with other nouns that take the verb אמר.\n",
    "\n",
    "The purpose of this notebook is to develop the noun space that will be used to enhance the verb space. A previous set of noun spaces were created in [phase 1](phase1/readme.md) of this project. In this notebook, we use the updated Experiment and Semantic classes which have much more flexibility to define target word and basis elements. One major difference between the old data gathering technique and this one is that coordinate nouns are counted using the coordinate relation (BHSA: `rel` = `par` or \"parallel\") instead of counting all nouns that are coordinated in a chain. This Experiment class can also easily record words contained within related subphrases, such as construct or appositional relations.\n",
    "\n",
    "The enhanced classes allow much more informative data to be imported into the space (which will also require longer processing times). In the interest of building as useful a space as possible, proper nouns *will* be included in these spaces. This will allow proper nouns like יהוה to be compared with other nouns like אלהים. I will experiment with various parameters before deciding an a final experiment class to use for the verb space enhancement."
   ]
  },
  {
   "cell_type": "markdown",
   "metadata": {},
   "source": [
    "### Load Data"
   ]
  },
  {
   "cell_type": "code",
   "execution_count": 1,
   "metadata": {},
   "outputs": [
    {
     "name": "stdout",
     "output_type": "stream",
     "text": [
      "This is Text-Fabric 3.4.12\n",
      "Api reference : https://github.com/Dans-labs/text-fabric/wiki/Api\n",
      "Tutorial      : https://github.com/Dans-labs/text-fabric/blob/master/docs/tutorial.ipynb\n",
      "Example data  : https://github.com/Dans-labs/text-fabric-data\n",
      "\n",
      "116 features found and 0 ignored\n"
     ]
    },
    {
     "data": {
      "text/markdown": [
       "**Documentation:** <a target=\"_blank\" href=\"https://etcbc.github.io/bhsa\" title=\"{provenance of this corpus}\">BHSA</a> <a target=\"_blank\" href=\"https://etcbc.github.io/bhsa/features/hebrew/c/0_home.html\" title=\"{CORPUS} feature documentation\">Feature docs</a> <a target=\"_blank\" href=\"https://github.com/Dans-labs/text-fabric/wiki/Bhsa\" title=\"BHSA API documentation\">BHSA API</a> <a target=\"_blank\" href=\"https://github.com/Dans-labs/text-fabric/wiki/api\" title=\"text-fabric-api\">Text-Fabric API 3.4.12</a> <a target=\"_blank\" href=\"https://github.com/Dans-labs/text-fabric/wiki/api#search-template-introduction\" title=\"Search Templates Introduction and Reference\">Search Reference</a>"
      ],
      "text/plain": [
       "<IPython.core.display.Markdown object>"
      ]
     },
     "metadata": {},
     "output_type": "display_data"
    },
    {
     "data": {
      "text/html": [
       "\n",
       "<style>\n",
       ".verse {\n",
       "    display: flex;\n",
       "    flex-flow: row wrap;\n",
       "    direction: rtl;\n",
       "}\n",
       ".vl {\n",
       "    display: flex;\n",
       "    flex-flow: column nowrap;\n",
       "    direction: ltr;\n",
       "}\n",
       ".sentence,.clause,.phrase {\n",
       "    margin-top: -1.2em;\n",
       "    margin-left: 1em;\n",
       "    background: #ffffff none repeat scroll 0 0;\n",
       "    padding: 0 0.3em;\n",
       "    border-style: solid;\n",
       "    border-radius: 0.2em;\n",
       "    font-size: small;\n",
       "    display: block;\n",
       "    width: fit-content;\n",
       "    max-width: fit-content;\n",
       "    direction: ltr;\n",
       "}\n",
       ".atoms {\n",
       "    display: flex;\n",
       "    flex-flow: row wrap;\n",
       "    margin: 0.3em;\n",
       "    padding: 0.3em;\n",
       "    direction: rtl;\n",
       "    background-color: #ffffff;\n",
       "}\n",
       ".satom,.catom,.patom {\n",
       "    margin: 0.3em;\n",
       "    padding: 0.3em;\n",
       "    border-radius: 0.3em;\n",
       "    border-style: solid;\n",
       "    display: flex;\n",
       "    flex-flow: column nowrap;\n",
       "    direction: rtl;\n",
       "    background-color: #ffffff;\n",
       "}\n",
       ".sentence {\n",
       "    border-color: #aa3333;\n",
       "    border-width: 1px;\n",
       "}\n",
       ".clause {\n",
       "    border-color: #aaaa33;\n",
       "    border-width: 1px;\n",
       "}\n",
       ".phrase {\n",
       "    border-color: #33aaaa;\n",
       "    border-width: 1px;\n",
       "}\n",
       ".satom {\n",
       "    border-color: #aa3333;\n",
       "    border-width: 4px;\n",
       "}\n",
       ".catom {\n",
       "    border-color: #aaaa33;\n",
       "    border-width: 3px;\n",
       "}\n",
       ".patom {\n",
       "    border-color: #33aaaa;\n",
       "    border-width: 3px;\n",
       "}\n",
       ".word {\n",
       "    padding: 0.1em;\n",
       "    margin: 0.1em;\n",
       "    border-radius: 0.1em;\n",
       "    border: 1px solid #cccccc;\n",
       "    display: flex;\n",
       "    flex-flow: column nowrap;\n",
       "    direction: rtl;\n",
       "    background-color: #ffffff;\n",
       "}\n",
       ".lex {\n",
       "    padding: 0.1em;\n",
       "    margin: 0.1em;\n",
       "    border-radius: 0.1em;\n",
       "    border: 2px solid #888888;\n",
       "    width: fit-content;\n",
       "    display: flex;\n",
       "    flex-flow: column nowrap;\n",
       "    direction: rtl;\n",
       "    background-color: #ffffff;\n",
       "}\n",
       ".satom.l,.catom.l,.patom.l {\n",
       "    border-left-style: dotted\n",
       "}\n",
       ".satom.r,.catom.r,.patom.r {\n",
       "    border-right-style: dotted\n",
       "}\n",
       ".satom.L,.catom.L,.patom.L {\n",
       "    border-left-style: none\n",
       "}\n",
       ".satom.R,.catom.R,.patom.R {\n",
       "    border-right-style: none\n",
       "}\n",
       ".h,.h :visited,.h :link {\n",
       "    font-family: \"Ezra SIL\", \"SBL Hebrew\", sans-serif;\n",
       "    font-size: large;\n",
       "    color: #000044;\n",
       "    direction: rtl;\n",
       "    text-decoration: none;\n",
       "}\n",
       ".rela,.function,.typ {\n",
       "    font-family: monospace;\n",
       "    font-size: small;\n",
       "    color: #0000bb;\n",
       "}\n",
       ".sp,.sp :visited,.sp :link {\n",
       "    font-family: monospace;\n",
       "    font-size: medium;\n",
       "    color: #0000bb;\n",
       "    text-decoration: none;\n",
       "}\n",
       ".vl {\n",
       "    font-family: monospace;\n",
       "    font-size: medium;\n",
       "    color: #0000bb;\n",
       "}\n",
       ".vvs {\n",
       "    font-family: monospace;\n",
       "    font-size: medium;\n",
       "    font-weight: bold;\n",
       "    color: #0000bb;\n",
       "}\n",
       ".vvt {\n",
       "    font-family: monospace;\n",
       "    font-size: medium;\n",
       "    color: #0000bb;\n",
       "}\n",
       ".gl {\n",
       "    font-family: sans-serif;\n",
       "    font-size: small;\n",
       "    color: #aaaaaa;\n",
       "}\n",
       ".vs {\n",
       "    font-family: sans-serif;\n",
       "    font-size: small;\n",
       "    font-weight: bold;\n",
       "    color: #444444;\n",
       "}\n",
       ".nd {\n",
       "    font-family: monospace;\n",
       "    font-size: x-small;\n",
       "    color: #999999;\n",
       "}\n",
       ".hl {\n",
       "    background-color: #ffee66;\n",
       "}\n",
       "</style>\n"
      ],
      "text/plain": [
       "<IPython.core.display.HTML object>"
      ]
     },
     "metadata": {},
     "output_type": "display_data"
    }
   ],
   "source": [
    "import numpy as np\n",
    "import pandas as pd\n",
    "import collections, os, sys, pickle\n",
    "import matplotlib.pyplot as plt\n",
    "from tf.fabric import Fabric\n",
    "from tf.extra.bhsa import Bhsa\n",
    "from project_code.noun_experiments import NounExperiment1\n",
    "from project_code.semspace import SemSpace\n",
    "\n",
    "bhsa_data_paths=['~/github/etcbc/bhsa/tf/c',\n",
    "                 '~/github/semantics/project_code/lingo/heads/tf/c']\n",
    "TF = Fabric(bhsa_data_paths)\n",
    "tf_api = TF.load('''\n",
    "                function lex vs language\n",
    "                pdp freq_lex gloss domain ls\n",
    "                heads prep_obj mother rela\n",
    "                typ sp st\n",
    "              ''', silent=True)\n",
    "\n",
    "tf_api.makeAvailableIn(globals())\n",
    "B = Bhsa(api=tf_api, name='phase2_noun_space', version='c')"
   ]
  },
  {
   "cell_type": "markdown",
   "metadata": {},
   "source": [
    "## Initial Experiments"
   ]
  },
  {
   "cell_type": "code",
   "execution_count": 2,
   "metadata": {},
   "outputs": [],
   "source": [
    "ne1 = NounExperiment1(tf_api=tf_api)"
   ]
  },
  {
   "cell_type": "code",
   "execution_count": 3,
   "metadata": {},
   "outputs": [
    {
     "data": {
      "text/plain": [
       "(6357, 2744)"
      ]
     },
     "execution_count": 3,
     "metadata": {},
     "output_type": "execute_result"
    }
   ],
   "source": [
    "ne1.data.shape"
   ]
  },
  {
   "cell_type": "code",
   "execution_count": 4,
   "metadata": {},
   "outputs": [
    {
     "data": {
      "text/html": [
       "<div>\n",
       "<style scoped>\n",
       "    .dataframe tbody tr th:only-of-type {\n",
       "        vertical-align: middle;\n",
       "    }\n",
       "\n",
       "    .dataframe tbody tr th {\n",
       "        vertical-align: top;\n",
       "    }\n",
       "\n",
       "    .dataframe thead th {\n",
       "        text-align: right;\n",
       "    }\n",
       "</style>\n",
       "<table border=\"1\" class=\"dataframe\">\n",
       "  <thead>\n",
       "    <tr style=\"text-align: right;\">\n",
       "      <th></th>\n",
       "      <th>&lt;B/</th>\n",
       "      <th>&lt;B=/</th>\n",
       "      <th>&lt;BD/</th>\n",
       "      <th>&lt;BD&gt;/</th>\n",
       "      <th>&lt;BDH/</th>\n",
       "      <th>&lt;BDJHW/</th>\n",
       "      <th>&lt;BDT/</th>\n",
       "      <th>&lt;BDWN/</th>\n",
       "      <th>&lt;BD[</th>\n",
       "      <th>&lt;BD_&gt;DWM/</th>\n",
       "      <th>...</th>\n",
       "      <th>ZQN==/</th>\n",
       "      <th>ZQNH/</th>\n",
       "      <th>ZQNJM/</th>\n",
       "      <th>ZR/</th>\n",
       "      <th>ZR&lt;/</th>\n",
       "      <th>ZR=/</th>\n",
       "      <th>ZRBBL/</th>\n",
       "      <th>ZRC/</th>\n",
       "      <th>ZRW&lt;/</th>\n",
       "      <th>ZRX=/</th>\n",
       "    </tr>\n",
       "  </thead>\n",
       "  <tbody>\n",
       "    <tr>\n",
       "      <th>.Appo.&lt;BD/</th>\n",
       "      <td>0.0</td>\n",
       "      <td>0.0</td>\n",
       "      <td>0.0</td>\n",
       "      <td>0.0</td>\n",
       "      <td>0.0</td>\n",
       "      <td>0.0</td>\n",
       "      <td>0.0</td>\n",
       "      <td>0.0</td>\n",
       "      <td>0.0</td>\n",
       "      <td>0.0</td>\n",
       "      <td>...</td>\n",
       "      <td>0.0</td>\n",
       "      <td>0.0</td>\n",
       "      <td>0.0</td>\n",
       "      <td>0.0</td>\n",
       "      <td>0.0</td>\n",
       "      <td>0.0</td>\n",
       "      <td>0.0</td>\n",
       "      <td>0.0</td>\n",
       "      <td>0.0</td>\n",
       "      <td>0.0</td>\n",
       "    </tr>\n",
       "    <tr>\n",
       "      <th>.Appo.&lt;BRJ/</th>\n",
       "      <td>0.0</td>\n",
       "      <td>0.0</td>\n",
       "      <td>0.0</td>\n",
       "      <td>0.0</td>\n",
       "      <td>0.0</td>\n",
       "      <td>0.0</td>\n",
       "      <td>0.0</td>\n",
       "      <td>0.0</td>\n",
       "      <td>0.0</td>\n",
       "      <td>0.0</td>\n",
       "      <td>...</td>\n",
       "      <td>0.0</td>\n",
       "      <td>0.0</td>\n",
       "      <td>0.0</td>\n",
       "      <td>0.0</td>\n",
       "      <td>0.0</td>\n",
       "      <td>0.0</td>\n",
       "      <td>0.0</td>\n",
       "      <td>0.0</td>\n",
       "      <td>0.0</td>\n",
       "      <td>0.0</td>\n",
       "    </tr>\n",
       "    <tr>\n",
       "      <th>.Appo.&lt;DH/</th>\n",
       "      <td>0.0</td>\n",
       "      <td>0.0</td>\n",
       "      <td>0.0</td>\n",
       "      <td>0.0</td>\n",
       "      <td>0.0</td>\n",
       "      <td>0.0</td>\n",
       "      <td>0.0</td>\n",
       "      <td>0.0</td>\n",
       "      <td>0.0</td>\n",
       "      <td>0.0</td>\n",
       "      <td>...</td>\n",
       "      <td>0.0</td>\n",
       "      <td>0.0</td>\n",
       "      <td>0.0</td>\n",
       "      <td>0.0</td>\n",
       "      <td>0.0</td>\n",
       "      <td>0.0</td>\n",
       "      <td>0.0</td>\n",
       "      <td>0.0</td>\n",
       "      <td>0.0</td>\n",
       "      <td>0.0</td>\n",
       "    </tr>\n",
       "    <tr>\n",
       "      <th>.Appo.&lt;DH===/</th>\n",
       "      <td>0.0</td>\n",
       "      <td>0.0</td>\n",
       "      <td>0.0</td>\n",
       "      <td>0.0</td>\n",
       "      <td>0.0</td>\n",
       "      <td>0.0</td>\n",
       "      <td>0.0</td>\n",
       "      <td>0.0</td>\n",
       "      <td>0.0</td>\n",
       "      <td>0.0</td>\n",
       "      <td>...</td>\n",
       "      <td>0.0</td>\n",
       "      <td>0.0</td>\n",
       "      <td>0.0</td>\n",
       "      <td>0.0</td>\n",
       "      <td>0.0</td>\n",
       "      <td>0.0</td>\n",
       "      <td>0.0</td>\n",
       "      <td>0.0</td>\n",
       "      <td>0.0</td>\n",
       "      <td>0.0</td>\n",
       "    </tr>\n",
       "    <tr>\n",
       "      <th>.Appo.&lt;FH[</th>\n",
       "      <td>0.0</td>\n",
       "      <td>0.0</td>\n",
       "      <td>0.0</td>\n",
       "      <td>0.0</td>\n",
       "      <td>0.0</td>\n",
       "      <td>0.0</td>\n",
       "      <td>0.0</td>\n",
       "      <td>0.0</td>\n",
       "      <td>0.0</td>\n",
       "      <td>0.0</td>\n",
       "      <td>...</td>\n",
       "      <td>0.0</td>\n",
       "      <td>0.0</td>\n",
       "      <td>0.0</td>\n",
       "      <td>0.0</td>\n",
       "      <td>0.0</td>\n",
       "      <td>0.0</td>\n",
       "      <td>0.0</td>\n",
       "      <td>0.0</td>\n",
       "      <td>0.0</td>\n",
       "      <td>0.0</td>\n",
       "    </tr>\n",
       "  </tbody>\n",
       "</table>\n",
       "<p>5 rows × 2744 columns</p>\n",
       "</div>"
      ],
      "text/plain": [
       "               <B/  <B=/  <BD/  <BD>/  <BDH/  <BDJHW/  <BDT/  <BDWN/  <BD[  \\\n",
       ".Appo.<BD/     0.0   0.0   0.0    0.0    0.0      0.0    0.0     0.0   0.0   \n",
       ".Appo.<BRJ/    0.0   0.0   0.0    0.0    0.0      0.0    0.0     0.0   0.0   \n",
       ".Appo.<DH/     0.0   0.0   0.0    0.0    0.0      0.0    0.0     0.0   0.0   \n",
       ".Appo.<DH===/  0.0   0.0   0.0    0.0    0.0      0.0    0.0     0.0   0.0   \n",
       ".Appo.<FH[     0.0   0.0   0.0    0.0    0.0      0.0    0.0     0.0   0.0   \n",
       "\n",
       "               <BD_>DWM/  ...    ZQN==/  ZQNH/  ZQNJM/  ZR/  ZR</  ZR=/  \\\n",
       ".Appo.<BD/           0.0  ...       0.0    0.0     0.0  0.0   0.0   0.0   \n",
       ".Appo.<BRJ/          0.0  ...       0.0    0.0     0.0  0.0   0.0   0.0   \n",
       ".Appo.<DH/           0.0  ...       0.0    0.0     0.0  0.0   0.0   0.0   \n",
       ".Appo.<DH===/        0.0  ...       0.0    0.0     0.0  0.0   0.0   0.0   \n",
       ".Appo.<FH[           0.0  ...       0.0    0.0     0.0  0.0   0.0   0.0   \n",
       "\n",
       "               ZRBBL/  ZRC/  ZRW</  ZRX=/  \n",
       ".Appo.<BD/        0.0   0.0    0.0    0.0  \n",
       ".Appo.<BRJ/       0.0   0.0    0.0    0.0  \n",
       ".Appo.<DH/        0.0   0.0    0.0    0.0  \n",
       ".Appo.<DH===/     0.0   0.0    0.0    0.0  \n",
       ".Appo.<FH[        0.0   0.0    0.0    0.0  \n",
       "\n",
       "[5 rows x 2744 columns]"
      ]
     },
     "execution_count": 4,
     "metadata": {},
     "output_type": "execute_result"
    }
   ],
   "source": [
    "ne1.data.head()"
   ]
  },
  {
   "cell_type": "code",
   "execution_count": 5,
   "metadata": {},
   "outputs": [
    {
     "data": {
      "text/plain": [
       "Subj.Pred.>MR[.qal       111.0\n",
       ".rec.JFR>L/               58.0\n",
       "Cmpl_>L.Pred.>MR[.qal     36.0\n",
       ".Appo.CLMH=/              32.0\n",
       "Subj.Pred.CLX[.qal        30.0\n",
       ".rec.BBL/                 24.0\n",
       ".rec.>CWR/                23.0\n",
       "Cmpl_>L.Pred.BW>[.qal     22.0\n",
       ".Appo.DWD==/              20.0\n",
       "Subj.Pred.CM<[.qal        19.0\n",
       "Name: MLK/, dtype: float64"
      ]
     },
     "execution_count": 5,
     "metadata": {},
     "output_type": "execute_result"
    }
   ],
   "source": [
    "ne1.data['MLK/'].sort_values(ascending=False).head(10)"
   ]
  },
  {
   "cell_type": "markdown",
   "metadata": {},
   "source": [
    "### Run the Semantic Space\n"
   ]
  },
  {
   "cell_type": "code",
   "execution_count": 6,
   "metadata": {},
   "outputs": [
    {
     "name": "stdout",
     "output_type": "stream",
     "text": [
      "  0.00s Applying association measure(s)...\n",
      "   |     0.00s Applying PPMI...\n",
      "   |     1.90s Finished PPMI...\n",
      "  1.90s Building pairwise matrices...\n",
      "    37s space is ready!\n"
     ]
    }
   ],
   "source": [
    "ns1 = SemSpace(ne1, info=True)"
   ]
  },
  {
   "cell_type": "code",
   "execution_count": 7,
   "metadata": {},
   "outputs": [],
   "source": [
    "test = ns1.sim_pmi_normalized.to_dict()"
   ]
  },
  {
   "cell_type": "code",
   "execution_count": 8,
   "metadata": {},
   "outputs": [
    {
     "data": {
      "text/plain": [
       "2744"
      ]
     },
     "execution_count": 8,
     "metadata": {},
     "output_type": "execute_result"
    }
   ],
   "source": [
    "len(test.keys())"
   ]
  },
  {
   "cell_type": "code",
   "execution_count": 7,
   "metadata": {},
   "outputs": [
    {
     "data": {
      "image/png": "[encoded data removed]",
      "text/plain": [
       "<Figure size 720x432 with 1 Axes>"
      ]
     },
     "metadata": {},
     "output_type": "display_data"
    }
   ],
   "source": [
    "ns1.pmi_plot.show(annotate=False)"
   ]
  },
  {
   "cell_type": "code",
   "execution_count": 8,
   "metadata": {},
   "outputs": [
    {
     "data": {
      "image/png": "[encoded data removed]",
      "text/plain": [
       "<Figure size 720x432 with 1 Axes>"
      ]
     },
     "metadata": {},
     "output_type": "display_data"
    }
   ],
   "source": [
    "ns1.pmi_plot.show()"
   ]
  },
  {
   "cell_type": "code",
   "execution_count": null,
   "metadata": {},
   "outputs": [],
   "source": [
    "ns1.pmi_plot.show(axis=[5, 10, -10, 10])"
   ]
  },
  {
   "cell_type": "code",
   "execution_count": 11,
   "metadata": {},
   "outputs": [
    {
     "data": {
      "image/png": "[encoded data removed]",
      "text/plain": [
       "<Figure size 720x432 with 1 Axes>"
      ]
     },
     "metadata": {},
     "output_type": "display_data"
    }
   ],
   "source": [
    "ns1.pmi_plot.show(axis=[0, 5, -10, 10])"
   ]
  },
  {
   "cell_type": "code",
   "execution_count": 12,
   "metadata": {},
   "outputs": [
    {
     "data": {
      "text/plain": [
       "<BD/ (servant)         1.000000\n",
       "CPXH/ (maidservant)    0.173587\n",
       "FR/ (chief)            0.147803\n",
       "N<R/ (boy)             0.147114\n",
       "DWD==/ (David)         0.144321\n",
       "MCH=/ (Moses)          0.142340\n",
       "<M/ (people)           0.139854\n",
       "XMWR=/ (Hamor)         0.136457\n",
       "JWXNN/ (Johanan)       0.136007\n",
       ">JC/ (man)             0.131039\n",
       ">CH/ (woman)           0.129257\n",
       "DWD/ (beloved one)     0.128532\n",
       "J<QB/ (Jacob)          0.128516\n",
       "MJKJHW/ (<prophet>)    0.126021\n",
       ">DNJHW/ (Adonijah)     0.125881\n",
       "C>WL=/ (Saul)          0.124912\n",
       "CKM==/ (Shechem)       0.122873\n",
       "HTK/ (Hathach)         0.120405\n",
       "XM===/ (Ham)           0.120379\n",
       "GD<WN/ (Gideon)        0.117246\n",
       "Name: <BD/ (servant), dtype: float64"
      ]
     },
     "execution_count": 12,
     "metadata": {},
     "output_type": "execute_result"
    }
   ],
   "source": [
    "ns1.similarity_pmi['<BD/ (servant)'].sort_values(ascending=False).head(20)"
   ]
  },
  {
   "cell_type": "code",
   "execution_count": 12,
   "metadata": {},
   "outputs": [
    {
     "data": {
      "text/plain": [
       "(1171,)"
      ]
     },
     "execution_count": 12,
     "metadata": {},
     "output_type": "execute_result"
    }
   ],
   "source": [
    "ns1.similarity_pmi['<BD/ (servant)'][ns1.similarity_pmi['<BD/ (servant)'] > 0].shape"
   ]
  },
  {
   "cell_type": "code",
   "execution_count": 13,
   "metadata": {},
   "outputs": [
    {
     "data": {
      "text/plain": [
       "GML/ (camel)             1.000000\n",
       "SWS/ (horse)             0.177168\n",
       "Y>N/ (cattle)            0.155850\n",
       "XMWR/ (he-ass)           0.139248\n",
       "MR</ (friend)            0.138730\n",
       "JRX</ (Jarha)            0.107635\n",
       "XSJL/ (cockroach)        0.107635\n",
       "NZJR/ (singled out)      0.107202\n",
       "XJRM/ (Hiram)            0.102274\n",
       "CBJ/ (captive)           0.097391\n",
       "MNQJT/ (bowl)            0.094761\n",
       "YR==/ (pebble)           0.094761\n",
       "<RMWN/ (plane-tree)      0.094761\n",
       "FHRNJM/ (<ornament>)     0.094761\n",
       "MPTX/ (key)              0.094761\n",
       "BRQNJM/ (<uncertain>)    0.094761\n",
       "<RBWN/ (pledge)          0.094761\n",
       "KRJ/ (Carites)           0.094761\n",
       "CMY/ (<uncertain>)       0.094761\n",
       "XRF/ (clay)              0.094761\n",
       "Name: GML/ (camel), dtype: float64"
      ]
     },
     "execution_count": 13,
     "metadata": {},
     "output_type": "execute_result"
    }
   ],
   "source": [
    "ns1.similarity_pmi['GML/ (camel)'].sort_values(ascending=False).head(20)"
   ]
  },
  {
   "cell_type": "code",
   "execution_count": 14,
   "metadata": {},
   "outputs": [
    {
     "data": {
      "text/plain": [
       "JHWH/ (YHWH)            1.000000\n",
       ">LHJM/ (god(s))         0.306938\n",
       "MCH=/ (Moses)           0.189060\n",
       "DWD==/ (David)          0.175075\n",
       "MLK/ (king)             0.150585\n",
       "JHWC</ (Joshua)         0.146551\n",
       "C>WL=/ (Saul)           0.144447\n",
       "PR<H/ (pharaoh)         0.135528\n",
       "JHWJD</ (Jehoiada)      0.134539\n",
       "JHWNTN/ (Jehonathan)    0.133916\n",
       "JWSP/ (Joseph)          0.124478\n",
       "ML>K/ (messenger)       0.118165\n",
       "J<QB/ (Jacob)           0.113030\n",
       "PL>[ (be miraculous)    0.111802\n",
       ">BRHM/ (Abraham)        0.107784\n",
       ">JC/ (man)              0.104848\n",
       "JYXQ/ (Isaac)           0.102956\n",
       "CLMH=/ (Solomon)        0.102680\n",
       "GD<WN/ (Gideon)         0.101487\n",
       "BLQ/ (Balak)            0.101394\n",
       "Name: JHWH/ (YHWH), dtype: float64"
      ]
     },
     "execution_count": 14,
     "metadata": {},
     "output_type": "execute_result"
    }
   ],
   "source": [
    "ns1.similarity_pmi['JHWH/ (YHWH)'].sort_values(ascending=False).head(20)"
   ]
  },
  {
   "cell_type": "code",
   "execution_count": 15,
   "metadata": {},
   "outputs": [
    {
     "data": {
      "text/plain": [
       "LXM/ (bread)                 1.000000\n",
       "MSTR=/ (making hide face)    0.155798\n",
       "QLH[ (roast)                 0.155305\n",
       "JSDWT/ (foundation)          0.155305\n",
       "YMWQJM/ (cakes)              0.119896\n",
       "QDQD/ (scalp)                0.117817\n",
       "TXNWN/ (supplication)        0.108627\n",
       "BJNH/ (understanding)        0.108627\n",
       "XCQ/ (desire)                0.094601\n",
       "FQ/ (sack)                   0.092992\n",
       "JBWL/ (produce)              0.092800\n",
       "PTBG/ (table)                0.087161\n",
       "MXJH/ (life preservation)    0.086997\n",
       "RBBH/ (multitude)            0.086997\n",
       "BFRH/ (report)               0.086997\n",
       "MSWH/ (mask)                 0.086997\n",
       "VRP==/ (food)                0.086997\n",
       "BYR=/ (<place of refuge>)    0.086997\n",
       "MSPW>/ (fodder)              0.086997\n",
       "NQMH/ (vengeance)            0.086997\n",
       "Name: LXM/ (bread), dtype: float64"
      ]
     },
     "execution_count": 15,
     "metadata": {},
     "output_type": "execute_result"
    }
   ],
   "source": [
    "ns1.similarity_pmi['LXM/ (bread)'].sort_values(ascending=False).head(20)"
   ]
  },
  {
   "cell_type": "code",
   "execution_count": 13,
   "metadata": {},
   "outputs": [
    {
     "data": {
      "text/plain": [
       "(593,)"
      ]
     },
     "execution_count": 13,
     "metadata": {},
     "output_type": "execute_result"
    }
   ],
   "source": [
    "ns1.similarity_pmi['LXM/ (bread)'][ns1.similarity_pmi['LXM/ (bread)'] > 0].shape"
   ]
  },
  {
   "cell_type": "code",
   "execution_count": 16,
   "metadata": {},
   "outputs": [
    {
     "data": {
      "text/plain": [
       "MJM/ (water)            1.000000\n",
       "GCM/ (rain)             0.151491\n",
       "CKR=/ (strong drink)    0.127623\n",
       "NQJWN/ (innocence)      0.126461\n",
       "GBRT/ (lady)            0.123743\n",
       "T<LH/ (channel)         0.118635\n",
       "NZL[ (flow)             0.110102\n",
       "YJR===/ (convulsion)    0.106192\n",
       "JJN/ (wine)             0.099991\n",
       "SR<PH/ (bough)          0.098279\n",
       "PLYWT/ (shuddering)     0.094523\n",
       ">LJL/ (god)             0.092918\n",
       "CMH=/ (Shammah)         0.092416\n",
       "MXCBT/ (plan)           0.092416\n",
       "DRBN/ (point)           0.091453\n",
       "JWYR/ (potter)          0.088858\n",
       "HWD/ (splendour)        0.088502\n",
       "RJR/ (spittle)          0.087697\n",
       "KD/ (pitcher)           0.086183\n",
       "CQWY/ (idol)            0.085679\n",
       "Name: MJM/ (water), dtype: float64"
      ]
     },
     "execution_count": 16,
     "metadata": {},
     "output_type": "execute_result"
    }
   ],
   "source": [
    "ns1.similarity_pmi['MJM/ (water)'].sort_values(ascending=False).head(20)"
   ]
  },
  {
   "cell_type": "markdown",
   "metadata": {},
   "source": [
    "How is \"convulsion\" similar to water?"
   ]
  },
  {
   "cell_type": "code",
   "execution_count": 17,
   "metadata": {},
   "outputs": [
    {
     "data": {
      "text/plain": [
       "Subj.Pred.HPK[.nif    1.0\n",
       "Name: YJR===/, dtype: float64"
      ]
     },
     "execution_count": 17,
     "metadata": {},
     "output_type": "execute_result"
    }
   ],
   "source": [
    "ns1.raw['YJR===/'][ns1.raw['YJR===/'] > 0]"
   ]
  },
  {
   "cell_type": "code",
   "execution_count": 18,
   "metadata": {},
   "outputs": [
    {
     "data": {
      "text/plain": [
       "1.0"
      ]
     },
     "execution_count": 18,
     "metadata": {},
     "output_type": "execute_result"
    }
   ],
   "source": [
    "ns1.raw['MJM/']['Subj.Pred.HPK[.nif']"
   ]
  },
  {
   "cell_type": "markdown",
   "metadata": {},
   "source": [
    "Both nouns share the attribute of being able to \"be poured out.\" \n",
    "\n",
    "Looking at this noun's uses as described by BDB, it seems that this noun shares another surprising commonality with מים, that is, a person can be filled (מלא) with חלחלה צירים, that is, \"anguish of pangs.\" Thus, in a surprising way this noun may be a good match.  "
   ]
  },
  {
   "cell_type": "code",
   "execution_count": 19,
   "metadata": {},
   "outputs": [
    {
     "data": {
      "text/plain": [
       "MLK/ (king)          1.000000\n",
       "C>WL=/ (Saul)        0.228685\n",
       "DWD==/ (David)       0.211558\n",
       "CLMH=/ (Solomon)     0.176877\n",
       "<M/ (people)         0.175929\n",
       "FR/ (chief)          0.175884\n",
       ">B/ (father)         0.170289\n",
       "MCH=/ (Moses)        0.162353\n",
       "GD<WN/ (Gideon)      0.158313\n",
       ">JC/ (man)           0.156778\n",
       "JRB<M/ (Jeroboam)    0.155543\n",
       "PR<H/ (pharaoh)      0.154778\n",
       ">X>B/ (Ahab)         0.154020\n",
       "JHWC</ (Joshua)      0.152470\n",
       ">BNR/ (Abner)        0.151580\n",
       "JHWH/ (YHWH)         0.150585\n",
       "BLQ/ (Balak)         0.150351\n",
       "BN/ (son)            0.148134\n",
       "CMW>L/ (Samuel)      0.146515\n",
       "J<QB/ (Jacob)        0.145565\n",
       "Name: MLK/ (king), dtype: float64"
      ]
     },
     "execution_count": 19,
     "metadata": {},
     "output_type": "execute_result"
    }
   ],
   "source": [
    "ns1.similarity_pmi['MLK/ (king)'].sort_values(ascending=False).head(20)"
   ]
  },
  {
   "cell_type": "code",
   "execution_count": 20,
   "metadata": {},
   "outputs": [
    {
     "data": {
      "text/plain": [
       "<JR/ (town)             1.000000\n",
       "CMRWN/ (Samaria)        0.166600\n",
       ">RY/ (earth)            0.162955\n",
       "JRWCLM/ (Jerusalem)     0.145951\n",
       ">JLWN==/ (Aijalon)      0.139683\n",
       "RMH==/ (Ramah)          0.133557\n",
       "BJT/ (house)            0.133282\n",
       "BJT_LXM/ (Bethlehem)    0.125546\n",
       "Y<R/ (Zoar)             0.116268\n",
       "BJT_>L/ (Bethel)        0.113925\n",
       "GBWL/ (boundary)        0.113191\n",
       "<J=/ (Ai)               0.112061\n",
       "XBWR/ (Habor)           0.107984\n",
       "NJNWH/ (Nineveh)        0.106992\n",
       "JRDN/ (Jordan)          0.106758\n",
       "JBJC=/ (Jabesh)         0.106379\n",
       "XYWR/ (Hazor)           0.100068\n",
       ">BN_H<ZR/ (Ebenezer)    0.098965\n",
       "MXNH/ (camp)            0.097195\n",
       "XBRWN=/ (Hebron)        0.096961\n",
       "Name: <JR/ (town), dtype: float64"
      ]
     },
     "execution_count": 20,
     "metadata": {},
     "output_type": "execute_result"
    }
   ],
   "source": [
    "ns1.similarity_pmi['<JR/ (town)'].sort_values(ascending=False).head(20)"
   ]
  },
  {
   "cell_type": "code",
   "execution_count": 21,
   "metadata": {},
   "outputs": [
    {
     "data": {
      "text/plain": [
       "JWM/ (day)                1.000000\n",
       "CNH/ (year)               0.172729\n",
       "LJLH/ (night)             0.146839\n",
       "YHRJM/ (noon)             0.120189\n",
       "XDC=/ (month)             0.119022\n",
       "<T/ (time)                0.107654\n",
       "BQR=/ (morning)           0.092602\n",
       "MWT/ (death)              0.057799\n",
       "MHWMH/ (discomfiture)     0.057730\n",
       "<FWR/ (a ten)             0.056309\n",
       "<RB/ (evening)            0.052641\n",
       "<YM/ (bone)               0.051749\n",
       "JWMM (by day)             0.051606\n",
       "SR<PH/ (bough)            0.050906\n",
       "TXLH/ (beginning)         0.048973\n",
       "MWSK/ (<uncertain>)       0.048264\n",
       ">Z (then)                 0.047378\n",
       "XRPH/ (reproach)          0.046778\n",
       ">GRT/ (letter)            0.043991\n",
       "MVH====/ (crookedness)    0.043764\n",
       "Name: JWM/ (day), dtype: float64"
      ]
     },
     "execution_count": 21,
     "metadata": {},
     "output_type": "execute_result"
    }
   ],
   "source": [
    "ns1.similarity_pmi['JWM/ (day)'].sort_values(ascending=False).head(20)"
   ]
  },
  {
   "cell_type": "code",
   "execution_count": 22,
   "metadata": {},
   "outputs": [
    {
     "data": {
      "text/plain": [
       "Time.Pred.<FH[.qal       17.0\n",
       ".par.LJLH/               15.0\n",
       "Time.Pred.JCB[.qal       14.0\n",
       "Time_B.Pred.BW>[.qal     13.0\n",
       "Time_<D.Pred.QR>[.qal     9.0\n",
       "Time_<D.Pred.JCB[.qal     9.0\n",
       "Time_B.Pred.>MR[.qal      7.0\n",
       "Time_B.Pred.<FH[.qal      6.0\n",
       ".rec.MWT/                 6.0\n",
       ".rec.CLMH=/               5.0\n",
       "Name: JWM/, dtype: float64"
      ]
     },
     "execution_count": 22,
     "metadata": {},
     "output_type": "execute_result"
    }
   ],
   "source": [
    "ns1.raw['JWM/'][ns1.raw['JWM/'] > 0].sort_values(ascending=False).head(10)"
   ]
  },
  {
   "cell_type": "markdown",
   "metadata": {},
   "source": [
    "While יום performs quite well, it should be noted that this has much to do with the specialized \"Time\" phrase function type in the BHSA dataset."
   ]
  },
  {
   "cell_type": "code",
   "execution_count": 24,
   "metadata": {},
   "outputs": [
    {
     "data": {
      "text/plain": [
       "VWB/ (good)               1.000000\n",
       "MPJBCT/ (Mephibosheth)    0.230328\n",
       "MJVB/ (best)              0.229013\n",
       "HWH==/ (destruction)      0.218229\n",
       "KR/ (ram)                 0.201405\n",
       ">RZ/ (cedar)              0.192791\n",
       "M<WN/ (dwelling)          0.169935\n",
       "MWSB/ (<uncertain>)       0.166141\n",
       "QCH/ (hard)               0.139688\n",
       "MBXR/ (choice)            0.139523\n",
       ">GG/ (Agag)               0.137632\n",
       "MCL/ (proverb)            0.131955\n",
       "KZB/ (lie)                0.126738\n",
       "M>WMH/ (something)        0.124490\n",
       "BXWR/ (young man)         0.103598\n",
       "<NP/ (branches)           0.098513\n",
       "NRGL/ (Nergal)            0.098513\n",
       "CPV/ (judgment)           0.098513\n",
       "CPWV/ (judgment)          0.098513\n",
       "<YRT/ (assembly)          0.098513\n",
       "Name: VWB/ (good), dtype: float64"
      ]
     },
     "execution_count": 24,
     "metadata": {},
     "output_type": "execute_result"
    }
   ],
   "source": [
    "ns1.similarity_pmi['VWB/ (good)'].sort_values(ascending=False).head(20)"
   ]
  },
  {
   "cell_type": "code",
   "execution_count": 25,
   "metadata": {},
   "outputs": [
    {
     "data": {
      "text/plain": [
       ">DMH/ (soil)                   1.000000\n",
       "JLDH/ (girl)                   0.290437\n",
       "MXYB/ (hewn stone)             0.283128\n",
       "YJD=/ (provision)              0.254022\n",
       "MLKJ_YDQ/ (Melchizedek)        0.205199\n",
       "KWRC/ (Cyrus)                  0.205199\n",
       "QNT/ (Kenath)                  0.186256\n",
       "GMZW/ (Gimzo)                  0.186256\n",
       "CW<L/ (fox)                    0.186256\n",
       "BKRH/ (right of first-born)    0.184759\n",
       "PQJD/ (officer)                0.165248\n",
       "GDRWT/ (Gederoth)              0.153453\n",
       "MNXM/ (Menahem)                0.148682\n",
       "PCXWR/ (Pashhur)               0.143340\n",
       ">ZWR/ (loin-cloth)             0.139423\n",
       "CRT[ (serve)                   0.128320\n",
       ">CQLWN/ (Ashkelon)             0.123239\n",
       ">JLWN==/ (Aijalon)             0.098871\n",
       "XLQH/ (plot of land)           0.095589\n",
       "JRK/ (upper thigh)             0.093895\n",
       "Name: >DMH/ (soil), dtype: float64"
      ]
     },
     "execution_count": 25,
     "metadata": {},
     "output_type": "execute_result"
    }
   ],
   "source": [
    "ns1.similarity_pmi['>DMH/ (soil)'].sort_values(ascending=False).head(20)"
   ]
  },
  {
   "cell_type": "markdown",
   "metadata": {},
   "source": [
    "What does \"soil\" and \"girl\" have to do with each other?"
   ]
  },
  {
   "cell_type": "code",
   "execution_count": 26,
   "metadata": {},
   "outputs": [
    {
     "data": {
      "text/plain": [
       "Objc.Pred.MKR[.qal    1.0\n",
       "Name: JLDH/, dtype: float64"
      ]
     },
     "execution_count": 26,
     "metadata": {},
     "output_type": "execute_result"
    }
   ],
   "source": [
    "ns1.raw['JLDH/'][ns1.raw['JLDH/'] > 0]"
   ]
  },
  {
   "cell_type": "code",
   "execution_count": 27,
   "metadata": {},
   "outputs": [
    {
     "data": {
      "text/plain": [
       ".rec.JFR>L/              1.0\n",
       ".rec.KHN/                2.0\n",
       ".rec.MYRJM/              2.0\n",
       "Adju_>L.Pred.FMX[.qal    1.0\n",
       "Cmpl_MN.Pred.JYR[.qal    1.0\n",
       "Cmpl_MN.Pred.YMX[.hif    1.0\n",
       "Loca_<L.Pred.FJM[.qal    1.0\n",
       "Objc.Pred.<BD[.qal       1.0\n",
       "Objc.Pred.LKD[.qal       1.0\n",
       "Objc.Pred.MKR[.qal       1.0\n",
       "Objc.Pred.QNH[.qal       2.0\n",
       "Subj.Pred.BQ<[.nif       1.0\n",
       "Subj.Pred.JY>[.hif       1.0\n",
       "Name: >DMH/, dtype: float64"
      ]
     },
     "execution_count": 27,
     "metadata": {},
     "output_type": "execute_result"
    }
   ],
   "source": [
    "ns1.raw['>DMH/'][ns1.raw['>DMH/'] > 0]"
   ]
  },
  {
   "cell_type": "markdown",
   "metadata": {},
   "source": [
    "Both of these items are sold!"
   ]
  },
  {
   "cell_type": "code",
   "execution_count": 28,
   "metadata": {},
   "outputs": [
    {
     "data": {
      "text/plain": [
       "KHN/ (priest)           1.000000\n",
       "LWJ/ (Levite)           0.420324\n",
       "TWDH/ (thanksgiving)    0.163828\n",
       "JW>B/ (Joab)            0.159339\n",
       "MCH=/ (Moses)           0.159108\n",
       "SRNJM/ (lords)          0.141355\n",
       "CW<R/ (porter)          0.139888\n",
       ">XJHW/ (Ahijah)         0.139297\n",
       "J<QB/ (Jacob)           0.139089\n",
       "DWD==/ (David)          0.138762\n",
       ">HLJ>B/ (Oholiab)       0.137646\n",
       "CM<JH/ (Shemaiah)       0.136178\n",
       "JWNTN/ (Jonathan)       0.133991\n",
       "BYL>L/ (Bezalel)        0.133524\n",
       ">LJC</ (Elisha)         0.131635\n",
       "TWL<=/ (Tola)           0.128916\n",
       "QDMJ>L/ (Kadmiel)       0.127910\n",
       "YRJ=/ (Tyrian)          0.127824\n",
       "HJMN/ (Heman)           0.127777\n",
       "MQR>/ (convocation)     0.127582\n",
       "Name: KHN/ (priest), dtype: float64"
      ]
     },
     "execution_count": 28,
     "metadata": {},
     "output_type": "execute_result"
    }
   ],
   "source": [
    "ns1.similarity_pmi['KHN/ (priest)'].sort_values(ascending=False).head(20)"
   ]
  },
  {
   "cell_type": "code",
   "execution_count": 30,
   "metadata": {},
   "outputs": [
    {
     "data": {
      "text/plain": [
       "TWDH/ (thanksgiving)    1.000000\n",
       ">XR=/ (other)           0.638414\n",
       "MTTJH/ (Mattithiah)     0.592446\n",
       "<NJH/ (Anaiah)          0.592446\n",
       "JXZJH/ (Jahzeiah)       0.548472\n",
       "HJMN/ (Heman)           0.507243\n",
       "KWMZ/ (breastplate)     0.491360\n",
       "KRML=/ (new corn)       0.491360\n",
       "CDD[ (despoil)          0.491360\n",
       "MVWH/ (yarn)            0.491360\n",
       "QDMJ>L/ (Kadmiel)       0.447745\n",
       "CM<===/ (Shema)         0.407661\n",
       "JTR[ (remain)           0.399249\n",
       "MN<WL/ (lock)           0.375532\n",
       "M<FJH/ (Maaseiah)       0.358390\n",
       "RB_CQH/ (rabshake)      0.357286\n",
       "XRBH=/ (ruin)           0.302235\n",
       "NDBH/ (free will)       0.263502\n",
       "<RLH/ (foreskin)        0.255629\n",
       "XLQJH/ (Hilkiah)        0.231078\n",
       "Name: TWDH/ (thanksgiving), dtype: float64"
      ]
     },
     "execution_count": 30,
     "metadata": {},
     "output_type": "execute_result"
    }
   ],
   "source": [
    "ns1.similarity_pmi['TWDH/ (thanksgiving)'].sort_values(ascending=False).head(20)"
   ]
  },
  {
   "cell_type": "markdown",
   "metadata": {},
   "source": [
    "What is going on with this noun?"
   ]
  },
  {
   "cell_type": "code",
   "execution_count": 31,
   "metadata": {},
   "outputs": [
    {
     "data": {
      "text/plain": [
       "Objc.Pred.<MD[.hif    1.0\n",
       "Objc.Pred.BW>[.hif    1.0\n",
       "Subj.Pred.<MD[.qal    1.0\n",
       "Name: TWDH/, dtype: float64"
      ]
     },
     "execution_count": 31,
     "metadata": {},
     "output_type": "execute_result"
    }
   ],
   "source": [
    "ns1.raw['TWDH/'][ns1.raw['TWDH/'] > 0]"
   ]
  },
  {
   "cell_type": "code",
   "execution_count": 32,
   "metadata": {},
   "outputs": [
    {
     "data": {
      "text/plain": [
       "Objc.Pred.<MD[.hif    1.0\n",
       "Name: >XR=/, dtype: float64"
      ]
     },
     "execution_count": 32,
     "metadata": {},
     "output_type": "execute_result"
    }
   ],
   "source": [
    "ns1.raw['>XR=/'][ns1.raw['>XR=/'] > 0]"
   ]
  },
  {
   "cell_type": "code",
   "execution_count": 33,
   "metadata": {},
   "outputs": [
    {
     "data": {
      "text/plain": [
       "Subj.Pred.<MD[.qal    1.0\n",
       "Name: MTTJH/, dtype: float64"
      ]
     },
     "execution_count": 33,
     "metadata": {},
     "output_type": "execute_result"
    }
   ],
   "source": [
    "ns1.raw['MTTJH/'][ns1.raw['MTTJH/'] > 0]"
   ]
  },
  {
   "cell_type": "code",
   "execution_count": 34,
   "metadata": {},
   "outputs": [
    {
     "data": {
      "text/plain": [
       "Objc.Pred.BW>[.hif    1.0\n",
       "Name: KWMZ/, dtype: float64"
      ]
     },
     "execution_count": 34,
     "metadata": {},
     "output_type": "execute_result"
    }
   ],
   "source": [
    "ns1.raw['KWMZ/'][ns1.raw['KWMZ/'] > 0]"
   ]
  },
  {
   "cell_type": "markdown",
   "metadata": {},
   "source": [
    "Thanksgiving can be \"set up\" עמד and \"brought in\" בוא, as with the other nouns."
   ]
  },
  {
   "cell_type": "code",
   "execution_count": 35,
   "metadata": {},
   "outputs": [
    {
     "data": {
      "text/plain": [
       "CJR/ (song)                  1.000000\n",
       "NBL==/ (harp)                0.466269\n",
       "MS<D/ (<uncertain>)          0.422268\n",
       "KNWR/ (cither)               0.373303\n",
       "NGP/ (plague)                0.372354\n",
       "PRY[ (break)                 0.372354\n",
       "TP/ (tambourine)             0.278855\n",
       "FMXH/ (joy)                  0.210454\n",
       "MYLTJM/ (cymbals)            0.186282\n",
       "TRW<H/ (shouting)            0.168041\n",
       "RBBH/ (multitude)            0.137462\n",
       "MGR<WT/ (recesses)           0.137462\n",
       "BYR=/ (<place of refuge>)    0.137462\n",
       "TPLH=/ (unseemliness)        0.137462\n",
       "VRP==/ (food)                0.137462\n",
       "C>LH/ (request)              0.137462\n",
       "MKS/ (tax)                   0.137462\n",
       "NQMH/ (vengeance)            0.137462\n",
       "JRCH/ (possession)           0.137462\n",
       "MXJH/ (life preservation)    0.137462\n",
       "Name: CJR/ (song), dtype: float64"
      ]
     },
     "execution_count": 35,
     "metadata": {},
     "output_type": "execute_result"
    }
   ],
   "source": [
    "ns1.similarity_pmi['CJR/ (song)'].sort_values(ascending=False).head(20)"
   ]
  },
  {
   "cell_type": "markdown",
   "metadata": {},
   "source": [
    "In what way is שיר \"song\" similar to נקף \"plague\"?"
   ]
  },
  {
   "cell_type": "code",
   "execution_count": 36,
   "metadata": {},
   "outputs": [
    {
     "data": {
      "text/plain": [
       ".par.KNWR/               1.0\n",
       ".par.TP/                 1.0\n",
       ".par.XYYRH/              1.0\n",
       ".rec.JHWH/               1.0\n",
       "Adju_B.Pred.CLX[.piel    1.0\n",
       "Objc.Pred.NTN[.qal       1.0\n",
       "Subj.Pred.XLL[.hif       1.0\n",
       "Name: CJR/, dtype: float64"
      ]
     },
     "execution_count": 36,
     "metadata": {},
     "output_type": "execute_result"
    }
   ],
   "source": [
    "ns1.raw['CJR/'][ns1.raw['CJR/'] > 0]"
   ]
  },
  {
   "cell_type": "code",
   "execution_count": 37,
   "metadata": {},
   "outputs": [
    {
     "data": {
      "text/plain": [
       "Subj.Pred.XLL[.hif    1.0\n",
       "Name: NGP/, dtype: float64"
      ]
     },
     "execution_count": 37,
     "metadata": {},
     "output_type": "execute_result"
    }
   ],
   "source": [
    "ns1.raw['NGP/'][ns1.raw['NGP/'] > 0]"
   ]
  },
  {
   "cell_type": "code",
   "execution_count": 38,
   "metadata": {},
   "outputs": [
    {
     "data": {
      "text/plain": [
       "Subj.Pred.XLL[.hif    1.0\n",
       "Name: PRY[, dtype: float64"
      ]
     },
     "execution_count": 38,
     "metadata": {},
     "output_type": "execute_result"
    }
   ],
   "source": [
    "ns1.raw['PRY['][ns1.raw['PRY['] > 0]"
   ]
  },
  {
   "cell_type": "markdown",
   "metadata": {},
   "source": [
    "These appear to due to this verb's polysemy, senses of both \"play pipe\" and \"begin.\""
   ]
  },
  {
   "cell_type": "code",
   "execution_count": 39,
   "metadata": {},
   "outputs": [
    {
     "data": {
      "text/plain": [
       ">KL/ (food)                  1.000000\n",
       "MD</ (knowledge)             0.453580\n",
       "BR/ (grain)                  0.290069\n",
       "TQWPH/ (turning point)       0.271443\n",
       "YMX/ (sprout)                0.245264\n",
       "PQ<T/ (gourd)                0.220965\n",
       "TCWBH/ (return)              0.215335\n",
       "BFRH/ (report)               0.202142\n",
       "RBBH/ (multitude)            0.202142\n",
       "C>LH/ (request)              0.202142\n",
       "MKS/ (tax)                   0.202142\n",
       "NJR=/ (lamp)                 0.202142\n",
       "MGR<WT/ (recesses)           0.202142\n",
       "HRJWN/ (conception)          0.202142\n",
       "NQMH/ (vengeance)            0.202142\n",
       "CKBT/ (copulation)           0.202142\n",
       "M<FR/ (tenth)                0.202142\n",
       "TPLH=/ (unseemliness)        0.202142\n",
       "TMNT_SRX/ (Timnath Serah)    0.202142\n",
       "MZWN/ (food)                 0.202142\n",
       "Name: >KL/ (food), dtype: float64"
      ]
     },
     "execution_count": 39,
     "metadata": {},
     "output_type": "execute_result"
    }
   ],
   "source": [
    "ns1.similarity_pmi['>KL/ (food)'].sort_values(ascending=False).head(20)"
   ]
  },
  {
   "cell_type": "code",
   "execution_count": 40,
   "metadata": {},
   "outputs": [
    {
     "data": {
      "text/plain": [
       ".rec.CNH/              1.0\n",
       ".rec.FDH/              1.0\n",
       "Objc.Pred.C>L[.qal     1.0\n",
       "Objc.Pred.CBR=[.qal    1.0\n",
       "Objc.Pred.LQX[.qal     1.0\n",
       "Objc.Pred.NTN[.qal     2.0\n",
       "Objc.Pred.QBY[.qal     1.0\n",
       "Name: >KL/, dtype: float64"
      ]
     },
     "execution_count": 40,
     "metadata": {},
     "output_type": "execute_result"
    }
   ],
   "source": [
    "ns1.raw['>KL/'][ns1.raw['>KL/'] > 0]"
   ]
  },
  {
   "cell_type": "code",
   "execution_count": 41,
   "metadata": {},
   "outputs": [
    {
     "data": {
      "text/plain": [
       "Objc.Pred.C>L[.qal    1.0\n",
       "Objc.Pred.NTN[.qal    1.0\n",
       "Name: MD</, dtype: float64"
      ]
     },
     "execution_count": 41,
     "metadata": {},
     "output_type": "execute_result"
    }
   ],
   "source": [
    "ns1.raw['MD</'][ns1.raw['MD</'] > 0]"
   ]
  },
  {
   "cell_type": "markdown",
   "metadata": {},
   "source": [
    "Both \"food\" and \"knowlege\" are requested (שאל) and given (נתן)."
   ]
  },
  {
   "cell_type": "code",
   "execution_count": 42,
   "metadata": {},
   "outputs": [
    {
     "data": {
      "text/plain": [
       ">MRH/ (word)             1.000000\n",
       "<DWT/ (reminder)         0.191211\n",
       "MCMRT/ (guard-post)      0.178199\n",
       "XQH/ (regulation)        0.152972\n",
       "XSD/ (loyalty)           0.141881\n",
       "MYWH/ (commandment)      0.119044\n",
       "BRJT/ (covenant)         0.117517\n",
       "TWRH/ (instruction)      0.110220\n",
       ">RWN/ (ark)              0.067099\n",
       "MCPV/ (justice)          0.060941\n",
       "QYP/ (anger)             0.044791\n",
       "DRK/ (way)               0.044426\n",
       "ML>KWT/ (commission)     0.040317\n",
       "DBR/ (word)              0.035282\n",
       "BJT/ (house)             0.032363\n",
       "PXD/ (trembling)         0.032188\n",
       "TRDMH/ (sleep)           0.030860\n",
       "QRBN/ (offering)         0.028997\n",
       "MXCBH/ (thought)         0.028669\n",
       "TRWMH/ (contribution)    0.027990\n",
       "Name: >MRH/ (word), dtype: float64"
      ]
     },
     "execution_count": 42,
     "metadata": {},
     "output_type": "execute_result"
    }
   ],
   "source": [
    "ns1.similarity_pmi['>MRH/ (word)'].sort_values(ascending=False).head(20)"
   ]
  },
  {
   "cell_type": "code",
   "execution_count": 43,
   "metadata": {},
   "outputs": [
    {
     "data": {
      "text/plain": [
       "ZQN/ (old)             1.000000\n",
       "FR/ (chief)            0.200672\n",
       "FB<=/ (sated)          0.184833\n",
       "HTK/ (Hathach)         0.147544\n",
       "GB<WNJ/ (Gibeonite)    0.145503\n",
       "BLQ/ (Balak)           0.145231\n",
       "SRNJM/ (lords)         0.141493\n",
       "QWY/ (thorn-bush)      0.140048\n",
       "BJYH/ (egg)            0.138288\n",
       "NGF[ (drive)           0.136232\n",
       "LWJ/ (Levite)          0.129156\n",
       "CPV[ (judge)           0.128719\n",
       "BL<M/ (<prophet>)      0.125261\n",
       ">JC/ (man)             0.123384\n",
       "ZJPJ/ (Ziphite)        0.123160\n",
       "CM<J=/ (Shimei)        0.122484\n",
       "CW<H/ (cry)            0.122173\n",
       "MBNH/ (structure)      0.120902\n",
       "TQP/ (power)           0.120210\n",
       "FVNH/ (accusation)     0.120210\n",
       "Name: ZQN/ (old), dtype: float64"
      ]
     },
     "execution_count": 43,
     "metadata": {},
     "output_type": "execute_result"
    }
   ],
   "source": [
    "ns1.similarity_pmi['ZQN/ (old)'].sort_values(ascending=False).head(20)"
   ]
  },
  {
   "cell_type": "markdown",
   "metadata": {},
   "source": [
    "## Evaluation\n",
    "\n",
    "Some nouns perform quite well in terms of semantic similarity. Others reflect share only a small set of attributes that happen to be instantiated in the corpus, such as \"give\"-ability and \"lift\"-ability. Nevertheless, some very positive, strong tendencies can be seen in the data. The most relevant tendency is that personal nouns tend to have other personal nouns in their top similar terms; non-personal nouns likewise relate most to non-personal nouns. This particular quality will be especially important for clustering verbs into classes.\n",
    "\n",
    "The noun space is successful for the purpose of enhancing the verb space. The pre-computed data has been made available in `data/ns1_pmi.pickle` and can be reloaded into the semantic space in the verb-space enhancement notebook.\n",
    "\n",
    "## Normalization Experiments\n",
    "\n",
    "I am interested in normalizing each similarity ranking so that no more than 1 is being added to each verb space."
   ]
  },
  {
   "cell_type": "code",
   "execution_count": 57,
   "metadata": {},
   "outputs": [
    {
     "data": {
      "text/plain": [
       "(1398,)"
      ]
     },
     "execution_count": 57,
     "metadata": {},
     "output_type": "execute_result"
    }
   ],
   "source": [
    "test = ns1.similarity_pmi['MLK/ (king)'][ns1.similarity_pmi['MLK/ (king)'] > 0]\n",
    "test = test / test.sum()\n",
    "\n",
    "test.shape"
   ]
  },
  {
   "cell_type": "code",
   "execution_count": 58,
   "metadata": {},
   "outputs": [
    {
     "data": {
      "text/plain": [
       "MLK/ (king)         0.020754\n",
       "C>WL=/ (Saul)       0.004746\n",
       "DWD==/ (David)      0.004391\n",
       "CLMH=/ (Solomon)    0.003671\n",
       "<M/ (people)        0.003651\n",
       "Name: MLK/ (king), dtype: float64"
      ]
     },
     "execution_count": 58,
     "metadata": {},
     "output_type": "execute_result"
    }
   ],
   "source": [
    "test.sort_values(ascending=False).head()"
   ]
  },
  {
   "cell_type": "code",
   "execution_count": 59,
   "metadata": {},
   "outputs": [
    {
     "data": {
      "text/plain": [
       "ZQN/ (old)             1.000000\n",
       "FR/ (chief)            0.200672\n",
       "FB<=/ (sated)          0.184833\n",
       "HTK/ (Hathach)         0.147544\n",
       "GB<WNJ/ (Gibeonite)    0.145503\n",
       "Name: ZQN/ (old), dtype: float64"
      ]
     },
     "execution_count": 59,
     "metadata": {},
     "output_type": "execute_result"
    }
   ],
   "source": [
    "ns1.similarity_pmi['ZQN/ (old)'].sort_values(ascending=False).head()"
   ]
  },
  {
   "cell_type": "code",
   "execution_count": 10,
   "metadata": {},
   "outputs": [],
   "source": [
    "test = ns1.similarity_pmi / ns1.similarity_pmi.sum()"
   ]
  },
  {
   "cell_type": "code",
   "execution_count": 11,
   "metadata": {},
   "outputs": [
    {
     "data": {
      "text/plain": [
       "MLK/ (king)         0.020754\n",
       "C>WL=/ (Saul)       0.004746\n",
       "DWD==/ (David)      0.004391\n",
       "CLMH=/ (Solomon)    0.003671\n",
       "<M/ (people)        0.003651\n",
       "Name: MLK/ (king), dtype: float64"
      ]
     },
     "execution_count": 11,
     "metadata": {},
     "output_type": "execute_result"
    }
   ],
   "source": [
    "test['MLK/ (king)'].sort_values(ascending=False).head()"
   ]
  },
  {
   "cell_type": "code",
   "execution_count": 12,
   "metadata": {},
   "outputs": [
    {
     "data": {
      "text/plain": [
       "{'<B/ (cloud)': 0.0,\n",
       " '<B=/ (<uncertain>)': 0.0,\n",
       " '<BD/ (servant)': 0.0021728091914738094,\n",
       " '<BD>/ (Abda)': 0.0,\n",
       " '<BDH/ (work)': 0.0006260915452192434,\n",
       " '<BDJHW/ (Obadiah)': 0.0009214500570920484,\n",
       " '<BDT/ (servitude)': 0.0,\n",
       " '<BDWN/ (Abdon)': 0.001008065514793509,\n",
       " '<BD[ (work, serve)': 0.0004089732792037146,\n",
       " '<BD_>DWM/ (Obed-edom)': 0.00048280985581030577,\n",
       " '<BD_MLK/ (Ebed-Melech)': 0.0009423581520009786,\n",
       " '<BJ/ (thickness)': 0.0,\n",
       " '<BR/ (opposite)': 0.0,\n",
       " '<BR=/ (Eber)': 0.0,\n",
       " '<BRH/ (crossing)': 0.00100975870427669,\n",
       " '<BRJ/ (Hebrew)': 0.00100975870427669,\n",
       " '<BRNH/ (Abronah)': 0.0,\n",
       " '<BR[ (pass)': 0.0,\n",
       " '<BT/ (rope)': 0.0002460767658964454,\n",
       " '<BWR/ (way)': 0.0,\n",
       " '<BWR=/ (produce)': 0.0005553451769506476,\n",
       " '<C/ (moth)': 0.0,\n",
       " '<CN/ (smoke)': 0.00038270984716259123,\n",
       " '<CQ/ (oppression)': 0.0,\n",
       " '<CR/ (riches)': 0.0,\n",
       " '<CTJ/ (eleven)': 0.0,\n",
       " '<CTRT/ (idol)': 0.0,\n",
       " '<CTRT==/ (Astarte)': 0.00039936890246811173,\n",
       " '<CTRT_QRNJM/ (Ashteroth Karnaim)': 0.0,\n",
       " '<CWQJM/ (oppression)': 0.0008001768256421374,\n",
       " '<D (unto)': 0.0,\n",
       " '<D/ (future)': 0.0,\n",
       " '<D=/ (witness)': 0.0,\n",
       " '<DCH/ (lentil)': 0.0,\n",
       " '<DH/ (gathering)': 0.0016827080651763084,\n",
       " '<DH===/ (Adah)': 0.0,\n",
       " '<DJ/ (ornament)': 0.0,\n",
       " '<DJH/ (Adaiah)': 0.0,\n",
       " '<DN=/ (Eden)': 0.0,\n",
       " '<DN==/ (Eden)': 0.0,\n",
       " '<DR/ (flock)': 0.0,\n",
       " '<DRJ>L/ (Adriel)': 0.0,\n",
       " '<DWT/ (reminder)': 0.00011010025210452497,\n",
       " '<FB/ (herb)': 0.0006305097955535858,\n",
       " '<FH>L/ (Asahel)': 0.0005354745042376495,\n",
       " '<FH[ (make)': 0.0005353083100076126,\n",
       " '<FJH/ (Asaiah)': 0.0003747543269024565,\n",
       " '<FJRJ/ (tenth)': 0.0,\n",
       " '<FQ/ (Esek)': 0.0,\n",
       " '<FR=/ (ten)': 0.0003635372815813545,\n",
       " '<FRH=/ (ten)': 0.0001640187427833246,\n",
       " '<FRJM/ (twenty)': 0.0005440341497621575,\n",
       " '<FW/ (Esau)': 0.0018062338090509833,\n",
       " '<FWR/ (a ten)': 0.0,\n",
       " '<GBH/ (desire)': 0.0,\n",
       " '<GH/ (cake)': 0.0,\n",
       " '<GL/ (bull)': 0.0002871386561472074,\n",
       " '<GLH=/ (chariot)': 0.0003647369219878447,\n",
       " '<GLWN/ (Eglon)': 0.0005192559954433326,\n",
       " '<GLWN=/ (Eglon)': 0.0005031622518873681,\n",
       " '<J=/ (Ai)': 0.0005471185040828579,\n",
       " '<JJM/ (Iyim)': 0.0,\n",
       " '<JJ_H<BRJM/ (Iye Abarim)': 0.0,\n",
       " '<JN/ (eye)': 0.0006750212827150165,\n",
       " '<JN_CMC/ (En Shemesh)': 0.0,\n",
       " '<JN_MCPV/ (En Mishpat)': 0.0011400929786434912,\n",
       " '<JN_RGL/ (En Rogel)': 0.0,\n",
       " '<JN_XRD/ (the spring of Harod)': 0.0,\n",
       " '<JP/ (faint)': 0.0,\n",
       " '<JPH=/ (Ephah)': 0.0,\n",
       " '<JR/ (town)': 0.0013804944812292436,\n",
       " '<JR===/ (excitement)': 0.0,\n",
       " '<JRD/ (Irad)': 0.0,\n",
       " '<JV/ (bird of prey)': 0.0009799895343143576,\n",
       " '<JVM/ (Etam)': 0.0,\n",
       " '<JWN/ (Ijon)': 0.0009308383622795316,\n",
       " '<KBR/ (jerboa)': 0.0,\n",
       " '<KBWR/ (Acbor)': 0.0009204968415022076,\n",
       " '<KN/ (Achan)': 0.0012121987933596974,\n",
       " '<KSH/ (Acsah)': 0.00024173304664641177,\n",
       " '<L (upon)': 0.0,\n",
       " '<L/ (yoke)': 0.0,\n",
       " '<LH/ (burnt-offering)': 0.0005477748275037726,\n",
       " '<LH=/ (leafage)': 0.0,\n",
       " '<LH[ (ascend)': 0.0,\n",
       " '<LJ==/ (Eli)': 0.0014324757311714414,\n",
       " '<LJH/ (upper room)': 0.0005999374138465347,\n",
       " '<LJLH/ (deed)': 0.0,\n",
       " '<LJWN/ (upper)': 0.0,\n",
       " '<LMH/ (young woman)': 0.0009820510657569043,\n",
       " '<LMT=/ (Alemeth)': 0.0,\n",
       " '<LMWN_DBLTJMH/ (Almon Diblathaim)': 0.0,\n",
       " '<LVH/ (darkness)': 0.0,\n",
       " '<M (with)': 0.00046944816289016985,\n",
       " '<M/ (people)': 0.0036511835948358383,\n",
       " '<MCSJ/ (Amashsai)': 0.0,\n",
       " '<MD=/ (place)': 0.0009792084296234038,\n",
       " '<MD[ (stand)': 0.0010194879473047935,\n",
       " '<MF>/ (Amasa)': 0.0007847093523578743,\n",
       " '<MFJ/ (Amasai)': 0.0,\n",
       " '<MH/ (side)': 0.0,\n",
       " '<MJ>L/ (Ammiel)': 0.0,\n",
       " '<MJNDB/ (Amminadab)': 0.0,\n",
       " '<ML/ (labour)': 0.0003281246168222137,\n",
       " '<MLQ/ (Amalek)': 0.001379808558752961,\n",
       " '<MLQJ/ (Amalekite)': 0.0003649742136816606,\n",
       " '<MQ/ (valley)': 0.0,\n",
       " '<MR/ (omer)': 0.0,\n",
       " '<MRH/ (Gomorrah)': 0.0,\n",
       " '<MRJ/ (Omri)': 0.002169502872581635,\n",
       " '<MRM/ (Amram)': 0.000400150849232239,\n",
       " '<MSJH/ (Amasiah)': 0.0,\n",
       " '<MWD/ (pillar)': 0.0004438279894203651,\n",
       " '<MWN/ (Ammon)': 0.00086582771194974,\n",
       " '<MWNJ/ (Ammonite)': 0.0007806703013453059,\n",
       " '<MWS/ (Amos)': 0.0013892217843627657,\n",
       " '<NB/ (grape)': 0.00012924932604407613,\n",
       " '<NC/ (fine)': 0.0,\n",
       " '<NH=[ (be lowly)': 0.0,\n",
       " '<NJ/ (humble)': 0.0005115955894097797,\n",
       " '<NJ=/ (poverty)': 0.00022001268680329447,\n",
       " '<NJH/ (Anaiah)': 0.0010062271526024554,\n",
       " '<NN/ (cloud)': 0.0,\n",
       " '<NP/ (branches)': 0.0003635372815813545,\n",
       " '<NQ/ (neck)': 0.0,\n",
       " '<PL/ (Ophel)': 0.0003462340187713028,\n",
       " '<PR/ (dust)': 0.00032936765803090245,\n",
       " '<PRH/ (Ophrah)': 0.0,\n",
       " '<PRWN/ (Ephron)': 0.0009446953439379352,\n",
       " '<QB=/ (heel)': 0.0,\n",
       " '<QBH/ (insidiousness)': 0.0,\n",
       " '<QD/ (twisted)': 0.00043446026784956556,\n",
       " '<QRWN/ (Ekron)': 0.00036062773330416313,\n",
       " '<QRWNJ/ (from Ekron)': 0.001071769228099397,\n",
       " '<R=/ (Er)': 0.0003410031069431423,\n",
       " '<RB/ (evening)': 0.0,\n",
       " '<RB=/ (swarm)': 0.0003895126731916064,\n",
       " '<RB===/ (raven)': 0.0,\n",
       " '<RB====/ (mixture)': 0.0004931958903277227,\n",
       " '<RB======/ (Oreb)': 0.0009623210821542753,\n",
       " '<RBH/ (desert)': 0.0007095293087498843,\n",
       " '<RBJ/ (Arab)': 0.0002345242533765174,\n",
       " '<RBWN/ (pledge)': 0.0003523252264796178,\n",
       " '<RK/ (arrangement)': 0.0,\n",
       " '<RL/ (uncircumcised)': 0.0009846577652628777,\n",
       " '<RLH/ (foreskin)': 0.0004578365774977549,\n",
       " '<RMH/ (prudence)': 0.0,\n",
       " '<RMH=/ (heap)': 0.00032608162294892604,\n",
       " '<RMWN/ (plane-tree)': 0.0003523252264796178,\n",
       " '<RP/ (neck)': 6.52229383232081e-05,\n",
       " '<RPH/ (Orpah)': 0.00142159266807097,\n",
       " '<RPL/ (darkness)': 0.0,\n",
       " '<RW<R=/ (Aroer)': 0.0004724115409808919,\n",
       " '<RWGH/ (garden bed)': 0.0,\n",
       " '<RWH/ (nakedness)': 0.00023152383020075894,\n",
       " '<RWM/ (naked)': 0.0,\n",
       " '<T/ (time)': 0.0,\n",
       " '<TH (now)': 0.0,\n",
       " '<TJ=/ (Attai)': 0.0,\n",
       " '<TJH/ (Athaiah)': 0.0,\n",
       " '<TLJH/ (Athaliah)': 0.0015192377011386158,\n",
       " '<TLJHW/ (Athaliah)': 0.0016449826055060512,\n",
       " '<TNJ>L/ (Othniel)': 0.0003765414388892095,\n",
       " '<TR/ (perfume)': 0.0,\n",
       " '<VRT/ (wreath)': 7.878615363198077e-05,\n",
       " '<VRWT/ (Ataroth)': 0.0,\n",
       " '<VRWT_>DR/ (Ataroth Addar)': 0.0,\n",
       " '<W>/ (Avva)': 0.0,\n",
       " '<WBD/ (Obed)': 0.0,\n",
       " '<WD/ (duration)': 0.0,\n",
       " '<WG/ (Og)': 0.0010264369777745438,\n",
       " '<WJM/ (Avvim)': 0.001085179944161854,\n",
       " '<WLH/ (wickedness)': 0.0,\n",
       " '<WLL/ (child)': 0.0,\n",
       " '<WLM/ (eternity)': 0.0,\n",
       " '<WN/ (sin)': 0.0002911558278543126,\n",
       " '<WP/ (birds)': 0.0004301464140814142,\n",
       " '<WR=/ (skin)': 2.5343559981375104e-05,\n",
       " '<Y/ (tree)': 0.00025318184156976944,\n",
       " '<YB/ (image)': 0.00016660524026455002,\n",
       " '<YH/ (counsel)': 0.0,\n",
       " '<YJWN_GBR/ (Ezion Geber)': 0.0,\n",
       " '<YM/ (bone)': 0.0005059449166649225,\n",
       " '<YMWN/ (Azmon)': 0.0,\n",
       " '<YR/ (restraint)': 0.0,\n",
       " '<YRT/ (assembly)': 0.0003635372815813545,\n",
       " '<Z/ (power)': 0.0005947457849672815,\n",
       " '<Z==/ (goat)': 0.0,\n",
       " '<Z>/ (Uzza)': 0.0003841105533487712,\n",
       " '<ZH/ (Gaza)': 0.00033355458882523056,\n",
       " '<ZH=/ (Uzzah)': 0.0004000425627735769,\n",
       " '<ZJ>L/ (Uzziel)': 0.0,\n",
       " '<ZJHW/ (Uzziah)': 0.0016550562604283434,\n",
       " '<ZMWT/ (Azmaveth)': 0.0,\n",
       " '<ZQH/ (Azekah)': 0.0,\n",
       " '<ZR/ (help, helper)': 0.000970963199281092,\n",
       " '<ZR=/ (Ezer)': 0.0,\n",
       " '<ZR>/ (Ezra)': 0.0009297921946112836,\n",
       " '<ZRH/ (help)': 0.0,\n",
       " '<ZRH=/ (barrier)': 9.611032344643713e-05,\n",
       " '<ZRJH/ (Azariah)': 0.0005124435703429004,\n",
       " '<ZRJHW/ (Azariahu)': 0.0011018587046857915,\n",
       " '<ZRJQM/ (Azrikam)': 0.0007341747599381783,\n",
       " '<ZWBH/ (Azubah)': 0.0008620061275849222,\n",
       " '<ZWZ/ (power)': 0.0,\n",
       " '>B/ (father)': 0.0035341335739117025,\n",
       " '>BCJ/ (Abishai)': 0.0007815118080605242,\n",
       " '>BCLWM/ (Absalom)': 0.002073700466176395,\n",
       " '>BDN/ (destruction)': 0.00086582771194974,\n",
       " '>BJ<ZR/ (Abiezer)': 0.0,\n",
       " '>BJCG/ (Abishag)': 0.00044551884105231796,\n",
       " '>BJCJ/ (Abishai)': 0.0007686665909345166,\n",
       " '>BJDN/ (Abidan)': 0.0,\n",
       " '>BJGJL/ (Abigail)': 0.00162053584226048,\n",
       " '>BJH/ (Abijah)': 0.00102417745255968,\n",
       " '>BJHW/ (Abijah)': 0.001185404308007877,\n",
       " '>BJHW>/ (Abihu)': 0.0008004190639039392,\n",
       " '>BJM/ (Abijah)': 0.0011613916209203285,\n",
       " '>BJMLK/ (Abimelech)': 0.002701807044737928,\n",
       " '>BJNDB/ (Abinadab)': 0.0009376641189481591,\n",
       " '>BJRM/ (Abiram)': 0.00038042702965244003,\n",
       " '>BJTR/ (Abiathar)': 0.0007292924935914386,\n",
       " '>BJVWB/ (Abitub)': 0.0,\n",
       " '>BJWN/ (poor)': 0.0,\n",
       " '>BL/ (Abel)': 0.0,\n",
       " '>BL==/ (mourning rites)': 0.0013333807793770567,\n",
       " '>BL===/ (mourning)': 0.0,\n",
       " '>BL====/ (canal)': 0.0,\n",
       " '>BL_BJT_M<KH/ (Abel-beth-maacah)': 0.0009175065283292858,\n",
       " '>BL_KRMJM/ (Abel Keramim)': 0.0,\n",
       " '>BL_MJM/ (Abel Maim)': 0.00086582771194974,\n",
       " '>BL_MYRJM/ (Abel Mizraim)': 0.0,\n",
       " '>BN/ (stone)': 0.00021181539598133403,\n",
       " '>BNR/ (Abner)': 0.0031458539421508063,\n",
       " '>BNV/ (scarf)': 0.0,\n",
       " '>BN_H<ZR/ (Ebenezer)': 0.0,\n",
       " '>BRHM/ (Abraham)': 0.0026683337757624236,\n",
       " '>BRM/ (Abram)': 0.0020800879213655004,\n",
       " '>BT/ (Oboth)': 0.0,\n",
       " '>BYN/ (Ibzan)': 0.0014331441926082507,\n",
       " '>C/ (fire)': 0.000588789131373564,\n",
       " '>CB<L/ (Esh-Baal)': 0.0,\n",
       " '>CD/ (slope)': 0.0,\n",
       " '>CDWD/ (Ashdod)': 0.00046870261851307543,\n",
       " '>CDWDJ/ (from Ashdod)': 0.0003349385941595183,\n",
       " '>CH/ (woman)': 0.002326971094410982,\n",
       " '>CH=/ (fire offering)': 0.0010654555207930453,\n",
       " '>CJCH/ (raisin cake)': 0.0,\n",
       " '>CJM>/ (Ashima)': 0.0003635372815813545,\n",
       " '>CKWL/ (grape)': 0.0,\n",
       " '>CL/ (tamarisk)': 0.0,\n",
       " '>CM/ (guilt)': 0.0004413792022846945,\n",
       " '>CMH/ (guiltiness)': 0.0002157417075305051,\n",
       " '>CMRT/ (night watch)': 0.0,\n",
       " '>CNB/ (window)': 0.0,\n",
       " '>CP/ (conjurer)': 0.0,\n",
       " '>CPH/ (quiver)': 0.0,\n",
       " '>CPNZ/ (Ashpenaz)': 0.00031733281928085657,\n",
       " '>CPR/ (<type of cake>)': 0.0,\n",
       " '>CQLWN/ (Ashkelon)': 0.0007140376549052547,\n",
       " '>CR==/ (Asher)': 0.0008712207691978489,\n",
       " '>CRH/ (asherah)': 0.0005490465080050158,\n",
       " '>CRJ/ (from Asher)': 0.00100975870427669,\n",
       " '>CR[ (walk straight)': 0.0,\n",
       " '>CT>L/ (Eshtaol)': 0.0,\n",
       " '>CT>LJ/ (Eshtaolite)': 0.0010216798170383542,\n",
       " '>CWR/ (Asshur)': 0.0002061879879481798,\n",
       " '>CWR=/ (step)': 0.0,\n",
       " '>CWRJ/ (Ashurite)': 0.0,\n",
       " '>CXWR/ (Ashhur)': 0.0,\n",
       " '>DD/ (Hadad)': 0.0,\n",
       " '>DJR/ (mighty)': 0.0007906282953513248,\n",
       " '>DM/ (human, mankind)': 0.0012255782944395842,\n",
       " '>DM===/ (Adam)': 0.0005714324101961737,\n",
       " '>DM====/ (Adam)': 0.0,\n",
       " '>DMH/ (soil)': 0.0005166223303581594,\n",
       " '>DMH=/ (Admah)': 0.0,\n",
       " '>DMJ/ (Edomite)': 0.0012021364906425012,\n",
       " '>DMNJ/ (red)': 0.0,\n",
       " '>DMT>/ (Admatha)': 0.0,\n",
       " '>DN/ (pedestal)': 0.00021216295961405278,\n",
       " '>DNJ/ (Lord)': 0.001755689511732618,\n",
       " '>DNJH/ (Adonijah)': 0.0,\n",
       " '>DNJHW/ (Adonijah)': 0.0015081531331410391,\n",
       " '>DNJRM/ (Adoniram)': 0.0,\n",
       " '>DNJ_BZQ/ (Adoni-Bezek)': 0.0015157433742765613,\n",
       " '>DNJ_YDQ/ (Adoni-Zedek)': 0.001275756635546317,\n",
       " '>DR<J/ (Edrei)': 0.0,\n",
       " '>DR===/ (<town>)': 0.0,\n",
       " '>DRKWN/ (<currency unit>)': 0.00016972407101087535,\n",
       " '>DRM/ (Adoniram)': 0.0,\n",
       " '>DRMLK/ (<Assyrian god>)': 0.0,\n",
       " '>DRMLK=/ (Adrammelech)': 0.000753886328070847,\n",
       " '>DRT/ (splendour)': 0.00045191330149561024,\n",
       " '>DW/ (Iddo)': 0.0002098410988233398,\n",
       " '>DWM/ (Edom)': 0.0013095972761022682,\n",
       " '>DWN/ (lord)': 0.0019409769669893942,\n",
       " '>GG/ (Agag)': 0.0009481002782203939,\n",
       " '>GN/ (bowl)': 0.0,\n",
       " '>GRT/ (letter)': 6.339356616828724e-05,\n",
       " '>HBH/ (love)': 0.0,\n",
       " '>HB[ (love)': 6.0419288096269164e-05,\n",
       " '>HL/ (tent)': 0.0006829004556825162,\n",
       " '>HLH/ (Oholah)': 0.0003957158136659512,\n",
       " '>HLJ>B/ (Oholiab)': 0.00047976135596702554,\n",
       " '>HLJBH/ (Oholibah)': 0.0011400929786434912,\n",
       " '>HLJBMH/ (<wife of Esau>)': 0.0,\n",
       " '>HRN/ (Aaron)': 0.0017953457774147628,\n",
       " '>HWD/ (Ehud)': 0.001537919606718467,\n",
       " '>JB[ (be hostile)': 0.0006906966990261983,\n",
       " '>JC/ (man)': 0.0032537249407570104,\n",
       " '>JC_BCT/ (Ish-Bosheth)': 0.0015419879524518109,\n",
       " '>JKBWD/ (Ichabod)': 0.0,\n",
       " '>JL=/ (ram, despot)': 0.0005579484224459618,\n",
       " '>JL===/ (pillar)': 4.9845045144373375e-05,\n",
       " '>JLH/ (doe)': 0.0,\n",
       " '>JLM/ (porch)': 0.0002818121029251825,\n",
       " '>JLM=/ (Elim)': 0.0,\n",
       " '>JLT/ (Elath)': 0.00041254313068735636,\n",
       " '>JLWN/ (<judge>)': 0.0009117454065089646,\n",
       " '>JLWN==/ (Aijalon)': 0.0008546830423432864,\n",
       " '>JMH/ (fright)': 0.0,\n",
       " '>JN/ (<NEG>)': 0.0,\n",
       " '>JPH/ (ephah)': 8.10057729193414e-05,\n",
       " '>JTMR/ (Ithamar)': 0.00017184636889008254,\n",
       " '>JTN/ (ever-flowing)': 0.0,\n",
       " '>JTN=/ (Ethan)': 0.0,\n",
       " '>JWB/ (Job)': 0.0017707538357109665,\n",
       " '>JZBL/ (Jezebel)': 0.001758179262554162,\n",
       " '>KJC/ (Achish)': 0.0012320521797477408,\n",
       " '>KL/ (food)': 0.0001522593650815175,\n",
       " '>KL[ (eat)': 0.0,\n",
       " '>KR/ (farmer)': 0.0,\n",
       " '>KZJB/ (Aczib)': 0.0,\n",
       " '>L (to)': 0.0,\n",
       " '>L/ (god)': 0.00033092433092338973,\n",
       " '>L<FH/ (Elasah)': 0.0,\n",
       " '>L<LH/ (Elealeh)': 0.0009412928892371008,\n",
       " '>L<ZR/ (Eleazar)': 0.0015596061200306077,\n",
       " '>L=== (these)': 0.0,\n",
       " '>LH (these)': 0.0010006382124354506,\n",
       " '>LH/ (big tree)': 0.0,\n",
       " '>LH=/ (curse)': 0.0,\n",
       " '>LH===/ (Elah)': 0.0006222142488843465,\n",
       " '>LHJM/ (god(s))': 0.0028939540519352103,\n",
       " '>LJ<ZR/ (Eliezer)': 0.0004898972582039108,\n",
       " '>LJ>B/ (Eliab)': 0.0008651804391076126,\n",
       " '>LJC</ (Elisha)': 0.002728294085130483,\n",
       " '>LJCB</ (Elisheba)': 0.00014121813996562226,\n",
       " '>LJCJB/ (Eliashib)': 0.001076329124866186,\n",
       " '>LJCM</ (Elishama)': 0.0,\n",
       " '>LJH/ (fat tail)': 0.0002651456187942583,\n",
       " '>LJH=/ (Elijah)': 0.0009556143183295855,\n",
       " '>LJHW/ (Elijah)': 0.002161479540510445,\n",
       " '>LJHW>/ (Elihu)': 0.0010378859418143681,\n",
       " '>LJL/ (god)': 0.0,\n",
       " '>LJMLK/ (Elimelech)': 0.00045364531924406166,\n",
       " '>LJPZ/ (Eliphaz)': 0.0006127887845446433,\n",
       " '>LJQJM/ (Eliakim)': 0.001079853695748087,\n",
       " '>LJSP/ (Eliasaph)': 0.0,\n",
       " '>LJXRP/ (Elihoreph)': 0.0,\n",
       " '>LJYWR/ (Elizur)': 0.0,\n",
       " '>LMH/ (sheaf)': 0.0012912583937041689,\n",
       " '>LMNH/ (widow)': 0.0,\n",
       " '>LNTN/ (Elnathan)': 0.0008986076400935683,\n",
       " '>LP<L/ (Elpaal)': 0.0,\n",
       " '>LP=/ (thousand)': 9.367157872378235e-05,\n",
       " '>LP==/ (group of thousand)': 0.00035186845314786534,\n",
       " '>LQNH/ (Elkanah)': 0.0014123612695719444,\n",
       " '>LWC/ (Alush)': 0.0,\n",
       " '>LWH/ (god)': 0.0,\n",
       " '>LWN/ (big tree)': 0.0,\n",
       " '>LWN=/ (big tree)': 7.228107629724454e-05,\n",
       " '>LWP/ (chief)': 0.001466903997435356,\n",
       " '>LXNN/ (Elhanan)': 0.0004456995178284586,\n",
       " '>LYPN/ (Elizaphan)': 0.0007287505204526287,\n",
       " '>M/ (mother)': 0.001962799154299913,\n",
       " '>MC/ (yesterday evening)': 0.0,\n",
       " '>MH/ (handmaid)': 0.0,\n",
       " '>MH=/ (cubit)': 0.0,\n",
       " '>MNH/ (door-post)': 0.0,\n",
       " '>MNWN/ (Amnon)': 0.0011073227143016831,\n",
       " '>MN[ (be firm)': 0.00035452538923861824,\n",
       " '>MRH/ (word)': 0.0,\n",
       " '>MRJ/ (Amorite)': 0.0010572220856311506,\n",
       " '>MT/ (trustworthiness)': 8.744863353256646e-05,\n",
       " '>MTXT/ (sack)': 0.0,\n",
       " '>MWN=/ (fondling)': 0.0,\n",
       " '>MWN==/ (Amon)': 0.0003203745207091551,\n",
       " '>MWNH/ (steadiness)': 0.0,\n",
       " '>MY=/ (piebald)': 0.0010216798170383542,\n",
       " '>MYJH/ (Amaziah)': 0.0013651237753857296,\n",
       " '>MYJHW/ (Amaziah)': 0.002714521341669865,\n",
       " '>NJ (i)': 0.001363264374128704,\n",
       " '>NJ/ (ship)': 0.0008951616114606411,\n",
       " '>NJH/ (ship)': 0.0007205320106217416,\n",
       " '>NJH=/ (mourning)': 0.0,\n",
       " '>NKJ (i)': 0.00020845186231039804,\n",
       " '>NWC/ (man)': 0.0,\n",
       " '>NWC==/ (Enosh)': 0.0,\n",
       " '>NXNW (we)': 0.0,\n",
       " '>P/ (nose)': 0.0005696526793005389,\n",
       " '>PD/ (ephod)': 0.0007636620508657745,\n",
       " '>PH/ (baker)': 0.0,\n",
       " '>PJQ/ (stream)': 0.00030456086395692645,\n",
       " '>PJQ==/ (Aphek)': 0.0,\n",
       " '>PL=/ (darkness)': 0.00020036802202730118,\n",
       " '>PLL/ (Ephlal)': 0.0,\n",
       " '>PQ/ (Aphek)': 0.0,\n",
       " '>PR/ (dust)': 0.0004115247047870581,\n",
       " '>PR=/ (band)': 0.0,\n",
       " '>PRJM/ (Ephraim)': 0.0005569824380745988,\n",
       " '>PRT/ (Ephrath)': 0.00019433570249338878,\n",
       " '>PS/ (end)': 0.0002865262730560522,\n",
       " '>RB</ (four)': 0.00017376794618012944,\n",
       " '>RB=/ (ambush)': 0.0,\n",
       " '>RBH/ (locust)': 0.0006045215122416387,\n",
       " '>RBH=/ (hole)': 0.0,\n",
       " '>RB[ (lie in ambush)': 0.00039565686344057065,\n",
       " '>RGB/ (Argob)': 0.0,\n",
       " '>RGMN/ (purple-wool)': 8.282497369072659e-05,\n",
       " '>RGZ/ (saddle-bag)': 0.0005264173567776124,\n",
       " '>RG[ (weave)': 0.0003635372815813545,\n",
       " '>RJ/ (lion)': 0.00017394640874214773,\n",
       " '>RJ>L==/ (Ariel)': 0.001131385306236146,\n",
       " '>RJH/ (lion)': 0.0012925593842367045,\n",
       " '>RJH=/ (Arieh)': 0.0,\n",
       " '>RK=/ (length)': 0.0,\n",
       " '>RM/ (Aram)': 0.0010946832626531817,\n",
       " '>RMJ/ (Aramean)': 0.0008560707834484254,\n",
       " '>RMWN/ (dwelling tower)': 0.0004996632349958952,\n",
       " '>RM_M<KH/ (Aram Maacah)': 0.0,\n",
       " '>RM_NHRJM/ (Mesopotamia)': 0.0,\n",
       " '>RNN=/ (Ornan)': 0.0011383948533934046,\n",
       " '>RNWN/ (Arnon)': 0.0,\n",
       " '>RPKCD/ (Arpachshad)': 0.0,\n",
       " '>RT/ (mallow <flower>)': 0.0,\n",
       " '>RTXCFT>/ (Artaxerxes)': 0.0,\n",
       " '>RWH/ (stall)': 0.0,\n",
       " '>RWKH/ (healing)': 0.0009743012323063773,\n",
       " '>RWMH/ (Arumah)': 0.0,\n",
       " '>RWN/ (ark)': 0.0012597914416987513,\n",
       " '>RWNH/ (Araunah)': 0.0008212119485676327,\n",
       " '>RX/ (path)': 0.0,\n",
       " '>RXH/ (caravan)': 0.0,\n",
       " '>RXH=/ (sustenance)': 7.365447852907373e-05,\n",
       " '>RX[ (wander)': 0.0011462779979926486,\n",
       " '>RY/ (earth)': 0.0016046962838498118,\n",
       " '>RZ/ (cedar)': 9.976197894990368e-05,\n",
       " '>S>/ (Asa)': 0.0017114658874671995,\n",
       " '>SJR/ (prisoner)': 0.0002871073109591642,\n",
       " '>SNT/ (Asenath)': 0.00012699254297603063,\n",
       " '>SP==/ (Asaph)': 0.0,\n",
       " '>SPSP/ (cluster)': 0.0,\n",
       " '>SR_XDN/ (Esarhaddon)': 0.0006222142488843465,\n",
       " '>STR/ (Esther)': 0.0016277683081003598,\n",
       " '>SWR/ (fetter)': 0.0,\n",
       " '>T/ (ploughshare)': 0.0,\n",
       " '>T= (you)': 0.0,\n",
       " '>T== (together with)': 0.00027178085050824565,\n",
       " '>TH (you)': 0.0011490201587795452,\n",
       " '>TJ/ (Ittai)': 0.0012617577557191783,\n",
       " '>TM (you)': 0.0008935948357341484,\n",
       " '>TM/ (Etham)': 0.0,\n",
       " '>TNN/ (gift)': 9.559156359460949e-05,\n",
       " '>TRJM/ (Atharim)': 0.0,\n",
       " '>TWN/ (she-ass)': 0.0006458383042024537,\n",
       " '>VD/ (thorny bush)': 0.0014026433856591668,\n",
       " '>WB/ (spirit of dead)': 7.378149370524943e-05,\n",
       " '>WDWT/ (inducement)': 0.000444769623258354,\n",
       " '>WJL_MRDK/ (Evil-merodach)': 0.0006452860701514731,\n",
       " '>WLJ=/ (Ulai)': 0.0,\n",
       " '>WN=/ (wickedness)': 0.0010112578090269479,\n",
       " '>WN===/ (On)': 0.0007729732090463765,\n",
       " '>WNN/ (Onan)': 0.0014031171527193922,\n",
       " '>WNW/ (Ono)': 0.0,\n",
       " '>WPJR/ (<land of gold>)': 0.0,\n",
       " '>WPN/ (wheel)': 0.00030120853852746586,\n",
       " '>WR/ (light)': 0.00012902856225929557,\n",
       " '>WR==/ (<oracle device>)': 0.0007558394792308216,\n",
       " '>WR===/ (Ur)': 0.0,\n",
       " '>WRJ/ (Uri)': 0.0,\n",
       " '>WRJH/ (Uriah)': 0.002444777689240064,\n",
       " '>WRJHW/ (Uriah)': 0.0013971798732265958,\n",
       " '>WR[ (be light)': 0.0,\n",
       " '>WT/ (sign)': 0.0002121179310512268,\n",
       " '>WYR/ (supply)': 0.0007991970797261524,\n",
       " '>X/ (brother)': 0.00207807369527708,\n",
       " '>X>B/ (Ahab)': 0.0031964856077071227,\n",
       " '>XBN/ (Ahban)': 0.0,\n",
       " '>XCDRPN/ (satrap)': 0.0010805951473164587,\n",
       " '>XCTRJ/ (Ahashtarite)': 0.0,\n",
       " '>XD/ (one)': 0.0005833268060680127,\n",
       " '>XJ<ZR/ (Ahiezer)': 0.0,\n",
       " '>XJH/ (Ahijah)': 0.0006849134690581579,\n",
       " '>XJHW/ (Ahijah)': 0.0007330455227956976,\n",
       " '>XJM<Y/ (Ahimaaz)': 0.0011111396381457517,\n",
       " '>XJMLK/ (Ahimelech)': 0.0008096277774101978,\n",
       " '>XJMN/ (Ahiman)': 0.0003260160627382767,\n",
       " '>XJN<M/ (Ahinoam)': 0.0003523252264796178,\n",
       " '>XJNDB/ (Ahinadab)': 0.0,\n",
       " '>XJQM/ (Ahikam)': 0.0008848111479283774,\n",
       " '>XJR</ (Ahira)': 0.0,\n",
       " '>XJTPL/ (Ahithophel)': 0.0004678441173139404,\n",
       " '>XJW/ (Ahio)': 0.0,\n",
       " '>XJXD/ (Ahihud)': 0.0,\n",
       " '>XLB/ (Ahlab)': 0.0,\n",
       " '>XR/ (after)': 0.0,\n",
       " '>XR=/ (other)': 0.0,\n",
       " '>XRJT/ (end)': 0.000486164103610436,\n",
       " '>XRNJT (backwards)': 0.0,\n",
       " '>XW/ (reed)': 0.0,\n",
       " '>XWH/ (brotherhood)': 0.0,\n",
       " '>XWR/ (back(wards))': 0.0,\n",
       " '>XWT/ (sister)': 0.0002550717619989921,\n",
       " '>XZ=/ (Ahaz)': 0.0011768022685714205,\n",
       " '>XZH/ (land property)': 7.171086309565033e-05,\n",
       " '>XZJH/ (Ahaziah)': 0.0007756593514139688,\n",
       " '>XZJHW/ (Ahaziah)': 0.0023278849999722267,\n",
       " '>XZM/ (Ahuzzam)': 0.0,\n",
       " '>XZT/ (Ahuzzath)': 0.0,\n",
       " '>XZ[ (seize)': 0.0003523252264796178,\n",
       " '>Y<DH/ (bracelet)': 0.0003523252264796178,\n",
       " '>YB</ (finger)': 0.0,\n",
       " '>YJL=/ (noble)': 0.0015643597893379333,\n",
       " '>YL/ (side)': 0.0,\n",
       " '>Z (then)': 0.0,\n",
       " '>ZN/ (ear)': 0.00020565734854424583,\n",
       " '>ZN_C>RH/ (Uzzen Sheerah)': 0.0,\n",
       " '>ZR</ (arm)': 0.0,\n",
       " '>ZWR/ (loin-cloth)': 5.7034568419616405e-05,\n",
       " 'B<C>/ (Baasha)': 0.0015856385834428592,\n",
       " 'B<JR/ (cattle)': 0.0,\n",
       " 'B<L/ (lord, baal)': 0.0008970526663633965,\n",
       " 'B<LH=/ (Baalah)': 0.0,\n",
       " 'B<LJ_JHWDH/ (Baalah of Judah)': 0.0,\n",
       " 'B<L_BRJT/ (Baal-Berith)': 0.0,\n",
       " 'B<L_M<WN/ (Baal Meon)': 0.0007717968909934777,\n",
       " 'B<L_P<WR/ (Baal Peor)': 0.0,\n",
       " 'B<L_PRYJM/ (Baal Perazim)': 0.0,\n",
       " 'B<L_TMR/ (Baal Tamar)': 0.0,\n",
       " 'B<L_XNN/ (Baal-Hanan)': 0.0009991860997276443,\n",
       " 'B<N>/ (Baana)': 0.0,\n",
       " 'B<NH/ (Baanah)': 0.0006325191513558416,\n",
       " 'B<Z/ (Boaz)': 0.001817780918900243,\n",
       " 'B<Z=/ (Boaz)': 0.0,\n",
       " 'B>C/ (stench)': 0.0003839287521150778,\n",
       " 'B>C=/ (rotten berry)': 0.0003635372815813545,\n",
       " 'B>R/ (well)': 0.00040941804898303284,\n",
       " 'B>R=/ (Beer)': 0.0,\n",
       " 'B>RTJ/ (Beerothite)': 0.0,\n",
       " 'BBL/ (Babel)': 0.000192458034743337,\n",
       " 'BCLM/ (Bishlam)': 0.0,\n",
       " 'BCN/ (Bashan)': 7.968495150091421e-05,\n",
       " 'BCT/ (shame)': 0.0,\n",
       " 'BD/ (linen, part, stave)': 3.741887819115711e-05,\n",
       " 'BDD/ (alone)': 0.0,\n",
       " 'BDN/ (Bedan)': 0.0,\n",
       " 'BDQ/ (breach)': 0.0,\n",
       " 'BDQR/ (Bidkar)': 0.00019891613797481494,\n",
       " 'BFM/ (balsam-tree)': 0.0003437806636829231,\n",
       " 'BFMT/ (Basemath)': 0.00012685736170444393,\n",
       " 'BFR/ (flesh)': 0.0004739675981038124,\n",
       " 'BFRH/ (report)': 0.0005096783926078877,\n",
       " 'BFR[ (announce)': 0.0010503748163009986,\n",
       " 'BGD/ (garment)': 0.00044866679338364705,\n",
       " 'BGD=/ (treachery)': 0.0,\n",
       " 'BGD[ (deal treacherously)': 0.0,\n",
       " 'BGTN/ (Bigthana)': 0.0005705767195333334,\n",
       " 'BGWD/ (treacherous)': 0.0007250482159934706,\n",
       " 'BHLH/ (terror)': 0.0,\n",
       " 'BHMH/ (cattle)': 2.3983748346290755e-05,\n",
       " 'BHN/ (thumb)': 0.0,\n",
       " 'BHWN/ (thumb)': 0.0,\n",
       " 'BJN/ (interval)': 0.00026089085327769053,\n",
       " 'BJNH/ (understanding)': 0.0,\n",
       " 'BJRNJH/ (fortified place)': 0.0011401718166738895,\n",
       " 'BJT/ (house)': 0.0019342341521893646,\n",
       " 'BJT_>L/ (Bethel)': 0.00029581390717657536,\n",
       " 'BJT_>WN/ (Beth Aven)': 0.0,\n",
       " 'BJT_C>N/ (Beth Shan)': 0.0004740856830262039,\n",
       " 'BJT_CMC/ (Beth Shemesh)': 0.00048808993067323226,\n",
       " 'BJT_H<RBH/ (Beth Arabah)': 0.0,\n",
       " 'BJT_HCVH/ (Beth Shittah)': 0.0,\n",
       " 'BJT_HGN/ (Beth Haggan)': 0.0,\n",
       " 'BJT_HJCMWT/ (Beth Jeshimoth)': 0.0,\n",
       " 'BJT_LXM/ (Bethlehem)': 0.0,\n",
       " 'BJT_XGLH/ (Beth Hoglah)': 0.0,\n",
       " 'BJT_XWRWN/ (Beth Horon)': 0.0,\n",
       " 'BJYH/ (egg)': 0.0,\n",
       " 'BKJ/ (weeping)': 0.0,\n",
       " 'BKJM/ (Bokim)': 0.0,\n",
       " 'BKJRH/ (first-born woman)': 0.000656040689472401,\n",
       " 'BKR/ (first-born)': 0.00048058427107949315,\n",
       " 'BKRH/ (right of first-born)': 6.348682337881079e-05,\n",
       " 'BL<==/ (Bela)': 0.0010207264104733422,\n",
       " 'BL<DJ (without)': 0.0,\n",
       " 'BL<M/ (<prophet>)': 0.002653462658658581,\n",
       " 'BLDD/ (Bildad)': 0.0005630385080464767,\n",
       " 'BLH/ (worn out)': 0.0010156734652476322,\n",
       " 'BLHH=/ (<mother of Dan Naphtali>)': 9.45337860068803e-05,\n",
       " 'BLJ/ (destruction)': 0.0,\n",
       " 'BLQ/ (Balak)': 0.0031203494547747154,\n",
       " 'BLT/ (failure)': 0.0,\n",
       " 'BLVC>YR/ (Belteshazzar)': 0.0,\n",
       " 'BLWJ/ (waste)': 7.467390677449029e-05,\n",
       " 'BMH/ (high place)': 2.9903992393577347e-05,\n",
       " 'BMWT_B<L/ (Bamoth Baal)': 0.0,\n",
       " 'BN/ (son)': 0.0030743250287265447,\n",
       " 'BN<>/ (Binea)': 0.0,\n",
       " 'BNH[ (build)': 0.000788312373256549,\n",
       " 'BNJ/ (Bani)': 0.0009623210821542753,\n",
       " 'BNJ=/ (Bunni)': 0.0009623210821542753,\n",
       " 'BNJH/ (building)': 0.0,\n",
       " 'BNJHW/ (Benaiah)': 0.0009488931445647424,\n",
       " 'BNJMN/ (Benjamin)': 0.0009956114382784875,\n",
       " 'BNJ_J<QN/ (Bene Jaakan)': 0.0,\n",
       " 'BNWJ/ (Binnui)': 0.0,\n",
       " 'BN_<MJ/ (Ben-Ammi)': 0.0,\n",
       " 'BN_>WNJ/ (Ben-Oni)': 0.0,\n",
       " 'BN_HDD/ (Ben-Hadad)': 0.0022373583945061236,\n",
       " 'BQ<H/ (valley)': 0.0005573250224240565,\n",
       " 'BQBQJH/ (Bakbukiah)': 0.0,\n",
       " 'BQCH/ (request)': 0.0005096783926078877,\n",
       " 'BQJ</ (breach)': 0.0004935541319974075,\n",
       " 'BQR/ (cattle)': 0.0005956426913781356,\n",
       " 'BQR=/ (morning)': 0.0,\n",
       " 'BR/ (grain)': 0.0,\n",
       " 'BR</ (Bera)': 0.0008167958462922524,\n",
       " 'BR=/ (cleanness)': 0.0,\n",
       " 'BRC</ (Birsha)': 0.0008167958462922524,\n",
       " 'BRD/ (hail)': 0.0003087520598066314,\n",
       " 'BRJ<H/ (Beriah)': 0.0,\n",
       " 'BRJT/ (covenant)': 8.417016302046859e-05,\n",
       " 'BRJX/ (bar)': 0.00012141805906370242,\n",
       " 'BRK/ (knee)': 0.0,\n",
       " 'BRKH/ (blessing)': 6.637221142987034e-05,\n",
       " 'BRKH=/ (pool)': 0.0,\n",
       " 'BRQ/ (lightning)': 0.00011818676385490356,\n",
       " 'BRQ=/ (Barak)': 0.0005770289326997541,\n",
       " 'BRQNJM/ (<uncertain>)': 0.0003523252264796178,\n",
       " 'BRTJ/ (Berothai)': 0.0,\n",
       " 'BRWK/ (Baruch)': 0.0016614695601898468,\n",
       " 'BRWT/ (bread of consolation)': 0.0,\n",
       " 'BRZL/ (iron)': 7.664599903030089e-05,\n",
       " 'BRZLJ/ (Barzillai)': 0.0011316101749595366,\n",
       " 'BT/ (daughter)': 0.0016730664330062526,\n",
       " 'BTR/ (piece)': 0.00012431355440174576,\n",
       " 'BTRWN/ (gully)': 0.0,\n",
       " 'BTW>L/ (<father of Laban>)': 0.0003880520795980033,\n",
       " 'BTWLH/ (virgin)': 0.0,\n",
       " 'BTWLJM/ (virginity)': 0.000478246899908888,\n",
       " 'BT_CB</ (Bathsheba)': 0.0005289525127719081,\n",
       " 'BVN/ (belly)': 0.0007996869278891349,\n",
       " 'BVX/ (trust)': 0.0009887377450628152,\n",
       " 'BVX=/ (Tebah)': 0.0,\n",
       " 'BW>[ (come)': 0.00010985519206201153,\n",
       " 'BWR/ (cistern)': 0.00014154045351116135,\n",
       " 'BWY/ (byssus cloth)': 0.0003635372815813545,\n",
       " 'BXRJM=/ (Bahurim)': 0.0,\n",
       " 'BXR[ (examine)': 0.0013615948024084529,\n",
       " 'BXWR/ (young man)': 0.00035776869144451255,\n",
       " 'BY</ (profit)': 0.0,\n",
       " 'BYL>L/ (Bezalel)': 0.0008547646155235042,\n",
       " 'BYQ/ (dough)': 8.25614843914766e-05,\n",
       " 'BYR=/ (<place of refuge>)': 0.0005096783926078877,\n",
       " 'BZH/ (spoil)': 0.0007873201291748781,\n",
       " 'BZQ=/ (Bezek)': 0.0,\n",
       " 'C<L/ (handful)': 0.0,\n",
       " 'C<LBJM/ (Shaalbim)': 0.0,\n",
       " 'C<P/ (Shaaph)': 0.0009608814010326878,\n",
       " 'C<R/ (gate)': 0.000880758212258968,\n",
       " 'C<R=/ (measure)': 0.000970963199281092,\n",
       " 'C>B[ (draw water)': 0.000621250541798366,\n",
       " 'C>GH/ (roaring)': 0.0,\n",
       " 'C>LH/ (request)': 0.0005096783926078877,\n",
       " 'C>R/ (body)': 0.0,\n",
       " 'C>R=/ (rest)': 0.000653037850789856,\n",
       " 'C>RJT/ (rest)': 0.0009048193894097651,\n",
       " 'C>R[ (remain)': 0.0009993431339297516,\n",
       " 'C>V/ (scorn)': 0.0,\n",
       " 'C>WL/ (nether world)': 0.0,\n",
       " 'C>WL=/ (Saul)': 0.004746053768696754,\n",
       " 'CB</ (seven)': 0.00046648241611363785,\n",
       " 'CB<=/ (Sheba)': 0.0006961675979152095,\n",
       " 'CB<H/ (Shibah)': 0.0,\n",
       " 'CB<NH/ (twice seven)': 0.0,\n",
       " 'CB>/ (Sheba)': 0.0,\n",
       " 'CBH[ (take captive)': 0.0,\n",
       " 'CBJ/ (captive)': 0.00018896245149189152,\n",
       " 'CBJ=/ (Shobi)': 0.0,\n",
       " 'CBJH=/ (captives)': 0.0,\n",
       " 'CBJL/ (path)': 0.0,\n",
       " 'CBLT/ (grain)': 0.0,\n",
       " 'CBN>/ (Shebna)': 0.0006884421516564901,\n",
       " 'CBNH/ (Shebna)': 0.0003965717148338125,\n",
       " 'CBNJH/ (Shebaniah)': 0.0009623210821542753,\n",
       " 'CBNJHW/ (Shebaniah)': 0.0,\n",
       " 'CBR/ (breaking)': 0.0,\n",
       " 'CBR=/ (corn)': 0.0,\n",
       " 'CBR==/ (interpretation)': 0.0,\n",
       " 'CBR===/ (Sheber)': 0.000498070602785631,\n",
       " 'CBT/ (sabbath)': 5.006282972235578e-05,\n",
       " 'CBT=/ (inaction)': 0.0,\n",
       " 'CBTJ/ (Shabbethai)': 0.0,\n",
       " 'CBV/ (rod)': 0.0016490560405700643,\n",
       " 'CBW</ (week)': 0.0,\n",
       " 'CBW<H/ (oath)': 0.0,\n",
       " 'CBWT/ (captivity)': 0.0,\n",
       " 'CC/ (six)': 5.6047376315091156e-05,\n",
       " 'CC=/ (linen)': 7.72118591329558e-05,\n",
       " 'CCBYR/ (Sheshbazzar)': 0.0004626176578252267,\n",
       " 'CCJ=/ (Sheshai)': 0.0003260160627382767,\n",
       " 'CCN/ (Sheshan)': 0.0011717710613993416,\n",
       " 'CD=/ (breast)': 0.0,\n",
       " 'CD==/ (demon)': 0.0,\n",
       " 'CDD[ (despoil)': 0.0,\n",
       " 'CJBH/ (<uncertain>)': 0.0,\n",
       " 'CJCQ/ (Shishak)': 0.0006938046945949359,\n",
       " 'CJR/ (song)': 7.006149620450624e-05,\n",
       " 'CJRH/ (song)': 0.0,\n",
       " 'CJR[ (sing)': 0.0007721970584473098,\n",
       " 'CJXWR/ (Shihor)': 0.0,\n",
       " 'CKBH/ (lying down)': 0.0003164286401253026,\n",
       " 'CKBT/ (copulation)': 0.0005096783926078877,\n",
       " 'CKM/ (shoulder)': 0.0,\n",
       " 'CKM=/ (Shechem)': 0.00010403423189852997,\n",
       " 'CKM==/ (Shechem)': 0.0023689759023210835,\n",
       " 'CKN/ (inhabitant)': 0.001110734444014172,\n",
       " 'CKNJH/ (Shecaniah)': 0.0008353488183935097,\n",
       " 'CKR=/ (strong drink)': 0.0,\n",
       " 'CKRWN=/ (Shikkeron)': 0.0,\n",
       " 'CKWR/ (drunk)': 0.0,\n",
       " 'CL/ (<uncertain>)': 0.0,\n",
       " 'CLC/ (three)': 0.0006860895501372093,\n",
       " 'CLG/ (snow)': 0.0,\n",
       " 'CLH/ (Shiloh)': 0.0,\n",
       " 'CLH=/ (Shelah)': 0.001087266560096154,\n",
       " 'CLJ/ (quiet)': 0.0,\n",
       " 'CLJC=/ (adjutant)': 0.000709744012337128,\n",
       " 'CLJCJ/ (third)': 0.00023456384271601687,\n",
       " 'CLL/ (plunder)': 0.0003838367302300277,\n",
       " 'CLM/ (final offer)': 0.0004005783322651575,\n",
       " 'CLM=/ (complete)': 0.0,\n",
       " 'CLMH=/ (Solomon)': 0.0036708578545743328,\n",
       " 'CLMJ>L/ (Shelumiel)': 0.0,\n",
       " 'CLMJH/ (Shelemiah)': 0.0,\n",
       " 'CLMJHW/ (Shelemiah)': 0.0,\n",
       " 'CLMJT/ (Shelomith)': 0.0,\n",
       " 'CLMN>SR/ (Shalmaneser)': 0.0006957820532503785,\n",
       " 'CLV/ (shield)': 0.00037813230066406097,\n",
       " 'CLW=/ (Shiloh)': 0.0,\n",
       " 'CLWM/ (peace)': 0.00014187429530518425,\n",
       " 'CLWM==/ (Shallum)': 0.00022151952226394814,\n",
       " 'CLWN/ (Shallun)': 0.0,\n",
       " 'CLWXJM/ (act of sending)': 0.00011399909850979656,\n",
       " 'CLX/ (missile)': 0.0003635372815813545,\n",
       " 'CLX==/ (Shelah)': 0.0,\n",
       " 'CLXN/ (table)': 0.00016773031332793897,\n",
       " 'CM (there)': 0.0,\n",
       " 'CM/ (name)': 0.0002237215073761877,\n",
       " 'CM</ (hearsay)': 0.0,\n",
       " 'CM<===/ (Shema)': 0.0006923828546104432,\n",
       " 'CM<J=/ (Shimei)': 0.0012770457537327085,\n",
       " 'CM<JH/ (Shemaiah)': 0.0004881641428022479,\n",
       " 'CM<JHW/ (Shemaiah)': 0.000529665440647578,\n",
       " 'CM<WN/ (Simeon)': 0.0008152400341417094,\n",
       " 'CM=/ (Shem)': 0.0005415060064638403,\n",
       " 'CM>H/ (Shimeah)': 0.0,\n",
       " 'CMC/ (sun)': 0.0012149616201237684,\n",
       " 'CMCWN/ (Samson)': 0.0016712599917227482,\n",
       " 'CMGR/ (Shamgar)': 0.0,\n",
       " 'CMH/ (destruction)': 0.0005856180361282208,\n",
       " 'CMH=/ (Shammah)': 0.0011146774631097948,\n",
       " 'CMJ/ (Shammai)': 0.0,\n",
       " 'CMJM/ (heavens)': 0.00021277560694508085,\n",
       " 'CMJR=/ (diamond)': 0.0,\n",
       " 'CMJR==/ (Shamir)': 0.0,\n",
       " 'CMMH/ (desolation)': 0.0,\n",
       " 'CMM[ (be desolate)': 0.0,\n",
       " 'CMN/ (oil)': 0.00022839316688000503,\n",
       " 'CMNH/ (eight)': 0.0001586060637418386,\n",
       " 'CMRJH/ (Shemariah)': 0.0,\n",
       " 'CMRWN/ (Samaria)': 0.0003384129777196103,\n",
       " 'CMRWNJ/ (from Samaria)': 0.001085179944161854,\n",
       " 'CMR[ (keep)': 0.0004998206993697175,\n",
       " 'CMW</ (Shammua)': 0.0,\n",
       " 'CMW<H/ (report)': 0.0004073038221267472,\n",
       " 'CMW>L/ (Samuel)': 0.0030407264363224874,\n",
       " 'CMY/ (<uncertain>)': 0.0003523252264796178,\n",
       " 'CMYH/ (<uncertain>)': 0.0,\n",
       " 'CN/ (tooth)': 0.0,\n",
       " 'CN=/ (Shen)': 0.0,\n",
       " 'CNH/ (year)': 2.564038039593679e-05,\n",
       " 'CNH=/ (sleep)': 0.0,\n",
       " 'CNJ/ (second)': 0.0005154115859065088,\n",
       " 'CNJ=/ (scarlet)': 0.0,\n",
       " 'CNJM/ (two)': 0.0017033083380147665,\n",
       " 'CP<H/ (mass)': 0.00031928628201602333,\n",
       " 'CPJ/ (track)': 0.0,\n",
       " 'CPLH=/ (low land)': 0.0,\n",
       " 'CPN=/ (Shaphan)': 0.001442950363234032,\n",
       " 'CPV/ (judgment)': 0.0003635372815813545,\n",
       " 'CPV=/ (Shaphat)': 0.0,\n",
       " 'CPVJH/ (Shephatiah)': 0.0003580388979292539,\n",
       " 'CPV[ (judge)': 0.000737678081090436,\n",
       " 'CPWT/ (yogurt)': 0.0,\n",
       " 'CPWV/ (judgment)': 0.0003635372815813545,\n",
       " 'CPXH/ (maidservant)': 0.0009145563296139655,\n",
       " 'CQD/ (almond tree)': 0.0,\n",
       " 'CQL/ (shekel)': 0.00023086687729564562,\n",
       " 'CQMH/ (sycamore)': 0.0,\n",
       " 'CQP/ (<uncertain>)': 0.0,\n",
       " 'CQR/ (lie)': 0.0,\n",
       " 'CQT/ (watering trough)': 0.0,\n",
       " 'CQV[ (be at peace)': 0.0,\n",
       " 'CQWY/ (idol)': 0.0005377964404195774,\n",
       " 'CRBJH/ (Sherebiah)': 0.0009623210821542753,\n",
       " 'CRBJV/ (staff)': 0.0,\n",
       " 'CRC/ (root)': 0.0,\n",
       " 'CRCRH/ (chain)': 0.000264388951246306,\n",
       " 'CRJWN/ (scaly mail)': 0.0,\n",
       " 'CRQH=/ (whistling)': 0.0003925349027151209,\n",
       " 'CRRWT/ (stubbornness)': 0.0,\n",
       " 'CRT[ (serve)': 0.00019119331391813504,\n",
       " 'CT==/ (Seth)': 0.0,\n",
       " 'CTR/ (Shethar)': 0.0,\n",
       " 'CVJM/ (Shittim)': 0.0,\n",
       " 'CVR[ (register)': 0.0010468271857614197,\n",
       " 'CW<H/ (cry)': 0.0005515609941811667,\n",
       " 'CW<L/ (fox)': 0.0010791540093020272,\n",
       " 'CW<R/ (porter)': 0.00043765392291311993,\n",
       " 'CW>==/ (Sheva)': 0.0,\n",
       " 'CWBK/ (Shobach)': 0.00041727195103606217,\n",
       " 'CWB[ (return)': 0.0,\n",
       " 'CWCN=/ (Susa)': 0.0,\n",
       " 'CWH/ (plain)': 0.0,\n",
       " 'CWL/ (skirt)': 0.0,\n",
       " 'CWNM/ (Shunem)': 0.0,\n",
       " 'CWPK/ (Shophach)': 0.0007487158527387911,\n",
       " 'CWPR/ (horn)': 9.420229109463989e-05,\n",
       " 'CWQ/ (splint-bone)': 5.432784597413195e-05,\n",
       " 'CWR/ (bullock)': 3.2435058832848183e-05,\n",
       " 'CWR=/ (wall)': 0.0,\n",
       " 'CWR==/ (Shur)': 0.0,\n",
       " 'CWX/ (Shuah)': 0.0,\n",
       " 'CXD/ (present)': 0.00019197354736074572,\n",
       " 'CXJN/ (boil)': 0.0,\n",
       " 'CXQ/ (dust)': 0.0,\n",
       " 'CXR/ (dawn)': 0.0009743012323063773,\n",
       " 'CXRJM/ (Shaharaim)': 0.0,\n",
       " 'CXT/ (pit)': 0.0,\n",
       " 'CXWR/ (blackness)': 0.0,\n",
       " 'D</ (knowledge)': 0.0,\n",
       " 'D<T/ (knowledge)': 0.0,\n",
       " 'D>G/ (Doeg)': 0.0005475997636089787,\n",
       " 'DB/ (bear)': 0.0010216798170383542,\n",
       " 'DBC/ (honey)': 0.0,\n",
       " 'DBCT=/ (Dabbesheth)': 0.0,\n",
       " 'DBH/ (evil report)': 0.0007549699610463195,\n",
       " 'DBJR/ (backroom)': 0.0,\n",
       " 'DBJR=/ (Debir)': 0.0009890841455533813,\n",
       " 'DBLH/ (fig cake)': 8.688564166985686e-05,\n",
       " 'DBQ/ (glue)': 0.0,\n",
       " 'DBR/ (word)': 0.00047632605843134695,\n",
       " 'DBR=/ (pest)': 0.0002489865328780477,\n",
       " 'DBR=====/ (Debir)': 0.0005560287379387483,\n",
       " 'DBRT=/ (Daberath)': 0.0,\n",
       " 'DBR[ (speak)': 0.0,\n",
       " 'DBWRH/ (bee)': 0.001085179944161854,\n",
       " 'DBWRH=/ (Deborah)': 0.0007555134839973303,\n",
       " 'DC>/ (young grass)': 0.00041717578786885706,\n",
       " 'DCN/ (fatness)': 0.0,\n",
       " 'DD/ (breast)': 5.739952692335133e-05,\n",
       " 'DDN/ (Dedan)': 0.0,\n",
       " 'DG/ (fish)': 0.0001905484073931224,\n",
       " 'DGH/ (fish)': 0.0013314675410756101,\n",
       " 'DGL/ (banner)': 0.0,\n",
       " 'DGN/ (corn)': 7.036969151178375e-05,\n",
       " 'DGWN/ (Dagon)': 5.38636081655483e-05,\n",
       " 'DJ/ (sufficiency)': 0.0,\n",
       " 'DJBN/ (Dibon)': 0.0,\n",
       " 'DJNH/ (Dinah)': 0.0008985306776339595,\n",
       " 'DJQ/ (bulwark)': 0.0,\n",
       " 'DLH=/ (poor)': 0.0004390790213922361,\n",
       " 'DLJHW/ (Delaiah)': 0.0,\n",
       " 'DLJLH/ (Delilah)': 0.0016138716980851737,\n",
       " 'DLJT/ (foliage)': 0.0,\n",
       " 'DLT/ (door)': 2.7655884094917418e-05,\n",
       " 'DM/ (blood)': 0.0004090366014922678,\n",
       " 'DM<H/ (tear)': 0.0,\n",
       " 'DMFQ/ (Damascus)': 0.0,\n",
       " 'DMWT/ (likeness)': 0.0001480404664146673,\n",
       " 'DN/ (Dan)': 0.0004934201178144336,\n",
       " 'DNJ>L/ (Daniel)': 0.0008637727536041832,\n",
       " 'DPQH/ (Dophkah)': 0.0,\n",
       " 'DRBN/ (point)': 0.0,\n",
       " 'DRK/ (way)': 0.0005072889732991992,\n",
       " 'DRK[ (tread)': 0.0,\n",
       " 'DRMFQ/ (Damascus)': 0.0,\n",
       " 'DRWM/ (south)': 0.0,\n",
       " 'DRWR=/ (release)': 0.0,\n",
       " 'DT/ (orders)': 7.612764078991288e-05,\n",
       " 'DTN/ (Dothan)': 0.0,\n",
       " 'DTN=/ (Dathan)': 0.0004464898807266783,\n",
       " 'DWD/ (beloved one)': 0.0005511991381361968,\n",
       " 'DWD=/ (cooking pot)': 0.0,\n",
       " 'DWD==/ (David)': 0.0043906111300714215,\n",
       " 'DWDJ=/ (mandrake)': 0.000970963199281092,\n",
       " 'DWMFQ/ (Damascus)': 0.0,\n",
       " 'DWR/ (generation)': 0.00047120627320137575,\n",
       " 'F<JR/ (he-goat)': 4.6009162360917563e-05,\n",
       " 'F<JR=/ (demon)': 0.0,\n",
       " 'F<JR====/ (Seir)': 0.0,\n",
       " 'F<JRH=/ (Seirah)': 0.0,\n",
       " 'F<R/ (hair)': 0.0,\n",
       " 'F<RH/ (barley)': 6.995454959978116e-05,\n",
       " 'F>T=/ (swelling)': 0.0,\n",
       " 'FB</ (satiety)': 0.0,\n",
       " 'FB<=/ (sated)': 0.0,\n",
       " 'FBKH/ (net)': 0.0,\n",
       " 'FDH/ (open field)': 0.0006316148467498706,\n",
       " 'FDRH/ (<uncertain>)': 0.0,\n",
       " 'FFWN/ (rejoicing)': 0.0,\n",
       " 'FGWB/ (Segub)': 0.0,\n",
       " 'FHRNJM/ (<ornament>)': 0.0003523252264796178,\n",
       " 'FJB/ (age)': 0.0,\n",
       " 'FJBH/ (age)': 0.0,\n",
       " 'FJX/ (shrub)': 0.0,\n",
       " 'FK=/ (<uncertain>)': 0.0,\n",
       " 'FKL/ (insight)': 0.0,\n",
       " 'FKLWT/ (folly)': 0.0,\n",
       " 'FKR/ (hire)': 0.00016166270857584787,\n",
       " 'FLMH/ (wrapper)': 0.0,\n",
       " 'FLMH=/ (Salmon)': 0.0,\n",
       " 'FLMWN/ (Salmon)': 0.0,\n",
       " 'FLW/ (quail)': 0.00026641967148743515,\n",
       " 'FM>L/ (left-hand side)': 0.00014914914912698678,\n",
       " 'FMJKH/ (curtain)': 0.0,\n",
       " 'FMLH/ (mantle)': 4.314492906411689e-05,\n",
       " 'FMLH=/ (Samlah)': 0.0011045080274448955,\n",
       " 'FMX/ (joyful)': 0.0,\n",
       " 'FMXH/ (joy)': 0.00014365238893875254,\n",
       " 'FN>H/ (hatred)': 0.0,\n",
       " 'FN>[ (hate)': 0.0,\n",
       " 'FPH/ (lip)': 0.0002503046987084415,\n",
       " 'FPM/ (moustache)': 0.0003635372815813545,\n",
       " 'FQ/ (sack)': 9.123849157502063e-05,\n",
       " 'FQR[ (seduce)': 0.0,\n",
       " 'FR/ (chief)': 0.00365025129941165,\n",
       " 'FR>YR/ (Sharezer)': 0.0006583992271196265,\n",
       " 'FRH=/ (Sarah)': 0.0011969366885134182,\n",
       " 'FRJ/ (Sarai)': 0.0007079656995178656,\n",
       " 'FRJD/ (survivor)': 0.0,\n",
       " 'FRJD=/ (Sarid)': 0.0,\n",
       " 'FRJH/ (Seraiah)': 0.0003832793998075179,\n",
       " 'FRJHW/ (Seraiah)': 0.0004803083062305696,\n",
       " 'FRPH/ (burning)': 9.399821371509489e-05,\n",
       " 'FRP[ (burn)': 0.0,\n",
       " 'FRQ/ (grape)': 0.0,\n",
       " 'FRWG/ (Serug)': 0.0,\n",
       " 'FVN/ (adversary)': 0.0014279200608877972,\n",
       " 'FVNH/ (accusation)': 0.0,\n",
       " 'FVNH=/ (Sitnah)': 0.0,\n",
       " 'FWBK/ (network of boughs)': 0.0,\n",
       " 'FWK/ (<uncertain>)': 0.0,\n",
       " 'FWKH/ (brushwood)': 0.0,\n",
       " 'FWKH=/ (Socoh)': 0.00039683861636947315,\n",
       " 'FXJP/ (<uncertain>)': 0.0,\n",
       " 'G<L/ (loathing)': 0.0,\n",
       " 'G<L=/ (Gaal)': 0.0012258772980870242,\n",
       " 'G<RH/ (rebuke)': 0.0,\n",
       " 'G>LH/ (right of buying back)': 0.0,\n",
       " 'G>L[ (redeem)': 0.0004960974136626425,\n",
       " 'G>W>L/ (Geuel)': 0.0,\n",
       " 'G>WT/ (rise)': 0.0,\n",
       " 'GB/ (curve)': 0.0,\n",
       " 'GB</ (Geba)': 0.0,\n",
       " 'GB<H/ (hill)': 8.363502462113951e-05,\n",
       " 'GB<H=/ (Gibeah)': 0.0,\n",
       " 'GB<WN/ (Gibeon)': 0.0,\n",
       " 'GB<WNJ/ (Gibeonite)': 0.0006260138139427092,\n",
       " 'GB=/ (pit)': 0.0,\n",
       " 'GBH=/ (height)': 0.00015820744700034358,\n",
       " 'GBJ</ (cup)': 6.481112847354375e-05,\n",
       " 'GBJRH/ (mistress)': 0.0,\n",
       " 'GBLJ/ (Gebalite)': 0.0,\n",
       " 'GBR/ (vigorous man)': 0.0006706036500840786,\n",
       " 'GBR=/ (Geber)': 0.0,\n",
       " 'GBRT/ (lady)': 0.00021025511426950338,\n",
       " 'GBTWN/ (Gibbethon)': 0.0,\n",
       " 'GBWL/ (boundary)': 0.0020394573739529074,\n",
       " 'GBWLH/ (boundary)': 0.0,\n",
       " 'GBWR/ (vigorous)': 0.0017960372302584721,\n",
       " 'GBWRH/ (strength)': 0.0,\n",
       " 'GCM/ (rain)': 0.0008173840289739053,\n",
       " 'GCM=/ (Geshem)': 0.0005531368355369545,\n",
       " 'GCN/ (Goshen)': 0.0,\n",
       " 'GCWR/ (Geshur)': 0.000933684883453128,\n",
       " 'GCWRJ/ (Geshurite)': 0.0,\n",
       " ...}"
      ]
     },
     "execution_count": 12,
     "metadata": {},
     "output_type": "execute_result"
    }
   ],
   "source": [
    "test['MLK/ (king)'].to_dict()"
   ]
  },
  {
   "cell_type": "code",
   "execution_count": null,
   "metadata": {},
   "outputs": [],
   "source": []
  }
 ],
 "metadata": {
  "kernelspec": {
   "display_name": "Python 3",
   "language": "python",
   "name": "python3"
  },
  "language_info": {
   "codemirror_mode": {
    "name": "ipython",
    "version": 3
   },
   "file_extension": ".py",
   "mimetype": "text/x-python",
   "name": "python",
   "nbconvert_exporter": "python",
   "pygments_lexer": "ipython3",
   "version": "3.6.3"
  }
 },
 "nbformat": 4,
 "nbformat_minor": 2
}
