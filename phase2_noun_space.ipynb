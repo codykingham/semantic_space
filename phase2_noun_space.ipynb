{
 "cells": [
  {
   "cell_type": "markdown",
   "metadata": {},
   "source": [
    "# Phase 2 Noun Space\n",
    "\n",
    "The motivation for this notebook can be found in the updates of the [readme](readme.md):\n",
    "\n",
    "> Based on the output of the verb experiments in this phase, I see that it is not possible to simply build a space for only verbs or only nouns. Rather, these two spaces really need each other if there is any hope to obtain more defined word clusters. A fine example of the problem can be seen in the [phase2_clustering](http://nbviewer.jupyter.org/github/codykingham/semantics/blob/master/phase2_clustering.ipynb) notebook, where the noun יהוה and אלהים occur disproportionately as the subject with verbs like אנף \"be angry,\" מטר \"cause rain,\" and others. In reality, יהוה and אלהים both possess attributes which are common to other nouns, such as the collocability with action verbs. But because the space does not see these similarities, the lexemes are treated as completely separate entities. This is where the noun space can enter in and offer observations about the similarity of nouns with each other. By adding similar words to the space, based on a pre-calculated noun space, it is hoped that the knowledge gap can be bridged and lexemes with similar attributes considered together. This will allow, for instance, the noun אלהים, which also takes verbs like אמר, to be identified with other nouns that take the verb אמר.\n",
    "\n",
    "The purpose of this notebook is to develop the noun space that will be used to enhance the verb space. A previous set of noun spaces were created in [phase 1](phase1/readme.md) of this project. In this notebook, we use the updated Experiment and Semantic classes which have much more flexibility to define target word and basis elements. One major difference between the old data gathering technique and this one is that coordinate nouns are counted using the coordinate relation (BHSA: `rel` = `par` or \"parallel\") instead of counting all nouns that are coordinated in a chain. This Experiment class can also easily record words contained within related subphrases, such as construct or appositional relations.\n",
    "\n",
    "The enhanced classes allow much more informative data to be imported into the space (which will also require longer processing times). In the interest of building as useful a space as possible, proper nouns *will* be included in these spaces. This will allow proper nouns like יהוה to be compared with other nouns like אלהים. I will experiment with various parameters before deciding an a final experiment class to use for the verb space enhancement."
   ]
  },
  {
   "cell_type": "markdown",
   "metadata": {},
   "source": [
    "### Load Data"
   ]
  },
  {
   "cell_type": "code",
   "execution_count": 1,
   "metadata": {},
   "outputs": [
    {
     "name": "stdout",
     "output_type": "stream",
     "text": [
      "This is Text-Fabric 3.4.10\n",
      "Api reference : https://github.com/Dans-labs/text-fabric/wiki/Api\n",
      "Tutorial      : https://github.com/Dans-labs/text-fabric/blob/master/docs/tutorial.ipynb\n",
      "Example data  : https://github.com/Dans-labs/text-fabric-data\n",
      "\n",
      "116 features found and 0 ignored\n"
     ]
    },
    {
     "data": {
      "text/markdown": [
       "**Documentation:** <a target=\"_blank\" href=\"https://etcbc.github.io/bhsa\" title=\"{provenance of this corpus}\">BHSA</a> <a target=\"_blank\" href=\"https://etcbc.github.io/bhsa/features/hebrew/c/0_home.html\" title=\"{CORPUS} feature documentation\">Feature docs</a> <a target=\"_blank\" href=\"https://github.com/Dans-labs/text-fabric/wiki/Bhsa\" title=\"BHSA API documentation\">BHSA API</a> <a target=\"_blank\" href=\"https://github.com/Dans-labs/text-fabric/wiki/api\" title=\"text-fabric-api\">Text-Fabric API</a> <a target=\"_blank\" href=\"https://github.com/Dans-labs/text-fabric/wiki/api#search-template-introduction\" title=\"Search Templates Introduction and Reference\">Search Reference</a>"
      ],
      "text/plain": [
       "<IPython.core.display.Markdown object>"
      ]
     },
     "metadata": {},
     "output_type": "display_data"
    },
    {
     "data": {
      "text/html": [
       "\n",
       "<style>\n",
       ".verse {\n",
       "    display: flex;\n",
       "    flex-flow: row wrap;\n",
       "    direction: rtl;\n",
       "}\n",
       ".vl {\n",
       "    display: flex;\n",
       "    flex-flow: column nowrap;\n",
       "    direction: ltr;\n",
       "}\n",
       ".sentence,.clause,.phrase {\n",
       "    margin-top: -1.2em;\n",
       "    margin-left: 1em;\n",
       "    background: #ffffff none repeat scroll 0 0;\n",
       "    padding: 0 0.3em;\n",
       "    border-style: solid;\n",
       "    border-radius: 0.2em;\n",
       "    font-size: small;\n",
       "    display: block;\n",
       "    width: fit-content;\n",
       "    max-width: fit-content;\n",
       "    direction: ltr;\n",
       "}\n",
       ".atoms {\n",
       "    display: flex;\n",
       "    flex-flow: row wrap;\n",
       "    margin: 0.3em;\n",
       "    padding: 0.3em;\n",
       "    direction: rtl;\n",
       "    background-color: #ffffff;\n",
       "}\n",
       ".satom,.catom,.patom {\n",
       "    margin: 0.3em;\n",
       "    padding: 0.3em;\n",
       "    border-radius: 0.3em;\n",
       "    border-style: solid;\n",
       "    display: flex;\n",
       "    flex-flow: column nowrap;\n",
       "    direction: rtl;\n",
       "    background-color: #ffffff;\n",
       "}\n",
       ".sentence {\n",
       "    border-color: #aa3333;\n",
       "    border-width: 1px;\n",
       "}\n",
       ".clause {\n",
       "    border-color: #aaaa33;\n",
       "    border-width: 1px;\n",
       "}\n",
       ".phrase {\n",
       "    border-color: #33aaaa;\n",
       "    border-width: 1px;\n",
       "}\n",
       ".satom {\n",
       "    border-color: #aa3333;\n",
       "    border-width: 4px;\n",
       "}\n",
       ".catom {\n",
       "    border-color: #aaaa33;\n",
       "    border-width: 3px;\n",
       "}\n",
       ".patom {\n",
       "    border-color: #33aaaa;\n",
       "    border-width: 3px;\n",
       "}\n",
       ".word {\n",
       "    padding: 0.1em;\n",
       "    margin: 0.1em;\n",
       "    border-radius: 0.1em;\n",
       "    border: 1px solid #cccccc;\n",
       "    display: flex;\n",
       "    flex-flow: column nowrap;\n",
       "    direction: rtl;\n",
       "    background-color: #ffffff;\n",
       "}\n",
       ".lex {\n",
       "    padding: 0.1em;\n",
       "    margin: 0.1em;\n",
       "    border-radius: 0.1em;\n",
       "    border: 2px solid #888888;\n",
       "    width: fit-content;\n",
       "    display: flex;\n",
       "    flex-flow: column nowrap;\n",
       "    direction: rtl;\n",
       "    background-color: #ffffff;\n",
       "}\n",
       ".satom.l,.catom.l,.patom.l {\n",
       "    border-left-style: dotted\n",
       "}\n",
       ".satom.r,.catom.r,.patom.r {\n",
       "    border-right-style: dotted\n",
       "}\n",
       ".satom.L,.catom.L,.patom.L {\n",
       "    border-left-style: none\n",
       "}\n",
       ".satom.R,.catom.R,.patom.R {\n",
       "    border-right-style: none\n",
       "}\n",
       ".h,.h :visited,.h :link {\n",
       "    font-family: \"Ezra SIL\", \"SBL Hebrew\", sans-serif;\n",
       "    font-size: large;\n",
       "    color: #000044;\n",
       "    direction: rtl;\n",
       "    text-decoration: none;\n",
       "}\n",
       ".rela,.function,.typ {\n",
       "    font-family: monospace;\n",
       "    font-size: small;\n",
       "    color: #0000bb;\n",
       "}\n",
       ".sp,.sp :visited,.sp :link {\n",
       "    font-family: monospace;\n",
       "    font-size: medium;\n",
       "    color: #0000bb;\n",
       "    text-decoration: none;\n",
       "}\n",
       ".vl {\n",
       "    font-family: monospace;\n",
       "    font-size: medium;\n",
       "    color: #0000bb;\n",
       "}\n",
       ".vvs {\n",
       "    font-family: monospace;\n",
       "    font-size: medium;\n",
       "    font-weight: bold;\n",
       "    color: #0000bb;\n",
       "}\n",
       ".vvt {\n",
       "    font-family: monospace;\n",
       "    font-size: medium;\n",
       "    color: #0000bb;\n",
       "}\n",
       ".gl {\n",
       "    font-family: sans-serif;\n",
       "    font-size: small;\n",
       "    color: #aaaaaa;\n",
       "}\n",
       ".vs {\n",
       "    font-family: sans-serif;\n",
       "    font-size: small;\n",
       "    font-weight: bold;\n",
       "    color: #444444;\n",
       "}\n",
       ".nd {\n",
       "    font-family: monospace;\n",
       "    font-size: x-small;\n",
       "    color: #999999;\n",
       "}\n",
       ".hl {\n",
       "    background-color: #ffee66;\n",
       "}\n",
       "</style>\n"
      ],
      "text/plain": [
       "<IPython.core.display.HTML object>"
      ]
     },
     "metadata": {},
     "output_type": "display_data"
    }
   ],
   "source": [
    "import numpy as np\n",
    "import pandas as pd\n",
    "import collections, os, sys, pickle\n",
    "import matplotlib.pyplot as plt\n",
    "from tf.fabric import Fabric\n",
    "from tf.extra.bhsa import Bhsa\n",
    "from project_code.noun_experiments import NounExperiment1\n",
    "from project_code.semspace import SemSpace\n",
    "\n",
    "bhsa_data_paths=['~/github/etcbc/bhsa/tf/c',\n",
    "                 '~/github/semantics/project_code/lingo/heads/tf/c']\n",
    "TF = Fabric(bhsa_data_paths)\n",
    "tf_api = TF.load('''\n",
    "                function lex vs language\n",
    "                pdp freq_lex gloss domain ls\n",
    "                heads prep_obj mother rela\n",
    "                typ sp st\n",
    "              ''', silent=True)\n",
    "\n",
    "tf_api.makeAvailableIn(globals())\n",
    "B = Bhsa(api=tf_api, name='phase2_initial_experiments', version='c')"
   ]
  },
  {
   "cell_type": "markdown",
   "metadata": {},
   "source": [
    "## Initial Experiments"
   ]
  },
  {
   "cell_type": "code",
   "execution_count": 2,
   "metadata": {},
   "outputs": [],
   "source": [
    "ne1 = NounExperiment1(tf_api=tf_api)"
   ]
  },
  {
   "cell_type": "code",
   "execution_count": 3,
   "metadata": {},
   "outputs": [
    {
     "data": {
      "text/plain": [
       "(6357, 2744)"
      ]
     },
     "execution_count": 3,
     "metadata": {},
     "output_type": "execute_result"
    }
   ],
   "source": [
    "ne1.data.shape"
   ]
  },
  {
   "cell_type": "code",
   "execution_count": 4,
   "metadata": {},
   "outputs": [
    {
     "data": {
      "text/html": [
       "<div>\n",
       "<style scoped>\n",
       "    .dataframe tbody tr th:only-of-type {\n",
       "        vertical-align: middle;\n",
       "    }\n",
       "\n",
       "    .dataframe tbody tr th {\n",
       "        vertical-align: top;\n",
       "    }\n",
       "\n",
       "    .dataframe thead th {\n",
       "        text-align: right;\n",
       "    }\n",
       "</style>\n",
       "<table border=\"1\" class=\"dataframe\">\n",
       "  <thead>\n",
       "    <tr style=\"text-align: right;\">\n",
       "      <th></th>\n",
       "      <th>&lt;B/</th>\n",
       "      <th>&lt;B=/</th>\n",
       "      <th>&lt;BD/</th>\n",
       "      <th>&lt;BD&gt;/</th>\n",
       "      <th>&lt;BDH/</th>\n",
       "      <th>&lt;BDJHW/</th>\n",
       "      <th>&lt;BDT/</th>\n",
       "      <th>&lt;BDWN/</th>\n",
       "      <th>&lt;BD[</th>\n",
       "      <th>&lt;BD_&gt;DWM/</th>\n",
       "      <th>...</th>\n",
       "      <th>ZQN==/</th>\n",
       "      <th>ZQNH/</th>\n",
       "      <th>ZQNJM/</th>\n",
       "      <th>ZR/</th>\n",
       "      <th>ZR&lt;/</th>\n",
       "      <th>ZR=/</th>\n",
       "      <th>ZRBBL/</th>\n",
       "      <th>ZRC/</th>\n",
       "      <th>ZRW&lt;/</th>\n",
       "      <th>ZRX=/</th>\n",
       "    </tr>\n",
       "  </thead>\n",
       "  <tbody>\n",
       "    <tr>\n",
       "      <th>.Appo.&lt;BD/</th>\n",
       "      <td>0.0</td>\n",
       "      <td>0.0</td>\n",
       "      <td>0.0</td>\n",
       "      <td>0.0</td>\n",
       "      <td>0.0</td>\n",
       "      <td>0.0</td>\n",
       "      <td>0.0</td>\n",
       "      <td>0.0</td>\n",
       "      <td>0.0</td>\n",
       "      <td>0.0</td>\n",
       "      <td>...</td>\n",
       "      <td>0.0</td>\n",
       "      <td>0.0</td>\n",
       "      <td>0.0</td>\n",
       "      <td>0.0</td>\n",
       "      <td>0.0</td>\n",
       "      <td>0.0</td>\n",
       "      <td>0.0</td>\n",
       "      <td>0.0</td>\n",
       "      <td>0.0</td>\n",
       "      <td>0.0</td>\n",
       "    </tr>\n",
       "    <tr>\n",
       "      <th>.Appo.&lt;BRJ/</th>\n",
       "      <td>0.0</td>\n",
       "      <td>0.0</td>\n",
       "      <td>0.0</td>\n",
       "      <td>0.0</td>\n",
       "      <td>0.0</td>\n",
       "      <td>0.0</td>\n",
       "      <td>0.0</td>\n",
       "      <td>0.0</td>\n",
       "      <td>0.0</td>\n",
       "      <td>0.0</td>\n",
       "      <td>...</td>\n",
       "      <td>0.0</td>\n",
       "      <td>0.0</td>\n",
       "      <td>0.0</td>\n",
       "      <td>0.0</td>\n",
       "      <td>0.0</td>\n",
       "      <td>0.0</td>\n",
       "      <td>0.0</td>\n",
       "      <td>0.0</td>\n",
       "      <td>0.0</td>\n",
       "      <td>0.0</td>\n",
       "    </tr>\n",
       "    <tr>\n",
       "      <th>.Appo.&lt;DH/</th>\n",
       "      <td>0.0</td>\n",
       "      <td>0.0</td>\n",
       "      <td>0.0</td>\n",
       "      <td>0.0</td>\n",
       "      <td>0.0</td>\n",
       "      <td>0.0</td>\n",
       "      <td>0.0</td>\n",
       "      <td>0.0</td>\n",
       "      <td>0.0</td>\n",
       "      <td>0.0</td>\n",
       "      <td>...</td>\n",
       "      <td>0.0</td>\n",
       "      <td>0.0</td>\n",
       "      <td>0.0</td>\n",
       "      <td>0.0</td>\n",
       "      <td>0.0</td>\n",
       "      <td>0.0</td>\n",
       "      <td>0.0</td>\n",
       "      <td>0.0</td>\n",
       "      <td>0.0</td>\n",
       "      <td>0.0</td>\n",
       "    </tr>\n",
       "    <tr>\n",
       "      <th>.Appo.&lt;DH===/</th>\n",
       "      <td>0.0</td>\n",
       "      <td>0.0</td>\n",
       "      <td>0.0</td>\n",
       "      <td>0.0</td>\n",
       "      <td>0.0</td>\n",
       "      <td>0.0</td>\n",
       "      <td>0.0</td>\n",
       "      <td>0.0</td>\n",
       "      <td>0.0</td>\n",
       "      <td>0.0</td>\n",
       "      <td>...</td>\n",
       "      <td>0.0</td>\n",
       "      <td>0.0</td>\n",
       "      <td>0.0</td>\n",
       "      <td>0.0</td>\n",
       "      <td>0.0</td>\n",
       "      <td>0.0</td>\n",
       "      <td>0.0</td>\n",
       "      <td>0.0</td>\n",
       "      <td>0.0</td>\n",
       "      <td>0.0</td>\n",
       "    </tr>\n",
       "    <tr>\n",
       "      <th>.Appo.&lt;FH[</th>\n",
       "      <td>0.0</td>\n",
       "      <td>0.0</td>\n",
       "      <td>0.0</td>\n",
       "      <td>0.0</td>\n",
       "      <td>0.0</td>\n",
       "      <td>0.0</td>\n",
       "      <td>0.0</td>\n",
       "      <td>0.0</td>\n",
       "      <td>0.0</td>\n",
       "      <td>0.0</td>\n",
       "      <td>...</td>\n",
       "      <td>0.0</td>\n",
       "      <td>0.0</td>\n",
       "      <td>0.0</td>\n",
       "      <td>0.0</td>\n",
       "      <td>0.0</td>\n",
       "      <td>0.0</td>\n",
       "      <td>0.0</td>\n",
       "      <td>0.0</td>\n",
       "      <td>0.0</td>\n",
       "      <td>0.0</td>\n",
       "    </tr>\n",
       "  </tbody>\n",
       "</table>\n",
       "<p>5 rows × 2744 columns</p>\n",
       "</div>"
      ],
      "text/plain": [
       "               <B/  <B=/  <BD/  <BD>/  <BDH/  <BDJHW/  <BDT/  <BDWN/  <BD[  \\\n",
       ".Appo.<BD/     0.0   0.0   0.0    0.0    0.0      0.0    0.0     0.0   0.0   \n",
       ".Appo.<BRJ/    0.0   0.0   0.0    0.0    0.0      0.0    0.0     0.0   0.0   \n",
       ".Appo.<DH/     0.0   0.0   0.0    0.0    0.0      0.0    0.0     0.0   0.0   \n",
       ".Appo.<DH===/  0.0   0.0   0.0    0.0    0.0      0.0    0.0     0.0   0.0   \n",
       ".Appo.<FH[     0.0   0.0   0.0    0.0    0.0      0.0    0.0     0.0   0.0   \n",
       "\n",
       "               <BD_>DWM/  ...    ZQN==/  ZQNH/  ZQNJM/  ZR/  ZR</  ZR=/  \\\n",
       ".Appo.<BD/           0.0  ...       0.0    0.0     0.0  0.0   0.0   0.0   \n",
       ".Appo.<BRJ/          0.0  ...       0.0    0.0     0.0  0.0   0.0   0.0   \n",
       ".Appo.<DH/           0.0  ...       0.0    0.0     0.0  0.0   0.0   0.0   \n",
       ".Appo.<DH===/        0.0  ...       0.0    0.0     0.0  0.0   0.0   0.0   \n",
       ".Appo.<FH[           0.0  ...       0.0    0.0     0.0  0.0   0.0   0.0   \n",
       "\n",
       "               ZRBBL/  ZRC/  ZRW</  ZRX=/  \n",
       ".Appo.<BD/        0.0   0.0    0.0    0.0  \n",
       ".Appo.<BRJ/       0.0   0.0    0.0    0.0  \n",
       ".Appo.<DH/        0.0   0.0    0.0    0.0  \n",
       ".Appo.<DH===/     0.0   0.0    0.0    0.0  \n",
       ".Appo.<FH[        0.0   0.0    0.0    0.0  \n",
       "\n",
       "[5 rows x 2744 columns]"
      ]
     },
     "execution_count": 4,
     "metadata": {},
     "output_type": "execute_result"
    }
   ],
   "source": [
    "ne1.data.head()"
   ]
  },
  {
   "cell_type": "code",
   "execution_count": 5,
   "metadata": {},
   "outputs": [
    {
     "data": {
      "text/plain": [
       "Subj.Pred.>MR[.qal       111.0\n",
       ".rec.JFR>L/               58.0\n",
       "Cmpl_>L.Pred.>MR[.qal     36.0\n",
       ".Appo.CLMH=/              32.0\n",
       "Subj.Pred.CLX[.qal        30.0\n",
       ".rec.BBL/                 24.0\n",
       ".rec.>CWR/                23.0\n",
       "Cmpl_>L.Pred.BW>[.qal     22.0\n",
       ".Appo.DWD==/              20.0\n",
       "Subj.Pred.CM<[.qal        19.0\n",
       "Name: MLK/, dtype: float64"
      ]
     },
     "execution_count": 5,
     "metadata": {},
     "output_type": "execute_result"
    }
   ],
   "source": [
    "ne1.data['MLK/'].sort_values(ascending=False).head(10)"
   ]
  },
  {
   "cell_type": "markdown",
   "metadata": {},
   "source": [
    "### Run the Semantic Space\n"
   ]
  },
  {
   "cell_type": "code",
   "execution_count": 6,
   "metadata": {},
   "outputs": [
    {
     "name": "stdout",
     "output_type": "stream",
     "text": [
      "  0.00s Beginning all calculations...\n",
      "  0.00s Skipping log-likelihood...\n",
      "   |       17s FINISHED PMI...\n",
      "  1.61s Formatting remaining data matrices...\n",
      "    33s data gathering complete!\n"
     ]
    }
   ],
   "source": [
    "ns1 = SemSpace(ne1, info=100000, run_ll=False)\n",
    "#os.system('say \"Cody! Your data is ready ready ready!\"')"
   ]
  },
  {
   "cell_type": "code",
   "execution_count": 7,
   "metadata": {},
   "outputs": [
    {
     "data": {
      "image/png": "[encoded data removed]",
      "text/plain": [
       "<Figure size 720x432 with 1 Axes>"
      ]
     },
     "metadata": {},
     "output_type": "display_data"
    }
   ],
   "source": [
    "ns1.pmi_plot.show(annotate=False)"
   ]
  },
  {
   "cell_type": "code",
   "execution_count": 8,
   "metadata": {},
   "outputs": [
    {
     "data": {
      "image/png": "[encoded data removed]",
      "text/plain": [
       "<Figure size 720x432 with 1 Axes>"
      ]
     },
     "metadata": {},
     "output_type": "display_data"
    }
   ],
   "source": [
    "ns1.pmi_plot.show()"
   ]
  },
  {
   "cell_type": "code",
   "execution_count": 9,
   "metadata": {},
   "outputs": [
    {
     "data": {
      "image/png": "[encoded data removed]",
      "text/plain": [
       "<Figure size 720x432 with 1 Axes>"
      ]
     },
     "metadata": {},
     "output_type": "display_data"
    }
   ],
   "source": [
    "ns1.pmi_plot.show(axis=[10, 40, -10, 10])"
   ]
  },
  {
   "cell_type": "code",
   "execution_count": 10,
   "metadata": {},
   "outputs": [
    {
     "data": {
      "image/png": "[encoded data removed]",
      "text/plain": [
       "<Figure size 720x432 with 1 Axes>"
      ]
     },
     "metadata": {},
     "output_type": "display_data"
    }
   ],
   "source": [
    "ns1.pmi_plot.show(axis=[5, 10, -10, 10])"
   ]
  },
  {
   "cell_type": "code",
   "execution_count": 11,
   "metadata": {},
   "outputs": [
    {
     "data": {
      "image/png": "[encoded data removed]",
      "text/plain": [
       "<Figure size 720x432 with 1 Axes>"
      ]
     },
     "metadata": {},
     "output_type": "display_data"
    }
   ],
   "source": [
    "ns1.pmi_plot.show(axis=[0, 5, -10, 10])"
   ]
  },
  {
   "cell_type": "code",
   "execution_count": 12,
   "metadata": {},
   "outputs": [
    {
     "data": {
      "text/plain": [
       "<BD/ (servant)         1.000000\n",
       "CPXH/ (maidservant)    0.173587\n",
       "FR/ (chief)            0.147803\n",
       "N<R/ (boy)             0.147114\n",
       "DWD==/ (David)         0.144321\n",
       "MCH=/ (Moses)          0.142340\n",
       "<M/ (people)           0.139854\n",
       "XMWR=/ (Hamor)         0.136457\n",
       "JWXNN/ (Johanan)       0.136007\n",
       ">JC/ (man)             0.131039\n",
       ">CH/ (woman)           0.129257\n",
       "DWD/ (beloved one)     0.128532\n",
       "J<QB/ (Jacob)          0.128516\n",
       "MJKJHW/ (<prophet>)    0.126021\n",
       ">DNJHW/ (Adonijah)     0.125881\n",
       "C>WL=/ (Saul)          0.124912\n",
       "CKM==/ (Shechem)       0.122873\n",
       "HTK/ (Hathach)         0.120405\n",
       "XM===/ (Ham)           0.120379\n",
       "GD<WN/ (Gideon)        0.117246\n",
       "Name: <BD/ (servant), dtype: float64"
      ]
     },
     "execution_count": 12,
     "metadata": {},
     "output_type": "execute_result"
    }
   ],
   "source": [
    "ns1.similarity_pmi['<BD/ (servant)'].sort_values(ascending=False).head(20)"
   ]
  },
  {
   "cell_type": "code",
   "execution_count": 13,
   "metadata": {},
   "outputs": [
    {
     "data": {
      "text/plain": [
       "GML/ (camel)             1.000000\n",
       "SWS/ (horse)             0.177168\n",
       "Y>N/ (cattle)            0.155850\n",
       "XMWR/ (he-ass)           0.139248\n",
       "MR</ (friend)            0.138730\n",
       "JRX</ (Jarha)            0.107635\n",
       "XSJL/ (cockroach)        0.107635\n",
       "NZJR/ (singled out)      0.107202\n",
       "XJRM/ (Hiram)            0.102274\n",
       "CBJ/ (captive)           0.097391\n",
       "MNQJT/ (bowl)            0.094761\n",
       "YR==/ (pebble)           0.094761\n",
       "<RMWN/ (plane-tree)      0.094761\n",
       "FHRNJM/ (<ornament>)     0.094761\n",
       "MPTX/ (key)              0.094761\n",
       "BRQNJM/ (<uncertain>)    0.094761\n",
       "<RBWN/ (pledge)          0.094761\n",
       "KRJ/ (Carites)           0.094761\n",
       "CMY/ (<uncertain>)       0.094761\n",
       "XRF/ (clay)              0.094761\n",
       "Name: GML/ (camel), dtype: float64"
      ]
     },
     "execution_count": 13,
     "metadata": {},
     "output_type": "execute_result"
    }
   ],
   "source": [
    "ns1.similarity_pmi['GML/ (camel)'].sort_values(ascending=False).head(20)"
   ]
  },
  {
   "cell_type": "code",
   "execution_count": 14,
   "metadata": {},
   "outputs": [
    {
     "data": {
      "text/plain": [
       "JHWH/ (YHWH)            1.000000\n",
       ">LHJM/ (god(s))         0.306938\n",
       "MCH=/ (Moses)           0.189060\n",
       "DWD==/ (David)          0.175075\n",
       "MLK/ (king)             0.150585\n",
       "JHWC</ (Joshua)         0.146551\n",
       "C>WL=/ (Saul)           0.144447\n",
       "PR<H/ (pharaoh)         0.135528\n",
       "JHWJD</ (Jehoiada)      0.134539\n",
       "JHWNTN/ (Jehonathan)    0.133916\n",
       "JWSP/ (Joseph)          0.124478\n",
       "ML>K/ (messenger)       0.118165\n",
       "J<QB/ (Jacob)           0.113030\n",
       "PL>[ (be miraculous)    0.111802\n",
       ">BRHM/ (Abraham)        0.107784\n",
       ">JC/ (man)              0.104848\n",
       "JYXQ/ (Isaac)           0.102956\n",
       "CLMH=/ (Solomon)        0.102680\n",
       "GD<WN/ (Gideon)         0.101487\n",
       "BLQ/ (Balak)            0.101394\n",
       "Name: JHWH/ (YHWH), dtype: float64"
      ]
     },
     "execution_count": 14,
     "metadata": {},
     "output_type": "execute_result"
    }
   ],
   "source": [
    "ns1.similarity_pmi['JHWH/ (YHWH)'].sort_values(ascending=False).head(20)"
   ]
  },
  {
   "cell_type": "code",
   "execution_count": 15,
   "metadata": {},
   "outputs": [
    {
     "data": {
      "text/plain": [
       "LXM/ (bread)                 1.000000\n",
       "MSTR=/ (making hide face)    0.155798\n",
       "QLH[ (roast)                 0.155305\n",
       "JSDWT/ (foundation)          0.155305\n",
       "YMWQJM/ (cakes)              0.119896\n",
       "QDQD/ (scalp)                0.117817\n",
       "TXNWN/ (supplication)        0.108627\n",
       "BJNH/ (understanding)        0.108627\n",
       "XCQ/ (desire)                0.094601\n",
       "FQ/ (sack)                   0.092992\n",
       "JBWL/ (produce)              0.092800\n",
       "PTBG/ (table)                0.087161\n",
       "MXJH/ (life preservation)    0.086997\n",
       "RBBH/ (multitude)            0.086997\n",
       "BFRH/ (report)               0.086997\n",
       "MSWH/ (mask)                 0.086997\n",
       "VRP==/ (food)                0.086997\n",
       "BYR=/ (<place of refuge>)    0.086997\n",
       "MSPW>/ (fodder)              0.086997\n",
       "NQMH/ (vengeance)            0.086997\n",
       "Name: LXM/ (bread), dtype: float64"
      ]
     },
     "execution_count": 15,
     "metadata": {},
     "output_type": "execute_result"
    }
   ],
   "source": [
    "ns1.similarity_pmi['LXM/ (bread)'].sort_values(ascending=False).head(20)"
   ]
  },
  {
   "cell_type": "code",
   "execution_count": 16,
   "metadata": {},
   "outputs": [
    {
     "data": {
      "text/plain": [
       "MJM/ (water)            1.000000\n",
       "GCM/ (rain)             0.151491\n",
       "CKR=/ (strong drink)    0.127623\n",
       "NQJWN/ (innocence)      0.126461\n",
       "GBRT/ (lady)            0.123743\n",
       "T<LH/ (channel)         0.118635\n",
       "NZL[ (flow)             0.110102\n",
       "YJR===/ (convulsion)    0.106192\n",
       "JJN/ (wine)             0.099991\n",
       "SR<PH/ (bough)          0.098279\n",
       "PLYWT/ (shuddering)     0.094523\n",
       ">LJL/ (god)             0.092918\n",
       "CMH=/ (Shammah)         0.092416\n",
       "MXCBT/ (plan)           0.092416\n",
       "DRBN/ (point)           0.091453\n",
       "JWYR/ (potter)          0.088858\n",
       "HWD/ (splendour)        0.088502\n",
       "RJR/ (spittle)          0.087697\n",
       "KD/ (pitcher)           0.086183\n",
       "CQWY/ (idol)            0.085679\n",
       "Name: MJM/ (water), dtype: float64"
      ]
     },
     "execution_count": 16,
     "metadata": {},
     "output_type": "execute_result"
    }
   ],
   "source": [
    "ns1.similarity_pmi['MJM/ (water)'].sort_values(ascending=False).head(20)"
   ]
  },
  {
   "cell_type": "markdown",
   "metadata": {},
   "source": [
    "How is \"convulsion\" similar to water?"
   ]
  },
  {
   "cell_type": "code",
   "execution_count": 17,
   "metadata": {},
   "outputs": [
    {
     "data": {
      "text/plain": [
       "Subj.Pred.HPK[.nif    1.0\n",
       "Name: YJR===/, dtype: float64"
      ]
     },
     "execution_count": 17,
     "metadata": {},
     "output_type": "execute_result"
    }
   ],
   "source": [
    "ns1.raw['YJR===/'][ns1.raw['YJR===/'] > 0]"
   ]
  },
  {
   "cell_type": "code",
   "execution_count": 18,
   "metadata": {},
   "outputs": [
    {
     "data": {
      "text/plain": [
       "1.0"
      ]
     },
     "execution_count": 18,
     "metadata": {},
     "output_type": "execute_result"
    }
   ],
   "source": [
    "ns1.raw['MJM/']['Subj.Pred.HPK[.nif']"
   ]
  },
  {
   "cell_type": "markdown",
   "metadata": {},
   "source": [
    "Both nouns share the attribute of being able to \"be poured out.\" \n",
    "\n",
    "Looking at this noun's uses as described by BDB, it seems that this noun shares another surprising commonality with מים, that is, a person can be filled (מלא) with חלחלה צירים, that is, \"anguish of pangs.\" Thus, in a surprising way this noun may be a good match.  "
   ]
  },
  {
   "cell_type": "code",
   "execution_count": 19,
   "metadata": {},
   "outputs": [
    {
     "data": {
      "text/plain": [
       "MLK/ (king)          1.000000\n",
       "C>WL=/ (Saul)        0.228685\n",
       "DWD==/ (David)       0.211558\n",
       "CLMH=/ (Solomon)     0.176877\n",
       "<M/ (people)         0.175929\n",
       "FR/ (chief)          0.175884\n",
       ">B/ (father)         0.170289\n",
       "MCH=/ (Moses)        0.162353\n",
       "GD<WN/ (Gideon)      0.158313\n",
       ">JC/ (man)           0.156778\n",
       "JRB<M/ (Jeroboam)    0.155543\n",
       "PR<H/ (pharaoh)      0.154778\n",
       ">X>B/ (Ahab)         0.154020\n",
       "JHWC</ (Joshua)      0.152470\n",
       ">BNR/ (Abner)        0.151580\n",
       "JHWH/ (YHWH)         0.150585\n",
       "BLQ/ (Balak)         0.150351\n",
       "BN/ (son)            0.148134\n",
       "CMW>L/ (Samuel)      0.146515\n",
       "J<QB/ (Jacob)        0.145565\n",
       "Name: MLK/ (king), dtype: float64"
      ]
     },
     "execution_count": 19,
     "metadata": {},
     "output_type": "execute_result"
    }
   ],
   "source": [
    "ns1.similarity_pmi['MLK/ (king)'].sort_values(ascending=False).head(20)"
   ]
  },
  {
   "cell_type": "code",
   "execution_count": 20,
   "metadata": {},
   "outputs": [
    {
     "data": {
      "text/plain": [
       "<JR/ (town)             1.000000\n",
       "CMRWN/ (Samaria)        0.166600\n",
       ">RY/ (earth)            0.162955\n",
       "JRWCLM/ (Jerusalem)     0.145951\n",
       ">JLWN==/ (Aijalon)      0.139683\n",
       "RMH==/ (Ramah)          0.133557\n",
       "BJT/ (house)            0.133282\n",
       "BJT_LXM/ (Bethlehem)    0.125546\n",
       "Y<R/ (Zoar)             0.116268\n",
       "BJT_>L/ (Bethel)        0.113925\n",
       "GBWL/ (boundary)        0.113191\n",
       "<J=/ (Ai)               0.112061\n",
       "XBWR/ (Habor)           0.107984\n",
       "NJNWH/ (Nineveh)        0.106992\n",
       "JRDN/ (Jordan)          0.106758\n",
       "JBJC=/ (Jabesh)         0.106379\n",
       "XYWR/ (Hazor)           0.100068\n",
       ">BN_H<ZR/ (Ebenezer)    0.098965\n",
       "MXNH/ (camp)            0.097195\n",
       "XBRWN=/ (Hebron)        0.096961\n",
       "Name: <JR/ (town), dtype: float64"
      ]
     },
     "execution_count": 20,
     "metadata": {},
     "output_type": "execute_result"
    }
   ],
   "source": [
    "ns1.similarity_pmi['<JR/ (town)'].sort_values(ascending=False).head(20)"
   ]
  },
  {
   "cell_type": "code",
   "execution_count": 21,
   "metadata": {},
   "outputs": [
    {
     "data": {
      "text/plain": [
       "JWM/ (day)                1.000000\n",
       "CNH/ (year)               0.172729\n",
       "LJLH/ (night)             0.146839\n",
       "YHRJM/ (noon)             0.120189\n",
       "XDC=/ (month)             0.119022\n",
       "<T/ (time)                0.107654\n",
       "BQR=/ (morning)           0.092602\n",
       "MWT/ (death)              0.057799\n",
       "MHWMH/ (discomfiture)     0.057730\n",
       "<FWR/ (a ten)             0.056309\n",
       "<RB/ (evening)            0.052641\n",
       "<YM/ (bone)               0.051749\n",
       "JWMM (by day)             0.051606\n",
       "SR<PH/ (bough)            0.050906\n",
       "TXLH/ (beginning)         0.048973\n",
       "MWSK/ (<uncertain>)       0.048264\n",
       ">Z (then)                 0.047378\n",
       "XRPH/ (reproach)          0.046778\n",
       ">GRT/ (letter)            0.043991\n",
       "MVH====/ (crookedness)    0.043764\n",
       "Name: JWM/ (day), dtype: float64"
      ]
     },
     "execution_count": 21,
     "metadata": {},
     "output_type": "execute_result"
    }
   ],
   "source": [
    "ns1.similarity_pmi['JWM/ (day)'].sort_values(ascending=False).head(20)"
   ]
  },
  {
   "cell_type": "code",
   "execution_count": 22,
   "metadata": {},
   "outputs": [
    {
     "data": {
      "text/plain": [
       "Time.Pred.<FH[.qal       17.0\n",
       ".par.LJLH/               15.0\n",
       "Time.Pred.JCB[.qal       14.0\n",
       "Time_B.Pred.BW>[.qal     13.0\n",
       "Time_<D.Pred.QR>[.qal     9.0\n",
       "Time_<D.Pred.JCB[.qal     9.0\n",
       "Time_B.Pred.>MR[.qal      7.0\n",
       "Time_B.Pred.<FH[.qal      6.0\n",
       ".rec.MWT/                 6.0\n",
       ".rec.CLMH=/               5.0\n",
       "Name: JWM/, dtype: float64"
      ]
     },
     "execution_count": 22,
     "metadata": {},
     "output_type": "execute_result"
    }
   ],
   "source": [
    "ns1.raw['JWM/'][ns1.raw['JWM/'] > 0].sort_values(ascending=False).head(10)"
   ]
  },
  {
   "cell_type": "markdown",
   "metadata": {},
   "source": [
    "While יום performs quite well, it should be noted that this has much to do with the specialized \"Time\" phrase function type in the BHSA dataset."
   ]
  },
  {
   "cell_type": "code",
   "execution_count": 24,
   "metadata": {},
   "outputs": [
    {
     "data": {
      "text/plain": [
       "VWB/ (good)               1.000000\n",
       "MPJBCT/ (Mephibosheth)    0.230328\n",
       "MJVB/ (best)              0.229013\n",
       "HWH==/ (destruction)      0.218229\n",
       "KR/ (ram)                 0.201405\n",
       ">RZ/ (cedar)              0.192791\n",
       "M<WN/ (dwelling)          0.169935\n",
       "MWSB/ (<uncertain>)       0.166141\n",
       "QCH/ (hard)               0.139688\n",
       "MBXR/ (choice)            0.139523\n",
       ">GG/ (Agag)               0.137632\n",
       "MCL/ (proverb)            0.131955\n",
       "KZB/ (lie)                0.126738\n",
       "M>WMH/ (something)        0.124490\n",
       "BXWR/ (young man)         0.103598\n",
       "<NP/ (branches)           0.098513\n",
       "NRGL/ (Nergal)            0.098513\n",
       "CPV/ (judgment)           0.098513\n",
       "CPWV/ (judgment)          0.098513\n",
       "<YRT/ (assembly)          0.098513\n",
       "Name: VWB/ (good), dtype: float64"
      ]
     },
     "execution_count": 24,
     "metadata": {},
     "output_type": "execute_result"
    }
   ],
   "source": [
    "ns1.similarity_pmi['VWB/ (good)'].sort_values(ascending=False).head(20)"
   ]
  },
  {
   "cell_type": "code",
   "execution_count": 25,
   "metadata": {},
   "outputs": [
    {
     "data": {
      "text/plain": [
       ">DMH/ (soil)                   1.000000\n",
       "JLDH/ (girl)                   0.290437\n",
       "MXYB/ (hewn stone)             0.283128\n",
       "YJD=/ (provision)              0.254022\n",
       "MLKJ_YDQ/ (Melchizedek)        0.205199\n",
       "KWRC/ (Cyrus)                  0.205199\n",
       "QNT/ (Kenath)                  0.186256\n",
       "GMZW/ (Gimzo)                  0.186256\n",
       "CW<L/ (fox)                    0.186256\n",
       "BKRH/ (right of first-born)    0.184759\n",
       "PQJD/ (officer)                0.165248\n",
       "GDRWT/ (Gederoth)              0.153453\n",
       "MNXM/ (Menahem)                0.148682\n",
       "PCXWR/ (Pashhur)               0.143340\n",
       ">ZWR/ (loin-cloth)             0.139423\n",
       "CRT[ (serve)                   0.128320\n",
       ">CQLWN/ (Ashkelon)             0.123239\n",
       ">JLWN==/ (Aijalon)             0.098871\n",
       "XLQH/ (plot of land)           0.095589\n",
       "JRK/ (upper thigh)             0.093895\n",
       "Name: >DMH/ (soil), dtype: float64"
      ]
     },
     "execution_count": 25,
     "metadata": {},
     "output_type": "execute_result"
    }
   ],
   "source": [
    "ns1.similarity_pmi['>DMH/ (soil)'].sort_values(ascending=False).head(20)"
   ]
  },
  {
   "cell_type": "markdown",
   "metadata": {},
   "source": [
    "What does \"soil\" and \"girl\" have to do with each other?"
   ]
  },
  {
   "cell_type": "code",
   "execution_count": 26,
   "metadata": {},
   "outputs": [
    {
     "data": {
      "text/plain": [
       "Objc.Pred.MKR[.qal    1.0\n",
       "Name: JLDH/, dtype: float64"
      ]
     },
     "execution_count": 26,
     "metadata": {},
     "output_type": "execute_result"
    }
   ],
   "source": [
    "ns1.raw['JLDH/'][ns1.raw['JLDH/'] > 0]"
   ]
  },
  {
   "cell_type": "code",
   "execution_count": 27,
   "metadata": {},
   "outputs": [
    {
     "data": {
      "text/plain": [
       ".rec.JFR>L/              1.0\n",
       ".rec.KHN/                2.0\n",
       ".rec.MYRJM/              2.0\n",
       "Adju_>L.Pred.FMX[.qal    1.0\n",
       "Cmpl_MN.Pred.JYR[.qal    1.0\n",
       "Cmpl_MN.Pred.YMX[.hif    1.0\n",
       "Loca_<L.Pred.FJM[.qal    1.0\n",
       "Objc.Pred.<BD[.qal       1.0\n",
       "Objc.Pred.LKD[.qal       1.0\n",
       "Objc.Pred.MKR[.qal       1.0\n",
       "Objc.Pred.QNH[.qal       2.0\n",
       "Subj.Pred.BQ<[.nif       1.0\n",
       "Subj.Pred.JY>[.hif       1.0\n",
       "Name: >DMH/, dtype: float64"
      ]
     },
     "execution_count": 27,
     "metadata": {},
     "output_type": "execute_result"
    }
   ],
   "source": [
    "ns1.raw['>DMH/'][ns1.raw['>DMH/'] > 0]"
   ]
  },
  {
   "cell_type": "markdown",
   "metadata": {},
   "source": [
    "Both of these items are sold!"
   ]
  },
  {
   "cell_type": "code",
   "execution_count": 28,
   "metadata": {},
   "outputs": [
    {
     "data": {
      "text/plain": [
       "KHN/ (priest)           1.000000\n",
       "LWJ/ (Levite)           0.420324\n",
       "TWDH/ (thanksgiving)    0.163828\n",
       "JW>B/ (Joab)            0.159339\n",
       "MCH=/ (Moses)           0.159108\n",
       "SRNJM/ (lords)          0.141355\n",
       "CW<R/ (porter)          0.139888\n",
       ">XJHW/ (Ahijah)         0.139297\n",
       "J<QB/ (Jacob)           0.139089\n",
       "DWD==/ (David)          0.138762\n",
       ">HLJ>B/ (Oholiab)       0.137646\n",
       "CM<JH/ (Shemaiah)       0.136178\n",
       "JWNTN/ (Jonathan)       0.133991\n",
       "BYL>L/ (Bezalel)        0.133524\n",
       ">LJC</ (Elisha)         0.131635\n",
       "TWL<=/ (Tola)           0.128916\n",
       "QDMJ>L/ (Kadmiel)       0.127910\n",
       "YRJ=/ (Tyrian)          0.127824\n",
       "HJMN/ (Heman)           0.127777\n",
       "MQR>/ (convocation)     0.127582\n",
       "Name: KHN/ (priest), dtype: float64"
      ]
     },
     "execution_count": 28,
     "metadata": {},
     "output_type": "execute_result"
    }
   ],
   "source": [
    "ns1.similarity_pmi['KHN/ (priest)'].sort_values(ascending=False).head(20)"
   ]
  },
  {
   "cell_type": "code",
   "execution_count": 30,
   "metadata": {},
   "outputs": [
    {
     "data": {
      "text/plain": [
       "TWDH/ (thanksgiving)    1.000000\n",
       ">XR=/ (other)           0.638414\n",
       "MTTJH/ (Mattithiah)     0.592446\n",
       "<NJH/ (Anaiah)          0.592446\n",
       "JXZJH/ (Jahzeiah)       0.548472\n",
       "HJMN/ (Heman)           0.507243\n",
       "KWMZ/ (breastplate)     0.491360\n",
       "KRML=/ (new corn)       0.491360\n",
       "CDD[ (despoil)          0.491360\n",
       "MVWH/ (yarn)            0.491360\n",
       "QDMJ>L/ (Kadmiel)       0.447745\n",
       "CM<===/ (Shema)         0.407661\n",
       "JTR[ (remain)           0.399249\n",
       "MN<WL/ (lock)           0.375532\n",
       "M<FJH/ (Maaseiah)       0.358390\n",
       "RB_CQH/ (rabshake)      0.357286\n",
       "XRBH=/ (ruin)           0.302235\n",
       "NDBH/ (free will)       0.263502\n",
       "<RLH/ (foreskin)        0.255629\n",
       "XLQJH/ (Hilkiah)        0.231078\n",
       "Name: TWDH/ (thanksgiving), dtype: float64"
      ]
     },
     "execution_count": 30,
     "metadata": {},
     "output_type": "execute_result"
    }
   ],
   "source": [
    "ns1.similarity_pmi['TWDH/ (thanksgiving)'].sort_values(ascending=False).head(20)"
   ]
  },
  {
   "cell_type": "markdown",
   "metadata": {},
   "source": [
    "What is going on with this noun?"
   ]
  },
  {
   "cell_type": "code",
   "execution_count": 31,
   "metadata": {},
   "outputs": [
    {
     "data": {
      "text/plain": [
       "Objc.Pred.<MD[.hif    1.0\n",
       "Objc.Pred.BW>[.hif    1.0\n",
       "Subj.Pred.<MD[.qal    1.0\n",
       "Name: TWDH/, dtype: float64"
      ]
     },
     "execution_count": 31,
     "metadata": {},
     "output_type": "execute_result"
    }
   ],
   "source": [
    "ns1.raw['TWDH/'][ns1.raw['TWDH/'] > 0]"
   ]
  },
  {
   "cell_type": "code",
   "execution_count": 32,
   "metadata": {},
   "outputs": [
    {
     "data": {
      "text/plain": [
       "Objc.Pred.<MD[.hif    1.0\n",
       "Name: >XR=/, dtype: float64"
      ]
     },
     "execution_count": 32,
     "metadata": {},
     "output_type": "execute_result"
    }
   ],
   "source": [
    "ns1.raw['>XR=/'][ns1.raw['>XR=/'] > 0]"
   ]
  },
  {
   "cell_type": "code",
   "execution_count": 33,
   "metadata": {},
   "outputs": [
    {
     "data": {
      "text/plain": [
       "Subj.Pred.<MD[.qal    1.0\n",
       "Name: MTTJH/, dtype: float64"
      ]
     },
     "execution_count": 33,
     "metadata": {},
     "output_type": "execute_result"
    }
   ],
   "source": [
    "ns1.raw['MTTJH/'][ns1.raw['MTTJH/'] > 0]"
   ]
  },
  {
   "cell_type": "code",
   "execution_count": 34,
   "metadata": {},
   "outputs": [
    {
     "data": {
      "text/plain": [
       "Objc.Pred.BW>[.hif    1.0\n",
       "Name: KWMZ/, dtype: float64"
      ]
     },
     "execution_count": 34,
     "metadata": {},
     "output_type": "execute_result"
    }
   ],
   "source": [
    "ns1.raw['KWMZ/'][ns1.raw['KWMZ/'] > 0]"
   ]
  },
  {
   "cell_type": "markdown",
   "metadata": {},
   "source": [
    "Thanksgiving can be \"set up\" עמד and \"brought in\" בוא, as with the other nouns."
   ]
  },
  {
   "cell_type": "code",
   "execution_count": 35,
   "metadata": {},
   "outputs": [
    {
     "data": {
      "text/plain": [
       "CJR/ (song)                  1.000000\n",
       "NBL==/ (harp)                0.466269\n",
       "MS<D/ (<uncertain>)          0.422268\n",
       "KNWR/ (cither)               0.373303\n",
       "NGP/ (plague)                0.372354\n",
       "PRY[ (break)                 0.372354\n",
       "TP/ (tambourine)             0.278855\n",
       "FMXH/ (joy)                  0.210454\n",
       "MYLTJM/ (cymbals)            0.186282\n",
       "TRW<H/ (shouting)            0.168041\n",
       "RBBH/ (multitude)            0.137462\n",
       "MGR<WT/ (recesses)           0.137462\n",
       "BYR=/ (<place of refuge>)    0.137462\n",
       "TPLH=/ (unseemliness)        0.137462\n",
       "VRP==/ (food)                0.137462\n",
       "C>LH/ (request)              0.137462\n",
       "MKS/ (tax)                   0.137462\n",
       "NQMH/ (vengeance)            0.137462\n",
       "JRCH/ (possession)           0.137462\n",
       "MXJH/ (life preservation)    0.137462\n",
       "Name: CJR/ (song), dtype: float64"
      ]
     },
     "execution_count": 35,
     "metadata": {},
     "output_type": "execute_result"
    }
   ],
   "source": [
    "ns1.similarity_pmi['CJR/ (song)'].sort_values(ascending=False).head(20)"
   ]
  },
  {
   "cell_type": "markdown",
   "metadata": {},
   "source": [
    "In what way is שיר \"song\" similar to נקף \"plague\"?"
   ]
  },
  {
   "cell_type": "code",
   "execution_count": 36,
   "metadata": {},
   "outputs": [
    {
     "data": {
      "text/plain": [
       ".par.KNWR/               1.0\n",
       ".par.TP/                 1.0\n",
       ".par.XYYRH/              1.0\n",
       ".rec.JHWH/               1.0\n",
       "Adju_B.Pred.CLX[.piel    1.0\n",
       "Objc.Pred.NTN[.qal       1.0\n",
       "Subj.Pred.XLL[.hif       1.0\n",
       "Name: CJR/, dtype: float64"
      ]
     },
     "execution_count": 36,
     "metadata": {},
     "output_type": "execute_result"
    }
   ],
   "source": [
    "ns1.raw['CJR/'][ns1.raw['CJR/'] > 0]"
   ]
  },
  {
   "cell_type": "code",
   "execution_count": 37,
   "metadata": {},
   "outputs": [
    {
     "data": {
      "text/plain": [
       "Subj.Pred.XLL[.hif    1.0\n",
       "Name: NGP/, dtype: float64"
      ]
     },
     "execution_count": 37,
     "metadata": {},
     "output_type": "execute_result"
    }
   ],
   "source": [
    "ns1.raw['NGP/'][ns1.raw['NGP/'] > 0]"
   ]
  },
  {
   "cell_type": "code",
   "execution_count": 38,
   "metadata": {},
   "outputs": [
    {
     "data": {
      "text/plain": [
       "Subj.Pred.XLL[.hif    1.0\n",
       "Name: PRY[, dtype: float64"
      ]
     },
     "execution_count": 38,
     "metadata": {},
     "output_type": "execute_result"
    }
   ],
   "source": [
    "ns1.raw['PRY['][ns1.raw['PRY['] > 0]"
   ]
  },
  {
   "cell_type": "markdown",
   "metadata": {},
   "source": [
    "These appear to due to this verb's polysemy, senses of both \"play pipe\" and \"begin.\""
   ]
  },
  {
   "cell_type": "code",
   "execution_count": 39,
   "metadata": {},
   "outputs": [
    {
     "data": {
      "text/plain": [
       ">KL/ (food)                  1.000000\n",
       "MD</ (knowledge)             0.453580\n",
       "BR/ (grain)                  0.290069\n",
       "TQWPH/ (turning point)       0.271443\n",
       "YMX/ (sprout)                0.245264\n",
       "PQ<T/ (gourd)                0.220965\n",
       "TCWBH/ (return)              0.215335\n",
       "BFRH/ (report)               0.202142\n",
       "RBBH/ (multitude)            0.202142\n",
       "C>LH/ (request)              0.202142\n",
       "MKS/ (tax)                   0.202142\n",
       "NJR=/ (lamp)                 0.202142\n",
       "MGR<WT/ (recesses)           0.202142\n",
       "HRJWN/ (conception)          0.202142\n",
       "NQMH/ (vengeance)            0.202142\n",
       "CKBT/ (copulation)           0.202142\n",
       "M<FR/ (tenth)                0.202142\n",
       "TPLH=/ (unseemliness)        0.202142\n",
       "TMNT_SRX/ (Timnath Serah)    0.202142\n",
       "MZWN/ (food)                 0.202142\n",
       "Name: >KL/ (food), dtype: float64"
      ]
     },
     "execution_count": 39,
     "metadata": {},
     "output_type": "execute_result"
    }
   ],
   "source": [
    "ns1.similarity_pmi['>KL/ (food)'].sort_values(ascending=False).head(20)"
   ]
  },
  {
   "cell_type": "code",
   "execution_count": 40,
   "metadata": {},
   "outputs": [
    {
     "data": {
      "text/plain": [
       ".rec.CNH/              1.0\n",
       ".rec.FDH/              1.0\n",
       "Objc.Pred.C>L[.qal     1.0\n",
       "Objc.Pred.CBR=[.qal    1.0\n",
       "Objc.Pred.LQX[.qal     1.0\n",
       "Objc.Pred.NTN[.qal     2.0\n",
       "Objc.Pred.QBY[.qal     1.0\n",
       "Name: >KL/, dtype: float64"
      ]
     },
     "execution_count": 40,
     "metadata": {},
     "output_type": "execute_result"
    }
   ],
   "source": [
    "ns1.raw['>KL/'][ns1.raw['>KL/'] > 0]"
   ]
  },
  {
   "cell_type": "code",
   "execution_count": 41,
   "metadata": {},
   "outputs": [
    {
     "data": {
      "text/plain": [
       "Objc.Pred.C>L[.qal    1.0\n",
       "Objc.Pred.NTN[.qal    1.0\n",
       "Name: MD</, dtype: float64"
      ]
     },
     "execution_count": 41,
     "metadata": {},
     "output_type": "execute_result"
    }
   ],
   "source": [
    "ns1.raw['MD</'][ns1.raw['MD</'] > 0]"
   ]
  },
  {
   "cell_type": "markdown",
   "metadata": {},
   "source": [
    "Both \"food\" and \"knowlege\" are requested (שאל) and given (נתן)."
   ]
  },
  {
   "cell_type": "code",
   "execution_count": 42,
   "metadata": {},
   "outputs": [
    {
     "data": {
      "text/plain": [
       ">MRH/ (word)             1.000000\n",
       "<DWT/ (reminder)         0.191211\n",
       "MCMRT/ (guard-post)      0.178199\n",
       "XQH/ (regulation)        0.152972\n",
       "XSD/ (loyalty)           0.141881\n",
       "MYWH/ (commandment)      0.119044\n",
       "BRJT/ (covenant)         0.117517\n",
       "TWRH/ (instruction)      0.110220\n",
       ">RWN/ (ark)              0.067099\n",
       "MCPV/ (justice)          0.060941\n",
       "QYP/ (anger)             0.044791\n",
       "DRK/ (way)               0.044426\n",
       "ML>KWT/ (commission)     0.040317\n",
       "DBR/ (word)              0.035282\n",
       "BJT/ (house)             0.032363\n",
       "PXD/ (trembling)         0.032188\n",
       "TRDMH/ (sleep)           0.030860\n",
       "QRBN/ (offering)         0.028997\n",
       "MXCBH/ (thought)         0.028669\n",
       "TRWMH/ (contribution)    0.027990\n",
       "Name: >MRH/ (word), dtype: float64"
      ]
     },
     "execution_count": 42,
     "metadata": {},
     "output_type": "execute_result"
    }
   ],
   "source": [
    "ns1.similarity_pmi['>MRH/ (word)'].sort_values(ascending=False).head(20)"
   ]
  },
  {
   "cell_type": "code",
   "execution_count": 43,
   "metadata": {},
   "outputs": [
    {
     "data": {
      "text/plain": [
       "ZQN/ (old)             1.000000\n",
       "FR/ (chief)            0.200672\n",
       "FB<=/ (sated)          0.184833\n",
       "HTK/ (Hathach)         0.147544\n",
       "GB<WNJ/ (Gibeonite)    0.145503\n",
       "BLQ/ (Balak)           0.145231\n",
       "SRNJM/ (lords)         0.141493\n",
       "QWY/ (thorn-bush)      0.140048\n",
       "BJYH/ (egg)            0.138288\n",
       "NGF[ (drive)           0.136232\n",
       "LWJ/ (Levite)          0.129156\n",
       "CPV[ (judge)           0.128719\n",
       "BL<M/ (<prophet>)      0.125261\n",
       ">JC/ (man)             0.123384\n",
       "ZJPJ/ (Ziphite)        0.123160\n",
       "CM<J=/ (Shimei)        0.122484\n",
       "CW<H/ (cry)            0.122173\n",
       "MBNH/ (structure)      0.120902\n",
       "TQP/ (power)           0.120210\n",
       "FVNH/ (accusation)     0.120210\n",
       "Name: ZQN/ (old), dtype: float64"
      ]
     },
     "execution_count": 43,
     "metadata": {},
     "output_type": "execute_result"
    }
   ],
   "source": [
    "ns1.similarity_pmi['ZQN/ (old)'].sort_values(ascending=False).head(20)"
   ]
  },
  {
   "cell_type": "markdown",
   "metadata": {},
   "source": [
    "## Evaluation and Export\n",
    "\n",
    "Some nouns perform quite well in terms of semantic similarity. Others reflect share only a small set of attributes that happen to be instantiated in the corpus, such as \"give\"-ability and \"lift\"-ability. Nevertheless, some very positive, strong tendencies can be seen in the data. The most relevant tendency is that personal nouns tend to have other personal nouns in their top similar terms; non-personal nouns likewise relate most to non-personal nouns. This particular quality will be especially important for clustering verbs into classes.\n",
    "\n",
    "The noun space is successful for the purpose of enhancing the verb space. The pre-computed data has been made available in `data/ns1_pmi.pickle` and can be reloaded into the semantic space in the verb-space enhancement notebook."
   ]
  }
 ],
 "metadata": {
  "kernelspec": {
   "display_name": "Python 3",
   "language": "python",
   "name": "python3"
  },
  "language_info": {
   "codemirror_mode": {
    "name": "ipython",
    "version": 3
   },
   "file_extension": ".py",
   "mimetype": "text/x-python",
   "name": "python",
   "nbconvert_exporter": "python",
   "pygments_lexer": "ipython3",
   "version": "3.6.3"
  }
 },
 "nbformat": 4,
 "nbformat_minor": 2
}
