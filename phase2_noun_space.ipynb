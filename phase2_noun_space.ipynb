{
 "cells": [
  {
   "cell_type": "markdown",
   "metadata": {},
   "source": [
    "# Phase 2 Noun Space\n",
    "\n",
    "The motivation for this notebook can be found in the updates of the [readme](readme.md):\n",
    "\n",
    "> Based on the output of the verb experiments in this phase, I see that it is not possible to simply build a space for only verbs or only nouns. Rather, these two spaces really need each other if there is any hope to obtain more defined word clusters. A fine example of the problem can be seen in the [phase2_clustering](http://nbviewer.jupyter.org/github/codykingham/semantics/blob/master/phase2_clustering.ipynb) notebook, where the noun יהוה and אלהים occur disproportionately as the subject with verbs like אנף \"be angry,\" מטר \"cause rain,\" and others. In reality, יהוה and אלהים both possess attributes which are common to other nouns, such as the collocability with action verbs. But because the space does not see these similarities, the lexemes are treated as completely separate entities. This is where the noun space can enter in and offer observations about the similarity of nouns with each other. By adding similar words to the space, based on a pre-calculated noun space, it is hoped that the knowledge gap can be bridged and lexemes with similar attributes considered together. This will allow, for instance, the noun אלהים, which also takes verbs like אמר, to be identified with other nouns that take the verb אמר.\n",
    "\n",
    "The purpose of this notebook is to develop the noun space that will be used to enhance the verb space. A previous set of noun spaces were created in [phase 1](phase1/readme.md) of this project. In this notebook, we use the updated Experiment and Semantic classes which have much more flexibility to define target word and basis elements. One major difference between the old data gathering technique and this one is that coordinate nouns are counted using the coordinate relation (BHSA: `rel` = `par` or \"parallel\") instead of counting all nouns that are coordinated in a chain. This Experiment class can also easily record words contained within related subphrases, such as construct or appositional relations.\n",
    "\n",
    "The enhanced classes allow much more informative data to be imported into the space (which will also require longer processing times). In the interest of building as useful a space as possible, proper nouns *will* be included in these spaces. This will allow proper nouns like יהוה to be compared with other nouns like אלהים. I will experiment with various parameters before deciding an a final experiment class to use for the verb space enhancement."
   ]
  },
  {
   "cell_type": "code",
   "execution_count": null,
   "metadata": {},
   "outputs": [],
   "source": []
  }
 ],
 "metadata": {
  "kernelspec": {
   "display_name": "Python 3",
   "language": "python",
   "name": "python3"
  },
  "language_info": {
   "codemirror_mode": {
    "name": "ipython",
    "version": 3
   },
   "file_extension": ".py",
   "mimetype": "text/x-python",
   "name": "python",
   "nbconvert_exporter": "python",
   "pygments_lexer": "ipython3",
   "version": "3.6.3"
  }
 },
 "nbformat": 4,
 "nbformat_minor": 2
}
