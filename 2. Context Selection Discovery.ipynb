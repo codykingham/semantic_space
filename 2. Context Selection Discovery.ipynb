{
 "cells": [
  {
   "cell_type": "markdown",
   "metadata": {},
   "source": [
    "# Context Selection Discovery\n",
    "\n",
    "\n",
    "## Assumptions\n",
    "In this notebook, I will explore the relevancy of various contexts for semantic information. I begin with a few assumptions:\n",
    "\n",
    "1. Semantic meaning is inextricably linked with syntactic structure and vice versa. Here I depend on construction grammar theory similar to Goldberg [(1995)](https://books.google.nl/books/about/Constructions.html?id=HzmGM0qCKtIC&redir_esc=y), but also informed by Talstra's theory on syntax and semantics [(1982)](/bibliography.txt).\n",
    "\n",
    "2. Following from 1, the constituents within a noun's clause play a key role in distinguishing a noun's meaning. This is a principle that all lexicographers acknowledge when they survey a word's use in context.\n",
    "\n",
    "3. Nouns that are similar in meaning will exhibit similar collocational preferences with respect to their constituents. This principle is also known as the distributional principle, attributed to Firth: \"you shall know a word by the company it keeps\" (e.g. [1962](/bibliography.txt)). \n",
    "\n",
    "## Candidate Constituents\n",
    "\n",
    "I hypothesize that the following constituency relations can be expecially important for determining semantic meaning:\n",
    "\n",
    "1. object(noun) -> verb\n",
    "2. subject(noun) -> verb\n",
    "3. noun -> coordinate(noun)\n",
    "4. verbing like a <- (noun)\n",
    "5. subject(noun) -> was a {adjective}(noun)\n",
    "\n",
    "To test these 5 candidates, I will run some queries below in BHSA using TF Search and some templates. I will manually inspect the clauses to see if there are any other considerations which should be made when constructing the selection parameters for notebook 3.\n",
    "\n",
    "I will especially be testing groups of similar words identified through the [word2vec experiment](2. word2vec Experiment.ipynb)."
   ]
  },
  {
   "cell_type": "code",
   "execution_count": 1,
   "metadata": {},
   "outputs": [],
   "source": [
    "# First, I load the necesssary modules, data, and helper functions.\n",
    "import collections\n",
    "from tf.fabric import Fabric\n",
    "from functions.helpers import show_results, filter_results\n",
    "\n",
    "# load BHSA data into TF\n",
    "TF = Fabric(locations='~/github/etcbc/bhsa/tf', modules='c', silent=True)\n",
    "api = TF.load('''\n",
    "                book chapter verse\n",
    "                function sp pdp mother\n",
    "                rela\n",
    "                g_lex_utf8 trailer_utf8\n",
    "              ''', silent=True)\n",
    "api.makeAvailableIn(globals()) # globalize TF methods"
   ]
  },
  {
   "cell_type": "markdown",
   "metadata": {},
   "source": [
    "### object -> verb\n",
    "noun is within an object clause"
   ]
  },
  {
   "cell_type": "code",
   "execution_count": 2,
   "metadata": {
    "collapsed": true
   },
   "outputs": [],
   "source": [
    "obj_vrb = '''\n",
    "clause\n",
    "    phrase function=Objc\n",
    "        word {wPar}\n",
    "    phrase function=Pred|PreS\n",
    "        word pdp=verb {vPar}\n",
    "'''"
   ]
  },
  {
   "cell_type": "markdown",
   "metadata": {},
   "source": [
    "Bread and wine, as suggested by a previous iteration of the word2vec experiment."
   ]
  },
  {
   "cell_type": "code",
   "execution_count": 3,
   "metadata": {},
   "outputs": [
    {
     "data": {
      "text/html": [
       "<span style=\"font-family: Times New Roman; font-size: 14px; line-height: 1\">1. Genesis 3:19</span>"
      ],
      "text/plain": [
       "<IPython.core.display.HTML object>"
      ]
     },
     "metadata": {},
     "output_type": "display_data"
    },
    {
     "data": {
      "text/html": [
       "<span style=\"font-family: Times New Roman; font-size: 20px; line-height: 1\">בְּזֵעַ֤ת אַפֶּ֨יךָ֙ <span style=\"color: blue\">תֹּ֣אכַל </span><span style=\"color: blue\">לֶ֔חֶם </span></span>"
      ],
      "text/plain": [
       "<IPython.core.display.HTML object>"
      ]
     },
     "metadata": {},
     "output_type": "display_data"
    },
    {
     "name": "stdout",
     "output_type": "stream",
     "text": [
      "-------------------- \n",
      "\n"
     ]
    },
    {
     "data": {
      "text/html": [
       "<span style=\"font-family: Times New Roman; font-size: 14px; line-height: 1\">2. Genesis 14:18</span>"
      ],
      "text/plain": [
       "<IPython.core.display.HTML object>"
      ]
     },
     "metadata": {},
     "output_type": "display_data"
    },
    {
     "data": {
      "text/html": [
       "<span style=\"font-family: Times New Roman; font-size: 20px; line-height: 1\">וּמַלְכִּי־צֶ֨דֶק֙ מֶ֣לֶךְ שָׁלֵ֔ם <span style=\"color: blue\">הֹוצִ֖יא </span><span style=\"color: blue\">לֶ֣חֶם </span>וָיָ֑יִן </span>"
      ],
      "text/plain": [
       "<IPython.core.display.HTML object>"
      ]
     },
     "metadata": {},
     "output_type": "display_data"
    },
    {
     "name": "stdout",
     "output_type": "stream",
     "text": [
      "-------------------- \n",
      "\n"
     ]
    },
    {
     "data": {
      "text/html": [
       "<span style=\"font-family: Times New Roman; font-size: 14px; line-height: 1\">3. Genesis 14:18</span>"
      ],
      "text/plain": [
       "<IPython.core.display.HTML object>"
      ]
     },
     "metadata": {},
     "output_type": "display_data"
    },
    {
     "data": {
      "text/html": [
       "<span style=\"font-family: Times New Roman; font-size: 20px; line-height: 1\">וּמַלְכִּי־צֶ֨דֶק֙ מֶ֣לֶךְ שָׁלֵ֔ם <span style=\"color: blue\">הֹוצִ֖יא </span>לֶ֣חֶם וָ<span style=\"color: blue\">יָ֑יִן </span></span>"
      ],
      "text/plain": [
       "<IPython.core.display.HTML object>"
      ]
     },
     "metadata": {},
     "output_type": "display_data"
    },
    {
     "name": "stdout",
     "output_type": "stream",
     "text": [
      "-------------------- \n",
      "\n"
     ]
    },
    {
     "data": {
      "text/html": [
       "<span style=\"font-family: Times New Roman; font-size: 14px; line-height: 1\">4. Genesis 18:5</span>"
      ],
      "text/plain": [
       "<IPython.core.display.HTML object>"
      ]
     },
     "metadata": {},
     "output_type": "display_data"
    },
    {
     "data": {
      "text/html": [
       "<span style=\"font-family: Times New Roman; font-size: 20px; line-height: 1\">וְ<span style=\"color: blue\">אֶקְחָ֨ה </span>פַת־<span style=\"color: blue\">לֶ֜חֶם </span></span>"
      ],
      "text/plain": [
       "<IPython.core.display.HTML object>"
      ]
     },
     "metadata": {},
     "output_type": "display_data"
    },
    {
     "name": "stdout",
     "output_type": "stream",
     "text": [
      "-------------------- \n",
      "\n"
     ]
    },
    {
     "data": {
      "text/html": [
       "<span style=\"font-family: Times New Roman; font-size: 14px; line-height: 1\">5. Genesis 19:32</span>"
      ],
      "text/plain": [
       "<IPython.core.display.HTML object>"
      ]
     },
     "metadata": {},
     "output_type": "display_data"
    },
    {
     "data": {
      "text/html": [
       "<span style=\"font-family: Times New Roman; font-size: 20px; line-height: 1\"><span style=\"color: blue\">נַשְׁקֶ֧ה </span>אֶת־אָבִ֛ינוּ <span style=\"color: blue\">יַ֖יִן </span></span>"
      ],
      "text/plain": [
       "<IPython.core.display.HTML object>"
      ]
     },
     "metadata": {},
     "output_type": "display_data"
    },
    {
     "name": "stdout",
     "output_type": "stream",
     "text": [
      "-------------------- \n",
      "\n"
     ]
    }
   ],
   "source": [
    "dinner = 'lex=LXM/|JJN/'\n",
    "\n",
    "S.search(obj_vrb.format(wPar=dinner, vPar=''))\n",
    "dinner_results = sorted(S.fetch())\n",
    "\n",
    "show_results(dinner_results[:5], highlight=[2, 4])"
   ]
  },
  {
   "cell_type": "markdown",
   "metadata": {},
   "source": [
    "In the expanded results, while there is some cross over between לחם and יין, such as the hiphil of יצא, the words consistently prefer two different verb types. לחם prefers the verb אכל whereas יין prefers verbs such as שתה or שקה. While these two words appeared together in a previous iteration of the word2vec experiment, they are different. Food is eaten. Drink is drunken. To test the hypothesis now, I apply the same search to see if the nouns that collect around אכל are similar in meaning, as I expect them to be."
   ]
  },
  {
   "cell_type": "code",
   "execution_count": 4,
   "metadata": {},
   "outputs": [
    {
     "data": {
      "text/html": [
       "<span style=\"font-family: Times New Roman; font-size: 14px; line-height: 1\">1. Genesis 3:14</span>"
      ],
      "text/plain": [
       "<IPython.core.display.HTML object>"
      ]
     },
     "metadata": {},
     "output_type": "display_data"
    },
    {
     "data": {
      "text/html": [
       "<span style=\"font-family: Times New Roman; font-size: 20px; line-height: 1\">וְ<span style=\"color: blue\">עָפָ֥ר </span><span style=\"color: blue\">תֹּאכַ֖ל </span>כָּל־יְמֵ֥י חַיֶּֽיךָ׃ </span>"
      ],
      "text/plain": [
       "<IPython.core.display.HTML object>"
      ]
     },
     "metadata": {},
     "output_type": "display_data"
    },
    {
     "name": "stdout",
     "output_type": "stream",
     "text": [
      "-------------------- \n",
      "\n"
     ]
    },
    {
     "data": {
      "text/html": [
       "<span style=\"font-family: Times New Roman; font-size: 14px; line-height: 1\">2. Genesis 3:18</span>"
      ],
      "text/plain": [
       "<IPython.core.display.HTML object>"
      ]
     },
     "metadata": {},
     "output_type": "display_data"
    },
    {
     "data": {
      "text/html": [
       "<span style=\"font-family: Times New Roman; font-size: 20px; line-height: 1\">וְ<span style=\"color: blue\">אָכַלְתָּ֖ </span><span style=\"color: blue\">אֶת־</span><span style=\"color: blue\">עֵ֥שֶׂב </span><span style=\"color: blue\">הַ</span><span style=\"color: blue\">שָּׂדֶֽה׃ </span></span>"
      ],
      "text/plain": [
       "<IPython.core.display.HTML object>"
      ]
     },
     "metadata": {},
     "output_type": "display_data"
    },
    {
     "name": "stdout",
     "output_type": "stream",
     "text": [
      "-------------------- \n",
      "\n"
     ]
    },
    {
     "data": {
      "text/html": [
       "<span style=\"font-family: Times New Roman; font-size: 14px; line-height: 1\">3. Genesis 3:19</span>"
      ],
      "text/plain": [
       "<IPython.core.display.HTML object>"
      ]
     },
     "metadata": {},
     "output_type": "display_data"
    },
    {
     "data": {
      "text/html": [
       "<span style=\"font-family: Times New Roman; font-size: 20px; line-height: 1\">בְּזֵעַ֤ת אַפֶּ֨יךָ֙ <span style=\"color: blue\">תֹּ֣אכַל </span><span style=\"color: blue\">לֶ֔חֶם </span></span>"
      ],
      "text/plain": [
       "<IPython.core.display.HTML object>"
      ]
     },
     "metadata": {},
     "output_type": "display_data"
    },
    {
     "name": "stdout",
     "output_type": "stream",
     "text": [
      "-------------------- \n",
      "\n"
     ]
    },
    {
     "data": {
      "text/html": [
       "<span style=\"font-family: Times New Roman; font-size: 14px; line-height: 1\">4. Genesis 9:4</span>"
      ],
      "text/plain": [
       "<IPython.core.display.HTML object>"
      ]
     },
     "metadata": {},
     "output_type": "display_data"
    },
    {
     "data": {
      "text/html": [
       "<span style=\"font-family: Times New Roman; font-size: 20px; line-height: 1\"><span style=\"color: blue\">אַךְ־</span><span style=\"color: blue\">בָּשָׂ֕ר </span><span style=\"color: blue\">בְּ</span><span style=\"color: blue\">נַפְשֹׁ֥ו </span><span style=\"color: blue\">דָמֹ֖ו </span>לֹ֥א <span style=\"color: blue\">תֹאכֵֽלוּ׃ </span></span>"
      ],
      "text/plain": [
       "<IPython.core.display.HTML object>"
      ]
     },
     "metadata": {},
     "output_type": "display_data"
    },
    {
     "name": "stdout",
     "output_type": "stream",
     "text": [
      "-------------------- \n",
      "\n"
     ]
    },
    {
     "data": {
      "text/html": [
       "<span style=\"font-family: Times New Roman; font-size: 14px; line-height: 1\">5. Genesis 31:15</span>"
      ],
      "text/plain": [
       "<IPython.core.display.HTML object>"
      ]
     },
     "metadata": {},
     "output_type": "display_data"
    },
    {
     "data": {
      "text/html": [
       "<span style=\"font-family: Times New Roman; font-size: 20px; line-height: 1\">וַ<span style=\"color: blue\">יֹּ֥אכַל </span>גַּם־אָכֹ֖ול <span style=\"color: blue\">אֶת־</span><span style=\"color: blue\">כַּסְפֵּֽנוּ׃ </span></span>"
      ],
      "text/plain": [
       "<IPython.core.display.HTML object>"
      ]
     },
     "metadata": {},
     "output_type": "display_data"
    },
    {
     "name": "stdout",
     "output_type": "stream",
     "text": [
      "-------------------- \n",
      "\n",
      "results cut off at 5\n"
     ]
    }
   ],
   "source": [
    "S.search(obj_vrb.format(wPar='sp=subs', vPar='lex=>KL['))\n",
    "food_results = sorted(filter_results(S.fetch(), levels={'word'}))\n",
    "\n",
    "show_results(food_results, limit=5, highlight=[1, 3])"
   ]
  },
  {
   "cell_type": "markdown",
   "metadata": {},
   "source": [
    "And with drinking..."
   ]
  },
  {
   "cell_type": "code",
   "execution_count": 5,
   "metadata": {},
   "outputs": [
    {
     "data": {
      "text/html": [
       "<span style=\"font-family: Times New Roman; font-size: 14px; line-height: 1\">1. Exodus 7:18</span>"
      ],
      "text/plain": [
       "<IPython.core.display.HTML object>"
      ]
     },
     "metadata": {},
     "output_type": "display_data"
    },
    {
     "data": {
      "text/html": [
       "<span style=\"font-family: Times New Roman; font-size: 20px; line-height: 1\"><span style=\"color: blue\">לִ</span><span style=\"color: blue\">שְׁתֹּ֥ות </span><span style=\"color: blue\">מַ֖יִם </span>מִן־הַיְאֹֽר׃ ס </span>"
      ],
      "text/plain": [
       "<IPython.core.display.HTML object>"
      ]
     },
     "metadata": {},
     "output_type": "display_data"
    },
    {
     "name": "stdout",
     "output_type": "stream",
     "text": [
      "-------------------- \n",
      "\n"
     ]
    },
    {
     "data": {
      "text/html": [
       "<span style=\"font-family: Times New Roman; font-size: 14px; line-height: 1\">2. Exodus 7:21</span>"
      ],
      "text/plain": [
       "<IPython.core.display.HTML object>"
      ]
     },
     "metadata": {},
     "output_type": "display_data"
    },
    {
     "data": {
      "text/html": [
       "<span style=\"font-family: Times New Roman; font-size: 20px; line-height: 1\"><span style=\"color: blue\">לִ</span><span style=\"color: blue\">שְׁתֹּ֥ות </span><span style=\"color: blue\">מַ֖יִם </span>מִן־הַיְאֹ֑ר </span>"
      ],
      "text/plain": [
       "<IPython.core.display.HTML object>"
      ]
     },
     "metadata": {},
     "output_type": "display_data"
    },
    {
     "name": "stdout",
     "output_type": "stream",
     "text": [
      "-------------------- \n",
      "\n"
     ]
    },
    {
     "data": {
      "text/html": [
       "<span style=\"font-family: Times New Roman; font-size: 14px; line-height: 1\">3. Exodus 15:23</span>"
      ],
      "text/plain": [
       "<IPython.core.display.HTML object>"
      ]
     },
     "metadata": {},
     "output_type": "display_data"
    },
    {
     "data": {
      "text/html": [
       "<span style=\"font-family: Times New Roman; font-size: 20px; line-height: 1\"><span style=\"color: blue\">לִ</span><span style=\"color: blue\">שְׁתֹּ֥ת </span><span style=\"color: blue\">מַ֨יִם֙ </span>מִמָּרָ֔ה </span>"
      ],
      "text/plain": [
       "<IPython.core.display.HTML object>"
      ]
     },
     "metadata": {},
     "output_type": "display_data"
    },
    {
     "name": "stdout",
     "output_type": "stream",
     "text": [
      "-------------------- \n",
      "\n"
     ]
    },
    {
     "data": {
      "text/html": [
       "<span style=\"font-family: Times New Roman; font-size: 14px; line-height: 1\">4. Exodus 34:28</span>"
      ],
      "text/plain": [
       "<IPython.core.display.HTML object>"
      ]
     },
     "metadata": {},
     "output_type": "display_data"
    },
    {
     "data": {
      "text/html": [
       "<span style=\"font-family: Times New Roman; font-size: 20px; line-height: 1\">וּ<span style=\"color: blue\">מַ֖יִם </span>לֹ֣א <span style=\"color: blue\">שָׁתָ֑ה </span></span>"
      ],
      "text/plain": [
       "<IPython.core.display.HTML object>"
      ]
     },
     "metadata": {},
     "output_type": "display_data"
    },
    {
     "name": "stdout",
     "output_type": "stream",
     "text": [
      "-------------------- \n",
      "\n"
     ]
    },
    {
     "data": {
      "text/html": [
       "<span style=\"font-family: Times New Roman; font-size: 14px; line-height: 1\">5. Leviticus 10:9</span>"
      ],
      "text/plain": [
       "<IPython.core.display.HTML object>"
      ]
     },
     "metadata": {},
     "output_type": "display_data"
    },
    {
     "data": {
      "text/html": [
       "<span style=\"font-family: Times New Roman; font-size: 20px; line-height: 1\"><span style=\"color: blue\">יַ֣יִן </span><span style=\"color: blue\">וְ</span><span style=\"color: blue\">שֵׁכָ֞ר </span>אַל־<span style=\"color: blue\">תֵּ֣שְׁתְּ׀ </span>אַתָּ֣ה׀ וּבָנֶ֣יךָ אִתָּ֗ךְ </span>"
      ],
      "text/plain": [
       "<IPython.core.display.HTML object>"
      ]
     },
     "metadata": {},
     "output_type": "display_data"
    },
    {
     "name": "stdout",
     "output_type": "stream",
     "text": [
      "-------------------- \n",
      "\n",
      "results cut off at 5\n"
     ]
    }
   ],
   "source": [
    "S.search(obj_vrb.format(wPar='sp=subs', vPar='lex=CTH['))\n",
    "drink_results = sorted(filter_results(S.fetch(), levels={'word'}))\n",
    "         \n",
    "show_results(drink_results, limit=5, highlight=[1, 3])"
   ]
  },
  {
   "cell_type": "markdown",
   "metadata": {},
   "source": [
    "Looking through the expanded results, it appears that the assumption is good. However, a few important caveats are necessary.\n",
    "\n",
    "* Polysemy might complicate some results. For instance, בשׂר occurs quite frequently, which of course is expected since it can mean something like \"meat\". But there are other uses of this noun that do not relate to meat that is eaten. \n",
    "\n",
    "* Figures of speech, especially in discursive portions, could also introduce some spurious correlations. For instance, in Gen 47:22, Jacob's family eats the חֹק of Pharaoh. I.e. it is their apportionment from him. Another example is the עפר which the serpent will eat in the Gen 3:14 curse. \n",
    "    * A side example here is the use of the construct to create uniquely defined nouns. For instance, in Deut 32:14 the term דם־ענב is used, which is of course quite different than דם when used elsewhere! Another is the use of מימי רגליהם in Isa 36:16, a euphemism for urine.\n",
    "\n",
    "Excluding discursive clauses could mitigate some of this potential bias. Also, further refining of the word relations might be achieved later on after the initial vector analysis.\n",
    "\n",
    "**important observation**: Upon entering the verb שקה (\"give drink\") in a previous version of the above search, I found an important feature which should be added to the context selection function. The stem of the verb can be a crucial distinction of meaning. Most instances of שקה are in the hiphil. But it can also be seen in the use of the hiphil of יצא for \"to bring out,\" as it is used with bread and wine. \n",
    "\n",
    "Thus: **The verb stem should be attached to the verb lexeme during the selection process.**\n",
    "\n",
    "Based on my visual inspection here, the context of `object(noun) -> verb` should be weighted heavily."
   ]
  },
  {
   "cell_type": "markdown",
   "metadata": {},
   "source": [
    "### subject -> verb\n",
    "\n",
    "Do certain subjects prefer certain verbs? My expectation is that this is a less important consideration. I also expect that certain verb roots should be excluded, most especially the verb היה, which probably contributes very little to disambiguation in these cases. For these searches, I exclude matches that have היה as the primary verb."
   ]
  },
  {
   "cell_type": "code",
   "execution_count": 6,
   "metadata": {},
   "outputs": [],
   "source": [
    "sbj_vrb = '''\n",
    "clause\n",
    "    phrase function=Subj\n",
    "        word {wPar}\n",
    "    phrase function=Pred|PreS\n",
    "        word pdp=verb {vPar}\n",
    "'''"
   ]
  },
  {
   "cell_type": "markdown",
   "metadata": {},
   "source": [
    "With two synonyms for \"chief,\" as found by word2vec..."
   ]
  },
  {
   "cell_type": "code",
   "execution_count": 7,
   "metadata": {},
   "outputs": [
    {
     "data": {
      "text/html": [
       "<span style=\"font-family: Times New Roman; font-size: 14px; line-height: 1\">1. Genesis 12:15</span>"
      ],
      "text/plain": [
       "<IPython.core.display.HTML object>"
      ]
     },
     "metadata": {},
     "output_type": "display_data"
    },
    {
     "data": {
      "text/html": [
       "<span style=\"font-family: Times New Roman; font-size: 20px; line-height: 1\">וַ<span style=\"color: blue\">יִּרְא֤וּ </span>אֹתָהּ֙ <span style=\"color: blue\">שָׂרֵ֣י </span>פַרְעֹ֔ה </span>"
      ],
      "text/plain": [
       "<IPython.core.display.HTML object>"
      ]
     },
     "metadata": {},
     "output_type": "display_data"
    },
    {
     "name": "stdout",
     "output_type": "stream",
     "text": [
      "-------------------- \n",
      "\n"
     ]
    },
    {
     "data": {
      "text/html": [
       "<span style=\"font-family: Times New Roman; font-size: 14px; line-height: 1\">2. Genesis 21:22</span>"
      ],
      "text/plain": [
       "<IPython.core.display.HTML object>"
      ]
     },
     "metadata": {},
     "output_type": "display_data"
    },
    {
     "data": {
      "text/html": [
       "<span style=\"font-family: Times New Roman; font-size: 20px; line-height: 1\">וַ<span style=\"color: blue\">יֹּ֣אמֶר </span>אֲבִימֶ֗לֶךְ וּפִיכֹל֙ <span style=\"color: blue\">שַׂר־</span>צְבָאֹ֔ו אֶל־אַבְרָהָ֖ם </span>"
      ],
      "text/plain": [
       "<IPython.core.display.HTML object>"
      ]
     },
     "metadata": {},
     "output_type": "display_data"
    },
    {
     "name": "stdout",
     "output_type": "stream",
     "text": [
      "-------------------- \n",
      "\n"
     ]
    },
    {
     "data": {
      "text/html": [
       "<span style=\"font-family: Times New Roman; font-size: 14px; line-height: 1\">3. Genesis 21:32</span>"
      ],
      "text/plain": [
       "<IPython.core.display.HTML object>"
      ]
     },
     "metadata": {},
     "output_type": "display_data"
    },
    {
     "data": {
      "text/html": [
       "<span style=\"font-family: Times New Roman; font-size: 20px; line-height: 1\">וַ<span style=\"color: blue\">יָּ֣קָם </span>אֲבִימֶ֗לֶךְ וּפִיכֹל֙ <span style=\"color: blue\">שַׂר־</span>צְבָאֹ֔ו </span>"
      ],
      "text/plain": [
       "<IPython.core.display.HTML object>"
      ]
     },
     "metadata": {},
     "output_type": "display_data"
    },
    {
     "name": "stdout",
     "output_type": "stream",
     "text": [
      "-------------------- \n",
      "\n"
     ]
    },
    {
     "data": {
      "text/html": [
       "<span style=\"font-family: Times New Roman; font-size: 14px; line-height: 1\">4. Genesis 39:22</span>"
      ],
      "text/plain": [
       "<IPython.core.display.HTML object>"
      ]
     },
     "metadata": {},
     "output_type": "display_data"
    },
    {
     "data": {
      "text/html": [
       "<span style=\"font-family: Times New Roman; font-size: 20px; line-height: 1\">וַ<span style=\"color: blue\">יִּתֵּ֞ן </span><span style=\"color: blue\">שַׂ֤ר </span>בֵּית־הַסֹּ֨הַר֙ בְּיַד־יֹוסֵ֔ף אֵ֚ת כָּל־הָ֣אֲסִירִ֔ם </span>"
      ],
      "text/plain": [
       "<IPython.core.display.HTML object>"
      ]
     },
     "metadata": {},
     "output_type": "display_data"
    },
    {
     "name": "stdout",
     "output_type": "stream",
     "text": [
      "-------------------- \n",
      "\n"
     ]
    },
    {
     "data": {
      "text/html": [
       "<span style=\"font-family: Times New Roman; font-size: 14px; line-height: 1\">5. Genesis 40:4</span>"
      ],
      "text/plain": [
       "<IPython.core.display.HTML object>"
      ]
     },
     "metadata": {},
     "output_type": "display_data"
    },
    {
     "data": {
      "text/html": [
       "<span style=\"font-family: Times New Roman; font-size: 20px; line-height: 1\">וַ֠<span style=\"color: blue\">יִּפְקֹד </span><span style=\"color: blue\">שַׂ֣ר </span>הַטַּבָּחִ֧ים אֶת־יֹוסֵ֛ף אִתָּ֖ם </span>"
      ],
      "text/plain": [
       "<IPython.core.display.HTML object>"
      ]
     },
     "metadata": {},
     "output_type": "display_data"
    },
    {
     "name": "stdout",
     "output_type": "stream",
     "text": [
      "-------------------- \n",
      "\n",
      "results cut off at 5\n"
     ]
    }
   ],
   "source": [
    "chiefs = 'lex=RB==/|FR/'\n",
    "\n",
    "S.search(sbj_vrb.format(wPar=chiefs, vPar=''))\n",
    "chiefs_results = sorted(S.fetch())\n",
    "\n",
    "show_results(chiefs_results, limit=5, highlight=[2, 4])"
   ]
  },
  {
   "cell_type": "markdown",
   "metadata": {},
   "source": [
    "There are many different verbs that occur with these nouns. But there are some encouraging tendencies:\n",
    "\n",
    "* Verbs that would be associated with human beings are frequently used: ראה, אמר, קום, פקד, ספר, זכר, קרב, שמע. \n",
    "* Another nice find is that many of these verbs also hint at their subject's status, such as קום, ספר,זכר, פקד.\n",
    "\n",
    "Now with son and brother, also identified by word2vec."
   ]
  },
  {
   "cell_type": "code",
   "execution_count": 8,
   "metadata": {},
   "outputs": [
    {
     "data": {
      "text/html": [
       "<span style=\"font-family: Times New Roman; font-size: 14px; line-height: 1\">1. Genesis 4:26</span>"
      ],
      "text/plain": [
       "<IPython.core.display.HTML object>"
      ]
     },
     "metadata": {},
     "output_type": "display_data"
    },
    {
     "data": {
      "text/html": [
       "<span style=\"font-family: Times New Roman; font-size: 20px; line-height: 1\">וּלְשֵׁ֤ת גַּם־הוּא֙ <span style=\"color: blue\">יֻלַּד־</span><span style=\"color: blue\">בֵּ֔ן </span></span>"
      ],
      "text/plain": [
       "<IPython.core.display.HTML object>"
      ]
     },
     "metadata": {},
     "output_type": "display_data"
    },
    {
     "name": "stdout",
     "output_type": "stream",
     "text": [
      "-------------------- \n",
      "\n"
     ]
    },
    {
     "data": {
      "text/html": [
       "<span style=\"font-family: Times New Roman; font-size: 14px; line-height: 1\">2. Genesis 6:2</span>"
      ],
      "text/plain": [
       "<IPython.core.display.HTML object>"
      ]
     },
     "metadata": {},
     "output_type": "display_data"
    },
    {
     "data": {
      "text/html": [
       "<span style=\"font-family: Times New Roman; font-size: 20px; line-height: 1\">וַ<span style=\"color: blue\">יִּרְא֤וּ </span><span style=\"color: blue\">בְנֵי־</span>הָֽאֱלֹהִים֙ אֶת־בְּנֹ֣ות הָֽאָדָ֔ם </span>"
      ],
      "text/plain": [
       "<IPython.core.display.HTML object>"
      ]
     },
     "metadata": {},
     "output_type": "display_data"
    },
    {
     "name": "stdout",
     "output_type": "stream",
     "text": [
      "-------------------- \n",
      "\n"
     ]
    },
    {
     "data": {
      "text/html": [
       "<span style=\"font-family: Times New Roman; font-size: 14px; line-height: 1\">3. Genesis 6:4</span>"
      ],
      "text/plain": [
       "<IPython.core.display.HTML object>"
      ]
     },
     "metadata": {},
     "output_type": "display_data"
    },
    {
     "data": {
      "text/html": [
       "<span style=\"font-family: Times New Roman; font-size: 20px; line-height: 1\">אֲשֶׁ֨ר <span style=\"color: blue\">יָבֹ֜אוּ </span><span style=\"color: blue\">בְּנֵ֤י </span>הָֽאֱלֹהִים֙ אֶל־בְּנֹ֣ות הָֽאָדָ֔ם </span>"
      ],
      "text/plain": [
       "<IPython.core.display.HTML object>"
      ]
     },
     "metadata": {},
     "output_type": "display_data"
    },
    {
     "name": "stdout",
     "output_type": "stream",
     "text": [
      "-------------------- \n",
      "\n"
     ]
    },
    {
     "data": {
      "text/html": [
       "<span style=\"font-family: Times New Roman; font-size: 14px; line-height: 1\">4. Genesis 6:18</span>"
      ],
      "text/plain": [
       "<IPython.core.display.HTML object>"
      ]
     },
     "metadata": {},
     "output_type": "display_data"
    },
    {
     "data": {
      "text/html": [
       "<span style=\"font-family: Times New Roman; font-size: 20px; line-height: 1\">וּ<span style=\"color: blue\">בָאתָ֙ </span>אֶל־הַתֵּבָ֔ה אַתָּ֕ה וּ<span style=\"color: blue\">בָנֶ֛יךָ </span>וְאִשְׁתְּךָ֥ וּנְשֵֽׁי־בָנֶ֖יךָ אִתָּֽךְ׃ </span>"
      ],
      "text/plain": [
       "<IPython.core.display.HTML object>"
      ]
     },
     "metadata": {},
     "output_type": "display_data"
    },
    {
     "name": "stdout",
     "output_type": "stream",
     "text": [
      "-------------------- \n",
      "\n"
     ]
    },
    {
     "data": {
      "text/html": [
       "<span style=\"font-family: Times New Roman; font-size: 14px; line-height: 1\">5. Genesis 6:18</span>"
      ],
      "text/plain": [
       "<IPython.core.display.HTML object>"
      ]
     },
     "metadata": {},
     "output_type": "display_data"
    },
    {
     "data": {
      "text/html": [
       "<span style=\"font-family: Times New Roman; font-size: 20px; line-height: 1\">וּ<span style=\"color: blue\">בָאתָ֙ </span>אֶל־הַתֵּבָ֔ה אַתָּ֕ה וּבָנֶ֛יךָ וְאִשְׁתְּךָ֥ וּנְשֵֽׁי־<span style=\"color: blue\">בָנֶ֖יךָ </span>אִתָּֽךְ׃ </span>"
      ],
      "text/plain": [
       "<IPython.core.display.HTML object>"
      ]
     },
     "metadata": {},
     "output_type": "display_data"
    },
    {
     "name": "stdout",
     "output_type": "stream",
     "text": [
      "-------------------- \n",
      "\n",
      "results cut off at 5\n"
     ]
    }
   ],
   "source": [
    "son_brother = 'lex=BN/|>X/'\n",
    "\n",
    "S.search(sbj_vrb.format(wPar=son_brother, vPar=''))\n",
    "sb_results = sorted(S.fetch())\n",
    "\n",
    "show_results(sb_results, limit=5, highlight=[2, 4])"
   ]
  },
  {
   "cell_type": "markdown",
   "metadata": {},
   "source": [
    "It's a bit harder to see any prevalent verbs amongst these groups. It's obvious that many verbs are shared with the \"chiefs\", such as אמר. Verbs of movement like בוא occur a lot, it seems.\n",
    "\n",
    "**suggestion**: It may be a good idea to weigh this relationship less heavily than the object -> verb relationship. So many different kinds of verbs are likely to be used with these nouns, and there is likely to be heavy overlap amongst the living nouns.\n",
    "\n",
    "### Coordinates\n",
    "\n",
    "Words which occur in coordination are probably related somehow. The word2vec experiment picked up on this by grouping animals and temple items together that are included in biblical lists.\n",
    "\n",
    "For this search it is better to do a loop with TF methods."
   ]
  },
  {
   "cell_type": "code",
   "execution_count": 10,
   "metadata": {},
   "outputs": [
    {
     "data": {
      "text/html": [
       "<span style=\"font-family: Times New Roman; font-size: 14px; line-height: 1\">1. Numbers 2:4</span>"
      ],
      "text/plain": [
       "<IPython.core.display.HTML object>"
      ]
     },
     "metadata": {},
     "output_type": "display_data"
    },
    {
     "data": {
      "text/html": [
       "<span style=\"font-family: Times New Roman; font-size: 20px; line-height: 1\">וּצְבָאֹ֖ו וּפְקֻדֵיהֶ֑ם <span style=\"color: blue\">אַרְבָּעָ֧ה </span>וְ<span style=\"color: blue\">שִׁבְעִ֛ים </span>אֶ֖לֶף וְשֵׁ֥שׁ מֵאֹֽות׃ </span>"
      ],
      "text/plain": [
       "<IPython.core.display.HTML object>"
      ]
     },
     "metadata": {},
     "output_type": "display_data"
    },
    {
     "name": "stdout",
     "output_type": "stream",
     "text": [
      "-------------------- \n",
      "\n"
     ]
    },
    {
     "data": {
      "text/html": [
       "<span style=\"font-family: Times New Roman; font-size: 14px; line-height: 1\">2. Psalms 85:11</span>"
      ],
      "text/plain": [
       "<IPython.core.display.HTML object>"
      ]
     },
     "metadata": {},
     "output_type": "display_data"
    },
    {
     "data": {
      "text/html": [
       "<span style=\"font-family: Times New Roman; font-size: 20px; line-height: 1\"><span style=\"color: blue\">צֶ֖דֶק </span>וְ<span style=\"color: blue\">שָׁלֹ֣ום </span>נָשָֽׁקוּ׃ </span>"
      ],
      "text/plain": [
       "<IPython.core.display.HTML object>"
      ]
     },
     "metadata": {},
     "output_type": "display_data"
    },
    {
     "name": "stdout",
     "output_type": "stream",
     "text": [
      "-------------------- \n",
      "\n"
     ]
    },
    {
     "data": {
      "text/html": [
       "<span style=\"font-family: Times New Roman; font-size: 14px; line-height: 1\">3. Genesis 36:18</span>"
      ],
      "text/plain": [
       "<IPython.core.display.HTML object>"
      ]
     },
     "metadata": {},
     "output_type": "display_data"
    },
    {
     "data": {
      "text/html": [
       "<span style=\"font-family: Times New Roman; font-size: 20px; line-height: 1\"><span style=\"color: blue\">אַלּ֥וּף </span><span style=\"color: blue\">יְע֛וּשׁ </span><span style=\"color: blue\">אַלּ֥וּף </span><span style=\"color: blue\">יַעְלָ֖ם </span>אַלּ֣וּף קֹ֑רַח </span>"
      ],
      "text/plain": [
       "<IPython.core.display.HTML object>"
      ]
     },
     "metadata": {},
     "output_type": "display_data"
    },
    {
     "name": "stdout",
     "output_type": "stream",
     "text": [
      "-------------------- \n",
      "\n"
     ]
    },
    {
     "data": {
      "text/html": [
       "<span style=\"font-family: Times New Roman; font-size: 14px; line-height: 1\">4. 2_Samuel 3:1</span>"
      ],
      "text/plain": [
       "<IPython.core.display.HTML object>"
      ]
     },
     "metadata": {},
     "output_type": "display_data"
    },
    {
     "data": {
      "text/html": [
       "<span style=\"font-family: Times New Roman; font-size: 20px; line-height: 1\">וַתְּהִ֤י הַמִּלְחָמָה֙ אֲרֻכָּ֔ה <span style=\"color: blue\">בֵּ֚ין </span><span style=\"color: blue\">בֵּ֣ית </span><span style=\"color: blue\">שָׁא֔וּל </span>וּ<span style=\"color: blue\">בֵ֖ין </span><span style=\"color: blue\">בֵּ֣ית </span><span style=\"color: blue\">דָּוִ֑ד </span></span>"
      ],
      "text/plain": [
       "<IPython.core.display.HTML object>"
      ]
     },
     "metadata": {},
     "output_type": "display_data"
    },
    {
     "name": "stdout",
     "output_type": "stream",
     "text": [
      "-------------------- \n",
      "\n"
     ]
    },
    {
     "data": {
      "text/html": [
       "<span style=\"font-family: Times New Roman; font-size: 14px; line-height: 1\">5. Ezra 9:12</span>"
      ],
      "text/plain": [
       "<IPython.core.display.HTML object>"
      ]
     },
     "metadata": {},
     "output_type": "display_data"
    },
    {
     "data": {
      "text/html": [
       "<span style=\"font-family: Times New Roman; font-size: 20px; line-height: 1\">וְלֹֽא־תִדְרְשׁ֧וּ <span style=\"color: blue\">שְׁלֹמָ֛ם </span>וְ<span style=\"color: blue\">טֹובָתָ֖ם </span>עַד־עֹולָ֑ם </span>"
      ],
      "text/plain": [
       "<IPython.core.display.HTML object>"
      ]
     },
     "metadata": {},
     "output_type": "display_data"
    },
    {
     "name": "stdout",
     "output_type": "stream",
     "text": [
      "-------------------- \n",
      "\n",
      "results cut off at 5\n"
     ]
    }
   ],
   "source": [
    "coord_results = []\n",
    "\n",
    "for sp in F.otype.s('subphrase'):\n",
    "\n",
    "    if F.rela.v(sp) != 'par':\n",
    "        continue\n",
    "        \n",
    "    sp_pos = set(F.sp.v(w) for w in L.d(sp, otype='word'))\n",
    "    co_pos = set(F.sp.v(w) for w in L.d(E.mother.f(sp)[0], otype='word'))\n",
    "    \n",
    "    if 'subs' in sp_pos and 'subs' in co_pos:\n",
    "        \n",
    "        result = (L.u(sp, otype='clause')[0], sp, E.mother.f(sp)[0])\n",
    "        coord_results.append(result)\n",
    "        \n",
    "show_results(coord_results, limit=5, highlight=[1, 2], random=True)"
   ]
  },
  {
   "cell_type": "markdown",
   "metadata": {},
   "source": [
    "These results are quite encouraging. I see a lot of similar meanings reflected in the parallel relationships. This feature should indeed be considered."
   ]
  }
 ],
 "metadata": {
  "kernelspec": {
   "display_name": "Python 3",
   "language": "python",
   "name": "python3"
  },
  "language_info": {
   "codemirror_mode": {
    "name": "ipython",
    "version": 3
   },
   "file_extension": ".py",
   "mimetype": "text/x-python",
   "name": "python",
   "nbconvert_exporter": "python",
   "pygments_lexer": "ipython3",
   "version": "3.6.3"
  }
 },
 "nbformat": 4,
 "nbformat_minor": 2
}
