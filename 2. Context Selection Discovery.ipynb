{
 "cells": [
  {
   "cell_type": "markdown",
   "metadata": {},
   "source": [
    "# Context Selection Discovery\n",
    "\n",
    "\n",
    "## Assumptions\n",
    "In this notebook, I will explore the relevancy of various contexts for semantic information. I begin with a few assumptions:\n",
    "\n",
    "1. Semantic meaning is inextricably linked with syntactic structure and vice versa. Here I depend on construction grammar theory similar to Goldberg [(1995)](https://books.google.nl/books/about/Constructions.html?id=HzmGM0qCKtIC&redir_esc=y), but also informed by Talstra's theory on syntax and semantics [(1982)](/bibliography.txt).\n",
    "\n",
    "2. Following from 1, the constituents within a noun's clause play a key role in distinguishing a noun's meaning. This is a principle that all lexicographers acknowledge when they survey a word's use in context.\n",
    "\n",
    "3. Nouns that are similar in meaning will exhibit similar collocational preferences with respect to their constituents. This principle is also known as the distributional principle, attributed to Firth: \"you shall know a word by the company it keeps\" (e.g. [1962](/bibliography.txt)). \n",
    "\n",
    "## Candidate Constituents\n",
    "\n",
    "I hypothesize that the following constituency relations can be especially important for determining semantic meaning:\n",
    "\n",
    "1. object(noun) -> verb\n",
    "2. subject(noun) -> verb\n",
    "3. noun -> coordinate(noun)\n",
    "4. apposition(noun) -> noun\n",
    "5. verbing like a <- (noun)\n",
    "6. subject(noun) -> is a {adjective}(noun)\n",
    "\n",
    "To test these 6 candidates, I will run some queries below in BHSA using TF Search and some templates. I will manually inspect the clauses to see if there are any other considerations which should be made when constructing the selection parameters for notebook 3.\n",
    "\n",
    "I will especially be testing groups of similar words identified through the [word2vec experiment](2. word2vec Experiment.ipynb).\n",
    "\n",
    "Note that throughout this NB, I will examine a larger extract of the results. But for the purpose of space, after examination I limit the output to 5 results. To see all of the results from which I draw my conclusions, change \"limit\" to `5` for every `show_results` call. "
   ]
  },
  {
   "cell_type": "code",
   "execution_count": 1,
   "metadata": {},
   "outputs": [],
   "source": [
    "# First, I load the necesssary modules, data, and helper functions.\n",
    "import collections\n",
    "from tf.fabric import Fabric\n",
    "from functions.helpers import show_results, filter_results\n",
    "\n",
    "# load BHSA data into TF\n",
    "TF = Fabric(locations='~/github/etcbc/bhsa/tf', modules='c', silent=True)\n",
    "api = TF.load('''\n",
    "                book chapter verse\n",
    "                function sp pdp mother\n",
    "                rela\n",
    "                g_lex_utf8 trailer_utf8\n",
    "              ''', silent=True)\n",
    "api.makeAvailableIn(globals()) # globalize TF methods"
   ]
  },
  {
   "cell_type": "markdown",
   "metadata": {},
   "source": [
    "### object -> verb\n",
    "noun is within an object clause"
   ]
  },
  {
   "cell_type": "code",
   "execution_count": 2,
   "metadata": {
    "collapsed": true
   },
   "outputs": [],
   "source": [
    "obj_vrb = '''\n",
    "clause\n",
    "    phrase function=Objc\n",
    "        word {wPar}\n",
    "    phrase function=Pred|PreS\n",
    "        word pdp=verb {vPar}\n",
    "'''"
   ]
  },
  {
   "cell_type": "markdown",
   "metadata": {},
   "source": [
    "Bread and wine, as suggested by a previous iteration of the word2vec experiment."
   ]
  },
  {
   "cell_type": "code",
   "execution_count": 43,
   "metadata": {},
   "outputs": [
    {
     "name": "stdout",
     "output_type": "stream",
     "text": [
      "211 results\n",
      "\n"
     ]
    },
    {
     "data": {
      "text/html": [
       "<span style=\"font-family: Times New Roman; font-size: 18px; line-height: 1\">1. Genesis 3:19</span>"
      ],
      "text/plain": [
       "<IPython.core.display.HTML object>"
      ]
     },
     "metadata": {},
     "output_type": "display_data"
    },
    {
     "data": {
      "text/html": [
       "<span style=\"font-family: Times New Roman; font-size: 24px; line-height: 1\">בְּזֵעַ֤ת אַפֶּ֨יךָ֙ <span style=\"color: green\">תֹּ֣אכַל </span><span style=\"color: blue\">לֶ֔חֶם </span></span>"
      ],
      "text/plain": [
       "<IPython.core.display.HTML object>"
      ]
     },
     "metadata": {},
     "output_type": "display_data"
    },
    {
     "name": "stdout",
     "output_type": "stream",
     "text": [
      "-------------------- \n",
      "\n"
     ]
    },
    {
     "data": {
      "text/html": [
       "<span style=\"font-family: Times New Roman; font-size: 18px; line-height: 1\">2. Genesis 14:18</span>"
      ],
      "text/plain": [
       "<IPython.core.display.HTML object>"
      ]
     },
     "metadata": {},
     "output_type": "display_data"
    },
    {
     "data": {
      "text/html": [
       "<span style=\"font-family: Times New Roman; font-size: 24px; line-height: 1\">וּמַלְכִּי־צֶ֨דֶק֙ מֶ֣לֶךְ שָׁלֵ֔ם <span style=\"color: green\">הֹוצִ֖יא </span><span style=\"color: blue\">לֶ֣חֶם </span><span style=\"color: blue\">וָ</span><span style=\"color: blue\">יָ֑יִן </span></span>"
      ],
      "text/plain": [
       "<IPython.core.display.HTML object>"
      ]
     },
     "metadata": {},
     "output_type": "display_data"
    },
    {
     "name": "stdout",
     "output_type": "stream",
     "text": [
      "-------------------- \n",
      "\n"
     ]
    },
    {
     "data": {
      "text/html": [
       "<span style=\"font-family: Times New Roman; font-size: 18px; line-height: 1\">3. Genesis 18:5</span>"
      ],
      "text/plain": [
       "<IPython.core.display.HTML object>"
      ]
     },
     "metadata": {},
     "output_type": "display_data"
    },
    {
     "data": {
      "text/html": [
       "<span style=\"font-family: Times New Roman; font-size: 24px; line-height: 1\">וְ<span style=\"color: green\">אֶקְחָ֨ה </span><span style=\"color: blue\">פַת־</span><span style=\"color: blue\">לֶ֜חֶם </span></span>"
      ],
      "text/plain": [
       "<IPython.core.display.HTML object>"
      ]
     },
     "metadata": {},
     "output_type": "display_data"
    },
    {
     "name": "stdout",
     "output_type": "stream",
     "text": [
      "-------------------- \n",
      "\n"
     ]
    },
    {
     "data": {
      "text/html": [
       "<span style=\"font-family: Times New Roman; font-size: 18px; line-height: 1\">4. Genesis 19:32</span>"
      ],
      "text/plain": [
       "<IPython.core.display.HTML object>"
      ]
     },
     "metadata": {},
     "output_type": "display_data"
    },
    {
     "data": {
      "text/html": [
       "<span style=\"font-family: Times New Roman; font-size: 24px; line-height: 1\"><span style=\"color: green\">נַשְׁקֶ֧ה </span>אֶת־אָבִ֛ינוּ <span style=\"color: blue\">יַ֖יִן </span></span>"
      ],
      "text/plain": [
       "<IPython.core.display.HTML object>"
      ]
     },
     "metadata": {},
     "output_type": "display_data"
    },
    {
     "name": "stdout",
     "output_type": "stream",
     "text": [
      "-------------------- \n",
      "\n"
     ]
    },
    {
     "data": {
      "text/html": [
       "<span style=\"font-family: Times New Roman; font-size: 18px; line-height: 1\">5. Genesis 19:33</span>"
      ],
      "text/plain": [
       "<IPython.core.display.HTML object>"
      ]
     },
     "metadata": {},
     "output_type": "display_data"
    },
    {
     "data": {
      "text/html": [
       "<span style=\"font-family: Times New Roman; font-size: 24px; line-height: 1\">וַ<span style=\"color: green\">תַּשְׁקֶ֧יןָ </span>אֶת־אֲבִיהֶ֛ן <span style=\"color: blue\">יַ֖יִן </span>בַּלַּ֣יְלָה ה֑וּא </span>"
      ],
      "text/plain": [
       "<IPython.core.display.HTML object>"
      ]
     },
     "metadata": {},
     "output_type": "display_data"
    },
    {
     "name": "stdout",
     "output_type": "stream",
     "text": [
      "-------------------- \n",
      "\n",
      "results cut off at 5\n"
     ]
    }
   ],
   "source": [
    "dinner = 'lex=LXM/|JJN/'\n",
    "\n",
    "S.search(obj_vrb.format(wPar=dinner, vPar=''))\n",
    "dinner_results = sorted(filter_results(S.fetch(), levels=['word']))\n",
    "\n",
    "show_results(dinner_results, limit=5, highlight=[1, 3])"
   ]
  },
  {
   "cell_type": "markdown",
   "metadata": {},
   "source": [
    "In the expanded results, while there is some cross over between לחם and יין, such as the hiphil of יצא, the words consistently prefer two different verb types. לחם prefers the verb אכל whereas יין prefers verbs such as שתה or שקה. While these two words appeared together in a previous iteration of the word2vec experiment, they are different. Food is eaten. Drink is drunken. To test the hypothesis now, I apply the same search to see if the nouns that collect around אכל are similar in meaning, as I expect them to be."
   ]
  },
  {
   "cell_type": "code",
   "execution_count": 44,
   "metadata": {},
   "outputs": [
    {
     "name": "stdout",
     "output_type": "stream",
     "text": [
      "308 results\n",
      "\n"
     ]
    },
    {
     "data": {
      "text/html": [
       "<span style=\"font-family: Times New Roman; font-size: 18px; line-height: 1\">1. Genesis 3:14</span>"
      ],
      "text/plain": [
       "<IPython.core.display.HTML object>"
      ]
     },
     "metadata": {},
     "output_type": "display_data"
    },
    {
     "data": {
      "text/html": [
       "<span style=\"font-family: Times New Roman; font-size: 24px; line-height: 1\">וְ<span style=\"color: blue\">עָפָ֥ר </span><span style=\"color: green\">תֹּאכַ֖ל </span>כָּל־יְמֵ֥י חַיֶּֽיךָ׃ </span>"
      ],
      "text/plain": [
       "<IPython.core.display.HTML object>"
      ]
     },
     "metadata": {},
     "output_type": "display_data"
    },
    {
     "name": "stdout",
     "output_type": "stream",
     "text": [
      "-------------------- \n",
      "\n"
     ]
    },
    {
     "data": {
      "text/html": [
       "<span style=\"font-family: Times New Roman; font-size: 18px; line-height: 1\">2. Genesis 3:18</span>"
      ],
      "text/plain": [
       "<IPython.core.display.HTML object>"
      ]
     },
     "metadata": {},
     "output_type": "display_data"
    },
    {
     "data": {
      "text/html": [
       "<span style=\"font-family: Times New Roman; font-size: 24px; line-height: 1\">וְ<span style=\"color: green\">אָכַלְתָּ֖ </span><span style=\"color: blue\">אֶת־</span><span style=\"color: blue\">עֵ֥שֶׂב </span><span style=\"color: blue\">הַ</span><span style=\"color: blue\">שָּׂדֶֽה׃ </span></span>"
      ],
      "text/plain": [
       "<IPython.core.display.HTML object>"
      ]
     },
     "metadata": {},
     "output_type": "display_data"
    },
    {
     "name": "stdout",
     "output_type": "stream",
     "text": [
      "-------------------- \n",
      "\n"
     ]
    },
    {
     "data": {
      "text/html": [
       "<span style=\"font-family: Times New Roman; font-size: 18px; line-height: 1\">3. Genesis 3:19</span>"
      ],
      "text/plain": [
       "<IPython.core.display.HTML object>"
      ]
     },
     "metadata": {},
     "output_type": "display_data"
    },
    {
     "data": {
      "text/html": [
       "<span style=\"font-family: Times New Roman; font-size: 24px; line-height: 1\">בְּזֵעַ֤ת אַפֶּ֨יךָ֙ <span style=\"color: green\">תֹּ֣אכַל </span><span style=\"color: blue\">לֶ֔חֶם </span></span>"
      ],
      "text/plain": [
       "<IPython.core.display.HTML object>"
      ]
     },
     "metadata": {},
     "output_type": "display_data"
    },
    {
     "name": "stdout",
     "output_type": "stream",
     "text": [
      "-------------------- \n",
      "\n"
     ]
    },
    {
     "data": {
      "text/html": [
       "<span style=\"font-family: Times New Roman; font-size: 18px; line-height: 1\">4. Genesis 9:4</span>"
      ],
      "text/plain": [
       "<IPython.core.display.HTML object>"
      ]
     },
     "metadata": {},
     "output_type": "display_data"
    },
    {
     "data": {
      "text/html": [
       "<span style=\"font-family: Times New Roman; font-size: 24px; line-height: 1\"><span style=\"color: blue\">אַךְ־</span><span style=\"color: blue\">בָּשָׂ֕ר </span><span style=\"color: blue\">בְּ</span><span style=\"color: blue\">נַפְשֹׁ֥ו </span><span style=\"color: blue\">דָמֹ֖ו </span>לֹ֥א <span style=\"color: green\">תֹאכֵֽלוּ׃ </span></span>"
      ],
      "text/plain": [
       "<IPython.core.display.HTML object>"
      ]
     },
     "metadata": {},
     "output_type": "display_data"
    },
    {
     "name": "stdout",
     "output_type": "stream",
     "text": [
      "-------------------- \n",
      "\n"
     ]
    },
    {
     "data": {
      "text/html": [
       "<span style=\"font-family: Times New Roman; font-size: 18px; line-height: 1\">5. Genesis 31:15</span>"
      ],
      "text/plain": [
       "<IPython.core.display.HTML object>"
      ]
     },
     "metadata": {},
     "output_type": "display_data"
    },
    {
     "data": {
      "text/html": [
       "<span style=\"font-family: Times New Roman; font-size: 24px; line-height: 1\">וַ<span style=\"color: green\">יֹּ֥אכַל </span>גַּם־אָכֹ֖ול <span style=\"color: blue\">אֶת־</span><span style=\"color: blue\">כַּסְפֵּֽנוּ׃ </span></span>"
      ],
      "text/plain": [
       "<IPython.core.display.HTML object>"
      ]
     },
     "metadata": {},
     "output_type": "display_data"
    },
    {
     "name": "stdout",
     "output_type": "stream",
     "text": [
      "-------------------- \n",
      "\n",
      "results cut off at 5\n"
     ]
    }
   ],
   "source": [
    "S.search(obj_vrb.format(wPar='sp=subs', vPar='lex=>KL['))\n",
    "food_results = sorted(filter_results(S.fetch(), levels={'word'}))\n",
    "\n",
    "show_results(food_results, limit=5, highlight=[1, 3])"
   ]
  },
  {
   "cell_type": "markdown",
   "metadata": {},
   "source": [
    "And with drinking..."
   ]
  },
  {
   "cell_type": "code",
   "execution_count": 45,
   "metadata": {},
   "outputs": [
    {
     "name": "stdout",
     "output_type": "stream",
     "text": [
      "85 results\n",
      "\n"
     ]
    },
    {
     "data": {
      "text/html": [
       "<span style=\"font-family: Times New Roman; font-size: 18px; line-height: 1\">1. Exodus 7:18</span>"
      ],
      "text/plain": [
       "<IPython.core.display.HTML object>"
      ]
     },
     "metadata": {},
     "output_type": "display_data"
    },
    {
     "data": {
      "text/html": [
       "<span style=\"font-family: Times New Roman; font-size: 24px; line-height: 1\"><span style=\"color: green\">לִ</span><span style=\"color: green\">שְׁתֹּ֥ות </span><span style=\"color: blue\">מַ֖יִם </span>מִן־הַיְאֹֽר׃ ס </span>"
      ],
      "text/plain": [
       "<IPython.core.display.HTML object>"
      ]
     },
     "metadata": {},
     "output_type": "display_data"
    },
    {
     "name": "stdout",
     "output_type": "stream",
     "text": [
      "-------------------- \n",
      "\n"
     ]
    },
    {
     "data": {
      "text/html": [
       "<span style=\"font-family: Times New Roman; font-size: 18px; line-height: 1\">2. Exodus 7:21</span>"
      ],
      "text/plain": [
       "<IPython.core.display.HTML object>"
      ]
     },
     "metadata": {},
     "output_type": "display_data"
    },
    {
     "data": {
      "text/html": [
       "<span style=\"font-family: Times New Roman; font-size: 24px; line-height: 1\"><span style=\"color: green\">לִ</span><span style=\"color: green\">שְׁתֹּ֥ות </span><span style=\"color: blue\">מַ֖יִם </span>מִן־הַיְאֹ֑ר </span>"
      ],
      "text/plain": [
       "<IPython.core.display.HTML object>"
      ]
     },
     "metadata": {},
     "output_type": "display_data"
    },
    {
     "name": "stdout",
     "output_type": "stream",
     "text": [
      "-------------------- \n",
      "\n"
     ]
    },
    {
     "data": {
      "text/html": [
       "<span style=\"font-family: Times New Roman; font-size: 18px; line-height: 1\">3. Exodus 15:23</span>"
      ],
      "text/plain": [
       "<IPython.core.display.HTML object>"
      ]
     },
     "metadata": {},
     "output_type": "display_data"
    },
    {
     "data": {
      "text/html": [
       "<span style=\"font-family: Times New Roman; font-size: 24px; line-height: 1\"><span style=\"color: green\">לִ</span><span style=\"color: green\">שְׁתֹּ֥ת </span><span style=\"color: blue\">מַ֨יִם֙ </span>מִמָּרָ֔ה </span>"
      ],
      "text/plain": [
       "<IPython.core.display.HTML object>"
      ]
     },
     "metadata": {},
     "output_type": "display_data"
    },
    {
     "name": "stdout",
     "output_type": "stream",
     "text": [
      "-------------------- \n",
      "\n"
     ]
    },
    {
     "data": {
      "text/html": [
       "<span style=\"font-family: Times New Roman; font-size: 18px; line-height: 1\">4. Exodus 34:28</span>"
      ],
      "text/plain": [
       "<IPython.core.display.HTML object>"
      ]
     },
     "metadata": {},
     "output_type": "display_data"
    },
    {
     "data": {
      "text/html": [
       "<span style=\"font-family: Times New Roman; font-size: 24px; line-height: 1\">וּ<span style=\"color: blue\">מַ֖יִם </span>לֹ֣א <span style=\"color: green\">שָׁתָ֑ה </span></span>"
      ],
      "text/plain": [
       "<IPython.core.display.HTML object>"
      ]
     },
     "metadata": {},
     "output_type": "display_data"
    },
    {
     "name": "stdout",
     "output_type": "stream",
     "text": [
      "-------------------- \n",
      "\n"
     ]
    },
    {
     "data": {
      "text/html": [
       "<span style=\"font-family: Times New Roman; font-size: 18px; line-height: 1\">5. Leviticus 10:9</span>"
      ],
      "text/plain": [
       "<IPython.core.display.HTML object>"
      ]
     },
     "metadata": {},
     "output_type": "display_data"
    },
    {
     "data": {
      "text/html": [
       "<span style=\"font-family: Times New Roman; font-size: 24px; line-height: 1\"><span style=\"color: blue\">יַ֣יִן </span><span style=\"color: blue\">וְ</span><span style=\"color: blue\">שֵׁכָ֞ר </span>אַל־<span style=\"color: green\">תֵּ֣שְׁתְּ׀ </span>אַתָּ֣ה׀ וּבָנֶ֣יךָ אִתָּ֗ךְ </span>"
      ],
      "text/plain": [
       "<IPython.core.display.HTML object>"
      ]
     },
     "metadata": {},
     "output_type": "display_data"
    },
    {
     "name": "stdout",
     "output_type": "stream",
     "text": [
      "-------------------- \n",
      "\n",
      "results cut off at 5\n"
     ]
    }
   ],
   "source": [
    "S.search(obj_vrb.format(wPar='sp=subs', vPar='lex=CTH['))\n",
    "drink_results = sorted(filter_results(S.fetch(), levels={'word'}))\n",
    "         \n",
    "show_results(drink_results, limit=5, highlight=[1, 3])"
   ]
  },
  {
   "cell_type": "markdown",
   "metadata": {},
   "source": [
    "And now I explore how productive the general pattern might be..."
   ]
  },
  {
   "cell_type": "code",
   "execution_count": 47,
   "metadata": {},
   "outputs": [
    {
     "name": "stdout",
     "output_type": "stream",
     "text": [
      "15696 results\n",
      "\n"
     ]
    },
    {
     "data": {
      "text/html": [
       "<span style=\"font-family: Times New Roman; font-size: 18px; line-height: 1\">1. 1_Kings 18:37</span>"
      ],
      "text/plain": [
       "<IPython.core.display.HTML object>"
      ]
     },
     "metadata": {},
     "output_type": "display_data"
    },
    {
     "data": {
      "text/html": [
       "<span style=\"font-family: Times New Roman; font-size: 24px; line-height: 1\">וְאַתָּ֛ה <span style=\"color: green\">הֲסִבֹּ֥תָ </span><span style=\"color: blue\">אֶת־</span><span style=\"color: blue\">לִבָּ֖ם </span>אֲחֹרַנִּֽית׃ </span>"
      ],
      "text/plain": [
       "<IPython.core.display.HTML object>"
      ]
     },
     "metadata": {},
     "output_type": "display_data"
    },
    {
     "name": "stdout",
     "output_type": "stream",
     "text": [
      "-------------------- \n",
      "\n"
     ]
    },
    {
     "data": {
      "text/html": [
       "<span style=\"font-family: Times New Roman; font-size: 18px; line-height: 1\">2. Proverbs 27:18</span>"
      ],
      "text/plain": [
       "<IPython.core.display.HTML object>"
      ]
     },
     "metadata": {},
     "output_type": "display_data"
    },
    {
     "data": {
      "text/html": [
       "<span style=\"font-family: Times New Roman; font-size: 24px; line-height: 1\">נֹצֵ֣ר תְּ֭אֵנָה <span style=\"color: green\">יֹאכַ֣ל </span><span style=\"color: blue\">פִּרְיָ֑הּ </span></span>"
      ],
      "text/plain": [
       "<IPython.core.display.HTML object>"
      ]
     },
     "metadata": {},
     "output_type": "display_data"
    },
    {
     "name": "stdout",
     "output_type": "stream",
     "text": [
      "-------------------- \n",
      "\n"
     ]
    },
    {
     "data": {
      "text/html": [
       "<span style=\"font-family: Times New Roman; font-size: 18px; line-height: 1\">3. Exodus 34:33</span>"
      ],
      "text/plain": [
       "<IPython.core.display.HTML object>"
      ]
     },
     "metadata": {},
     "output_type": "display_data"
    },
    {
     "data": {
      "text/html": [
       "<span style=\"font-family: Times New Roman; font-size: 24px; line-height: 1\">וַ<span style=\"color: green\">יִּתֵּ֥ן </span>עַל־פָּנָ֖יו <span style=\"color: blue\">מַסְוֶֽה׃ </span></span>"
      ],
      "text/plain": [
       "<IPython.core.display.HTML object>"
      ]
     },
     "metadata": {},
     "output_type": "display_data"
    },
    {
     "name": "stdout",
     "output_type": "stream",
     "text": [
      "-------------------- \n",
      "\n"
     ]
    },
    {
     "data": {
      "text/html": [
       "<span style=\"font-family: Times New Roman; font-size: 18px; line-height: 1\">4. Ezekiel 36:8</span>"
      ],
      "text/plain": [
       "<IPython.core.display.HTML object>"
      ]
     },
     "metadata": {},
     "output_type": "display_data"
    },
    {
     "data": {
      "text/html": [
       "<span style=\"font-family: Times New Roman; font-size: 24px; line-height: 1\"><span style=\"color: blue\">עַנְפְּכֶ֣ם </span><span style=\"color: green\">תִּתֵּ֔נוּ </span></span>"
      ],
      "text/plain": [
       "<IPython.core.display.HTML object>"
      ]
     },
     "metadata": {},
     "output_type": "display_data"
    },
    {
     "name": "stdout",
     "output_type": "stream",
     "text": [
      "-------------------- \n",
      "\n"
     ]
    },
    {
     "data": {
      "text/html": [
       "<span style=\"font-family: Times New Roman; font-size: 18px; line-height: 1\">5. Genesis 43:14</span>"
      ],
      "text/plain": [
       "<IPython.core.display.HTML object>"
      ]
     },
     "metadata": {},
     "output_type": "display_data"
    },
    {
     "data": {
      "text/html": [
       "<span style=\"font-family: Times New Roman; font-size: 24px; line-height: 1\">וְ<span style=\"color: green\">שִׁלַּ֥ח </span>לָכֶ֛ם <span style=\"color: blue\">אֶת־</span><span style=\"color: blue\">אֲחִיכֶ֥ם </span><span style=\"color: blue\">אַחֵ֖ר </span><span style=\"color: blue\">וְ</span><span style=\"color: blue\">אֶת־</span><span style=\"color: blue\">בִּנְיָמִ֑ין </span></span>"
      ],
      "text/plain": [
       "<IPython.core.display.HTML object>"
      ]
     },
     "metadata": {},
     "output_type": "display_data"
    },
    {
     "name": "stdout",
     "output_type": "stream",
     "text": [
      "-------------------- \n",
      "\n",
      "results cut off at 5\n"
     ]
    }
   ],
   "source": [
    "anynoun = 'sp=subs pdp=subs'\n",
    "\n",
    "S.search(obj_vrb.format(wPar=anynoun, vPar=''))\n",
    "ovb_results = sorted(filter_results(S.fetch(), levels=['word']))\n",
    "\n",
    "show_results(ovb_results, limit=5, highlight=[1, 3], random=True)"
   ]
  },
  {
   "cell_type": "markdown",
   "metadata": {},
   "source": [
    "Looking through the expanded results, it appears that the assumption is good. However, a few important caveats are necessary.\n",
    "\n",
    "* Polysemy might complicate some results. For instance, בשׂר occurs quite frequently, which of course is expected since it can mean something like \"meat\". But there are other uses of this noun that do not relate to meat that is eaten. \n",
    "\n",
    "* Figures of speech, especially in discursive portions, could also introduce some spurious correlations. For instance, in Gen 47:22, Jacob's family eats the חֹק of Pharaoh. I.e. it is their apportionment from him. Another example is the עפר which the serpent will eat in the Gen 3:14 curse. \n",
    "    * A side example here is the use of the construct to create uniquely defined nouns. For instance, in Deut 32:14 the term דם־ענב is used, which is of course quite different than דם when used elsewhere! Another is the use of מימי רגליהם in Isa 36:16, a euphemism for urine.\n",
    "\n",
    "Excluding discursive clauses could mitigate some of this potential bias. Also, further refining of the word relations might be achieved later on after the initial vector analysis.\n",
    "\n",
    "**important observation**: Upon entering the verb שקה (\"give drink\") in a previous version of the above search, I found an important feature which should be added to the context selection function. The stem of the verb can be a crucial distinction of meaning. Most instances of שקה are in the hiphil. But it can also be seen in the use of the hiphil of יצא for \"to bring out,\" as it is used with bread and wine. \n",
    "\n",
    "Thus: **The verb stem should be attached to the verb lexeme during the selection process.**\n",
    "\n",
    "Based on my visual inspection here, the context of `object(noun) -> verb` should be weighted heavily."
   ]
  },
  {
   "cell_type": "markdown",
   "metadata": {},
   "source": [
    "### subject -> verb\n",
    "\n",
    "Do certain subjects prefer certain verbs? My expectation is that this is a less important consideration. I also expect that certain verb roots should be excluded, most especially the verb היה, which probably contributes very little to disambiguation in these cases. For these searches, I exclude matches that have היה as the primary verb."
   ]
  },
  {
   "cell_type": "code",
   "execution_count": 32,
   "metadata": {},
   "outputs": [],
   "source": [
    "sbj_vrb = '''\n",
    "clause\n",
    "    phrase function=Subj\n",
    "        word {wPar}\n",
    "    phrase function=Pred|PreS\n",
    "        word pdp=verb {vPar}\n",
    "'''"
   ]
  },
  {
   "cell_type": "markdown",
   "metadata": {},
   "source": [
    "With two synonyms for \"chief,\" as found by word2vec..."
   ]
  },
  {
   "cell_type": "code",
   "execution_count": 33,
   "metadata": {},
   "outputs": [
    {
     "name": "stdout",
     "output_type": "stream",
     "text": [
      "154 results\n",
      "\n"
     ]
    },
    {
     "data": {
      "text/html": [
       "<span style=\"font-family: Times New Roman; font-size: 18px; line-height: 1\">1. Genesis 12:15</span>"
      ],
      "text/plain": [
       "<IPython.core.display.HTML object>"
      ]
     },
     "metadata": {},
     "output_type": "display_data"
    },
    {
     "data": {
      "text/html": [
       "<span style=\"font-family: Times New Roman; font-size: 24px; line-height: 1\">וַ<span style=\"color: green\">יִּרְא֤וּ </span>אֹתָהּ֙ <span style=\"color: blue\">שָׂרֵ֣י </span>פַרְעֹ֔ה </span>"
      ],
      "text/plain": [
       "<IPython.core.display.HTML object>"
      ]
     },
     "metadata": {},
     "output_type": "display_data"
    },
    {
     "name": "stdout",
     "output_type": "stream",
     "text": [
      "-------------------- \n",
      "\n"
     ]
    },
    {
     "data": {
      "text/html": [
       "<span style=\"font-family: Times New Roman; font-size: 18px; line-height: 1\">2. Genesis 21:22</span>"
      ],
      "text/plain": [
       "<IPython.core.display.HTML object>"
      ]
     },
     "metadata": {},
     "output_type": "display_data"
    },
    {
     "data": {
      "text/html": [
       "<span style=\"font-family: Times New Roman; font-size: 24px; line-height: 1\">וַ<span style=\"color: green\">יֹּ֣אמֶר </span>אֲבִימֶ֗לֶךְ וּפִיכֹל֙ <span style=\"color: blue\">שַׂר־</span>צְבָאֹ֔ו אֶל־אַבְרָהָ֖ם </span>"
      ],
      "text/plain": [
       "<IPython.core.display.HTML object>"
      ]
     },
     "metadata": {},
     "output_type": "display_data"
    },
    {
     "name": "stdout",
     "output_type": "stream",
     "text": [
      "-------------------- \n",
      "\n"
     ]
    },
    {
     "data": {
      "text/html": [
       "<span style=\"font-family: Times New Roman; font-size: 18px; line-height: 1\">3. Genesis 21:32</span>"
      ],
      "text/plain": [
       "<IPython.core.display.HTML object>"
      ]
     },
     "metadata": {},
     "output_type": "display_data"
    },
    {
     "data": {
      "text/html": [
       "<span style=\"font-family: Times New Roman; font-size: 24px; line-height: 1\">וַ<span style=\"color: green\">יָּ֣קָם </span>אֲבִימֶ֗לֶךְ וּפִיכֹל֙ <span style=\"color: blue\">שַׂר־</span>צְבָאֹ֔ו </span>"
      ],
      "text/plain": [
       "<IPython.core.display.HTML object>"
      ]
     },
     "metadata": {},
     "output_type": "display_data"
    },
    {
     "name": "stdout",
     "output_type": "stream",
     "text": [
      "-------------------- \n",
      "\n"
     ]
    },
    {
     "data": {
      "text/html": [
       "<span style=\"font-family: Times New Roman; font-size: 18px; line-height: 1\">4. Genesis 39:22</span>"
      ],
      "text/plain": [
       "<IPython.core.display.HTML object>"
      ]
     },
     "metadata": {},
     "output_type": "display_data"
    },
    {
     "data": {
      "text/html": [
       "<span style=\"font-family: Times New Roman; font-size: 24px; line-height: 1\">וַ<span style=\"color: green\">יִּתֵּ֞ן </span><span style=\"color: blue\">שַׂ֤ר </span>בֵּית־הַסֹּ֨הַר֙ בְּיַד־יֹוסֵ֔ף אֵ֚ת כָּל־הָ֣אֲסִירִ֔ם </span>"
      ],
      "text/plain": [
       "<IPython.core.display.HTML object>"
      ]
     },
     "metadata": {},
     "output_type": "display_data"
    },
    {
     "name": "stdout",
     "output_type": "stream",
     "text": [
      "-------------------- \n",
      "\n"
     ]
    },
    {
     "data": {
      "text/html": [
       "<span style=\"font-family: Times New Roman; font-size: 18px; line-height: 1\">5. Genesis 40:4</span>"
      ],
      "text/plain": [
       "<IPython.core.display.HTML object>"
      ]
     },
     "metadata": {},
     "output_type": "display_data"
    },
    {
     "data": {
      "text/html": [
       "<span style=\"font-family: Times New Roman; font-size: 24px; line-height: 1\">וַ֠<span style=\"color: green\">יִּפְקֹד </span><span style=\"color: blue\">שַׂ֣ר </span>הַטַּבָּחִ֧ים אֶת־יֹוסֵ֛ף אִתָּ֖ם </span>"
      ],
      "text/plain": [
       "<IPython.core.display.HTML object>"
      ]
     },
     "metadata": {},
     "output_type": "display_data"
    },
    {
     "name": "stdout",
     "output_type": "stream",
     "text": [
      "-------------------- \n",
      "\n",
      "results cut off at 5\n"
     ]
    }
   ],
   "source": [
    "chiefs = 'lex=RB==/|FR/'\n",
    "\n",
    "S.search(sbj_vrb.format(wPar=chiefs, vPar=''))\n",
    "chiefs_results = sorted(S.fetch())\n",
    "\n",
    "show_results(chiefs_results, limit=5, highlight=[2, 4])"
   ]
  },
  {
   "cell_type": "markdown",
   "metadata": {},
   "source": [
    "There are many different verbs that occur with these nouns. But there are some encouraging tendencies:\n",
    "\n",
    "* Verbs that would be associated with human beings are frequently used: ראה, אמר, קום, פקד, ספר, זכר, קרב, שמע. \n",
    "* Another nice find is that many of these verbs also hint at their subject's status, such as קום, ספר,זכר, פקד.\n",
    "\n",
    "Now with son and brother, also identified by word2vec."
   ]
  },
  {
   "cell_type": "code",
   "execution_count": 34,
   "metadata": {},
   "outputs": [
    {
     "name": "stdout",
     "output_type": "stream",
     "text": [
      "1153 results\n",
      "\n"
     ]
    },
    {
     "data": {
      "text/html": [
       "<span style=\"font-family: Times New Roman; font-size: 18px; line-height: 1\">1. Genesis 4:26</span>"
      ],
      "text/plain": [
       "<IPython.core.display.HTML object>"
      ]
     },
     "metadata": {},
     "output_type": "display_data"
    },
    {
     "data": {
      "text/html": [
       "<span style=\"font-family: Times New Roman; font-size: 24px; line-height: 1\">וּלְשֵׁ֤ת גַּם־הוּא֙ <span style=\"color: green\">יֻלַּד־</span><span style=\"color: blue\">בֵּ֔ן </span></span>"
      ],
      "text/plain": [
       "<IPython.core.display.HTML object>"
      ]
     },
     "metadata": {},
     "output_type": "display_data"
    },
    {
     "name": "stdout",
     "output_type": "stream",
     "text": [
      "-------------------- \n",
      "\n"
     ]
    },
    {
     "data": {
      "text/html": [
       "<span style=\"font-family: Times New Roman; font-size: 18px; line-height: 1\">2. Genesis 6:2</span>"
      ],
      "text/plain": [
       "<IPython.core.display.HTML object>"
      ]
     },
     "metadata": {},
     "output_type": "display_data"
    },
    {
     "data": {
      "text/html": [
       "<span style=\"font-family: Times New Roman; font-size: 24px; line-height: 1\">וַ<span style=\"color: green\">יִּרְא֤וּ </span><span style=\"color: blue\">בְנֵי־</span>הָֽאֱלֹהִים֙ אֶת־בְּנֹ֣ות הָֽאָדָ֔ם </span>"
      ],
      "text/plain": [
       "<IPython.core.display.HTML object>"
      ]
     },
     "metadata": {},
     "output_type": "display_data"
    },
    {
     "name": "stdout",
     "output_type": "stream",
     "text": [
      "-------------------- \n",
      "\n"
     ]
    },
    {
     "data": {
      "text/html": [
       "<span style=\"font-family: Times New Roman; font-size: 18px; line-height: 1\">3. Genesis 6:4</span>"
      ],
      "text/plain": [
       "<IPython.core.display.HTML object>"
      ]
     },
     "metadata": {},
     "output_type": "display_data"
    },
    {
     "data": {
      "text/html": [
       "<span style=\"font-family: Times New Roman; font-size: 24px; line-height: 1\">אֲשֶׁ֨ר <span style=\"color: green\">יָבֹ֜אוּ </span><span style=\"color: blue\">בְּנֵ֤י </span>הָֽאֱלֹהִים֙ אֶל־בְּנֹ֣ות הָֽאָדָ֔ם </span>"
      ],
      "text/plain": [
       "<IPython.core.display.HTML object>"
      ]
     },
     "metadata": {},
     "output_type": "display_data"
    },
    {
     "name": "stdout",
     "output_type": "stream",
     "text": [
      "-------------------- \n",
      "\n"
     ]
    },
    {
     "data": {
      "text/html": [
       "<span style=\"font-family: Times New Roman; font-size: 18px; line-height: 1\">4. Genesis 6:18</span>"
      ],
      "text/plain": [
       "<IPython.core.display.HTML object>"
      ]
     },
     "metadata": {},
     "output_type": "display_data"
    },
    {
     "data": {
      "text/html": [
       "<span style=\"font-family: Times New Roman; font-size: 24px; line-height: 1\">וּ<span style=\"color: green\">בָאתָ֙ </span>אֶל־הַתֵּבָ֔ה אַתָּ֕ה וּ<span style=\"color: blue\">בָנֶ֛יךָ </span>וְאִשְׁתְּךָ֥ וּנְשֵֽׁי־בָנֶ֖יךָ אִתָּֽךְ׃ </span>"
      ],
      "text/plain": [
       "<IPython.core.display.HTML object>"
      ]
     },
     "metadata": {},
     "output_type": "display_data"
    },
    {
     "name": "stdout",
     "output_type": "stream",
     "text": [
      "-------------------- \n",
      "\n"
     ]
    },
    {
     "data": {
      "text/html": [
       "<span style=\"font-family: Times New Roman; font-size: 18px; line-height: 1\">5. Genesis 6:18</span>"
      ],
      "text/plain": [
       "<IPython.core.display.HTML object>"
      ]
     },
     "metadata": {},
     "output_type": "display_data"
    },
    {
     "data": {
      "text/html": [
       "<span style=\"font-family: Times New Roman; font-size: 24px; line-height: 1\">וּ<span style=\"color: green\">בָאתָ֙ </span>אֶל־הַתֵּבָ֔ה אַתָּ֕ה וּבָנֶ֛יךָ וְאִשְׁתְּךָ֥ וּנְשֵֽׁי־<span style=\"color: blue\">בָנֶ֖יךָ </span>אִתָּֽךְ׃ </span>"
      ],
      "text/plain": [
       "<IPython.core.display.HTML object>"
      ]
     },
     "metadata": {},
     "output_type": "display_data"
    },
    {
     "name": "stdout",
     "output_type": "stream",
     "text": [
      "-------------------- \n",
      "\n",
      "results cut off at 5\n"
     ]
    }
   ],
   "source": [
    "son_brother = 'lex=BN/|>X/'\n",
    "\n",
    "S.search(sbj_vrb.format(wPar=son_brother, vPar=''))\n",
    "sb_results = sorted(S.fetch())\n",
    "\n",
    "show_results(sb_results, limit=5, highlight=[2, 4])"
   ]
  },
  {
   "cell_type": "markdown",
   "metadata": {},
   "source": [
    "And now the general pattern..."
   ]
  },
  {
   "cell_type": "code",
   "execution_count": 50,
   "metadata": {},
   "outputs": [
    {
     "name": "stdout",
     "output_type": "stream",
     "text": [
      "15499 results\n",
      "\n"
     ]
    },
    {
     "data": {
      "text/html": [
       "<span style=\"font-family: Times New Roman; font-size: 18px; line-height: 1\">1. Exodus 9:7</span>"
      ],
      "text/plain": [
       "<IPython.core.display.HTML object>"
      ]
     },
     "metadata": {},
     "output_type": "display_data"
    },
    {
     "data": {
      "text/html": [
       "<span style=\"font-family: Times New Roman; font-size: 24px; line-height: 1\">וַ<span style=\"color: green\">יִּכְבַּד֙ </span><span style=\"color: blue\">לֵ֣ב </span><span style=\"color: blue\">פַּרְעֹ֔ה </span></span>"
      ],
      "text/plain": [
       "<IPython.core.display.HTML object>"
      ]
     },
     "metadata": {},
     "output_type": "display_data"
    },
    {
     "name": "stdout",
     "output_type": "stream",
     "text": [
      "-------------------- \n",
      "\n"
     ]
    },
    {
     "data": {
      "text/html": [
       "<span style=\"font-family: Times New Roman; font-size: 18px; line-height: 1\">2. Joel 4:9</span>"
      ],
      "text/plain": [
       "<IPython.core.display.HTML object>"
      ]
     },
     "metadata": {},
     "output_type": "display_data"
    },
    {
     "data": {
      "text/html": [
       "<span style=\"font-family: Times New Roman; font-size: 24px; line-height: 1\"><span style=\"color: green\">יַֽעֲל֔וּ </span><span style=\"color: blue\">כֹּ֖ל </span><span style=\"color: blue\">אַנְשֵׁ֥י </span><span style=\"color: blue\">הַ</span><span style=\"color: blue\">מִּלְחָמָֽה׃ </span></span>"
      ],
      "text/plain": [
       "<IPython.core.display.HTML object>"
      ]
     },
     "metadata": {},
     "output_type": "display_data"
    },
    {
     "name": "stdout",
     "output_type": "stream",
     "text": [
      "-------------------- \n",
      "\n"
     ]
    },
    {
     "data": {
      "text/html": [
       "<span style=\"font-family: Times New Roman; font-size: 18px; line-height: 1\">3. Jeremiah 50:40</span>"
      ],
      "text/plain": [
       "<IPython.core.display.HTML object>"
      ]
     },
     "metadata": {},
     "output_type": "display_data"
    },
    {
     "data": {
      "text/html": [
       "<span style=\"font-family: Times New Roman; font-size: 24px; line-height: 1\">וְלֹֽא־<span style=\"color: green\">יָג֥וּר </span>בָּ֖הּ <span style=\"color: blue\">בֶּן־</span><span style=\"color: blue\">אָדָֽם׃ </span></span>"
      ],
      "text/plain": [
       "<IPython.core.display.HTML object>"
      ]
     },
     "metadata": {},
     "output_type": "display_data"
    },
    {
     "name": "stdout",
     "output_type": "stream",
     "text": [
      "-------------------- \n",
      "\n"
     ]
    },
    {
     "data": {
      "text/html": [
       "<span style=\"font-family: Times New Roman; font-size: 18px; line-height: 1\">4. Jeremiah 43:5</span>"
      ],
      "text/plain": [
       "<IPython.core.display.HTML object>"
      ]
     },
     "metadata": {},
     "output_type": "display_data"
    },
    {
     "data": {
      "text/html": [
       "<span style=\"font-family: Times New Roman; font-size: 24px; line-height: 1\">וַ<span style=\"color: green\">יִּקַּ֞ח </span><span style=\"color: blue\">יֹוחָנָ֤ן </span><span style=\"color: blue\">בֶּן־</span><span style=\"color: blue\">קָרֵ֨חַ֙ </span><span style=\"color: blue\">וְ</span><span style=\"color: blue\">כָל־</span><span style=\"color: blue\">שָׂרֵ֣י </span><span style=\"color: blue\">הַ</span><span style=\"color: blue\">חֲיָלִ֔ים </span>אֵ֖ת כָּל־שְׁאֵרִ֣ית יְהוּדָ֑ה אֶֽת־הַ֠גְּבָרִים וְאֶת־הַנָּשִׁ֣ים וְאֶת־הַטַּף֮ וְאֶת־בְּנֹ֣ות הַמֶּלֶךְ֒ וְאֵ֣ת כָּל־הַנֶּ֗פֶשׁ וְאֵת֙ יִרְמְיָ֣הוּ הַנָּבִ֔יא וְאֶת־בָּר֖וּךְ בֶּן־נֵרִיָּֽהוּ׃ </span>"
      ],
      "text/plain": [
       "<IPython.core.display.HTML object>"
      ]
     },
     "metadata": {},
     "output_type": "display_data"
    },
    {
     "name": "stdout",
     "output_type": "stream",
     "text": [
      "-------------------- \n",
      "\n"
     ]
    },
    {
     "data": {
      "text/html": [
       "<span style=\"font-family: Times New Roman; font-size: 18px; line-height: 1\">5. Ezekiel 27:34</span>"
      ],
      "text/plain": [
       "<IPython.core.display.HTML object>"
      ]
     },
     "metadata": {},
     "output_type": "display_data"
    },
    {
     "data": {
      "text/html": [
       "<span style=\"font-family: Times New Roman; font-size: 24px; line-height: 1\"><span style=\"color: blue\">מַעֲרָבֵ֥ךְ </span><span style=\"color: blue\">וְ</span><span style=\"color: blue\">כָל־</span><span style=\"color: blue\">קְהָלֵ֖ךְ </span>בְּתֹוכֵ֥ךְ <span style=\"color: green\">נָפָֽלוּ׃ </span></span>"
      ],
      "text/plain": [
       "<IPython.core.display.HTML object>"
      ]
     },
     "metadata": {},
     "output_type": "display_data"
    },
    {
     "name": "stdout",
     "output_type": "stream",
     "text": [
      "-------------------- \n",
      "\n",
      "results cut off at 5\n"
     ]
    }
   ],
   "source": [
    "S.search(sbj_vrb.format(wPar=anynoun, vPar=''))\n",
    "sbv_results = sorted(S.fetch())\n",
    "\n",
    "show_results(sbv_results, limit=5, highlight=[1, 3], random=True)"
   ]
  },
  {
   "cell_type": "markdown",
   "metadata": {},
   "source": [
    "It's a bit harder to see any prevalent verbs amongst these groups. It's obvious that many verbs are shared with the \"chiefs\", such as אמר. Verbs of movement like בוא occur a lot, it seems.\n",
    "\n",
    "**suggestion**: It may be a good idea to weigh this relationship less heavily than the object -> verb relationship. So many different kinds of verbs are likely to be used with these nouns, and there is likely to be heavy overlap amongst the living nouns.\n",
    "\n",
    "### Coordinates\n",
    "\n",
    "Words which occur in coordination are probably related somehow. The word2vec experiment picked up on this by grouping animals and temple items together that are included in biblical lists.\n",
    "\n",
    "For this search it is better to do a loop with TF methods."
   ]
  },
  {
   "cell_type": "code",
   "execution_count": 35,
   "metadata": {},
   "outputs": [
    {
     "name": "stdout",
     "output_type": "stream",
     "text": [
      "7598 results\n",
      "\n"
     ]
    },
    {
     "data": {
      "text/html": [
       "<span style=\"font-family: Times New Roman; font-size: 18px; line-height: 1\">1. Ezekiel 23:33</span>"
      ],
      "text/plain": [
       "<IPython.core.display.HTML object>"
      ]
     },
     "metadata": {},
     "output_type": "display_data"
    },
    {
     "data": {
      "text/html": [
       "<span style=\"font-family: Times New Roman; font-size: 24px; line-height: 1\">כֹּ֚וס <span style=\"color: green\">שַׁמָּ֣ה </span>וּ<span style=\"color: blue\">שְׁמָמָ֔ה </span>כֹּ֖וס אֲחֹותֵ֥ךְ שֹׁמְרֹֽון׃ </span>"
      ],
      "text/plain": [
       "<IPython.core.display.HTML object>"
      ]
     },
     "metadata": {},
     "output_type": "display_data"
    },
    {
     "name": "stdout",
     "output_type": "stream",
     "text": [
      "-------------------- \n",
      "\n"
     ]
    },
    {
     "data": {
      "text/html": [
       "<span style=\"font-family: Times New Roman; font-size: 18px; line-height: 1\">2. Genesis 1:14</span>"
      ],
      "text/plain": [
       "<IPython.core.display.HTML object>"
      ]
     },
     "metadata": {},
     "output_type": "display_data"
    },
    {
     "data": {
      "text/html": [
       "<span style=\"font-family: Times New Roman; font-size: 24px; line-height: 1\">וְהָי֤וּ <span style=\"color: green\">לְ</span><span style=\"color: green\">אֹתֹת֙ </span><span style=\"color: green\">וּ</span><span style=\"color: green\">לְ</span><span style=\"color: green\">מֹ֣ועֲדִ֔ים </span>וּ<span style=\"color: blue\">לְ</span><span style=\"color: blue\">יָמִ֖ים </span><span style=\"color: blue\">וְ</span><span style=\"color: blue\">שָׁנִֽים׃ </span></span>"
      ],
      "text/plain": [
       "<IPython.core.display.HTML object>"
      ]
     },
     "metadata": {},
     "output_type": "display_data"
    },
    {
     "name": "stdout",
     "output_type": "stream",
     "text": [
      "-------------------- \n",
      "\n"
     ]
    },
    {
     "data": {
      "text/html": [
       "<span style=\"font-family: Times New Roman; font-size: 18px; line-height: 1\">3. 2_Kings 23:5</span>"
      ],
      "text/plain": [
       "<IPython.core.display.HTML object>"
      ]
     },
     "metadata": {},
     "output_type": "display_data"
    },
    {
     "data": {
      "text/html": [
       "<span style=\"font-family: Times New Roman; font-size: 24px; line-height: 1\">וַיְקַטֵּ֤ר בַּבָּמֹות֙ בְּ<span style=\"color: green\">עָרֵ֣י </span><span style=\"color: green\">יְהוּדָ֔ה </span>וּ<span style=\"color: blue\">מְסִבֵּ֖י </span><span style=\"color: blue\">יְרוּשָׁלִָ֑ם </span></span>"
      ],
      "text/plain": [
       "<IPython.core.display.HTML object>"
      ]
     },
     "metadata": {},
     "output_type": "display_data"
    },
    {
     "name": "stdout",
     "output_type": "stream",
     "text": [
      "-------------------- \n",
      "\n"
     ]
    },
    {
     "data": {
      "text/html": [
       "<span style=\"font-family: Times New Roman; font-size: 18px; line-height: 1\">4. Deuteronomy 28:46</span>"
      ],
      "text/plain": [
       "<IPython.core.display.HTML object>"
      ]
     },
     "metadata": {},
     "output_type": "display_data"
    },
    {
     "data": {
      "text/html": [
       "<span style=\"font-family: Times New Roman; font-size: 24px; line-height: 1\">וְהָי֣וּ בְךָ֔ <span style=\"color: green\">לְ</span><span style=\"color: green\">אֹ֖ות </span>וּ<span style=\"color: blue\">לְ</span><span style=\"color: blue\">מֹופֵ֑ת </span></span>"
      ],
      "text/plain": [
       "<IPython.core.display.HTML object>"
      ]
     },
     "metadata": {},
     "output_type": "display_data"
    },
    {
     "name": "stdout",
     "output_type": "stream",
     "text": [
      "-------------------- \n",
      "\n"
     ]
    },
    {
     "data": {
      "text/html": [
       "<span style=\"font-family: Times New Roman; font-size: 18px; line-height: 1\">5. 1_Samuel 27:9</span>"
      ],
      "text/plain": [
       "<IPython.core.display.HTML object>"
      ]
     },
     "metadata": {},
     "output_type": "display_data"
    },
    {
     "data": {
      "text/html": [
       "<span style=\"font-family: Times New Roman; font-size: 24px; line-height: 1\">וְלָקַח֩ <span style=\"color: green\">צֹ֨אן </span>וּ<span style=\"color: blue\">בָקָ֜ר </span>וַחֲמֹרִ֤ים וּגְמַלִּים֙ וּבְגָדִ֔ים </span>"
      ],
      "text/plain": [
       "<IPython.core.display.HTML object>"
      ]
     },
     "metadata": {},
     "output_type": "display_data"
    },
    {
     "name": "stdout",
     "output_type": "stream",
     "text": [
      "-------------------- \n",
      "\n",
      "results cut off at 5\n"
     ]
    }
   ],
   "source": [
    "coord_results = []\n",
    "\n",
    "for sp in F.otype.s('subphrase'):\n",
    "\n",
    "    if F.rela.v(sp) != 'par':\n",
    "        continue\n",
    "        \n",
    "    sp_pos = set(F.sp.v(w) for w in L.d(sp, otype='word'))\n",
    "    co_pos = set(F.sp.v(w) for w in L.d(E.mother.f(sp)[0], otype='word'))\n",
    "    \n",
    "    if 'subs' in sp_pos and 'subs' in co_pos:\n",
    "        \n",
    "        result = (L.u(sp, otype='clause')[0], sp, E.mother.f(sp)[0])\n",
    "        coord_results.append(result)\n",
    "        \n",
    "show_results(coord_results, limit=5, highlight=[1, 2], random=True)"
   ]
  },
  {
   "cell_type": "markdown",
   "metadata": {},
   "source": [
    "These results are quite encouraging. I see a lot of similar meanings reflected in the parallel relationships. This feature should indeed be considered.\n",
    "\n",
    "### apposition(noun) -> noun"
   ]
  },
  {
   "cell_type": "code",
   "execution_count": 51,
   "metadata": {},
   "outputs": [],
   "source": [
    "appo_noun = '''\n",
    "\n",
    "clause\n",
    "    phrase_atom\n",
    "        word sp=subs pdp=subs\n",
    "    <: phrase_atom rela=Appo\n",
    "        word sp=subs pdp=subs\n",
    "        \n",
    "'''"
   ]
  },
  {
   "cell_type": "code",
   "execution_count": 59,
   "metadata": {},
   "outputs": [
    {
     "name": "stdout",
     "output_type": "stream",
     "text": [
      "1828 results\n",
      "\n"
     ]
    },
    {
     "data": {
      "text/html": [
       "<span style=\"font-family: Times New Roman; font-size: 18px; line-height: 1\">1. 1_Chronicles 6:52</span>"
      ],
      "text/plain": [
       "<IPython.core.display.HTML object>"
      ]
     },
     "metadata": {},
     "output_type": "display_data"
    },
    {
     "data": {
      "text/html": [
       "<span style=\"font-family: Times New Roman; font-size: 24px; line-height: 1\">וַיִּתְּנ֨וּ לָהֶ֜ם <span style=\"color: blue\">אֶת־</span><span style=\"color: blue\">עָרֵ֧י </span><span style=\"color: blue\">הַ</span><span style=\"color: blue\">מִּקְלָ֛ט </span><span style=\"color: green\">אֶת־</span><span style=\"color: green\">שְׁכֶ֥ם </span><span style=\"color: green\">וְ</span><span style=\"color: green\">אֶת־</span><span style=\"color: green\">מִגְרָשֶׁ֖יהָ </span>בְּהַ֣ר אֶפְרָ֑יִם וְאֶת־גֶּ֖זֶר וְאֶת־מִגְרָשֶֽׁיהָ׃ </span>"
      ],
      "text/plain": [
       "<IPython.core.display.HTML object>"
      ]
     },
     "metadata": {},
     "output_type": "display_data"
    },
    {
     "name": "stdout",
     "output_type": "stream",
     "text": [
      "-------------------- \n",
      "\n"
     ]
    },
    {
     "data": {
      "text/html": [
       "<span style=\"font-family: Times New Roman; font-size: 18px; line-height: 1\">2. Ecclesiastes 1:1</span>"
      ],
      "text/plain": [
       "<IPython.core.display.HTML object>"
      ]
     },
     "metadata": {},
     "output_type": "display_data"
    },
    {
     "data": {
      "text/html": [
       "<span style=\"font-family: Times New Roman; font-size: 24px; line-height: 1\"><span style=\"color: blue\">דִּבְרֵי֙ </span><span style=\"color: blue\">קֹהֶ֣לֶת </span><span style=\"color: green\">בֶּן־</span><span style=\"color: green\">דָּוִ֔ד </span>מֶ֖לֶךְ בִּירוּשָׁלִָֽם׃ </span>"
      ],
      "text/plain": [
       "<IPython.core.display.HTML object>"
      ]
     },
     "metadata": {},
     "output_type": "display_data"
    },
    {
     "name": "stdout",
     "output_type": "stream",
     "text": [
      "-------------------- \n",
      "\n"
     ]
    },
    {
     "data": {
      "text/html": [
       "<span style=\"font-family: Times New Roman; font-size: 18px; line-height: 1\">3. 1_Chronicles 16:13</span>"
      ],
      "text/plain": [
       "<IPython.core.display.HTML object>"
      ]
     },
     "metadata": {},
     "output_type": "display_data"
    },
    {
     "data": {
      "text/html": [
       "<span style=\"font-family: Times New Roman; font-size: 24px; line-height: 1\"><span style=\"color: blue\">זֶ֚רַע </span><span style=\"color: blue\">יִשְׂרָאֵ֣ל </span><span style=\"color: green\">עַבְדֹּ֔ו </span></span>"
      ],
      "text/plain": [
       "<IPython.core.display.HTML object>"
      ]
     },
     "metadata": {},
     "output_type": "display_data"
    },
    {
     "name": "stdout",
     "output_type": "stream",
     "text": [
      "-------------------- \n",
      "\n"
     ]
    },
    {
     "data": {
      "text/html": [
       "<span style=\"font-family: Times New Roman; font-size: 18px; line-height: 1\">4. Genesis 11:29</span>"
      ],
      "text/plain": [
       "<IPython.core.display.HTML object>"
      ]
     },
     "metadata": {},
     "output_type": "display_data"
    },
    {
     "data": {
      "text/html": [
       "<span style=\"font-family: Times New Roman; font-size: 24px; line-height: 1\">וְשֵׁ֤ם אֵֽשֶׁת־נָחֹור֙ מִלְכָּ֔ה <span style=\"color: blue\">בַּת־</span><span style=\"color: blue\">הָרָ֥ן </span><span style=\"color: green\">אֲבִֽי־</span><span style=\"color: green\">מִלְכָּ֖ה </span><span style=\"color: green\">וַֽ</span><span style=\"color: green\">אֲבִ֥י </span><span style=\"color: green\">יִסְכָּֽה׃ </span></span>"
      ],
      "text/plain": [
       "<IPython.core.display.HTML object>"
      ]
     },
     "metadata": {},
     "output_type": "display_data"
    },
    {
     "name": "stdout",
     "output_type": "stream",
     "text": [
      "-------------------- \n",
      "\n"
     ]
    },
    {
     "data": {
      "text/html": [
       "<span style=\"font-family: Times New Roman; font-size: 18px; line-height: 1\">5. Deuteronomy 34:3</span>"
      ],
      "text/plain": [
       "<IPython.core.display.HTML object>"
      ]
     },
     "metadata": {},
     "output_type": "display_data"
    },
    {
     "data": {
      "text/html": [
       "<span style=\"font-family: Times New Roman; font-size: 24px; line-height: 1\">וְאֶת־הַנֶּ֗גֶב וְֽאֶת־הַכִּכָּ֞ר <span style=\"color: blue\">בִּקְעַ֧ת </span><span style=\"color: blue\">יְרֵחֹ֛ו </span><span style=\"color: green\">עִ֥יר </span><span style=\"color: green\">הַ</span><span style=\"color: green\">תְּמָרִ֖ים </span>עַד־צֹֽעַר׃ </span>"
      ],
      "text/plain": [
       "<IPython.core.display.HTML object>"
      ]
     },
     "metadata": {},
     "output_type": "display_data"
    },
    {
     "name": "stdout",
     "output_type": "stream",
     "text": [
      "-------------------- \n",
      "\n",
      "results cut off at 5\n"
     ]
    }
   ],
   "source": [
    "S.search(appo_noun)\n",
    "\n",
    "app_results = sorted(filter_results(S.fetch(), levels=['word']))\n",
    "\n",
    "show_results(app_results, limit=5, highlight=[1, 3], random=True)"
   ]
  },
  {
   "cell_type": "markdown",
   "metadata": {},
   "source": [
    "This appears to be a fairly productive pattern, but is better suited for proper nouns, a group I am considering to exclude from the initial tests. These patterns might be included, with caution."
   ]
  },
  {
   "cell_type": "markdown",
   "metadata": {},
   "source": [
    "### Verbing Like a Noun\n",
    "\n",
    "This is a pattern which tells about the affect that a given verb has ([Veale 2012](https://www.academia.edu/2884622/Teaching_WordNet_to_Sing_like_an_Angel_and_Cry_like_a_Baby_Learning_Affective_Stereotypical_Behaviors_from_the_Web)). But if a given verb lexeme occurs in this pattern with different nouns, it could suggest that the nouns filling the slot are similar in some way."
   ]
  },
  {
   "cell_type": "code",
   "execution_count": 10,
   "metadata": {},
   "outputs": [],
   "source": [
    "verbing_noun = '''\n",
    "\n",
    "clause\n",
    "    phrase function=Pred\n",
    "        word pdp=verb\n",
    "    <: phrase typ=PP function=Adju\n",
    "        word lex=K\n",
    "        <: word pdp=subs\n",
    "\n",
    "'''"
   ]
  },
  {
   "cell_type": "code",
   "execution_count": 11,
   "metadata": {},
   "outputs": [
    {
     "name": "stdout",
     "output_type": "stream",
     "text": [
      "70 results\n",
      "\n"
     ]
    },
    {
     "data": {
      "text/html": [
       "<span style=\"font-family: Times New Roman; font-size: 18px; line-height: 1\">1. Genesis 49:9</span>"
      ],
      "text/plain": [
       "<IPython.core.display.HTML object>"
      ]
     },
     "metadata": {},
     "output_type": "display_data"
    },
    {
     "data": {
      "text/html": [
       "<span style=\"font-family: Times New Roman; font-size: 24px; line-height: 1\"><span style=\"color: blue\">רָבַ֧ץ </span>כְּ<span style=\"color: green\">אַרְיֵ֛ה </span>וּכְלָבִ֖יא </span>"
      ],
      "text/plain": [
       "<IPython.core.display.HTML object>"
      ]
     },
     "metadata": {},
     "output_type": "display_data"
    },
    {
     "name": "stdout",
     "output_type": "stream",
     "text": [
      "-------------------- \n",
      "\n"
     ]
    },
    {
     "data": {
      "text/html": [
       "<span style=\"font-family: Times New Roman; font-size: 18px; line-height: 1\">2. Genesis 49:9</span>"
      ],
      "text/plain": [
       "<IPython.core.display.HTML object>"
      ]
     },
     "metadata": {},
     "output_type": "display_data"
    },
    {
     "data": {
      "text/html": [
       "<span style=\"font-family: Times New Roman; font-size: 24px; line-height: 1\"><span style=\"color: blue\">רָבַ֧ץ </span>כְּאַרְיֵ֛ה וּכְ<span style=\"color: green\">לָבִ֖יא </span></span>"
      ],
      "text/plain": [
       "<IPython.core.display.HTML object>"
      ]
     },
     "metadata": {},
     "output_type": "display_data"
    },
    {
     "name": "stdout",
     "output_type": "stream",
     "text": [
      "-------------------- \n",
      "\n"
     ]
    },
    {
     "data": {
      "text/html": [
       "<span style=\"font-family: Times New Roman; font-size: 18px; line-height: 1\">3. Exodus 4:7</span>"
      ],
      "text/plain": [
       "<IPython.core.display.HTML object>"
      ]
     },
     "metadata": {},
     "output_type": "display_data"
    },
    {
     "data": {
      "text/html": [
       "<span style=\"font-family: Times New Roman; font-size: 24px; line-height: 1\"><span style=\"color: blue\">שָׁ֖בָה </span>כִּ<span style=\"color: green\">בְשָׂרֹֽו׃ </span></span>"
      ],
      "text/plain": [
       "<IPython.core.display.HTML object>"
      ]
     },
     "metadata": {},
     "output_type": "display_data"
    },
    {
     "name": "stdout",
     "output_type": "stream",
     "text": [
      "-------------------- \n",
      "\n"
     ]
    },
    {
     "data": {
      "text/html": [
       "<span style=\"font-family: Times New Roman; font-size: 18px; line-height: 1\">4. Exodus 5:14</span>"
      ],
      "text/plain": [
       "<IPython.core.display.HTML object>"
      ]
     },
     "metadata": {},
     "output_type": "display_data"
    },
    {
     "data": {
      "text/html": [
       "<span style=\"font-family: Times New Roman; font-size: 24px; line-height: 1\">לִ<span style=\"color: blue\">לְבֹּן֙ </span>כִּ<span style=\"color: green\">תְמֹ֣ול </span>שִׁלְשֹׁ֔ם </span>"
      ],
      "text/plain": [
       "<IPython.core.display.HTML object>"
      ]
     },
     "metadata": {},
     "output_type": "display_data"
    },
    {
     "name": "stdout",
     "output_type": "stream",
     "text": [
      "-------------------- \n",
      "\n"
     ]
    },
    {
     "data": {
      "text/html": [
       "<span style=\"font-family: Times New Roman; font-size: 18px; line-height: 1\">5. Exodus 22:16</span>"
      ],
      "text/plain": [
       "<IPython.core.display.HTML object>"
      ]
     },
     "metadata": {},
     "output_type": "display_data"
    },
    {
     "data": {
      "text/html": [
       "<span style=\"font-family: Times New Roman; font-size: 24px; line-height: 1\">כֶּ֣סֶף <span style=\"color: blue\">יִשְׁקֹ֔ל </span>כְּ<span style=\"color: green\">מֹ֖הַר </span>הַבְּתוּלֹֽת׃ ס </span>"
      ],
      "text/plain": [
       "<IPython.core.display.HTML object>"
      ]
     },
     "metadata": {},
     "output_type": "display_data"
    },
    {
     "name": "stdout",
     "output_type": "stream",
     "text": [
      "-------------------- \n",
      "\n",
      "results cut off at 5\n"
     ]
    }
   ],
   "source": [
    "S.search(verbing_noun)\n",
    "\n",
    "vn_results = sorted(r for r in S.fetch()\n",
    "                       if F.lex.v(r[2]) not in {'HJH[', '<FH[', 'BW>[', 'JY>[', 'QR>['} # stop words\n",
    "                       and F.function.v(r[3]) != 'Time'\n",
    "                   )\n",
    "\n",
    "show_results(vn_results, limit=5, highlight=[2, 5])"
   ]
  },
  {
   "cell_type": "markdown",
   "metadata": {},
   "source": [
    "How many of these noun matches share a same verb?"
   ]
  },
  {
   "cell_type": "code",
   "execution_count": 12,
   "metadata": {},
   "outputs": [
    {
     "name": "stdout",
     "output_type": "stream",
     "text": [
      "2 results\n",
      "\n"
     ]
    },
    {
     "data": {
      "text/html": [
       "<span style=\"font-family: Times New Roman; font-size: 18px; line-height: 1\">1. Genesis 49:9</span>"
      ],
      "text/plain": [
       "<IPython.core.display.HTML object>"
      ]
     },
     "metadata": {},
     "output_type": "display_data"
    },
    {
     "data": {
      "text/html": [
       "<span style=\"font-family: Times New Roman; font-size: 24px; line-height: 1\">רָבַ֧ץ כְּ<span style=\"color: blue\">אַרְיֵ֛ה </span>וּכְלָבִ֖יא </span>"
      ],
      "text/plain": [
       "<IPython.core.display.HTML object>"
      ]
     },
     "metadata": {},
     "output_type": "display_data"
    },
    {
     "name": "stdout",
     "output_type": "stream",
     "text": [
      "-------------------- \n",
      "\n"
     ]
    },
    {
     "data": {
      "text/html": [
       "<span style=\"font-family: Times New Roman; font-size: 18px; line-height: 1\">2. Genesis 49:9</span>"
      ],
      "text/plain": [
       "<IPython.core.display.HTML object>"
      ]
     },
     "metadata": {},
     "output_type": "display_data"
    },
    {
     "data": {
      "text/html": [
       "<span style=\"font-family: Times New Roman; font-size: 24px; line-height: 1\">רָבַ֧ץ כְּאַרְיֵ֛ה וּכְ<span style=\"color: green\">לָבִ֖יא </span></span>"
      ],
      "text/plain": [
       "<IPython.core.display.HTML object>"
      ]
     },
     "metadata": {},
     "output_type": "display_data"
    },
    {
     "name": "stdout",
     "output_type": "stream",
     "text": [
      "-------------------- \n",
      "\n",
      "2 results\n",
      "\n"
     ]
    },
    {
     "data": {
      "text/html": [
       "<span style=\"font-family: Times New Roman; font-size: 18px; line-height: 1\">1. Genesis 49:9</span>"
      ],
      "text/plain": [
       "<IPython.core.display.HTML object>"
      ]
     },
     "metadata": {},
     "output_type": "display_data"
    },
    {
     "data": {
      "text/html": [
       "<span style=\"font-family: Times New Roman; font-size: 24px; line-height: 1\">רָבַ֧ץ כְּאַרְיֵ֛ה וּכְ<span style=\"color: blue\">לָבִ֖יא </span></span>"
      ],
      "text/plain": [
       "<IPython.core.display.HTML object>"
      ]
     },
     "metadata": {},
     "output_type": "display_data"
    },
    {
     "name": "stdout",
     "output_type": "stream",
     "text": [
      "-------------------- \n",
      "\n"
     ]
    },
    {
     "data": {
      "text/html": [
       "<span style=\"font-family: Times New Roman; font-size: 18px; line-height: 1\">2. Genesis 49:9</span>"
      ],
      "text/plain": [
       "<IPython.core.display.HTML object>"
      ]
     },
     "metadata": {},
     "output_type": "display_data"
    },
    {
     "data": {
      "text/html": [
       "<span style=\"font-family: Times New Roman; font-size: 24px; line-height: 1\">רָבַ֧ץ כְּ<span style=\"color: green\">אַרְיֵ֛ה </span>וּכְלָבִ֖יא </span>"
      ],
      "text/plain": [
       "<IPython.core.display.HTML object>"
      ]
     },
     "metadata": {},
     "output_type": "display_data"
    },
    {
     "name": "stdout",
     "output_type": "stream",
     "text": [
      "-------------------- \n",
      "\n"
     ]
    }
   ],
   "source": [
    "# check all the matches against each other for verb identity but with different noun matches\n",
    "\n",
    "for r1 in vn_results[:5]: # all results cut off!\n",
    "    \n",
    "    r1_verb = F.lex.v(r1[2]) \n",
    "    r1_noun = F.lex.v(r1[5])\n",
    "    \n",
    "    for r2 in vn_results:\n",
    "        \n",
    "        r2_verb = F.lex.v(r2[2])\n",
    "        r2_noun = F.lex.v(r2[5])\n",
    "        \n",
    "        if all([r1_verb == r2_verb, # is same verb\n",
    "                r1 != r2, # not the same result\n",
    "                r1_noun != r2_noun # not the same noun lexeme\n",
    "               ]):\n",
    "            \n",
    "            show_results((r1, r2), highlight=[5])"
   ]
  },
  {
   "cell_type": "markdown",
   "metadata": {},
   "source": [
    "Surprisingly, there are relatively few of these results. Also, due to the indiscernible function of the כ phrase, a lot of spurious results plague this pattern. For instance, it is not possible to separate a valid result that compares \"crouching\" to a לביא and or a אריה (e.g. Num 24:9 et al) from one that makes a comparison which is not related to the verbal affect (e.g. כדבר) in \"he did according to the word...\"). As seen above, the application of a few stop words prevents some of these problems from seeping in. But even with the stop words, there are certain results that do not match.\n",
    "\n",
    "In all, there are 70 matches at stake. They should either be weighted lightly or not included in the set."
   ]
  },
  {
   "cell_type": "markdown",
   "metadata": {},
   "source": [
    "### Noun is a {adj} Noun"
   ]
  },
  {
   "cell_type": "code",
   "execution_count": 26,
   "metadata": {},
   "outputs": [],
   "source": [
    "noun_noun = '''\n",
    "\n",
    "clause\n",
    "    phrase function=Subj\n",
    "        word sp=subs\n",
    "        \n",
    "    phrase function=PreC\n",
    "        =: word sp=subs\n",
    "        subphrase rela=atr\n",
    "'''"
   ]
  },
  {
   "cell_type": "code",
   "execution_count": 28,
   "metadata": {},
   "outputs": [
    {
     "name": "stdout",
     "output_type": "stream",
     "text": [
      "65 results\n",
      "\n"
     ]
    },
    {
     "data": {
      "text/html": [
       "<span style=\"font-family: Times New Roman; font-size: 18px; line-height: 1\">1. Genesis 27:11</span>"
      ],
      "text/plain": [
       "<IPython.core.display.HTML object>"
      ]
     },
     "metadata": {},
     "output_type": "display_data"
    },
    {
     "data": {
      "text/html": [
       "<span style=\"font-family: Times New Roman; font-size: 24px; line-height: 1\">הֵ֣ן <span style=\"color: blue\">עֵשָׂ֤ו </span><span style=\"color: blue\">אָחִי֙ </span><span style=\"color: green\">אִ֣ישׁ </span><span style=\"color: green\">שָׂעִ֔ר </span></span>"
      ],
      "text/plain": [
       "<IPython.core.display.HTML object>"
      ]
     },
     "metadata": {},
     "output_type": "display_data"
    },
    {
     "name": "stdout",
     "output_type": "stream",
     "text": [
      "-------------------- \n",
      "\n"
     ]
    },
    {
     "data": {
      "text/html": [
       "<span style=\"font-family: Times New Roman; font-size: 18px; line-height: 1\">2. Exodus 20:5</span>"
      ],
      "text/plain": [
       "<IPython.core.display.HTML object>"
      ]
     },
     "metadata": {},
     "output_type": "display_data"
    },
    {
     "data": {
      "text/html": [
       "<span style=\"font-family: Times New Roman; font-size: 24px; line-height: 1\">כִּ֣י <span style=\"color: blue\">אָֽנֹכִ֞י </span><span style=\"color: blue\">יְהוָ֤ה </span><span style=\"color: blue\">אֱלֹהֶ֨יךָ֙ </span><span style=\"color: green\">אֵ֣ל </span><span style=\"color: green\">קַנָּ֔א </span></span>"
      ],
      "text/plain": [
       "<IPython.core.display.HTML object>"
      ]
     },
     "metadata": {},
     "output_type": "display_data"
    },
    {
     "name": "stdout",
     "output_type": "stream",
     "text": [
      "-------------------- \n",
      "\n"
     ]
    },
    {
     "data": {
      "text/html": [
       "<span style=\"font-family: Times New Roman; font-size: 18px; line-height: 1\">3. Exodus 25:36</span>"
      ],
      "text/plain": [
       "<IPython.core.display.HTML object>"
      ]
     },
     "metadata": {},
     "output_type": "display_data"
    },
    {
     "data": {
      "text/html": [
       "<span style=\"font-family: Times New Roman; font-size: 24px; line-height: 1\"><span style=\"color: blue\">כֻּלָּ֛הּ </span><span style=\"color: green\">מִקְשָׁ֥ה </span><span style=\"color: green\">אַחַ֖ת </span><span style=\"color: green\">זָהָ֥ב </span><span style=\"color: green\">טָהֹֽור׃ </span></span>"
      ],
      "text/plain": [
       "<IPython.core.display.HTML object>"
      ]
     },
     "metadata": {},
     "output_type": "display_data"
    },
    {
     "name": "stdout",
     "output_type": "stream",
     "text": [
      "-------------------- \n",
      "\n"
     ]
    },
    {
     "data": {
      "text/html": [
       "<span style=\"font-family: Times New Roman; font-size: 18px; line-height: 1\">4. Exodus 25:38</span>"
      ],
      "text/plain": [
       "<IPython.core.display.HTML object>"
      ]
     },
     "metadata": {},
     "output_type": "display_data"
    },
    {
     "data": {
      "text/html": [
       "<span style=\"font-family: Times New Roman; font-size: 24px; line-height: 1\">וּ<span style=\"color: blue\">מַלְקָחֶ֥יהָ </span><span style=\"color: blue\">וּ</span><span style=\"color: blue\">מַחְתֹּתֶ֖יהָ </span><span style=\"color: green\">זָהָ֥ב </span><span style=\"color: green\">טָהֹֽור׃ </span></span>"
      ],
      "text/plain": [
       "<IPython.core.display.HTML object>"
      ]
     },
     "metadata": {},
     "output_type": "display_data"
    },
    {
     "name": "stdout",
     "output_type": "stream",
     "text": [
      "-------------------- \n",
      "\n"
     ]
    },
    {
     "data": {
      "text/html": [
       "<span style=\"font-family: Times New Roman; font-size: 18px; line-height: 1\">5. Exodus 27:18</span>"
      ],
      "text/plain": [
       "<IPython.core.display.HTML object>"
      ]
     },
     "metadata": {},
     "output_type": "display_data"
    },
    {
     "data": {
      "text/html": [
       "<span style=\"font-family: Times New Roman; font-size: 24px; line-height: 1\">וְ<span style=\"color: blue\">קֹמָ֛ה </span><span style=\"color: green\">חָמֵ֥שׁ </span><span style=\"color: green\">אַמֹּ֖ות </span><span style=\"color: green\">שֵׁ֣שׁ </span><span style=\"color: green\">מָשְׁזָ֑ר </span></span>"
      ],
      "text/plain": [
       "<IPython.core.display.HTML object>"
      ]
     },
     "metadata": {},
     "output_type": "display_data"
    },
    {
     "name": "stdout",
     "output_type": "stream",
     "text": [
      "-------------------- \n",
      "\n",
      "results cut off at 5\n"
     ]
    }
   ],
   "source": [
    "S.search(noun_noun)\n",
    "nn_results = sorted(filter_results([r for r in S.fetch() if F.typ.v(r[3]) == 'NP'],\n",
    "                    levels=['word'])\n",
    "                   )\n",
    "\n",
    "show_results(nn_results, limit=5, highlight=[1, 3])"
   ]
  },
  {
   "cell_type": "markdown",
   "metadata": {},
   "source": [
    "These patterns yield a number of promising results. But they are also plagued with a high amount of metaphorical uses. For instance, Jer 9:7 compares the לשון with חץ \"arrows.\" On the other hand, relations such קמה \"height\" and אמות \"cubits\" (Ex 27:18) or קלעי \"curtains\" and שש \"linen\" (Ex 38:16) are very valuable. Perhaps these patterns can be processed later on. "
   ]
  },
  {
   "cell_type": "markdown",
   "metadata": {},
   "source": [
    "## Summary\n",
    "\n",
    "The three most productive patterns, it seems, is the `object(noun) -> verb`, `conjunct(noun) -> noun`, and `subject(noun) -> verb` relations.\n",
    "\n",
    "The `apposition` pattern may be usable. But I am cautious about it. It seems better suitable for proper nouns. I can experiment with what effect they have on the results.\n",
    "\n",
    "As for the two others, `verbing like a noun` and `noun is a {adj} noun`, while they produce promising results, there is also a lot of low-quality results mixed in. I will thus initially exclude them from the context selection process.\n",
    "\n",
    "In terms of weighting for the three productive patterns: it is best to wait and test several results. Also, what needs to be considered with the weighting is whether normal cooccurrences will be counted or not. For instance, should I choose to augment the syntactic cooccurrences with those that occur within a certain window of words, I may want to give the windowed words a light weight and the syntactic paths a heavier one. "
   ]
  }
 ],
 "metadata": {
  "kernelspec": {
   "display_name": "Python 3",
   "language": "python",
   "name": "python3"
  },
  "language_info": {
   "codemirror_mode": {
    "name": "ipython",
    "version": 3
   },
   "file_extension": ".py",
   "mimetype": "text/x-python",
   "name": "python",
   "nbconvert_exporter": "python",
   "pygments_lexer": "ipython3",
   "version": "3.6.3"
  }
 },
 "nbformat": 4,
 "nbformat_minor": 2
}
