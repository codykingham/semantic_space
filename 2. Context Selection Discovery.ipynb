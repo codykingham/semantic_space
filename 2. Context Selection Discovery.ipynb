{
 "cells": [
  {
   "cell_type": "markdown",
   "metadata": {},
   "source": [
    "# Context Selection Discovery\n",
    "\n",
    "\n",
    "## Assumptions\n",
    "In this notebook, I will explore the relevancy of various contexts for semantic information. I begin with a few assumptions:\n",
    "\n",
    "1. Semantic meaning is inextricably linked with syntactic structure and vice versa. Here I depend on construction grammar theory similar to Goldberg [(1995)](https://books.google.nl/books/about/Constructions.html?id=HzmGM0qCKtIC&redir_esc=y), but also informed by Talstra's theory on syntax and semantics [(1982)](/bibliography.txt).\n",
    "\n",
    "2. Following from 1, the constituents within a noun's clause play a key role in distinguishing a noun's meaning. This is a principle that all lexicographers acknowledge when they survey a word's use in context.\n",
    "\n",
    "3. Nouns that are similar in meaning will exhibit similar collocational preferences with respect to their constituents. This principle is also known as the distributional principle, attributed to Firth: \"you shall know a word by the company it keeps\" (e.g. [1962](/bibliography.txt)). \n",
    "\n",
    "## Candidate Constituents\n",
    "\n",
    "I hypothesize that the following constituency relations can be expecially important for determining semantic meaning:\n",
    "\n",
    "1. object(noun) -> verb\n",
    "2. subject(noun) -> verb\n",
    "3. noun -> coordinate(noun)\n",
    "4. verbing like a <- (noun)\n",
    "5. subject(noun) -> was a {adjective}(noun)\n",
    "\n",
    "To test these 5 candidates, I will run some queries below in BHSA using TF Search and some templates. I will manually inspect the clauses to see if there are any other considerations which should be made when constructing the selection parameters for notebook 3.\n",
    "\n",
    "I will especially be testing groups of similar words identified through the [word2vec experiment](2. word2vec Experiment.ipynb)."
   ]
  },
  {
   "cell_type": "code",
   "execution_count": 9,
   "metadata": {},
   "outputs": [],
   "source": [
    "# First, I load the necesssary modules, data, and helper functions.\n",
    "import collections\n",
    "from tf.fabric import Fabric\n",
    "from functions.helpers import show_results, filter_results\n",
    "\n",
    "# load BHSA data into TF\n",
    "TF = Fabric(locations='~/github/etcbc/bhsa/tf', modules='c', silent=True)\n",
    "api = TF.load('''\n",
    "                book chapter verse\n",
    "                function sp pdp\n",
    "                g_lex_utf8 trailer_utf8\n",
    "              ''', silent=True)\n",
    "api.makeAvailableIn(globals()) # globalize TF methods"
   ]
  },
  {
   "cell_type": "markdown",
   "metadata": {},
   "source": [
    "### object -> verb\n",
    "noun is within an object clause"
   ]
  },
  {
   "cell_type": "code",
   "execution_count": 10,
   "metadata": {
    "collapsed": true
   },
   "outputs": [],
   "source": [
    "obj_vrb = '''\n",
    "clause\n",
    "    phrase function=Objc\n",
    "        word {wPar}\n",
    "    phrase function=Pred|PreS\n",
    "        word pdp=verb {vPar}\n",
    "'''"
   ]
  },
  {
   "cell_type": "markdown",
   "metadata": {},
   "source": [
    "Bread and wine, as suggested by a previous iteration of the word2vec experiment."
   ]
  },
  {
   "cell_type": "code",
   "execution_count": 16,
   "metadata": {},
   "outputs": [
    {
     "data": {
      "text/html": [
       "<span style=\"font-family: Times New Roman; font-size: 14px; line-height: 1\">1. Genesis 3:19</span>"
      ],
      "text/plain": [
       "<IPython.core.display.HTML object>"
      ]
     },
     "metadata": {},
     "output_type": "display_data"
    },
    {
     "data": {
      "text/html": [
       "<span style=\"font-family: Times New Roman; font-size: 20px; line-height: 1\">בְּזֵעַ֤ת אַפֶּ֨יךָ֙ <span style=\"color: blue\">תֹּ֣אכַל </span><span style=\"color: blue\">לֶ֔חֶם </span></span>"
      ],
      "text/plain": [
       "<IPython.core.display.HTML object>"
      ]
     },
     "metadata": {},
     "output_type": "display_data"
    },
    {
     "name": "stdout",
     "output_type": "stream",
     "text": [
      "-------------------- \n",
      "\n"
     ]
    },
    {
     "data": {
      "text/html": [
       "<span style=\"font-family: Times New Roman; font-size: 14px; line-height: 1\">2. Genesis 14:18</span>"
      ],
      "text/plain": [
       "<IPython.core.display.HTML object>"
      ]
     },
     "metadata": {},
     "output_type": "display_data"
    },
    {
     "data": {
      "text/html": [
       "<span style=\"font-family: Times New Roman; font-size: 20px; line-height: 1\">וּמַלְכִּי־צֶ֨דֶק֙ מֶ֣לֶךְ שָׁלֵ֔ם <span style=\"color: blue\">הֹוצִ֖יא </span><span style=\"color: blue\">לֶ֣חֶם </span>וָיָ֑יִן </span>"
      ],
      "text/plain": [
       "<IPython.core.display.HTML object>"
      ]
     },
     "metadata": {},
     "output_type": "display_data"
    },
    {
     "name": "stdout",
     "output_type": "stream",
     "text": [
      "-------------------- \n",
      "\n"
     ]
    },
    {
     "data": {
      "text/html": [
       "<span style=\"font-family: Times New Roman; font-size: 14px; line-height: 1\">3. Genesis 14:18</span>"
      ],
      "text/plain": [
       "<IPython.core.display.HTML object>"
      ]
     },
     "metadata": {},
     "output_type": "display_data"
    },
    {
     "data": {
      "text/html": [
       "<span style=\"font-family: Times New Roman; font-size: 20px; line-height: 1\">וּמַלְכִּי־צֶ֨דֶק֙ מֶ֣לֶךְ שָׁלֵ֔ם <span style=\"color: blue\">הֹוצִ֖יא </span>לֶ֣חֶם וָ<span style=\"color: blue\">יָ֑יִן </span></span>"
      ],
      "text/plain": [
       "<IPython.core.display.HTML object>"
      ]
     },
     "metadata": {},
     "output_type": "display_data"
    },
    {
     "name": "stdout",
     "output_type": "stream",
     "text": [
      "-------------------- \n",
      "\n"
     ]
    },
    {
     "data": {
      "text/html": [
       "<span style=\"font-family: Times New Roman; font-size: 14px; line-height: 1\">4. Genesis 18:5</span>"
      ],
      "text/plain": [
       "<IPython.core.display.HTML object>"
      ]
     },
     "metadata": {},
     "output_type": "display_data"
    },
    {
     "data": {
      "text/html": [
       "<span style=\"font-family: Times New Roman; font-size: 20px; line-height: 1\">וְ<span style=\"color: blue\">אֶקְחָ֨ה </span>פַת־<span style=\"color: blue\">לֶ֜חֶם </span></span>"
      ],
      "text/plain": [
       "<IPython.core.display.HTML object>"
      ]
     },
     "metadata": {},
     "output_type": "display_data"
    },
    {
     "name": "stdout",
     "output_type": "stream",
     "text": [
      "-------------------- \n",
      "\n"
     ]
    },
    {
     "data": {
      "text/html": [
       "<span style=\"font-family: Times New Roman; font-size: 14px; line-height: 1\">5. Genesis 19:32</span>"
      ],
      "text/plain": [
       "<IPython.core.display.HTML object>"
      ]
     },
     "metadata": {},
     "output_type": "display_data"
    },
    {
     "data": {
      "text/html": [
       "<span style=\"font-family: Times New Roman; font-size: 20px; line-height: 1\"><span style=\"color: blue\">נַשְׁקֶ֧ה </span>אֶת־אָבִ֛ינוּ <span style=\"color: blue\">יַ֖יִן </span></span>"
      ],
      "text/plain": [
       "<IPython.core.display.HTML object>"
      ]
     },
     "metadata": {},
     "output_type": "display_data"
    },
    {
     "name": "stdout",
     "output_type": "stream",
     "text": [
      "-------------------- \n",
      "\n"
     ]
    }
   ],
   "source": [
    "dinner = 'lex=LXM/|JJN/'\n",
    "\n",
    "S.search(obj_vrb.format(wPar=dinner, vPar=''))\n",
    "dinner_results = sorted(S.fetch())\n",
    "\n",
    "show_results(dinner_results[:5], highlight=[2, 4])"
   ]
  },
  {
   "cell_type": "markdown",
   "metadata": {},
   "source": [
    "In the expanded results, while there is some cross over between לחם and יין, such as the hiphil of יצא, the words consistently prefer two different verb types. לחם prefers the verb אכל whereas יין prefers verbs such as שתה or שקה. While these two words appeared together in a previous iteration of the word2vec experiment, they are different. Food is eaten. Drink is drunken. To test the hypothesis now, I apply the same search to see if the nouns that collect around אכל are similar in meaning, as I expect them to be."
   ]
  },
  {
   "cell_type": "code",
   "execution_count": 26,
   "metadata": {},
   "outputs": [
    {
     "data": {
      "text/html": [
       "<span style=\"font-family: Times New Roman; font-size: 14px; line-height: 1\">1. Genesis 14:24</span>"
      ],
      "text/plain": [
       "<IPython.core.display.HTML object>"
      ]
     },
     "metadata": {},
     "output_type": "display_data"
    },
    {
     "data": {
      "text/html": [
       "<span style=\"font-family: Times New Roman; font-size: 20px; line-height: 1\">אֲשֶׁ֣ר <span style=\"color: blue\">אָֽכְל֣וּ </span><span style=\"color: blue\">הַ</span><span style=\"color: blue\">נְּעָרִ֔ים </span></span>"
      ],
      "text/plain": [
       "<IPython.core.display.HTML object>"
      ]
     },
     "metadata": {},
     "output_type": "display_data"
    },
    {
     "name": "stdout",
     "output_type": "stream",
     "text": [
      "-------------------- \n",
      "\n"
     ]
    },
    {
     "data": {
      "text/html": [
       "<span style=\"font-family: Times New Roman; font-size: 14px; line-height: 1\">2. Genesis 32:33</span>"
      ],
      "text/plain": [
       "<IPython.core.display.HTML object>"
      ]
     },
     "metadata": {},
     "output_type": "display_data"
    },
    {
     "data": {
      "text/html": [
       "<span style=\"font-family: Times New Roman; font-size: 20px; line-height: 1\">עַל־כֵּ֡ן לֹֽא־<span style=\"color: blue\">יֹאכְל֨וּ </span><span style=\"color: blue\">בְנֵֽי־</span><span style=\"color: blue\">יִשְׂרָאֵ֜ל </span>אֶת־גִּ֣יד הַנָּשֶׁ֗ה עַ֖ד הַיֹּ֣ום הַזֶּ֑ה </span>"
      ],
      "text/plain": [
       "<IPython.core.display.HTML object>"
      ]
     },
     "metadata": {},
     "output_type": "display_data"
    },
    {
     "name": "stdout",
     "output_type": "stream",
     "text": [
      "-------------------- \n",
      "\n"
     ]
    },
    {
     "data": {
      "text/html": [
       "<span style=\"font-family: Times New Roman; font-size: 14px; line-height: 1\">3. Genesis 40:19</span>"
      ],
      "text/plain": [
       "<IPython.core.display.HTML object>"
      ]
     },
     "metadata": {},
     "output_type": "display_data"
    },
    {
     "data": {
      "text/html": [
       "<span style=\"font-family: Times New Roman; font-size: 20px; line-height: 1\">וְ<span style=\"color: blue\">אָכַ֥ל </span><span style=\"color: blue\">הָ</span><span style=\"color: blue\">עֹ֛וף </span>אֶת־בְּשָׂרְךָ֖ מֵעָלֶֽיךָ׃ </span>"
      ],
      "text/plain": [
       "<IPython.core.display.HTML object>"
      ]
     },
     "metadata": {},
     "output_type": "display_data"
    },
    {
     "name": "stdout",
     "output_type": "stream",
     "text": [
      "-------------------- \n",
      "\n"
     ]
    },
    {
     "data": {
      "text/html": [
       "<span style=\"font-family: Times New Roman; font-size: 14px; line-height: 1\">4. Genesis 41:4</span>"
      ],
      "text/plain": [
       "<IPython.core.display.HTML object>"
      ]
     },
     "metadata": {},
     "output_type": "display_data"
    },
    {
     "data": {
      "text/html": [
       "<span style=\"font-family: Times New Roman; font-size: 20px; line-height: 1\">וַ<span style=\"color: blue\">תֹּאכַ֣לְנָה </span><span style=\"color: blue\">הַ</span><span style=\"color: blue\">פָּרֹ֗ות </span><span style=\"color: blue\">רָעֹ֤ות </span><span style=\"color: blue\">הַ</span><span style=\"color: blue\">מַּרְאֶה֙ </span><span style=\"color: blue\">וְ</span><span style=\"color: blue\">דַקֹּ֣ת </span><span style=\"color: blue\">הַ</span><span style=\"color: blue\">בָּשָׂ֔ר </span>אֵ֚ת שֶׁ֣בַע הַפָּרֹ֔ות יְפֹ֥ת הַמַּרְאֶ֖ה וְהַבְּרִיאֹ֑ת </span>"
      ],
      "text/plain": [
       "<IPython.core.display.HTML object>"
      ]
     },
     "metadata": {},
     "output_type": "display_data"
    },
    {
     "name": "stdout",
     "output_type": "stream",
     "text": [
      "-------------------- \n",
      "\n"
     ]
    },
    {
     "data": {
      "text/html": [
       "<span style=\"font-family: Times New Roman; font-size: 14px; line-height: 1\">5. Genesis 41:20</span>"
      ],
      "text/plain": [
       "<IPython.core.display.HTML object>"
      ]
     },
     "metadata": {},
     "output_type": "display_data"
    },
    {
     "data": {
      "text/html": [
       "<span style=\"font-family: Times New Roman; font-size: 20px; line-height: 1\">וַ<span style=\"color: blue\">תֹּאכַ֨לְנָה֙ </span><span style=\"color: blue\">הַ</span><span style=\"color: blue\">פָּרֹ֔ות </span><span style=\"color: blue\">הָ</span><span style=\"color: blue\">רַקֹּ֖ות </span><span style=\"color: blue\">וְ</span><span style=\"color: blue\">הָ</span><span style=\"color: blue\">רָעֹ֑ות </span>אֵ֣ת שֶׁ֧בַע הַפָּרֹ֛ות הָרִאשֹׁנֹ֖ות הַבְּרִיאֹֽת׃ </span>"
      ],
      "text/plain": [
       "<IPython.core.display.HTML object>"
      ]
     },
     "metadata": {},
     "output_type": "display_data"
    },
    {
     "name": "stdout",
     "output_type": "stream",
     "text": [
      "-------------------- \n",
      "\n",
      "results cut off at 5\n"
     ]
    }
   ],
   "source": [
    "S.search(obj_vrb.format(wPar='sp=subs', vPar='lex=>KL['))\n",
    "food_results = sorted(filter_results(S.fetch(), levels={'word'}))\n",
    "\n",
    "show_results(food_results, limit=5, highlight=[1, 3])"
   ]
  },
  {
   "cell_type": "markdown",
   "metadata": {},
   "source": [
    "And with drinking..."
   ]
  },
  {
   "cell_type": "code",
   "execution_count": 25,
   "metadata": {},
   "outputs": [
    {
     "data": {
      "text/html": [
       "<span style=\"font-family: Times New Roman; font-size: 14px; line-height: 1\">1. Genesis 24:54</span>"
      ],
      "text/plain": [
       "<IPython.core.display.HTML object>"
      ]
     },
     "metadata": {},
     "output_type": "display_data"
    },
    {
     "data": {
      "text/html": [
       "<span style=\"font-family: Times New Roman; font-size: 20px; line-height: 1\">וַ<span style=\"color: blue\">יִּשְׁתּ֗וּ </span><span style=\"color: blue\">ה֛וּא </span><span style=\"color: blue\">וְ</span><span style=\"color: blue\">הָ</span><span style=\"color: blue\">אֲנָשִׁ֥ים </span></span>"
      ],
      "text/plain": [
       "<IPython.core.display.HTML object>"
      ]
     },
     "metadata": {},
     "output_type": "display_data"
    },
    {
     "name": "stdout",
     "output_type": "stream",
     "text": [
      "-------------------- \n",
      "\n"
     ]
    },
    {
     "data": {
      "text/html": [
       "<span style=\"font-family: Times New Roman; font-size: 14px; line-height: 1\">2. Genesis 44:5</span>"
      ],
      "text/plain": [
       "<IPython.core.display.HTML object>"
      ]
     },
     "metadata": {},
     "output_type": "display_data"
    },
    {
     "data": {
      "text/html": [
       "<span style=\"font-family: Times New Roman; font-size: 20px; line-height: 1\">אֲשֶׁ֨ר <span style=\"color: blue\">יִשְׁתֶּ֤ה </span><span style=\"color: blue\">אֲדֹנִי֙ </span>בֹּ֔ו </span>"
      ],
      "text/plain": [
       "<IPython.core.display.HTML object>"
      ]
     },
     "metadata": {},
     "output_type": "display_data"
    },
    {
     "name": "stdout",
     "output_type": "stream",
     "text": [
      "-------------------- \n",
      "\n"
     ]
    },
    {
     "data": {
      "text/html": [
       "<span style=\"font-family: Times New Roman; font-size: 14px; line-height: 1\">3. Exodus 17:1</span>"
      ],
      "text/plain": [
       "<IPython.core.display.HTML object>"
      ]
     },
     "metadata": {},
     "output_type": "display_data"
    },
    {
     "data": {
      "text/html": [
       "<span style=\"font-family: Times New Roman; font-size: 20px; line-height: 1\"><span style=\"color: blue\">לִ</span><span style=\"color: blue\">שְׁתֹּ֥ת </span><span style=\"color: blue\">הָ</span><span style=\"color: blue\">עָֽם׃ </span></span>"
      ],
      "text/plain": [
       "<IPython.core.display.HTML object>"
      ]
     },
     "metadata": {},
     "output_type": "display_data"
    },
    {
     "name": "stdout",
     "output_type": "stream",
     "text": [
      "-------------------- \n",
      "\n"
     ]
    },
    {
     "data": {
      "text/html": [
       "<span style=\"font-family: Times New Roman; font-size: 14px; line-height: 1\">4. Exodus 17:6</span>"
      ],
      "text/plain": [
       "<IPython.core.display.HTML object>"
      ]
     },
     "metadata": {},
     "output_type": "display_data"
    },
    {
     "data": {
      "text/html": [
       "<span style=\"font-family: Times New Roman; font-size: 20px; line-height: 1\">וְ<span style=\"color: blue\">שָׁתָ֣ה </span><span style=\"color: blue\">הָ</span><span style=\"color: blue\">עָ֑ם </span></span>"
      ],
      "text/plain": [
       "<IPython.core.display.HTML object>"
      ]
     },
     "metadata": {},
     "output_type": "display_data"
    },
    {
     "name": "stdout",
     "output_type": "stream",
     "text": [
      "-------------------- \n",
      "\n"
     ]
    },
    {
     "data": {
      "text/html": [
       "<span style=\"font-family: Times New Roman; font-size: 14px; line-height: 1\">5. Leviticus 10:9</span>"
      ],
      "text/plain": [
       "<IPython.core.display.HTML object>"
      ]
     },
     "metadata": {},
     "output_type": "display_data"
    },
    {
     "data": {
      "text/html": [
       "<span style=\"font-family: Times New Roman; font-size: 20px; line-height: 1\">יַ֣יִן וְשֵׁכָ֞ר אַל־<span style=\"color: blue\">תֵּ֣שְׁתְּ׀ </span><span style=\"color: blue\">אַתָּ֣ה׀ </span><span style=\"color: blue\">וּ</span><span style=\"color: blue\">בָנֶ֣יךָ </span><span style=\"color: blue\">אִתָּ֗ךְ </span></span>"
      ],
      "text/plain": [
       "<IPython.core.display.HTML object>"
      ]
     },
     "metadata": {},
     "output_type": "display_data"
    },
    {
     "name": "stdout",
     "output_type": "stream",
     "text": [
      "-------------------- \n",
      "\n",
      "results cut off at 5\n"
     ]
    }
   ],
   "source": [
    "S.search(obj_vrb.format(wPar='sp=subs', vPar='lex=CTH['))\n",
    "drink_results = sorted(filter_results(S.fetch(), levels={'word'}))\n",
    "         \n",
    "show_results(drink_results, limit=5, highlight=[1, 3])"
   ]
  },
  {
   "cell_type": "markdown",
   "metadata": {},
   "source": [
    "Looking through the expanded results, it appears that the assumption is good. However, a few important caveats are necessary.\n",
    "\n",
    "* Polysemy might complicate some results. For instance, בשׂר occurs quite frequently, which of course is expected since it can mean something like \"meat\". But there are other uses of this noun that do not relate to meat that is eaten. \n",
    "\n",
    "* Figures of speech, especially in discursive portions, could also introduce some spurious correlations. For instance, in Gen 47:22, Jacob's family eats the חֹק of Pharaoh. I.e. it is their apportionment from him. Another example is the עפר which the serpent will eat in the Gen 3:14 curse. \n",
    "    * A side example here is the use of the construct to create uniquely defined nouns. For instance, in Deut 32:14 the term דם־ענב is used, which is of course quite different than דם when used elsewhere! Another is the use of מימי רגליהם in Isa 36:16, a euphemism for urine.\n",
    "\n",
    "Excluding discursive clauses could mitigate some of this potential bias. Also, further refining of the word relations might be achieved later on after the initial vector analysis.\n",
    "\n",
    "**important observation**: Upon entering the verb שקה (\"give drink\") in a previous version of the above search, I found an important feature which should be added to the context selection function. The stem of the verb can be a crucial distinction of meaning. Most instances of שקה are in the hiphil. But it can also be seen in the use of the hiphil of יצא for \"to bring out,\" as it is used with bread and wine. \n",
    "\n",
    "Thus: **The verb stem should be attached to the verb lexeme during the selection process.**\n",
    "\n",
    "Based on my visual inspection here, the context of `object(noun) -> verb` should be weighted heavily."
   ]
  },
  {
   "cell_type": "markdown",
   "metadata": {},
   "source": [
    "### subject -> verb\n",
    "\n",
    "Do certain subjects prefer certain verbs? My expectation is that this is a less important consideration. I also expect that certain verb roots should be excluded, most especially the verb היה, which probably contributes very little to disambiguation in these cases. For these searches, I exclude matches that have היה as the primary verb."
   ]
  },
  {
   "cell_type": "code",
   "execution_count": 28,
   "metadata": {},
   "outputs": [],
   "source": [
    "sbj_vrb = '''\n",
    "clause\n",
    "    phrase function=Subj\n",
    "        word {wPar}\n",
    "    phrase function=Pred|PreS\n",
    "        word pdp=verb {vPar}\n",
    "'''"
   ]
  },
  {
   "cell_type": "markdown",
   "metadata": {},
   "source": [
    "With two synonyms for \"chief,\" as found by word2vec..."
   ]
  },
  {
   "cell_type": "code",
   "execution_count": 30,
   "metadata": {},
   "outputs": [
    {
     "data": {
      "text/html": [
       "<span style=\"font-family: Times New Roman; font-size: 14px; line-height: 1\">1. Genesis 12:15</span>"
      ],
      "text/plain": [
       "<IPython.core.display.HTML object>"
      ]
     },
     "metadata": {},
     "output_type": "display_data"
    },
    {
     "data": {
      "text/html": [
       "<span style=\"font-family: Times New Roman; font-size: 20px; line-height: 1\">וַ<span style=\"color: blue\">יִּרְא֤וּ </span>אֹתָהּ֙ <span style=\"color: blue\">שָׂרֵ֣י </span>פַרְעֹ֔ה </span>"
      ],
      "text/plain": [
       "<IPython.core.display.HTML object>"
      ]
     },
     "metadata": {},
     "output_type": "display_data"
    },
    {
     "name": "stdout",
     "output_type": "stream",
     "text": [
      "-------------------- \n",
      "\n"
     ]
    },
    {
     "data": {
      "text/html": [
       "<span style=\"font-family: Times New Roman; font-size: 14px; line-height: 1\">2. Genesis 21:22</span>"
      ],
      "text/plain": [
       "<IPython.core.display.HTML object>"
      ]
     },
     "metadata": {},
     "output_type": "display_data"
    },
    {
     "data": {
      "text/html": [
       "<span style=\"font-family: Times New Roman; font-size: 20px; line-height: 1\">וַ<span style=\"color: blue\">יֹּ֣אמֶר </span>אֲבִימֶ֗לֶךְ וּפִיכֹל֙ <span style=\"color: blue\">שַׂר־</span>צְבָאֹ֔ו אֶל־אַבְרָהָ֖ם </span>"
      ],
      "text/plain": [
       "<IPython.core.display.HTML object>"
      ]
     },
     "metadata": {},
     "output_type": "display_data"
    },
    {
     "name": "stdout",
     "output_type": "stream",
     "text": [
      "-------------------- \n",
      "\n"
     ]
    },
    {
     "data": {
      "text/html": [
       "<span style=\"font-family: Times New Roman; font-size: 14px; line-height: 1\">3. Genesis 21:32</span>"
      ],
      "text/plain": [
       "<IPython.core.display.HTML object>"
      ]
     },
     "metadata": {},
     "output_type": "display_data"
    },
    {
     "data": {
      "text/html": [
       "<span style=\"font-family: Times New Roman; font-size: 20px; line-height: 1\">וַ<span style=\"color: blue\">יָּ֣קָם </span>אֲבִימֶ֗לֶךְ וּפִיכֹל֙ <span style=\"color: blue\">שַׂר־</span>צְבָאֹ֔ו </span>"
      ],
      "text/plain": [
       "<IPython.core.display.HTML object>"
      ]
     },
     "metadata": {},
     "output_type": "display_data"
    },
    {
     "name": "stdout",
     "output_type": "stream",
     "text": [
      "-------------------- \n",
      "\n"
     ]
    },
    {
     "data": {
      "text/html": [
       "<span style=\"font-family: Times New Roman; font-size: 14px; line-height: 1\">4. Genesis 39:22</span>"
      ],
      "text/plain": [
       "<IPython.core.display.HTML object>"
      ]
     },
     "metadata": {},
     "output_type": "display_data"
    },
    {
     "data": {
      "text/html": [
       "<span style=\"font-family: Times New Roman; font-size: 20px; line-height: 1\">וַ<span style=\"color: blue\">יִּתֵּ֞ן </span><span style=\"color: blue\">שַׂ֤ר </span>בֵּית־הַסֹּ֨הַר֙ בְּיַד־יֹוסֵ֔ף אֵ֚ת כָּל־הָ֣אֲסִירִ֔ם </span>"
      ],
      "text/plain": [
       "<IPython.core.display.HTML object>"
      ]
     },
     "metadata": {},
     "output_type": "display_data"
    },
    {
     "name": "stdout",
     "output_type": "stream",
     "text": [
      "-------------------- \n",
      "\n"
     ]
    },
    {
     "data": {
      "text/html": [
       "<span style=\"font-family: Times New Roman; font-size: 14px; line-height: 1\">5. Genesis 40:4</span>"
      ],
      "text/plain": [
       "<IPython.core.display.HTML object>"
      ]
     },
     "metadata": {},
     "output_type": "display_data"
    },
    {
     "data": {
      "text/html": [
       "<span style=\"font-family: Times New Roman; font-size: 20px; line-height: 1\">וַ֠<span style=\"color: blue\">יִּפְקֹד </span><span style=\"color: blue\">שַׂ֣ר </span>הַטַּבָּחִ֧ים אֶת־יֹוסֵ֛ף אִתָּ֖ם </span>"
      ],
      "text/plain": [
       "<IPython.core.display.HTML object>"
      ]
     },
     "metadata": {},
     "output_type": "display_data"
    },
    {
     "name": "stdout",
     "output_type": "stream",
     "text": [
      "-------------------- \n",
      "\n",
      "results cut off at 5\n"
     ]
    }
   ],
   "source": [
    "chiefs = 'lex=RB==/|FR/'\n",
    "\n",
    "S.search(sbj_vrb.format(wPar=chiefs, vPar=''))\n",
    "chiefs_results = sorted(S.fetch())\n",
    "\n",
    "show_results(chiefs_results, limit=5, highlight=[2, 4])"
   ]
  },
  {
   "cell_type": "markdown",
   "metadata": {},
   "source": [
    "There are many different verbs that occur with these nouns. But there are some encouraging tendencies:\n",
    "\n",
    "* Verbs that would be associated with human beings are frequently used: ראה, אמר, קום, פקד, ספר, זכר, קרב, שמע. \n",
    "* Another nice find is that many of these verbs also hint at their subject's status, such as קום, ספר,זכר, פקד.\n",
    "\n",
    "Now with son and brother, also identified by word2vec."
   ]
  },
  {
   "cell_type": "code",
   "execution_count": 35,
   "metadata": {},
   "outputs": [
    {
     "data": {
      "text/html": [
       "<span style=\"font-family: Times New Roman; font-size: 14px; line-height: 1\">1. Genesis 4:26</span>"
      ],
      "text/plain": [
       "<IPython.core.display.HTML object>"
      ]
     },
     "metadata": {},
     "output_type": "display_data"
    },
    {
     "data": {
      "text/html": [
       "<span style=\"font-family: Times New Roman; font-size: 20px; line-height: 1\">וּלְשֵׁ֤ת גַּם־הוּא֙ <span style=\"color: blue\">יֻלַּד־</span><span style=\"color: blue\">בֵּ֔ן </span></span>"
      ],
      "text/plain": [
       "<IPython.core.display.HTML object>"
      ]
     },
     "metadata": {},
     "output_type": "display_data"
    },
    {
     "name": "stdout",
     "output_type": "stream",
     "text": [
      "-------------------- \n",
      "\n"
     ]
    },
    {
     "data": {
      "text/html": [
       "<span style=\"font-family: Times New Roman; font-size: 14px; line-height: 1\">2. Genesis 6:2</span>"
      ],
      "text/plain": [
       "<IPython.core.display.HTML object>"
      ]
     },
     "metadata": {},
     "output_type": "display_data"
    },
    {
     "data": {
      "text/html": [
       "<span style=\"font-family: Times New Roman; font-size: 20px; line-height: 1\">וַ<span style=\"color: blue\">יִּרְא֤וּ </span><span style=\"color: blue\">בְנֵי־</span>הָֽאֱלֹהִים֙ אֶת־בְּנֹ֣ות הָֽאָדָ֔ם </span>"
      ],
      "text/plain": [
       "<IPython.core.display.HTML object>"
      ]
     },
     "metadata": {},
     "output_type": "display_data"
    },
    {
     "name": "stdout",
     "output_type": "stream",
     "text": [
      "-------------------- \n",
      "\n"
     ]
    },
    {
     "data": {
      "text/html": [
       "<span style=\"font-family: Times New Roman; font-size: 14px; line-height: 1\">3. Genesis 6:4</span>"
      ],
      "text/plain": [
       "<IPython.core.display.HTML object>"
      ]
     },
     "metadata": {},
     "output_type": "display_data"
    },
    {
     "data": {
      "text/html": [
       "<span style=\"font-family: Times New Roman; font-size: 20px; line-height: 1\">אֲשֶׁ֨ר <span style=\"color: blue\">יָבֹ֜אוּ </span><span style=\"color: blue\">בְּנֵ֤י </span>הָֽאֱלֹהִים֙ אֶל־בְּנֹ֣ות הָֽאָדָ֔ם </span>"
      ],
      "text/plain": [
       "<IPython.core.display.HTML object>"
      ]
     },
     "metadata": {},
     "output_type": "display_data"
    },
    {
     "name": "stdout",
     "output_type": "stream",
     "text": [
      "-------------------- \n",
      "\n"
     ]
    },
    {
     "data": {
      "text/html": [
       "<span style=\"font-family: Times New Roman; font-size: 14px; line-height: 1\">4. Genesis 6:18</span>"
      ],
      "text/plain": [
       "<IPython.core.display.HTML object>"
      ]
     },
     "metadata": {},
     "output_type": "display_data"
    },
    {
     "data": {
      "text/html": [
       "<span style=\"font-family: Times New Roman; font-size: 20px; line-height: 1\">וּ<span style=\"color: blue\">בָאתָ֙ </span>אֶל־הַתֵּבָ֔ה אַתָּ֕ה וּ<span style=\"color: blue\">בָנֶ֛יךָ </span>וְאִשְׁתְּךָ֥ וּנְשֵֽׁי־בָנֶ֖יךָ אִתָּֽךְ׃ </span>"
      ],
      "text/plain": [
       "<IPython.core.display.HTML object>"
      ]
     },
     "metadata": {},
     "output_type": "display_data"
    },
    {
     "name": "stdout",
     "output_type": "stream",
     "text": [
      "-------------------- \n",
      "\n"
     ]
    },
    {
     "data": {
      "text/html": [
       "<span style=\"font-family: Times New Roman; font-size: 14px; line-height: 1\">5. Genesis 6:18</span>"
      ],
      "text/plain": [
       "<IPython.core.display.HTML object>"
      ]
     },
     "metadata": {},
     "output_type": "display_data"
    },
    {
     "data": {
      "text/html": [
       "<span style=\"font-family: Times New Roman; font-size: 20px; line-height: 1\">וּ<span style=\"color: blue\">בָאתָ֙ </span>אֶל־הַתֵּבָ֔ה אַתָּ֕ה וּבָנֶ֛יךָ וְאִשְׁתְּךָ֥ וּנְשֵֽׁי־<span style=\"color: blue\">בָנֶ֖יךָ </span>אִתָּֽךְ׃ </span>"
      ],
      "text/plain": [
       "<IPython.core.display.HTML object>"
      ]
     },
     "metadata": {},
     "output_type": "display_data"
    },
    {
     "name": "stdout",
     "output_type": "stream",
     "text": [
      "-------------------- \n",
      "\n",
      "results cut off at 5\n"
     ]
    }
   ],
   "source": [
    "son_brother = 'lex=BN/|>X/'\n",
    "\n",
    "S.search(sbj_vrb.format(wPar=son_brother, vPar=''))\n",
    "sb_results = sorted(S.fetch())\n",
    "\n",
    "show_results(sb_results, limit=5, highlight=[2, 4])"
   ]
  },
  {
   "cell_type": "markdown",
   "metadata": {},
   "source": [
    "It's a bit harder to see any prevalent verbs amongst these groups. It's obvious that many verbs are shared with the \"chiefs\", such as אמר. Verbs of movement like בוא occur a lot, it seems.\n",
    "\n",
    "**suggestion**: It may be a good idea to weigh this relationship less heavily than the object -> verb relationship. So many different kinds of verbs are likely to be used with these nouns, and there is likely to be heavy overlap amongst the living nouns."
   ]
  },
  {
   "cell_type": "code",
   "execution_count": null,
   "metadata": {},
   "outputs": [],
   "source": []
  }
 ],
 "metadata": {
  "kernelspec": {
   "display_name": "Python 3",
   "language": "python",
   "name": "python3"
  },
  "language_info": {
   "codemirror_mode": {
    "name": "ipython",
    "version": 3
   },
   "file_extension": ".py",
   "mimetype": "text/x-python",
   "name": "python",
   "nbconvert_exporter": "python",
   "pygments_lexer": "ipython3",
   "version": "3.6.3"
  }
 },
 "nbformat": 4,
 "nbformat_minor": 2
}
