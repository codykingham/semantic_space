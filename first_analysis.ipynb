{
 "cells": [
  {
   "cell_type": "markdown",
   "metadata": {},
   "source": [
    "# First Analysis of the Experiment Data"
   ]
  },
  {
   "cell_type": "code",
   "execution_count": 1,
   "metadata": {},
   "outputs": [
    {
     "name": "stdout",
     "output_type": "stream",
     "text": [
      "This is Text-Fabric 4.4.1\n",
      "Api reference : https://dans-labs.github.io/text-fabric/Api/General/\n",
      "Tutorial      : https://github.com/Dans-labs/text-fabric/blob/master/docs/tutorial.ipynb\n",
      "Example data  : https://github.com/Dans-labs/text-fabric-data\n",
      "\n",
      "118 features found and 0 ignored\n"
     ]
    },
    {
     "data": {
      "text/markdown": [
       "**Documentation:** <a target=\"_blank\" href=\"https://etcbc.github.io/bhsa\" title=\"{provenance of this corpus}\">BHSA</a> <a target=\"_blank\" href=\"https://etcbc.github.io/bhsa/features/hebrew/c/0_home.html\" title=\"{CORPUS} feature documentation\">Feature docs</a> <a target=\"_blank\" href=\"https://dans-labs.github.io/text-fabric/Api/Bhsa/\" title=\"BHSA API documentation\">BHSA API</a> <a target=\"_blank\" href=\"https://dans-labs.github.io/text-fabric/Api/General/\" title=\"text-fabric-api\">Text-Fabric API 4.4.1</a> <a target=\"_blank\" href=\"https://dans-labs.github.io/text-fabric/Api/General/#search-templates\" title=\"Search Templates Introduction and Reference\">Search Reference</a>"
      ],
      "text/plain": [
       "<IPython.core.display.Markdown object>"
      ]
     },
     "metadata": {},
     "output_type": "display_data"
    },
    {
     "data": {
      "text/html": [
       "\n",
       "<style>\n",
       ".verse {\n",
       "    display: flex;\n",
       "    flex-flow: row wrap;\n",
       "    direction: rtl;\n",
       "}\n",
       ".vl {\n",
       "    display: flex;\n",
       "    flex-flow: column nowrap;\n",
       "    direction: ltr;\n",
       "}\n",
       ".sentence,.clause,.phrase {\n",
       "    margin-top: -1.2em;\n",
       "    margin-left: 1em;\n",
       "    background: #ffffff none repeat scroll 0 0;\n",
       "    padding: 0 0.3em;\n",
       "    border-style: solid;\n",
       "    border-radius: 0.2em;\n",
       "    font-size: small;\n",
       "    display: block;\n",
       "    width: fit-content;\n",
       "    max-width: fit-content;\n",
       "    direction: ltr;\n",
       "}\n",
       ".atoms {\n",
       "    display: flex;\n",
       "    flex-flow: row wrap;\n",
       "    margin: 0.3em;\n",
       "    padding: 0.3em;\n",
       "    direction: rtl;\n",
       "    background-color: #ffffff;\n",
       "}\n",
       ".satom,.catom,.patom {\n",
       "    margin: 0.3em;\n",
       "    padding: 0.3em;\n",
       "    border-radius: 0.3em;\n",
       "    border-style: solid;\n",
       "    display: flex;\n",
       "    flex-flow: column nowrap;\n",
       "    direction: rtl;\n",
       "    background-color: #ffffff;\n",
       "}\n",
       ".sentence {\n",
       "    border-color: #aa3333;\n",
       "    border-width: 1px;\n",
       "}\n",
       ".clause {\n",
       "    border-color: #aaaa33;\n",
       "    border-width: 1px;\n",
       "}\n",
       ".phrase {\n",
       "    border-color: #33aaaa;\n",
       "    border-width: 1px;\n",
       "}\n",
       ".satom {\n",
       "    border-color: #aa3333;\n",
       "    border-width: 4px;\n",
       "}\n",
       ".catom {\n",
       "    border-color: #aaaa33;\n",
       "    border-width: 3px;\n",
       "}\n",
       ".patom {\n",
       "    border-color: #33aaaa;\n",
       "    border-width: 3px;\n",
       "}\n",
       ".word {\n",
       "    padding: 0.1em;\n",
       "    margin: 0.1em;\n",
       "    border-radius: 0.1em;\n",
       "    border: 1px solid #cccccc;\n",
       "    display: flex;\n",
       "    flex-flow: column nowrap;\n",
       "    direction: rtl;\n",
       "    background-color: #ffffff;\n",
       "}\n",
       ".lex {\n",
       "    padding: 0.1em;\n",
       "    margin: 0.1em;\n",
       "    border-radius: 0.1em;\n",
       "    border: 2px solid #888888;\n",
       "    width: fit-content;\n",
       "    display: flex;\n",
       "    flex-flow: column nowrap;\n",
       "    direction: rtl;\n",
       "    background-color: #ffffff;\n",
       "}\n",
       ".satom.l,.catom.l,.patom.l {\n",
       "    border-left-style: dotted\n",
       "}\n",
       ".satom.r,.catom.r,.patom.r {\n",
       "    border-right-style: dotted\n",
       "}\n",
       ".satom.L,.catom.L,.patom.L {\n",
       "    border-left-style: none\n",
       "}\n",
       ".satom.R,.catom.R,.patom.R {\n",
       "    border-right-style: none\n",
       "}\n",
       ".h,.h :visited,.h :link {\n",
       "    font-family: \"Ezra SIL\", \"SBL Hebrew\", sans-serif;\n",
       "    font-size: large;\n",
       "    color: #000044;\n",
       "    direction: rtl;\n",
       "    text-decoration: none;\n",
       "}\n",
       ".rela,.function,.typ {\n",
       "    font-family: monospace;\n",
       "    font-size: small;\n",
       "    color: #0000bb;\n",
       "}\n",
       ".sp,.sp :visited,.sp :link {\n",
       "    font-family: monospace;\n",
       "    font-size: medium;\n",
       "    color: #0000bb;\n",
       "    text-decoration: none;\n",
       "}\n",
       ".vl {\n",
       "    font-family: monospace;\n",
       "    font-size: medium;\n",
       "    color: #0000bb;\n",
       "}\n",
       ".vvs {\n",
       "    font-family: monospace;\n",
       "    font-size: medium;\n",
       "    font-weight: bold;\n",
       "    color: #0000bb;\n",
       "}\n",
       ".vvt {\n",
       "    font-family: monospace;\n",
       "    font-size: medium;\n",
       "    color: #0000bb;\n",
       "}\n",
       ".gl {\n",
       "    font-family: sans-serif;\n",
       "    font-size: small;\n",
       "    color: #aaaaaa;\n",
       "}\n",
       ".vs {\n",
       "    font-family: sans-serif;\n",
       "    font-size: small;\n",
       "    font-weight: bold;\n",
       "    color: #444444;\n",
       "}\n",
       ".nd {\n",
       "    font-family: monospace;\n",
       "    font-size: x-small;\n",
       "    color: #999999;\n",
       "}\n",
       ".feat {\n",
       "    font-family: monospace;\n",
       "    font-size: medium;\n",
       "    font-weight: bold;\n",
       "    color: #0a6611;\n",
       "}\n",
       ".feat .f {\n",
       "    font-family: sans-serif;\n",
       "    font-size: x-small;\n",
       "    color: #5555bb;\n",
       "}\n",
       ".hl {\n",
       "    background-color: #ffee66;\n",
       "}\n",
       "</style>\n"
      ],
      "text/plain": [
       "<IPython.core.display.HTML object>"
      ]
     },
     "metadata": {},
     "output_type": "display_data"
    }
   ],
   "source": [
    "import numpy as np\n",
    "import pandas as pd\n",
    "import collections, os, sys, random, time, pickle, dill, copy, re\n",
    "from IPython.display import clear_output\n",
    "import matplotlib.pyplot as plt\n",
    "from sklearn.cluster import KMeans\n",
    "from tf.fabric import Fabric\n",
    "from tf.extra.bhsa import Bhsa\n",
    "from project_code.experiments2 import Experiment\n",
    "from project_code.semspace import SemSpace\n",
    "\n",
    "bhsa_data_paths=['~/github/etcbc/bhsa/tf/c',\n",
    "                 '~/github/verb_semantics/project_code/lingo/heads/tf/c',\n",
    "                 '~/github/verb_semantics/project_code/sdbh']\n",
    "\n",
    "TF = Fabric(bhsa_data_paths)\n",
    "tf_api = TF.load('''\n",
    "                function lex lex_utf8 vs language\n",
    "                pdp freq_lex gloss domain ls\n",
    "                mother rela typ sp st code txt instruction\n",
    "                heads prep_obj \n",
    "                prs prs_gn prs_nu prs_ps\n",
    "                sem_domain sem_domain_code\n",
    "              ''', silent=True)\n",
    "\n",
    "tf_api.makeAvailableIn(globals())\n",
    "B = Bhsa(api=tf_api, name='', version='c')"
   ]
  },
  {
   "cell_type": "code",
   "execution_count": 2,
   "metadata": {},
   "outputs": [
    {
     "name": "stdout",
     "output_type": "stream",
     "text": [
      "Loading cached experiments...\n",
      "50 experiments loaded.\n"
     ]
    }
   ],
   "source": [
    "print('Loading cached experiments...')\n",
    "with open('/Users/cody/Documents/experiments.dill', 'rb') as infile:\n",
    "    experiments = dill.load(infile)\n",
    "    print(f'{len(experiments)} experiments loaded.')"
   ]
  },
  {
   "cell_type": "code",
   "execution_count": 3,
   "metadata": {},
   "outputs": [
    {
     "name": "stdout",
     "output_type": "stream",
     "text": [
      "Loading semantic space data: adjusting counts with pmi, preparing plotter functions, etc...\n",
      "50 experiments successfully loaded into semantic spaces.\n"
     ]
    }
   ],
   "source": [
    "print('Loading semantic space data: adjusting counts with pmi, preparing plotter functions, etc...')\n",
    "\n",
    "spaces = dict((exp_name, SemSpace(exp, info=False)) for exp_name, exp in experiments.items())\n",
    "\n",
    "print(f'{len(spaces)} experiments successfully loaded into semantic spaces.')"
   ]
  },
  {
   "cell_type": "markdown",
   "metadata": {},
   "source": [
    "## Experiments and their Shapes"
   ]
  },
  {
   "cell_type": "code",
   "execution_count": 4,
   "metadata": {},
   "outputs": [
    {
     "name": "stdout",
     "output_type": "stream",
     "text": [
      "vi_subj_animacy:\t(2, 180)\n",
      "vi_objc_pa:\t(2, 714)\n",
      "vi_adj+_pa:\t(2, 734)\n",
      "vi_cmpl_pa:\t(2, 734)\n",
      "vi_coad_pa:\t(2, 734)\n",
      "vf_obj_pa:\t(3, 694)\n",
      "vd_domain_simple:\t(3, 704)\n",
      "vf_cmpl_pa:\t(4, 725)\n",
      "vi_allarg_pa:\t(4, 786)\n",
      "vi_objc_animacy:\t(5, 173)\n",
      "vf_adju_pa:\t(7, 733)\n",
      "vf_obj_animacy:\t(8, 127)\n",
      "vf_coad_pa:\t(8, 734)\n",
      "vg_tense:\t(8, 734)\n",
      "vi_cmpl_animacy:\t(39, 174)\n",
      "vf_argAll_pa:\t(43, 703)\n",
      "vi_adj+_animacy:\t(46, 108)\n",
      "vi_coad_animacy:\t(51, 241)\n",
      "vd_domain_embed:\t(73, 646)\n",
      "vf_cmpl_animacy:\t(88, 158)\n",
      "vi_allarg_animacy:\t(92, 370)\n",
      "vf_adju_animacy:\t(96, 78)\n",
      "vf_coad_animacy:\t(200, 192)\n",
      "vi_subj_domain:\t(247, 231)\n",
      "vd_par_lex:\t(305, 365)\n",
      "vf_argAll_animacy:\t(378, 207)\n",
      "vi_objc_domain:\t(448, 245)\n",
      "vf_obj_domain:\t(584, 213)\n",
      "vi_cmpl_domain:\t(1033, 223)\n",
      "vf_cmpl_domain:\t(1128, 207)\n",
      "vi_adj+_domain:\t(1219, 217)\n",
      "vf_adju_domain:\t(1575, 180)\n",
      "vi_coad_domain:\t(1735, 386)\n",
      "vi_subj_lex:\t(1959, 290)\n",
      "vi_objc_lex:\t(2251, 305)\n",
      "vi_allarg_domain:\t(2902, 527)\n",
      "vf_obj_lex:\t(3012, 274)\n",
      "vf_coad_domain:\t(3055, 301)\n",
      "vi_adj+_lex:\t(3478, 295)\n",
      "vf_cmpl_lex:\t(4074, 267)\n",
      "vi_cmpl_lex:\t(4079, 281)\n",
      "vf_adju_lex:\t(4184, 263)\n",
      "vd_con_window:\t(4463, 790)\n",
      "vf_argAll_domain:\t(5122, 339)\n",
      "vd_con_clause:\t(5477, 900)\n",
      "vi_coad_lex:\t(6765, 475)\n",
      "vd_con_chain:\t(8308, 1218)\n",
      "vf_coad_lex:\t(9337, 418)\n",
      "vi_allarg_lex:\t(11180, 652)\n",
      "vf_argAll_lex:\t(14761, 482)\n"
     ]
    }
   ],
   "source": [
    "for shape, exp in sorted((experiments[exp].data.shape, exp) for exp in experiments):\n",
    "    print(f'{exp}:\\t{shape}')"
   ]
  },
  {
   "cell_type": "markdown",
   "metadata": {},
   "source": [
    "## Deriving a Verb Specimen Set\n",
    "\n",
    "Which verbs will comprise this study? This depends on which verbs are accounted for in the dataset. The presence/absence (pa) experiments count the most basic features, namely, the simple presence or absence of a given verbal argument: objects, complements, adjuncts. I will first try to derive a specimen set by taking the intersection of all the pa experiments."
   ]
  },
  {
   "cell_type": "code",
   "execution_count": 5,
   "metadata": {},
   "outputs": [
    {
     "name": "stdout",
     "output_type": "stream",
     "text": [
      "Starting with specimens count of 714\n",
      "Complete with specimen count of 297\n"
     ]
    }
   ],
   "source": [
    "specimens = set(experiments['vi_objc_pa'].data.columns)\n",
    "print(f'Starting with specimens count of {len(specimens)}')\n",
    "\n",
    "for exp_name, experiment in experiments.items():\n",
    "    \n",
    "    if exp_name == 'vi_objc_pa' or not re.match('.*_pa', exp_name): # skip first pa experiments or non-pa exps.\n",
    "        continue\n",
    "        \n",
    "    exp_lexemes = set(experiment.data.columns)\n",
    "    specimens = exp_lexemes & specimens\n",
    "    \n",
    "print(f'Complete with specimen count of {len(specimens)}')"
   ]
  },
  {
   "cell_type": "markdown",
   "metadata": {},
   "source": [
    "### Count Lexemes without Stems\n",
    "\n",
    "All verbs have their stem appended. How many plain lexemes are in the specimen set?"
   ]
  },
  {
   "cell_type": "code",
   "execution_count": 6,
   "metadata": {},
   "outputs": [
    {
     "name": "stdout",
     "output_type": "stream",
     "text": [
      "Number of plain lexemes accounted for: 243\n",
      "\n"
     ]
    },
    {
     "data": {
      "text/markdown": [
       "\n",
       "##### Passage 1\n"
      ],
      "text/plain": [
       "<IPython.core.display.Markdown object>"
      ]
     },
     "metadata": {},
     "output_type": "display_data"
    },
    {
     "data": {
      "text/html": [
       "<div class=\"lex  hl\">\n",
       "<div class=\"h\">היה</div>\n",
       "<div class=\"vl\"><a target=\"_blank\" href=\"https://shebanq.ancient-data.org/hebrew/word?version=c&id=1HJHv\" title=\"show this lexeme in SHEBANQ\">HJH</a></div>\n",
       "<div class=\"gl\">be</div>\n",
       "\n",
       "</div>\n"
      ],
      "text/plain": [
       "<IPython.core.display.HTML object>"
      ]
     },
     "metadata": {},
     "output_type": "display_data"
    },
    {
     "data": {
      "text/markdown": [
       "\n",
       "##### Passage 2\n"
      ],
      "text/plain": [
       "<IPython.core.display.Markdown object>"
      ]
     },
     "metadata": {},
     "output_type": "display_data"
    },
    {
     "data": {
      "text/html": [
       "<div class=\"lex  hl\">\n",
       "<div class=\"h\">אמר</div>\n",
       "<div class=\"vl\"><a target=\"_blank\" href=\"https://shebanq.ancient-data.org/hebrew/word?version=c&id=1AMRv\" title=\"show this lexeme in SHEBANQ\">>MR</a></div>\n",
       "<div class=\"gl\">say</div>\n",
       "\n",
       "</div>\n"
      ],
      "text/plain": [
       "<IPython.core.display.HTML object>"
      ]
     },
     "metadata": {},
     "output_type": "display_data"
    },
    {
     "data": {
      "text/markdown": [
       "\n",
       "##### Passage 3\n"
      ],
      "text/plain": [
       "<IPython.core.display.Markdown object>"
      ]
     },
     "metadata": {},
     "output_type": "display_data"
    },
    {
     "data": {
      "text/html": [
       "<div class=\"lex  hl\">\n",
       "<div class=\"h\">ראה</div>\n",
       "<div class=\"vl\"><a target=\"_blank\" href=\"https://shebanq.ancient-data.org/hebrew/word?version=c&id=1RAHv\" title=\"show this lexeme in SHEBANQ\">R>H</a></div>\n",
       "<div class=\"gl\">see</div>\n",
       "\n",
       "</div>\n"
      ],
      "text/plain": [
       "<IPython.core.display.HTML object>"
      ]
     },
     "metadata": {},
     "output_type": "display_data"
    },
    {
     "data": {
      "text/markdown": [
       "\n",
       "##### Passage 4\n"
      ],
      "text/plain": [
       "<IPython.core.display.Markdown object>"
      ]
     },
     "metadata": {},
     "output_type": "display_data"
    },
    {
     "data": {
      "text/html": [
       "<div class=\"lex  hl\">\n",
       "<div class=\"h\">קרא</div>\n",
       "<div class=\"vl\"><a target=\"_blank\" href=\"https://shebanq.ancient-data.org/hebrew/word?version=c&id=1QRAv\" title=\"show this lexeme in SHEBANQ\">QR></a></div>\n",
       "<div class=\"gl\">call</div>\n",
       "\n",
       "</div>\n"
      ],
      "text/plain": [
       "<IPython.core.display.HTML object>"
      ]
     },
     "metadata": {},
     "output_type": "display_data"
    },
    {
     "data": {
      "text/markdown": [
       "\n",
       "##### Passage 5\n"
      ],
      "text/plain": [
       "<IPython.core.display.Markdown object>"
      ]
     },
     "metadata": {},
     "output_type": "display_data"
    },
    {
     "data": {
      "text/html": [
       "<div class=\"lex  hl\">\n",
       "<div class=\"h\">עשׂה</div>\n",
       "<div class=\"vl\"><a target=\"_blank\" href=\"https://shebanq.ancient-data.org/hebrew/word?version=c&id=1OFHv\" title=\"show this lexeme in SHEBANQ\">&lt;FH</a></div>\n",
       "<div class=\"gl\">make</div>\n",
       "\n",
       "</div>\n"
      ],
      "text/plain": [
       "<IPython.core.display.HTML object>"
      ]
     },
     "metadata": {},
     "output_type": "display_data"
    },
    {
     "data": {
      "text/markdown": [
       "\n",
       "##### Passage 6\n"
      ],
      "text/plain": [
       "<IPython.core.display.Markdown object>"
      ]
     },
     "metadata": {},
     "output_type": "display_data"
    },
    {
     "data": {
      "text/html": [
       "<div class=\"lex  hl\">\n",
       "<div class=\"h\">יצא</div>\n",
       "<div class=\"vl\"><a target=\"_blank\" href=\"https://shebanq.ancient-data.org/hebrew/word?version=c&id=1JYAv\" title=\"show this lexeme in SHEBANQ\">JY></a></div>\n",
       "<div class=\"gl\">go out</div>\n",
       "\n",
       "</div>\n"
      ],
      "text/plain": [
       "<IPython.core.display.HTML object>"
      ]
     },
     "metadata": {},
     "output_type": "display_data"
    },
    {
     "data": {
      "text/markdown": [
       "\n",
       "##### Passage 7\n"
      ],
      "text/plain": [
       "<IPython.core.display.Markdown object>"
      ]
     },
     "metadata": {},
     "output_type": "display_data"
    },
    {
     "data": {
      "text/html": [
       "<div class=\"lex  hl\">\n",
       "<div class=\"h\">אור</div>\n",
       "<div class=\"vl\"><a target=\"_blank\" href=\"https://shebanq.ancient-data.org/hebrew/word?version=c&id=1AWRv\" title=\"show this lexeme in SHEBANQ\">>WR</a></div>\n",
       "<div class=\"gl\">be light</div>\n",
       "\n",
       "</div>\n"
      ],
      "text/plain": [
       "<IPython.core.display.HTML object>"
      ]
     },
     "metadata": {},
     "output_type": "display_data"
    },
    {
     "data": {
      "text/markdown": [
       "\n",
       "##### Passage 8\n"
      ],
      "text/plain": [
       "<IPython.core.display.Markdown object>"
      ]
     },
     "metadata": {},
     "output_type": "display_data"
    },
    {
     "data": {
      "text/html": [
       "<div class=\"lex  hl\">\n",
       "<div class=\"h\">נתן</div>\n",
       "<div class=\"vl\"><a target=\"_blank\" href=\"https://shebanq.ancient-data.org/hebrew/word?version=c&id=1NTNv\" title=\"show this lexeme in SHEBANQ\">NTN</a></div>\n",
       "<div class=\"gl\">give</div>\n",
       "\n",
       "</div>\n"
      ],
      "text/plain": [
       "<IPython.core.display.HTML object>"
      ]
     },
     "metadata": {},
     "output_type": "display_data"
    },
    {
     "data": {
      "text/markdown": [
       "\n",
       "##### Passage 9\n"
      ],
      "text/plain": [
       "<IPython.core.display.Markdown object>"
      ]
     },
     "metadata": {},
     "output_type": "display_data"
    },
    {
     "data": {
      "text/html": [
       "<div class=\"lex  hl\">\n",
       "<div class=\"h\">ברך</div>\n",
       "<div class=\"vl\"><a target=\"_blank\" href=\"https://shebanq.ancient-data.org/hebrew/word?version=c&id=1BRKv\" title=\"show this lexeme in SHEBANQ\">BRK</a></div>\n",
       "<div class=\"gl\">bless</div>\n",
       "\n",
       "</div>\n"
      ],
      "text/plain": [
       "<IPython.core.display.HTML object>"
      ]
     },
     "metadata": {},
     "output_type": "display_data"
    },
    {
     "data": {
      "text/html": [
       "<div class=\"lex  hl\">\n",
       "<div class=\"h\">רבה</div>\n",
       "<div class=\"vl\"><a target=\"_blank\" href=\"https://shebanq.ancient-data.org/hebrew/word?version=c&id=1RBHv\" title=\"show this lexeme in SHEBANQ\">RBH</a></div>\n",
       "<div class=\"gl\">be many</div>\n",
       "\n",
       "</div>\n"
      ],
      "text/plain": [
       "<IPython.core.display.HTML object>"
      ]
     },
     "metadata": {},
     "output_type": "display_data"
    },
    {
     "data": {
      "text/html": [
       "<div class=\"lex  hl\">\n",
       "<div class=\"h\">מלא</div>\n",
       "<div class=\"vl\"><a target=\"_blank\" href=\"https://shebanq.ancient-data.org/hebrew/word?version=c&id=1MLAv\" title=\"show this lexeme in SHEBANQ\">ML></a></div>\n",
       "<div class=\"gl\">be full</div>\n",
       "\n",
       "</div>\n"
      ],
      "text/plain": [
       "<IPython.core.display.HTML object>"
      ]
     },
     "metadata": {},
     "output_type": "display_data"
    },
    {
     "data": {
      "text/markdown": [
       "\n",
       "##### Passage 10\n"
      ],
      "text/plain": [
       "<IPython.core.display.Markdown object>"
      ]
     },
     "metadata": {},
     "output_type": "display_data"
    },
    {
     "data": {
      "text/html": [
       "<div class=\"lex  hl\">\n",
       "<div class=\"h\">כלה</div>\n",
       "<div class=\"vl\"><a target=\"_blank\" href=\"https://shebanq.ancient-data.org/hebrew/word?version=c&id=1KLHv\" title=\"show this lexeme in SHEBANQ\">KLH</a></div>\n",
       "<div class=\"gl\">be complete</div>\n",
       "\n",
       "</div>\n"
      ],
      "text/plain": [
       "<IPython.core.display.HTML object>"
      ]
     },
     "metadata": {},
     "output_type": "display_data"
    },
    {
     "data": {
      "text/markdown": [
       "\n",
       "##### Passage 11\n"
      ],
      "text/plain": [
       "<IPython.core.display.Markdown object>"
      ]
     },
     "metadata": {},
     "output_type": "display_data"
    },
    {
     "data": {
      "text/html": [
       "<div class=\"lex  hl\">\n",
       "<div class=\"h\">שׁבת</div>\n",
       "<div class=\"vl\"><a target=\"_blank\" href=\"https://shebanq.ancient-data.org/hebrew/word?version=c&id=1CBTv\" title=\"show this lexeme in SHEBANQ\">CBT</a></div>\n",
       "<div class=\"gl\">cease</div>\n",
       "\n",
       "</div>\n"
      ],
      "text/plain": [
       "<IPython.core.display.HTML object>"
      ]
     },
     "metadata": {},
     "output_type": "display_data"
    },
    {
     "data": {
      "text/markdown": [
       "\n",
       "##### Passage 12\n"
      ],
      "text/plain": [
       "<IPython.core.display.Markdown object>"
      ]
     },
     "metadata": {},
     "output_type": "display_data"
    },
    {
     "data": {
      "text/html": [
       "<div class=\"lex  hl\">\n",
       "<div class=\"h\">צמח</div>\n",
       "<div class=\"vl\"><a target=\"_blank\" href=\"https://shebanq.ancient-data.org/hebrew/word?version=c&id=1YMXv\" title=\"show this lexeme in SHEBANQ\">YMX</a></div>\n",
       "<div class=\"gl\">sprout</div>\n",
       "\n",
       "</div>\n"
      ],
      "text/plain": [
       "<IPython.core.display.HTML object>"
      ]
     },
     "metadata": {},
     "output_type": "display_data"
    },
    {
     "data": {
      "text/html": [
       "<div class=\"lex  hl\">\n",
       "<div class=\"h\">עבד</div>\n",
       "<div class=\"vl\"><a target=\"_blank\" href=\"https://shebanq.ancient-data.org/hebrew/word?version=c&id=1OBDv\" title=\"show this lexeme in SHEBANQ\">&lt;BD</a></div>\n",
       "<div class=\"gl\">work, serve</div>\n",
       "\n",
       "</div>\n"
      ],
      "text/plain": [
       "<IPython.core.display.HTML object>"
      ]
     },
     "metadata": {},
     "output_type": "display_data"
    },
    {
     "data": {
      "text/markdown": [
       "\n",
       "##### Passage 13\n"
      ],
      "text/plain": [
       "<IPython.core.display.Markdown object>"
      ]
     },
     "metadata": {},
     "output_type": "display_data"
    },
    {
     "data": {
      "text/html": [
       "<div class=\"lex  hl\">\n",
       "<div class=\"h\">עלה</div>\n",
       "<div class=\"vl\"><a target=\"_blank\" href=\"https://shebanq.ancient-data.org/hebrew/word?version=c&id=1OLHv\" title=\"show this lexeme in SHEBANQ\">&lt;LH</a></div>\n",
       "<div class=\"gl\">ascend</div>\n",
       "\n",
       "</div>\n"
      ],
      "text/plain": [
       "<IPython.core.display.HTML object>"
      ]
     },
     "metadata": {},
     "output_type": "display_data"
    },
    {
     "data": {
      "text/html": [
       "<div class=\"lex  hl\">\n",
       "<div class=\"h\">שׁקה</div>\n",
       "<div class=\"vl\"><a target=\"_blank\" href=\"https://shebanq.ancient-data.org/hebrew/word?version=c&id=1CQHv\" title=\"show this lexeme in SHEBANQ\">CQH</a></div>\n",
       "<div class=\"gl\">give drink</div>\n",
       "\n",
       "</div>\n"
      ],
      "text/plain": [
       "<IPython.core.display.HTML object>"
      ]
     },
     "metadata": {},
     "output_type": "display_data"
    },
    {
     "data": {
      "text/markdown": [
       "\n",
       "##### Passage 14\n"
      ],
      "text/plain": [
       "<IPython.core.display.Markdown object>"
      ]
     },
     "metadata": {},
     "output_type": "display_data"
    },
    {
     "data": {
      "text/html": [
       "<div class=\"lex  hl\">\n",
       "<div class=\"h\">שׂים</div>\n",
       "<div class=\"vl\"><a target=\"_blank\" href=\"https://shebanq.ancient-data.org/hebrew/word?version=c&id=1FJMv\" title=\"show this lexeme in SHEBANQ\">FJM</a></div>\n",
       "<div class=\"gl\">put</div>\n",
       "\n",
       "</div>\n"
      ],
      "text/plain": [
       "<IPython.core.display.HTML object>"
      ]
     },
     "metadata": {},
     "output_type": "display_data"
    },
    {
     "data": {
      "text/markdown": [
       "\n",
       "##### Passage 15\n"
      ],
      "text/plain": [
       "<IPython.core.display.Markdown object>"
      ]
     },
     "metadata": {},
     "output_type": "display_data"
    },
    {
     "data": {
      "text/html": [
       "<div class=\"lex  hl\">\n",
       "<div class=\"h\">חמד</div>\n",
       "<div class=\"vl\"><a target=\"_blank\" href=\"https://shebanq.ancient-data.org/hebrew/word?version=c&id=1XMDv\" title=\"show this lexeme in SHEBANQ\">XMD</a></div>\n",
       "<div class=\"gl\">desire</div>\n",
       "\n",
       "</div>\n"
      ],
      "text/plain": [
       "<IPython.core.display.HTML object>"
      ]
     },
     "metadata": {},
     "output_type": "display_data"
    },
    {
     "data": {
      "text/markdown": [
       "\n",
       "##### Passage 16\n"
      ],
      "text/plain": [
       "<IPython.core.display.Markdown object>"
      ]
     },
     "metadata": {},
     "output_type": "display_data"
    },
    {
     "data": {
      "text/html": [
       "<div class=\"lex  hl\">\n",
       "<div class=\"h\">סבב</div>\n",
       "<div class=\"vl\"><a target=\"_blank\" href=\"https://shebanq.ancient-data.org/hebrew/word?version=c&id=1SBBv\" title=\"show this lexeme in SHEBANQ\">SBB</a></div>\n",
       "<div class=\"gl\">turn</div>\n",
       "\n",
       "</div>\n"
      ],
      "text/plain": [
       "<IPython.core.display.HTML object>"
      ]
     },
     "metadata": {},
     "output_type": "display_data"
    },
    {
     "data": {
      "text/markdown": [
       "\n",
       "##### Passage 17\n"
      ],
      "text/plain": [
       "<IPython.core.display.Markdown object>"
      ]
     },
     "metadata": {},
     "output_type": "display_data"
    },
    {
     "data": {
      "text/html": [
       "<div class=\"lex  hl\">\n",
       "<div class=\"h\">הלך</div>\n",
       "<div class=\"vl\"><a target=\"_blank\" href=\"https://shebanq.ancient-data.org/hebrew/word?version=c&id=1HLKv\" title=\"show this lexeme in SHEBANQ\">HLK</a></div>\n",
       "<div class=\"gl\">walk</div>\n",
       "\n",
       "</div>\n"
      ],
      "text/plain": [
       "<IPython.core.display.HTML object>"
      ]
     },
     "metadata": {},
     "output_type": "display_data"
    },
    {
     "data": {
      "text/markdown": [
       "\n",
       "##### Passage 18\n"
      ],
      "text/plain": [
       "<IPython.core.display.Markdown object>"
      ]
     },
     "metadata": {},
     "output_type": "display_data"
    },
    {
     "data": {
      "text/html": [
       "<div class=\"lex  hl\">\n",
       "<div class=\"h\">לקח</div>\n",
       "<div class=\"vl\"><a target=\"_blank\" href=\"https://shebanq.ancient-data.org/hebrew/word?version=c&id=1LQXv\" title=\"show this lexeme in SHEBANQ\">LQX</a></div>\n",
       "<div class=\"gl\">take</div>\n",
       "\n",
       "</div>\n"
      ],
      "text/plain": [
       "<IPython.core.display.HTML object>"
      ]
     },
     "metadata": {},
     "output_type": "display_data"
    },
    {
     "data": {
      "text/html": [
       "<div class=\"lex  hl\">\n",
       "<div class=\"h\">נוח</div>\n",
       "<div class=\"vl\"><a target=\"_blank\" href=\"https://shebanq.ancient-data.org/hebrew/word?version=c&id=1NWXv\" title=\"show this lexeme in SHEBANQ\">NWX</a></div>\n",
       "<div class=\"gl\">settle</div>\n",
       "\n",
       "</div>\n"
      ],
      "text/plain": [
       "<IPython.core.display.HTML object>"
      ]
     },
     "metadata": {},
     "output_type": "display_data"
    },
    {
     "data": {
      "text/html": [
       "<div class=\"lex  hl\">\n",
       "<div class=\"h\">שׁמר</div>\n",
       "<div class=\"vl\"><a target=\"_blank\" href=\"https://shebanq.ancient-data.org/hebrew/word?version=c&id=1CMRv\" title=\"show this lexeme in SHEBANQ\">CMR</a></div>\n",
       "<div class=\"gl\">keep</div>\n",
       "\n",
       "</div>\n"
      ],
      "text/plain": [
       "<IPython.core.display.HTML object>"
      ]
     },
     "metadata": {},
     "output_type": "display_data"
    },
    {
     "data": {
      "text/markdown": [
       "\n",
       "##### Passage 19\n"
      ],
      "text/plain": [
       "<IPython.core.display.Markdown object>"
      ]
     },
     "metadata": {},
     "output_type": "display_data"
    },
    {
     "data": {
      "text/html": [
       "<div class=\"lex  hl\">\n",
       "<div class=\"h\">צוה</div>\n",
       "<div class=\"vl\"><a target=\"_blank\" href=\"https://shebanq.ancient-data.org/hebrew/word?version=c&id=1YWHv\" title=\"show this lexeme in SHEBANQ\">YWH</a></div>\n",
       "<div class=\"gl\">command</div>\n",
       "\n",
       "</div>\n"
      ],
      "text/plain": [
       "<IPython.core.display.HTML object>"
      ]
     },
     "metadata": {},
     "output_type": "display_data"
    },
    {
     "data": {
      "text/html": [
       "<div class=\"lex  hl\">\n",
       "<div class=\"h\">אכל</div>\n",
       "<div class=\"vl\"><a target=\"_blank\" href=\"https://shebanq.ancient-data.org/hebrew/word?version=c&id=1AKLv\" title=\"show this lexeme in SHEBANQ\">>KL</a></div>\n",
       "<div class=\"gl\">eat</div>\n",
       "\n",
       "</div>\n"
      ],
      "text/plain": [
       "<IPython.core.display.HTML object>"
      ]
     },
     "metadata": {},
     "output_type": "display_data"
    },
    {
     "data": {
      "text/markdown": [
       "\n",
       "##### Passage 20\n"
      ],
      "text/plain": [
       "<IPython.core.display.Markdown object>"
      ]
     },
     "metadata": {},
     "output_type": "display_data"
    },
    {
     "data": {
      "text/html": [
       "<div class=\"lex  hl\">\n",
       "<div class=\"h\">מות</div>\n",
       "<div class=\"vl\"><a target=\"_blank\" href=\"https://shebanq.ancient-data.org/hebrew/word?version=c&id=1MWTv\" title=\"show this lexeme in SHEBANQ\">MWT</a></div>\n",
       "<div class=\"gl\">die</div>\n",
       "\n",
       "</div>\n"
      ],
      "text/plain": [
       "<IPython.core.display.HTML object>"
      ]
     },
     "metadata": {},
     "output_type": "display_data"
    },
    {
     "data": {
      "text/markdown": [
       "\n",
       "##### Passage 21\n"
      ],
      "text/plain": [
       "<IPython.core.display.Markdown object>"
      ]
     },
     "metadata": {},
     "output_type": "display_data"
    },
    {
     "data": {
      "text/html": [
       "<div class=\"lex  hl\">\n",
       "<div class=\"h\">בוא</div>\n",
       "<div class=\"vl\"><a target=\"_blank\" href=\"https://shebanq.ancient-data.org/hebrew/word?version=c&id=1BWAv\" title=\"show this lexeme in SHEBANQ\">BW></a></div>\n",
       "<div class=\"gl\">come</div>\n",
       "\n",
       "</div>\n"
      ],
      "text/plain": [
       "<IPython.core.display.HTML object>"
      ]
     },
     "metadata": {},
     "output_type": "display_data"
    },
    {
     "data": {
      "text/markdown": [
       "\n",
       "##### Passage 22\n"
      ],
      "text/plain": [
       "<IPython.core.display.Markdown object>"
      ]
     },
     "metadata": {},
     "output_type": "display_data"
    },
    {
     "data": {
      "text/html": [
       "<div class=\"lex  hl\">\n",
       "<div class=\"h\">מצא</div>\n",
       "<div class=\"vl\"><a target=\"_blank\" href=\"https://shebanq.ancient-data.org/hebrew/word?version=c&id=1MYAv\" title=\"show this lexeme in SHEBANQ\">MY></a></div>\n",
       "<div class=\"gl\">find</div>\n",
       "\n",
       "</div>\n"
      ],
      "text/plain": [
       "<IPython.core.display.HTML object>"
      ]
     },
     "metadata": {},
     "output_type": "display_data"
    },
    {
     "data": {
      "text/markdown": [
       "\n",
       "##### Passage 23\n"
      ],
      "text/plain": [
       "<IPython.core.display.Markdown object>"
      ]
     },
     "metadata": {},
     "output_type": "display_data"
    },
    {
     "data": {
      "text/html": [
       "<div class=\"lex  hl\">\n",
       "<div class=\"h\">נפל</div>\n",
       "<div class=\"vl\"><a target=\"_blank\" href=\"https://shebanq.ancient-data.org/hebrew/word?version=c&id=1NPLv\" title=\"show this lexeme in SHEBANQ\">NPL</a></div>\n",
       "<div class=\"gl\">fall</div>\n",
       "\n",
       "</div>\n"
      ],
      "text/plain": [
       "<IPython.core.display.HTML object>"
      ]
     },
     "metadata": {},
     "output_type": "display_data"
    },
    {
     "data": {
      "text/html": [
       "<div class=\"lex  hl\">\n",
       "<div class=\"h\">סגר</div>\n",
       "<div class=\"vl\"><a target=\"_blank\" href=\"https://shebanq.ancient-data.org/hebrew/word?version=c&id=1SGRv\" title=\"show this lexeme in SHEBANQ\">SGR</a></div>\n",
       "<div class=\"gl\">close</div>\n",
       "\n",
       "</div>\n"
      ],
      "text/plain": [
       "<IPython.core.display.HTML object>"
      ]
     },
     "metadata": {},
     "output_type": "display_data"
    },
    {
     "data": {
      "text/markdown": [
       "\n",
       "##### Passage 24\n"
      ],
      "text/plain": [
       "<IPython.core.display.Markdown object>"
      ]
     },
     "metadata": {},
     "output_type": "display_data"
    },
    {
     "data": {
      "text/html": [
       "<div class=\"lex  hl\">\n",
       "<div class=\"h\">בנה</div>\n",
       "<div class=\"vl\"><a target=\"_blank\" href=\"https://shebanq.ancient-data.org/hebrew/word?version=c&id=1BNHv\" title=\"show this lexeme in SHEBANQ\">BNH</a></div>\n",
       "<div class=\"gl\">build</div>\n",
       "\n",
       "</div>\n"
      ],
      "text/plain": [
       "<IPython.core.display.HTML object>"
      ]
     },
     "metadata": {},
     "output_type": "display_data"
    },
    {
     "data": {
      "text/markdown": [
       "\n",
       "##### Passage 25\n"
      ],
      "text/plain": [
       "<IPython.core.display.Markdown object>"
      ]
     },
     "metadata": {},
     "output_type": "display_data"
    },
    {
     "data": {
      "text/html": [
       "<div class=\"lex  hl\">\n",
       "<div class=\"h\">עזב</div>\n",
       "<div class=\"vl\"><a target=\"_blank\" href=\"https://shebanq.ancient-data.org/hebrew/word?version=c&id=1OZBv\" title=\"show this lexeme in SHEBANQ\">&lt;ZB</a></div>\n",
       "<div class=\"gl\">leave</div>\n",
       "\n",
       "</div>\n"
      ],
      "text/plain": [
       "<IPython.core.display.HTML object>"
      ]
     },
     "metadata": {},
     "output_type": "display_data"
    },
    {
     "data": {
      "text/html": [
       "<div class=\"lex  hl\">\n",
       "<div class=\"h\">דבק</div>\n",
       "<div class=\"vl\"><a target=\"_blank\" href=\"https://shebanq.ancient-data.org/hebrew/word?version=c&id=1DBQv\" title=\"show this lexeme in SHEBANQ\">DBQ</a></div>\n",
       "<div class=\"gl\">cling, cleave to</div>\n",
       "\n",
       "</div>\n"
      ],
      "text/plain": [
       "<IPython.core.display.HTML object>"
      ]
     },
     "metadata": {},
     "output_type": "display_data"
    },
    {
     "data": {
      "text/markdown": [
       "\n",
       "##### Passage 26\n"
      ],
      "text/plain": [
       "<IPython.core.display.Markdown object>"
      ]
     },
     "metadata": {},
     "output_type": "display_data"
    },
    {
     "data": {
      "text/html": [
       "<div class=\"lex  hl\">\n",
       "<div class=\"h\">בושׁ</div>\n",
       "<div class=\"vl\"><a target=\"_blank\" href=\"https://shebanq.ancient-data.org/hebrew/word?version=c&id=1BWCv\" title=\"show this lexeme in SHEBANQ\">BWC</a></div>\n",
       "<div class=\"gl\">be ashamed</div>\n",
       "\n",
       "</div>\n"
      ],
      "text/plain": [
       "<IPython.core.display.HTML object>"
      ]
     },
     "metadata": {},
     "output_type": "display_data"
    },
    {
     "data": {
      "text/markdown": [
       "\n",
       "##### Passage 27\n"
      ],
      "text/plain": [
       "<IPython.core.display.Markdown object>"
      ]
     },
     "metadata": {},
     "output_type": "display_data"
    },
    {
     "data": {
      "text/html": [
       "<div class=\"lex  hl\">\n",
       "<div class=\"h\">נגע</div>\n",
       "<div class=\"vl\"><a target=\"_blank\" href=\"https://shebanq.ancient-data.org/hebrew/word?version=c&id=1NGOv\" title=\"show this lexeme in SHEBANQ\">NG&lt;</a></div>\n",
       "<div class=\"gl\">touch</div>\n",
       "\n",
       "</div>\n"
      ],
      "text/plain": [
       "<IPython.core.display.HTML object>"
      ]
     },
     "metadata": {},
     "output_type": "display_data"
    },
    {
     "data": {
      "text/markdown": [
       "\n",
       "##### Passage 28\n"
      ],
      "text/plain": [
       "<IPython.core.display.Markdown object>"
      ]
     },
     "metadata": {},
     "output_type": "display_data"
    },
    {
     "data": {
      "text/html": [
       "<div class=\"lex  hl\">\n",
       "<div class=\"h\">ידע</div>\n",
       "<div class=\"vl\"><a target=\"_blank\" href=\"https://shebanq.ancient-data.org/hebrew/word?version=c&id=1JDOv\" title=\"show this lexeme in SHEBANQ\">JD&lt;</a></div>\n",
       "<div class=\"gl\">know</div>\n",
       "\n",
       "</div>\n"
      ],
      "text/plain": [
       "<IPython.core.display.HTML object>"
      ]
     },
     "metadata": {},
     "output_type": "display_data"
    },
    {
     "data": {
      "text/html": [
       "<div class=\"lex  hl\">\n",
       "<div class=\"h\">פקח</div>\n",
       "<div class=\"vl\"><a target=\"_blank\" href=\"https://shebanq.ancient-data.org/hebrew/word?version=c&id=1PQXv\" title=\"show this lexeme in SHEBANQ\">PQX</a></div>\n",
       "<div class=\"gl\">open</div>\n",
       "\n",
       "</div>\n"
      ],
      "text/plain": [
       "<IPython.core.display.HTML object>"
      ]
     },
     "metadata": {},
     "output_type": "display_data"
    },
    {
     "data": {
      "text/markdown": [
       "\n",
       "##### Passage 29\n"
      ],
      "text/plain": [
       "<IPython.core.display.Markdown object>"
      ]
     },
     "metadata": {},
     "output_type": "display_data"
    },
    {
     "data": {
      "text/html": [
       "<div class=\"lex  hl\">\n",
       "<div class=\"h\">שׂכל</div>\n",
       "<div class=\"vl\"><a target=\"_blank\" href=\"https://shebanq.ancient-data.org/hebrew/word?version=c&id=1FKLv\" title=\"show this lexeme in SHEBANQ\">FKL</a></div>\n",
       "<div class=\"gl\">prosper</div>\n",
       "\n",
       "</div>\n"
      ],
      "text/plain": [
       "<IPython.core.display.HTML object>"
      ]
     },
     "metadata": {},
     "output_type": "display_data"
    },
    {
     "data": {
      "text/markdown": [
       "\n",
       "##### Passage 30\n"
      ],
      "text/plain": [
       "<IPython.core.display.Markdown object>"
      ]
     },
     "metadata": {},
     "output_type": "display_data"
    },
    {
     "data": {
      "text/html": [
       "<div class=\"lex  hl\">\n",
       "<div class=\"h\">שׁמע</div>\n",
       "<div class=\"vl\"><a target=\"_blank\" href=\"https://shebanq.ancient-data.org/hebrew/word?version=c&id=1CMOv\" title=\"show this lexeme in SHEBANQ\">CM&lt;</a></div>\n",
       "<div class=\"gl\">hear</div>\n",
       "\n",
       "</div>\n"
      ],
      "text/plain": [
       "<IPython.core.display.HTML object>"
      ]
     },
     "metadata": {},
     "output_type": "display_data"
    },
    {
     "data": {
      "text/html": [
       "<div class=\"lex  hl\">\n",
       "<div class=\"h\">חבא</div>\n",
       "<div class=\"vl\"><a target=\"_blank\" href=\"https://shebanq.ancient-data.org/hebrew/word?version=c&id=1XBAv\" title=\"show this lexeme in SHEBANQ\">XB></a></div>\n",
       "<div class=\"gl\">hide</div>\n",
       "\n",
       "</div>\n"
      ],
      "text/plain": [
       "<IPython.core.display.HTML object>"
      ]
     },
     "metadata": {},
     "output_type": "display_data"
    },
    {
     "data": {
      "text/markdown": [
       "\n",
       "##### Passage 31\n"
      ],
      "text/plain": [
       "<IPython.core.display.Markdown object>"
      ]
     },
     "metadata": {},
     "output_type": "display_data"
    },
    {
     "data": {
      "text/html": [
       "<div class=\"lex  hl\">\n",
       "<div class=\"h\">ירא</div>\n",
       "<div class=\"vl\"><a target=\"_blank\" href=\"https://shebanq.ancient-data.org/hebrew/word?version=c&id=1JRAv\" title=\"show this lexeme in SHEBANQ\">JR></a></div>\n",
       "<div class=\"gl\">fear</div>\n",
       "\n",
       "</div>\n"
      ],
      "text/plain": [
       "<IPython.core.display.HTML object>"
      ]
     },
     "metadata": {},
     "output_type": "display_data"
    },
    {
     "data": {
      "text/markdown": [
       "\n",
       "##### Passage 32\n"
      ],
      "text/plain": [
       "<IPython.core.display.Markdown object>"
      ]
     },
     "metadata": {},
     "output_type": "display_data"
    },
    {
     "data": {
      "text/html": [
       "<div class=\"lex  hl\">\n",
       "<div class=\"h\">נגד</div>\n",
       "<div class=\"vl\"><a target=\"_blank\" href=\"https://shebanq.ancient-data.org/hebrew/word?version=c&id=1NGDv\" title=\"show this lexeme in SHEBANQ\">NGD</a></div>\n",
       "<div class=\"gl\">report</div>\n",
       "\n",
       "</div>\n"
      ],
      "text/plain": [
       "<IPython.core.display.HTML object>"
      ]
     },
     "metadata": {},
     "output_type": "display_data"
    },
    {
     "data": {
      "text/markdown": [
       "\n",
       "##### Passage 33\n"
      ],
      "text/plain": [
       "<IPython.core.display.Markdown object>"
      ]
     },
     "metadata": {},
     "output_type": "display_data"
    },
    {
     "data": {
      "text/html": [
       "<div class=\"lex  hl\">\n",
       "<div class=\"h\">נשׁא</div>\n",
       "<div class=\"vl\"><a target=\"_blank\" href=\"https://shebanq.ancient-data.org/hebrew/word?version=c&id=1NCAiv\" title=\"show this lexeme in SHEBANQ\">NC></a></div>\n",
       "<div class=\"gl\">beguile</div>\n",
       "\n",
       "</div>\n"
      ],
      "text/plain": [
       "<IPython.core.display.HTML object>"
      ]
     },
     "metadata": {},
     "output_type": "display_data"
    },
    {
     "data": {
      "text/markdown": [
       "\n",
       "##### Passage 34\n"
      ],
      "text/plain": [
       "<IPython.core.display.Markdown object>"
      ]
     },
     "metadata": {},
     "output_type": "display_data"
    },
    {
     "data": {
      "text/html": [
       "<div class=\"lex  hl\">\n",
       "<div class=\"h\">שׁית</div>\n",
       "<div class=\"vl\"><a target=\"_blank\" href=\"https://shebanq.ancient-data.org/hebrew/word?version=c&id=1CJTv\" title=\"show this lexeme in SHEBANQ\">CJT</a></div>\n",
       "<div class=\"gl\">put</div>\n",
       "\n",
       "</div>\n"
      ],
      "text/plain": [
       "<IPython.core.display.HTML object>"
      ]
     },
     "metadata": {},
     "output_type": "display_data"
    },
    {
     "data": {
      "text/markdown": [
       "\n",
       "##### Passage 35\n"
      ],
      "text/plain": [
       "<IPython.core.display.Markdown object>"
      ]
     },
     "metadata": {},
     "output_type": "display_data"
    },
    {
     "data": {
      "text/html": [
       "<div class=\"lex  hl\">\n",
       "<div class=\"h\">ילד</div>\n",
       "<div class=\"vl\"><a target=\"_blank\" href=\"https://shebanq.ancient-data.org/hebrew/word?version=c&id=1JLDv\" title=\"show this lexeme in SHEBANQ\">JLD</a></div>\n",
       "<div class=\"gl\">bear</div>\n",
       "\n",
       "</div>\n"
      ],
      "text/plain": [
       "<IPython.core.display.HTML object>"
      ]
     },
     "metadata": {},
     "output_type": "display_data"
    },
    {
     "data": {
      "text/markdown": [
       "\n",
       "##### Passage 36\n"
      ],
      "text/plain": [
       "<IPython.core.display.Markdown object>"
      ]
     },
     "metadata": {},
     "output_type": "display_data"
    },
    {
     "data": {
      "text/html": [
       "<div class=\"lex  hl\">\n",
       "<div class=\"h\">שׁוב</div>\n",
       "<div class=\"vl\"><a target=\"_blank\" href=\"https://shebanq.ancient-data.org/hebrew/word?version=c&id=1CWBv\" title=\"show this lexeme in SHEBANQ\">CWB</a></div>\n",
       "<div class=\"gl\">return</div>\n",
       "\n",
       "</div>\n"
      ],
      "text/plain": [
       "<IPython.core.display.HTML object>"
      ]
     },
     "metadata": {},
     "output_type": "display_data"
    },
    {
     "data": {
      "text/markdown": [
       "\n",
       "##### Passage 37\n"
      ],
      "text/plain": [
       "<IPython.core.display.Markdown object>"
      ]
     },
     "metadata": {},
     "output_type": "display_data"
    },
    {
     "data": {
      "text/html": [
       "<div class=\"lex  hl\">\n",
       "<div class=\"h\">לבשׁ</div>\n",
       "<div class=\"vl\"><a target=\"_blank\" href=\"https://shebanq.ancient-data.org/hebrew/word?version=c&id=1LBCv\" title=\"show this lexeme in SHEBANQ\">LBC</a></div>\n",
       "<div class=\"gl\">clothe</div>\n",
       "\n",
       "</div>\n"
      ],
      "text/plain": [
       "<IPython.core.display.HTML object>"
      ]
     },
     "metadata": {},
     "output_type": "display_data"
    },
    {
     "data": {
      "text/markdown": [
       "\n",
       "##### Passage 38\n"
      ],
      "text/plain": [
       "<IPython.core.display.Markdown object>"
      ]
     },
     "metadata": {},
     "output_type": "display_data"
    },
    {
     "data": {
      "text/html": [
       "<div class=\"lex  hl\">\n",
       "<div class=\"h\">שׁלח</div>\n",
       "<div class=\"vl\"><a target=\"_blank\" href=\"https://shebanq.ancient-data.org/hebrew/word?version=c&id=1CLXv\" title=\"show this lexeme in SHEBANQ\">CLX</a></div>\n",
       "<div class=\"gl\">send</div>\n",
       "\n",
       "</div>\n"
      ],
      "text/plain": [
       "<IPython.core.display.HTML object>"
      ]
     },
     "metadata": {},
     "output_type": "display_data"
    },
    {
     "data": {
      "text/html": [
       "<div class=\"lex  hl\">\n",
       "<div class=\"h\">חיה</div>\n",
       "<div class=\"vl\"><a target=\"_blank\" href=\"https://shebanq.ancient-data.org/hebrew/word?version=c&id=1XJHv\" title=\"show this lexeme in SHEBANQ\">XJH</a></div>\n",
       "<div class=\"gl\">be alive</div>\n",
       "\n",
       "</div>\n"
      ],
      "text/plain": [
       "<IPython.core.display.HTML object>"
      ]
     },
     "metadata": {},
     "output_type": "display_data"
    },
    {
     "data": {
      "text/markdown": [
       "\n",
       "##### Passage 39\n"
      ],
      "text/plain": [
       "<IPython.core.display.Markdown object>"
      ]
     },
     "metadata": {},
     "output_type": "display_data"
    },
    {
     "data": {
      "text/html": [
       "<div class=\"lex  hl\">\n",
       "<div class=\"h\">גרשׁ</div>\n",
       "<div class=\"vl\"><a target=\"_blank\" href=\"https://shebanq.ancient-data.org/hebrew/word?version=c&id=1GRCv\" title=\"show this lexeme in SHEBANQ\">GRC</a></div>\n",
       "<div class=\"gl\">drive out</div>\n",
       "\n",
       "</div>\n"
      ],
      "text/plain": [
       "<IPython.core.display.HTML object>"
      ]
     },
     "metadata": {},
     "output_type": "display_data"
    },
    {
     "data": {
      "text/html": [
       "<div class=\"lex  hl\">\n",
       "<div class=\"h\">שׁכן</div>\n",
       "<div class=\"vl\"><a target=\"_blank\" href=\"https://shebanq.ancient-data.org/hebrew/word?version=c&id=1CKNv\" title=\"show this lexeme in SHEBANQ\">CKN</a></div>\n",
       "<div class=\"gl\">dwell</div>\n",
       "\n",
       "</div>\n"
      ],
      "text/plain": [
       "<IPython.core.display.HTML object>"
      ]
     },
     "metadata": {},
     "output_type": "display_data"
    },
    {
     "data": {
      "text/html": [
       "<div class=\"lex  hl\">\n",
       "<div class=\"h\">הפך</div>\n",
       "<div class=\"vl\"><a target=\"_blank\" href=\"https://shebanq.ancient-data.org/hebrew/word?version=c&id=1HPKv\" title=\"show this lexeme in SHEBANQ\">HPK</a></div>\n",
       "<div class=\"gl\">turn</div>\n",
       "\n",
       "</div>\n"
      ],
      "text/plain": [
       "<IPython.core.display.HTML object>"
      ]
     },
     "metadata": {},
     "output_type": "display_data"
    },
    {
     "data": {
      "text/markdown": [
       "\n",
       "##### Passage 40\n"
      ],
      "text/plain": [
       "<IPython.core.display.Markdown object>"
      ]
     },
     "metadata": {},
     "output_type": "display_data"
    },
    {
     "data": {
      "text/html": [
       "<div class=\"lex  hl\">\n",
       "<div class=\"h\">יסף</div>\n",
       "<div class=\"vl\"><a target=\"_blank\" href=\"https://shebanq.ancient-data.org/hebrew/word?version=c&id=1JSPv\" title=\"show this lexeme in SHEBANQ\">JSP</a></div>\n",
       "<div class=\"gl\">add</div>\n",
       "\n",
       "</div>\n"
      ],
      "text/plain": [
       "<IPython.core.display.HTML object>"
      ]
     },
     "metadata": {},
     "output_type": "display_data"
    },
    {
     "data": {
      "text/html": [
       "<div class=\"lex  hl\">\n",
       "<div class=\"h\">רעה</div>\n",
       "<div class=\"vl\"><a target=\"_blank\" href=\"https://shebanq.ancient-data.org/hebrew/word?version=c&id=1ROHv\" title=\"show this lexeme in SHEBANQ\">R&lt;H</a></div>\n",
       "<div class=\"gl\">pasture</div>\n",
       "\n",
       "</div>\n"
      ],
      "text/plain": [
       "<IPython.core.display.HTML object>"
      ]
     },
     "metadata": {},
     "output_type": "display_data"
    },
    {
     "data": {
      "text/markdown": [
       "\n",
       "##### Passage 41\n"
      ],
      "text/plain": [
       "<IPython.core.display.Markdown object>"
      ]
     },
     "metadata": {},
     "output_type": "display_data"
    },
    {
     "data": {
      "text/html": [
       "<div class=\"lex  hl\">\n",
       "<div class=\"h\">שׁעה</div>\n",
       "<div class=\"vl\"><a target=\"_blank\" href=\"https://shebanq.ancient-data.org/hebrew/word?version=c&id=1COHv\" title=\"show this lexeme in SHEBANQ\">C&lt;H</a></div>\n",
       "<div class=\"gl\">look</div>\n",
       "\n",
       "</div>\n"
      ],
      "text/plain": [
       "<IPython.core.display.HTML object>"
      ]
     },
     "metadata": {},
     "output_type": "display_data"
    },
    {
     "data": {
      "text/markdown": [
       "\n",
       "##### Passage 42\n"
      ],
      "text/plain": [
       "<IPython.core.display.Markdown object>"
      ]
     },
     "metadata": {},
     "output_type": "display_data"
    },
    {
     "data": {
      "text/html": [
       "<div class=\"lex  hl\">\n",
       "<div class=\"h\">יטב</div>\n",
       "<div class=\"vl\"><a target=\"_blank\" href=\"https://shebanq.ancient-data.org/hebrew/word?version=c&id=1JVBv\" title=\"show this lexeme in SHEBANQ\">JVB</a></div>\n",
       "<div class=\"gl\">be good</div>\n",
       "\n",
       "</div>\n"
      ],
      "text/plain": [
       "<IPython.core.display.HTML object>"
      ]
     },
     "metadata": {},
     "output_type": "display_data"
    },
    {
     "data": {
      "text/markdown": [
       "\n",
       "##### Passage 43\n"
      ],
      "text/plain": [
       "<IPython.core.display.Markdown object>"
      ]
     },
     "metadata": {},
     "output_type": "display_data"
    },
    {
     "data": {
      "text/html": [
       "<div class=\"lex  hl\">\n",
       "<div class=\"h\">קום</div>\n",
       "<div class=\"vl\"><a target=\"_blank\" href=\"https://shebanq.ancient-data.org/hebrew/word?version=c&id=1QWMv\" title=\"show this lexeme in SHEBANQ\">QWM</a></div>\n",
       "<div class=\"gl\">arise</div>\n",
       "\n",
       "</div>\n"
      ],
      "text/plain": [
       "<IPython.core.display.HTML object>"
      ]
     },
     "metadata": {},
     "output_type": "display_data"
    },
    {
     "data": {
      "text/html": [
       "<div class=\"lex  hl\">\n",
       "<div class=\"h\">הרג</div>\n",
       "<div class=\"vl\"><a target=\"_blank\" href=\"https://shebanq.ancient-data.org/hebrew/word?version=c&id=1HRGv\" title=\"show this lexeme in SHEBANQ\">HRG</a></div>\n",
       "<div class=\"gl\">kill</div>\n",
       "\n",
       "</div>\n"
      ],
      "text/plain": [
       "<IPython.core.display.HTML object>"
      ]
     },
     "metadata": {},
     "output_type": "display_data"
    },
    {
     "data": {
      "text/markdown": [
       "\n",
       "##### Passage 44\n"
      ],
      "text/plain": [
       "<IPython.core.display.Markdown object>"
      ]
     },
     "metadata": {},
     "output_type": "display_data"
    },
    {
     "data": {
      "text/html": [
       "<div class=\"lex  hl\">\n",
       "<div class=\"h\">צעק</div>\n",
       "<div class=\"vl\"><a target=\"_blank\" href=\"https://shebanq.ancient-data.org/hebrew/word?version=c&id=1YOQv\" title=\"show this lexeme in SHEBANQ\">Y&lt;Q</a></div>\n",
       "<div class=\"gl\">cry</div>\n",
       "\n",
       "</div>\n"
      ],
      "text/plain": [
       "<IPython.core.display.HTML object>"
      ]
     },
     "metadata": {},
     "output_type": "display_data"
    },
    {
     "data": {
      "text/markdown": [
       "\n",
       "##### Passage 45\n"
      ],
      "text/plain": [
       "<IPython.core.display.Markdown object>"
      ]
     },
     "metadata": {},
     "output_type": "display_data"
    },
    {
     "data": {
      "text/html": [
       "<div class=\"lex  hl\">\n",
       "<div class=\"h\">פצה</div>\n",
       "<div class=\"vl\"><a target=\"_blank\" href=\"https://shebanq.ancient-data.org/hebrew/word?version=c&id=1PYHv\" title=\"show this lexeme in SHEBANQ\">PYH</a></div>\n",
       "<div class=\"gl\">open</div>\n",
       "\n",
       "</div>\n"
      ],
      "text/plain": [
       "<IPython.core.display.HTML object>"
      ]
     },
     "metadata": {},
     "output_type": "display_data"
    },
    {
     "data": {
      "text/markdown": [
       "\n",
       "##### Passage 46\n"
      ],
      "text/plain": [
       "<IPython.core.display.Markdown object>"
      ]
     },
     "metadata": {},
     "output_type": "display_data"
    },
    {
     "data": {
      "text/html": [
       "<div class=\"lex  hl\">\n",
       "<div class=\"h\">נשׂא</div>\n",
       "<div class=\"vl\"><a target=\"_blank\" href=\"https://shebanq.ancient-data.org/hebrew/word?version=c&id=1NFAv\" title=\"show this lexeme in SHEBANQ\">NF></a></div>\n",
       "<div class=\"gl\">lift</div>\n",
       "\n",
       "</div>\n"
      ],
      "text/plain": [
       "<IPython.core.display.HTML object>"
      ]
     },
     "metadata": {},
     "output_type": "display_data"
    },
    {
     "data": {
      "text/markdown": [
       "\n",
       "##### Passage 47\n"
      ],
      "text/plain": [
       "<IPython.core.display.Markdown object>"
      ]
     },
     "metadata": {},
     "output_type": "display_data"
    },
    {
     "data": {
      "text/html": [
       "<div class=\"lex  hl\">\n",
       "<div class=\"h\">סתר</div>\n",
       "<div class=\"vl\"><a target=\"_blank\" href=\"https://shebanq.ancient-data.org/hebrew/word?version=c&id=1STRv\" title=\"show this lexeme in SHEBANQ\">STR</a></div>\n",
       "<div class=\"gl\">hide</div>\n",
       "\n",
       "</div>\n"
      ],
      "text/plain": [
       "<IPython.core.display.HTML object>"
      ]
     },
     "metadata": {},
     "output_type": "display_data"
    },
    {
     "data": {
      "text/markdown": [
       "\n",
       "##### Passage 48\n"
      ],
      "text/plain": [
       "<IPython.core.display.Markdown object>"
      ]
     },
     "metadata": {},
     "output_type": "display_data"
    },
    {
     "data": {
      "text/html": [
       "<div class=\"lex  hl\">\n",
       "<div class=\"h\">נכה</div>\n",
       "<div class=\"vl\"><a target=\"_blank\" href=\"https://shebanq.ancient-data.org/hebrew/word?version=c&id=1NKHv\" title=\"show this lexeme in SHEBANQ\">NKH</a></div>\n",
       "<div class=\"gl\">strike</div>\n",
       "\n",
       "</div>\n"
      ],
      "text/plain": [
       "<IPython.core.display.HTML object>"
      ]
     },
     "metadata": {},
     "output_type": "display_data"
    },
    {
     "data": {
      "text/markdown": [
       "\n",
       "##### Passage 49\n"
      ],
      "text/plain": [
       "<IPython.core.display.Markdown object>"
      ]
     },
     "metadata": {},
     "output_type": "display_data"
    },
    {
     "data": {
      "text/html": [
       "<div class=\"lex  hl\">\n",
       "<div class=\"h\">ישׁב</div>\n",
       "<div class=\"vl\"><a target=\"_blank\" href=\"https://shebanq.ancient-data.org/hebrew/word?version=c&id=1JCBv\" title=\"show this lexeme in SHEBANQ\">JCB</a></div>\n",
       "<div class=\"gl\">sit</div>\n",
       "\n",
       "</div>\n"
      ],
      "text/plain": [
       "<IPython.core.display.HTML object>"
      ]
     },
     "metadata": {},
     "output_type": "display_data"
    },
    {
     "data": {
      "text/markdown": [
       "\n",
       "##### Passage 50\n"
      ],
      "text/plain": [
       "<IPython.core.display.Markdown object>"
      ]
     },
     "metadata": {},
     "output_type": "display_data"
    },
    {
     "data": {
      "text/html": [
       "<div class=\"lex  hl\">\n",
       "<div class=\"h\">חרשׁ</div>\n",
       "<div class=\"vl\"><a target=\"_blank\" href=\"https://shebanq.ancient-data.org/hebrew/word?version=c&id=1XRCiv\" title=\"show this lexeme in SHEBANQ\">XRC</a></div>\n",
       "<div class=\"gl\">plough</div>\n",
       "\n",
       "</div>\n"
      ],
      "text/plain": [
       "<IPython.core.display.HTML object>"
      ]
     },
     "metadata": {},
     "output_type": "display_data"
    },
    {
     "data": {
      "text/markdown": [
       "\n",
       "##### Passage 51\n"
      ],
      "text/plain": [
       "<IPython.core.display.Markdown object>"
      ]
     },
     "metadata": {},
     "output_type": "display_data"
    },
    {
     "data": {
      "text/html": [
       "<div class=\"lex  hl\">\n",
       "<div class=\"h\">חלל</div>\n",
       "<div class=\"vl\"><a target=\"_blank\" href=\"https://shebanq.ancient-data.org/hebrew/word?version=c&id=1XLLv\" title=\"show this lexeme in SHEBANQ\">XLL</a></div>\n",
       "<div class=\"gl\">defile</div>\n",
       "\n",
       "</div>\n"
      ],
      "text/plain": [
       "<IPython.core.display.HTML object>"
      ]
     },
     "metadata": {},
     "output_type": "display_data"
    },
    {
     "data": {
      "text/markdown": [
       "\n",
       "##### Passage 52\n"
      ],
      "text/plain": [
       "<IPython.core.display.Markdown object>"
      ]
     },
     "metadata": {},
     "output_type": "display_data"
    },
    {
     "data": {
      "text/html": [
       "<div class=\"lex  hl\">\n",
       "<div class=\"h\">בחר</div>\n",
       "<div class=\"vl\"><a target=\"_blank\" href=\"https://shebanq.ancient-data.org/hebrew/word?version=c&id=1BXRv\" title=\"show this lexeme in SHEBANQ\">BXR</a></div>\n",
       "<div class=\"gl\">examine</div>\n",
       "\n",
       "</div>\n"
      ],
      "text/plain": [
       "<IPython.core.display.HTML object>"
      ]
     },
     "metadata": {},
     "output_type": "display_data"
    },
    {
     "data": {
      "text/markdown": [
       "\n",
       "##### Passage 53\n"
      ],
      "text/plain": [
       "<IPython.core.display.Markdown object>"
      ]
     },
     "metadata": {},
     "output_type": "display_data"
    },
    {
     "data": {
      "text/html": [
       "<div class=\"lex  hl\">\n",
       "<div class=\"h\">שׁחת</div>\n",
       "<div class=\"vl\"><a target=\"_blank\" href=\"https://shebanq.ancient-data.org/hebrew/word?version=c&id=1CXTv\" title=\"show this lexeme in SHEBANQ\">CXT</a></div>\n",
       "<div class=\"gl\">destroy</div>\n",
       "\n",
       "</div>\n"
      ],
      "text/plain": [
       "<IPython.core.display.HTML object>"
      ]
     },
     "metadata": {},
     "output_type": "display_data"
    },
    {
     "data": {
      "text/markdown": [
       "\n",
       "##### Passage 54\n"
      ],
      "text/plain": [
       "<IPython.core.display.Markdown object>"
      ]
     },
     "metadata": {},
     "output_type": "display_data"
    },
    {
     "data": {
      "text/html": [
       "<div class=\"lex  hl\">\n",
       "<div class=\"h\">גוע</div>\n",
       "<div class=\"vl\"><a target=\"_blank\" href=\"https://shebanq.ancient-data.org/hebrew/word?version=c&id=1GWOv\" title=\"show this lexeme in SHEBANQ\">GW&lt;</a></div>\n",
       "<div class=\"gl\">expire</div>\n",
       "\n",
       "</div>\n"
      ],
      "text/plain": [
       "<IPython.core.display.HTML object>"
      ]
     },
     "metadata": {},
     "output_type": "display_data"
    },
    {
     "data": {
      "text/markdown": [
       "\n",
       "##### Passage 55\n"
      ],
      "text/plain": [
       "<IPython.core.display.Markdown object>"
      ]
     },
     "metadata": {},
     "output_type": "display_data"
    },
    {
     "data": {
      "text/html": [
       "<div class=\"lex  hl\">\n",
       "<div class=\"h\">אסף</div>\n",
       "<div class=\"vl\"><a target=\"_blank\" href=\"https://shebanq.ancient-data.org/hebrew/word?version=c&id=1ASPv\" title=\"show this lexeme in SHEBANQ\">>SP</a></div>\n",
       "<div class=\"gl\">gather</div>\n",
       "\n",
       "</div>\n"
      ],
      "text/plain": [
       "<IPython.core.display.HTML object>"
      ]
     },
     "metadata": {},
     "output_type": "display_data"
    },
    {
     "data": {
      "text/markdown": [
       "\n",
       "##### Passage 56\n"
      ],
      "text/plain": [
       "<IPython.core.display.Markdown object>"
      ]
     },
     "metadata": {},
     "output_type": "display_data"
    },
    {
     "data": {
      "text/html": [
       "<div class=\"lex  hl\">\n",
       "<div class=\"h\">בקע</div>\n",
       "<div class=\"vl\"><a target=\"_blank\" href=\"https://shebanq.ancient-data.org/hebrew/word?version=c&id=1BQOv\" title=\"show this lexeme in SHEBANQ\">BQ&lt;</a></div>\n",
       "<div class=\"gl\">split</div>\n",
       "\n",
       "</div>\n"
      ],
      "text/plain": [
       "<IPython.core.display.HTML object>"
      ]
     },
     "metadata": {},
     "output_type": "display_data"
    },
    {
     "data": {
      "text/html": [
       "<div class=\"lex  hl\">\n",
       "<div class=\"h\">פתח</div>\n",
       "<div class=\"vl\"><a target=\"_blank\" href=\"https://shebanq.ancient-data.org/hebrew/word?version=c&id=1PTXv\" title=\"show this lexeme in SHEBANQ\">PTX</a></div>\n",
       "<div class=\"gl\">open</div>\n",
       "\n",
       "</div>\n"
      ],
      "text/plain": [
       "<IPython.core.display.HTML object>"
      ]
     },
     "metadata": {},
     "output_type": "display_data"
    },
    {
     "data": {
      "text/markdown": [
       "\n",
       "##### Passage 57\n"
      ],
      "text/plain": [
       "<IPython.core.display.Markdown object>"
      ]
     },
     "metadata": {},
     "output_type": "display_data"
    },
    {
     "data": {
      "text/html": [
       "<div class=\"lex  hl\">\n",
       "<div class=\"h\">רום</div>\n",
       "<div class=\"vl\"><a target=\"_blank\" href=\"https://shebanq.ancient-data.org/hebrew/word?version=c&id=1RWMv\" title=\"show this lexeme in SHEBANQ\">RWM</a></div>\n",
       "<div class=\"gl\">be high</div>\n",
       "\n",
       "</div>\n"
      ],
      "text/plain": [
       "<IPython.core.display.HTML object>"
      ]
     },
     "metadata": {},
     "output_type": "display_data"
    },
    {
     "data": {
      "text/markdown": [
       "\n",
       "##### Passage 58\n"
      ],
      "text/plain": [
       "<IPython.core.display.Markdown object>"
      ]
     },
     "metadata": {},
     "output_type": "display_data"
    },
    {
     "data": {
      "text/html": [
       "<div class=\"lex  hl\">\n",
       "<div class=\"h\">כסה</div>\n",
       "<div class=\"vl\"><a target=\"_blank\" href=\"https://shebanq.ancient-data.org/hebrew/word?version=c&id=1KSHv\" title=\"show this lexeme in SHEBANQ\">KSH</a></div>\n",
       "<div class=\"gl\">cover</div>\n",
       "\n",
       "</div>\n"
      ],
      "text/plain": [
       "<IPython.core.display.HTML object>"
      ]
     },
     "metadata": {},
     "output_type": "display_data"
    },
    {
     "data": {
      "text/markdown": [
       "\n",
       "##### Passage 59\n"
      ],
      "text/plain": [
       "<IPython.core.display.Markdown object>"
      ]
     },
     "metadata": {},
     "output_type": "display_data"
    },
    {
     "data": {
      "text/html": [
       "<div class=\"lex  hl\">\n",
       "<div class=\"h\">שׁאר</div>\n",
       "<div class=\"vl\"><a target=\"_blank\" href=\"https://shebanq.ancient-data.org/hebrew/word?version=c&id=1CARv\" title=\"show this lexeme in SHEBANQ\">C>R</a></div>\n",
       "<div class=\"gl\">remain</div>\n",
       "\n",
       "</div>\n"
      ],
      "text/plain": [
       "<IPython.core.display.HTML object>"
      ]
     },
     "metadata": {},
     "output_type": "display_data"
    },
    {
     "data": {
      "text/markdown": [
       "\n",
       "##### Passage 60\n"
      ],
      "text/plain": [
       "<IPython.core.display.Markdown object>"
      ]
     },
     "metadata": {},
     "output_type": "display_data"
    },
    {
     "data": {
      "text/html": [
       "<div class=\"lex  hl\">\n",
       "<div class=\"h\">זכר</div>\n",
       "<div class=\"vl\"><a target=\"_blank\" href=\"https://shebanq.ancient-data.org/hebrew/word?version=c&id=1ZKRv\" title=\"show this lexeme in SHEBANQ\">ZKR</a></div>\n",
       "<div class=\"gl\">remember</div>\n",
       "\n",
       "</div>\n"
      ],
      "text/plain": [
       "<IPython.core.display.HTML object>"
      ]
     },
     "metadata": {},
     "output_type": "display_data"
    },
    {
     "data": {
      "text/html": [
       "<div class=\"lex  hl\">\n",
       "<div class=\"h\">עבר</div>\n",
       "<div class=\"vl\"><a target=\"_blank\" href=\"https://shebanq.ancient-data.org/hebrew/word?version=c&id=1OBRv\" title=\"show this lexeme in SHEBANQ\">&lt;BR</a></div>\n",
       "<div class=\"gl\">pass</div>\n",
       "\n",
       "</div>\n"
      ],
      "text/plain": [
       "<IPython.core.display.HTML object>"
      ]
     },
     "metadata": {},
     "output_type": "display_data"
    },
    {
     "data": {
      "text/markdown": [
       "\n",
       "##### Passage 61\n"
      ],
      "text/plain": [
       "<IPython.core.display.Markdown object>"
      ]
     },
     "metadata": {},
     "output_type": "display_data"
    },
    {
     "data": {
      "text/html": [
       "<div class=\"lex  hl\">\n",
       "<div class=\"h\">יבשׁ</div>\n",
       "<div class=\"vl\"><a target=\"_blank\" href=\"https://shebanq.ancient-data.org/hebrew/word?version=c&id=1JBCv\" title=\"show this lexeme in SHEBANQ\">JBC</a></div>\n",
       "<div class=\"gl\">be dry</div>\n",
       "\n",
       "</div>\n"
      ],
      "text/plain": [
       "<IPython.core.display.HTML object>"
      ]
     },
     "metadata": {},
     "output_type": "display_data"
    },
    {
     "data": {
      "text/markdown": [
       "\n",
       "##### Passage 62\n"
      ],
      "text/plain": [
       "<IPython.core.display.Markdown object>"
      ]
     },
     "metadata": {},
     "output_type": "display_data"
    },
    {
     "data": {
      "text/html": [
       "<div class=\"lex  hl\">\n",
       "<div class=\"h\">קלל</div>\n",
       "<div class=\"vl\"><a target=\"_blank\" href=\"https://shebanq.ancient-data.org/hebrew/word?version=c&id=1QLLv\" title=\"show this lexeme in SHEBANQ\">QLL</a></div>\n",
       "<div class=\"gl\">be slight</div>\n",
       "\n",
       "</div>\n"
      ],
      "text/plain": [
       "<IPython.core.display.HTML object>"
      ]
     },
     "metadata": {},
     "output_type": "display_data"
    },
    {
     "data": {
      "text/markdown": [
       "\n",
       "##### Passage 63\n"
      ],
      "text/plain": [
       "<IPython.core.display.Markdown object>"
      ]
     },
     "metadata": {},
     "output_type": "display_data"
    },
    {
     "data": {
      "text/html": [
       "<div class=\"lex  hl\">\n",
       "<div class=\"h\">יחל</div>\n",
       "<div class=\"vl\"><a target=\"_blank\" href=\"https://shebanq.ancient-data.org/hebrew/word?version=c&id=1JXLv\" title=\"show this lexeme in SHEBANQ\">JXL</a></div>\n",
       "<div class=\"gl\">wait, to hope</div>\n",
       "\n",
       "</div>\n"
      ],
      "text/plain": [
       "<IPython.core.display.HTML object>"
      ]
     },
     "metadata": {},
     "output_type": "display_data"
    },
    {
     "data": {
      "text/markdown": [
       "\n",
       "##### Passage 64\n"
      ],
      "text/plain": [
       "<IPython.core.display.Markdown object>"
      ]
     },
     "metadata": {},
     "output_type": "display_data"
    },
    {
     "data": {
      "text/html": [
       "<div class=\"lex  hl\">\n",
       "<div class=\"h\">סור</div>\n",
       "<div class=\"vl\"><a target=\"_blank\" href=\"https://shebanq.ancient-data.org/hebrew/word?version=c&id=1SWRv\" title=\"show this lexeme in SHEBANQ\">SWR</a></div>\n",
       "<div class=\"gl\">turn aside</div>\n",
       "\n",
       "</div>\n"
      ],
      "text/plain": [
       "<IPython.core.display.HTML object>"
      ]
     },
     "metadata": {},
     "output_type": "display_data"
    },
    {
     "data": {
      "text/markdown": [
       "\n",
       "##### Passage 65\n"
      ],
      "text/plain": [
       "<IPython.core.display.Markdown object>"
      ]
     },
     "metadata": {},
     "output_type": "display_data"
    },
    {
     "data": {
      "text/html": [
       "<div class=\"lex  hl\">\n",
       "<div class=\"h\">דבר</div>\n",
       "<div class=\"vl\"><a target=\"_blank\" href=\"https://shebanq.ancient-data.org/hebrew/word?version=c&id=1DBRv\" title=\"show this lexeme in SHEBANQ\">DBR</a></div>\n",
       "<div class=\"gl\">speak</div>\n",
       "\n",
       "</div>\n"
      ],
      "text/plain": [
       "<IPython.core.display.HTML object>"
      ]
     },
     "metadata": {},
     "output_type": "display_data"
    },
    {
     "data": {
      "text/markdown": [
       "\n",
       "##### Passage 66\n"
      ],
      "text/plain": [
       "<IPython.core.display.Markdown object>"
      ]
     },
     "metadata": {},
     "output_type": "display_data"
    },
    {
     "data": {
      "text/html": [
       "<div class=\"lex  hl\">\n",
       "<div class=\"h\">דרשׁ</div>\n",
       "<div class=\"vl\"><a target=\"_blank\" href=\"https://shebanq.ancient-data.org/hebrew/word?version=c&id=1DRCv\" title=\"show this lexeme in SHEBANQ\">DRC</a></div>\n",
       "<div class=\"gl\">inquire</div>\n",
       "\n",
       "</div>\n"
      ],
      "text/plain": [
       "<IPython.core.display.HTML object>"
      ]
     },
     "metadata": {},
     "output_type": "display_data"
    },
    {
     "data": {
      "text/markdown": [
       "\n",
       "##### Passage 67\n"
      ],
      "text/plain": [
       "<IPython.core.display.Markdown object>"
      ]
     },
     "metadata": {},
     "output_type": "display_data"
    },
    {
     "data": {
      "text/html": [
       "<div class=\"lex  hl\">\n",
       "<div class=\"h\">שׁפך</div>\n",
       "<div class=\"vl\"><a target=\"_blank\" href=\"https://shebanq.ancient-data.org/hebrew/word?version=c&id=1CPKv\" title=\"show this lexeme in SHEBANQ\">CPK</a></div>\n",
       "<div class=\"gl\">pour</div>\n",
       "\n",
       "</div>\n"
      ],
      "text/plain": [
       "<IPython.core.display.HTML object>"
      ]
     },
     "metadata": {},
     "output_type": "display_data"
    },
    {
     "data": {
      "text/markdown": [
       "\n",
       "##### Passage 68\n"
      ],
      "text/plain": [
       "<IPython.core.display.Markdown object>"
      ]
     },
     "metadata": {},
     "output_type": "display_data"
    },
    {
     "data": {
      "text/html": [
       "<div class=\"lex  hl\">\n",
       "<div class=\"h\">כרת</div>\n",
       "<div class=\"vl\"><a target=\"_blank\" href=\"https://shebanq.ancient-data.org/hebrew/word?version=c&id=1KRTv\" title=\"show this lexeme in SHEBANQ\">KRT</a></div>\n",
       "<div class=\"gl\">cut</div>\n",
       "\n",
       "</div>\n"
      ],
      "text/plain": [
       "<IPython.core.display.HTML object>"
      ]
     },
     "metadata": {},
     "output_type": "display_data"
    },
    {
     "data": {
      "text/markdown": [
       "\n",
       "##### Passage 69\n"
      ],
      "text/plain": [
       "<IPython.core.display.Markdown object>"
      ]
     },
     "metadata": {},
     "output_type": "display_data"
    },
    {
     "data": {
      "text/html": [
       "<div class=\"lex  hl\">\n",
       "<div class=\"h\">נפץ</div>\n",
       "<div class=\"vl\"><a target=\"_blank\" href=\"https://shebanq.ancient-data.org/hebrew/word?version=c&id=1NPYv\" title=\"show this lexeme in SHEBANQ\">NPY</a></div>\n",
       "<div class=\"gl\">shatter</div>\n",
       "\n",
       "</div>\n"
      ],
      "text/plain": [
       "<IPython.core.display.HTML object>"
      ]
     },
     "metadata": {},
     "output_type": "display_data"
    },
    {
     "data": {
      "text/markdown": [
       "\n",
       "##### Passage 70\n"
      ],
      "text/plain": [
       "<IPython.core.display.Markdown object>"
      ]
     },
     "metadata": {},
     "output_type": "display_data"
    },
    {
     "data": {
      "text/html": [
       "<div class=\"lex  hl\">\n",
       "<div class=\"h\">גלה</div>\n",
       "<div class=\"vl\"><a target=\"_blank\" href=\"https://shebanq.ancient-data.org/hebrew/word?version=c&id=1GLHv\" title=\"show this lexeme in SHEBANQ\">GLH</a></div>\n",
       "<div class=\"gl\">uncover</div>\n",
       "\n",
       "</div>\n"
      ],
      "text/plain": [
       "<IPython.core.display.HTML object>"
      ]
     },
     "metadata": {},
     "output_type": "display_data"
    },
    {
     "data": {
      "text/markdown": [
       "\n",
       "##### Passage 71\n"
      ],
      "text/plain": [
       "<IPython.core.display.Markdown object>"
      ]
     },
     "metadata": {},
     "output_type": "display_data"
    },
    {
     "data": {
      "text/html": [
       "<div class=\"lex  hl\">\n",
       "<div class=\"h\">פוץ</div>\n",
       "<div class=\"vl\"><a target=\"_blank\" href=\"https://shebanq.ancient-data.org/hebrew/word?version=c&id=1PWYv\" title=\"show this lexeme in SHEBANQ\">PWY</a></div>\n",
       "<div class=\"gl\">disperse</div>\n",
       "\n",
       "</div>\n"
      ],
      "text/plain": [
       "<IPython.core.display.HTML object>"
      ]
     },
     "metadata": {},
     "output_type": "display_data"
    },
    {
     "data": {
      "text/markdown": [
       "\n",
       "##### Passage 72\n"
      ],
      "text/plain": [
       "<IPython.core.display.Markdown object>"
      ]
     },
     "metadata": {},
     "output_type": "display_data"
    },
    {
     "data": {
      "text/html": [
       "<div class=\"lex  hl\">\n",
       "<div class=\"h\">יהב</div>\n",
       "<div class=\"vl\"><a target=\"_blank\" href=\"https://shebanq.ancient-data.org/hebrew/word?version=c&id=1JHBv\" title=\"show this lexeme in SHEBANQ\">JHB</a></div>\n",
       "<div class=\"gl\">give</div>\n",
       "\n",
       "</div>\n"
      ],
      "text/plain": [
       "<IPython.core.display.HTML object>"
      ]
     },
     "metadata": {},
     "output_type": "display_data"
    },
    {
     "data": {
      "text/markdown": [
       "\n",
       "##### Passage 73\n"
      ],
      "text/plain": [
       "<IPython.core.display.Markdown object>"
      ]
     },
     "metadata": {},
     "output_type": "display_data"
    },
    {
     "data": {
      "text/html": [
       "<div class=\"lex  hl\">\n",
       "<div class=\"h\">ירד</div>\n",
       "<div class=\"vl\"><a target=\"_blank\" href=\"https://shebanq.ancient-data.org/hebrew/word?version=c&id=1JRDv\" title=\"show this lexeme in SHEBANQ\">JRD</a></div>\n",
       "<div class=\"gl\">descend</div>\n",
       "\n",
       "</div>\n"
      ],
      "text/plain": [
       "<IPython.core.display.HTML object>"
      ]
     },
     "metadata": {},
     "output_type": "display_data"
    },
    {
     "data": {
      "text/markdown": [
       "\n",
       "##### Passage 74\n"
      ],
      "text/plain": [
       "<IPython.core.display.Markdown object>"
      ]
     },
     "metadata": {},
     "output_type": "display_data"
    },
    {
     "data": {
      "text/html": [
       "<div class=\"lex  hl\">\n",
       "<div class=\"h\">חדל</div>\n",
       "<div class=\"vl\"><a target=\"_blank\" href=\"https://shebanq.ancient-data.org/hebrew/word?version=c&id=1XDLv\" title=\"show this lexeme in SHEBANQ\">XDL</a></div>\n",
       "<div class=\"gl\">cease</div>\n",
       "\n",
       "</div>\n"
      ],
      "text/plain": [
       "<IPython.core.display.HTML object>"
      ]
     },
     "metadata": {},
     "output_type": "display_data"
    },
    {
     "data": {
      "text/markdown": [
       "\n",
       "##### Passage 75\n"
      ],
      "text/plain": [
       "<IPython.core.display.Markdown object>"
      ]
     },
     "metadata": {},
     "output_type": "display_data"
    },
    {
     "data": {
      "text/html": [
       "<div class=\"lex  hl\">\n",
       "<div class=\"h\">גדל</div>\n",
       "<div class=\"vl\"><a target=\"_blank\" href=\"https://shebanq.ancient-data.org/hebrew/word?version=c&id=1GDLv\" title=\"show this lexeme in SHEBANQ\">GDL</a></div>\n",
       "<div class=\"gl\">be strong</div>\n",
       "\n",
       "</div>\n"
      ],
      "text/plain": [
       "<IPython.core.display.HTML object>"
      ]
     },
     "metadata": {},
     "output_type": "display_data"
    },
    {
     "data": {
      "text/markdown": [
       "\n",
       "##### Passage 76\n"
      ],
      "text/plain": [
       "<IPython.core.display.Markdown object>"
      ]
     },
     "metadata": {},
     "output_type": "display_data"
    },
    {
     "data": {
      "text/html": [
       "<div class=\"lex  hl\">\n",
       "<div class=\"h\">נטה</div>\n",
       "<div class=\"vl\"><a target=\"_blank\" href=\"https://shebanq.ancient-data.org/hebrew/word?version=c&id=1NVHv\" title=\"show this lexeme in SHEBANQ\">NVH</a></div>\n",
       "<div class=\"gl\">extend</div>\n",
       "\n",
       "</div>\n"
      ],
      "text/plain": [
       "<IPython.core.display.HTML object>"
      ]
     },
     "metadata": {},
     "output_type": "display_data"
    },
    {
     "data": {
      "text/markdown": [
       "\n",
       "##### Passage 77\n"
      ],
      "text/plain": [
       "<IPython.core.display.Markdown object>"
      ]
     },
     "metadata": {},
     "output_type": "display_data"
    },
    {
     "data": {
      "text/html": [
       "<div class=\"lex  hl\">\n",
       "<div class=\"h\">קרב</div>\n",
       "<div class=\"vl\"><a target=\"_blank\" href=\"https://shebanq.ancient-data.org/hebrew/word?version=c&id=1QRBv\" title=\"show this lexeme in SHEBANQ\">QRB</a></div>\n",
       "<div class=\"gl\">approach</div>\n",
       "\n",
       "</div>\n"
      ],
      "text/plain": [
       "<IPython.core.display.HTML object>"
      ]
     },
     "metadata": {},
     "output_type": "display_data"
    },
    {
     "data": {
      "text/markdown": [
       "\n",
       "##### Passage 78\n"
      ],
      "text/plain": [
       "<IPython.core.display.Markdown object>"
      ]
     },
     "metadata": {},
     "output_type": "display_data"
    },
    {
     "data": {
      "text/html": [
       "<div class=\"lex  hl\">\n",
       "<div class=\"h\">הלל</div>\n",
       "<div class=\"vl\"><a target=\"_blank\" href=\"https://shebanq.ancient-data.org/hebrew/word?version=c&id=1HLLv\" title=\"show this lexeme in SHEBANQ\">HLL</a></div>\n",
       "<div class=\"gl\">praise</div>\n",
       "\n",
       "</div>\n"
      ],
      "text/plain": [
       "<IPython.core.display.HTML object>"
      ]
     },
     "metadata": {},
     "output_type": "display_data"
    },
    {
     "data": {
      "text/markdown": [
       "\n",
       "##### Passage 79\n"
      ],
      "text/plain": [
       "<IPython.core.display.Markdown object>"
      ]
     },
     "metadata": {},
     "output_type": "display_data"
    },
    {
     "data": {
      "text/html": [
       "<div class=\"lex  hl\">\n",
       "<div class=\"h\">ערך</div>\n",
       "<div class=\"vl\"><a target=\"_blank\" href=\"https://shebanq.ancient-data.org/hebrew/word?version=c&id=1ORKv\" title=\"show this lexeme in SHEBANQ\">&lt;RK</a></div>\n",
       "<div class=\"gl\">arrange</div>\n",
       "\n",
       "</div>\n"
      ],
      "text/plain": [
       "<IPython.core.display.HTML object>"
      ]
     },
     "metadata": {},
     "output_type": "display_data"
    },
    {
     "data": {
      "text/markdown": [
       "\n",
       "##### Passage 80\n"
      ],
      "text/plain": [
       "<IPython.core.display.Markdown object>"
      ]
     },
     "metadata": {},
     "output_type": "display_data"
    },
    {
     "data": {
      "text/html": [
       "<div class=\"lex  hl\">\n",
       "<div class=\"h\">נוס</div>\n",
       "<div class=\"vl\"><a target=\"_blank\" href=\"https://shebanq.ancient-data.org/hebrew/word?version=c&id=1NWSv\" title=\"show this lexeme in SHEBANQ\">NWS</a></div>\n",
       "<div class=\"gl\">flee</div>\n",
       "\n",
       "</div>\n"
      ],
      "text/plain": [
       "<IPython.core.display.HTML object>"
      ]
     },
     "metadata": {},
     "output_type": "display_data"
    },
    {
     "data": {
      "text/markdown": [
       "\n",
       "##### Passage 81\n"
      ],
      "text/plain": [
       "<IPython.core.display.Markdown object>"
      ]
     },
     "metadata": {},
     "output_type": "display_data"
    },
    {
     "data": {
      "text/html": [
       "<div class=\"lex  hl\">\n",
       "<div class=\"h\">רדף</div>\n",
       "<div class=\"vl\"><a target=\"_blank\" href=\"https://shebanq.ancient-data.org/hebrew/word?version=c&id=1RDPv\" title=\"show this lexeme in SHEBANQ\">RDP</a></div>\n",
       "<div class=\"gl\">pursue</div>\n",
       "\n",
       "</div>\n"
      ],
      "text/plain": [
       "<IPython.core.display.HTML object>"
      ]
     },
     "metadata": {},
     "output_type": "display_data"
    },
    {
     "data": {
      "text/markdown": [
       "\n",
       "##### Passage 82\n"
      ],
      "text/plain": [
       "<IPython.core.display.Markdown object>"
      ]
     },
     "metadata": {},
     "output_type": "display_data"
    },
    {
     "data": {
      "text/html": [
       "<div class=\"lex  hl\">\n",
       "<div class=\"h\">חלק</div>\n",
       "<div class=\"vl\"><a target=\"_blank\" href=\"https://shebanq.ancient-data.org/hebrew/word?version=c&id=1XLQv\" title=\"show this lexeme in SHEBANQ\">XLQ</a></div>\n",
       "<div class=\"gl\">divide</div>\n",
       "\n",
       "</div>\n"
      ],
      "text/plain": [
       "<IPython.core.display.HTML object>"
      ]
     },
     "metadata": {},
     "output_type": "display_data"
    },
    {
     "data": {
      "text/markdown": [
       "\n",
       "##### Passage 83\n"
      ],
      "text/plain": [
       "<IPython.core.display.Markdown object>"
      ]
     },
     "metadata": {},
     "output_type": "display_data"
    },
    {
     "data": {
      "text/html": [
       "<div class=\"lex  hl\">\n",
       "<div class=\"h\">ירשׁ</div>\n",
       "<div class=\"vl\"><a target=\"_blank\" href=\"https://shebanq.ancient-data.org/hebrew/word?version=c&id=1JRCv\" title=\"show this lexeme in SHEBANQ\">JRC</a></div>\n",
       "<div class=\"gl\">trample down</div>\n",
       "\n",
       "</div>\n"
      ],
      "text/plain": [
       "<IPython.core.display.HTML object>"
      ]
     },
     "metadata": {},
     "output_type": "display_data"
    },
    {
     "data": {
      "text/markdown": [
       "\n",
       "##### Passage 84\n"
      ],
      "text/plain": [
       "<IPython.core.display.Markdown object>"
      ]
     },
     "metadata": {},
     "output_type": "display_data"
    },
    {
     "data": {
      "text/html": [
       "<div class=\"lex  hl\">\n",
       "<div class=\"h\">נבט</div>\n",
       "<div class=\"vl\"><a target=\"_blank\" href=\"https://shebanq.ancient-data.org/hebrew/word?version=c&id=1NBVv\" title=\"show this lexeme in SHEBANQ\">NBV</a></div>\n",
       "<div class=\"gl\">look at</div>\n",
       "\n",
       "</div>\n"
      ],
      "text/plain": [
       "<IPython.core.display.HTML object>"
      ]
     },
     "metadata": {},
     "output_type": "display_data"
    },
    {
     "data": {
      "text/html": [
       "<div class=\"lex  hl\">\n",
       "<div class=\"h\">ספר</div>\n",
       "<div class=\"vl\"><a target=\"_blank\" href=\"https://shebanq.ancient-data.org/hebrew/word?version=c&id=1SPRv\" title=\"show this lexeme in SHEBANQ\">SPR</a></div>\n",
       "<div class=\"gl\">count</div>\n",
       "\n",
       "</div>\n"
      ],
      "text/plain": [
       "<IPython.core.display.HTML object>"
      ]
     },
     "metadata": {},
     "output_type": "display_data"
    },
    {
     "data": {
      "text/markdown": [
       "\n",
       "##### Passage 85\n"
      ],
      "text/plain": [
       "<IPython.core.display.Markdown object>"
      ]
     },
     "metadata": {},
     "output_type": "display_data"
    },
    {
     "data": {
      "text/html": [
       "<div class=\"lex  hl\">\n",
       "<div class=\"h\">אמן</div>\n",
       "<div class=\"vl\"><a target=\"_blank\" href=\"https://shebanq.ancient-data.org/hebrew/word?version=c&id=1AMNv\" title=\"show this lexeme in SHEBANQ\">>MN</a></div>\n",
       "<div class=\"gl\">be firm</div>\n",
       "\n",
       "</div>\n"
      ],
      "text/plain": [
       "<IPython.core.display.HTML object>"
      ]
     },
     "metadata": {},
     "output_type": "display_data"
    },
    {
     "data": {
      "text/html": [
       "<div class=\"lex  hl\">\n",
       "<div class=\"h\">חשׁב</div>\n",
       "<div class=\"vl\"><a target=\"_blank\" href=\"https://shebanq.ancient-data.org/hebrew/word?version=c&id=1XCBv\" title=\"show this lexeme in SHEBANQ\">XCB</a></div>\n",
       "<div class=\"gl\">account</div>\n",
       "\n",
       "</div>\n"
      ],
      "text/plain": [
       "<IPython.core.display.HTML object>"
      ]
     },
     "metadata": {},
     "output_type": "display_data"
    },
    {
     "data": {
      "text/markdown": [
       "\n",
       "##### Passage 86\n"
      ],
      "text/plain": [
       "<IPython.core.display.Markdown object>"
      ]
     },
     "metadata": {},
     "output_type": "display_data"
    },
    {
     "data": {
      "text/html": [
       "<div class=\"lex  hl\">\n",
       "<div class=\"h\">קבר</div>\n",
       "<div class=\"vl\"><a target=\"_blank\" href=\"https://shebanq.ancient-data.org/hebrew/word?version=c&id=1QBRv\" title=\"show this lexeme in SHEBANQ\">QBR</a></div>\n",
       "<div class=\"gl\">bury</div>\n",
       "\n",
       "</div>\n"
      ],
      "text/plain": [
       "<IPython.core.display.HTML object>"
      ]
     },
     "metadata": {},
     "output_type": "display_data"
    },
    {
     "data": {
      "text/markdown": [
       "\n",
       "##### Passage 87\n"
      ],
      "text/plain": [
       "<IPython.core.display.Markdown object>"
      ]
     },
     "metadata": {},
     "output_type": "display_data"
    },
    {
     "data": {
      "text/html": [
       "<div class=\"lex  hl\">\n",
       "<div class=\"h\">עצר</div>\n",
       "<div class=\"vl\"><a target=\"_blank\" href=\"https://shebanq.ancient-data.org/hebrew/word?version=c&id=1OYRv\" title=\"show this lexeme in SHEBANQ\">&lt;YR</a></div>\n",
       "<div class=\"gl\">restrain</div>\n",
       "\n",
       "</div>\n"
      ],
      "text/plain": [
       "<IPython.core.display.HTML object>"
      ]
     },
     "metadata": {},
     "output_type": "display_data"
    },
    {
     "data": {
      "text/markdown": [
       "\n",
       "##### Passage 88\n"
      ],
      "text/plain": [
       "<IPython.core.display.Markdown object>"
      ]
     },
     "metadata": {},
     "output_type": "display_data"
    },
    {
     "data": {
      "text/html": [
       "<div class=\"lex  hl\">\n",
       "<div class=\"h\">שׁפט</div>\n",
       "<div class=\"vl\"><a target=\"_blank\" href=\"https://shebanq.ancient-data.org/hebrew/word?version=c&id=1CPVv\" title=\"show this lexeme in SHEBANQ\">CPV</a></div>\n",
       "<div class=\"gl\">judge</div>\n",
       "\n",
       "</div>\n"
      ],
      "text/plain": [
       "<IPython.core.display.HTML object>"
      ]
     },
     "metadata": {},
     "output_type": "display_data"
    },
    {
     "data": {
      "text/markdown": [
       "\n",
       "##### Passage 89\n"
      ],
      "text/plain": [
       "<IPython.core.display.Markdown object>"
      ]
     },
     "metadata": {},
     "output_type": "display_data"
    },
    {
     "data": {
      "text/html": [
       "<div class=\"lex  hl\">\n",
       "<div class=\"h\">ברח</div>\n",
       "<div class=\"vl\"><a target=\"_blank\" href=\"https://shebanq.ancient-data.org/hebrew/word?version=c&id=1BRXv\" title=\"show this lexeme in SHEBANQ\">BRX</a></div>\n",
       "<div class=\"gl\">run away</div>\n",
       "\n",
       "</div>\n"
      ],
      "text/plain": [
       "<IPython.core.display.HTML object>"
      ]
     },
     "metadata": {},
     "output_type": "display_data"
    },
    {
     "data": {
      "text/markdown": [
       "\n",
       "##### Passage 90\n"
      ],
      "text/plain": [
       "<IPython.core.display.Markdown object>"
      ]
     },
     "metadata": {},
     "output_type": "display_data"
    },
    {
     "data": {
      "text/html": [
       "<div class=\"lex  hl\">\n",
       "<div class=\"h\">פרר</div>\n",
       "<div class=\"vl\"><a target=\"_blank\" href=\"https://shebanq.ancient-data.org/hebrew/word?version=c&id=1PRRv\" title=\"show this lexeme in SHEBANQ\">PRR</a></div>\n",
       "<div class=\"gl\">break</div>\n",
       "\n",
       "</div>\n"
      ],
      "text/plain": [
       "<IPython.core.display.HTML object>"
      ]
     },
     "metadata": {},
     "output_type": "display_data"
    },
    {
     "data": {
      "text/markdown": [
       "\n",
       "##### Passage 91\n"
      ],
      "text/plain": [
       "<IPython.core.display.Markdown object>"
      ]
     },
     "metadata": {},
     "output_type": "display_data"
    },
    {
     "data": {
      "text/html": [
       "<div class=\"lex  hl\">\n",
       "<div class=\"h\">חוה</div>\n",
       "<div class=\"vl\"><a target=\"_blank\" href=\"https://shebanq.ancient-data.org/hebrew/word?version=c&id=1XWHv\" title=\"show this lexeme in SHEBANQ\">XWH</a></div>\n",
       "<div class=\"gl\">bow down</div>\n",
       "\n",
       "</div>\n"
      ],
      "text/plain": [
       "<IPython.core.display.HTML object>"
      ]
     },
     "metadata": {},
     "output_type": "display_data"
    },
    {
     "data": {
      "text/markdown": [
       "\n",
       "##### Passage 92\n"
      ],
      "text/plain": [
       "<IPython.core.display.Markdown object>"
      ]
     },
     "metadata": {},
     "output_type": "display_data"
    },
    {
     "data": {
      "text/html": [
       "<div class=\"lex  hl\">\n",
       "<div class=\"h\">סעד</div>\n",
       "<div class=\"vl\"><a target=\"_blank\" href=\"https://shebanq.ancient-data.org/hebrew/word?version=c&id=1SODv\" title=\"show this lexeme in SHEBANQ\">S&lt;D</a></div>\n",
       "<div class=\"gl\">support</div>\n",
       "\n",
       "</div>\n"
      ],
      "text/plain": [
       "<IPython.core.display.HTML object>"
      ]
     },
     "metadata": {},
     "output_type": "display_data"
    },
    {
     "data": {
      "text/markdown": [
       "\n",
       "##### Passage 93\n"
      ],
      "text/plain": [
       "<IPython.core.display.Markdown object>"
      ]
     },
     "metadata": {},
     "output_type": "display_data"
    },
    {
     "data": {
      "text/html": [
       "<div class=\"lex  hl\">\n",
       "<div class=\"h\">מהר</div>\n",
       "<div class=\"vl\"><a target=\"_blank\" href=\"https://shebanq.ancient-data.org/hebrew/word?version=c&id=1MHRv\" title=\"show this lexeme in SHEBANQ\">MHR</a></div>\n",
       "<div class=\"gl\">hasten</div>\n",
       "\n",
       "</div>\n"
      ],
      "text/plain": [
       "<IPython.core.display.HTML object>"
      ]
     },
     "metadata": {},
     "output_type": "display_data"
    },
    {
     "data": {
      "text/markdown": [
       "\n",
       "##### Passage 94\n"
      ],
      "text/plain": [
       "<IPython.core.display.Markdown object>"
      ]
     },
     "metadata": {},
     "output_type": "display_data"
    },
    {
     "data": {
      "text/html": [
       "<div class=\"lex  hl\">\n",
       "<div class=\"h\">עמד</div>\n",
       "<div class=\"vl\"><a target=\"_blank\" href=\"https://shebanq.ancient-data.org/hebrew/word?version=c&id=1OMDv\" title=\"show this lexeme in SHEBANQ\">&lt;MD</a></div>\n",
       "<div class=\"gl\">stand</div>\n",
       "\n",
       "</div>\n"
      ],
      "text/plain": [
       "<IPython.core.display.HTML object>"
      ]
     },
     "metadata": {},
     "output_type": "display_data"
    },
    {
     "data": {
      "text/markdown": [
       "\n",
       "##### Passage 95\n"
      ],
      "text/plain": [
       "<IPython.core.display.Markdown object>"
      ]
     },
     "metadata": {},
     "output_type": "display_data"
    },
    {
     "data": {
      "text/html": [
       "<div class=\"lex  hl\">\n",
       "<div class=\"h\">כחשׁ</div>\n",
       "<div class=\"vl\"><a target=\"_blank\" href=\"https://shebanq.ancient-data.org/hebrew/word?version=c&id=1KXCv\" title=\"show this lexeme in SHEBANQ\">KXC</a></div>\n",
       "<div class=\"gl\">grow lean</div>\n",
       "\n",
       "</div>\n"
      ],
      "text/plain": [
       "<IPython.core.display.HTML object>"
      ]
     },
     "metadata": {},
     "output_type": "display_data"
    },
    {
     "data": {
      "text/markdown": [
       "\n",
       "##### Passage 96\n"
      ],
      "text/plain": [
       "<IPython.core.display.Markdown object>"
      ]
     },
     "metadata": {},
     "output_type": "display_data"
    },
    {
     "data": {
      "text/html": [
       "<div class=\"lex  hl\">\n",
       "<div class=\"h\">פנה</div>\n",
       "<div class=\"vl\"><a target=\"_blank\" href=\"https://shebanq.ancient-data.org/hebrew/word?version=c&id=1PNHv\" title=\"show this lexeme in SHEBANQ\">PNH</a></div>\n",
       "<div class=\"gl\">turn</div>\n",
       "\n",
       "</div>\n"
      ],
      "text/plain": [
       "<IPython.core.display.HTML object>"
      ]
     },
     "metadata": {},
     "output_type": "display_data"
    },
    {
     "data": {
      "text/markdown": [
       "\n",
       "##### Passage 97\n"
      ],
      "text/plain": [
       "<IPython.core.display.Markdown object>"
      ]
     },
     "metadata": {},
     "output_type": "display_data"
    },
    {
     "data": {
      "text/html": [
       "<div class=\"lex  hl\">\n",
       "<div class=\"h\">לין</div>\n",
       "<div class=\"vl\"><a target=\"_blank\" href=\"https://shebanq.ancient-data.org/hebrew/word?version=c&id=1LJNv\" title=\"show this lexeme in SHEBANQ\">LJN</a></div>\n",
       "<div class=\"gl\">lodge</div>\n",
       "\n",
       "</div>\n"
      ],
      "text/plain": [
       "<IPython.core.display.HTML object>"
      ]
     },
     "metadata": {},
     "output_type": "display_data"
    },
    {
     "data": {
      "text/markdown": [
       "\n",
       "##### Passage 98\n"
      ],
      "text/plain": [
       "<IPython.core.display.Markdown object>"
      ]
     },
     "metadata": {},
     "output_type": "display_data"
    },
    {
     "data": {
      "text/html": [
       "<div class=\"lex  hl\">\n",
       "<div class=\"h\">שׁכב</div>\n",
       "<div class=\"vl\"><a target=\"_blank\" href=\"https://shebanq.ancient-data.org/hebrew/word?version=c&id=1CKBv\" title=\"show this lexeme in SHEBANQ\">CKB</a></div>\n",
       "<div class=\"gl\">lie down</div>\n",
       "\n",
       "</div>\n"
      ],
      "text/plain": [
       "<IPython.core.display.HTML object>"
      ]
     },
     "metadata": {},
     "output_type": "display_data"
    },
    {
     "data": {
      "text/markdown": [
       "\n",
       "##### Passage 99\n"
      ],
      "text/plain": [
       "<IPython.core.display.Markdown object>"
      ]
     },
     "metadata": {},
     "output_type": "display_data"
    },
    {
     "data": {
      "text/html": [
       "<div class=\"lex  hl\">\n",
       "<div class=\"h\">שׁבר</div>\n",
       "<div class=\"vl\"><a target=\"_blank\" href=\"https://shebanq.ancient-data.org/hebrew/word?version=c&id=1CBRv\" title=\"show this lexeme in SHEBANQ\">CBR</a></div>\n",
       "<div class=\"gl\">break</div>\n",
       "\n",
       "</div>\n"
      ],
      "text/plain": [
       "<IPython.core.display.HTML object>"
      ]
     },
     "metadata": {},
     "output_type": "display_data"
    },
    {
     "data": {
      "text/markdown": [
       "\n",
       "##### Passage 100\n"
      ],
      "text/plain": [
       "<IPython.core.display.Markdown object>"
      ]
     },
     "metadata": {},
     "output_type": "display_data"
    },
    {
     "data": {
      "text/html": [
       "<div class=\"lex  hl\">\n",
       "<div class=\"h\">חזק</div>\n",
       "<div class=\"vl\"><a target=\"_blank\" href=\"https://shebanq.ancient-data.org/hebrew/word?version=c&id=1XZQv\" title=\"show this lexeme in SHEBANQ\">XZQ</a></div>\n",
       "<div class=\"gl\">be strong</div>\n",
       "\n",
       "</div>\n"
      ],
      "text/plain": [
       "<IPython.core.display.HTML object>"
      ]
     },
     "metadata": {},
     "output_type": "display_data"
    },
    {
     "data": {
      "text/markdown": [
       "**120 more results skipped** because we show a maximum of 100 results at a time"
      ],
      "text/plain": [
       "<IPython.core.display.Markdown object>"
      ]
     },
     "metadata": {},
     "output_type": "display_data"
    }
   ],
   "source": [
    "plain_lexs = set(lex.split('.')[0] for lex in specimens)\n",
    "lex_nodes = [(next(l for l in F.otype.s('lex') if F.lex.v(l) == lex),) for lex in plain_lexs]\n",
    "\n",
    "print(f'Number of plain lexemes accounted for: {len(plain_lexs)}\\n')\n",
    "B.show(lex_nodes)"
   ]
  },
  {
   "cell_type": "markdown",
   "metadata": {},
   "source": [
    "We have a good and diverse dataset here. Let's see what the makeup of stems are."
   ]
  },
  {
   "cell_type": "markdown",
   "metadata": {},
   "source": [
    "### Stem Counts"
   ]
  },
  {
   "cell_type": "code",
   "execution_count": 7,
   "metadata": {},
   "outputs": [
    {
     "data": {
      "text/plain": [
       "[('qal', 167),\n",
       " ('hif', 59),\n",
       " ('piel', 41),\n",
       " ('nif', 24),\n",
       " ('hit', 4),\n",
       " ('hsht', 1),\n",
       " ('hof', 1)]"
      ]
     },
     "execution_count": 7,
     "metadata": {},
     "output_type": "execute_result"
    }
   ],
   "source": [
    "stem_counts = collections.Counter(lex.split('.')[1] for lex in specimens)\n",
    "\n",
    "stem_counts.most_common()"
   ]
  },
  {
   "cell_type": "markdown",
   "metadata": {},
   "source": [
    "## Coverage of Specimens throughout the Experiments\n",
    "\n",
    "There are 297 verb specimens present with 243 plain lexical forms. Note that many of the experiments have different numbers of specimens present, due to the various requirements per experiment. We intend to use as much data as is present to inform the verb clustering. But are there some verbs whose coverage throughout all 50 experiments is especially lacking?\n",
    "\n",
    "Below we count per lexeme how many different experiments it occurs in. The number itself is then counted."
   ]
  },
  {
   "cell_type": "code",
   "execution_count": 8,
   "metadata": {},
   "outputs": [
    {
     "data": {
      "text/plain": [
       "[(50, 26),\n",
       " (48, 14),\n",
       " (17, 14),\n",
       " (44, 13),\n",
       " (25, 13),\n",
       " (18, 13),\n",
       " (19, 12),\n",
       " (41, 12),\n",
       " (40, 11),\n",
       " (21, 11),\n",
       " (42, 10),\n",
       " (49, 10),\n",
       " (32, 10),\n",
       " (29, 9),\n",
       " (34, 8),\n",
       " (23, 8),\n",
       " (37, 8),\n",
       " (39, 8),\n",
       " (22, 7),\n",
       " (36, 7),\n",
       " (46, 7),\n",
       " (33, 7),\n",
       " (30, 6),\n",
       " (31, 6),\n",
       " (24, 6),\n",
       " (27, 5),\n",
       " (26, 5),\n",
       " (43, 5),\n",
       " (47, 5),\n",
       " (45, 4),\n",
       " (38, 4),\n",
       " (20, 4),\n",
       " (35, 3),\n",
       " (15, 2),\n",
       " (28, 2),\n",
       " (16, 2)]"
      ]
     },
     "execution_count": 8,
     "metadata": {},
     "output_type": "execute_result"
    }
   ],
   "source": [
    "spread_count = collections.Counter()\n",
    "accounted_exps = set()\n",
    "\n",
    "for lex in specimens:\n",
    "    count = 0\n",
    "    for exp_name, exp in experiments.items():\n",
    "        if lex in exp.data.columns:\n",
    "            count += 1\n",
    "            accounted_exps.add(exp_name)\n",
    "    spread_count[count] += 1\n",
    "    \n",
    "spread_count.most_common()"
   ]
  },
  {
   "cell_type": "markdown",
   "metadata": {},
   "source": [
    "What is the lowest accounted-for lexemes and how many of them are there?"
   ]
  },
  {
   "cell_type": "code",
   "execution_count": 9,
   "metadata": {},
   "outputs": [
    {
     "data": {
      "text/plain": [
       "(15, 2)"
      ]
     },
     "execution_count": 9,
     "metadata": {},
     "output_type": "execute_result"
    }
   ],
   "source": [
    "min(spread_count.most_common())"
   ]
  },
  {
   "cell_type": "code",
   "execution_count": 10,
   "metadata": {},
   "outputs": [
    {
     "data": {
      "text/plain": [
       "43"
      ]
     },
     "execution_count": 10,
     "metadata": {},
     "output_type": "execute_result"
    }
   ],
   "source": [
    "sum([amount for count, amount in spread_count.most_common() if count<20])"
   ]
  },
  {
   "cell_type": "code",
   "execution_count": 11,
   "metadata": {},
   "outputs": [
    {
     "data": {
      "text/plain": [
       "0.1447811447811448"
      ]
     },
     "execution_count": 11,
     "metadata": {},
     "output_type": "execute_result"
    }
   ],
   "source": [
    "43/297 # ratio of total specimens within 20 or less experiments"
   ]
  },
  {
   "cell_type": "markdown",
   "metadata": {},
   "source": [
    "Only 2 lexemes are accounted for in only 15 of the experiments. 43 of the 297 verb specimens (14%) have less than 20 applicable experiments. These are acceptable amounts. Verbs that do not have an attested object, for instance, will not appear in 3 of 4 object experiments. But they *will* occur in the presence/absence object experiment. So it can be expected that certain verbs will be less accounted-for in various experiments."
   ]
  },
  {
   "cell_type": "markdown",
   "metadata": {},
   "source": [
    "## First Similarity Analysis\n",
    "\n",
    "For each specimen, calculate its similarity with all other specimens pairwise based on all experiments which they have in common. The similarity scores will be averaged across all of the shared experiments. All raw counts have been adjusted using the pointwise mutual information (pmi) score. "
   ]
  },
  {
   "cell_type": "code",
   "execution_count": 20,
   "metadata": {},
   "outputs": [],
   "source": [
    "sim_matrix = pd.DataFrame(np.zeros(shape=(len(specimens), len(specimens))), columns=specimens, index=specimens) # for pairwise similarities\n",
    "common_matrix = pd.DataFrame(np.zeros(shape=(len(specimens), len(specimens))), columns=specimens, index=specimens) # for counting number of common experiments\n",
    "\n",
    "for lex in specimens:\n",
    "    for space_name, space in spaces.items():\n",
    "        \n",
    "        if lex not in space.sim_pmi_nogloss.columns:\n",
    "            continue\n",
    "        \n",
    "        sim_matrix[lex] = sim_matrix[lex].add(space.sim_pmi_nogloss[lex], fill_value=0)\n",
    "        common_matrix[lex] += 1\n",
    "        \n",
    "sim = sim_matrix / common_matrix"
   ]
  },
  {
   "cell_type": "code",
   "execution_count": 61,
   "metadata": {},
   "outputs": [
    {
     "data": {
      "text/plain": [
       "['RWM[.hif',\n",
       " 'FXQ[.qal',\n",
       " 'XJH[.piel',\n",
       " '<BR[.hif',\n",
       " '>HB[.qal',\n",
       " 'QN>[.piel',\n",
       " 'PLL[.hit',\n",
       " 'JRH[.hif',\n",
       " 'JRD[.qal',\n",
       " 'YDQ[.qal',\n",
       " '>RB[.qal',\n",
       " 'FMX[.qal',\n",
       " 'XZQ[.hif',\n",
       " 'XCK[.qal',\n",
       " 'NWX[.qal',\n",
       " 'FKL[.hif',\n",
       " 'FXQ[.piel',\n",
       " 'PRX[.qal',\n",
       " 'XLL[.piel',\n",
       " 'JD<[.hif',\n",
       " 'BWC[.qal',\n",
       " 'BQ<[.qal',\n",
       " 'HLK[.hit',\n",
       " 'CLX[.qal',\n",
       " 'SWR[.qal',\n",
       " 'MWT[.qal',\n",
       " 'JYT[.hif',\n",
       " 'R>H[.qal',\n",
       " 'ZKR[.qal',\n",
       " 'MY>[.qal',\n",
       " 'XKM[.qal',\n",
       " 'XLP[.qal',\n",
       " 'LQX[.qal',\n",
       " 'NF>[.qal',\n",
       " 'XMD[.qal',\n",
       " 'YWH[.piel',\n",
       " 'FMX[.piel',\n",
       " 'XWS[.qal',\n",
       " 'NG<[.qal',\n",
       " 'GDL[.piel',\n",
       " 'XPY[.qal',\n",
       " 'QDM[.piel',\n",
       " 'GWR==[.qal',\n",
       " 'HLK[.piel',\n",
       " 'CQL[.qal',\n",
       " '>BH[.qal',\n",
       " 'CNH[.qal',\n",
       " 'MLV[.piel',\n",
       " 'GDL[.hif',\n",
       " '<YR[.qal',\n",
       " 'JD<[.qal',\n",
       " 'LMD[.piel',\n",
       " 'RBH[.hif',\n",
       " 'BNH[.qal',\n",
       " 'SBB[.qal',\n",
       " 'DRK[.hif',\n",
       " 'XDL[.qal',\n",
       " 'CGH[.qal',\n",
       " 'STR[.hif',\n",
       " 'SGR[.qal',\n",
       " 'YRR[.qal',\n",
       " 'CWB[.qal',\n",
       " 'JHB[.qal',\n",
       " 'NYR[.qal',\n",
       " 'JY>[.qal',\n",
       " 'GJL[.qal',\n",
       " 'HDP[.qal',\n",
       " 'JBC[.hif',\n",
       " 'NFG[.hif',\n",
       " 'JRD[.hif',\n",
       " '>WR[.hif',\n",
       " 'XRC=[.qal',\n",
       " 'BJN[.qal',\n",
       " 'PYH[.qal',\n",
       " 'BQ<[.nif',\n",
       " 'RJB[.qal',\n",
       " 'DBQ[.qal',\n",
       " 'CM<[.qal',\n",
       " 'XZH[.qal',\n",
       " 'BGD[.qal',\n",
       " 'KWN[.nif',\n",
       " '>KL[.qal',\n",
       " 'QLL[.piel',\n",
       " 'CLX[.piel',\n",
       " 'JY>[.hif',\n",
       " '<FH[.qal',\n",
       " 'SPR[.piel',\n",
       " 'KXC[.piel',\n",
       " 'PLV[.piel',\n",
       " 'KRT[.hif',\n",
       " 'GLH[.piel',\n",
       " 'QYR=[.qal',\n",
       " '<MD[.qal',\n",
       " 'Y<Q[.qal',\n",
       " 'XPR=[.qal',\n",
       " 'BRX[.qal',\n",
       " 'XLH[.piel',\n",
       " 'DMH[.qal',\n",
       " 'MHR[.piel',\n",
       " 'YMX[.hif',\n",
       " 'HRG[.qal',\n",
       " 'PQD[.qal',\n",
       " '>TH[.qal',\n",
       " 'BZH[.qal',\n",
       " 'KN<[.hif',\n",
       " 'MLK[.qal',\n",
       " 'TWR[.qal',\n",
       " 'KLH[.qal',\n",
       " 'MRH[.hif',\n",
       " 'R<H[.qal',\n",
       " 'FJX[.qal',\n",
       " 'PTX[.qal',\n",
       " 'CMD[.nif',\n",
       " 'JDH[.hif',\n",
       " 'P<L[.qal',\n",
       " 'ML>[.qal',\n",
       " 'NPL[.hif',\n",
       " 'QR>[.qal',\n",
       " 'RXB[.hif',\n",
       " 'NQH[.nif',\n",
       " 'VBL[.qal',\n",
       " 'JKX[.hif',\n",
       " 'PQD[.hif',\n",
       " '<ZB[.qal',\n",
       " 'XV>[.qal',\n",
       " 'KWN[.hif',\n",
       " 'XZQ[.piel',\n",
       " 'YPN[.qal',\n",
       " 'BW>[.qal',\n",
       " 'XLQ[.piel',\n",
       " 'DK>[.piel',\n",
       " 'NTQ[.piel',\n",
       " 'NVH[.hif',\n",
       " 'KRT[.qal',\n",
       " 'CKB[.qal',\n",
       " 'KR<[.qal',\n",
       " 'C>G[.qal',\n",
       " 'NWS[.qal',\n",
       " 'BXN[.qal',\n",
       " 'NPL[.qal',\n",
       " 'KRT[.nif',\n",
       " 'HJH[.qal',\n",
       " 'GW<[.qal',\n",
       " 'MKR[.qal',\n",
       " 'PQX[.qal',\n",
       " 'LMD[.qal',\n",
       " 'XFK[.qal',\n",
       " 'QBR[.nif',\n",
       " 'QRB[.qal',\n",
       " 'YMX[.qal',\n",
       " 'S<D[.qal',\n",
       " 'BVX[.qal',\n",
       " 'CMM[.qal',\n",
       " 'DBR[.piel',\n",
       " 'NXH[.hif',\n",
       " 'ZNX[.qal',\n",
       " 'SWR[.hif',\n",
       " 'C>L[.qal',\n",
       " 'HLL[.piel',\n",
       " 'KCL[.qal',\n",
       " 'CXT[.hif',\n",
       " 'HPK[.nif',\n",
       " 'HLK[.qal',\n",
       " 'XCB[.nif',\n",
       " 'FJM[.qal',\n",
       " 'QNH[.qal',\n",
       " 'CJT[.qal',\n",
       " 'NSK[.hif',\n",
       " 'JLD[.nif',\n",
       " 'NTN[.nif',\n",
       " '<RB[.qal',\n",
       " '<RY[.qal',\n",
       " 'JRC[.qal',\n",
       " 'JXL[.piel',\n",
       " 'HGH[.qal',\n",
       " '<CQ[.qal',\n",
       " 'TMK[.qal',\n",
       " 'C<H[.qal',\n",
       " 'FN>[.qal',\n",
       " 'GRC[.piel',\n",
       " 'MWV[.nif',\n",
       " 'KSH[.piel',\n",
       " 'R>H[.hif',\n",
       " 'FB<[.hif',\n",
       " 'DRK[.qal',\n",
       " 'C>R[.hif',\n",
       " 'TQ<[.qal',\n",
       " 'RPH[.qal',\n",
       " 'XJL[.qal',\n",
       " '<BD[.qal',\n",
       " 'GML[.qal',\n",
       " 'NVH[.qal',\n",
       " '<RK[.qal',\n",
       " 'CMM[.nif',\n",
       " 'CPV[.qal',\n",
       " '>MR[.qal',\n",
       " 'NBL[.qal',\n",
       " 'NTN[.qal',\n",
       " '<LZ[.qal',\n",
       " 'SGR[.hif',\n",
       " 'JC<[.hif',\n",
       " 'BQC[.piel',\n",
       " 'XCB[.qal',\n",
       " 'MN<[.qal',\n",
       " 'KLH[.piel',\n",
       " 'RDP[.qal',\n",
       " 'NDD[.qal',\n",
       " 'CQH[.hif',\n",
       " 'XB>[.nif',\n",
       " 'QR>[.nif',\n",
       " 'XWH[.hsht',\n",
       " 'ML>[.piel',\n",
       " 'BW>[.hif',\n",
       " 'PRF[.qal',\n",
       " 'JR>[.qal',\n",
       " 'GLH[.nif',\n",
       " 'BJN[.hif',\n",
       " 'ZBX[.qal',\n",
       " 'JCB[.qal',\n",
       " 'J<Y[.qal',\n",
       " 'J<L[.hif',\n",
       " 'VMN[.qal',\n",
       " 'CLK[.hif',\n",
       " 'NTQ[.nif',\n",
       " '>XZ[.qal',\n",
       " 'ZMR[.piel',\n",
       " 'LJN[.qal',\n",
       " 'NPY[.piel',\n",
       " 'PRR[.hif',\n",
       " 'XCB[.piel',\n",
       " 'CM<[.nif',\n",
       " 'PWY[.hif',\n",
       " 'QWM[.qal',\n",
       " 'NGD[.hif',\n",
       " 'JBL[.hof',\n",
       " 'NXL[.qal',\n",
       " 'RXQ[.hif',\n",
       " 'BL<[.piel',\n",
       " 'RC<[.hif',\n",
       " 'ML>[.nif',\n",
       " 'CVP[.qal',\n",
       " 'GLH[.qal',\n",
       " 'DRC[.qal',\n",
       " 'MCK[.qal',\n",
       " 'KTB[.nif',\n",
       " 'CBT[.hif',\n",
       " 'PNH[.qal',\n",
       " 'JSR[.piel',\n",
       " 'XJH[.qal',\n",
       " 'CKN[.qal',\n",
       " '>MY[.piel',\n",
       " 'JBC[.qal',\n",
       " 'JYB[.hit',\n",
       " 'BXR[.qal',\n",
       " 'NC>=[.hif',\n",
       " 'SPR[.qal',\n",
       " 'KTB[.qal',\n",
       " 'BNH[.nif',\n",
       " 'CJR[.qal',\n",
       " 'PDH[.qal',\n",
       " 'NB<[.hif',\n",
       " 'CKX[.qal',\n",
       " '>MN[.hif',\n",
       " 'PRY[.qal',\n",
       " '>SP[.qal',\n",
       " 'HLL[.hit',\n",
       " '>BD[.piel',\n",
       " 'CPL[.hif',\n",
       " 'RWM[.qal',\n",
       " '>BD[.qal',\n",
       " '<LH[.qal',\n",
       " 'NTC[.qal',\n",
       " 'FB<[.qal',\n",
       " 'JVB[.hif',\n",
       " 'XRP[.piel',\n",
       " '<BR[.qal',\n",
       " 'BRK[.piel',\n",
       " 'CWB[.hif',\n",
       " 'CKX[.nif',\n",
       " 'JSD[.qal',\n",
       " 'CBR[.nif',\n",
       " 'CMR[.qal',\n",
       " 'LKD[.qal',\n",
       " 'NBV[.hif',\n",
       " 'PCV[.hif',\n",
       " 'QWM[.hif',\n",
       " 'QCR[.qal',\n",
       " 'CPK[.qal',\n",
       " 'NKH[.hif',\n",
       " 'LBC[.qal',\n",
       " 'RWM[.piel',\n",
       " 'PTX[.nif',\n",
       " 'ZKR[.nif',\n",
       " 'JSP[.qal',\n",
       " 'LBC[.hif',\n",
       " 'G>L[.qal',\n",
       " 'NYL[.hif']"
      ]
     },
     "execution_count": 61,
     "metadata": {},
     "output_type": "execute_result"
    }
   ],
   "source": [
    "list(sim.columns)"
   ]
  },
  {
   "cell_type": "code",
   "execution_count": 76,
   "metadata": {},
   "outputs": [
    {
     "data": {
      "text/plain": [
       "0.033968472930099095"
      ]
     },
     "execution_count": 76,
     "metadata": {},
     "output_type": "execute_result"
    }
   ],
   "source": [
    "sim['PYH[.qal']['PTX[.qal']"
   ]
  },
  {
   "cell_type": "code",
   "execution_count": 84,
   "metadata": {},
   "outputs": [
    {
     "data": {
      "text/plain": [
       "HJH[.qal      1.000000\n",
       "NTN[.qal      0.392858\n",
       "<FH[.qal      0.375346\n",
       "BW>[.qal      0.374886\n",
       "JCB[.qal      0.352519\n",
       "JY>[.qal      0.346496\n",
       "CWB[.qal      0.342169\n",
       "<LH[.qal      0.341492\n",
       "NPL[.qal      0.329719\n",
       ">MR[.qal      0.328196\n",
       "HLK[.qal      0.327721\n",
       "<MD[.qal      0.322628\n",
       "<BR[.qal      0.319955\n",
       "QWM[.qal      0.319679\n",
       "DBR[.piel     0.311541\n",
       "MWT[.qal      0.305919\n",
       "QR>[.qal      0.305039\n",
       "R>H[.qal      0.293011\n",
       "MLK[.qal      0.292025\n",
       "CM<[.qal      0.289863\n",
       "LQX[.qal      0.289727\n",
       "FJM[.qal      0.285303\n",
       "JRD[.qal      0.284160\n",
       "CKB[.qal      0.282453\n",
       "CLX[.qal      0.278645\n",
       "BW>[.hif      0.276342\n",
       ">KL[.qal      0.276220\n",
       "NF>[.qal      0.270708\n",
       "BNH[.qal      0.262735\n",
       "YWH[.piel     0.261860\n",
       "                ...   \n",
       "<LZ[.qal      0.007063\n",
       "XLH[.piel     0.007045\n",
       "CMD[.nif      0.006999\n",
       "SGR[.qal      0.006894\n",
       "NDD[.qal      0.006666\n",
       "YPN[.qal      0.006480\n",
       "S<D[.qal      0.006359\n",
       ">MY[.piel     0.006278\n",
       "PQX[.qal      0.006038\n",
       "VBL[.qal      0.005816\n",
       "FB<[.hif      0.005576\n",
       ">TH[.qal      0.005561\n",
       "PTX[.nif      0.005125\n",
       "CPL[.hif      0.005015\n",
       "XWS[.qal      0.004308\n",
       "CNH[.qal      0.004115\n",
       "CVP[.qal      0.003940\n",
       "CGH[.qal      0.003897\n",
       "XLP[.qal      0.003397\n",
       "DRK[.hif      0.003338\n",
       "J<L[.hif      0.002867\n",
       "KN<[.hif      0.002704\n",
       "GWR==[.qal    0.002529\n",
       "PYH[.qal      0.002510\n",
       "NTQ[.nif      0.002352\n",
       "NB<[.hif      0.002086\n",
       "DK>[.piel     0.002053\n",
       "<RB[.qal      0.001928\n",
       "NTQ[.piel     0.001894\n",
       "NSK[.hif      0.001473\n",
       "Name: HJH[.qal, Length: 297, dtype: float64"
      ]
     },
     "execution_count": 84,
     "metadata": {},
     "output_type": "execute_result"
    }
   ],
   "source": [
    "sim['HJH[.qal'].sort_values(ascending=False)"
   ]
  },
  {
   "cell_type": "code",
   "execution_count": null,
   "metadata": {},
   "outputs": [],
   "source": []
  }
 ],
 "metadata": {
  "kernelspec": {
   "display_name": "Python 3",
   "language": "python",
   "name": "python3"
  },
  "language_info": {
   "codemirror_mode": {
    "name": "ipython",
    "version": 3
   },
   "file_extension": ".py",
   "mimetype": "text/x-python",
   "name": "python",
   "nbconvert_exporter": "python",
   "pygments_lexer": "ipython3",
   "version": "3.6.3"
  }
 },
 "nbformat": 4,
 "nbformat_minor": 2
}
